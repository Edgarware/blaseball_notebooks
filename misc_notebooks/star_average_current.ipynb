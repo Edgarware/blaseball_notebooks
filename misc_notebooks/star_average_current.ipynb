{
 "cells": [
  {
   "cell_type": "markdown",
   "source": [
    "# Team Star Average\n",
    "Below are graphs that show the current star averages for each team. This includes items."
   ],
   "metadata": {
    "collapsed": false,
    "pycharm": {
     "name": "#%% md\n"
    }
   }
  },
  {
   "cell_type": "code",
   "execution_count": 1,
   "metadata": {
    "collapsed": true
   },
   "outputs": [],
   "source": [
    "from blaseball_mike.models import SimulationData, League\n",
    "from statistics import mean\n",
    "import pandas\n",
    "from IPython.display import display, Markdown\n",
    "from plotly.graph_objects import Figure\n",
    "import plotly.io as _pio\n",
    "_pio.renderers.default = \"notebook_connected\""
   ]
  },
  {
   "cell_type": "code",
   "execution_count": 2,
   "outputs": [
    {
     "data": {
      "text/plain": "<IPython.core.display.Markdown object>",
      "text/markdown": "Last updated Short Circuit 3, Season 1, Day 56"
     },
     "metadata": {},
     "output_type": "display_data"
    }
   ],
   "source": [
    "sim = SimulationData.load()\n",
    "display(Markdown(f\"Last updated Short Circuit 3, Season {sim.season}, Day {sim.day}\"))"
   ],
   "metadata": {
    "collapsed": false,
    "pycharm": {
     "name": "#%%\n"
    }
   }
  },
  {
   "cell_type": "code",
   "execution_count": 3,
   "outputs": [
    {
     "name": "stderr",
     "output_type": "stream",
     "text": [
      "C:\\Users\\ryanl\\AppData\\Local\\Temp\\ipykernel_10988\\1759952091.py:18: FutureWarning:\n",
      "\n",
      "The frame.append method is deprecated and will be removed from pandas in a future version. Use pandas.concat instead.\n",
      "\n",
      "C:\\Users\\ryanl\\AppData\\Local\\Temp\\ipykernel_10988\\1759952091.py:18: FutureWarning:\n",
      "\n",
      "The frame.append method is deprecated and will be removed from pandas in a future version. Use pandas.concat instead.\n",
      "\n",
      "C:\\Users\\ryanl\\AppData\\Local\\Temp\\ipykernel_10988\\1759952091.py:18: FutureWarning:\n",
      "\n",
      "The frame.append method is deprecated and will be removed from pandas in a future version. Use pandas.concat instead.\n",
      "\n",
      "C:\\Users\\ryanl\\AppData\\Local\\Temp\\ipykernel_10988\\1759952091.py:18: FutureWarning:\n",
      "\n",
      "The frame.append method is deprecated and will be removed from pandas in a future version. Use pandas.concat instead.\n",
      "\n",
      "C:\\Users\\ryanl\\AppData\\Local\\Temp\\ipykernel_10988\\1759952091.py:18: FutureWarning:\n",
      "\n",
      "The frame.append method is deprecated and will be removed from pandas in a future version. Use pandas.concat instead.\n",
      "\n",
      "C:\\Users\\ryanl\\AppData\\Local\\Temp\\ipykernel_10988\\1759952091.py:18: FutureWarning:\n",
      "\n",
      "The frame.append method is deprecated and will be removed from pandas in a future version. Use pandas.concat instead.\n",
      "\n",
      "C:\\Users\\ryanl\\AppData\\Local\\Temp\\ipykernel_10988\\1759952091.py:18: FutureWarning:\n",
      "\n",
      "The frame.append method is deprecated and will be removed from pandas in a future version. Use pandas.concat instead.\n",
      "\n",
      "C:\\Users\\ryanl\\AppData\\Local\\Temp\\ipykernel_10988\\1759952091.py:18: FutureWarning:\n",
      "\n",
      "The frame.append method is deprecated and will be removed from pandas in a future version. Use pandas.concat instead.\n",
      "\n",
      "C:\\Users\\ryanl\\AppData\\Local\\Temp\\ipykernel_10988\\1759952091.py:18: FutureWarning:\n",
      "\n",
      "The frame.append method is deprecated and will be removed from pandas in a future version. Use pandas.concat instead.\n",
      "\n",
      "C:\\Users\\ryanl\\AppData\\Local\\Temp\\ipykernel_10988\\1759952091.py:18: FutureWarning:\n",
      "\n",
      "The frame.append method is deprecated and will be removed from pandas in a future version. Use pandas.concat instead.\n",
      "\n",
      "C:\\Users\\ryanl\\AppData\\Local\\Temp\\ipykernel_10988\\1759952091.py:18: FutureWarning:\n",
      "\n",
      "The frame.append method is deprecated and will be removed from pandas in a future version. Use pandas.concat instead.\n",
      "\n",
      "C:\\Users\\ryanl\\AppData\\Local\\Temp\\ipykernel_10988\\1759952091.py:18: FutureWarning:\n",
      "\n",
      "The frame.append method is deprecated and will be removed from pandas in a future version. Use pandas.concat instead.\n",
      "\n",
      "C:\\Users\\ryanl\\AppData\\Local\\Temp\\ipykernel_10988\\1759952091.py:18: FutureWarning:\n",
      "\n",
      "The frame.append method is deprecated and will be removed from pandas in a future version. Use pandas.concat instead.\n",
      "\n",
      "C:\\Users\\ryanl\\AppData\\Local\\Temp\\ipykernel_10988\\1759952091.py:18: FutureWarning:\n",
      "\n",
      "The frame.append method is deprecated and will be removed from pandas in a future version. Use pandas.concat instead.\n",
      "\n",
      "C:\\Users\\ryanl\\AppData\\Local\\Temp\\ipykernel_10988\\1759952091.py:18: FutureWarning:\n",
      "\n",
      "The frame.append method is deprecated and will be removed from pandas in a future version. Use pandas.concat instead.\n",
      "\n",
      "C:\\Users\\ryanl\\AppData\\Local\\Temp\\ipykernel_10988\\1759952091.py:18: FutureWarning:\n",
      "\n",
      "The frame.append method is deprecated and will be removed from pandas in a future version. Use pandas.concat instead.\n",
      "\n"
     ]
    },
    {
     "ename": "TypeError",
     "evalue": "unsupported operand type(s) for +: 'int' and 'NoneType'",
     "output_type": "error",
     "traceback": [
      "\u001B[1;31m---------------------------------------------------------------------------\u001B[0m",
      "\u001B[1;31mTypeError\u001B[0m                                 Traceback (most recent call last)",
      "Input \u001B[1;32mIn [3]\u001B[0m, in \u001B[0;36m<module>\u001B[1;34m\u001B[0m\n\u001B[0;32m     14\u001B[0m pitch_avg \u001B[38;5;241m=\u001B[39m mean([x\u001B[38;5;241m.\u001B[39mget_pitching_stars() \u001B[38;5;28;01mfor\u001B[39;00m x \u001B[38;5;129;01min\u001B[39;00m team\u001B[38;5;241m.\u001B[39mrotation])\n\u001B[0;32m     15\u001B[0m base_avg \u001B[38;5;241m=\u001B[39m mean([x\u001B[38;5;241m.\u001B[39mget_baserunning_stars() \u001B[38;5;28;01mfor\u001B[39;00m x \u001B[38;5;129;01min\u001B[39;00m team\u001B[38;5;241m.\u001B[39mlineup])\n\u001B[1;32m---> 16\u001B[0m def_avg \u001B[38;5;241m=\u001B[39m mean([x\u001B[38;5;241m.\u001B[39mget_defense_stars() \u001B[38;5;28;01mfor\u001B[39;00m x \u001B[38;5;129;01min\u001B[39;00m team\u001B[38;5;241m.\u001B[39mlineup])\n\u001B[0;32m     18\u001B[0m table \u001B[38;5;241m=\u001B[39m table\u001B[38;5;241m.\u001B[39mappend({\u001B[38;5;124m\"\u001B[39m\u001B[38;5;124mteam\u001B[39m\u001B[38;5;124m\"\u001B[39m: team\u001B[38;5;241m.\u001B[39mnickname, \u001B[38;5;124m\"\u001B[39m\u001B[38;5;124memoji\u001B[39m\u001B[38;5;124m\"\u001B[39m: parse_emoji(team\u001B[38;5;241m.\u001B[39memoji), \u001B[38;5;124m\"\u001B[39m\u001B[38;5;124mcolor\u001B[39m\u001B[38;5;124m\"\u001B[39m: team\u001B[38;5;241m.\u001B[39mmain_color,\n\u001B[0;32m     19\u001B[0m                       \u001B[38;5;124m\"\u001B[39m\u001B[38;5;124mbatting\u001B[39m\u001B[38;5;124m\"\u001B[39m: bat_avg, \u001B[38;5;124m\"\u001B[39m\u001B[38;5;124mpitching\u001B[39m\u001B[38;5;124m\"\u001B[39m: pitch_avg, \u001B[38;5;124m\"\u001B[39m\u001B[38;5;124mbaserunning\u001B[39m\u001B[38;5;124m\"\u001B[39m: base_avg, \u001B[38;5;124m\"\u001B[39m\u001B[38;5;124mdefense\u001B[39m\u001B[38;5;124m\"\u001B[39m: def_avg},\n\u001B[0;32m     20\u001B[0m                       ignore_index\u001B[38;5;241m=\u001B[39m\u001B[38;5;28;01mTrue\u001B[39;00m)\n",
      "Input \u001B[1;32mIn [3]\u001B[0m, in \u001B[0;36m<listcomp>\u001B[1;34m(.0)\u001B[0m\n\u001B[0;32m     14\u001B[0m pitch_avg \u001B[38;5;241m=\u001B[39m mean([x\u001B[38;5;241m.\u001B[39mget_pitching_stars() \u001B[38;5;28;01mfor\u001B[39;00m x \u001B[38;5;129;01min\u001B[39;00m team\u001B[38;5;241m.\u001B[39mrotation])\n\u001B[0;32m     15\u001B[0m base_avg \u001B[38;5;241m=\u001B[39m mean([x\u001B[38;5;241m.\u001B[39mget_baserunning_stars() \u001B[38;5;28;01mfor\u001B[39;00m x \u001B[38;5;129;01min\u001B[39;00m team\u001B[38;5;241m.\u001B[39mlineup])\n\u001B[1;32m---> 16\u001B[0m def_avg \u001B[38;5;241m=\u001B[39m mean([\u001B[43mx\u001B[49m\u001B[38;5;241;43m.\u001B[39;49m\u001B[43mget_defense_stars\u001B[49m\u001B[43m(\u001B[49m\u001B[43m)\u001B[49m \u001B[38;5;28;01mfor\u001B[39;00m x \u001B[38;5;129;01min\u001B[39;00m team\u001B[38;5;241m.\u001B[39mlineup])\n\u001B[0;32m     18\u001B[0m table \u001B[38;5;241m=\u001B[39m table\u001B[38;5;241m.\u001B[39mappend({\u001B[38;5;124m\"\u001B[39m\u001B[38;5;124mteam\u001B[39m\u001B[38;5;124m\"\u001B[39m: team\u001B[38;5;241m.\u001B[39mnickname, \u001B[38;5;124m\"\u001B[39m\u001B[38;5;124memoji\u001B[39m\u001B[38;5;124m\"\u001B[39m: parse_emoji(team\u001B[38;5;241m.\u001B[39memoji), \u001B[38;5;124m\"\u001B[39m\u001B[38;5;124mcolor\u001B[39m\u001B[38;5;124m\"\u001B[39m: team\u001B[38;5;241m.\u001B[39mmain_color,\n\u001B[0;32m     19\u001B[0m                       \u001B[38;5;124m\"\u001B[39m\u001B[38;5;124mbatting\u001B[39m\u001B[38;5;124m\"\u001B[39m: bat_avg, \u001B[38;5;124m\"\u001B[39m\u001B[38;5;124mpitching\u001B[39m\u001B[38;5;124m\"\u001B[39m: pitch_avg, \u001B[38;5;124m\"\u001B[39m\u001B[38;5;124mbaserunning\u001B[39m\u001B[38;5;124m\"\u001B[39m: base_avg, \u001B[38;5;124m\"\u001B[39m\u001B[38;5;124mdefense\u001B[39m\u001B[38;5;124m\"\u001B[39m: def_avg},\n\u001B[0;32m     20\u001B[0m                       ignore_index\u001B[38;5;241m=\u001B[39m\u001B[38;5;28;01mTrue\u001B[39;00m)\n",
      "File \u001B[1;32mc:\\users\\ryanl\\onedrive\\documents\\github\\blaseball_scripts\\venv\\lib\\site-packages\\blaseball_mike\\models\\player.py:273\u001B[0m, in \u001B[0;36mPlayer.get_defense_stars\u001B[1;34m(self, include_items, round_stars)\u001B[0m\n\u001B[0;32m    272\u001B[0m \u001B[38;5;28;01mdef\u001B[39;00m \u001B[38;5;21mget_defense_stars\u001B[39m(\u001B[38;5;28mself\u001B[39m, include_items\u001B[38;5;241m=\u001B[39m\u001B[38;5;28;01mTrue\u001B[39;00m, round_stars\u001B[38;5;241m=\u001B[39m\u001B[38;5;28;01mFalse\u001B[39;00m):\n\u001B[1;32m--> 273\u001B[0m     rate \u001B[38;5;241m=\u001B[39m \u001B[38;5;28;43mself\u001B[39;49m\u001B[38;5;241;43m.\u001B[39;49m\u001B[43mget_defense_rating\u001B[49m\u001B[43m(\u001B[49m\u001B[43minclude_items\u001B[49m\u001B[38;5;241;43m=\u001B[39;49m\u001B[43minclude_items\u001B[49m\u001B[43m)\u001B[49m\n\u001B[0;32m    274\u001B[0m     \u001B[38;5;28;01mif\u001B[39;00m round_stars:\n\u001B[0;32m    275\u001B[0m         \u001B[38;5;28;01mreturn\u001B[39;00m \u001B[38;5;28mself\u001B[39m\u001B[38;5;241m.\u001B[39m_rating_to_stars_discipline(rate)\n",
      "File \u001B[1;32mc:\\users\\ryanl\\onedrive\\documents\\github\\blaseball_scripts\\venv\\lib\\site-packages\\blaseball_mike\\models\\player.py:213\u001B[0m, in \u001B[0;36mPlayer.get_defense_rating\u001B[1;34m(self, include_items)\u001B[0m\n\u001B[0;32m    211\u001B[0m item_rating \u001B[38;5;241m=\u001B[39m \u001B[38;5;241m0\u001B[39m\n\u001B[0;32m    212\u001B[0m \u001B[38;5;28;01mif\u001B[39;00m include_items \u001B[38;5;129;01mand\u001B[39;00m \u001B[38;5;28mgetattr\u001B[39m(\u001B[38;5;28mself\u001B[39m, \u001B[38;5;124m\"\u001B[39m\u001B[38;5;124mitems\u001B[39m\u001B[38;5;124m\"\u001B[39m, \u001B[38;5;28;01mNone\u001B[39;00m) \u001B[38;5;129;01mis\u001B[39;00m \u001B[38;5;129;01mnot\u001B[39;00m \u001B[38;5;28;01mNone\u001B[39;00m:\n\u001B[1;32m--> 213\u001B[0m     item_rating \u001B[38;5;241m=\u001B[39m \u001B[38;5;28;43msum\u001B[39;49m\u001B[43m(\u001B[49m\u001B[43m[\u001B[49m\u001B[43mx\u001B[49m\u001B[38;5;241;43m.\u001B[39;49m\u001B[43mdefense_rating\u001B[49m\u001B[43m \u001B[49m\u001B[38;5;28;43;01mfor\u001B[39;49;00m\u001B[43m \u001B[49m\u001B[43mx\u001B[49m\u001B[43m \u001B[49m\u001B[38;5;129;43;01min\u001B[39;49;00m\u001B[43m \u001B[49m\u001B[38;5;28;43mself\u001B[39;49m\u001B[38;5;241;43m.\u001B[39;49m\u001B[43mitems\u001B[49m\u001B[43m]\u001B[49m\u001B[43m)\u001B[49m\n\u001B[0;32m    214\u001B[0m \u001B[38;5;28;01mreturn\u001B[39;00m item_rating \u001B[38;5;241m+\u001B[39m \u001B[38;5;28mself\u001B[39m\u001B[38;5;241m.\u001B[39mdefense_rating\n",
      "\u001B[1;31mTypeError\u001B[0m: unsupported operand type(s) for +: 'int' and 'NoneType'"
     ]
    }
   ],
   "source": [
    "def parse_emoji(val):\n",
    "    try:\n",
    "        return chr(int(val, 16))\n",
    "    except ValueError:\n",
    "        return val\n",
    "\n",
    "# Get a list of all the teams we care about\n",
    "teams = list(League.load().teams.values())\n",
    "teams.sort(key=lambda x: x.nickname)\n",
    "\n",
    "table = pandas.DataFrame()\n",
    "for team in teams:\n",
    "    bat_avg = mean([x.get_hitting_stars() for x in team.lineup])\n",
    "    pitch_avg = mean([x.get_pitching_stars() for x in team.rotation])\n",
    "    base_avg = mean([x.get_baserunning_stars() for x in team.lineup])\n",
    "    def_avg = mean([x.get_defense_stars() for x in team.lineup])\n",
    "\n",
    "    table = table.append({\"team\": team.nickname, \"emoji\": parse_emoji(team.emoji), \"color\": team.main_color,\n",
    "                          \"batting\": bat_avg, \"pitching\": pitch_avg, \"baserunning\": base_avg, \"defense\": def_avg},\n",
    "                          ignore_index=True)"
   ],
   "metadata": {
    "collapsed": false,
    "pycharm": {
     "name": "#%%\n"
    }
   }
  },
  {
   "cell_type": "code",
   "execution_count": null,
   "outputs": [],
   "source": [
    "\n",
    "# Plot it\n",
    "fig_dict = {\n",
    "    \"data\": [],\n",
    "    \"layout\": {},\n",
    "    \"frames\": []\n",
    "}\n",
    "\n",
    "# Make the graph layout & fancy play/pause buttons\n",
    "fig_dict[\"layout\"][\"title\"] = \"Average Stars - Batting vs Baserunning\"\n",
    "fig_dict[\"layout\"][\"xaxis\"] = {\"range\": [1.5, 3.5], \"title\": \"Batting Stars\"}\n",
    "fig_dict[\"layout\"][\"yaxis\"] = {\"range\": [1.5, 3.5], \"title\": \"Baserunning Stars\"}\n",
    "fig_dict[\"layout\"][\"height\"] = 675\n",
    "fig_dict[\"layout\"][\"hovermode\"] = \"closest\"\n",
    "fig_dict[\"layout\"][\"updatemenus\"] = [\n",
    "    {\n",
    "        \"buttons\": [\n",
    "            {\n",
    "                \"args\": [None, {\"frame\": {\"duration\": 250, \"redraw\": False},\n",
    "                                \"fromcurrent\": True, \"transition\": {\"duration\": 250, \"easing\": \"quadratic-in-out\"}}],\n",
    "                \"label\": \"▶\",\n",
    "                \"method\": \"animate\"\n",
    "            },\n",
    "            {\n",
    "                \"args\": [[None], {\"frame\": {\"duration\": 0, \"redraw\": False},\n",
    "                                  \"mode\": \"immediate\", \"transition\": {\"duration\": 0}}],\n",
    "                \"label\": \"⏸\",\n",
    "                \"method\": \"animate\"\n",
    "            }\n",
    "        ],\n",
    "        \"direction\": \"left\",\n",
    "        \"pad\": {\"r\": 10, \"t\": 67},\n",
    "        \"showactive\": False,\n",
    "        \"type\": \"buttons\",\n",
    "        \"x\": 0.1,\n",
    "        \"xanchor\": \"right\",\n",
    "        \"y\": 0,\n",
    "        \"yanchor\": \"top\"\n",
    "    }\n",
    "]\n",
    "\n",
    "sliders_dict = {\n",
    "    \"active\": 0,\n",
    "    \"yanchor\": \"top\",\n",
    "    \"xanchor\": \"left\",\n",
    "    \"currentvalue\": {\n",
    "        \"font\": {\"size\": 14},\n",
    "        \"visible\": True,\n",
    "        \"xanchor\": \"right\"\n",
    "    },\n",
    "    \"transition\": {\"duration\": 250, \"easing\": \"cubic-in-out\"},\n",
    "    \"pad\": {\"b\": 10, \"t\": 50},\n",
    "    \"len\": 0.9,\n",
    "    \"x\": 0.1,\n",
    "    \"y\": 0,\n",
    "    \"steps\": []\n",
    "}\n",
    "\n",
    "frame = {\"data\": [], \"name\": f\"Data\"}\n",
    "for team in table[\"team\"].unique():\n",
    "    teamset = table[table[\"team\"] == team]\n",
    "    data_dict = {\n",
    "        \"x\": list(teamset[\"batting\"]),\n",
    "        \"y\": list(teamset[\"baserunning\"]),\n",
    "        \"mode\": \"markers+text\",\n",
    "        \"marker\": {\n",
    "            \"color\": teamset[\"color\"],\n",
    "            \"size\": 36,\n",
    "            \"opacity\": 1,\n",
    "        },\n",
    "        \"name\": team,\n",
    "        \"text\": teamset[\"emoji\"],\n",
    "        \"textposition\": \"middle center\",\n",
    "        \"textfont_size\": 20\n",
    "    }\n",
    "\n",
    "    fig_dict[\"data\"].append(data_dict)\n",
    "    frame[\"data\"].append(data_dict)\n",
    "\n",
    "fig_dict[\"frames\"].append(frame)\n",
    "\n",
    "slider_step = {\n",
    "    \"args\": [\n",
    "        [frame[\"name\"]],\n",
    "        {\n",
    "            \"frame\": {\"duration\": 250, \"redraw\": False},\n",
    "            \"mode\": \"immediate\",\n",
    "            \"transition\": {\"duration\": 250}\n",
    "        }\n",
    "    ],\n",
    "    \"label\": frame[\"name\"],\n",
    "    \"method\": \"animate\"\n",
    "}\n",
    "sliders_dict[\"steps\"].append(slider_step)\n",
    "\n",
    "fig_dict[\"layout\"][\"sliders\"] = [sliders_dict]\n",
    "\n",
    "fig = Figure(fig_dict)\n",
    "fig.show()\n"
   ],
   "metadata": {
    "collapsed": false,
    "pycharm": {
     "name": "#%%\n"
    }
   }
  },
  {
   "cell_type": "code",
   "execution_count": null,
   "outputs": [],
   "source": [
    "# Do Defense & Baserunning too\n",
    "\n",
    "fig_dict[\"layout\"][\"title\"] = \"Average Stars - Defense vs Baserunning\"\n",
    "fig_dict[\"layout\"][\"xaxis\"] = {\"range\": [1, 3.5], \"title\": \"Pitching Stars\"}\n",
    "fig_dict[\"layout\"][\"yaxis\"] = {\"range\": [1.5, 4], \"title\": \"Defense Stars\"}\n",
    "fig_dict[\"data\"] = []\n",
    "fig_dict[\"frames\"] = []\n",
    "sliders_dict[\"steps\"] = []\n",
    "\n",
    "\n",
    "frame = {\"data\": [], \"name\": f\"Data\"}\n",
    "for team in table[\"team\"].unique():\n",
    "    teamset = table[table[\"team\"] == team]\n",
    "    data_dict = {\n",
    "        \"x\": list(teamset[\"pitching\"]),\n",
    "        \"y\": list(teamset[\"defense\"]),\n",
    "        \"mode\": \"markers+text\",\n",
    "        \"marker\": {\n",
    "            \"color\": teamset[\"color\"],\n",
    "            \"size\": 36,\n",
    "            \"opacity\": 1,\n",
    "        },\n",
    "        \"name\": team,\n",
    "        \"text\": teamset[\"emoji\"],\n",
    "        \"textposition\": \"middle center\",\n",
    "        \"textfont_size\": 20\n",
    "    }\n",
    "\n",
    "    fig_dict[\"data\"].append(data_dict)\n",
    "    frame[\"data\"].append(data_dict)\n",
    "\n",
    "fig_dict[\"frames\"].append(frame)\n",
    "\n",
    "slider_step = {\n",
    "    \"args\": [\n",
    "        [frame[\"name\"]],\n",
    "        {\n",
    "            \"frame\": {\"duration\": 250, \"redraw\": False},\n",
    "            \"mode\": \"immediate\",\n",
    "            \"transition\": {\"duration\": 250}\n",
    "        }\n",
    "    ],\n",
    "    \"label\": frame[\"name\"],\n",
    "    \"method\": \"animate\"\n",
    "}\n",
    "sliders_dict[\"steps\"].append(slider_step)\n",
    "\n",
    "fig_dict[\"layout\"][\"sliders\"] = [sliders_dict]\n",
    "\n",
    "fig = Figure(fig_dict)\n",
    "fig.show()"
   ],
   "metadata": {
    "collapsed": false,
    "pycharm": {
     "name": "#%%\n"
    }
   }
  }
 ],
 "metadata": {
  "kernelspec": {
   "display_name": "Python 3",
   "language": "python",
   "name": "python3"
  },
  "language_info": {
   "codemirror_mode": {
    "name": "ipython",
    "version": 2
   },
   "file_extension": ".py",
   "mimetype": "text/x-python",
   "name": "python",
   "nbconvert_exporter": "python",
   "pygments_lexer": "ipython2",
   "version": "2.7.6"
  }
 },
 "nbformat": 4,
 "nbformat_minor": 0
}