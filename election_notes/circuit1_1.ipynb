{
 "cells": [
  {
   "cell_type": "markdown",
   "id": "dc5361dc",
   "metadata": {},
   "source": [
    "# Short Circuit 1: Season 1 Election Notes\n",
    "\n",
    ">**FORBIDDEN KNOWLEDGE WARNING**\n",
    ">\n",
    ">This document contains some information that is not currently present on the main site and may be considered spoilers.\n",
    ">Continue at your own discretion. Some information in this document cannot be shared on the Discord without spoiler tags.\n"
   ]
  },
  {
   "cell_type": "code",
   "execution_count": 1,
   "id": "6b243a31",
   "metadata": {},
   "outputs": [
    {
     "data": {
      "text/plain": "<IPython.core.display.Markdown object>",
      "text/markdown": "**Last Updated Season 1, Day 0**"
     },
     "metadata": {},
     "output_type": "display_data"
    }
   ],
   "source": [
    "import pandas\n",
    "%matplotlib inline\n",
    "from blaseball_mike.models import *\n",
    "from blaseball_mike.tables import StatType\n",
    "import plotly.express as plot\n",
    "import plotly.io as _pio\n",
    "import plotly.subplots as subplot\n",
    "from IPython.display import display, Markdown\n",
    "from copy import deepcopy\n",
    "\n",
    "import os\n",
    "import sys\n",
    "pdir = os.path.abspath(os.path.join(os.path.dirname(''), os.path.pardir))\n",
    "sys.path.append(pdir)\n",
    "from display import *\n",
    "from blessings import *\n",
    "sys.path.remove(pdir)\n",
    "\n",
    "_pio.renderers.default = \"notebook_connected\"\n",
    "\n",
    "league = League.load()\n",
    "pies = [x for x in league.teams.values() if x.full_name == \"Philly Pies\"][0]\n",
    "\n",
    "sim = SimulationData.load()\n",
    "display(Markdown(f\"**Last Updated Season {sim.season}, Day {sim.day}**\"))"
   ]
  },
  {
   "cell_type": "markdown",
   "id": "2a061310",
   "metadata": {},
   "source": [
    "---\n",
    "## Amplifications\n",
    "\n",
    "Amplification are chosen by majority votes for each team. Each team will receive `1` amplification.\n",
    "\n",
    "\n",
    "**Your Team's Lineup will receive a Small Batting Boost.**\n",
    "\n",
    "**Your Team's Rotation will receive a Small Pitching Boost.**\n",
    "\n",
    "**Your Team's Lineup will receive a Large Baserunning Boost.**\n",
    "\n",
    "**Your Team's Lineup will receive a Large Defense Boost.**\n",
    "\n",
    "All the Amplifications will boost team-wide stats in one area. It is unknown what the difference between \"Small\" and\n",
    "\"Large\" is.\n"
   ]
  },
  {
   "cell_type": "markdown",
   "id": "f4bf0ad9",
   "metadata": {},
   "source": [
    "___\n",
    "## Distortions\n",
    "\n",
    "Distortions are selected by raffle across all teams. Each distortion will be awarded to one random team, where teams with\n",
    "more votes are more likely to be selected. Teams may only receive at most 1 distortion."
   ]
  },
  {
   "cell_type": "markdown",
   "id": "5c780b47",
   "metadata": {},
   "source": [
    "### Fire Blood\n",
    "\n",
    "**Give a random Player in your Team's Rotation Fire Blood.**\n",
    "\n",
    "Fire Blood grants the \"Fiery\" Modification which has the description \"This Player has a chance of throwing Double\n",
    "Strikes.\""
   ]
  },
  {
   "cell_type": "markdown",
   "id": "ff3309d8",
   "metadata": {},
   "source": [
    "### Electric Blood\n",
    "\n",
    "**Give a random Player in your Team's Rotation Electric Blood.**\n",
    "\n",
    "Electric Blood grants the \"Electric\" Modification which has the description \"When this Player is Pitching, they'll have\n",
    "a chance of zapping away Balls.\""
   ]
  },
  {
   "cell_type": "markdown",
   "id": "0dbf2396",
   "metadata": {},
   "source": [
    "### Strike Blood\n",
    "\n",
    "**Give a random Player in your Team's Lineup Strike Blood.**\n",
    "\n",
    "Strike is one of the 2 new bloods, so the effect is unknown."
   ]
  },
  {
   "cell_type": "markdown",
   "id": "e9ba4d29",
   "metadata": {},
   "source": [
    "### Ball Blood\n",
    "\n",
    "**Give a random Player in your Team's Lineup Ball Blood.**\n",
    "\n",
    "Ball is one of the 2 new bloods, so the effect is unknown."
   ]
  },
  {
   "cell_type": "markdown",
   "id": "974751aa",
   "metadata": {},
   "source": [
    "### Arm Cannon\n",
    "\n",
    "**Give the Arm Cannon to a random Player in your Team's Rotation.**\n",
    "\n",
    "This would award a random pitcher with the Arm Cannon Item.\n"
   ]
  },
  {
   "cell_type": "markdown",
   "id": "4e31234f",
   "metadata": {},
   "source": [
    "### Gunblade Bat\n",
    "\n",
    "**Give the Gunblade Bat to a random Player in your Team's Lineup.**\n",
    "\n",
    "This would award a random batter with the Gunblade Bat Item."
   ]
  },
  {
   "cell_type": "markdown",
   "id": "71063f4c",
   "metadata": {},
   "source": [
    "### Rocket Shoes\n",
    "\n",
    "**Give Rocket Shoes to a random Player in your Team's Lineup.**\n",
    "\n",
    "This would award a random batter with the Rocket Shoes Item."
   ]
  },
  {
   "cell_type": "markdown",
   "id": "303e0a17",
   "metadata": {},
   "source": [
    "### Catcher's Mitt\n",
    "\n",
    "**Give Catcher's Mitt to a random Player in your Team's Lineup.**\n",
    "\n",
    "This would award a random batter with the Catcher's Mitt Item."
   ]
  },
  {
   "cell_type": "markdown",
   "id": "8f058acc",
   "metadata": {},
   "source": [
    "### Lead Investment\n",
    "\n",
    "**Move the Best Batter in your Team's Lineup to first in the Lineup.**\n",
    "\n",
    "See below for analysis."
   ]
  },
  {
   "cell_type": "code",
   "execution_count": 2,
   "id": "da35f544",
   "metadata": {},
   "outputs": [
    {
     "data": {
      "text/plain": "'Move Worf Hatchler to the first slot in the lineup.'"
     },
     "metadata": {},
     "output_type": "display_data"
    },
    {
     "data": {
      "text/plain": "<pandas.io.formats.style.Styler at 0x19411b06580>",
      "text/html": "<style type=\"text/css\">\n#T_8ee47_row0_col0 {\n  background-color: #9bd469;\n  color: #000000;\n}\n#T_8ee47_row0_col1 {\n  background-color: #0c7f43;\n  color: #f1f1f1;\n}\n#T_8ee47_row0_col2 {\n  background-color: #b3df72;\n  color: #000000;\n}\n#T_8ee47_row0_col3 {\n  background-color: #dcf08f;\n  color: #000000;\n}\n#T_8ee47_row0_col4 {\n  background-color: #fff3ac;\n  color: #000000;\n}\n#T_8ee47_row0_col5 {\n  background-color: #dff293;\n  color: #000000;\n  background-color: #fee593;\n  color: #000000;\n}\n#T_8ee47_row0_col6 {\n  background-color: #f99153;\n  color: #000000;\n}\n#T_8ee47_row0_col7 {\n  background-color: #fff2aa;\n  color: #000000;\n  background-color: #eff8aa;\n  color: #000000;\n}\n#T_8ee47_row0_col8 {\n  background-color: #fdc574;\n  color: #000000;\n}\n#T_8ee47_row1_col0 {\n  background-color: #fff2aa;\n  color: #000000;\n}\n#T_8ee47_row1_col1 {\n  background-color: #3faa59;\n  color: #f1f1f1;\n}\n#T_8ee47_row1_col2 {\n  background-color: #f99355;\n  color: #000000;\n}\n#T_8ee47_row1_col3 {\n  background-color: #fdc776;\n  color: #000000;\n}\n#T_8ee47_row1_col4 {\n  background-color: #fedc88;\n  color: #000000;\n}\n#T_8ee47_row1_col5 {\n  background-color: #fff3ac;\n  color: #000000;\n  background-color: #f1f9ac;\n  color: #000000;\n}\n#T_8ee47_row1_col6 {\n  background-color: #eef8a8;\n  color: #000000;\n}\n#T_8ee47_row1_col7 {\n  background-color: #006837;\n  color: #f1f1f1;\n  background-color: #a50026;\n  color: #f1f1f1;\n}\n#T_8ee47_row1_col8 {\n  background-color: #097940;\n  color: #f1f1f1;\n}\n#T_8ee47_row2_col0 {\n  background-color: #b91326;\n  color: #f1f1f1;\n}\n#T_8ee47_row2_col1 {\n  background-color: #a50026;\n  color: #f1f1f1;\n}\n#T_8ee47_row2_col2 {\n  background-color: #fffab6;\n  color: #000000;\n}\n#T_8ee47_row2_col3 {\n  background-color: #e9f6a1;\n  color: #000000;\n}\n#T_8ee47_row2_col4 {\n  background-color: #f57748;\n  color: #f1f1f1;\n}\n#T_8ee47_row2_col5 {\n  background-color: #30a356;\n  color: #f1f1f1;\n  background-color: #e0422f;\n  color: #f1f1f1;\n}\n#T_8ee47_row2_col6 {\n  background-color: #42ac5a;\n  color: #f1f1f1;\n}\n#T_8ee47_row2_col7 {\n  background-color: #fa9656;\n  color: #000000;\n  background-color: #8ecf67;\n  color: #000000;\n}\n#T_8ee47_row2_col8 {\n  background-color: #82c966;\n  color: #000000;\n}\n#T_8ee47_row3_col0 {\n  background-color: #fff1a8;\n  color: #000000;\n}\n#T_8ee47_row3_col1 {\n  background-color: #feffbe;\n  color: #000000;\n}\n#T_8ee47_row3_col2 {\n  background-color: #feda86;\n  color: #000000;\n}\n#T_8ee47_row3_col3, #T_8ee47_row8_col3 {\n  background-color: #33a456;\n  color: #f1f1f1;\n}\n#T_8ee47_row3_col4 {\n  background-color: #d9ef8b;\n  color: #000000;\n}\n#T_8ee47_row3_col5 {\n  background-color: #36a657;\n  color: #f1f1f1;\n  background-color: #e24731;\n  color: #f1f1f1;\n}\n#T_8ee47_row3_col6 {\n  background-color: #b71126;\n  color: #f1f1f1;\n}\n#T_8ee47_row3_col7 {\n  background-color: #fff5ae;\n  color: #000000;\n  background-color: #f2faae;\n  color: #000000;\n}\n#T_8ee47_row3_col8 {\n  background-color: #feefa3;\n  color: #000000;\n}\n#T_8ee47_row4_col0 {\n  background-color: #fb9d59;\n  color: #000000;\n}\n#T_8ee47_row4_col1 {\n  background-color: #fdb365;\n  color: #000000;\n}\n#T_8ee47_row4_col2 {\n  background-color: #da362a;\n  color: #f1f1f1;\n}\n#T_8ee47_row4_col3 {\n  background-color: #bde379;\n  color: #000000;\n}\n#T_8ee47_row4_col4 {\n  background-color: #bbe278;\n  color: #000000;\n}\n#T_8ee47_row4_col5 {\n  background-color: #c62027;\n  color: #f1f1f1;\n  background-color: #118848;\n  color: #f1f1f1;\n}\n#T_8ee47_row4_col6, #T_8ee47_row7_col4 {\n  background-color: #ce2827;\n  color: #f1f1f1;\n}\n#T_8ee47_row4_col7 {\n  background-color: #fdb768;\n  color: #000000;\n  background-color: #afdd70;\n  color: #000000;\n}\n#T_8ee47_row4_col8 {\n  background-color: #fffcba;\n  color: #000000;\n}\n#T_8ee47_row5_col0, #T_8ee47_row5_col3 {\n  background-color: #f1f9ac;\n  color: #000000;\n}\n#T_8ee47_row5_col1 {\n  background-color: #fba05b;\n  color: #000000;\n}\n#T_8ee47_row5_col2, #T_8ee47_row8_col6 {\n  background-color: #2aa054;\n  color: #f1f1f1;\n}\n#T_8ee47_row5_col4, #T_8ee47_row6_col6 {\n  background-color: #d7ee8a;\n  color: #000000;\n}\n#T_8ee47_row5_col5 {\n  background-color: #e3f399;\n  color: #000000;\n  background-color: #fee999;\n  color: #000000;\n}\n#T_8ee47_row5_col6 {\n  background-color: #148e4b;\n  color: #f1f1f1;\n}\n#T_8ee47_row5_col7 {\n  background-color: #fdb365;\n  color: #000000;\n  background-color: #abdb6d;\n  color: #000000;\n}\n#T_8ee47_row5_col8 {\n  background-color: #f4fab0;\n  color: #000000;\n}\n#T_8ee47_row6_col0 {\n  background-color: #e8f59f;\n  color: #000000;\n}\n#T_8ee47_row6_col1 {\n  background-color: #fff8b4;\n  color: #000000;\n}\n#T_8ee47_row6_col2 {\n  background-color: #c3e67d;\n  color: #000000;\n}\n#T_8ee47_row6_col3 {\n  background-color: #fed884;\n  color: #000000;\n}\n#T_8ee47_row6_col4 {\n  background-color: #feea9b;\n  color: #000000;\n}\n#T_8ee47_row6_col5 {\n  background-color: #fdb567;\n  color: #000000;\n  background-color: #addc6f;\n  color: #000000;\n}\n#T_8ee47_row6_col7 {\n  background-color: #fffdbc;\n  color: #000000;\n  background-color: #fdfebc;\n  color: #000000;\n}\n#T_8ee47_row6_col8 {\n  background-color: #ab0626;\n  color: #f1f1f1;\n}\n#T_8ee47_row7_col0 {\n  background-color: #f16640;\n  color: #f1f1f1;\n}\n#T_8ee47_row7_col1 {\n  background-color: #ea5739;\n  color: #f1f1f1;\n}\n#T_8ee47_row7_col2 {\n  background-color: #e24731;\n  color: #f1f1f1;\n}\n#T_8ee47_row7_col3 {\n  background-color: #fed27f;\n  color: #000000;\n}\n#T_8ee47_row7_col5 {\n  background-color: #fdb96a;\n  color: #000000;\n  background-color: #b1de71;\n  color: #000000;\n}\n#T_8ee47_row7_col6 {\n  background-color: #b10b26;\n  color: #f1f1f1;\n}\n#T_8ee47_row7_col7 {\n  background-color: #ee613e;\n  color: #f1f1f1;\n  background-color: #57b65f;\n  color: #f1f1f1;\n}\n#T_8ee47_row7_col8 {\n  background-color: #73c264;\n  color: #000000;\n}\n#T_8ee47_row8_col0 {\n  background-color: #fffdbc;\n  color: #000000;\n}\n#T_8ee47_row8_col1 {\n  background-color: #a7d96b;\n  color: #000000;\n}\n#T_8ee47_row8_col2 {\n  background-color: #fee797;\n  color: #000000;\n}\n#T_8ee47_row8_col4 {\n  background-color: #bd1726;\n  color: #f1f1f1;\n}\n#T_8ee47_row8_col5 {\n  background-color: #fee695;\n  color: #000000;\n  background-color: #e0f295;\n  color: #000000;\n}\n#T_8ee47_row8_col7 {\n  background-color: #84ca66;\n  color: #000000;\n  background-color: #f88c51;\n  color: #f1f1f1;\n}\n#T_8ee47_row8_col8 {\n  background-color: #fed481;\n  color: #000000;\n}\n</style>\n<table id=\"T_8ee47_\">\n  <thead>\n    <tr>\n      <th class=\"blank level0\" >&nbsp;</th>\n      <th class=\"col_heading level0 col0\" >Batting Rating</th>\n      <th class=\"col_heading level0 col1\" >Thwackability</th>\n      <th class=\"col_heading level0 col2\" >Divinity</th>\n      <th class=\"col_heading level0 col3\" >Musclitude</th>\n      <th class=\"col_heading level0 col4\" >Moxie</th>\n      <th class=\"col_heading level0 col5\" >Patheticism</th>\n      <th class=\"col_heading level0 col6\" >Martyrdom</th>\n      <th class=\"col_heading level0 col7\" >Tragicness</th>\n      <th class=\"col_heading level0 col8\" >Buoyancy</th>\n    </tr>\n  </thead>\n  <tbody>\n    <tr>\n      <th id=\"T_8ee47_level0_row0\" class=\"row_heading level0 row0\" >Worf Hatchler</th>\n      <td id=\"T_8ee47_row0_col0\" class=\"data row0 col0\" >0.718041</td>\n      <td id=\"T_8ee47_row0_col1\" class=\"data row0 col1\" >0.950081</td>\n      <td id=\"T_8ee47_row0_col2\" class=\"data row0 col2\" >0.672136</td>\n      <td id=\"T_8ee47_row0_col3\" class=\"data row0 col3\" >0.591004</td>\n      <td id=\"T_8ee47_row0_col4\" class=\"data row0 col4\" >0.463866</td>\n      <td id=\"T_8ee47_row0_col5\" class=\"data row0 col5\" >0.584336</td>\n      <td id=\"T_8ee47_row0_col6\" class=\"data row0 col6\" >0.256903</td>\n      <td id=\"T_8ee47_row0_col7\" class=\"data row0 col7\" >0.457766</td>\n      <td id=\"T_8ee47_row0_col8\" class=\"data row0 col8\" >0.346630</td>\n    </tr>\n    <tr>\n      <th id=\"T_8ee47_level0_row1\" class=\"row_heading level0 row1\" >Magma Projector</th>\n      <td id=\"T_8ee47_row1_col0\" class=\"data row1 col0\" >0.459058</td>\n      <td id=\"T_8ee47_row1_col1\" class=\"data row1 col1\" >0.851396</td>\n      <td id=\"T_8ee47_row1_col2\" class=\"data row1 col2\" >0.261210</td>\n      <td id=\"T_8ee47_row1_col3\" class=\"data row1 col3\" >0.348121</td>\n      <td id=\"T_8ee47_row1_col4\" class=\"data row1 col4\" >0.393707</td>\n      <td id=\"T_8ee47_row1_col5\" class=\"data row1 col5\" >0.464666</td>\n      <td id=\"T_8ee47_row1_col6\" class=\"data row1 col6\" >0.543143</td>\n      <td id=\"T_8ee47_row1_col7\" class=\"data row1 col7\" >0.997501</td>\n      <td id=\"T_8ee47_row1_col8\" class=\"data row1 col8\" >0.964074</td>\n    </tr>\n    <tr>\n      <th id=\"T_8ee47_level0_row2\" class=\"row_heading level0 row2\" >Lance Anthemum</th>\n      <td id=\"T_8ee47_row2_col0\" class=\"data row2 col0\" >0.040804</td>\n      <td id=\"T_8ee47_row2_col1\" class=\"data row2 col1\" >0.000475</td>\n      <td id=\"T_8ee47_row2_col2\" class=\"data row2 col2\" >0.482953</td>\n      <td id=\"T_8ee47_row2_col3\" class=\"data row2 col3\" >0.558319</td>\n      <td id=\"T_8ee47_row2_col4\" class=\"data row2 col4\" >0.218143</td>\n      <td id=\"T_8ee47_row2_col5\" class=\"data row2 col5\" >0.869002</td>\n      <td id=\"T_8ee47_row2_col6\" class=\"data row2 col6\" >0.846691</td>\n      <td id=\"T_8ee47_row2_col7\" class=\"data row2 col7\" >0.262651</td>\n      <td id=\"T_8ee47_row2_col8\" class=\"data row2 col8\" >0.757512</td>\n    </tr>\n    <tr>\n      <th id=\"T_8ee47_level0_row3\" class=\"row_heading level0 row3\" >Maria Lin</th>\n      <td id=\"T_8ee47_row3_col0\" class=\"data row3 col0\" >0.453856</td>\n      <td id=\"T_8ee47_row3_col1\" class=\"data row3 col1\" >0.503086</td>\n      <td id=\"T_8ee47_row3_col2\" class=\"data row3 col2\" >0.390041</td>\n      <td id=\"T_8ee47_row3_col3\" class=\"data row3 col3\" >0.863518</td>\n      <td id=\"T_8ee47_row3_col4\" class=\"data row3 col4\" >0.601501</td>\n      <td id=\"T_8ee47_row3_col5\" class=\"data row3 col5\" >0.861243</td>\n      <td id=\"T_8ee47_row3_col6\" class=\"data row3 col6\" >0.037214</td>\n      <td id=\"T_8ee47_row3_col7\" class=\"data row3 col7\" >0.467341</td>\n      <td id=\"T_8ee47_row3_col8\" class=\"data row3 col8\" >0.449169</td>\n    </tr>\n    <tr>\n      <th id=\"T_8ee47_level0_row4\" class=\"row_heading level0 row4\" >Mugs Dropper</th>\n      <td id=\"T_8ee47_row4_col0\" class=\"data row4 col0\" >0.273535</td>\n      <td id=\"T_8ee47_row4_col1\" class=\"data row4 col1\" >0.309323</td>\n      <td id=\"T_8ee47_row4_col2\" class=\"data row4 col2\" >0.112244</td>\n      <td id=\"T_8ee47_row4_col3\" class=\"data row4 col3\" >0.653758</td>\n      <td id=\"T_8ee47_row4_col4\" class=\"data row4 col4\" >0.659843</td>\n      <td id=\"T_8ee47_row4_col5\" class=\"data row4 col5\" >0.068277</td>\n      <td id=\"T_8ee47_row4_col6\" class=\"data row4 col6\" >0.083171</td>\n      <td id=\"T_8ee47_row4_col7\" class=\"data row4 col7\" >0.318857</td>\n      <td id=\"T_8ee47_row4_col8\" class=\"data row4 col8\" >0.488464</td>\n    </tr>\n    <tr>\n      <th id=\"T_8ee47_level0_row5\" class=\"row_heading level0 row5\" >Chrys McGhee</th>\n      <td id=\"T_8ee47_row5_col0\" class=\"data row5 col0\" >0.536418</td>\n      <td id=\"T_8ee47_row5_col1\" class=\"data row5 col1\" >0.280475</td>\n      <td id=\"T_8ee47_row5_col2\" class=\"data row5 col2\" >0.877597</td>\n      <td id=\"T_8ee47_row5_col3\" class=\"data row5 col3\" >0.538791</td>\n      <td id=\"T_8ee47_row5_col4\" class=\"data row5 col4\" >0.602464</td>\n      <td id=\"T_8ee47_row5_col5\" class=\"data row5 col5\" >0.571543</td>\n      <td id=\"T_8ee47_row5_col6\" class=\"data row5 col6\" >0.918841</td>\n      <td id=\"T_8ee47_row5_col7\" class=\"data row5 col7\" >0.312086</td>\n      <td id=\"T_8ee47_row5_col8\" class=\"data row5 col8\" >0.527615</td>\n    </tr>\n    <tr>\n      <th id=\"T_8ee47_level0_row6\" class=\"row_heading level0 row6\" >Eva Roche</th>\n      <td id=\"T_8ee47_row6_col0\" class=\"data row6 col0\" >0.558674</td>\n      <td id=\"T_8ee47_row6_col1\" class=\"data row6 col1\" >0.479421</td>\n      <td id=\"T_8ee47_row6_col2\" class=\"data row6 col2\" >0.643668</td>\n      <td id=\"T_8ee47_row6_col3\" class=\"data row6 col3\" >0.383185</td>\n      <td id=\"T_8ee47_row6_col4\" class=\"data row6 col4\" >0.431371</td>\n      <td id=\"T_8ee47_row6_col5\" class=\"data row6 col5\" >0.313640</td>\n      <td id=\"T_8ee47_row6_col6\" class=\"data row6 col6\" >0.604652</td>\n      <td id=\"T_8ee47_row6_col7\" class=\"data row6 col7\" >0.493201</td>\n      <td id=\"T_8ee47_row6_col8\" class=\"data row6 col8\" >0.011742</td>\n    </tr>\n    <tr>\n      <th id=\"T_8ee47_level0_row7\" class=\"row_heading level0 row7\" >Buck Yuniesky</th>\n      <td id=\"T_8ee47_row7_col0\" class=\"data row7 col0\" >0.187877</td>\n      <td id=\"T_8ee47_row7_col1\" class=\"data row7 col1\" >0.167948</td>\n      <td id=\"T_8ee47_row7_col2\" class=\"data row7 col2\" >0.138737</td>\n      <td id=\"T_8ee47_row7_col3\" class=\"data row7 col3\" >0.373232</td>\n      <td id=\"T_8ee47_row7_col4\" class=\"data row7 col4\" >0.083748</td>\n      <td id=\"T_8ee47_row7_col5\" class=\"data row7 col5\" >0.323448</td>\n      <td id=\"T_8ee47_row7_col6\" class=\"data row7 col6\" >0.023790</td>\n      <td id=\"T_8ee47_row7_col7\" class=\"data row7 col7\" >0.181509</td>\n      <td id=\"T_8ee47_row7_col8\" class=\"data row7 col8\" >0.777762</td>\n    </tr>\n    <tr>\n      <th id=\"T_8ee47_level0_row8\" class=\"row_heading level0 row8\" >Whiskers Falconer</th>\n      <td id=\"T_8ee47_row8_col0\" class=\"data row8 col0\" >0.493468</td>\n      <td id=\"T_8ee47_row8_col1\" class=\"data row8 col1\" >0.695906</td>\n      <td id=\"T_8ee47_row8_col2\" class=\"data row8 col2\" >0.423098</td>\n      <td id=\"T_8ee47_row8_col3\" class=\"data row8 col3\" >0.866845</td>\n      <td id=\"T_8ee47_row8_col4\" class=\"data row8 col4\" >0.050597</td>\n      <td id=\"T_8ee47_row8_col5\" class=\"data row8 col5\" >0.419942</td>\n      <td id=\"T_8ee47_row8_col6\" class=\"data row8 col6\" >0.875366</td>\n      <td id=\"T_8ee47_row8_col7\" class=\"data row8 col7\" >0.752295</td>\n      <td id=\"T_8ee47_row8_col8\" class=\"data row8 col8\" >0.377555</td>\n    </tr>\n  </tbody>\n</table>\n"
     },
     "metadata": {},
     "output_type": "display_data"
    }
   ],
   "source": [
    "temp_pies = pies.lineup.copy()\n",
    "temp_pies.sort(key=lambda x: x.get_hitting_rating(), reverse=True)\n",
    "best_bat = temp_pies[0]\n",
    "display(f\"Move {best_bat.name} to the first slot in the lineup.\")\n",
    "rest_of_them = [x for x in pies.lineup if x.id != best_bat.id]\n",
    "display(set_heatmap(get_batting_stlats([best_bat] + rest_of_them), maxVal=1.0))"
   ]
  },
  {
   "cell_type": "markdown",
   "id": "6e7b3e34",
   "metadata": {},
   "source": [
    "### Default Swap\n",
    "\n",
    "**Swap the Worst Batter in your Team's Lineup with the Worst Pitcher in your Team's Rotation.**\n",
    "\n",
    "See below for analysis."
   ]
  },
  {
   "cell_type": "code",
   "execution_count": 3,
   "id": "643f3b27",
   "metadata": {},
   "outputs": [
    {
     "data": {
      "text/plain": "'Swap Lance Anthemum to rotation and Stacy Heartfield to lineup.'"
     },
     "metadata": {},
     "output_type": "display_data"
    },
    {
     "data": {
      "text/plain": "                        Pies\nbatting_change      +5.3142%\npitching_change     +1.1559%\nbaserunning_change  +5.3727%\ndefense_change      +2.3759%",
      "text/html": "<div>\n<style scoped>\n    .dataframe tbody tr th:only-of-type {\n        vertical-align: middle;\n    }\n\n    .dataframe tbody tr th {\n        vertical-align: top;\n    }\n\n    .dataframe thead th {\n        text-align: right;\n    }\n</style>\n<table border=\"1\" class=\"dataframe\">\n  <thead>\n    <tr style=\"text-align: right;\">\n      <th></th>\n      <th>Pies</th>\n    </tr>\n  </thead>\n  <tbody>\n    <tr>\n      <th>batting_change</th>\n      <td>+5.3142%</td>\n    </tr>\n    <tr>\n      <th>pitching_change</th>\n      <td>+1.1559%</td>\n    </tr>\n    <tr>\n      <th>baserunning_change</th>\n      <td>+5.3727%</td>\n    </tr>\n    <tr>\n      <th>defense_change</th>\n      <td>+2.3759%</td>\n    </tr>\n  </tbody>\n</table>\n</div>"
     },
     "metadata": {},
     "output_type": "display_data"
    },
    {
     "data": {
      "text/plain": "<pandas.io.formats.style.Styler at 0x19411b062e0>",
      "text/html": "<style type=\"text/css\">\n#T_81063_row0_col0 {\n  background-color: #f8fcb6;\n  color: #000000;\n}\n#T_81063_row0_col1 {\n  background-color: #219c52;\n  color: #f1f1f1;\n}\n#T_81063_row0_col2 {\n  background-color: #fba35c;\n  color: #000000;\n}\n#T_81063_row0_col3 {\n  background-color: #c5e67e;\n  color: #000000;\n}\n#T_81063_row0_col4 {\n  background-color: #f67c4a;\n  color: #f1f1f1;\n}\n#T_81063_row0_col5 {\n  background-color: #a50026;\n  color: #f1f1f1;\n  background-color: #006837;\n  color: #f1f1f1;\n}\n#T_81063_row0_col6 {\n  background-color: #fdc171;\n  color: #000000;\n}\n#T_81063_row0_col7 {\n  background-color: #f2faae;\n  color: #000000;\n  background-color: #fff5ae;\n  color: #000000;\n}\n#T_81063_row0_col8 {\n  background-color: #a7d96b;\n  color: #000000;\n}\n</style>\n<table id=\"T_81063_\">\n  <thead>\n    <tr>\n      <th class=\"blank level0\" >&nbsp;</th>\n      <th class=\"col_heading level0 col0\" >Batting Rating</th>\n      <th class=\"col_heading level0 col1\" >Thwackability</th>\n      <th class=\"col_heading level0 col2\" >Divinity</th>\n      <th class=\"col_heading level0 col3\" >Musclitude</th>\n      <th class=\"col_heading level0 col4\" >Moxie</th>\n      <th class=\"col_heading level0 col5\" >Patheticism</th>\n      <th class=\"col_heading level0 col6\" >Martyrdom</th>\n      <th class=\"col_heading level0 col7\" >Tragicness</th>\n      <th class=\"col_heading level0 col8\" >Buoyancy</th>\n    </tr>\n  </thead>\n  <tbody>\n    <tr>\n      <th id=\"T_81063_level0_row0\" class=\"row_heading level0 row0\" >Stacy Heartfield</th>\n      <td id=\"T_81063_row0_col0\" class=\"data row0 col0\" >0.519083</td>\n      <td id=\"T_81063_row0_col1\" class=\"data row0 col1\" >0.890048</td>\n      <td id=\"T_81063_row0_col2\" class=\"data row0 col2\" >0.284424</td>\n      <td id=\"T_81063_row0_col3\" class=\"data row0 col3\" >0.638109</td>\n      <td id=\"T_81063_row0_col4\" class=\"data row0 col4\" >0.225520</td>\n      <td id=\"T_81063_row0_col5\" class=\"data row0 col5\" >0.002401</td>\n      <td id=\"T_81063_row0_col6\" class=\"data row0 col6\" >0.337685</td>\n      <td id=\"T_81063_row0_col7\" class=\"data row0 col7\" >0.534442</td>\n      <td id=\"T_81063_row0_col8\" class=\"data row0 col8\" >0.696127</td>\n    </tr>\n  </tbody>\n</table>\n"
     },
     "metadata": {},
     "output_type": "display_data"
    },
    {
     "data": {
      "text/plain": "<pandas.io.formats.style.Styler at 0x19411b060d0>",
      "text/html": "<style type=\"text/css\">\n#T_6d78a_row0_col0 {\n  background-color: #fed27f;\n  color: #000000;\n}\n#T_6d78a_row0_col1 {\n  background-color: #d9ef8b;\n  color: #000000;\n}\n#T_6d78a_row0_col2 {\n  background-color: #f7844e;\n  color: #f1f1f1;\n}\n#T_6d78a_row0_col3 {\n  background-color: #f2faae;\n  color: #000000;\n}\n#T_6d78a_row0_col4 {\n  background-color: #afdd70;\n  color: #000000;\n}\n#T_6d78a_row0_col5 {\n  background-color: #fedc88;\n  color: #000000;\n}\n#T_6d78a_row0_col6 {\n  background-color: #d42d27;\n  color: #f1f1f1;\n}\n</style>\n<table id=\"T_6d78a_\">\n  <thead>\n    <tr>\n      <th class=\"blank level0\" >&nbsp;</th>\n      <th class=\"col_heading level0 col0\" >Pitching Rating</th>\n      <th class=\"col_heading level0 col1\" >Unthwackability</th>\n      <th class=\"col_heading level0 col2\" >Ruthlessness</th>\n      <th class=\"col_heading level0 col3\" >Overpowerment</th>\n      <th class=\"col_heading level0 col4\" >Shakespearianism</th>\n      <th class=\"col_heading level0 col5\" >Coldness</th>\n      <th class=\"col_heading level0 col6\" >Suppression</th>\n    </tr>\n  </thead>\n  <tbody>\n    <tr>\n      <th id=\"T_6d78a_level0_row0\" class=\"row_heading level0 row0\" >Lance Anthemum</th>\n      <td id=\"T_6d78a_row0_col0\" class=\"data row0 col0\" >0.373650</td>\n      <td id=\"T_6d78a_row0_col1\" class=\"data row0 col1\" >0.601195</td>\n      <td id=\"T_6d78a_row0_col2\" class=\"data row0 col2\" >0.238249</td>\n      <td id=\"T_6d78a_row0_col3\" class=\"data row0 col3\" >0.533289</td>\n      <td id=\"T_6d78a_row0_col4\" class=\"data row0 col4\" >0.680156</td>\n      <td id=\"T_6d78a_row0_col5\" class=\"data row0 col5\" >0.392261</td>\n      <td id=\"T_6d78a_row0_col6\" class=\"data row0 col6\" >0.096427</td>\n    </tr>\n  </tbody>\n</table>\n"
     },
     "metadata": {},
     "output_type": "display_data"
    }
   ],
   "source": [
    "worst_batter = sort_lineup(pies, num=1)[0]\n",
    "worst_pitcher = sort_rotation(pies, num=1)[0]\n",
    "display(f\"Swap {worst_batter.name} to rotation and {worst_pitcher.name} to lineup.\")\n",
    "display(pandas.DataFrame(swap_players(pies, worst_pitcher, worst_batter)))\n",
    "\n",
    "display(set_heatmap(get_batting_stlats(worst_pitcher), maxVal=1.0))\n",
    "display(set_heatmap(get_pitching_stlats(worst_batter), maxVal=1.0))"
   ]
  },
  {
   "cell_type": "markdown",
   "id": "209abc30",
   "metadata": {},
   "source": [
    "### Cold Call\n",
    "\n",
    "**Call the Alternate for the 2 Worst Pitchers in your Team's Rotation.**\n",
    "\n",
    "An Alternate is a reroll of the player's stats. It is unknown if it will maintain combined star total similarly to later\n",
    "Expansion Era Alternates. This should also reroll players if they are still the worst player after their first reroll.\n",
    "See below for the list of players this would reroll. For reference, the statistical average reroll would have ~1.5\n",
    "pitching stars (or ~0.3 Pitching Rating)."
   ]
  },
  {
   "cell_type": "code",
   "execution_count": 4,
   "id": "86985fdc",
   "metadata": {},
   "outputs": [
    {
     "data": {
      "text/plain": "<pandas.io.formats.style.Styler at 0x1942c3b8940>",
      "text/html": "<style type=\"text/css\">\n#T_8c021_row0_col0 {\n  background-color: #fdb567;\n  color: #000000;\n}\n#T_8c021_row0_col1 {\n  background-color: #fbfdba;\n  color: #000000;\n}\n#T_8c021_row0_col2 {\n  background-color: #feda86;\n  color: #000000;\n}\n#T_8c021_row0_col3 {\n  background-color: #f8864f;\n  color: #f1f1f1;\n}\n#T_8c021_row0_col4 {\n  background-color: #ee613e;\n  color: #f1f1f1;\n}\n#T_8c021_row0_col5 {\n  background-color: #dd3d2d;\n  color: #f1f1f1;\n}\n#T_8c021_row0_col6 {\n  background-color: #fec877;\n  color: #000000;\n}\n#T_8c021_row1_col0 {\n  background-color: #fece7c;\n  color: #000000;\n}\n#T_8c021_row1_col1 {\n  background-color: #feeda1;\n  color: #000000;\n}\n#T_8c021_row1_col2 {\n  background-color: #b1de71;\n  color: #000000;\n}\n#T_8c021_row1_col3 {\n  background-color: #fdc171;\n  color: #000000;\n}\n#T_8c021_row1_col4 {\n  background-color: #fa9b58;\n  color: #000000;\n}\n#T_8c021_row1_col5 {\n  background-color: #a50026;\n  color: #f1f1f1;\n}\n#T_8c021_row1_col6 {\n  background-color: #ebf7a3;\n  color: #000000;\n}\n</style>\n<table id=\"T_8c021_\">\n  <thead>\n    <tr>\n      <th class=\"blank level0\" >&nbsp;</th>\n      <th class=\"col_heading level0 col0\" >Pitching Rating</th>\n      <th class=\"col_heading level0 col1\" >Unthwackability</th>\n      <th class=\"col_heading level0 col2\" >Ruthlessness</th>\n      <th class=\"col_heading level0 col3\" >Overpowerment</th>\n      <th class=\"col_heading level0 col4\" >Shakespearianism</th>\n      <th class=\"col_heading level0 col5\" >Coldness</th>\n      <th class=\"col_heading level0 col6\" >Suppression</th>\n    </tr>\n  </thead>\n  <tbody>\n    <tr>\n      <th id=\"T_8c021_level0_row0\" class=\"row_heading level0 row0\" >Stacy Heartfield</th>\n      <td id=\"T_8c021_row0_col0\" class=\"data row0 col0\" >0.315853</td>\n      <td id=\"T_8c021_row0_col1\" class=\"data row0 col1\" >0.509052</td>\n      <td id=\"T_8c021_row0_col2\" class=\"data row0 col2\" >0.389210</td>\n      <td id=\"T_8c021_row0_col3\" class=\"data row0 col3\" >0.239287</td>\n      <td id=\"T_8c021_row0_col4\" class=\"data row0 col4\" >0.181181</td>\n      <td id=\"T_8c021_row0_col5\" class=\"data row0 col5\" >0.124524</td>\n      <td id=\"T_8c021_row0_col6\" class=\"data row0 col6\" >0.352019</td>\n    </tr>\n    <tr>\n      <th id=\"T_8c021_level0_row1\" class=\"row_heading level0 row1\" >Stamp Chavez</th>\n      <td id=\"T_8c021_row1_col0\" class=\"data row1 col0\" >0.364289</td>\n      <td id=\"T_8c021_row1_col1\" class=\"data row1 col1\" >0.443009</td>\n      <td id=\"T_8c021_row1_col2\" class=\"data row1 col2\" >0.678260</td>\n      <td id=\"T_8c021_row1_col3\" class=\"data row1 col3\" >0.339319</td>\n      <td id=\"T_8c021_row1_col4\" class=\"data row1 col4\" >0.271439</td>\n      <td id=\"T_8c021_row1_col5\" class=\"data row1 col5\" >0.002037</td>\n      <td id=\"T_8c021_row1_col6\" class=\"data row1 col6\" >0.551335</td>\n    </tr>\n  </tbody>\n</table>\n"
     },
     "metadata": {},
     "output_type": "display_data"
    }
   ],
   "source": [
    "display(set_heatmap(get_pitching_stlats(sort_rotation(pies, 2)), maxVal=1.0))"
   ]
  },
  {
   "cell_type": "markdown",
   "id": "3ec24a55",
   "metadata": {},
   "source": [
    "### Long Distance Call\n",
    "\n",
    "**Call the Alternate for the 4 Worst Batters in your Team's Lineup.**\n",
    "\n",
    "An Alternate is a reroll of the player's stats. It is unknown if it will maintain combined star total similarly to later\n",
    "Expansion Era Alternates. This should also reroll players if they are still the worst player after their first reroll.\n",
    "See below for the list of players this would reroll. For reference, the statistical average reroll would have ~2 batting\n",
    "stars (or ~0.4 Batting Rating).\n"
   ]
  },
  {
   "cell_type": "code",
   "execution_count": 5,
   "id": "65d60d46",
   "metadata": {},
   "outputs": [
    {
     "data": {
      "text/plain": "<pandas.io.formats.style.Styler at 0x1942c3b8970>",
      "text/html": "<style type=\"text/css\">\n#T_f8f72_row0_col0 {\n  background-color: #b91326;\n  color: #f1f1f1;\n}\n#T_f8f72_row0_col1 {\n  background-color: #a50026;\n  color: #f1f1f1;\n}\n#T_f8f72_row0_col2 {\n  background-color: #fffab6;\n  color: #000000;\n}\n#T_f8f72_row0_col3 {\n  background-color: #e9f6a1;\n  color: #000000;\n}\n#T_f8f72_row0_col4 {\n  background-color: #f57748;\n  color: #f1f1f1;\n}\n#T_f8f72_row0_col5 {\n  background-color: #30a356;\n  color: #f1f1f1;\n  background-color: #e0422f;\n  color: #f1f1f1;\n}\n#T_f8f72_row0_col6 {\n  background-color: #42ac5a;\n  color: #f1f1f1;\n}\n#T_f8f72_row0_col7 {\n  background-color: #fa9656;\n  color: #000000;\n  background-color: #8ecf67;\n  color: #000000;\n}\n#T_f8f72_row0_col8 {\n  background-color: #82c966;\n  color: #000000;\n}\n#T_f8f72_row1_col0 {\n  background-color: #f16640;\n  color: #f1f1f1;\n}\n#T_f8f72_row1_col1 {\n  background-color: #ea5739;\n  color: #f1f1f1;\n}\n#T_f8f72_row1_col2 {\n  background-color: #e24731;\n  color: #f1f1f1;\n}\n#T_f8f72_row1_col3 {\n  background-color: #fed27f;\n  color: #000000;\n}\n#T_f8f72_row1_col4, #T_f8f72_row2_col6 {\n  background-color: #ce2827;\n  color: #f1f1f1;\n}\n#T_f8f72_row1_col5 {\n  background-color: #fdb96a;\n  color: #000000;\n  background-color: #b1de71;\n  color: #000000;\n}\n#T_f8f72_row1_col6 {\n  background-color: #b10b26;\n  color: #f1f1f1;\n}\n#T_f8f72_row1_col7 {\n  background-color: #ee613e;\n  color: #f1f1f1;\n  background-color: #57b65f;\n  color: #f1f1f1;\n}\n#T_f8f72_row1_col8 {\n  background-color: #73c264;\n  color: #000000;\n}\n#T_f8f72_row2_col0 {\n  background-color: #fb9d59;\n  color: #000000;\n}\n#T_f8f72_row2_col1 {\n  background-color: #fdb365;\n  color: #000000;\n}\n#T_f8f72_row2_col2 {\n  background-color: #da362a;\n  color: #f1f1f1;\n}\n#T_f8f72_row2_col3 {\n  background-color: #bde379;\n  color: #000000;\n}\n#T_f8f72_row2_col4 {\n  background-color: #bbe278;\n  color: #000000;\n}\n#T_f8f72_row2_col5 {\n  background-color: #c62027;\n  color: #f1f1f1;\n  background-color: #118848;\n  color: #f1f1f1;\n}\n#T_f8f72_row2_col7 {\n  background-color: #fdb768;\n  color: #000000;\n  background-color: #afdd70;\n  color: #000000;\n}\n#T_f8f72_row2_col8 {\n  background-color: #fffcba;\n  color: #000000;\n}\n#T_f8f72_row3_col0 {\n  background-color: #fff1a8;\n  color: #000000;\n}\n#T_f8f72_row3_col1 {\n  background-color: #feffbe;\n  color: #000000;\n}\n#T_f8f72_row3_col2 {\n  background-color: #feda86;\n  color: #000000;\n}\n#T_f8f72_row3_col3 {\n  background-color: #33a456;\n  color: #f1f1f1;\n}\n#T_f8f72_row3_col4 {\n  background-color: #d9ef8b;\n  color: #000000;\n}\n#T_f8f72_row3_col5 {\n  background-color: #36a657;\n  color: #f1f1f1;\n  background-color: #e24731;\n  color: #f1f1f1;\n}\n#T_f8f72_row3_col6 {\n  background-color: #b71126;\n  color: #f1f1f1;\n}\n#T_f8f72_row3_col7 {\n  background-color: #fff5ae;\n  color: #000000;\n  background-color: #f2faae;\n  color: #000000;\n}\n#T_f8f72_row3_col8 {\n  background-color: #feefa3;\n  color: #000000;\n}\n</style>\n<table id=\"T_f8f72_\">\n  <thead>\n    <tr>\n      <th class=\"blank level0\" >&nbsp;</th>\n      <th class=\"col_heading level0 col0\" >Batting Rating</th>\n      <th class=\"col_heading level0 col1\" >Thwackability</th>\n      <th class=\"col_heading level0 col2\" >Divinity</th>\n      <th class=\"col_heading level0 col3\" >Musclitude</th>\n      <th class=\"col_heading level0 col4\" >Moxie</th>\n      <th class=\"col_heading level0 col5\" >Patheticism</th>\n      <th class=\"col_heading level0 col6\" >Martyrdom</th>\n      <th class=\"col_heading level0 col7\" >Tragicness</th>\n      <th class=\"col_heading level0 col8\" >Buoyancy</th>\n    </tr>\n  </thead>\n  <tbody>\n    <tr>\n      <th id=\"T_f8f72_level0_row0\" class=\"row_heading level0 row0\" >Lance Anthemum</th>\n      <td id=\"T_f8f72_row0_col0\" class=\"data row0 col0\" >0.040804</td>\n      <td id=\"T_f8f72_row0_col1\" class=\"data row0 col1\" >0.000475</td>\n      <td id=\"T_f8f72_row0_col2\" class=\"data row0 col2\" >0.482953</td>\n      <td id=\"T_f8f72_row0_col3\" class=\"data row0 col3\" >0.558319</td>\n      <td id=\"T_f8f72_row0_col4\" class=\"data row0 col4\" >0.218143</td>\n      <td id=\"T_f8f72_row0_col5\" class=\"data row0 col5\" >0.869002</td>\n      <td id=\"T_f8f72_row0_col6\" class=\"data row0 col6\" >0.846691</td>\n      <td id=\"T_f8f72_row0_col7\" class=\"data row0 col7\" >0.262651</td>\n      <td id=\"T_f8f72_row0_col8\" class=\"data row0 col8\" >0.757512</td>\n    </tr>\n    <tr>\n      <th id=\"T_f8f72_level0_row1\" class=\"row_heading level0 row1\" >Buck Yuniesky</th>\n      <td id=\"T_f8f72_row1_col0\" class=\"data row1 col0\" >0.187877</td>\n      <td id=\"T_f8f72_row1_col1\" class=\"data row1 col1\" >0.167948</td>\n      <td id=\"T_f8f72_row1_col2\" class=\"data row1 col2\" >0.138737</td>\n      <td id=\"T_f8f72_row1_col3\" class=\"data row1 col3\" >0.373232</td>\n      <td id=\"T_f8f72_row1_col4\" class=\"data row1 col4\" >0.083748</td>\n      <td id=\"T_f8f72_row1_col5\" class=\"data row1 col5\" >0.323448</td>\n      <td id=\"T_f8f72_row1_col6\" class=\"data row1 col6\" >0.023790</td>\n      <td id=\"T_f8f72_row1_col7\" class=\"data row1 col7\" >0.181509</td>\n      <td id=\"T_f8f72_row1_col8\" class=\"data row1 col8\" >0.777762</td>\n    </tr>\n    <tr>\n      <th id=\"T_f8f72_level0_row2\" class=\"row_heading level0 row2\" >Mugs Dropper</th>\n      <td id=\"T_f8f72_row2_col0\" class=\"data row2 col0\" >0.273535</td>\n      <td id=\"T_f8f72_row2_col1\" class=\"data row2 col1\" >0.309323</td>\n      <td id=\"T_f8f72_row2_col2\" class=\"data row2 col2\" >0.112244</td>\n      <td id=\"T_f8f72_row2_col3\" class=\"data row2 col3\" >0.653758</td>\n      <td id=\"T_f8f72_row2_col4\" class=\"data row2 col4\" >0.659843</td>\n      <td id=\"T_f8f72_row2_col5\" class=\"data row2 col5\" >0.068277</td>\n      <td id=\"T_f8f72_row2_col6\" class=\"data row2 col6\" >0.083171</td>\n      <td id=\"T_f8f72_row2_col7\" class=\"data row2 col7\" >0.318857</td>\n      <td id=\"T_f8f72_row2_col8\" class=\"data row2 col8\" >0.488464</td>\n    </tr>\n    <tr>\n      <th id=\"T_f8f72_level0_row3\" class=\"row_heading level0 row3\" >Maria Lin</th>\n      <td id=\"T_f8f72_row3_col0\" class=\"data row3 col0\" >0.453856</td>\n      <td id=\"T_f8f72_row3_col1\" class=\"data row3 col1\" >0.503086</td>\n      <td id=\"T_f8f72_row3_col2\" class=\"data row3 col2\" >0.390041</td>\n      <td id=\"T_f8f72_row3_col3\" class=\"data row3 col3\" >0.863518</td>\n      <td id=\"T_f8f72_row3_col4\" class=\"data row3 col4\" >0.601501</td>\n      <td id=\"T_f8f72_row3_col5\" class=\"data row3 col5\" >0.861243</td>\n      <td id=\"T_f8f72_row3_col6\" class=\"data row3 col6\" >0.037214</td>\n      <td id=\"T_f8f72_row3_col7\" class=\"data row3 col7\" >0.467341</td>\n      <td id=\"T_f8f72_row3_col8\" class=\"data row3 col8\" >0.449169</td>\n    </tr>\n  </tbody>\n</table>\n"
     },
     "metadata": {},
     "output_type": "display_data"
    }
   ],
   "source": [
    "display(set_heatmap(get_batting_stlats(sort_lineup(pies, 4)), maxVal=1.0))"
   ]
  },
  {
   "cell_type": "markdown",
   "id": "8a693fd0",
   "metadata": {},
   "source": [
    "\n",
    "---\n",
    "## Appendix\n",
    "* [Description of Attributes](https://www.blaseball.wiki/w/Player_Attributes)\n",
    "* [Stlat Viewer](http://yoori.space/astrology/#philly-pies-gamma)\n",
    "* [Historical Player Graphs](http://yoori.space/hloroscopes/)"
   ]
  }
 ],
 "metadata": {
  "kernelspec": {
   "name": "python3",
   "language": "python",
   "display_name": "Python 3 (ipykernel)"
  }
 },
 "nbformat": 4,
 "nbformat_minor": 5
}