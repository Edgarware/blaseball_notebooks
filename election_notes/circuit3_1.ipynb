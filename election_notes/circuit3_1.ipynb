{
 "cells": [
  {
   "cell_type": "markdown",
   "id": "dc5361dc",
   "metadata": {},
   "source": [
    "# Short Circuit 3 Election Notes\n",
    "\n",
    ">**FORBIDDEN KNOWLEDGE WARNING**\n",
    ">\n",
    ">This document contains some information that is not currently present on the main site and may be considered spoilers.\n",
    ">Continue at your own discretion. Some information in this document cannot be shared on the Discord without spoiler tags.\n"
   ]
  },
  {
   "cell_type": "code",
   "execution_count": 1,
   "id": "6b243a31",
   "metadata": {},
   "outputs": [
    {
     "data": {
      "text/plain": "<IPython.core.display.Markdown object>",
      "text/markdown": "**Last Updated Season 1, Day 80**"
     },
     "metadata": {},
     "output_type": "display_data"
    }
   ],
   "source": [
    "import pandas\n",
    "%matplotlib inline\n",
    "import plotly.io as _pio\n",
    "from IPython.display import display, Markdown\n",
    "\n",
    "import os\n",
    "import sys\n",
    "pdir = os.path.abspath(os.path.join(os.path.dirname(''), os.path.pardir))\n",
    "sys.path.append(pdir)\n",
    "from display import *\n",
    "from blessings import *\n",
    "sys.path.remove(pdir)\n",
    "\n",
    "league = League.load()\n",
    "pies = [x for x in league.teams.values() if x.full_name == \"Philly Pies\"][0]\n",
    "\n",
    "sim = SimulationData.load()\n",
    "display(Markdown(f\"**Last Updated Season {sim.season}, Day {sim.day}**\"))"
   ]
  },
  {
   "cell_type": "markdown",
   "id": "f4bf0ad9",
   "metadata": {},
   "source": [
    "___\n",
    "## ~~Squid Gift I~~\n",
    "*League Blessing*"
   ]
  },
  {
   "cell_type": "code",
   "source": [
    "god_text(\"who wants a confetti cannon\", 1)"
   ],
   "metadata": {
    "collapsed": false,
    "pycharm": {
     "name": "#%%\n"
    }
   },
   "execution_count": 2,
   "outputs": [
    {
     "data": {
      "text/plain": "<display.general.HTMLWrapper at 0x149097e5b20>",
      "text/html": "<div style=\"font-family: 'Lora', 'Courier New', monospace, serif;font-weight: 700;color:#5988ff;text-shadow:0 0 20px #5988ff\">who wants a confetti cannon</div>"
     },
     "execution_count": 2,
     "metadata": {},
     "output_type": "execute_result"
    }
   ]
  },
  {
   "cell_type": "markdown",
   "source": [
    "This likely gives a variant of the Arm Cannon, like with last circuit's Snow Blower. This would max out a pitcher's stats. See below for approximate stat change."
   ],
   "metadata": {
    "collapsed": false,
    "pycharm": {
     "name": "#%% md\n"
    }
   }
  },
  {
   "cell_type": "code",
   "execution_count": null,
   "outputs": [],
   "source": [
    "new_rotation = []\n",
    "for player in pies.rotation:\n",
    "    new_rotation.append(player.simulated_copy(buffs=\n",
    "                                         {'overpowerment': 0.9542536640830439,\n",
    "                                          'unthwackability': 0.7362786936932654,\n",
    "                                          'ruthlessness': 0.3073233290216612}))\n",
    "\n",
    "set_heatmap(get_pitching_stlats(new_rotation), maxVal=1.0)\n",
    "# 6524fd18-54e1-4b51-be71-4db6ef1cdf42"
   ],
   "metadata": {
    "collapsed": false,
    "pycharm": {
     "name": "#%%\n",
     "is_executing": true
    }
   }
  },
  {
   "cell_type": "markdown",
   "source": [
    "## ~~Squid Gift II~~\n",
    "*League Blessing*"
   ],
   "metadata": {
    "collapsed": false,
    "pycharm": {
     "name": "#%% md\n"
    }
   }
  },
  {
   "cell_type": "code",
   "execution_count": null,
   "outputs": [],
   "source": [
    "god_text(\"who wants some dancing shoes\", 1)"
   ],
   "metadata": {
    "collapsed": false,
    "pycharm": {
     "name": "#%%\n",
     "is_executing": true
    }
   }
  },
  {
   "cell_type": "markdown",
   "source": [
    "This likely gives a variant of the Rocket Shoes, like with last circuit's Snow Shoes. This would max out baserunning. See below for approximate stat change."
   ],
   "metadata": {
    "collapsed": false,
    "pycharm": {
     "name": "#%% md\n"
    }
   }
  },
  {
   "cell_type": "code",
   "execution_count": null,
   "outputs": [],
   "source": [
    "new_lineup = []\n",
    "for player in pies.lineup:\n",
    "    new_lineup.append(player.simulated_copy(buffs=\n",
    "                                         {'laserlikeness': 0.7352479438825257,\n",
    "                                          'tenaciousness': 0.18846089786002318,\n",
    "                                          'chasiness': 0.17397007472834686,\n",
    "                                          'continuation': 0.36907020559415343,\n",
    "                                          'base_thirst': 0.3980900812170812,\n",
    "                                          'indulgence': 0.18520160996281987}))\n",
    "\n",
    "set_heatmap(get_baserunning_stlats(new_lineup), maxVal=1.0)\n",
    "# 971353de-05f9-47b2-8c27-62b666f182af"
   ],
   "metadata": {
    "collapsed": false,
    "pycharm": {
     "name": "#%%\n",
     "is_executing": true
    }
   }
  },
  {
   "cell_type": "markdown",
   "source": [
    "## Squid Gift III\n",
    "*League Blessing*"
   ],
   "metadata": {
    "collapsed": false,
    "pycharm": {
     "name": "#%% md\n"
    }
   }
  },
  {
   "cell_type": "code",
   "execution_count": null,
   "outputs": [],
   "source": [
    "god_text(\"who wants a glow stick\", 1)"
   ],
   "metadata": {
    "collapsed": false,
    "pycharm": {
     "name": "#%%\n",
     "is_executing": true
    }
   }
  },
  {
   "cell_type": "markdown",
   "source": [
    "This likely gives a variant of the Gunblade Bat, like with last circuit's Snow Shovel. This would max out batting. See below for approximate stat change."
   ],
   "metadata": {
    "collapsed": false,
    "pycharm": {
     "name": "#%% md\n"
    }
   }
  },
  {
   "cell_type": "code",
   "execution_count": null,
   "outputs": [],
   "source": [
    "new_lineup = []\n",
    "for player in pies.lineup:\n",
    "    new_lineup.append(player.simulated_copy(buffs=\n",
    "                                         {'thwackability': 0.5130641039787702,\n",
    "                                          'divinity': 0.7269251670605504,\n",
    "                                          'omniscience': 0.15027996064258692,\n",
    "                                          'continuation': 0.11857006105026602,\n",
    "                                          'cinnamon': 0.5548917066411219}))\n",
    "\n",
    "set_heatmap(get_batting_stlats(new_lineup), maxVal=1.0)\n",
    "# 62fb21ab-1ef3-4c01-93a2-4d95325b1dab"
   ],
   "metadata": {
    "collapsed": false,
    "pycharm": {
     "name": "#%%\n",
     "is_executing": true
    }
   }
  },
  {
   "cell_type": "markdown",
   "source": [
    "## Squid Gift IV\n",
    "*League Blessing*"
   ],
   "metadata": {
    "collapsed": false,
    "pycharm": {
     "name": "#%% md\n"
    }
   }
  },
  {
   "cell_type": "code",
   "execution_count": null,
   "outputs": [],
   "source": [
    "god_text(\"who wants a smoke machine\", 1)"
   ],
   "metadata": {
    "collapsed": false,
    "pycharm": {
     "name": "#%%\n",
     "is_executing": true
    }
   }
  },
  {
   "cell_type": "markdown",
   "source": [
    "I have no idea what this is. Defense item?"
   ],
   "metadata": {
    "collapsed": false,
    "pycharm": {
     "name": "#%% md\n"
    }
   }
  },
  {
   "cell_type": "markdown",
   "source": [
    "## Guest of Honor\n",
    "*Team Will*\n",
    "\n",
    "**Choose a Player on your Team to become the Life of the Party and start Partying early.**\n",
    "\n",
    "This would give one player the modification Life of the Party, which would increase stat boosts during parties."
   ],
   "metadata": {
    "collapsed": false,
    "pycharm": {
     "name": "#%% md\n"
    }
   }
  },
  {
   "cell_type": "markdown",
   "source": [
    "## Party Planning\n",
    "*Team Amplification*\n",
    "\n",
    "This would boost various stats team-wide, depending on the chosen Amplification."
   ],
   "metadata": {
    "collapsed": false,
    "pycharm": {
     "name": "#%% md\n"
    }
   }
  },
  {
   "cell_type": "markdown",
   "source": [
    "### Cookout\n",
    "**Throw a good vibes cookout to boost your Cinnamon, Moxie, and Base Thirst.**"
   ],
   "metadata": {
    "collapsed": false,
    "pycharm": {
     "name": "#%% md\n"
    }
   }
  },
  {
   "cell_type": "code",
   "execution_count": null,
   "outputs": [],
   "source": [
    "cin = mean([x.cinnamon for x in pies.lineup + pies.rotation])\n",
    "mox = mean([x.moxie for x in pies.lineup])\n",
    "thst = mean([x.base_thirst for x in pies.lineup])\n",
    "\n",
    "set_heatmap(pandas.DataFrame(pandas.Series({\"Cinnamon\": cin, \"Moxie\": mox, \"Base Thirst\": thst}, name=\"Pies Average\")), maxVal=1.0)"
   ],
   "metadata": {
    "collapsed": false,
    "pycharm": {
     "name": "#%%\n",
     "is_executing": true
    }
   }
  },
  {
   "cell_type": "markdown",
   "source": [
    "### Rager\n",
    "**Throw an all out dance party to boost your Musclitude, Ground Friction, and Continuation.**"
   ],
   "metadata": {
    "collapsed": false,
    "pycharm": {
     "name": "#%% md\n"
    }
   }
  },
  {
   "cell_type": "code",
   "execution_count": null,
   "outputs": [],
   "source": [
    "musc = mean([x.musclitude for x in pies.lineup])\n",
    "fric = mean([x.ground_friction for x in pies.lineup])\n",
    "cont = mean([x.continuation for x in pies.lineup])\n",
    "\n",
    "set_heatmap(pandas.DataFrame(pandas.Series({\"Musclitude\": musc, \"Ground Friction\": fric, \"Continuation\": cont}, name=\"Pies Average\")), maxVal=1.0)"
   ],
   "metadata": {
    "collapsed": false,
    "pycharm": {
     "name": "#%%\n",
     "is_executing": true
    }
   }
  },
  {
   "cell_type": "markdown",
   "source": [
    "### Mixer\n",
    "**Throw an awkward social to boost your Unthwackability, Omniscience, and Overpowerment.**"
   ],
   "metadata": {
    "collapsed": false,
    "pycharm": {
     "name": "#%% md\n"
    }
   }
  },
  {
   "cell_type": "code",
   "execution_count": null,
   "outputs": [],
   "source": [
    "uthk = mean([x.unthwackability for x in pies.rotation])\n",
    "omni = mean([x.omniscience for x in pies.lineup + pies.rotation])\n",
    "pow = mean([x.overpowerment for x in pies.rotation])\n",
    "\n",
    "set_heatmap(pandas.DataFrame(pandas.Series({\"Unthwackability\": uthk, \"Omniscience\": omni, \"Overpowerment\": pow}, name=\"Pies Average\")), maxVal=1.0)"
   ],
   "metadata": {
    "collapsed": false,
    "pycharm": {
     "name": "#%%\n",
     "is_executing": true
    }
   }
  },
  {
   "cell_type": "markdown",
   "source": [
    "### Formal\n",
    "**Throw a fancy formal to boost your Divinity, Coldness, and Chasiness.**"
   ],
   "metadata": {
    "collapsed": false,
    "pycharm": {
     "name": "#%% md\n"
    }
   }
  },
  {
   "cell_type": "code",
   "execution_count": null,
   "outputs": [],
   "source": [
    "div = mean([x.divinity for x in pies.lineup])\n",
    "cold = mean([x.coldness for x in pies.rotation])\n",
    "chas = mean([x.chasiness for x in pies.lineup + pies.rotation])\n",
    "\n",
    "set_heatmap(pandas.DataFrame(pandas.Series({\"Divinity\": div, \"Coldness\": cold, \"Chasiness\": chas}, name=\"Pies Average\")), maxVal=1.0)"
   ],
   "metadata": {
    "collapsed": false,
    "pycharm": {
     "name": "#%%\n",
     "is_executing": true
    }
   }
  },
  {
   "cell_type": "markdown",
   "id": "8a693fd0",
   "metadata": {},
   "source": [
    "\n",
    "---\n",
    "## Appendix\n",
    "* [Description of Attributes](https://www.blaseball.wiki/w/Player_Attributes)\n",
    "* [Stlat Viewer](https://blaseballplayers.netlify.app/team/fa3b11e7-5321-485f-bdbd-355af10cce11)\n",
    "* [Historical Player Graphs](https://astrology-next.vercel.app/team/philly-pies-gamma10)"
   ]
  }
 ],
 "metadata": {
  "kernelspec": {
   "name": "python3",
   "language": "python",
   "display_name": "Python 3 (ipykernel)"
  }
 },
 "nbformat": 4,
 "nbformat_minor": 5
}