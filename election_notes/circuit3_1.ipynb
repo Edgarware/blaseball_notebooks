{
 "cells": [
  {
   "cell_type": "markdown",
   "id": "dc5361dc",
   "metadata": {},
   "source": [
    "# Short Circuit 3 Election Notes\n",
    "\n",
    ">**FORBIDDEN KNOWLEDGE WARNING**\n",
    ">\n",
    ">This document contains some information that is not currently present on the main site and may be considered spoilers.\n",
    ">Continue at your own discretion. Some information in this document cannot be shared on the Discord without spoiler tags.\n"
   ]
  },
  {
   "cell_type": "code",
   "execution_count": 26,
   "id": "6b243a31",
   "metadata": {},
   "outputs": [
    {
     "data": {
      "text/plain": "<IPython.core.display.Markdown object>",
      "text/markdown": "**Last Updated Season 1, Day 148**"
     },
     "metadata": {},
     "output_type": "display_data"
    }
   ],
   "source": [
    "import pandas\n",
    "%matplotlib inline\n",
    "import plotly.io as _pio\n",
    "from IPython.display import display, Markdown\n",
    "\n",
    "import os\n",
    "import sys\n",
    "pdir = os.path.abspath(os.path.join(os.path.dirname(''), os.path.pardir))\n",
    "sys.path.append(pdir)\n",
    "from display import *\n",
    "from blessings import *\n",
    "sys.path.remove(pdir)\n",
    "\n",
    "league = League.load()\n",
    "pies = [x for x in league.teams.values() if x.full_name == \"Philly Pies\"][0]\n",
    "\n",
    "sim = SimulationData.load()\n",
    "display(Markdown(f\"**Last Updated Season {sim.season}, Day {sim.day}**\"))"
   ]
  },
  {
   "cell_type": "markdown",
   "id": "f4bf0ad9",
   "metadata": {},
   "source": [
    "___\n",
    "## ~~Squid Gift I~~\n",
    "*League Blessing*"
   ]
  },
  {
   "cell_type": "code",
   "source": [
    "god_text(\"who wants a confetti cannon\", 1)"
   ],
   "metadata": {
    "collapsed": false,
    "pycharm": {
     "name": "#%%\n"
    }
   },
   "execution_count": 27,
   "outputs": [
    {
     "data": {
      "text/plain": "<display.general.HTMLWrapper at 0x19001c2ec10>",
      "text/html": "<div style=\"font-family: 'Lora', 'Courier New', monospace, serif;font-weight: 700;color:#5988ff;text-shadow:0 0 20px #5988ff\">who wants a confetti cannon</div>"
     },
     "execution_count": 27,
     "metadata": {},
     "output_type": "execute_result"
    }
   ]
  },
  {
   "cell_type": "markdown",
   "source": [
    "This likely gives a variant of the Arm Cannon, like with last circuit's Snow Blower. This would max out a pitcher's stats. See below for approximate stat change."
   ],
   "metadata": {
    "collapsed": false,
    "pycharm": {
     "name": "#%% md\n"
    }
   }
  },
  {
   "cell_type": "code",
   "execution_count": 28,
   "outputs": [
    {
     "data": {
      "text/plain": "<pandas.io.formats.style.Styler at 0x190019d4370>",
      "text/html": "<style type=\"text/css\">\n#T_656a3_row0_col0 {\n  background-color: #fdfebc;\n  color: #000000;\n}\n#T_656a3_row0_col1 {\n  background-color: #2da155;\n  color: #f1f1f1;\n}\n#T_656a3_row0_col2 {\n  background-color: #fec877;\n  color: #000000;\n}\n#T_656a3_row0_col3, #T_656a3_row1_col0, #T_656a3_row1_col1, #T_656a3_row1_col2, #T_656a3_row1_col3, #T_656a3_row2_col1, #T_656a3_row2_col3, #T_656a3_row3_col1, #T_656a3_row3_col3, #T_656a3_row4_col0, #T_656a3_row4_col1, #T_656a3_row4_col3, #T_656a3_row4_col4 {\n  background-color: #006837;\n  color: #f1f1f1;\n}\n#T_656a3_row0_col4 {\n  background-color: #f16640;\n  color: #f1f1f1;\n}\n#T_656a3_row0_col5 {\n  background-color: #dd3d2d;\n  color: #f1f1f1;\n}\n#T_656a3_row0_col6 {\n  background-color: #fff2aa;\n  color: #000000;\n}\n#T_656a3_row1_col4 {\n  background-color: #d83128;\n  color: #f1f1f1;\n}\n#T_656a3_row1_col5 {\n  background-color: #feec9f;\n  color: #000000;\n}\n#T_656a3_row1_col6 {\n  background-color: #7ac665;\n  color: #000000;\n}\n#T_656a3_row2_col0 {\n  background-color: #15904c;\n  color: #f1f1f1;\n}\n#T_656a3_row2_col2 {\n  background-color: #ecf7a6;\n  color: #000000;\n}\n#T_656a3_row2_col4 {\n  background-color: #fede89;\n  color: #000000;\n}\n#T_656a3_row2_col5, #T_656a3_row3_col4 {\n  background-color: #ea5739;\n  color: #f1f1f1;\n}\n#T_656a3_row2_col6 {\n  background-color: #feeb9d;\n  color: #000000;\n}\n#T_656a3_row3_col0 {\n  background-color: #73c264;\n  color: #000000;\n}\n#T_656a3_row3_col2 {\n  background-color: #fffab6;\n  color: #000000;\n}\n#T_656a3_row3_col5 {\n  background-color: #fece7c;\n  color: #000000;\n}\n#T_656a3_row3_col6 {\n  background-color: #cbe982;\n  color: #000000;\n}\n#T_656a3_row4_col2 {\n  background-color: #4eb15d;\n  color: #f1f1f1;\n}\n#T_656a3_row4_col5 {\n  background-color: #fca55d;\n  color: #000000;\n}\n#T_656a3_row4_col6 {\n  background-color: #108647;\n  color: #f1f1f1;\n}\n</style>\n<table id=\"T_656a3_\">\n  <thead>\n    <tr>\n      <th class=\"blank level0\" >&nbsp;</th>\n      <th class=\"col_heading level0 col0\" >Pitching Rating</th>\n      <th class=\"col_heading level0 col1\" >Unthwackability</th>\n      <th class=\"col_heading level0 col2\" >Ruthlessness</th>\n      <th class=\"col_heading level0 col3\" >Overpowerment</th>\n      <th class=\"col_heading level0 col4\" >Shakespearianism</th>\n      <th class=\"col_heading level0 col5\" >Coldness</th>\n      <th class=\"col_heading level0 col6\" >Suppression</th>\n    </tr>\n  </thead>\n  <tbody>\n    <tr>\n      <th id=\"T_656a3_level0_row0\" class=\"row_heading level0 row0\" >Seyyid Goodhart</th>\n      <td id=\"T_656a3_row0_col0\" class=\"data row0 col0\" >0.506362</td>\n      <td id=\"T_656a3_row0_col1\" class=\"data row0 col1\" >0.871409</td>\n      <td id=\"T_656a3_row0_col2\" class=\"data row0 col2\" >0.355282</td>\n      <td id=\"T_656a3_row0_col3\" class=\"data row0 col3\" >1.147178</td>\n      <td id=\"T_656a3_row0_col4\" class=\"data row0 col4\" >0.190551</td>\n      <td id=\"T_656a3_row0_col5\" class=\"data row0 col5\" >0.122182</td>\n      <td id=\"T_656a3_row0_col6\" class=\"data row0 col6\" >0.458468</td>\n    </tr>\n    <tr>\n      <th id=\"T_656a3_level0_row1\" class=\"row_heading level0 row1\" >Kristi Finnegan</th>\n      <td id=\"T_656a3_row1_col0\" class=\"data row1 col0\" >1.076882</td>\n      <td id=\"T_656a3_row1_col1\" class=\"data row1 col1\" >1.335204</td>\n      <td id=\"T_656a3_row1_col2\" class=\"data row1 col2\" >1.252413</td>\n      <td id=\"T_656a3_row1_col3\" class=\"data row1 col3\" >1.793642</td>\n      <td id=\"T_656a3_row1_col4\" class=\"data row1 col4\" >0.102731</td>\n      <td id=\"T_656a3_row1_col5\" class=\"data row1 col5\" >0.439118</td>\n      <td id=\"T_656a3_row1_col6\" class=\"data row1 col6\" >0.768888</td>\n    </tr>\n    <tr>\n      <th id=\"T_656a3_level0_row2\" class=\"row_heading level0 row2\" >Tall Everts</th>\n      <td id=\"T_656a3_row2_col0\" class=\"data row2 col0\" >0.917783</td>\n      <td id=\"T_656a3_row2_col1\" class=\"data row2 col1\" >1.752814</td>\n      <td id=\"T_656a3_row2_col2\" class=\"data row2 col2\" >0.549688</td>\n      <td id=\"T_656a3_row2_col3\" class=\"data row2 col3\" >1.070785</td>\n      <td id=\"T_656a3_row2_col4\" class=\"data row2 col4\" >0.396144</td>\n      <td id=\"T_656a3_row2_col5\" class=\"data row2 col5\" >0.167263</td>\n      <td id=\"T_656a3_row2_col6\" class=\"data row2 col6\" >0.434658</td>\n    </tr>\n    <tr>\n      <th id=\"T_656a3_level0_row3\" class=\"row_heading level0 row3\" >Hartley Cage</th>\n      <td id=\"T_656a3_row3_col0\" class=\"data row3 col0\" >0.779156</td>\n      <td id=\"T_656a3_row3_col1\" class=\"data row3 col1\" >1.563803</td>\n      <td id=\"T_656a3_row3_col2\" class=\"data row3 col2\" >0.482769</td>\n      <td id=\"T_656a3_row3_col3\" class=\"data row3 col3\" >1.171900</td>\n      <td id=\"T_656a3_row3_col4\" class=\"data row3 col4\" >0.164792</td>\n      <td id=\"T_656a3_row3_col5\" class=\"data row3 col5\" >0.363427</td>\n      <td id=\"T_656a3_row3_col6\" class=\"data row3 col6\" >0.625214</td>\n    </tr>\n    <tr>\n      <th id=\"T_656a3_level0_row4\" class=\"row_heading level0 row4\" >Wolf Buss</th>\n      <td id=\"T_656a3_row4_col0\" class=\"data row4 col0\" >1.231508</td>\n      <td id=\"T_656a3_row4_col1\" class=\"data row4 col1\" >1.616981</td>\n      <td id=\"T_656a3_row4_col2\" class=\"data row4 col2\" >0.830463</td>\n      <td id=\"T_656a3_row4_col3\" class=\"data row4 col3\" >1.634050</td>\n      <td id=\"T_656a3_row4_col4\" class=\"data row4 col4\" >0.996691</td>\n      <td id=\"T_656a3_row4_col5\" class=\"data row4 col5\" >0.288688</td>\n      <td id=\"T_656a3_row4_col6\" class=\"data row4 col6\" >0.935644</td>\n    </tr>\n  </tbody>\n</table>\n"
     },
     "execution_count": 28,
     "metadata": {},
     "output_type": "execute_result"
    }
   ],
   "source": [
    "new_rotation = []\n",
    "for player in pies.rotation:\n",
    "    new_rotation.append(player.simulated_copy(buffs=\n",
    "                                         {'overpowerment': 0.9542536640830439,\n",
    "                                          'unthwackability': 0.7362786936932654,\n",
    "                                          'ruthlessness': 0.3073233290216612}))\n",
    "\n",
    "set_heatmap(get_pitching_stlats(new_rotation), maxVal=1.0)\n",
    "# 6524fd18-54e1-4b51-be71-4db6ef1cdf42"
   ],
   "metadata": {
    "collapsed": false,
    "pycharm": {
     "name": "#%%\n"
    }
   }
  },
  {
   "cell_type": "markdown",
   "source": [
    "## ~~Squid Gift II~~\n",
    "*League Blessing*"
   ],
   "metadata": {
    "collapsed": false,
    "pycharm": {
     "name": "#%% md\n"
    }
   }
  },
  {
   "cell_type": "code",
   "execution_count": 29,
   "outputs": [
    {
     "data": {
      "text/plain": "<display.general.HTMLWrapper at 0x19001c2e8b0>",
      "text/html": "<div style=\"font-family: 'Lora', 'Courier New', monospace, serif;font-weight: 700;color:#5988ff;text-shadow:0 0 20px #5988ff\">who wants some dancing shoes</div>"
     },
     "execution_count": 29,
     "metadata": {},
     "output_type": "execute_result"
    }
   ],
   "source": [
    "god_text(\"who wants some dancing shoes\", 1)"
   ],
   "metadata": {
    "collapsed": false,
    "pycharm": {
     "name": "#%%\n"
    }
   }
  },
  {
   "cell_type": "markdown",
   "source": [
    "This likely gives a variant of the Rocket Shoes, like with last circuit's Snow Shoes. This would max out baserunning. See below for approximate stat change."
   ],
   "metadata": {
    "collapsed": false,
    "pycharm": {
     "name": "#%% md\n"
    }
   }
  },
  {
   "cell_type": "code",
   "execution_count": 30,
   "outputs": [
    {
     "data": {
      "text/plain": "<pandas.io.formats.style.Styler at 0x1900199c580>",
      "text/html": "<style type=\"text/css\">\n#T_181fb_row0_col0, #T_181fb_row0_col1, #T_181fb_row0_col2, #T_181fb_row1_col1, #T_181fb_row1_col2, #T_181fb_row1_col4, #T_181fb_row2_col1, #T_181fb_row2_col4, #T_181fb_row3_col2, #T_181fb_row3_col4, #T_181fb_row4_col0, #T_181fb_row4_col1, #T_181fb_row4_col2, #T_181fb_row4_col5, #T_181fb_row5_col0, #T_181fb_row5_col1, #T_181fb_row5_col2, #T_181fb_row7_col0, #T_181fb_row7_col1, #T_181fb_row7_col2 {\n  background-color: #006837;\n  color: #f1f1f1;\n}\n#T_181fb_row0_col3 {\n  background-color: #fee28f;\n  color: #000000;\n}\n#T_181fb_row0_col4 {\n  background-color: #0a7b41;\n  color: #f1f1f1;\n}\n#T_181fb_row0_col5 {\n  background-color: #15904c;\n  color: #f1f1f1;\n}\n#T_181fb_row1_col0 {\n  background-color: #05713c;\n  color: #f1f1f1;\n}\n#T_181fb_row1_col3, #T_181fb_row2_col5 {\n  background-color: #fffab6;\n  color: #000000;\n}\n#T_181fb_row1_col5 {\n  background-color: #d7ee8a;\n  color: #000000;\n}\n#T_181fb_row2_col0 {\n  background-color: #04703b;\n  color: #f1f1f1;\n}\n#T_181fb_row2_col2 {\n  background-color: #30a356;\n  color: #f1f1f1;\n}\n#T_181fb_row2_col3 {\n  background-color: #1b9950;\n  color: #f1f1f1;\n}\n#T_181fb_row3_col0 {\n  background-color: #45ad5b;\n  color: #f1f1f1;\n}\n#T_181fb_row3_col1 {\n  background-color: #3ca959;\n  color: #f1f1f1;\n}\n#T_181fb_row3_col3 {\n  background-color: #f98e52;\n  color: #f1f1f1;\n}\n#T_181fb_row3_col5 {\n  background-color: #118848;\n  color: #f1f1f1;\n}\n#T_181fb_row4_col3 {\n  background-color: #e9f6a1;\n  color: #000000;\n}\n#T_181fb_row4_col4 {\n  background-color: #b5df74;\n  color: #000000;\n}\n#T_181fb_row5_col3 {\n  background-color: #128a49;\n  color: #f1f1f1;\n}\n#T_181fb_row5_col4 {\n  background-color: #1e9a51;\n  color: #f1f1f1;\n}\n#T_181fb_row5_col5 {\n  background-color: #e0f295;\n  color: #000000;\n}\n#T_181fb_row6_col0 {\n  background-color: #78c565;\n  color: #000000;\n}\n#T_181fb_row6_col1 {\n  background-color: #0e8245;\n  color: #f1f1f1;\n}\n#T_181fb_row6_col2 {\n  background-color: #7ac665;\n  color: #000000;\n}\n#T_181fb_row6_col3 {\n  background-color: #96d268;\n  color: #000000;\n}\n#T_181fb_row6_col4 {\n  background-color: #f2faae;\n  color: #000000;\n}\n#T_181fb_row6_col5 {\n  background-color: #fdbf6f;\n  color: #000000;\n}\n#T_181fb_row7_col3 {\n  background-color: #fed884;\n  color: #000000;\n}\n#T_181fb_row7_col4 {\n  background-color: #06733d;\n  color: #f1f1f1;\n}\n#T_181fb_row7_col5 {\n  background-color: #b9e176;\n  color: #000000;\n}\n#T_181fb_row8_col0 {\n  background-color: #84ca66;\n  color: #000000;\n}\n#T_181fb_row8_col1 {\n  background-color: #18954f;\n  color: #f1f1f1;\n}\n#T_181fb_row8_col2 {\n  background-color: #a0d669;\n  color: #000000;\n}\n#T_181fb_row8_col3 {\n  background-color: #f5fbb2;\n  color: #000000;\n}\n#T_181fb_row8_col4 {\n  background-color: #fffebe;\n  color: #000000;\n}\n#T_181fb_row8_col5 {\n  background-color: #fafdb8;\n  color: #000000;\n}\n</style>\n<table id=\"T_181fb_\">\n  <thead>\n    <tr>\n      <th class=\"blank level0\" >&nbsp;</th>\n      <th class=\"col_heading level0 col0\" >Baserunning Rating</th>\n      <th class=\"col_heading level0 col1\" >Laserlikeness</th>\n      <th class=\"col_heading level0 col2\" >Continuation</th>\n      <th class=\"col_heading level0 col3\" >Base Thirst</th>\n      <th class=\"col_heading level0 col4\" >Indulgence</th>\n      <th class=\"col_heading level0 col5\" >Ground Friction</th>\n    </tr>\n  </thead>\n  <tbody>\n    <tr>\n      <th id=\"T_181fb_level0_row0\" class=\"row_heading level0 row0\" >Zahel Reroll</th>\n      <td id=\"T_181fb_row0_col0\" class=\"data row0 col0\" >1.224529</td>\n      <td id=\"T_181fb_row0_col1\" class=\"data row0 col1\" >1.698569</td>\n      <td id=\"T_181fb_row0_col2\" class=\"data row0 col2\" >1.496098</td>\n      <td id=\"T_181fb_row0_col3\" class=\"data row0 col3\" >0.407522</td>\n      <td id=\"T_181fb_row0_col4\" class=\"data row0 col4\" >0.960579</td>\n      <td id=\"T_181fb_row0_col5\" class=\"data row0 col5\" >0.915443</td>\n    </tr>\n    <tr>\n      <th id=\"T_181fb_level0_row1\" class=\"row_heading level0 row1\" >Nadia Outlaw</th>\n      <td id=\"T_181fb_row1_col0\" class=\"data row1 col0\" >0.980351</td>\n      <td id=\"T_181fb_row1_col1\" class=\"data row1 col1\" >1.200879</td>\n      <td id=\"T_181fb_row1_col2\" class=\"data row1 col2\" >1.102444</td>\n      <td id=\"T_181fb_row1_col3\" class=\"data row1 col3\" >0.481185</td>\n      <td id=\"T_181fb_row1_col4\" class=\"data row1 col4\" >1.027148</td>\n      <td id=\"T_181fb_row1_col5\" class=\"data row1 col5\" >0.602584</td>\n    </tr>\n    <tr>\n      <th id=\"T_181fb_level0_row2\" class=\"row_heading level0 row2\" >Beck Damage</th>\n      <td id=\"T_181fb_row2_col0\" class=\"data row2 col0\" >0.983718</td>\n      <td id=\"T_181fb_row2_col1\" class=\"data row2 col1\" >1.169246</td>\n      <td id=\"T_181fb_row2_col2\" class=\"data row2 col2\" >0.868672</td>\n      <td id=\"T_181fb_row2_col3\" class=\"data row2 col3\" >0.898325</td>\n      <td id=\"T_181fb_row2_col4\" class=\"data row2 col4\" >1.032526</td>\n      <td id=\"T_181fb_row2_col5\" class=\"data row2 col5\" >0.481930</td>\n    </tr>\n    <tr>\n      <th id=\"T_181fb_level0_row3\" class=\"row_heading level0 row3\" >Aari Babatunde</th>\n      <td id=\"T_181fb_row3_col0\" class=\"data row3 col0\" >0.843006</td>\n      <td id=\"T_181fb_row3_col1\" class=\"data row3 col1\" >0.852070</td>\n      <td id=\"T_181fb_row3_col2\" class=\"data row3 col2\" >1.427879</td>\n      <td id=\"T_181fb_row3_col3\" class=\"data row3 col3\" >0.253059</td>\n      <td id=\"T_181fb_row3_col4\" class=\"data row3 col4\" >1.196981</td>\n      <td id=\"T_181fb_row3_col5\" class=\"data row3 col5\" >0.933106</td>\n    </tr>\n    <tr>\n      <th id=\"T_181fb_level0_row4\" class=\"row_heading level0 row4\" >Jumpy Augustus</th>\n      <td id=\"T_181fb_row4_col0\" class=\"data row4 col0\" >1.045853</td>\n      <td id=\"T_181fb_row4_col1\" class=\"data row4 col1\" >1.244611</td>\n      <td id=\"T_181fb_row4_col2\" class=\"data row4 col2\" >1.375699</td>\n      <td id=\"T_181fb_row4_col3\" class=\"data row4 col3\" >0.555275</td>\n      <td id=\"T_181fb_row4_col4\" class=\"data row4 col4\" >0.670021</td>\n      <td id=\"T_181fb_row4_col5\" class=\"data row4 col5\" >1.024275</td>\n    </tr>\n    <tr>\n      <th id=\"T_181fb_level0_row5\" class=\"row_heading level0 row5\" >Kid Darling</th>\n      <td id=\"T_181fb_row5_col0\" class=\"data row5 col0\" >1.244947</td>\n      <td id=\"T_181fb_row5_col1\" class=\"data row5 col1\" >1.670147</td>\n      <td id=\"T_181fb_row5_col2\" class=\"data row5 col2\" >1.430583</td>\n      <td id=\"T_181fb_row5_col3\" class=\"data row5 col3\" >0.928702</td>\n      <td id=\"T_181fb_row5_col4\" class=\"data row5 col4\" >0.891345</td>\n      <td id=\"T_181fb_row5_col5\" class=\"data row5 col5\" >0.581166</td>\n    </tr>\n    <tr>\n      <th id=\"T_181fb_level0_row6\" class=\"row_heading level0 row6\" >Ariana Beard</th>\n      <td id=\"T_181fb_row6_col0\" class=\"data row6 col0\" >0.770147</td>\n      <td id=\"T_181fb_row6_col1\" class=\"data row6 col1\" >0.942365</td>\n      <td id=\"T_181fb_row6_col2\" class=\"data row6 col2\" >0.766698</td>\n      <td id=\"T_181fb_row6_col3\" class=\"data row6 col3\" >0.725660</td>\n      <td id=\"T_181fb_row6_col4\" class=\"data row6 col4\" >0.532269</td>\n      <td id=\"T_181fb_row6_col5\" class=\"data row6 col5\" >0.333542</td>\n    </tr>\n    <tr>\n      <th id=\"T_181fb_level0_row7\" class=\"row_heading level0 row7\" >Bottles Dinkleburg</th>\n      <td id=\"T_181fb_row7_col0\" class=\"data row7 col0\" >1.071095</td>\n      <td id=\"T_181fb_row7_col1\" class=\"data row7 col1\" >1.462663</td>\n      <td id=\"T_181fb_row7_col2\" class=\"data row7 col2\" >1.198527</td>\n      <td id=\"T_181fb_row7_col3\" class=\"data row7 col3\" >0.384899</td>\n      <td id=\"T_181fb_row7_col4\" class=\"data row7 col4\" >0.973864</td>\n      <td id=\"T_181fb_row7_col5\" class=\"data row7 col5\" >0.660796</td>\n    </tr>\n    <tr>\n      <th id=\"T_181fb_level0_row8\" class=\"row_heading level0 row8\" >Crystal Orchid</th>\n      <td id=\"T_181fb_row8_col0\" class=\"data row8 col0\" >0.750450</td>\n      <td id=\"T_181fb_row8_col1\" class=\"data row8 col1\" >0.902877</td>\n      <td id=\"T_181fb_row8_col2\" class=\"data row8 col2\" >0.707104</td>\n      <td id=\"T_181fb_row8_col3\" class=\"data row8 col3\" >0.525687</td>\n      <td id=\"T_181fb_row8_col4\" class=\"data row8 col4\" >0.496214</td>\n      <td id=\"T_181fb_row8_col5\" class=\"data row8 col5\" >0.511909</td>\n    </tr>\n  </tbody>\n</table>\n"
     },
     "execution_count": 30,
     "metadata": {},
     "output_type": "execute_result"
    }
   ],
   "source": [
    "new_lineup = []\n",
    "for player in pies.lineup:\n",
    "    new_lineup.append(player.simulated_copy(buffs=\n",
    "                                         {'laserlikeness': 0.7352479438825257,\n",
    "                                          'tenaciousness': 0.18846089786002318,\n",
    "                                          'chasiness': 0.17397007472834686,\n",
    "                                          'continuation': 0.36907020559415343,\n",
    "                                          'base_thirst': 0.3980900812170812,\n",
    "                                          'indulgence': 0.18520160996281987}))\n",
    "\n",
    "set_heatmap(get_baserunning_stlats(new_lineup), maxVal=1.0)\n",
    "# 971353de-05f9-47b2-8c27-62b666f182af"
   ],
   "metadata": {
    "collapsed": false,
    "pycharm": {
     "name": "#%%\n"
    }
   }
  },
  {
   "cell_type": "markdown",
   "source": [
    "## Squid Gift ~~III~~ V\n",
    "*League Blessing*"
   ],
   "metadata": {
    "collapsed": false,
    "pycharm": {
     "name": "#%% md\n"
    }
   }
  },
  {
   "cell_type": "code",
   "execution_count": 31,
   "outputs": [
    {
     "data": {
      "text/plain": "<display.general.HTMLWrapper at 0x19001c5e5e0>",
      "text/html": "<div style=\"font-family: 'Lora', 'Courier New', monospace, serif;font-weight: 700;color:#5988ff;text-shadow:0 0 20px #5988ff\">who wants a <s>glow stick</s> gunblade bat</div>"
     },
     "execution_count": 31,
     "metadata": {},
     "output_type": "execute_result"
    }
   ],
   "source": [
    "god_text(\"who wants a <s>glow stick</s> gunblade bat\", 1)"
   ],
   "metadata": {
    "collapsed": false,
    "pycharm": {
     "name": "#%%\n"
    }
   }
  },
  {
   "cell_type": "markdown",
   "source": [
    "This ~~likely~~ gives a variant of the Gunblade Bat, like with last circuit's Snow Shovel. This would max out batting. See below for approximate stat change."
   ],
   "metadata": {
    "collapsed": false,
    "pycharm": {
     "name": "#%% md\n"
    }
   }
  },
  {
   "cell_type": "code",
   "execution_count": 32,
   "outputs": [
    {
     "data": {
      "text/plain": "<pandas.io.formats.style.Styler at 0x19001c804f0>",
      "text/html": "<style type=\"text/css\">\n#T_f8195_row0_col0 {\n  background-color: #128a49;\n  color: #f1f1f1;\n}\n#T_f8195_row0_col1 {\n  background-color: #39a758;\n  color: #f1f1f1;\n}\n#T_f8195_row0_col2, #T_f8195_row1_col2, #T_f8195_row3_col2, #T_f8195_row3_col8, #T_f8195_row5_col0, #T_f8195_row5_col1, #T_f8195_row5_col2, #T_f8195_row6_col0, #T_f8195_row6_col1, #T_f8195_row6_col2, #T_f8195_row7_col1, #T_f8195_row7_col2, #T_f8195_row8_col1, #T_f8195_row8_col2 {\n  background-color: #006837;\n  color: #f1f1f1;\n}\n#T_f8195_row0_col3 {\n  background-color: #a9da6c;\n  color: #000000;\n}\n#T_f8195_row0_col4 {\n  background-color: #fff6b0;\n  color: #000000;\n}\n#T_f8195_row0_col5 {\n  background-color: #bd1726;\n  color: #f1f1f1;\n  background-color: #0c7f43;\n  color: #f1f1f1;\n}\n#T_f8195_row0_col6 {\n  background-color: #7dc765;\n  color: #000000;\n}\n#T_f8195_row0_col7, #T_f8195_row1_col7 {\n  background-color: #63bc62;\n  color: #f1f1f1;\n  background-color: #f36b42;\n  color: #f1f1f1;\n}\n#T_f8195_row0_col8, #T_f8195_row2_col1 {\n  background-color: #60ba62;\n  color: #f1f1f1;\n}\n#T_f8195_row1_col0 {\n  background-color: #98d368;\n  color: #000000;\n}\n#T_f8195_row1_col1 {\n  background-color: #c5e67e;\n  color: #000000;\n}\n#T_f8195_row1_col3 {\n  background-color: #30a356;\n  color: #f1f1f1;\n}\n#T_f8195_row1_col4 {\n  background-color: #a0d669;\n  color: #000000;\n}\n#T_f8195_row1_col5 {\n  background-color: #04703b;\n  color: #f1f1f1;\n  background-color: #ad0826;\n  color: #f1f1f1;\n}\n#T_f8195_row1_col6 {\n  background-color: #199750;\n  color: #f1f1f1;\n}\n#T_f8195_row1_col8, #T_f8195_row4_col1 {\n  background-color: #5db961;\n  color: #f1f1f1;\n}\n#T_f8195_row2_col0 {\n  background-color: #51b35e;\n  color: #f1f1f1;\n}\n#T_f8195_row2_col2 {\n  background-color: #06733d;\n  color: #f1f1f1;\n}\n#T_f8195_row2_col3 {\n  background-color: #89cc67;\n  color: #000000;\n}\n#T_f8195_row2_col4, #T_f8195_row7_col4 {\n  background-color: #07753e;\n  color: #f1f1f1;\n}\n#T_f8195_row2_col5 {\n  background-color: #b9e176;\n  color: #000000;\n  background-color: #fdc171;\n  color: #000000;\n}\n#T_f8195_row2_col6 {\n  background-color: #c1e57b;\n  color: #000000;\n}\n#T_f8195_row2_col7 {\n  background-color: #3ca959;\n  color: #f1f1f1;\n  background-color: #e44c34;\n  color: #f1f1f1;\n}\n#T_f8195_row2_col8 {\n  background-color: #ad0826;\n  color: #f1f1f1;\n}\n#T_f8195_row3_col0 {\n  background-color: #73c264;\n  color: #000000;\n}\n#T_f8195_row3_col1 {\n  background-color: #2da155;\n  color: #f1f1f1;\n}\n#T_f8195_row3_col3 {\n  background-color: #fdb768;\n  color: #000000;\n}\n#T_f8195_row3_col4 {\n  background-color: #f8864f;\n  color: #f1f1f1;\n}\n#T_f8195_row3_col5, #T_f8195_row6_col5 {\n  background-color: #7ac665;\n  color: #000000;\n  background-color: #f7814c;\n  color: #f1f1f1;\n}\n#T_f8195_row3_col6 {\n  background-color: #a7d96b;\n  color: #000000;\n}\n#T_f8195_row3_col7 {\n  background-color: #108647;\n  color: #f1f1f1;\n  background-color: #c41e27;\n  color: #f1f1f1;\n}\n#T_f8195_row4_col0 {\n  background-color: #7fc866;\n  color: #000000;\n}\n#T_f8195_row4_col2 {\n  background-color: #33a456;\n  color: #f1f1f1;\n}\n#T_f8195_row4_col3 {\n  background-color: #fca85e;\n  color: #000000;\n}\n#T_f8195_row4_col4 {\n  background-color: #08773f;\n  color: #f1f1f1;\n}\n#T_f8195_row4_col5 {\n  background-color: #e3f399;\n  color: #000000;\n  background-color: #fee999;\n  color: #000000;\n}\n#T_f8195_row4_col6 {\n  background-color: #e2f397;\n  color: #000000;\n}\n#T_f8195_row4_col7 {\n  background-color: #fee491;\n  color: #000000;\n  background-color: #ddf191;\n  color: #000000;\n}\n#T_f8195_row4_col8 {\n  background-color: #d22b27;\n  color: #f1f1f1;\n}\n#T_f8195_row5_col3 {\n  background-color: #fdc372;\n  color: #000000;\n}\n#T_f8195_row5_col4 {\n  background-color: #138c4a;\n  color: #f1f1f1;\n}\n#T_f8195_row5_col5 {\n  background-color: #fafdb8;\n  color: #000000;\n  background-color: #fffbb8;\n  color: #000000;\n}\n#T_f8195_row5_col6 {\n  background-color: #0f8446;\n  color: #f1f1f1;\n}\n#T_f8195_row5_col7 {\n  background-color: #fffbb8;\n  color: #000000;\n  background-color: #fafdb8;\n  color: #000000;\n}\n#T_f8195_row5_col8 {\n  background-color: #0c7f43;\n  color: #f1f1f1;\n}\n#T_f8195_row6_col3 {\n  background-color: #05713c;\n  color: #f1f1f1;\n}\n#T_f8195_row6_col4 {\n  background-color: #e6f59d;\n  color: #000000;\n}\n#T_f8195_row6_col6 {\n  background-color: #63bc62;\n  color: #f1f1f1;\n}\n#T_f8195_row6_col7, #T_f8195_row7_col7 {\n  background-color: #91d068;\n  color: #000000;\n  background-color: #fa9857;\n  color: #000000;\n}\n#T_f8195_row6_col8 {\n  background-color: #15904c;\n  color: #f1f1f1;\n}\n#T_f8195_row7_col0 {\n  background-color: #0b7d42;\n  color: #f1f1f1;\n}\n#T_f8195_row7_col3 {\n  background-color: #c9e881;\n  color: #000000;\n}\n#T_f8195_row7_col5 {\n  background-color: #e44c34;\n  color: #f1f1f1;\n  background-color: #3ca959;\n  color: #f1f1f1;\n}\n#T_f8195_row7_col6 {\n  background-color: #fffab6;\n  color: #000000;\n}\n#T_f8195_row7_col8 {\n  background-color: #ebf7a3;\n  color: #000000;\n}\n#T_f8195_row8_col0 {\n  background-color: #026c39;\n  color: #f1f1f1;\n}\n#T_f8195_row8_col3 {\n  background-color: #f7844e;\n  color: #f1f1f1;\n}\n#T_f8195_row8_col4 {\n  background-color: #a2d76a;\n  color: #000000;\n}\n#T_f8195_row8_col5 {\n  background-color: #2da155;\n  color: #f1f1f1;\n  background-color: #de402e;\n  color: #f1f1f1;\n}\n#T_f8195_row8_col6 {\n  background-color: #f4fab0;\n  color: #000000;\n}\n#T_f8195_row8_col7 {\n  background-color: #8ccd67;\n  color: #000000;\n  background-color: #f99355;\n  color: #000000;\n}\n#T_f8195_row8_col8 {\n  background-color: #fede89;\n  color: #000000;\n}\n</style>\n<table id=\"T_f8195_\">\n  <thead>\n    <tr>\n      <th class=\"blank level0\" >&nbsp;</th>\n      <th class=\"col_heading level0 col0\" >Batting Rating</th>\n      <th class=\"col_heading level0 col1\" >Thwackability</th>\n      <th class=\"col_heading level0 col2\" >Divinity</th>\n      <th class=\"col_heading level0 col3\" >Musclitude</th>\n      <th class=\"col_heading level0 col4\" >Moxie</th>\n      <th class=\"col_heading level0 col5\" >Patheticism</th>\n      <th class=\"col_heading level0 col6\" >Martyrdom</th>\n      <th class=\"col_heading level0 col7\" >Tragicness</th>\n      <th class=\"col_heading level0 col8\" >Buoyancy</th>\n    </tr>\n  </thead>\n  <tbody>\n    <tr>\n      <th id=\"T_f8195_level0_row0\" class=\"row_heading level0 row0\" >Zahel Reroll</th>\n      <td id=\"T_f8195_row0_col0\" class=\"data row0 col0\" >0.928695</td>\n      <td id=\"T_f8195_row0_col1\" class=\"data row0 col1\" >0.856987</td>\n      <td id=\"T_f8195_row0_col2\" class=\"data row0 col2\" >1.286832</td>\n      <td id=\"T_f8195_row0_col3\" class=\"data row0 col3\" >0.691413</td>\n      <td id=\"T_f8195_row0_col4\" class=\"data row0 col4\" >0.471864</td>\n      <td id=\"T_f8195_row0_col5\" class=\"data row0 col5\" >0.050027</td>\n      <td id=\"T_f8195_row0_col6\" class=\"data row0 col6\" >0.761770</td>\n      <td id=\"T_f8195_row0_col7\" class=\"data row0 col7\" >0.802264</td>\n      <td id=\"T_f8195_row0_col8\" class=\"data row0 col8\" >0.804711</td>\n    </tr>\n    <tr>\n      <th id=\"T_f8195_level0_row1\" class=\"row_heading level0 row1\" >Nadia Outlaw</th>\n      <td id=\"T_f8195_row1_col0\" class=\"data row1 col0\" >0.721402</td>\n      <td id=\"T_f8195_row1_col1\" class=\"data row1 col1\" >0.638273</td>\n      <td id=\"T_f8195_row1_col2\" class=\"data row1 col2\" >1.294756</td>\n      <td id=\"T_f8195_row1_col3\" class=\"data row1 col3\" >0.868004</td>\n      <td id=\"T_f8195_row1_col4\" class=\"data row1 col4\" >0.708323</td>\n      <td id=\"T_f8195_row1_col5\" class=\"data row1 col5\" >0.983433</td>\n      <td id=\"T_f8195_row1_col6\" class=\"data row1 col6\" >0.900867</td>\n      <td id=\"T_f8195_row1_col7\" class=\"data row1 col7\" >0.802879</td>\n      <td id=\"T_f8195_row1_col8\" class=\"data row1 col8\" >0.809804</td>\n    </tr>\n    <tr>\n      <th id=\"T_f8195_level0_row2\" class=\"row_heading level0 row2\" >Beck Damage</th>\n      <td id=\"T_f8195_row2_col0\" class=\"data row2 col0\" >0.827572</td>\n      <td id=\"T_f8195_row2_col1\" class=\"data row2 col1\" >0.808174</td>\n      <td id=\"T_f8195_row2_col2\" class=\"data row2 col2\" >0.976501</td>\n      <td id=\"T_f8195_row2_col3\" class=\"data row2 col3\" >0.744469</td>\n      <td id=\"T_f8195_row2_col4\" class=\"data row2 col4\" >0.971012</td>\n      <td id=\"T_f8195_row2_col5\" class=\"data row2 col5\" >0.661353</td>\n      <td id=\"T_f8195_row2_col6\" class=\"data row2 col6\" >0.645470</td>\n      <td id=\"T_f8195_row2_col7\" class=\"data row2 col7\" >0.852832</td>\n      <td id=\"T_f8195_row2_col8\" class=\"data row2 col8\" >0.018311</td>\n    </tr>\n    <tr>\n      <th id=\"T_f8195_level0_row3\" class=\"row_heading level0 row3\" >Aari Babatunde</th>\n      <td id=\"T_f8195_row3_col0\" class=\"data row3 col0\" >0.780146</td>\n      <td id=\"T_f8195_row3_col1\" class=\"data row3 col1\" >0.873742</td>\n      <td id=\"T_f8195_row3_col2\" class=\"data row3 col2\" >1.328415</td>\n      <td id=\"T_f8195_row3_col3\" class=\"data row3 col3\" >0.319424</td>\n      <td id=\"T_f8195_row3_col4\" class=\"data row3 col4\" >0.240478</td>\n      <td id=\"T_f8195_row3_col5\" class=\"data row3 col5\" >0.768911</td>\n      <td id=\"T_f8195_row3_col6\" class=\"data row3 col6\" >0.698140</td>\n      <td id=\"T_f8195_row3_col7\" class=\"data row3 col7\" >0.936189</td>\n      <td id=\"T_f8195_row3_col8\" class=\"data row3 col8\" >1.062627</td>\n    </tr>\n    <tr>\n      <th id=\"T_f8195_level0_row4\" class=\"row_heading level0 row4\" >Jumpy Augustus</th>\n      <td id=\"T_f8195_row4_col0\" class=\"data row4 col0\" >0.758070</td>\n      <td id=\"T_f8195_row4_col1\" class=\"data row4 col1\" >0.810544</td>\n      <td id=\"T_f8195_row4_col2\" class=\"data row4 col2\" >0.867005</td>\n      <td id=\"T_f8195_row4_col3\" class=\"data row4 col3\" >0.291887</td>\n      <td id=\"T_f8195_row4_col4\" class=\"data row4 col4\" >0.966047</td>\n      <td id=\"T_f8195_row4_col5\" class=\"data row4 col5\" >0.570342</td>\n      <td id=\"T_f8195_row4_col6\" class=\"data row4 col6\" >0.576055</td>\n      <td id=\"T_f8195_row4_col7\" class=\"data row4 col7\" >0.411347</td>\n      <td id=\"T_f8195_row4_col8\" class=\"data row4 col8\" >0.092200</td>\n    </tr>\n    <tr>\n      <th id=\"T_f8195_level0_row5\" class=\"row_heading level0 row5\" >Kid Darling</th>\n      <td id=\"T_f8195_row5_col0\" class=\"data row5 col0\" >1.120415</td>\n      <td id=\"T_f8195_row5_col1\" class=\"data row5 col1\" >1.205107</td>\n      <td id=\"T_f8195_row5_col2\" class=\"data row5 col2\" >1.668419</td>\n      <td id=\"T_f8195_row5_col3\" class=\"data row5 col3\" >0.339945</td>\n      <td id=\"T_f8195_row5_col4\" class=\"data row5 col4\" >0.922650</td>\n      <td id=\"T_f8195_row5_col5\" class=\"data row5 col5\" >0.512086</td>\n      <td id=\"T_f8195_row5_col6\" class=\"data row5 col6\" >0.937899</td>\n      <td id=\"T_f8195_row5_col7\" class=\"data row5 col7\" >0.484845</td>\n      <td id=\"T_f8195_row5_col8\" class=\"data row5 col8\" >0.952375</td>\n    </tr>\n    <tr>\n      <th id=\"T_f8195_level0_row6\" class=\"row_heading level0 row6\" >Ariana Beard</th>\n      <td id=\"T_f8195_row6_col0\" class=\"data row6 col0\" >1.237631</td>\n      <td id=\"T_f8195_row6_col1\" class=\"data row6 col1\" >1.651972</td>\n      <td id=\"T_f8195_row6_col2\" class=\"data row6 col2\" >1.639122</td>\n      <td id=\"T_f8195_row6_col3\" class=\"data row6 col3\" >0.979816</td>\n      <td id=\"T_f8195_row6_col4\" class=\"data row6 col4\" >0.563949</td>\n      <td id=\"T_f8195_row6_col5\" class=\"data row6 col5\" >0.769467</td>\n      <td id=\"T_f8195_row6_col6\" class=\"data row6 col6\" >0.803556</td>\n      <td id=\"T_f8195_row6_col7\" class=\"data row6 col7\" >0.733279</td>\n      <td id=\"T_f8195_row6_col8\" class=\"data row6 col8\" >0.914411</td>\n    </tr>\n    <tr>\n      <th id=\"T_f8195_level0_row7\" class=\"row_heading level0 row7\" >Bottles Dinkleburg</th>\n      <td id=\"T_f8195_row7_col0\" class=\"data row7 col0\" >0.956906</td>\n      <td id=\"T_f8195_row7_col1\" class=\"data row7 col1\" >1.056540</td>\n      <td id=\"T_f8195_row7_col2\" class=\"data row7 col2\" >1.026293</td>\n      <td id=\"T_f8195_row7_col3\" class=\"data row7 col3\" >0.632229</td>\n      <td id=\"T_f8195_row7_col4\" class=\"data row7 col4\" >0.969013</td>\n      <td id=\"T_f8195_row7_col5\" class=\"data row7 col5\" >0.147557</td>\n      <td id=\"T_f8195_row7_col6\" class=\"data row7 col6\" >0.484068</td>\n      <td id=\"T_f8195_row7_col7\" class=\"data row7 col7\" >0.731297</td>\n      <td id=\"T_f8195_row7_col8\" class=\"data row7 col8\" >0.553051</td>\n    </tr>\n    <tr>\n      <th id=\"T_f8195_level0_row8\" class=\"row_heading level0 row8\" >Crystal Orchid</th>\n      <td id=\"T_f8195_row8_col0\" class=\"data row8 col0\" >0.991657</td>\n      <td id=\"T_f8195_row8_col1\" class=\"data row8 col1\" >1.199470</td>\n      <td id=\"T_f8195_row8_col2\" class=\"data row8 col2\" >1.730163</td>\n      <td id=\"T_f8195_row8_col3\" class=\"data row8 col3\" >0.235813</td>\n      <td id=\"T_f8195_row8_col4\" class=\"data row8 col4\" >0.705784</td>\n      <td id=\"T_f8195_row8_col5\" class=\"data row8 col5\" >0.873359</td>\n      <td id=\"T_f8195_row8_col6\" class=\"data row8 col6\" >0.530916</td>\n      <td id=\"T_f8195_row8_col7\" class=\"data row8 col7\" >0.739221</td>\n      <td id=\"T_f8195_row8_col8\" class=\"data row8 col8\" >0.394692</td>\n    </tr>\n  </tbody>\n</table>\n"
     },
     "execution_count": 32,
     "metadata": {},
     "output_type": "execute_result"
    }
   ],
   "source": [
    "new_lineup = []\n",
    "for player in pies.lineup:\n",
    "    new_lineup.append(player.simulated_copy(buffs=\n",
    "                                         {'thwackability': 0.5130641039787702,\n",
    "                                          'divinity': 0.7269251670605504,\n",
    "                                          'omniscience': 0.15027996064258692,\n",
    "                                          'continuation': 0.11857006105026602,\n",
    "                                          'cinnamon': 0.5548917066411219}))\n",
    "\n",
    "set_heatmap(get_batting_stlats(new_lineup), maxVal=1.0)\n",
    "# 62fb21ab-1ef3-4c01-93a2-4d95325b1dab"
   ],
   "metadata": {
    "collapsed": false,
    "pycharm": {
     "name": "#%%\n"
    }
   }
  },
  {
   "cell_type": "markdown",
   "source": [
    "## ~~Squid Gift IV~~\n",
    "*League Blessing*"
   ],
   "metadata": {
    "collapsed": false,
    "pycharm": {
     "name": "#%% md\n"
    }
   }
  },
  {
   "cell_type": "code",
   "execution_count": 33,
   "outputs": [
    {
     "data": {
      "text/plain": "<display.general.HTMLWrapper at 0x19001c3edc0>",
      "text/html": "<div style=\"font-family: 'Lora', 'Courier New', monospace, serif;font-weight: 700;color:#5988ff;text-shadow:0 0 20px #5988ff\">who wants a smoke machine</div>"
     },
     "execution_count": 33,
     "metadata": {},
     "output_type": "execute_result"
    }
   ],
   "source": [
    "god_text(\"who wants a smoke machine\", 1)"
   ],
   "metadata": {
    "collapsed": false,
    "pycharm": {
     "name": "#%%\n"
    }
   }
  },
  {
   "cell_type": "markdown",
   "source": [
    "I have no idea what this is. Defense item?"
   ],
   "metadata": {
    "collapsed": false,
    "pycharm": {
     "name": "#%% md\n"
    }
   }
  },
  {
   "cell_type": "markdown",
   "source": [
    "## ~~Guest of Honor~~\n",
    "*Team Will*\n",
    "\n",
    "**Choose a Player on your Team to become the Life of the Party and start Partying early.**\n",
    "\n",
    "This would give one player the modification Life of the Party, which would increase stat boosts during parties."
   ],
   "metadata": {
    "collapsed": false,
    "pycharm": {
     "name": "#%% md\n"
    }
   }
  },
  {
   "cell_type": "markdown",
   "source": [
    "## ~~Party Planning~~\n",
    "*Team Amplification*\n",
    "\n",
    "This would boost various stats team-wide, depending on the chosen Amplification."
   ],
   "metadata": {
    "collapsed": false,
    "pycharm": {
     "name": "#%% md\n"
    }
   }
  },
  {
   "cell_type": "markdown",
   "source": [
    "### Cookout\n",
    "**Throw a good vibes cookout to boost your Cinnamon, Moxie, and Base Thirst.**"
   ],
   "metadata": {
    "collapsed": false,
    "pycharm": {
     "name": "#%% md\n"
    }
   }
  },
  {
   "cell_type": "code",
   "execution_count": 34,
   "outputs": [
    {
     "data": {
      "text/plain": "<pandas.io.formats.style.Styler at 0x19001c62250>",
      "text/html": "<style type=\"text/css\">\n#T_45f3c_row0_col0 {\n  background-color: #f8fcb6;\n  color: #000000;\n}\n#T_45f3c_row1_col0 {\n  background-color: #96d268;\n  color: #000000;\n}\n#T_45f3c_row2_col0 {\n  background-color: #e3f399;\n  color: #000000;\n}\n</style>\n<table id=\"T_45f3c_\">\n  <thead>\n    <tr>\n      <th class=\"blank level0\" >&nbsp;</th>\n      <th class=\"col_heading level0 col0\" >Pies Average</th>\n    </tr>\n  </thead>\n  <tbody>\n    <tr>\n      <th id=\"T_45f3c_level0_row0\" class=\"row_heading level0 row0\" >Cinnamon</th>\n      <td id=\"T_45f3c_row0_col0\" class=\"data row0 col0\" >0.516376</td>\n    </tr>\n    <tr>\n      <th id=\"T_45f3c_level0_row1\" class=\"row_heading level0 row1\" >Moxie</th>\n      <td id=\"T_45f3c_row1_col0\" class=\"data row1 col0\" >0.724347</td>\n    </tr>\n    <tr>\n      <th id=\"T_45f3c_level0_row2\" class=\"row_heading level0 row2\" >Base Thirst</th>\n      <td id=\"T_45f3c_row2_col0\" class=\"data row2 col0\" >0.573368</td>\n    </tr>\n  </tbody>\n</table>\n"
     },
     "execution_count": 34,
     "metadata": {},
     "output_type": "execute_result"
    }
   ],
   "source": [
    "cin = mean([x.cinnamon for x in pies.lineup + pies.rotation])\n",
    "mox = mean([x.moxie for x in pies.lineup])\n",
    "thst = mean([x.base_thirst for x in pies.lineup])\n",
    "\n",
    "set_heatmap(pandas.DataFrame(pandas.Series({\"Cinnamon\": cin, \"Moxie\": mox, \"Base Thirst\": thst}, name=\"Pies Average\")), maxVal=1.0)"
   ],
   "metadata": {
    "collapsed": false,
    "pycharm": {
     "name": "#%%\n"
    }
   }
  },
  {
   "cell_type": "markdown",
   "source": [
    "### Rager\n",
    "**Throw an all out dance party to boost your Musclitude, Ground Friction, and Continuation.**"
   ],
   "metadata": {
    "collapsed": false,
    "pycharm": {
     "name": "#%% md\n"
    }
   }
  },
  {
   "cell_type": "code",
   "execution_count": 35,
   "outputs": [
    {
     "data": {
      "text/plain": "<pandas.io.formats.style.Styler at 0x19001c36100>",
      "text/html": "<style type=\"text/css\">\n#T_761be_row0_col0 {\n  background-color: #e5f49b;\n  color: #000000;\n}\n#T_761be_row1_col0 {\n  background-color: #b5df74;\n  color: #000000;\n}\n#T_761be_row2_col0 {\n  background-color: #70c164;\n  color: #000000;\n}\n</style>\n<table id=\"T_761be_\">\n  <thead>\n    <tr>\n      <th class=\"blank level0\" >&nbsp;</th>\n      <th class=\"col_heading level0 col0\" >Pies Average</th>\n    </tr>\n  </thead>\n  <tbody>\n    <tr>\n      <th id=\"T_761be_level0_row0\" class=\"row_heading level0 row0\" >Musclitude</th>\n      <td id=\"T_761be_row0_col0\" class=\"data row0 col0\" >0.567000</td>\n    </tr>\n    <tr>\n      <th id=\"T_761be_level0_row1\" class=\"row_heading level0 row1\" >Ground Friction</th>\n      <td id=\"T_761be_row1_col0\" class=\"data row1 col0\" >0.671639</td>\n    </tr>\n    <tr>\n      <th id=\"T_761be_level0_row2\" class=\"row_heading level0 row2\" >Continuation</th>\n      <td id=\"T_761be_row2_col0\" class=\"data row2 col0\" >0.783564</td>\n    </tr>\n  </tbody>\n</table>\n"
     },
     "execution_count": 35,
     "metadata": {},
     "output_type": "execute_result"
    }
   ],
   "source": [
    "musc = mean([x.musclitude for x in pies.lineup])\n",
    "fric = mean([x.ground_friction for x in pies.lineup])\n",
    "cont = mean([x.continuation for x in pies.lineup])\n",
    "\n",
    "set_heatmap(pandas.DataFrame(pandas.Series({\"Musclitude\": musc, \"Ground Friction\": fric, \"Continuation\": cont}, name=\"Pies Average\")), maxVal=1.0)"
   ],
   "metadata": {
    "collapsed": false,
    "pycharm": {
     "name": "#%%\n"
    }
   }
  },
  {
   "cell_type": "markdown",
   "source": [
    "### Mixer\n",
    "**Throw an awkward social to boost your Unthwackability, Omniscience, and Overpowerment.**"
   ],
   "metadata": {
    "collapsed": false,
    "pycharm": {
     "name": "#%% md\n"
    }
   }
  },
  {
   "cell_type": "code",
   "execution_count": 36,
   "outputs": [
    {
     "data": {
      "text/plain": "<pandas.io.formats.style.Styler at 0x19001b91100>",
      "text/html": "<style type=\"text/css\">\n#T_fa6ef_row0_col0 {\n  background-color: #a9da6c;\n  color: #000000;\n}\n#T_fa6ef_row1_col0 {\n  background-color: #9dd569;\n  color: #000000;\n}\n#T_fa6ef_row2_col0 {\n  background-color: #fee28f;\n  color: #000000;\n}\n</style>\n<table id=\"T_fa6ef_\">\n  <thead>\n    <tr>\n      <th class=\"blank level0\" >&nbsp;</th>\n      <th class=\"col_heading level0 col0\" >Pies Average</th>\n    </tr>\n  </thead>\n  <tbody>\n    <tr>\n      <th id=\"T_fa6ef_level0_row0\" class=\"row_heading level0 row0\" >Unthwackability</th>\n      <td id=\"T_fa6ef_row0_col0\" class=\"data row0 col0\" >0.691763</td>\n    </tr>\n    <tr>\n      <th id=\"T_fa6ef_level0_row1\" class=\"row_heading level0 row1\" >Omniscience</th>\n      <td id=\"T_fa6ef_row1_col0\" class=\"data row1 col0\" >0.713032</td>\n    </tr>\n    <tr>\n      <th id=\"T_fa6ef_level0_row2\" class=\"row_heading level0 row2\" >Overpowerment</th>\n      <td id=\"T_fa6ef_row2_col0\" class=\"data row2 col0\" >0.409257</td>\n    </tr>\n  </tbody>\n</table>\n"
     },
     "execution_count": 36,
     "metadata": {},
     "output_type": "execute_result"
    }
   ],
   "source": [
    "uthk = mean([x.unthwackability for x in pies.rotation])\n",
    "omni = mean([x.omniscience for x in pies.lineup + pies.rotation])\n",
    "pow = mean([x.overpowerment for x in pies.rotation])\n",
    "\n",
    "set_heatmap(pandas.DataFrame(pandas.Series({\"Unthwackability\": uthk, \"Omniscience\": omni, \"Overpowerment\": pow}, name=\"Pies Average\")), maxVal=1.0)"
   ],
   "metadata": {
    "collapsed": false,
    "pycharm": {
     "name": "#%%\n"
    }
   }
  },
  {
   "cell_type": "markdown",
   "source": [
    "### Formal\n",
    "**Throw a fancy formal to boost your Divinity, Coldness, and Chasiness.**"
   ],
   "metadata": {
    "collapsed": false,
    "pycharm": {
     "name": "#%% md\n"
    }
   }
  },
  {
   "cell_type": "code",
   "execution_count": 37,
   "outputs": [
    {
     "data": {
      "text/plain": "<pandas.io.formats.style.Styler at 0x19001c809d0>",
      "text/html": "<style type=\"text/css\">\n#T_33d31_row0_col0 {\n  background-color: #ddf191;\n  color: #000000;\n}\n#T_33d31_row1_col0 {\n  background-color: #fb9d59;\n  color: #000000;\n}\n#T_33d31_row2_col0 {\n  background-color: #b9e176;\n  color: #000000;\n}\n</style>\n<table id=\"T_33d31_\">\n  <thead>\n    <tr>\n      <th class=\"blank level0\" >&nbsp;</th>\n      <th class=\"col_heading level0 col0\" >Pies Average</th>\n    </tr>\n  </thead>\n  <tbody>\n    <tr>\n      <th id=\"T_33d31_level0_row0\" class=\"row_heading level0 row0\" >Divinity</th>\n      <td id=\"T_33d31_row0_col0\" class=\"data row0 col0\" >0.586131</td>\n    </tr>\n    <tr>\n      <th id=\"T_33d31_level0_row1\" class=\"row_heading level0 row1\" >Coldness</th>\n      <td id=\"T_33d31_row1_col0\" class=\"data row1 col0\" >0.276136</td>\n    </tr>\n    <tr>\n      <th id=\"T_33d31_level0_row2\" class=\"row_heading level0 row2\" >Chasiness</th>\n      <td id=\"T_33d31_row2_col0\" class=\"data row2 col0\" >0.663248</td>\n    </tr>\n  </tbody>\n</table>\n"
     },
     "execution_count": 37,
     "metadata": {},
     "output_type": "execute_result"
    }
   ],
   "source": [
    "div = mean([x.divinity for x in pies.lineup])\n",
    "cold = mean([x.coldness for x in pies.rotation])\n",
    "chas = mean([x.chasiness for x in pies.lineup + pies.rotation])\n",
    "\n",
    "set_heatmap(pandas.DataFrame(pandas.Series({\"Divinity\": div, \"Coldness\": cold, \"Chasiness\": chas}, name=\"Pies Average\")), maxVal=1.0)"
   ],
   "metadata": {
    "collapsed": false,
    "pycharm": {
     "name": "#%%\n"
    }
   }
  },
  {
   "cell_type": "markdown",
   "source": [
    "## Blood Jams Vol. 1\n",
    "*League Blessing*\n",
    "\n",
    "This gives one of the following Blood mods to a random player\n",
    "\n",
    "### Fire Blood\n",
    "This would give a pitcher Firey, which would give them a chance of pitching Double Strikes.\n",
    "\n",
    "### Electric Blood\n",
    "This would give a pitcher Electric, which would give them a chance of removing Balls in the current count.\n",
    "\n",
    "### Strike Blood\n",
    "This would give a batter Fourth Strike, giving them 4 strikes rather than 3.\n",
    "\n",
    "### Ball Blood\n",
    "This would give a batter Walk in the Park, letting them walk on 3 balls rather than 4."
   ],
   "metadata": {
    "collapsed": false,
    "pycharm": {
     "name": "#%% md\n"
    }
   }
  },
  {
   "cell_type": "markdown",
   "source": [
    "## Charges\n",
    "*Team Will*\n",
    "\n",
    "This allows choosing a player to \"Charge the Microphone\". The purpose is unknown but present in previous Short Circuits."
   ],
   "metadata": {
    "collapsed": false,
    "pycharm": {
     "name": "#%% md\n"
    }
   }
  },
  {
   "cell_type": "markdown",
   "id": "8a693fd0",
   "metadata": {},
   "source": [
    "\n",
    "---\n",
    "## Appendix\n",
    "* [Description of Attributes](https://www.blaseball.wiki/w/Player_Attributes)\n",
    "* [Stlat Viewer](https://blaseballplayers.netlify.app/team/fa3b11e7-5321-485f-bdbd-355af10cce11)\n",
    "* [Historical Player Graphs](https://astrology-next.vercel.app/team/philly-pies-gamma10)"
   ]
  }
 ],
 "metadata": {
  "kernelspec": {
   "name": "python3",
   "language": "python",
   "display_name": "Python 3 (ipykernel)"
  }
 },
 "nbformat": 4,
 "nbformat_minor": 5
}