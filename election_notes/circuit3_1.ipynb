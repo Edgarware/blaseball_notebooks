{
 "cells": [
  {
   "cell_type": "markdown",
   "id": "dc5361dc",
   "metadata": {},
   "source": [
    "# Short Circuit 3 Election Notes\n",
    "\n",
    ">**FORBIDDEN KNOWLEDGE WARNING**\n",
    ">\n",
    ">This document contains some information that is not currently present on the main site and may be considered spoilers.\n",
    ">Continue at your own discretion. Some information in this document cannot be shared on the Discord without spoiler tags.\n"
   ]
  },
  {
   "cell_type": "code",
   "execution_count": 27,
   "id": "6b243a31",
   "metadata": {},
   "outputs": [
    {
     "data": {
      "text/plain": "<IPython.core.display.Markdown object>",
      "text/markdown": "**Last Updated Season 1, Day 2**"
     },
     "metadata": {},
     "output_type": "display_data"
    }
   ],
   "source": [
    "import pandas\n",
    "%matplotlib inline\n",
    "from blaseball_mike.models import *\n",
    "from blaseball_mike.tables import StatType\n",
    "import plotly.io as _pio\n",
    "from IPython.display import display, Markdown\n",
    "from copy import deepcopy\n",
    "from statistics import mean\n",
    "\n",
    "import os\n",
    "import sys\n",
    "pdir = os.path.abspath(os.path.join(os.path.dirname(''), os.path.pardir))\n",
    "sys.path.append(pdir)\n",
    "from display import *\n",
    "from blessings import *\n",
    "sys.path.remove(pdir)\n",
    "\n",
    "pandas.options.plotting.backend = \"plotly\"\n",
    "_pio.renderers.default = \"notebook_connected\"\n",
    "\n",
    "league = League.load()\n",
    "pies = [x for x in league.teams.values() if x.full_name == \"Philly Pies\"][0]\n",
    "\n",
    "sim = SimulationData.load()\n",
    "display(Markdown(f\"**Last Updated Season {sim.season}, Day {sim.day}**\"))"
   ]
  },
  {
   "cell_type": "markdown",
   "id": "f4bf0ad9",
   "metadata": {},
   "source": [
    "___\n",
    "## Squid Gift I\n",
    "*League Blessing*"
   ]
  },
  {
   "cell_type": "code",
   "source": [
    "god_text(\"who wants a confetti cannon\", 1)"
   ],
   "metadata": {
    "collapsed": false,
    "pycharm": {
     "name": "#%%\n"
    }
   },
   "execution_count": 28,
   "outputs": [
    {
     "data": {
      "text/plain": "<display.general.HTMLWrapper at 0x24266b1e130>",
      "text/html": "<div style=\"font-family: 'Lora', 'Courier New', monospace, serif;font-weight: 700;color:#5988ff;text-shadow:0 0 20px #5988ff\">who wants a confetti cannon</div>"
     },
     "execution_count": 28,
     "metadata": {},
     "output_type": "execute_result"
    }
   ]
  },
  {
   "cell_type": "markdown",
   "source": [
    "This likely gives a variant of the Arm Cannon, like with last circuit's Snow Blower. This would max out a pitcher's stats. See below for approximate stat change."
   ],
   "metadata": {
    "collapsed": false,
    "pycharm": {
     "name": "#%% md\n"
    }
   }
  },
  {
   "cell_type": "code",
   "execution_count": 29,
   "outputs": [
    {
     "data": {
      "text/plain": "<pandas.io.formats.style.Styler at 0x24266b1e9a0>",
      "text/html": "<style type=\"text/css\">\n#T_ef65a_row0_col0 {\n  background-color: #b9e176;\n  color: #000000;\n}\n#T_ef65a_row0_col1, #T_ef65a_row0_col3, #T_ef65a_row1_col1, #T_ef65a_row1_col2, #T_ef65a_row1_col3, #T_ef65a_row2_col1, #T_ef65a_row2_col3, #T_ef65a_row3_col1, #T_ef65a_row3_col3, #T_ef65a_row4_col0, #T_ef65a_row4_col1, #T_ef65a_row4_col3 {\n  background-color: #006837;\n  color: #f1f1f1;\n}\n#T_ef65a_row0_col2 {\n  background-color: #feec9f;\n  color: #000000;\n}\n#T_ef65a_row0_col4 {\n  background-color: #fec877;\n  color: #000000;\n}\n#T_ef65a_row0_col5 {\n  background-color: #f98e52;\n  color: #f1f1f1;\n}\n#T_ef65a_row0_col6 {\n  background-color: #dcf08f;\n  color: #000000;\n}\n#T_ef65a_row1_col0 {\n  background-color: #70c164;\n  color: #000000;\n}\n#T_ef65a_row1_col4 {\n  background-color: #ab0626;\n  color: #f1f1f1;\n}\n#T_ef65a_row1_col5 {\n  background-color: #fdbb6c;\n  color: #000000;\n}\n#T_ef65a_row1_col6 {\n  background-color: #bde379;\n  color: #000000;\n}\n#T_ef65a_row2_col0 {\n  background-color: #60ba62;\n  color: #f1f1f1;\n}\n#T_ef65a_row2_col2 {\n  background-color: #fff7b2;\n  color: #000000;\n}\n#T_ef65a_row2_col4 {\n  background-color: #fdb96a;\n  color: #000000;\n}\n#T_ef65a_row2_col5 {\n  background-color: #ce2827;\n  color: #f1f1f1;\n}\n#T_ef65a_row2_col6 {\n  background-color: #feda86;\n  color: #000000;\n}\n#T_ef65a_row3_col0 {\n  background-color: #89cc67;\n  color: #000000;\n}\n#T_ef65a_row3_col2 {\n  background-color: #fff1a8;\n  color: #000000;\n}\n#T_ef65a_row3_col4 {\n  background-color: #e54e35;\n  color: #f1f1f1;\n}\n#T_ef65a_row3_col5 {\n  background-color: #fdb567;\n  color: #000000;\n}\n#T_ef65a_row3_col6 {\n  background-color: #cbe982;\n  color: #000000;\n}\n#T_ef65a_row4_col2 {\n  background-color: #addc6f;\n  color: #000000;\n}\n#T_ef65a_row4_col4 {\n  background-color: #199750;\n  color: #f1f1f1;\n}\n#T_ef65a_row4_col5 {\n  background-color: #de402e;\n  color: #f1f1f1;\n}\n#T_ef65a_row4_col6 {\n  background-color: #75c465;\n  color: #000000;\n}\n</style>\n<table id=\"T_ef65a_\">\n  <thead>\n    <tr>\n      <th class=\"blank level0\" >&nbsp;</th>\n      <th class=\"col_heading level0 col0\" >Pitching Rating</th>\n      <th class=\"col_heading level0 col1\" >Unthwackability</th>\n      <th class=\"col_heading level0 col2\" >Ruthlessness</th>\n      <th class=\"col_heading level0 col3\" >Overpowerment</th>\n      <th class=\"col_heading level0 col4\" >Shakespearianism</th>\n      <th class=\"col_heading level0 col5\" >Coldness</th>\n      <th class=\"col_heading level0 col6\" >Suppression</th>\n    </tr>\n  </thead>\n  <tbody>\n    <tr>\n      <th id=\"T_ef65a_level0_row0\" class=\"row_heading level0 row0\" >Seyyid Goodhart</th>\n      <td id=\"T_ef65a_row0_col0\" class=\"data row0 col0\" >0.660570</td>\n      <td id=\"T_ef65a_row0_col1\" class=\"data row0 col1\" >1.023173</td>\n      <td id=\"T_ef65a_row0_col2\" class=\"data row0 col2\" >0.441063</td>\n      <td id=\"T_ef65a_row0_col3\" class=\"data row0 col3\" >1.308799</td>\n      <td id=\"T_ef65a_row0_col4\" class=\"data row0 col4\" >0.351659</td>\n      <td id=\"T_ef65a_row0_col5\" class=\"data row0 col5\" >0.251201</td>\n      <td id=\"T_ef65a_row0_col6\" class=\"data row0 col6\" >0.593100</td>\n    </tr>\n    <tr>\n      <th id=\"T_ef65a_level0_row1\" class=\"row_heading level0 row1\" >Kristi Finnegan</th>\n      <td id=\"T_ef65a_row1_col0\" class=\"data row1 col0\" >0.783941</td>\n      <td id=\"T_ef65a_row1_col1\" class=\"data row1 col1\" >1.215942</td>\n      <td id=\"T_ef65a_row1_col2\" class=\"data row1 col2\" >1.132178</td>\n      <td id=\"T_ef65a_row1_col3\" class=\"data row1 col3\" >1.682298</td>\n      <td id=\"T_ef65a_row1_col4\" class=\"data row1 col4\" >0.012189</td>\n      <td id=\"T_ef65a_row1_col5\" class=\"data row1 col5\" >0.324497</td>\n      <td id=\"T_ef65a_row1_col6\" class=\"data row1 col6\" >0.654460</td>\n    </tr>\n    <tr>\n      <th id=\"T_ef65a_level0_row2\" class=\"row_heading level0 row2\" >Tall Everts</th>\n      <td id=\"T_ef65a_row2_col0\" class=\"data row2 col0\" >0.806887</td>\n      <td id=\"T_ef65a_row2_col1\" class=\"data row2 col1\" >1.685640</td>\n      <td id=\"T_ef65a_row2_col2\" class=\"data row2 col2\" >0.473329</td>\n      <td id=\"T_ef65a_row2_col3\" class=\"data row2 col3\" >0.998842</td>\n      <td id=\"T_ef65a_row2_col4\" class=\"data row2 col4\" >0.320559</td>\n      <td id=\"T_ef65a_row2_col5\" class=\"data row2 col5\" >0.082032</td>\n      <td id=\"T_ef65a_row2_col6\" class=\"data row2 col6\" >0.388479</td>\n    </tr>\n    <tr>\n      <th id=\"T_ef65a_level0_row3\" class=\"row_heading level0 row3\" >Hartley Cage</th>\n      <td id=\"T_ef65a_row3_col0\" class=\"data row3 col0\" >0.744650</td>\n      <td id=\"T_ef65a_row3_col1\" class=\"data row3 col1\" >1.545172</td>\n      <td id=\"T_ef65a_row3_col2\" class=\"data row3 col2\" >0.454771</td>\n      <td id=\"T_ef65a_row3_col3\" class=\"data row3 col3\" >1.150985</td>\n      <td id=\"T_ef65a_row3_col4\" class=\"data row3 col4\" >0.150449</td>\n      <td id=\"T_ef65a_row3_col5\" class=\"data row3 col5\" >0.314712</td>\n      <td id=\"T_ef65a_row3_col6\" class=\"data row3 col6\" >0.626372</td>\n    </tr>\n    <tr>\n      <th id=\"T_ef65a_level0_row4\" class=\"row_heading level0 row4\" >Wolf Buss</th>\n      <td id=\"T_ef65a_row4_col0\" class=\"data row4 col0\" >1.054684</td>\n      <td id=\"T_ef65a_row4_col1\" class=\"data row4 col1\" >1.507538</td>\n      <td id=\"T_ef65a_row4_col2\" class=\"data row4 col2\" >0.684087</td>\n      <td id=\"T_ef65a_row4_col3\" class=\"data row4 col3\" >1.511777</td>\n      <td id=\"T_ef65a_row4_col4\" class=\"data row4 col4\" >0.898884</td>\n      <td id=\"T_ef65a_row4_col5\" class=\"data row4 col5\" >0.127642</td>\n      <td id=\"T_ef65a_row4_col6\" class=\"data row4 col6\" >0.774004</td>\n    </tr>\n  </tbody>\n</table>\n"
     },
     "execution_count": 29,
     "metadata": {},
     "output_type": "execute_result"
    }
   ],
   "source": [
    "new_rotation = []\n",
    "for player in pies.rotation:\n",
    "    new_rotation.append(player.simulated_copy(buffs=\n",
    "                                         {'overpowerment': 0.9542536640830439,\n",
    "                                          'unthwackability': 0.7362786936932654,\n",
    "                                          'ruthlessness': 0.3073233290216612}))\n",
    "\n",
    "set_heatmap(get_pitching_stlats(new_rotation), maxVal=1.0)\n",
    "# 6524fd18-54e1-4b51-be71-4db6ef1cdf42"
   ],
   "metadata": {
    "collapsed": false,
    "pycharm": {
     "name": "#%%\n"
    }
   }
  },
  {
   "cell_type": "markdown",
   "source": [
    "## Guest of Honor\n",
    "*Team Will*\n",
    "\n",
    "**Choose a Player on your Team to become the Life of the Party and start Partying early.**\n",
    "\n",
    "This would give one player the modification Life of the Party, which would increase stat boosts during parties."
   ],
   "metadata": {
    "collapsed": false,
    "pycharm": {
     "name": "#%% md\n"
    }
   }
  },
  {
   "cell_type": "markdown",
   "source": [
    "## Party Planning\n",
    "*Team Amplification*\n",
    "\n",
    "This would boost various stats team-wide, depending on the chosen Amplification."
   ],
   "metadata": {
    "collapsed": false,
    "pycharm": {
     "name": "#%% md\n"
    }
   }
  },
  {
   "cell_type": "markdown",
   "source": [
    "### Cookout\n",
    "**Throw a good vibes cookout to boost your Cinnamon, Moxie, and Base Thirst.**"
   ],
   "metadata": {
    "collapsed": false,
    "pycharm": {
     "name": "#%% md\n"
    }
   }
  },
  {
   "cell_type": "code",
   "execution_count": 30,
   "outputs": [
    {
     "data": {
      "text/plain": "<pandas.io.formats.style.Styler at 0x24266beddf0>",
      "text/html": "<style type=\"text/css\">\n#T_1456a_row0_col0 {\n  background-color: #fff6b0;\n  color: #000000;\n}\n#T_1456a_row1_col0 {\n  background-color: #b9e176;\n  color: #000000;\n}\n#T_1456a_row2_col0 {\n  background-color: #fdfebc;\n  color: #000000;\n}\n</style>\n<table id=\"T_1456a_\">\n  <thead>\n    <tr>\n      <th class=\"blank level0\" >&nbsp;</th>\n      <th class=\"col_heading level0 col0\" >Pies Average</th>\n    </tr>\n  </thead>\n  <tbody>\n    <tr>\n      <th id=\"T_1456a_level0_row0\" class=\"row_heading level0 row0\" >Cinnamon</th>\n      <td id=\"T_1456a_row0_col0\" class=\"data row0 col0\" >0.471776</td>\n    </tr>\n    <tr>\n      <th id=\"T_1456a_level0_row1\" class=\"row_heading level0 row1\" >Moxie</th>\n      <td id=\"T_1456a_row1_col0\" class=\"data row1 col0\" >0.662526</td>\n    </tr>\n    <tr>\n      <th id=\"T_1456a_level0_row2\" class=\"row_heading level0 row2\" >Base Thirst</th>\n      <td id=\"T_1456a_row2_col0\" class=\"data row2 col0\" >0.504021</td>\n    </tr>\n  </tbody>\n</table>\n"
     },
     "execution_count": 30,
     "metadata": {},
     "output_type": "execute_result"
    }
   ],
   "source": [
    "cin = mean([x.cinnamon for x in pies.lineup + pies.rotation])\n",
    "mox = mean([x.moxie for x in pies.lineup])\n",
    "thst = mean([x.base_thirst for x in pies.lineup])\n",
    "\n",
    "set_heatmap(pandas.DataFrame(pandas.Series({\"Cinnamon\": cin, \"Moxie\": mox, \"Base Thirst\": thst}, name=\"Pies Average\")), maxVal=1.0)"
   ],
   "metadata": {
    "collapsed": false,
    "pycharm": {
     "name": "#%%\n"
    }
   }
  },
  {
   "cell_type": "markdown",
   "source": [
    "### Rager\n",
    "**Throw an all out dance party to boost your Musclitude, Ground Friction, and Continuation.**"
   ],
   "metadata": {
    "collapsed": false,
    "pycharm": {
     "name": "#%% md\n"
    }
   }
  },
  {
   "cell_type": "code",
   "execution_count": 31,
   "outputs": [
    {
     "data": {
      "text/plain": "<pandas.io.formats.style.Styler at 0x2426694f2e0>",
      "text/html": "<style type=\"text/css\">\n#T_47b9c_row0_col0 {\n  background-color: #feda86;\n  color: #000000;\n}\n#T_47b9c_row1_col0 {\n  background-color: #fffebe;\n  color: #000000;\n}\n#T_47b9c_row2_col0 {\n  background-color: #e0f295;\n  color: #000000;\n}\n</style>\n<table id=\"T_47b9c_\">\n  <thead>\n    <tr>\n      <th class=\"blank level0\" >&nbsp;</th>\n      <th class=\"col_heading level0 col0\" >Pies Average</th>\n    </tr>\n  </thead>\n  <tbody>\n    <tr>\n      <th id=\"T_47b9c_level0_row0\" class=\"row_heading level0 row0\" >Musclitude</th>\n      <td id=\"T_47b9c_row0_col0\" class=\"data row0 col0\" >0.389917</td>\n    </tr>\n    <tr>\n      <th id=\"T_47b9c_level0_row1\" class=\"row_heading level0 row1\" >Ground Friction</th>\n      <td id=\"T_47b9c_row1_col0\" class=\"data row1 col0\" >0.496686</td>\n    </tr>\n    <tr>\n      <th id=\"T_47b9c_level0_row2\" class=\"row_heading level0 row2\" >Continuation</th>\n      <td id=\"T_47b9c_row2_col0\" class=\"data row2 col0\" >0.580593</td>\n    </tr>\n  </tbody>\n</table>\n"
     },
     "execution_count": 31,
     "metadata": {},
     "output_type": "execute_result"
    }
   ],
   "source": [
    "musc = mean([x.musclitude for x in pies.lineup])\n",
    "fric = mean([x.ground_friction for x in pies.lineup])\n",
    "cont = mean([x.continuation for x in pies.lineup])\n",
    "\n",
    "set_heatmap(pandas.DataFrame(pandas.Series({\"Musclitude\": musc, \"Ground Friction\": fric, \"Continuation\": cont}, name=\"Pies Average\")), maxVal=1.0)"
   ],
   "metadata": {
    "collapsed": false,
    "pycharm": {
     "name": "#%%\n"
    }
   }
  },
  {
   "cell_type": "markdown",
   "source": [
    "### Mixer\n",
    "**Throw an awkward social to boost your Unthwackability, Omniscience, and Overpowerment.**"
   ],
   "metadata": {
    "collapsed": false,
    "pycharm": {
     "name": "#%% md\n"
    }
   }
  },
  {
   "cell_type": "code",
   "execution_count": 32,
   "outputs": [
    {
     "data": {
      "text/plain": "<pandas.io.formats.style.Styler at 0x24266b58220>",
      "text/html": "<style type=\"text/css\">\n#T_4ad80_row0_col0 {\n  background-color: #bbe278;\n  color: #000000;\n}\n#T_4ad80_row1_col0 {\n  background-color: #b9e176;\n  color: #000000;\n}\n#T_4ad80_row2_col0 {\n  background-color: #fed481;\n  color: #000000;\n}\n</style>\n<table id=\"T_4ad80_\">\n  <thead>\n    <tr>\n      <th class=\"blank level0\" >&nbsp;</th>\n      <th class=\"col_heading level0 col0\" >Pies Average</th>\n    </tr>\n  </thead>\n  <tbody>\n    <tr>\n      <th id=\"T_4ad80_level0_row0\" class=\"row_heading level0 row0\" >Unthwackability</th>\n      <td id=\"T_4ad80_row0_col0\" class=\"data row0 col0\" >0.659214</td>\n    </tr>\n    <tr>\n      <th id=\"T_4ad80_level0_row1\" class=\"row_heading level0 row1\" >Omniscience</th>\n      <td id=\"T_4ad80_row1_col0\" class=\"data row1 col0\" >0.661809</td>\n    </tr>\n    <tr>\n      <th id=\"T_4ad80_level0_row2\" class=\"row_heading level0 row2\" >Overpowerment</th>\n      <td id=\"T_4ad80_row2_col0\" class=\"data row2 col0\" >0.376287</td>\n    </tr>\n  </tbody>\n</table>\n"
     },
     "execution_count": 32,
     "metadata": {},
     "output_type": "execute_result"
    }
   ],
   "source": [
    "uthk = mean([x.unthwackability for x in pies.rotation])\n",
    "omni = mean([x.omniscience for x in pies.lineup + pies.rotation])\n",
    "pow = mean([x.overpowerment for x in pies.rotation])\n",
    "\n",
    "set_heatmap(pandas.DataFrame(pandas.Series({\"Unthwackability\": uthk, \"Omniscience\": omni, \"Overpowerment\": pow}, name=\"Pies Average\")), maxVal=1.0)"
   ],
   "metadata": {
    "collapsed": false,
    "pycharm": {
     "name": "#%%\n"
    }
   }
  },
  {
   "cell_type": "markdown",
   "source": [
    "### Formal\n",
    "**Throw a fancy formal to boost your Divinity, Coldness, and Chasiness.**"
   ],
   "metadata": {
    "collapsed": false,
    "pycharm": {
     "name": "#%% md\n"
    }
   }
  },
  {
   "cell_type": "code",
   "execution_count": 33,
   "outputs": [
    {
     "data": {
      "text/plain": "<pandas.io.formats.style.Styler at 0x24266bd99a0>",
      "text/html": "<style type=\"text/css\">\n#T_eaa4f_row0_col0 {\n  background-color: #fafdb8;\n  color: #000000;\n}\n#T_eaa4f_row1_col0 {\n  background-color: #f67a49;\n  color: #f1f1f1;\n}\n#T_eaa4f_row2_col0 {\n  background-color: #dcf08f;\n  color: #000000;\n}\n</style>\n<table id=\"T_eaa4f_\">\n  <thead>\n    <tr>\n      <th class=\"blank level0\" >&nbsp;</th>\n      <th class=\"col_heading level0 col0\" >Pies Average</th>\n    </tr>\n  </thead>\n  <tbody>\n    <tr>\n      <th id=\"T_eaa4f_level0_row0\" class=\"row_heading level0 row0\" >Divinity</th>\n      <td id=\"T_eaa4f_row0_col0\" class=\"data row0 col0\" >0.511790</td>\n    </tr>\n    <tr>\n      <th id=\"T_eaa4f_level0_row1\" class=\"row_heading level0 row1\" >Coldness</th>\n      <td id=\"T_eaa4f_row1_col0\" class=\"data row1 col0\" >0.220017</td>\n    </tr>\n    <tr>\n      <th id=\"T_eaa4f_level0_row2\" class=\"row_heading level0 row2\" >Chasiness</th>\n      <td id=\"T_eaa4f_row2_col0\" class=\"data row2 col0\" >0.590803</td>\n    </tr>\n  </tbody>\n</table>\n"
     },
     "execution_count": 33,
     "metadata": {},
     "output_type": "execute_result"
    }
   ],
   "source": [
    "div = mean([x.divinity for x in pies.lineup])\n",
    "cold = mean([x.coldness for x in pies.rotation])\n",
    "chas = mean([x.chasiness for x in pies.lineup + pies.rotation])\n",
    "\n",
    "set_heatmap(pandas.DataFrame(pandas.Series({\"Divinity\": div, \"Coldness\": cold, \"Chasiness\": chas}, name=\"Pies Average\")), maxVal=1.0)"
   ],
   "metadata": {
    "collapsed": false,
    "pycharm": {
     "name": "#%%\n"
    }
   }
  },
  {
   "cell_type": "markdown",
   "id": "8a693fd0",
   "metadata": {},
   "source": [
    "\n",
    "---\n",
    "## Appendix\n",
    "* [Description of Attributes](https://www.blaseball.wiki/w/Player_Attributes)\n",
    "* [Stlat Viewer](https://blaseballplayers.netlify.app/team/fa3b11e7-5321-485f-bdbd-355af10cce11)\n",
    "* [Historical Player Graphs](http://yoori.space/hloroscopes/)"
   ]
  }
 ],
 "metadata": {
  "kernelspec": {
   "name": "python3",
   "language": "python",
   "display_name": "Python 3 (ipykernel)"
  }
 },
 "nbformat": 4,
 "nbformat_minor": 5
}