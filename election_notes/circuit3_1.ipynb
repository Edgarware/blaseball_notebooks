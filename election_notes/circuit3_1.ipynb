{
 "cells": [
  {
   "cell_type": "markdown",
   "id": "dc5361dc",
   "metadata": {},
   "source": [
    "# Short Circuit 3 Election Notes\n",
    "\n",
    ">**FORBIDDEN KNOWLEDGE WARNING**\n",
    ">\n",
    ">This document contains some information that is not currently present on the main site and may be considered spoilers.\n",
    ">Continue at your own discretion. Some information in this document cannot be shared on the Discord without spoiler tags.\n"
   ]
  },
  {
   "cell_type": "code",
   "execution_count": 1,
   "id": "6b243a31",
   "metadata": {},
   "outputs": [
    {
     "data": {
      "text/plain": "<IPython.core.display.Markdown object>",
      "text/markdown": "**Last Updated Season 1, Day 80**"
     },
     "metadata": {},
     "output_type": "display_data"
    }
   ],
   "source": [
    "import pandas\n",
    "%matplotlib inline\n",
    "import plotly.io as _pio\n",
    "from IPython.display import display, Markdown\n",
    "\n",
    "import os\n",
    "import sys\n",
    "pdir = os.path.abspath(os.path.join(os.path.dirname(''), os.path.pardir))\n",
    "sys.path.append(pdir)\n",
    "from display import *\n",
    "from blessings import *\n",
    "sys.path.remove(pdir)\n",
    "\n",
    "league = League.load()\n",
    "pies = [x for x in league.teams.values() if x.full_name == \"Philly Pies\"][0]\n",
    "\n",
    "sim = SimulationData.load()\n",
    "display(Markdown(f\"**Last Updated Season {sim.season}, Day {sim.day}**\"))"
   ]
  },
  {
   "cell_type": "markdown",
   "id": "f4bf0ad9",
   "metadata": {},
   "source": [
    "___\n",
    "## ~~Squid Gift I~~\n",
    "*League Blessing*"
   ]
  },
  {
   "cell_type": "code",
   "source": [
    "god_text(\"who wants a confetti cannon\", 1)"
   ],
   "metadata": {
    "collapsed": false,
    "pycharm": {
     "name": "#%%\n"
    }
   },
   "execution_count": 2,
   "outputs": [
    {
     "data": {
      "text/plain": "<display.general.HTMLWrapper at 0x149097e5b20>",
      "text/html": "<div style=\"font-family: 'Lora', 'Courier New', monospace, serif;font-weight: 700;color:#5988ff;text-shadow:0 0 20px #5988ff\">who wants a confetti cannon</div>"
     },
     "execution_count": 2,
     "metadata": {},
     "output_type": "execute_result"
    }
   ]
  },
  {
   "cell_type": "markdown",
   "source": [
    "This likely gives a variant of the Arm Cannon, like with last circuit's Snow Blower. This would max out a pitcher's stats. See below for approximate stat change."
   ],
   "metadata": {
    "collapsed": false,
    "pycharm": {
     "name": "#%% md\n"
    }
   }
  },
  {
   "cell_type": "code",
   "execution_count": 3,
   "outputs": [
    {
     "data": {
      "text/plain": "<pandas.io.formats.style.Styler at 0x149097c9610>",
      "text/html": "<style type=\"text/css\">\n#T_324d3_row0_col0 {\n  background-color: #b3df72;\n  color: #000000;\n}\n#T_324d3_row0_col1, #T_324d3_row0_col3, #T_324d3_row1_col1, #T_324d3_row1_col2, #T_324d3_row1_col3, #T_324d3_row2_col1, #T_324d3_row2_col3, #T_324d3_row3_col1, #T_324d3_row3_col3, #T_324d3_row4_col0, #T_324d3_row4_col1, #T_324d3_row4_col3 {\n  background-color: #006837;\n  color: #f1f1f1;\n}\n#T_324d3_row0_col2 {\n  background-color: #feeda1;\n  color: #000000;\n}\n#T_324d3_row0_col4 {\n  background-color: #fed27f;\n  color: #000000;\n}\n#T_324d3_row0_col5 {\n  background-color: #fa9b58;\n  color: #000000;\n}\n#T_324d3_row0_col6 {\n  background-color: #d7ee8a;\n  color: #000000;\n}\n#T_324d3_row1_col0 {\n  background-color: #70c164;\n  color: #000000;\n}\n#T_324d3_row1_col4 {\n  background-color: #ab0626;\n  color: #f1f1f1;\n}\n#T_324d3_row1_col5 {\n  background-color: #fdbb6c;\n  color: #000000;\n}\n#T_324d3_row1_col6 {\n  background-color: #bde379;\n  color: #000000;\n}\n#T_324d3_row2_col0 {\n  background-color: #45ad5b;\n  color: #f1f1f1;\n}\n#T_324d3_row2_col2 {\n  background-color: #fdfebc;\n  color: #000000;\n}\n#T_324d3_row2_col4 {\n  background-color: #fdbd6d;\n  color: #000000;\n}\n#T_324d3_row2_col5 {\n  background-color: #d02927;\n  color: #f1f1f1;\n}\n#T_324d3_row2_col6 {\n  background-color: #fede89;\n  color: #000000;\n}\n#T_324d3_row3_col0 {\n  background-color: #75c465;\n  color: #000000;\n}\n#T_324d3_row3_col2 {\n  background-color: #fff8b4;\n  color: #000000;\n}\n#T_324d3_row3_col4 {\n  background-color: #e95538;\n  color: #f1f1f1;\n}\n#T_324d3_row3_col5 {\n  background-color: #fec877;\n  color: #000000;\n}\n#T_324d3_row3_col6 {\n  background-color: #c7e77f;\n  color: #000000;\n}\n#T_324d3_row4_col2 {\n  background-color: #a5d86a;\n  color: #000000;\n}\n#T_324d3_row4_col4 {\n  background-color: #18954f;\n  color: #f1f1f1;\n}\n#T_324d3_row4_col5 {\n  background-color: #e75337;\n  color: #f1f1f1;\n}\n#T_324d3_row4_col6 {\n  background-color: #63bc62;\n  color: #f1f1f1;\n}\n</style>\n<table id=\"T_324d3_\">\n  <thead>\n    <tr>\n      <th class=\"blank level0\" >&nbsp;</th>\n      <th class=\"col_heading level0 col0\" >Pitching Rating</th>\n      <th class=\"col_heading level0 col1\" >Unthwackability</th>\n      <th class=\"col_heading level0 col2\" >Ruthlessness</th>\n      <th class=\"col_heading level0 col3\" >Overpowerment</th>\n      <th class=\"col_heading level0 col4\" >Shakespearianism</th>\n      <th class=\"col_heading level0 col5\" >Coldness</th>\n      <th class=\"col_heading level0 col6\" >Suppression</th>\n    </tr>\n  </thead>\n  <tbody>\n    <tr>\n      <th id=\"T_324d3_level0_row0\" class=\"row_heading level0 row0\" >Seyyid Goodhart</th>\n      <td id=\"T_324d3_row0_col0\" class=\"data row0 col0\" >0.672435</td>\n      <td id=\"T_324d3_row0_col1\" class=\"data row0 col1\" >1.031100</td>\n      <td id=\"T_324d3_row0_col2\" class=\"data row0 col2\" >0.445139</td>\n      <td id=\"T_324d3_row0_col3\" class=\"data row0 col3\" >1.333194</td>\n      <td id=\"T_324d3_row0_col4\" class=\"data row0 col4\" >0.372109</td>\n      <td id=\"T_324d3_row0_col5\" class=\"data row0 col5\" >0.270402</td>\n      <td id=\"T_324d3_row0_col6\" class=\"data row0 col6\" >0.602044</td>\n    </tr>\n    <tr>\n      <th id=\"T_324d3_level0_row1\" class=\"row_heading level0 row1\" >Kristi Finnegan</th>\n      <td id=\"T_324d3_row1_col0\" class=\"data row1 col0\" >0.783941</td>\n      <td id=\"T_324d3_row1_col1\" class=\"data row1 col1\" >1.215942</td>\n      <td id=\"T_324d3_row1_col2\" class=\"data row1 col2\" >1.132178</td>\n      <td id=\"T_324d3_row1_col3\" class=\"data row1 col3\" >1.682298</td>\n      <td id=\"T_324d3_row1_col4\" class=\"data row1 col4\" >0.012189</td>\n      <td id=\"T_324d3_row1_col5\" class=\"data row1 col5\" >0.324497</td>\n      <td id=\"T_324d3_row1_col6\" class=\"data row1 col6\" >0.654460</td>\n    </tr>\n    <tr>\n      <th id=\"T_324d3_level0_row2\" class=\"row_heading level0 row2\" >Tall Everts</th>\n      <td id=\"T_324d3_row2_col0\" class=\"data row2 col0\" >0.840109</td>\n      <td id=\"T_324d3_row2_col1\" class=\"data row2 col1\" >1.702902</td>\n      <td id=\"T_324d3_row2_col2\" class=\"data row2 col2\" >0.507177</td>\n      <td id=\"T_324d3_row2_col3\" class=\"data row2 col3\" >1.015126</td>\n      <td id=\"T_324d3_row2_col4\" class=\"data row2 col4\" >0.330776</td>\n      <td id=\"T_324d3_row2_col5\" class=\"data row2 col5\" >0.089088</td>\n      <td id=\"T_324d3_row2_col6\" class=\"data row2 col6\" >0.397123</td>\n    </tr>\n    <tr>\n      <th id=\"T_324d3_level0_row3\" class=\"row_heading level0 row3\" >Hartley Cage</th>\n      <td id=\"T_324d3_row3_col0\" class=\"data row3 col0\" >0.775513</td>\n      <td id=\"T_324d3_row3_col1\" class=\"data row3 col1\" >1.569539</td>\n      <td id=\"T_324d3_row3_col2\" class=\"data row3 col2\" >0.479782</td>\n      <td id=\"T_324d3_row3_col3\" class=\"data row3 col3\" >1.165775</td>\n      <td id=\"T_324d3_row3_col4\" class=\"data row3 col4\" >0.160494</td>\n      <td id=\"T_324d3_row3_col5\" class=\"data row3 col5\" >0.354719</td>\n      <td id=\"T_324d3_row3_col6\" class=\"data row3 col6\" >0.635743</td>\n    </tr>\n    <tr>\n      <th id=\"T_324d3_level0_row4\" class=\"row_heading level0 row4\" >Wolf Buss</th>\n      <td id=\"T_324d3_row4_col0\" class=\"data row4 col0\" >1.076256</td>\n      <td id=\"T_324d3_row4_col1\" class=\"data row4 col1\" >1.517089</td>\n      <td id=\"T_324d3_row4_col2\" class=\"data row4 col2\" >0.699888</td>\n      <td id=\"T_324d3_row4_col3\" class=\"data row4 col3\" >1.530180</td>\n      <td id=\"T_324d3_row4_col4\" class=\"data row4 col4\" >0.905909</td>\n      <td id=\"T_324d3_row4_col5\" class=\"data row4 col5\" >0.158181</td>\n      <td id=\"T_324d3_row4_col6\" class=\"data row4 col6\" >0.801030</td>\n    </tr>\n  </tbody>\n</table>\n"
     },
     "execution_count": 3,
     "metadata": {},
     "output_type": "execute_result"
    }
   ],
   "source": [
    "new_rotation = []\n",
    "for player in pies.rotation:\n",
    "    new_rotation.append(player.simulated_copy(buffs=\n",
    "                                         {'overpowerment': 0.9542536640830439,\n",
    "                                          'unthwackability': 0.7362786936932654,\n",
    "                                          'ruthlessness': 0.3073233290216612}))\n",
    "\n",
    "set_heatmap(get_pitching_stlats(new_rotation), maxVal=1.0)\n",
    "# 6524fd18-54e1-4b51-be71-4db6ef1cdf42"
   ],
   "metadata": {
    "collapsed": false,
    "pycharm": {
     "name": "#%%\n"
    }
   }
  },
  {
   "cell_type": "markdown",
   "source": [
    "## ~~Squid Gift II~~\n",
    "*League Blessing*"
   ],
   "metadata": {
    "collapsed": false,
    "pycharm": {
     "name": "#%% md\n"
    }
   }
  },
  {
   "cell_type": "code",
   "execution_count": 4,
   "outputs": [
    {
     "data": {
      "text/plain": "<display.general.HTMLWrapper at 0x149097c41f0>",
      "text/html": "<div style=\"font-family: 'Lora', 'Courier New', monospace, serif;font-weight: 700;color:#5988ff;text-shadow:0 0 20px #5988ff\">who wants some dancing shoes</div>"
     },
     "execution_count": 4,
     "metadata": {},
     "output_type": "execute_result"
    }
   ],
   "source": [
    "god_text(\"who wants some dancing shoes\", 1)"
   ],
   "metadata": {
    "collapsed": false,
    "pycharm": {
     "name": "#%%\n"
    }
   }
  },
  {
   "cell_type": "markdown",
   "source": [
    "This likely gives a variant of the Rocket Shoes, like with last circuit's Snow Shoes. This would max out baserunning. See below for approximate stat change."
   ],
   "metadata": {
    "collapsed": false,
    "pycharm": {
     "name": "#%% md\n"
    }
   }
  },
  {
   "cell_type": "code",
   "execution_count": 5,
   "outputs": [
    {
     "data": {
      "text/plain": "<pandas.io.formats.style.Styler at 0x149097e5160>",
      "text/html": "<style type=\"text/css\">\n#T_19558_row0_col0, #T_19558_row0_col1, #T_19558_row0_col2, #T_19558_row1_col1, #T_19558_row1_col4, #T_19558_row2_col1, #T_19558_row2_col4, #T_19558_row3_col2, #T_19558_row3_col4, #T_19558_row4_col0, #T_19558_row4_col1, #T_19558_row4_col2, #T_19558_row4_col5, #T_19558_row5_col0, #T_19558_row5_col1, #T_19558_row5_col2, #T_19558_row7_col0, #T_19558_row7_col1, #T_19558_row7_col2 {\n  background-color: #006837;\n  color: #f1f1f1;\n}\n#T_19558_row0_col3 {\n  background-color: #fee695;\n  color: #000000;\n}\n#T_19558_row0_col4 {\n  background-color: #04703b;\n  color: #f1f1f1;\n}\n#T_19558_row0_col5 {\n  background-color: #5db961;\n  color: #f1f1f1;\n}\n#T_19558_row1_col0 {\n  background-color: #0c7f43;\n  color: #f1f1f1;\n}\n#T_19558_row1_col2 {\n  background-color: #0e8245;\n  color: #f1f1f1;\n}\n#T_19558_row1_col3 {\n  background-color: #fffdbc;\n  color: #000000;\n}\n#T_19558_row1_col5 {\n  background-color: #f7fcb4;\n  color: #000000;\n}\n#T_19558_row2_col0 {\n  background-color: #05713c;\n  color: #f1f1f1;\n}\n#T_19558_row2_col2 {\n  background-color: #4eb15d;\n  color: #f1f1f1;\n}\n#T_19558_row2_col3 {\n  background-color: #138c4a;\n  color: #f1f1f1;\n}\n#T_19558_row2_col5, #T_19558_row8_col4 {\n  background-color: #fee593;\n  color: #000000;\n}\n#T_19558_row3_col0, #T_19558_row5_col4 {\n  background-color: #75c465;\n  color: #000000;\n}\n#T_19558_row3_col1 {\n  background-color: #69be63;\n  color: #f1f1f1;\n}\n#T_19558_row3_col3 {\n  background-color: #f57748;\n  color: #f1f1f1;\n}\n#T_19558_row3_col5 {\n  background-color: #7fc866;\n  color: #000000;\n}\n#T_19558_row4_col3 {\n  background-color: #e3f399;\n  color: #000000;\n}\n#T_19558_row4_col4 {\n  background-color: #8ecf67;\n  color: #000000;\n}\n#T_19558_row5_col3, #T_19558_row8_col1 {\n  background-color: #3ca959;\n  color: #f1f1f1;\n}\n#T_19558_row5_col5 {\n  background-color: #f8864f;\n  color: #f1f1f1;\n}\n#T_19558_row6_col0, #T_19558_row6_col3 {\n  background-color: #afdd70;\n  color: #000000;\n}\n#T_19558_row6_col1 {\n  background-color: #199750;\n  color: #f1f1f1;\n}\n#T_19558_row6_col2 {\n  background-color: #e2f397;\n  color: #000000;\n}\n#T_19558_row6_col4 {\n  background-color: #fffcba;\n  color: #000000;\n}\n#T_19558_row6_col5 {\n  background-color: #f16640;\n  color: #f1f1f1;\n}\n#T_19558_row7_col3 {\n  background-color: #fedc88;\n  color: #000000;\n}\n#T_19558_row7_col4 {\n  background-color: #06733d;\n  color: #f1f1f1;\n}\n#T_19558_row7_col5 {\n  background-color: #dcf08f;\n  color: #000000;\n}\n#T_19558_row8_col0 {\n  background-color: #b9e176;\n  color: #000000;\n}\n#T_19558_row8_col2 {\n  background-color: #e9f6a1;\n  color: #000000;\n}\n#T_19558_row8_col3 {\n  background-color: #fff2aa;\n  color: #000000;\n}\n#T_19558_row8_col5 {\n  background-color: #fdbd6d;\n  color: #000000;\n}\n</style>\n<table id=\"T_19558_\">\n  <thead>\n    <tr>\n      <th class=\"blank level0\" >&nbsp;</th>\n      <th class=\"col_heading level0 col0\" >Baserunning Rating</th>\n      <th class=\"col_heading level0 col1\" >Laserlikeness</th>\n      <th class=\"col_heading level0 col2\" >Continuation</th>\n      <th class=\"col_heading level0 col3\" >Base Thirst</th>\n      <th class=\"col_heading level0 col4\" >Indulgence</th>\n      <th class=\"col_heading level0 col5\" >Ground Friction</th>\n    </tr>\n  </thead>\n  <tbody>\n    <tr>\n      <th id=\"T_19558_level0_row0\" class=\"row_heading level0 row0\" >Zahel Reroll</th>\n      <td id=\"T_19558_row0_col0\" class=\"data row0 col0\" >1.217531</td>\n      <td id=\"T_19558_row0_col1\" class=\"data row0 col1\" >1.733237</td>\n      <td id=\"T_19558_row0_col2\" class=\"data row0 col2\" >1.374212</td>\n      <td id=\"T_19558_row0_col3\" class=\"data row0 col3\" >0.418594</td>\n      <td id=\"T_19558_row0_col4\" class=\"data row0 col4\" >0.983370</td>\n      <td id=\"T_19558_row0_col5\" class=\"data row0 col5\" >0.808995</td>\n    </tr>\n    <tr>\n      <th id=\"T_19558_level0_row1\" class=\"row_heading level0 row1\" >Nadia Outlaw</th>\n      <td id=\"T_19558_row1_col0\" class=\"data row1 col0\" >0.949962</td>\n      <td id=\"T_19558_row1_col1\" class=\"data row1 col1\" >1.198022</td>\n      <td id=\"T_19558_row1_col2\" class=\"data row1 col2\" >0.942370</td>\n      <td id=\"T_19558_row1_col3\" class=\"data row1 col3\" >0.493301</td>\n      <td id=\"T_19558_row1_col4\" class=\"data row1 col4\" >1.003689</td>\n      <td id=\"T_19558_row1_col5\" class=\"data row1 col5\" >0.519764</td>\n    </tr>\n    <tr>\n      <th id=\"T_19558_level0_row2\" class=\"row_heading level0 row2\" >Beck Damage</th>\n      <td id=\"T_19558_row2_col0\" class=\"data row2 col0\" >0.977450</td>\n      <td id=\"T_19558_row2_col1\" class=\"data row2 col1\" >1.185653</td>\n      <td id=\"T_19558_row2_col2\" class=\"data row2 col2\" >0.830098</td>\n      <td id=\"T_19558_row2_col3\" class=\"data row2 col3\" >0.924671</td>\n      <td id=\"T_19558_row2_col4\" class=\"data row2 col4\" >1.060366</td>\n      <td id=\"T_19558_row2_col5\" class=\"data row2 col5\" >0.417431</td>\n    </tr>\n    <tr>\n      <th id=\"T_19558_level0_row3\" class=\"row_heading level0 row3\" >Aari Babatunde</th>\n      <td id=\"T_19558_row3_col0\" class=\"data row3 col0\" >0.775250</td>\n      <td id=\"T_19558_row3_col1\" class=\"data row3 col1\" >0.796518</td>\n      <td id=\"T_19558_row3_col2\" class=\"data row3 col2\" >1.287386</td>\n      <td id=\"T_19558_row3_col3\" class=\"data row3 col3\" >0.217879</td>\n      <td id=\"T_19558_row3_col4\" class=\"data row3 col4\" >1.147844</td>\n      <td id=\"T_19558_row3_col5\" class=\"data row3 col5\" >0.759685</td>\n    </tr>\n    <tr>\n      <th id=\"T_19558_level0_row4\" class=\"row_heading level0 row4\" >Jumpy Augustus</th>\n      <td id=\"T_19558_row4_col0\" class=\"data row4 col0\" >1.042967</td>\n      <td id=\"T_19558_row4_col1\" class=\"data row4 col1\" >1.230186</td>\n      <td id=\"T_19558_row4_col2\" class=\"data row4 col2\" >1.246020</td>\n      <td id=\"T_19558_row4_col3\" class=\"data row4 col3\" >0.572174</td>\n      <td id=\"T_19558_row4_col4\" class=\"data row4 col4\" >0.734486</td>\n      <td id=\"T_19558_row4_col5\" class=\"data row4 col5\" >1.032321</td>\n    </tr>\n    <tr>\n      <th id=\"T_19558_level0_row5\" class=\"row_heading level0 row5\" >Kid Darling</th>\n      <td id=\"T_19558_row5_col0\" class=\"data row5 col0\" >1.078060</td>\n      <td id=\"T_19558_row5_col1\" class=\"data row5 col1\" >1.636444</td>\n      <td id=\"T_19558_row5_col2\" class=\"data row5 col2\" >1.132687</td>\n      <td id=\"T_19558_row5_col3\" class=\"data row5 col3\" >0.852388</td>\n      <td id=\"T_19558_row5_col4\" class=\"data row5 col4\" >0.776608</td>\n      <td id=\"T_19558_row5_col5\" class=\"data row5 col5\" >0.240977</td>\n    </tr>\n    <tr>\n      <th id=\"T_19558_level0_row6\" class=\"row_heading level0 row6\" >Ariana Beard</th>\n      <td id=\"T_19558_row6_col0\" class=\"data row6 col0\" >0.681285</td>\n      <td id=\"T_19558_row6_col1\" class=\"data row6 col1\" >0.901640</td>\n      <td id=\"T_19558_row6_col2\" class=\"data row6 col2\" >0.574460</td>\n      <td id=\"T_19558_row6_col3\" class=\"data row6 col3\" >0.682365</td>\n      <td id=\"T_19558_row6_col4\" class=\"data row6 col4\" >0.490077</td>\n      <td id=\"T_19558_row6_col5\" class=\"data row6 col5\" >0.188184</td>\n    </tr>\n    <tr>\n      <th id=\"T_19558_level0_row7\" class=\"row_heading level0 row7\" >Bottles Dinkleburg</th>\n      <td id=\"T_19558_row7_col0\" class=\"data row7 col0\" >1.057002</td>\n      <td id=\"T_19558_row7_col1\" class=\"data row7 col1\" >1.480742</td>\n      <td id=\"T_19558_row7_col2\" class=\"data row7 col2\" >1.074477</td>\n      <td id=\"T_19558_row7_col3\" class=\"data row7 col3\" >0.394224</td>\n      <td id=\"T_19558_row7_col4\" class=\"data row7 col4\" >0.974189</td>\n      <td id=\"T_19558_row7_col5\" class=\"data row7 col5\" >0.592623</td>\n    </tr>\n    <tr>\n      <th id=\"T_19558_level0_row8\" class=\"row_heading level0 row8\" >Crystal Orchid</th>\n      <td id=\"T_19558_row8_col0\" class=\"data row8 col0\" >0.661499</td>\n      <td id=\"T_19558_row8_col1\" class=\"data row8 col1\" >0.855201</td>\n      <td id=\"T_19558_row8_col2\" class=\"data row8 col2\" >0.555552</td>\n      <td id=\"T_19558_row8_col3\" class=\"data row8 col3\" >0.458267</td>\n      <td id=\"T_19558_row8_col4\" class=\"data row8 col4\" >0.417318</td>\n      <td id=\"T_19558_row8_col5\" class=\"data row8 col5\" >0.330099</td>\n    </tr>\n  </tbody>\n</table>\n"
     },
     "execution_count": 5,
     "metadata": {},
     "output_type": "execute_result"
    }
   ],
   "source": [
    "new_lineup = []\n",
    "for player in pies.lineup:\n",
    "    new_lineup.append(player.simulated_copy(buffs=\n",
    "                                         {'laserlikeness': 0.7352479438825257,\n",
    "                                          'tenaciousness': 0.18846089786002318,\n",
    "                                          'chasiness': 0.17397007472834686,\n",
    "                                          'continuation': 0.36907020559415343,\n",
    "                                          'base_thirst': 0.3980900812170812,\n",
    "                                          'indulgence': 0.18520160996281987}))\n",
    "\n",
    "set_heatmap(get_baserunning_stlats(new_lineup), maxVal=1.0)\n",
    "# 971353de-05f9-47b2-8c27-62b666f182af"
   ],
   "metadata": {
    "collapsed": false,
    "pycharm": {
     "name": "#%%\n"
    }
   }
  },
  {
   "cell_type": "markdown",
   "source": [
    "## Squid Gift III\n",
    "*League Blessing*"
   ],
   "metadata": {
    "collapsed": false,
    "pycharm": {
     "name": "#%% md\n"
    }
   }
  },
  {
   "cell_type": "code",
   "execution_count": 6,
   "outputs": [
    {
     "data": {
      "text/plain": "<display.general.HTMLWrapper at 0x14922e35850>",
      "text/html": "<div style=\"font-family: 'Lora', 'Courier New', monospace, serif;font-weight: 700;color:#5988ff;text-shadow:0 0 20px #5988ff\">who wants a glow stick</div>"
     },
     "execution_count": 6,
     "metadata": {},
     "output_type": "execute_result"
    }
   ],
   "source": [
    "god_text(\"who wants a glow stick\", 1)"
   ],
   "metadata": {
    "collapsed": false,
    "pycharm": {
     "name": "#%%\n"
    }
   }
  },
  {
   "cell_type": "markdown",
   "source": [
    "This likely gives a variant of the Gunblade Bat, like with last circuit's Snow Shovel. This would max out batting. See below for approximate stat change."
   ],
   "metadata": {
    "collapsed": false,
    "pycharm": {
     "name": "#%% md\n"
    }
   }
  },
  {
   "cell_type": "code",
   "execution_count": 7,
   "outputs": [
    {
     "data": {
      "text/plain": "<pandas.io.formats.style.Styler at 0x149097be5b0>",
      "text/html": "<style type=\"text/css\">\n#T_8b9f5_row0_col0, #T_8b9f5_row7_col0 {\n  background-color: #108647;\n  color: #f1f1f1;\n}\n#T_8b9f5_row0_col1, #T_8b9f5_row5_col0 {\n  background-color: #219c52;\n  color: #f1f1f1;\n}\n#T_8b9f5_row0_col2, #T_8b9f5_row1_col2, #T_8b9f5_row3_col2, #T_8b9f5_row3_col8, #T_8b9f5_row4_col4, #T_8b9f5_row5_col1, #T_8b9f5_row5_col2, #T_8b9f5_row6_col0, #T_8b9f5_row6_col1, #T_8b9f5_row6_col2, #T_8b9f5_row7_col1, #T_8b9f5_row7_col2, #T_8b9f5_row8_col1, #T_8b9f5_row8_col2 {\n  background-color: #006837;\n  color: #f1f1f1;\n}\n#T_8b9f5_row0_col3 {\n  background-color: #d7ee8a;\n  color: #000000;\n}\n#T_8b9f5_row0_col4 {\n  background-color: #f7fcb4;\n  color: #000000;\n}\n#T_8b9f5_row0_col5 {\n  background-color: #d83128;\n  color: #f1f1f1;\n  background-color: #1b9950;\n  color: #f1f1f1;\n}\n#T_8b9f5_row0_col6 {\n  background-color: #69be63;\n  color: #f1f1f1;\n}\n#T_8b9f5_row0_col7 {\n  background-color: #4bb05c;\n  color: #f1f1f1;\n  background-color: #ea5739;\n  color: #f1f1f1;\n}\n#T_8b9f5_row0_col8 {\n  background-color: #57b65f;\n  color: #f1f1f1;\n}\n#T_8b9f5_row1_col0, #T_8b9f5_row8_col4 {\n  background-color: #cdea83;\n  color: #000000;\n}\n#T_8b9f5_row1_col1, #T_8b9f5_row4_col6 {\n  background-color: #c3e67d;\n  color: #000000;\n}\n#T_8b9f5_row1_col3, #T_8b9f5_row4_col0 {\n  background-color: #8ecf67;\n  color: #000000;\n}\n#T_8b9f5_row1_col4 {\n  background-color: #a2d76a;\n  color: #000000;\n}\n#T_8b9f5_row1_col5 {\n  background-color: #006837;\n  color: #f1f1f1;\n  background-color: #a50026;\n  color: #f1f1f1;\n}\n#T_8b9f5_row1_col6 {\n  background-color: #18954f;\n  color: #f1f1f1;\n}\n#T_8b9f5_row1_col7 {\n  background-color: #5db961;\n  color: #f1f1f1;\n  background-color: #f16640;\n  color: #f1f1f1;\n}\n#T_8b9f5_row1_col8 {\n  background-color: #63bc62;\n  color: #f1f1f1;\n}\n#T_8b9f5_row2_col0, #T_8b9f5_row2_col1 {\n  background-color: #4eb15d;\n  color: #f1f1f1;\n}\n#T_8b9f5_row2_col2, #T_8b9f5_row7_col4 {\n  background-color: #07753e;\n  color: #f1f1f1;\n}\n#T_8b9f5_row2_col3 {\n  background-color: #93d168;\n  color: #000000;\n}\n#T_8b9f5_row2_col4 {\n  background-color: #016a38;\n  color: #f1f1f1;\n}\n#T_8b9f5_row2_col5 {\n  background-color: #afdd70;\n  color: #000000;\n  background-color: #fdb768;\n  color: #000000;\n}\n#T_8b9f5_row2_col6 {\n  background-color: #b5df74;\n  color: #000000;\n}\n#T_8b9f5_row2_col7 {\n  background-color: #33a456;\n  color: #f1f1f1;\n  background-color: #e14430;\n  color: #f1f1f1;\n}\n#T_8b9f5_row2_col8 {\n  background-color: #b71126;\n  color: #f1f1f1;\n}\n#T_8b9f5_row3_col0 {\n  background-color: #addc6f;\n  color: #000000;\n}\n#T_8b9f5_row3_col1 {\n  background-color: #66bd63;\n  color: #f1f1f1;\n}\n#T_8b9f5_row3_col3 {\n  background-color: #ea5739;\n  color: #f1f1f1;\n}\n#T_8b9f5_row3_col4 {\n  background-color: #f47044;\n  color: #f1f1f1;\n}\n#T_8b9f5_row3_col5, #T_8b9f5_row6_col5 {\n  background-color: #5ab760;\n  color: #f1f1f1;\n  background-color: #ef633f;\n  color: #f1f1f1;\n}\n#T_8b9f5_row3_col6 {\n  background-color: #b9e176;\n  color: #000000;\n}\n#T_8b9f5_row3_col7 {\n  background-color: #08773f;\n  color: #f1f1f1;\n  background-color: #b50f26;\n  color: #f1f1f1;\n}\n#T_8b9f5_row4_col1 {\n  background-color: #54b45f;\n  color: #f1f1f1;\n}\n#T_8b9f5_row4_col2 {\n  background-color: #0f8446;\n  color: #f1f1f1;\n}\n#T_8b9f5_row4_col3 {\n  background-color: #eb5a3a;\n  color: #f1f1f1;\n}\n#T_8b9f5_row4_col5 {\n  background-color: #87cb67;\n  color: #000000;\n  background-color: #f98e52;\n  color: #f1f1f1;\n}\n#T_8b9f5_row4_col7 {\n  background-color: #daf08d;\n  color: #000000;\n  background-color: #fee18d;\n  color: #000000;\n}\n#T_8b9f5_row4_col8 {\n  background-color: #cc2627;\n  color: #f1f1f1;\n}\n#T_8b9f5_row5_col3 {\n  background-color: #d02927;\n  color: #f1f1f1;\n}\n#T_8b9f5_row5_col4 {\n  background-color: #36a657;\n  color: #f1f1f1;\n}\n#T_8b9f5_row5_col5 {\n  background-color: #6bbf64;\n  color: #000000;\n  background-color: #f57245;\n  color: #f1f1f1;\n}\n#T_8b9f5_row5_col6 {\n  background-color: #0c7f43;\n  color: #f1f1f1;\n}\n#T_8b9f5_row5_col7 {\n  background-color: #8ccd67;\n  color: #000000;\n  background-color: #f99355;\n  color: #000000;\n}\n#T_8b9f5_row5_col8 {\n  background-color: #15904c;\n  color: #f1f1f1;\n}\n#T_8b9f5_row6_col3 {\n  background-color: #6bbf64;\n  color: #000000;\n}\n#T_8b9f5_row6_col4 {\n  background-color: #fbfdba;\n  color: #000000;\n}\n#T_8b9f5_row6_col6 {\n  background-color: #75c465;\n  color: #000000;\n}\n#T_8b9f5_row6_col7 {\n  background-color: #73c264;\n  color: #000000;\n  background-color: #f67a49;\n  color: #f1f1f1;\n}\n#T_8b9f5_row6_col8, #T_8b9f5_row8_col0 {\n  background-color: #3faa59;\n  color: #f1f1f1;\n}\n#T_8b9f5_row7_col3 {\n  background-color: #fffab6;\n  color: #000000;\n}\n#T_8b9f5_row7_col5 {\n  background-color: #ec5c3b;\n  color: #f1f1f1;\n  background-color: #51b35e;\n  color: #f1f1f1;\n}\n#T_8b9f5_row7_col6 {\n  background-color: #f8fcb6;\n  color: #000000;\n}\n#T_8b9f5_row7_col7 {\n  background-color: #89cc67;\n  color: #000000;\n  background-color: #f99153;\n  color: #000000;\n}\n#T_8b9f5_row7_col8 {\n  background-color: #e8f59f;\n  color: #000000;\n}\n#T_8b9f5_row8_col3 {\n  background-color: #e95538;\n  color: #f1f1f1;\n}\n#T_8b9f5_row8_col5 {\n  background-color: #05713c;\n  color: #f1f1f1;\n  background-color: #af0926;\n  color: #f1f1f1;\n}\n#T_8b9f5_row8_col6 {\n  background-color: #fffdbc;\n  color: #000000;\n}\n#T_8b9f5_row8_col7 {\n  background-color: #45ad5b;\n  color: #f1f1f1;\n  background-color: #e75337;\n  color: #f1f1f1;\n}\n#T_8b9f5_row8_col8 {\n  background-color: #fdc574;\n  color: #000000;\n}\n</style>\n<table id=\"T_8b9f5_\">\n  <thead>\n    <tr>\n      <th class=\"blank level0\" >&nbsp;</th>\n      <th class=\"col_heading level0 col0\" >Batting Rating</th>\n      <th class=\"col_heading level0 col1\" >Thwackability</th>\n      <th class=\"col_heading level0 col2\" >Divinity</th>\n      <th class=\"col_heading level0 col3\" >Musclitude</th>\n      <th class=\"col_heading level0 col4\" >Moxie</th>\n      <th class=\"col_heading level0 col5\" >Patheticism</th>\n      <th class=\"col_heading level0 col6\" >Martyrdom</th>\n      <th class=\"col_heading level0 col7\" >Tragicness</th>\n      <th class=\"col_heading level0 col8\" >Buoyancy</th>\n    </tr>\n  </thead>\n  <tbody>\n    <tr>\n      <th id=\"T_8b9f5_level0_row0\" class=\"row_heading level0 row0\" >Zahel Reroll</th>\n      <td id=\"T_8b9f5_row0_col0\" class=\"data row0 col0\" >0.937051</td>\n      <td id=\"T_8b9f5_row0_col1\" class=\"data row0 col1\" >0.890275</td>\n      <td id=\"T_8b9f5_row0_col2\" class=\"data row0 col2\" >1.295849</td>\n      <td id=\"T_8b9f5_row0_col3\" class=\"data row0 col3\" >0.603054</td>\n      <td id=\"T_8b9f5_row0_col4\" class=\"data row0 col4\" >0.519830</td>\n      <td id=\"T_8b9f5_row0_col5\" class=\"data row0 col5\" >0.104969</td>\n      <td id=\"T_8b9f5_row0_col6\" class=\"data row0 col6\" >0.795828</td>\n      <td id=\"T_8b9f5_row0_col7\" class=\"data row0 col7\" >0.833623</td>\n      <td id=\"T_8b9f5_row0_col8\" class=\"data row0 col8\" >0.820224</td>\n    </tr>\n    <tr>\n      <th id=\"T_8b9f5_level0_row1\" class=\"row_heading level0 row1\" >Nadia Outlaw</th>\n      <td id=\"T_8b9f5_row1_col0\" class=\"data row1 col0\" >0.623109</td>\n      <td id=\"T_8b9f5_row1_col1\" class=\"data row1 col1\" >0.641559</td>\n      <td id=\"T_8b9f5_row1_col2\" class=\"data row1 col2\" >1.314199</td>\n      <td id=\"T_8b9f5_row1_col3\" class=\"data row1 col3\" >0.735747</td>\n      <td id=\"T_8b9f5_row1_col4\" class=\"data row1 col4\" >0.704329</td>\n      <td id=\"T_8b9f5_row1_col5\" class=\"data row1 col5\" >0.999000</td>\n      <td id=\"T_8b9f5_row1_col6\" class=\"data row1 col6\" >0.904475</td>\n      <td id=\"T_8b9f5_row1_col7\" class=\"data row1 col7\" >0.810158</td>\n      <td id=\"T_8b9f5_row1_col8\" class=\"data row1 col8\" >0.804272</td>\n    </tr>\n    <tr>\n      <th id=\"T_8b9f5_level0_row2\" class=\"row_heading level0 row2\" >Beck Damage</th>\n      <td id=\"T_8b9f5_row2_col0\" class=\"data row2 col0\" >0.831514</td>\n      <td id=\"T_8b9f5_row2_col1\" class=\"data row2 col1\" >0.831296</td>\n      <td id=\"T_8b9f5_row2_col2\" class=\"data row2 col2\" >0.971559</td>\n      <td id=\"T_8b9f5_row2_col3\" class=\"data row2 col3\" >0.728145</td>\n      <td id=\"T_8b9f5_row2_col4\" class=\"data row2 col4\" >0.995574</td>\n      <td id=\"T_8b9f5_row2_col5\" class=\"data row2 col5\" >0.683250</td>\n      <td id=\"T_8b9f5_row2_col6\" class=\"data row2 col6\" >0.668831</td>\n      <td id=\"T_8b9f5_row2_col7\" class=\"data row2 col7\" >0.865820</td>\n      <td id=\"T_8b9f5_row2_col8\" class=\"data row2 col8\" >0.035691</td>\n    </tr>\n    <tr>\n      <th id=\"T_8b9f5_level0_row3\" class=\"row_heading level0 row3\" >Aari Babatunde</th>\n      <td id=\"T_8b9f5_row3_col0\" class=\"data row3 col0\" >0.685605</td>\n      <td id=\"T_8b9f5_row3_col1\" class=\"data row3 col1\" >0.800410</td>\n      <td id=\"T_8b9f5_row3_col2\" class=\"data row3 col2\" >1.260085</td>\n      <td id=\"T_8b9f5_row3_col3\" class=\"data row3 col3\" >0.166341</td>\n      <td id=\"T_8b9f5_row3_col4\" class=\"data row3 col4\" >0.203400</td>\n      <td id=\"T_8b9f5_row3_col5\" class=\"data row3 col5\" >0.814926</td>\n      <td id=\"T_8b9f5_row3_col6\" class=\"data row3 col6\" >0.660935</td>\n      <td id=\"T_8b9f5_row3_col7\" class=\"data row3 col7\" >0.966093</td>\n      <td id=\"T_8b9f5_row3_col8\" class=\"data row3 col8\" >0.998463</td>\n    </tr>\n    <tr>\n      <th id=\"T_8b9f5_level0_row4\" class=\"row_heading level0 row4\" >Jumpy Augustus</th>\n      <td id=\"T_8b9f5_row4_col0\" class=\"data row4 col0\" >0.735666</td>\n      <td id=\"T_8b9f5_row4_col1\" class=\"data row4 col1\" >0.822992</td>\n      <td id=\"T_8b9f5_row4_col2\" class=\"data row4 col2\" >0.939634</td>\n      <td id=\"T_8b9f5_row4_col3\" class=\"data row4 col3\" >0.171101</td>\n      <td id=\"T_8b9f5_row4_col4\" class=\"data row4 col4\" >1.028505</td>\n      <td id=\"T_8b9f5_row4_col5\" class=\"data row4 col5\" >0.747027</td>\n      <td id=\"T_8b9f5_row4_col6\" class=\"data row4 col6\" >0.640695</td>\n      <td id=\"T_8b9f5_row4_col7\" class=\"data row4 col7\" >0.596314</td>\n      <td id=\"T_8b9f5_row4_col8\" class=\"data row4 col8\" >0.080892</td>\n    </tr>\n    <tr>\n      <th id=\"T_8b9f5_level0_row5\" class=\"row_heading level0 row5\" >Kid Darling</th>\n      <td id=\"T_8b9f5_row5_col0\" class=\"data row5 col0\" >0.888677</td>\n      <td id=\"T_8b9f5_row5_col1\" class=\"data row5 col1\" >1.060822</td>\n      <td id=\"T_8b9f5_row5_col2\" class=\"data row5 col2\" >1.519110</td>\n      <td id=\"T_8b9f5_row5_col3\" class=\"data row5 col3\" >0.089592</td>\n      <td id=\"T_8b9f5_row5_col4\" class=\"data row5 col4\" >0.862714</td>\n      <td id=\"T_8b9f5_row5_col5\" class=\"data row5 col5\" >0.792161</td>\n      <td id=\"T_8b9f5_row5_col6\" class=\"data row5 col6\" >0.952048</td>\n      <td id=\"T_8b9f5_row5_col7\" class=\"data row5 col7\" >0.740405</td>\n      <td id=\"T_8b9f5_row5_col8\" class=\"data row5 col8\" >0.915722</td>\n    </tr>\n    <tr>\n      <th id=\"T_8b9f5_level0_row6\" class=\"row_heading level0 row6\" >Ariana Beard</th>\n      <td id=\"T_8b9f5_row6_col0\" class=\"data row6 col0\" >1.162192</td>\n      <td id=\"T_8b9f5_row6_col1\" class=\"data row6 col1\" >1.596394</td>\n      <td id=\"T_8b9f5_row6_col2\" class=\"data row6 col2\" >1.576306</td>\n      <td id=\"T_8b9f5_row6_col3\" class=\"data row6 col3\" >0.791055</td>\n      <td id=\"T_8b9f5_row6_col4\" class=\"data row6 col4\" >0.511155</td>\n      <td id=\"T_8b9f5_row6_col5\" class=\"data row6 col5\" >0.815935</td>\n      <td id=\"T_8b9f5_row6_col6\" class=\"data row6 col6\" >0.775335</td>\n      <td id=\"T_8b9f5_row6_col7\" class=\"data row6 col7\" >0.778202</td>\n      <td id=\"T_8b9f5_row6_col8\" class=\"data row6 col8\" >0.847922</td>\n    </tr>\n    <tr>\n      <th id=\"T_8b9f5_level0_row7\" class=\"row_heading level0 row7\" >Bottles Dinkleburg</th>\n      <td id=\"T_8b9f5_row7_col0\" class=\"data row7 col0\" >0.936489</td>\n      <td id=\"T_8b9f5_row7_col1\" class=\"data row7 col1\" >1.058030</td>\n      <td id=\"T_8b9f5_row7_col2\" class=\"data row7 col2\" >1.023610</td>\n      <td id=\"T_8b9f5_row7_col3\" class=\"data row7 col3\" >0.482101</td>\n      <td id=\"T_8b9f5_row7_col4\" class=\"data row7 col4\" >0.969864</td>\n      <td id=\"T_8b9f5_row7_col5\" class=\"data row7 col5\" >0.175725</td>\n      <td id=\"T_8b9f5_row7_col6\" class=\"data row7 col6\" >0.516330</td>\n      <td id=\"T_8b9f5_row7_col7\" class=\"data row7 col7\" >0.744105</td>\n      <td id=\"T_8b9f5_row7_col8\" class=\"data row7 col8\" >0.559501</td>\n    </tr>\n    <tr>\n      <th id=\"T_8b9f5_level0_row8\" class=\"row_heading level0 row8\" >Crystal Orchid</th>\n      <td id=\"T_8b9f5_row8_col0\" class=\"data row8 col0\" >0.851069</td>\n      <td id=\"T_8b9f5_row8_col1\" class=\"data row8 col1\" >1.134260</td>\n      <td id=\"T_8b9f5_row8_col2\" class=\"data row8 col2\" >1.711739</td>\n      <td id=\"T_8b9f5_row8_col3\" class=\"data row8 col3\" >0.160323</td>\n      <td id=\"T_8b9f5_row8_col4\" class=\"data row8 col4\" >0.624343</td>\n      <td id=\"T_8b9f5_row8_col5\" class=\"data row8 col5\" >0.976841</td>\n      <td id=\"T_8b9f5_row8_col6\" class=\"data row8 col6\" >0.492441</td>\n      <td id=\"T_8b9f5_row8_col7\" class=\"data row8 col7\" >0.841596</td>\n      <td id=\"T_8b9f5_row8_col8\" class=\"data row8 col8\" >0.347178</td>\n    </tr>\n  </tbody>\n</table>\n"
     },
     "execution_count": 7,
     "metadata": {},
     "output_type": "execute_result"
    }
   ],
   "source": [
    "new_lineup = []\n",
    "for player in pies.lineup:\n",
    "    new_lineup.append(player.simulated_copy(buffs=\n",
    "                                         {'thwackability': 0.5130641039787702,\n",
    "                                          'divinity': 0.7269251670605504,\n",
    "                                          'omniscience': 0.15027996064258692,\n",
    "                                          'continuation': 0.11857006105026602,\n",
    "                                          'cinnamon': 0.5548917066411219}))\n",
    "\n",
    "set_heatmap(get_batting_stlats(new_lineup), maxVal=1.0)\n",
    "# 62fb21ab-1ef3-4c01-93a2-4d95325b1dab"
   ],
   "metadata": {
    "collapsed": false,
    "pycharm": {
     "name": "#%%\n"
    }
   }
  },
  {
   "cell_type": "markdown",
   "source": [
    "## Squid Gift IV\n",
    "*League Blessing*"
   ],
   "metadata": {
    "collapsed": false,
    "pycharm": {
     "name": "#%% md\n"
    }
   }
  },
  {
   "cell_type": "code",
   "execution_count": 8,
   "outputs": [
    {
     "data": {
      "text/plain": "<display.general.HTMLWrapper at 0x14922e212b0>",
      "text/html": "<div style=\"font-family: 'Lora', 'Courier New', monospace, serif;font-weight: 700;color:#5988ff;text-shadow:0 0 20px #5988ff\">who wants a smoke machine</div>"
     },
     "execution_count": 8,
     "metadata": {},
     "output_type": "execute_result"
    }
   ],
   "source": [
    "god_text(\"who wants a smoke machine\", 1)"
   ],
   "metadata": {
    "collapsed": false,
    "pycharm": {
     "name": "#%%\n"
    }
   }
  },
  {
   "cell_type": "markdown",
   "source": [
    "I have no idea what this is. Defense item?"
   ],
   "metadata": {
    "collapsed": false,
    "pycharm": {
     "name": "#%% md\n"
    }
   }
  },
  {
   "cell_type": "markdown",
   "source": [
    "## Guest of Honor\n",
    "*Team Will*\n",
    "\n",
    "**Choose a Player on your Team to become the Life of the Party and start Partying early.**\n",
    "\n",
    "This would give one player the modification Life of the Party, which would increase stat boosts during parties."
   ],
   "metadata": {
    "collapsed": false,
    "pycharm": {
     "name": "#%% md\n"
    }
   }
  },
  {
   "cell_type": "markdown",
   "source": [
    "## Party Planning\n",
    "*Team Amplification*\n",
    "\n",
    "This would boost various stats team-wide, depending on the chosen Amplification."
   ],
   "metadata": {
    "collapsed": false,
    "pycharm": {
     "name": "#%% md\n"
    }
   }
  },
  {
   "cell_type": "markdown",
   "source": [
    "### Cookout\n",
    "**Throw a good vibes cookout to boost your Cinnamon, Moxie, and Base Thirst.**"
   ],
   "metadata": {
    "collapsed": false,
    "pycharm": {
     "name": "#%% md\n"
    }
   }
  },
  {
   "cell_type": "code",
   "execution_count": 9,
   "outputs": [
    {
     "data": {
      "text/plain": "<pandas.io.formats.style.Styler at 0x14922de58b0>",
      "text/html": "<style type=\"text/css\">\n#T_548d0_row0_col0 {\n  background-color: #fff6b0;\n  color: #000000;\n}\n#T_548d0_row1_col0 {\n  background-color: #9dd569;\n  color: #000000;\n}\n#T_548d0_row2_col0 {\n  background-color: #e9f6a1;\n  color: #000000;\n}\n</style>\n<table id=\"T_548d0_\">\n  <thead>\n    <tr>\n      <th class=\"blank level0\" >&nbsp;</th>\n      <th class=\"col_heading level0 col0\" >Pies Average</th>\n    </tr>\n  </thead>\n  <tbody>\n    <tr>\n      <th id=\"T_548d0_level0_row0\" class=\"row_heading level0 row0\" >Cinnamon</th>\n      <td id=\"T_548d0_row0_col0\" class=\"data row0 col0\" >0.471776</td>\n    </tr>\n    <tr>\n      <th id=\"T_548d0_level0_row1\" class=\"row_heading level0 row1\" >Moxie</th>\n      <td id=\"T_548d0_row1_col0\" class=\"data row1 col0\" >0.713301</td>\n    </tr>\n    <tr>\n      <th id=\"T_548d0_level0_row2\" class=\"row_heading level0 row2\" >Base Thirst</th>\n      <td id=\"T_548d0_row2_col0\" class=\"data row2 col0\" >0.557096</td>\n    </tr>\n  </tbody>\n</table>\n"
     },
     "execution_count": 9,
     "metadata": {},
     "output_type": "execute_result"
    }
   ],
   "source": [
    "cin = mean([x.cinnamon for x in pies.lineup + pies.rotation])\n",
    "mox = mean([x.moxie for x in pies.lineup])\n",
    "thst = mean([x.base_thirst for x in pies.lineup])\n",
    "\n",
    "set_heatmap(pandas.DataFrame(pandas.Series({\"Cinnamon\": cin, \"Moxie\": mox, \"Base Thirst\": thst}, name=\"Pies Average\")), maxVal=1.0)"
   ],
   "metadata": {
    "collapsed": false,
    "pycharm": {
     "name": "#%%\n"
    }
   }
  },
  {
   "cell_type": "markdown",
   "source": [
    "### Rager\n",
    "**Throw an all out dance party to boost your Musclitude, Ground Friction, and Continuation.**"
   ],
   "metadata": {
    "collapsed": false,
    "pycharm": {
     "name": "#%% md\n"
    }
   }
  },
  {
   "cell_type": "code",
   "execution_count": 10,
   "outputs": [
    {
     "data": {
      "text/plain": "<pandas.io.formats.style.Styler at 0x14922e09340>",
      "text/html": "<style type=\"text/css\">\n#T_94e59_row0_col0 {\n  background-color: #feeb9d;\n  color: #000000;\n}\n#T_94e59_row1_col0 {\n  background-color: #eef8a8;\n  color: #000000;\n}\n#T_94e59_row2_col0 {\n  background-color: #c7e77f;\n  color: #000000;\n}\n</style>\n<table id=\"T_94e59_\">\n  <thead>\n    <tr>\n      <th class=\"blank level0\" >&nbsp;</th>\n      <th class=\"col_heading level0 col0\" >Pies Average</th>\n    </tr>\n  </thead>\n  <tbody>\n    <tr>\n      <th id=\"T_94e59_level0_row0\" class=\"row_heading level0 row0\" >Musclitude</th>\n      <td id=\"T_94e59_row0_col0\" class=\"data row0 col0\" >0.436384</td>\n    </tr>\n    <tr>\n      <th id=\"T_94e59_level0_row1\" class=\"row_heading level0 row1\" >Ground Friction</th>\n      <td id=\"T_94e59_row1_col0\" class=\"data row1 col0\" >0.543342</td>\n    </tr>\n    <tr>\n      <th id=\"T_94e59_level0_row2\" class=\"row_heading level0 row2\" >Continuation</th>\n      <td id=\"T_94e59_row2_col0\" class=\"data row2 col0\" >0.632848</td>\n    </tr>\n  </tbody>\n</table>\n"
     },
     "execution_count": 10,
     "metadata": {},
     "output_type": "execute_result"
    }
   ],
   "source": [
    "musc = mean([x.musclitude for x in pies.lineup])\n",
    "fric = mean([x.ground_friction for x in pies.lineup])\n",
    "cont = mean([x.continuation for x in pies.lineup])\n",
    "\n",
    "set_heatmap(pandas.DataFrame(pandas.Series({\"Musclitude\": musc, \"Ground Friction\": fric, \"Continuation\": cont}, name=\"Pies Average\")), maxVal=1.0)"
   ],
   "metadata": {
    "collapsed": false,
    "pycharm": {
     "name": "#%%\n"
    }
   }
  },
  {
   "cell_type": "markdown",
   "source": [
    "### Mixer\n",
    "**Throw an awkward social to boost your Unthwackability, Omniscience, and Overpowerment.**"
   ],
   "metadata": {
    "collapsed": false,
    "pycharm": {
     "name": "#%% md\n"
    }
   }
  },
  {
   "cell_type": "code",
   "execution_count": 11,
   "outputs": [
    {
     "data": {
      "text/plain": "<pandas.io.formats.style.Styler at 0x14922de5ac0>",
      "text/html": "<style type=\"text/css\">\n#T_7f3f8_row0_col0 {\n  background-color: #b5df74;\n  color: #000000;\n}\n#T_7f3f8_row1_col0 {\n  background-color: #a7d96b;\n  color: #000000;\n}\n#T_7f3f8_row2_col0 {\n  background-color: #fedc88;\n  color: #000000;\n}\n</style>\n<table id=\"T_7f3f8_\">\n  <thead>\n    <tr>\n      <th class=\"blank level0\" >&nbsp;</th>\n      <th class=\"col_heading level0 col0\" >Pies Average</th>\n    </tr>\n  </thead>\n  <tbody>\n    <tr>\n      <th id=\"T_7f3f8_level0_row0\" class=\"row_heading level0 row0\" >Unthwackability</th>\n      <td id=\"T_7f3f8_row0_col0\" class=\"data row0 col0\" >0.671036</td>\n    </tr>\n    <tr>\n      <th id=\"T_7f3f8_level0_row1\" class=\"row_heading level0 row1\" >Omniscience</th>\n      <td id=\"T_7f3f8_row1_col0\" class=\"data row1 col0\" >0.695381</td>\n    </tr>\n    <tr>\n      <th id=\"T_7f3f8_level0_row2\" class=\"row_heading level0 row2\" >Overpowerment</th>\n      <td id=\"T_7f3f8_row2_col0\" class=\"data row2 col0\" >0.391061</td>\n    </tr>\n  </tbody>\n</table>\n"
     },
     "execution_count": 11,
     "metadata": {},
     "output_type": "execute_result"
    }
   ],
   "source": [
    "uthk = mean([x.unthwackability for x in pies.rotation])\n",
    "omni = mean([x.omniscience for x in pies.lineup + pies.rotation])\n",
    "pow = mean([x.overpowerment for x in pies.rotation])\n",
    "\n",
    "set_heatmap(pandas.DataFrame(pandas.Series({\"Unthwackability\": uthk, \"Omniscience\": omni, \"Overpowerment\": pow}, name=\"Pies Average\")), maxVal=1.0)"
   ],
   "metadata": {
    "collapsed": false,
    "pycharm": {
     "name": "#%%\n"
    }
   }
  },
  {
   "cell_type": "markdown",
   "source": [
    "### Formal\n",
    "**Throw a fancy formal to boost your Divinity, Coldness, and Chasiness.**"
   ],
   "metadata": {
    "collapsed": false,
    "pycharm": {
     "name": "#%% md\n"
    }
   }
  },
  {
   "cell_type": "code",
   "execution_count": 12,
   "outputs": [
    {
     "data": {
      "text/plain": "<pandas.io.formats.style.Styler at 0x14922e32fd0>",
      "text/html": "<style type=\"text/css\">\n#T_ee62a_row0_col0 {\n  background-color: #e6f59d;\n  color: #000000;\n}\n#T_ee62a_row1_col0 {\n  background-color: #f8864f;\n  color: #f1f1f1;\n}\n#T_ee62a_row2_col0 {\n  background-color: #cbe982;\n  color: #000000;\n}\n</style>\n<table id=\"T_ee62a_\">\n  <thead>\n    <tr>\n      <th class=\"blank level0\" >&nbsp;</th>\n      <th class=\"col_heading level0 col0\" >Pies Average</th>\n    </tr>\n  </thead>\n  <tbody>\n    <tr>\n      <th id=\"T_ee62a_level0_row0\" class=\"row_heading level0 row0\" >Divinity</th>\n      <td id=\"T_ee62a_row0_col0\" class=\"data row0 col0\" >0.563307</td>\n    </tr>\n    <tr>\n      <th id=\"T_ee62a_level0_row1\" class=\"row_heading level0 row1\" >Coldness</th>\n      <td id=\"T_ee62a_row1_col0\" class=\"data row1 col0\" >0.239377</td>\n    </tr>\n    <tr>\n      <th id=\"T_ee62a_level0_row2\" class=\"row_heading level0 row2\" >Chasiness</th>\n      <td id=\"T_ee62a_row2_col0\" class=\"data row2 col0\" >0.626277</td>\n    </tr>\n  </tbody>\n</table>\n"
     },
     "execution_count": 12,
     "metadata": {},
     "output_type": "execute_result"
    }
   ],
   "source": [
    "div = mean([x.divinity for x in pies.lineup])\n",
    "cold = mean([x.coldness for x in pies.rotation])\n",
    "chas = mean([x.chasiness for x in pies.lineup + pies.rotation])\n",
    "\n",
    "set_heatmap(pandas.DataFrame(pandas.Series({\"Divinity\": div, \"Coldness\": cold, \"Chasiness\": chas}, name=\"Pies Average\")), maxVal=1.0)"
   ],
   "metadata": {
    "collapsed": false,
    "pycharm": {
     "name": "#%%\n"
    }
   }
  },
  {
   "cell_type": "markdown",
   "id": "8a693fd0",
   "metadata": {},
   "source": [
    "\n",
    "---\n",
    "## Appendix\n",
    "* [Description of Attributes](https://www.blaseball.wiki/w/Player_Attributes)\n",
    "* [Stlat Viewer](https://blaseballplayers.netlify.app/team/fa3b11e7-5321-485f-bdbd-355af10cce11)\n",
    "* [Historical Player Graphs](https://astrology-next.vercel.app/team/philly-pies-gamma10)"
   ]
  }
 ],
 "metadata": {
  "kernelspec": {
   "name": "python3",
   "language": "python",
   "display_name": "Python 3 (ipykernel)"
  }
 },
 "nbformat": 4,
 "nbformat_minor": 5
}