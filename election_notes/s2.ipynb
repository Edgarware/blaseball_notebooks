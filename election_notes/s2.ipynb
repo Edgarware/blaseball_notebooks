{
 "cells": [
  {
   "cell_type": "markdown",
   "source": [
    "# Season 2 Election Notes\n",
    ">**FORBIDDEN KNOWLEDGE WARNING**\n",
    ">\n",
    ">This document contains some information that is not currently present on the main site and may be considered spoilers.\n",
    ">Continue at your own discretion. Some information in this document cannot be shared on the Discord without spoiler tags.\n"
   ],
   "metadata": {
    "collapsed": false
   }
  },
  {
   "cell_type": "code",
   "execution_count": 1,
   "outputs": [],
   "source": [
    "import pandas\n",
    "%matplotlib inline\n",
    "import plotly.express as plot\n",
    "import plotly.io as _pio\n",
    "import plotly.subplots as subplot\n",
    "from IPython.display import display, Markdown\n",
    "\n",
    "import os\n",
    "import sys\n",
    "pdir = os.path.abspath(os.path.join(os.path.dirname(''), os.path.pardir))\n",
    "sys.path.append(pdir)\n",
    "from nlumpy import *\n",
    "from display import *\n",
    "sys.path.remove(pdir)\n",
    "\n",
    "_pio.renderers.default = \"notebook_connected\""
   ],
   "metadata": {
    "collapsed": false
   }
  },
  {
   "cell_type": "code",
   "execution_count": 2,
   "outputs": [],
   "source": [
    "pies = nlumpy_get_team_players('23e4cbc1-e9cd-47fa-a35b-bfa06f726cb7')"
   ],
   "metadata": {
    "collapsed": false
   }
  },
  {
   "cell_type": "code",
   "execution_count": 3,
   "outputs": [
    {
     "data": {
      "text/plain": "<IPython.core.display.Markdown object>",
      "text/markdown": "**Last Updated Season 2, Day 6**"
     },
     "metadata": {},
     "output_type": "display_data"
    }
   ],
   "source": [
    "sim = api2.get_sim()\n",
    "display(Markdown(f\"**Last Updated Season {int(sim['simData']['currentSeasonNumber'] + 1)}, Day {int(sim['simData']['currentDay'])}**\"))"
   ],
   "metadata": {
    "collapsed": false
   }
  },
  {
   "cell_type": "markdown",
   "source": [
    "## Blessings\n",
    "\n",
    "Blessings are selected by raffle across all teams. Each blessing will be awarded to one random team, where teams with\n",
    "more votes are more likely to be selected. Each team can receive one blessing at most."
   ],
   "metadata": {
    "collapsed": false
   }
  },
  {
   "cell_type": "markdown",
   "source": [
    "### Yeet\n",
    "\n",
    "**Send your Team's worst Player into the Black Hole and receive a random Player back.**"
   ],
   "metadata": {
    "collapsed": false
   }
  },
  {
   "cell_type": "code",
   "execution_count": 4,
   "outputs": [
    {
     "data": {
      "text/plain": "<IPython.core.display.Markdown object>",
      "text/markdown": "The overall worst player on the team is `Ariadne Amaat`. See below for stat comparison by their position."
     },
     "metadata": {},
     "output_type": "display_data"
    },
    {
     "data": {
      "text/plain": "<pandas.io.formats.style.Styler at 0x2811f6546a0>",
      "text/html": "<style type=\"text/css\">\n#T_aa923_row0_col0 {\n  background-color: #fee08b;\n  color: #000000;\n}\n#T_aa923_row0_col1, #T_aa923_row0_col5, #T_aa923_row4_col3 {\n  background-color: #fee28f;\n  color: #000000;\n}\n#T_aa923_row0_col2 {\n  background-color: #9bd469;\n  color: #000000;\n}\n#T_aa923_row0_col3 {\n  background-color: #fa9656;\n  color: #000000;\n}\n#T_aa923_row0_col4 {\n  background-color: #f57245;\n  color: #f1f1f1;\n}\n#T_aa923_row1_col0 {\n  background-color: #fee797;\n  color: #000000;\n}\n#T_aa923_row1_col1 {\n  background-color: #fba05b;\n  color: #000000;\n}\n#T_aa923_row1_col2, #T_aa923_row11_col1 {\n  background-color: #fecc7b;\n  color: #000000;\n}\n#T_aa923_row1_col3 {\n  background-color: #b7e075;\n  color: #000000;\n}\n#T_aa923_row1_col4 {\n  background-color: #f46d43;\n  color: #f1f1f1;\n}\n#T_aa923_row1_col5 {\n  background-color: #cdea83;\n  color: #000000;\n}\n#T_aa923_row2_col0 {\n  background-color: #fff5ae;\n  color: #000000;\n}\n#T_aa923_row2_col1, #T_aa923_row9_col2 {\n  background-color: #b3df72;\n  color: #000000;\n}\n#T_aa923_row2_col2 {\n  background-color: #f7814c;\n  color: #f1f1f1;\n}\n#T_aa923_row2_col3 {\n  background-color: #fbfdba;\n  color: #000000;\n}\n#T_aa923_row2_col4 {\n  background-color: #fee593;\n  color: #000000;\n}\n#T_aa923_row2_col5, #T_aa923_row8_col1 {\n  background-color: #fffebe;\n  color: #000000;\n}\n#T_aa923_row3_col0, #T_aa923_row9_col0 {\n  background-color: #cbe982;\n  color: #000000;\n}\n#T_aa923_row3_col1 {\n  background-color: #96d268;\n  color: #000000;\n}\n#T_aa923_row3_col2 {\n  background-color: #6ec064;\n  color: #000000;\n}\n#T_aa923_row3_col3, #T_aa923_row13_col1 {\n  background-color: #fff6b0;\n  color: #000000;\n}\n#T_aa923_row3_col4, #T_aa923_row7_col2, #T_aa923_row9_col5, #T_aa923_row10_col0, #T_aa923_row14_col1 {\n  background-color: #e0f295;\n  color: #000000;\n}\n#T_aa923_row3_col5 {\n  background-color: #e3f399;\n  color: #000000;\n}\n#T_aa923_row4_col0, #T_aa923_row14_col4 {\n  background-color: #fee18d;\n  color: #000000;\n}\n#T_aa923_row4_col1, #T_aa923_row13_col5 {\n  background-color: #f99153;\n  color: #000000;\n}\n#T_aa923_row4_col2 {\n  background-color: #f88c51;\n  color: #f1f1f1;\n}\n#T_aa923_row4_col4 {\n  background-color: #dcf08f;\n  color: #000000;\n}\n#T_aa923_row4_col5 {\n  background-color: #f8fcb6;\n  color: #000000;\n}\n#T_aa923_row5_col0, #T_aa923_row9_col3, #T_aa923_row12_col2 {\n  background-color: #feffbe;\n  color: #000000;\n}\n#T_aa923_row5_col1, #T_aa923_row7_col0 {\n  background-color: #fdbf6f;\n  color: #000000;\n}\n#T_aa923_row5_col2 {\n  background-color: #69be63;\n  color: #f1f1f1;\n}\n#T_aa923_row5_col3 {\n  background-color: #feeda1;\n  color: #000000;\n}\n#T_aa923_row5_col4 {\n  background-color: #dff293;\n  color: #000000;\n}\n#T_aa923_row5_col5 {\n  background-color: #fdc776;\n  color: #000000;\n}\n#T_aa923_row6_col0 {\n  background-color: #fed27f;\n  color: #000000;\n}\n#T_aa923_row6_col1 {\n  background-color: #fdc372;\n  color: #000000;\n}\n#T_aa923_row6_col2, #T_aa923_row7_col3 {\n  background-color: #f47044;\n  color: #f1f1f1;\n}\n#T_aa923_row6_col3 {\n  background-color: #c01a27;\n  color: #f1f1f1;\n}\n#T_aa923_row6_col4 {\n  background-color: #f7fcb4;\n  color: #000000;\n}\n#T_aa923_row6_col5 {\n  background-color: #87cb67;\n  color: #000000;\n}\n#T_aa923_row7_col1, #T_aa923_row8_col4, #T_aa923_row12_col3 {\n  background-color: #fedc88;\n  color: #000000;\n}\n#T_aa923_row7_col4 {\n  background-color: #e65036;\n  color: #f1f1f1;\n}\n#T_aa923_row7_col5 {\n  background-color: #fdbd6d;\n  color: #000000;\n}\n#T_aa923_row8_col0 {\n  background-color: #fee999;\n  color: #000000;\n}\n#T_aa923_row8_col2 {\n  background-color: #fdb567;\n  color: #000000;\n}\n#T_aa923_row8_col3 {\n  background-color: #feec9f;\n  color: #000000;\n}\n#T_aa923_row8_col5, #T_aa923_row11_col0, #T_aa923_row14_col0 {\n  background-color: #fffcba;\n  color: #000000;\n}\n#T_aa923_row9_col1, #T_aa923_row10_col4 {\n  background-color: #57b65f;\n  color: #f1f1f1;\n}\n#T_aa923_row9_col4, #T_aa923_row11_col3 {\n  background-color: #ecf7a6;\n  color: #000000;\n}\n#T_aa923_row10_col1 {\n  background-color: #5ab760;\n  color: #f1f1f1;\n}\n#T_aa923_row10_col2 {\n  background-color: #fed07e;\n  color: #000000;\n}\n#T_aa923_row10_col3 {\n  background-color: #bbe278;\n  color: #000000;\n}\n#T_aa923_row10_col5 {\n  background-color: #f88950;\n  color: #f1f1f1;\n}\n#T_aa923_row11_col2 {\n  background-color: #fee695;\n  color: #000000;\n}\n#T_aa923_row11_col4 {\n  background-color: #e9f6a1;\n  color: #000000;\n}\n#T_aa923_row11_col5 {\n  background-color: #ebf7a3;\n  color: #000000;\n}\n#T_aa923_row12_col0 {\n  background-color: #fafdb8;\n  color: #000000;\n}\n#T_aa923_row12_col1 {\n  background-color: #63bc62;\n  color: #f1f1f1;\n}\n#T_aa923_row12_col4 {\n  background-color: #c3e67d;\n  color: #000000;\n}\n#T_aa923_row12_col5 {\n  background-color: #f67f4b;\n  color: #f1f1f1;\n}\n#T_aa923_row13_col0 {\n  background-color: #fdad60;\n  color: #000000;\n}\n#T_aa923_row13_col2 {\n  background-color: #fff2aa;\n  color: #000000;\n}\n#T_aa923_row13_col3 {\n  background-color: #dd3d2d;\n  color: #f1f1f1;\n}\n#T_aa923_row13_col4 {\n  background-color: #ed5f3c;\n  color: #f1f1f1;\n}\n#T_aa923_row14_col2 {\n  background-color: #feeb9d;\n  color: #000000;\n}\n#T_aa923_row14_col3 {\n  background-color: #feea9b;\n  color: #000000;\n}\n#T_aa923_row14_col5 {\n  background-color: #d9ef8b;\n  color: #000000;\n}\n</style>\n<table id=\"T_aa923\">\n  <thead>\n    <tr>\n      <th class=\"blank level0\" >&nbsp;</th>\n      <th id=\"T_aa923_level0_col0\" class=\"col_heading level0 col0\" >Overall</th>\n      <th id=\"T_aa923_level0_col1\" class=\"col_heading level0 col1\" >Batting</th>\n      <th id=\"T_aa923_level0_col2\" class=\"col_heading level0 col2\" >Pitching</th>\n      <th id=\"T_aa923_level0_col3\" class=\"col_heading level0 col3\" >Running</th>\n      <th id=\"T_aa923_level0_col4\" class=\"col_heading level0 col4\" >Defense</th>\n      <th id=\"T_aa923_level0_col5\" class=\"col_heading level0 col5\" >Vibes</th>\n    </tr>\n    <tr>\n      <th class=\"index_name level0\" >player_name</th>\n      <th class=\"blank col0\" >&nbsp;</th>\n      <th class=\"blank col1\" >&nbsp;</th>\n      <th class=\"blank col2\" >&nbsp;</th>\n      <th class=\"blank col3\" >&nbsp;</th>\n      <th class=\"blank col4\" >&nbsp;</th>\n      <th class=\"blank col5\" >&nbsp;</th>\n    </tr>\n  </thead>\n  <tbody>\n    <tr>\n      <th id=\"T_aa923_level0_row0\" class=\"row_heading level0 row0\" >Steals Chark</th>\n      <td id=\"T_aa923_row0_col0\" class=\"data row0 col0\" >2.004328</td>\n      <td id=\"T_aa923_row0_col1\" class=\"data row0 col1\" >2.032239</td>\n      <td id=\"T_aa923_row0_col2\" class=\"data row0 col2\" >3.583006</td>\n      <td id=\"T_aa923_row0_col3\" class=\"data row0 col3\" >1.323131</td>\n      <td id=\"T_aa923_row0_col4\" class=\"data row0 col4\" >1.042740</td>\n      <td id=\"T_aa923_row0_col5\" class=\"data row0 col5\" >2.040524</td>\n    </tr>\n    <tr>\n      <th id=\"T_aa923_level0_row1\" class=\"row_heading level0 row1\" >Thomas Marsh</th>\n      <td id=\"T_aa923_row1_col0\" class=\"data row1 col0\" >2.126231</td>\n      <td id=\"T_aa923_row1_col1\" class=\"data row1 col1\" >1.387004</td>\n      <td id=\"T_aa923_row1_col2\" class=\"data row1 col2\" >1.797498</td>\n      <td id=\"T_aa923_row1_col3\" class=\"data row1 col3\" >3.329373</td>\n      <td id=\"T_aa923_row1_col4\" class=\"data row1 col4\" >0.999730</td>\n      <td id=\"T_aa923_row1_col5\" class=\"data row1 col5\" >3.117549</td>\n    </tr>\n    <tr>\n      <th id=\"T_aa923_level0_row2\" class=\"row_heading level0 row2\" >Bevan Wise</th>\n      <td id=\"T_aa923_row2_col0\" class=\"data row2 col0\" >2.334350</td>\n      <td id=\"T_aa923_row2_col1\" class=\"data row2 col1\" >3.373989</td>\n      <td id=\"T_aa923_row2_col2\" class=\"data row2 col2\" >1.169454</td>\n      <td id=\"T_aa923_row2_col3\" class=\"data row2 col3\" >2.558545</td>\n      <td id=\"T_aa923_row2_col4\" class=\"data row2 col4\" >2.070838</td>\n      <td id=\"T_aa923_row2_col5\" class=\"data row2 col5\" >2.498924</td>\n    </tr>\n    <tr>\n      <th id=\"T_aa923_level0_row3\" class=\"row_heading level0 row3\" >Pudge Nakamoto</th>\n      <td id=\"T_aa923_row3_col0\" class=\"data row3 col0\" >3.135863</td>\n      <td id=\"T_aa923_row3_col1\" class=\"data row3 col1\" >3.620518</td>\n      <td id=\"T_aa923_row3_col2\" class=\"data row3 col2\" >3.931474</td>\n      <td id=\"T_aa923_row3_col3\" class=\"data row3 col3\" >2.361910</td>\n      <td id=\"T_aa923_row3_col4\" class=\"data row3 col4\" >2.898207</td>\n      <td id=\"T_aa923_row3_col5\" class=\"data row3 col5\" >2.867204</td>\n    </tr>\n    <tr>\n      <th id=\"T_aa923_level0_row4\" class=\"row_heading level0 row4\" >Lucas Petty</th>\n      <td id=\"T_aa923_row4_col0\" class=\"data row4 col0\" >2.017744</td>\n      <td id=\"T_aa923_row4_col1\" class=\"data row4 col1\" >1.274734</td>\n      <td id=\"T_aa923_row4_col2\" class=\"data row4 col2\" >1.230637</td>\n      <td id=\"T_aa923_row4_col3\" class=\"data row4 col3\" >2.045954</td>\n      <td id=\"T_aa923_row4_col4\" class=\"data row4 col4\" >2.957547</td>\n      <td id=\"T_aa923_row4_col5\" class=\"data row4 col5\" >2.579849</td>\n    </tr>\n    <tr>\n      <th id=\"T_aa923_level0_row5\" class=\"row_heading level0 row5\" >Marco Escobar</th>\n      <td id=\"T_aa923_row5_col0\" class=\"data row5 col0\" >2.508690</td>\n      <td id=\"T_aa923_row5_col1\" class=\"data row5 col1\" >1.673372</td>\n      <td id=\"T_aa923_row5_col2\" class=\"data row5 col2\" >3.973618</td>\n      <td id=\"T_aa923_row5_col3\" class=\"data row5 col3\" >2.216457</td>\n      <td id=\"T_aa923_row5_col4\" class=\"data row5 col4\" >2.929212</td>\n      <td id=\"T_aa923_row5_col5\" class=\"data row5 col5\" >1.750792</td>\n    </tr>\n    <tr>\n      <th id=\"T_aa923_level0_row6\" class=\"row_heading level0 row6\" >Augusto Reddick</th>\n      <td id=\"T_aa923_row6_col0\" class=\"data row6 col0\" >1.872746</td>\n      <td id=\"T_aa923_row6_col1\" class=\"data row6 col1\" >1.709232</td>\n      <td id=\"T_aa923_row6_col2\" class=\"data row6 col2\" >1.016398</td>\n      <td id=\"T_aa923_row6_col3\" class=\"data row6 col3\" >0.284161</td>\n      <td id=\"T_aa923_row6_col4\" class=\"data row6 col4\" >2.616510</td>\n      <td id=\"T_aa923_row6_col5\" class=\"data row6 col5\" >3.737429</td>\n    </tr>\n    <tr>\n      <th id=\"T_aa923_level0_row7\" class=\"row_heading level0 row7\" >Dimi Wobbler</th>\n      <td id=\"T_aa923_row7_col0\" class=\"data row7 col0\" >1.661253</td>\n      <td id=\"T_aa923_row7_col1\" class=\"data row7 col1\" >1.961847</td>\n      <td id=\"T_aa923_row7_col2\" class=\"data row7 col2\" >2.899054</td>\n      <td id=\"T_aa923_row7_col3\" class=\"data row7 col3\" >1.023620</td>\n      <td id=\"T_aa923_row7_col4\" class=\"data row7 col4\" >0.779685</td>\n      <td id=\"T_aa923_row7_col5\" class=\"data row7 col5\" >1.642059</td>\n    </tr>\n    <tr>\n      <th id=\"T_aa923_level0_row8\" class=\"row_heading level0 row8\" >Chet Takahashi</th>\n      <td id=\"T_aa923_row8_col0\" class=\"data row8 col0\" >2.131818</td>\n      <td id=\"T_aa923_row8_col1\" class=\"data row8 col1\" >2.482796</td>\n      <td id=\"T_aa923_row8_col2\" class=\"data row8 col2\" >1.569054</td>\n      <td id=\"T_aa923_row8_col3\" class=\"data row8 col3\" >2.190428</td>\n      <td id=\"T_aa923_row8_col4\" class=\"data row8 col4\" >1.966252</td>\n      <td id=\"T_aa923_row8_col5\" class=\"data row8 col5\" >2.450558</td>\n    </tr>\n    <tr>\n      <th id=\"T_aa923_level0_row9\" class=\"row_heading level0 row9\" >Tucker Thane</th>\n      <td id=\"T_aa923_row9_col0\" class=\"data row9 col0\" >3.127572</td>\n      <td id=\"T_aa923_row9_col1\" class=\"data row9 col1\" >4.092642</td>\n      <td id=\"T_aa923_row9_col2\" class=\"data row9 col2\" >3.377215</td>\n      <td id=\"T_aa923_row9_col3\" class=\"data row9 col3\" >2.516299</td>\n      <td id=\"T_aa923_row9_col4\" class=\"data row9 col4\" >2.747798</td>\n      <td id=\"T_aa923_row9_col5\" class=\"data row9 col5\" >2.903908</td>\n    </tr>\n    <tr>\n      <th id=\"T_aa923_level0_row10\" class=\"row_heading level0 row10\" >Amos Parveen</th>\n      <td id=\"T_aa923_row10_col0\" class=\"data row10 col0\" >2.901967</td>\n      <td id=\"T_aa923_row10_col1\" class=\"data row10 col1\" >4.062798</td>\n      <td id=\"T_aa923_row10_col2\" class=\"data row10 col2\" >1.848237</td>\n      <td id=\"T_aa923_row10_col3\" class=\"data row10 col3\" >3.297859</td>\n      <td id=\"T_aa923_row10_col4\" class=\"data row10 col4\" >4.083379</td>\n      <td id=\"T_aa923_row10_col5\" class=\"data row10 col5\" >1.217561</td>\n    </tr>\n    <tr>\n      <th id=\"T_aa923_level0_row11\" class=\"row_heading level0 row11\" >Mars Anchor</th>\n      <td id=\"T_aa923_row11_col0\" class=\"data row11 col0\" >2.441506</td>\n      <td id=\"T_aa923_row11_col1\" class=\"data row11 col1\" >1.811191</td>\n      <td id=\"T_aa923_row11_col2\" class=\"data row11 col2\" >2.106762</td>\n      <td id=\"T_aa923_row11_col3\" class=\"data row11 col3\" >2.748920</td>\n      <td id=\"T_aa923_row11_col4\" class=\"data row11 col4\" >2.784448</td>\n      <td id=\"T_aa923_row11_col5\" class=\"data row11 col5\" >2.756207</td>\n    </tr>\n    <tr>\n      <th id=\"T_aa923_level0_row12\" class=\"row_heading level0 row12\" >Jira Sealegs</th>\n      <td id=\"T_aa923_row12_col0\" class=\"data row12 col0\" >2.566948</td>\n      <td id=\"T_aa923_row12_col1\" class=\"data row12 col1\" >4.006482</td>\n      <td id=\"T_aa923_row12_col2\" class=\"data row12 col2\" >2.506518</td>\n      <td id=\"T_aa923_row12_col3\" class=\"data row12 col3\" >1.966954</td>\n      <td id=\"T_aa923_row12_col4\" class=\"data row12 col4\" >3.207579</td>\n      <td id=\"T_aa923_row12_col5\" class=\"data row12 col5\" >1.147208</td>\n    </tr>\n    <tr>\n      <th id=\"T_aa923_level0_row13\" class=\"row_heading level0 row13\" >Ariadne Amaat</th>\n      <td id=\"T_aa923_row13_col0\" class=\"data row13 col0\" >1.487631</td>\n      <td id=\"T_aa923_row13_col1\" class=\"data row13 col1\" >2.358664</td>\n      <td id=\"T_aa923_row13_col2\" class=\"data row13 col2\" >2.288500</td>\n      <td id=\"T_aa923_row13_col3\" class=\"data row13 col3\" >0.622079</td>\n      <td id=\"T_aa923_row13_col4\" class=\"data row13 col4\" >0.886125</td>\n      <td id=\"T_aa923_row13_col5\" class=\"data row13 col5\" >1.282787</td>\n    </tr>\n    <tr>\n      <th id=\"T_aa923_level0_row14\" class=\"row_heading level0 row14\" >Siobhan Chark</th>\n      <td id=\"T_aa923_row14_col0\" class=\"data row14 col0\" >2.451404</td>\n      <td id=\"T_aa923_row14_col1\" class=\"data row14 col1\" >2.899504</td>\n      <td id=\"T_aa923_row14_col2\" class=\"data row14 col2\" >2.183407</td>\n      <td id=\"T_aa923_row14_col3\" class=\"data row14 col3\" >2.153785</td>\n      <td id=\"T_aa923_row14_col4\" class=\"data row14 col4\" >2.013568</td>\n      <td id=\"T_aa923_row14_col5\" class=\"data row14 col5\" >3.006757</td>\n    </tr>\n  </tbody>\n</table>\n"
     },
     "metadata": {},
     "output_type": "display_data"
    },
    {
     "data": {
      "text/plain": "<pandas.io.formats.style.Styler at 0x281200bbdc0>",
      "text/html": "<style type=\"text/css\">\n#T_79cd0_row0_col0 {\n  background-color: #5ab760;\n  color: #f1f1f1;\n}\n#T_79cd0_row0_col1 {\n  background-color: #51b35e;\n  color: #f1f1f1;\n}\n#T_79cd0_row0_col2 {\n  background-color: #7fc866;\n  color: #000000;\n}\n#T_79cd0_row0_col3, #T_79cd0_row7_col1 {\n  background-color: #3faa59;\n  color: #f1f1f1;\n}\n#T_79cd0_row1_col0 {\n  background-color: #f99153;\n  color: #000000;\n}\n#T_79cd0_row1_col1 {\n  background-color: #f88950;\n  color: #f1f1f1;\n}\n#T_79cd0_row1_col2 {\n  background-color: #ea5739;\n  color: #f1f1f1;\n}\n#T_79cd0_row1_col3 {\n  background-color: #fec877;\n  color: #000000;\n}\n#T_79cd0_row2_col0 {\n  background-color: #fff6b0;\n  color: #000000;\n}\n#T_79cd0_row2_col1 {\n  background-color: #82c966;\n  color: #000000;\n}\n#T_79cd0_row2_col2 {\n  background-color: #bb1526;\n  color: #f1f1f1;\n}\n#T_79cd0_row2_col3 {\n  background-color: #d1ec86;\n  color: #000000;\n}\n#T_79cd0_row3_col0 {\n  background-color: #e0f295;\n  color: #000000;\n}\n#T_79cd0_row3_col1 {\n  background-color: #fdb163;\n  color: #000000;\n}\n#T_79cd0_row3_col2 {\n  background-color: #e5f49b;\n  color: #000000;\n}\n#T_79cd0_row3_col3 {\n  background-color: #36a657;\n  color: #f1f1f1;\n}\n#T_79cd0_row4_col0 {\n  background-color: #fecc7b;\n  color: #000000;\n}\n#T_79cd0_row4_col1 {\n  background-color: #fdbd6d;\n  color: #000000;\n}\n#T_79cd0_row4_col2 {\n  background-color: #ecf7a6;\n  color: #000000;\n}\n#T_79cd0_row4_col3 {\n  background-color: #f47044;\n  color: #f1f1f1;\n}\n#T_79cd0_row5_col0 {\n  background-color: #57b65f;\n  color: #f1f1f1;\n}\n#T_79cd0_row5_col1 {\n  background-color: #05713c;\n  color: #f1f1f1;\n}\n#T_79cd0_row5_col2 {\n  background-color: #4eb15d;\n  color: #f1f1f1;\n}\n#T_79cd0_row5_col3 {\n  background-color: #c1e57b;\n  color: #000000;\n}\n#T_79cd0_row6_col0 {\n  background-color: #b3df72;\n  color: #000000;\n}\n#T_79cd0_row6_col1 {\n  background-color: #a2d76a;\n  color: #000000;\n}\n#T_79cd0_row6_col2, #T_79cd0_row7_col0 {\n  background-color: #63bc62;\n  color: #f1f1f1;\n}\n#T_79cd0_row6_col3 {\n  background-color: #f8fcb6;\n  color: #000000;\n}\n#T_79cd0_row7_col2 {\n  background-color: #0b7d42;\n  color: #f1f1f1;\n}\n#T_79cd0_row7_col3 {\n  background-color: #d9ef8b;\n  color: #000000;\n}\n#T_79cd0_row8_col0 {\n  background-color: #fedc88;\n  color: #000000;\n}\n#T_79cd0_row8_col1 {\n  background-color: #c01a27;\n  color: #f1f1f1;\n}\n#T_79cd0_row8_col2 {\n  background-color: #7dc765;\n  color: #000000;\n}\n#T_79cd0_row8_col3 {\n  background-color: #feca79;\n  color: #000000;\n}\n</style>\n<table id=\"T_79cd0\">\n  <thead>\n    <tr>\n      <th class=\"blank level0\" >&nbsp;</th>\n      <th id=\"T_79cd0_level0_col0\" class=\"col_heading level0 col0\" >Batting Rating</th>\n      <th id=\"T_79cd0_level0_col1\" class=\"col_heading level0 col1\" >sight</th>\n      <th id=\"T_79cd0_level0_col2\" class=\"col_heading level0 col2\" >thwack</th>\n      <th id=\"T_79cd0_level0_col3\" class=\"col_heading level0 col3\" >ferocity</th>\n    </tr>\n    <tr>\n      <th class=\"index_name level0\" >player_name</th>\n      <th class=\"blank col0\" >&nbsp;</th>\n      <th class=\"blank col1\" >&nbsp;</th>\n      <th class=\"blank col2\" >&nbsp;</th>\n      <th class=\"blank col3\" >&nbsp;</th>\n    </tr>\n  </thead>\n  <tbody>\n    <tr>\n      <th id=\"T_79cd0_level0_row0\" class=\"row_heading level0 row0\" >Amos Parveen</th>\n      <td id=\"T_79cd0_row0_col0\" class=\"data row0 col0\" >0.812560</td>\n      <td id=\"T_79cd0_row0_col1\" class=\"data row0 col1\" >0.826331</td>\n      <td id=\"T_79cd0_row0_col2\" class=\"data row0 col2\" >0.760910</td>\n      <td id=\"T_79cd0_row0_col3\" class=\"data row0 col3\" >0.850437</td>\n    </tr>\n    <tr>\n      <th id=\"T_79cd0_level0_row1\" class=\"row_heading level0 row1\" >Lucas Petty</th>\n      <td id=\"T_79cd0_row1_col0\" class=\"data row1 col0\" >0.254947</td>\n      <td id=\"T_79cd0_row1_col1\" class=\"data row1 col1\" >0.243809</td>\n      <td id=\"T_79cd0_row1_col2\" class=\"data row1 col2\" >0.166961</td>\n      <td id=\"T_79cd0_row1_col3\" class=\"data row1 col3\" >0.354070</td>\n    </tr>\n    <tr>\n      <th id=\"T_79cd0_level0_row2\" class=\"row_heading level0 row2\" >Ariadne Amaat</th>\n      <td id=\"T_79cd0_row2_col0\" class=\"data row2 col0\" >0.471733</td>\n      <td id=\"T_79cd0_row2_col1\" class=\"data row2 col1\" >0.754392</td>\n      <td id=\"T_79cd0_row2_col2\" class=\"data row2 col2\" >0.045351</td>\n      <td id=\"T_79cd0_row2_col3\" class=\"data row2 col3\" >0.615456</td>\n    </tr>\n    <tr>\n      <th id=\"T_79cd0_level0_row3\" class=\"row_heading level0 row3\" >Siobhan Chark</th>\n      <td id=\"T_79cd0_row3_col0\" class=\"data row3 col0\" >0.579901</td>\n      <td id=\"T_79cd0_row3_col1\" class=\"data row3 col1\" >0.306972</td>\n      <td id=\"T_79cd0_row3_col2\" class=\"data row3 col2\" >0.570024</td>\n      <td id=\"T_79cd0_row3_col3\" class=\"data row3 col3\" >0.862707</td>\n    </tr>\n    <tr>\n      <th id=\"T_79cd0_level0_row4\" class=\"row_heading level0 row4\" >Mars Anchor</th>\n      <td id=\"T_79cd0_row4_col0\" class=\"data row4 col0\" >0.362238</td>\n      <td id=\"T_79cd0_row4_col1\" class=\"data row4 col1\" >0.330136</td>\n      <td id=\"T_79cd0_row4_col2\" class=\"data row4 col2\" >0.550708</td>\n      <td id=\"T_79cd0_row4_col3\" class=\"data row4 col3\" >0.205871</td>\n    </tr>\n    <tr>\n      <th id=\"T_79cd0_level0_row5\" class=\"row_heading level0 row5\" >Tucker Thane</th>\n      <td id=\"T_79cd0_row5_col0\" class=\"data row5 col0\" >0.818528</td>\n      <td id=\"T_79cd0_row5_col1\" class=\"data row5 col1\" >0.976919</td>\n      <td id=\"T_79cd0_row5_col2\" class=\"data row5 col2\" >0.830288</td>\n      <td id=\"T_79cd0_row5_col3\" class=\"data row5 col3\" >0.648379</td>\n    </tr>\n    <tr>\n      <th id=\"T_79cd0_level0_row6\" class=\"row_heading level0 row6\" >Bevan Wise</th>\n      <td id=\"T_79cd0_row6_col0\" class=\"data row6 col0\" >0.674798</td>\n      <td id=\"T_79cd0_row6_col1\" class=\"data row6 col1\" >0.703233</td>\n      <td id=\"T_79cd0_row6_col2\" class=\"data row6 col2\" >0.804662</td>\n      <td id=\"T_79cd0_row6_col3\" class=\"data row6 col3\" >0.516498</td>\n    </tr>\n    <tr>\n      <th id=\"T_79cd0_level0_row7\" class=\"row_heading level0 row7\" >Jira Sealegs</th>\n      <td id=\"T_79cd0_row7_col0\" class=\"data row7 col0\" >0.801296</td>\n      <td id=\"T_79cd0_row7_col1\" class=\"data row7 col1\" >0.848431</td>\n      <td id=\"T_79cd0_row7_col2\" class=\"data row7 col2\" >0.955203</td>\n      <td id=\"T_79cd0_row7_col3\" class=\"data row7 col3\" >0.600255</td>\n    </tr>\n    <tr>\n      <th id=\"T_79cd0_level0_row8\" class=\"row_heading level0 row8\" >Dimi Wobbler</th>\n      <td id=\"T_79cd0_row8_col0\" class=\"data row8 col0\" >0.392369</td>\n      <td id=\"T_79cd0_row8_col1\" class=\"data row8 col1\" >0.057246</td>\n      <td id=\"T_79cd0_row8_col2\" class=\"data row8 col2\" >0.761752</td>\n      <td id=\"T_79cd0_row8_col3\" class=\"data row8 col3\" >0.358111</td>\n    </tr>\n  </tbody>\n</table>\n"
     },
     "metadata": {},
     "output_type": "display_data"
    }
   ],
   "source": [
    "worst_overall = pies.sort_values(by=['overall_rating']).iloc[0]\n",
    "\n",
    "display(Markdown(f\"The overall worst player on the team is `{worst_overall['player_name']}`. See below for stat comparison by their position.\"))\n",
    "\n",
    "display(set_heatmap(get_stars(pies), maxVal=5))\n",
    "\n",
    "if worst_overall['position'] == \"LINEUP\":\n",
    "    display(set_heatmap(get_batting_stlats(pies), maxVal=1))\n",
    "if worst_overall['position'] == \"ROTATION\":\n",
    "    display(set_heatmap(get_pitching_stlats(pies), maxVal=1))"
   ],
   "metadata": {
    "collapsed": false
   }
  },
  {
   "cell_type": "markdown",
   "source": [
    "### NEW Pitching Boost\n",
    "\n",
    "**Your Team's Pitching is boosted by 1 Star.**\n",
    "\n",
    "See below for an estimate of new attributes."
   ],
   "metadata": {
    "collapsed": false
   }
  },
  {
   "cell_type": "code",
   "execution_count": 5,
   "outputs": [
    {
     "data": {
      "text/plain": "<pandas.io.formats.style.Styler at 0x2811f6543d0>",
      "text/html": "<style type=\"text/css\">\n#T_a6231_row0_col0 {\n  background-color: #e8f59f;\n  color: #000000;\n}\n#T_a6231_row0_col1 {\n  background-color: #e3f399;\n  color: #000000;\n}\n#T_a6231_row0_col2 {\n  background-color: #feeda1;\n  color: #000000;\n}\n#T_a6231_row0_col3 {\n  background-color: #b9e176;\n  color: #000000;\n}\n#T_a6231_row1_col0 {\n  background-color: #016a38;\n  color: #f1f1f1;\n}\n#T_a6231_row1_col1 {\n  background-color: #39a758;\n  color: #f1f1f1;\n}\n#T_a6231_row1_col2, #T_a6231_row1_col3, #T_a6231_row3_col1, #T_a6231_row3_col2, #T_a6231_row4_col1, #T_a6231_row4_col2 {\n  background-color: #006837;\n  color: #f1f1f1;\n}\n#T_a6231_row2_col0 {\n  background-color: #fee18d;\n  color: #000000;\n}\n#T_a6231_row2_col1 {\n  background-color: #fff3ac;\n  color: #000000;\n}\n#T_a6231_row2_col2 {\n  background-color: #f7844e;\n  color: #f1f1f1;\n}\n#T_a6231_row2_col3 {\n  background-color: #fbfdba;\n  color: #000000;\n}\n#T_a6231_row3_col0 {\n  background-color: #036e3a;\n  color: #f1f1f1;\n}\n#T_a6231_row3_col3 {\n  background-color: #33a456;\n  color: #f1f1f1;\n}\n#T_a6231_row4_col0 {\n  background-color: #15904c;\n  color: #f1f1f1;\n}\n#T_a6231_row4_col3 {\n  background-color: #d3ec87;\n  color: #000000;\n}\n</style>\n<table id=\"T_a6231\">\n  <thead>\n    <tr>\n      <th class=\"blank level0\" >&nbsp;</th>\n      <th id=\"T_a6231_level0_col0\" class=\"col_heading level0 col0\" >Pitching Rating</th>\n      <th id=\"T_a6231_level0_col1\" class=\"col_heading level0 col1\" >control</th>\n      <th id=\"T_a6231_level0_col2\" class=\"col_heading level0 col2\" >stuff</th>\n      <th id=\"T_a6231_level0_col3\" class=\"col_heading level0 col3\" >guile</th>\n    </tr>\n    <tr>\n      <th class=\"index_name level0\" >player_name</th>\n      <th class=\"blank col0\" >&nbsp;</th>\n      <th class=\"blank col1\" >&nbsp;</th>\n      <th class=\"blank col2\" >&nbsp;</th>\n      <th class=\"blank col3\" >&nbsp;</th>\n    </tr>\n  </thead>\n  <tbody>\n    <tr>\n      <th id=\"T_a6231_level0_row0\" class=\"row_heading level0 row0\" >Thomas Marsh</th>\n      <td id=\"T_a6231_row0_col0\" class=\"data row0 col0\" >0.559500</td>\n      <td id=\"T_a6231_row0_col1\" class=\"data row0 col1\" >0.570549</td>\n      <td id=\"T_a6231_row0_col2\" class=\"data row0 col2\" >0.444044</td>\n      <td id=\"T_a6231_row0_col3\" class=\"data row0 col3\" >0.663906</td>\n    </tr>\n    <tr>\n      <th id=\"T_a6231_level0_row1\" class=\"row_heading level0 row1\" >Marco Escobar</th>\n      <td id=\"T_a6231_row1_col0\" class=\"data row1 col0\" >0.994724</td>\n      <td id=\"T_a6231_row1_col1\" class=\"data row1 col1\" >0.856456</td>\n      <td id=\"T_a6231_row1_col2\" class=\"data row1 col2\" >1.124772</td>\n      <td id=\"T_a6231_row1_col3\" class=\"data row1 col3\" >1.002942</td>\n    </tr>\n    <tr>\n      <th id=\"T_a6231_level0_row2\" class=\"row_heading level0 row2\" >Augusto Reddick</th>\n      <td id=\"T_a6231_row2_col0\" class=\"data row2 col0\" >0.403280</td>\n      <td id=\"T_a6231_row2_col1\" class=\"data row2 col1\" >0.464553</td>\n      <td id=\"T_a6231_row2_col2\" class=\"data row2 col2\" >0.237293</td>\n      <td id=\"T_a6231_row2_col3\" class=\"data row2 col3\" >0.507993</td>\n    </tr>\n    <tr>\n      <th id=\"T_a6231_level0_row3\" class=\"row_heading level0 row3\" >Pudge Nakamoto</th>\n      <td id=\"T_a6231_row3_col0\" class=\"data row3 col0\" >0.986295</td>\n      <td id=\"T_a6231_row3_col1\" class=\"data row3 col1\" >1.067061</td>\n      <td id=\"T_a6231_row3_col2\" class=\"data row3 col2\" >1.025610</td>\n      <td id=\"T_a6231_row3_col3\" class=\"data row3 col3\" >0.866213</td>\n    </tr>\n    <tr>\n      <th id=\"T_a6231_level0_row4\" class=\"row_heading level0 row4\" >Steals Chark</th>\n      <td id=\"T_a6231_row4_col0\" class=\"data row4 col0\" >0.916601</td>\n      <td id=\"T_a6231_row4_col1\" class=\"data row4 col1\" >1.022393</td>\n      <td id=\"T_a6231_row4_col2\" class=\"data row4 col2\" >1.116995</td>\n      <td id=\"T_a6231_row4_col3\" class=\"data row4 col3\" >0.610416</td>\n    </tr>\n  </tbody>\n</table>\n"
     },
     "metadata": {},
     "output_type": "display_data"
    }
   ],
   "source": [
    "pitch_boost = pies.copy()\n",
    "boost_stats(pitch_boost, 'pitching', 0.20)\n",
    "display(set_heatmap(get_pitching_stlats(pitch_boost), maxVal=1))"
   ],
   "metadata": {
    "collapsed": false
   }
  },
  {
   "cell_type": "markdown",
   "source": [
    "### Magnetic Fielder\n",
    "\n",
    "**Boost the Magnet of the worst Defender on your Team by 3 stars.**"
   ],
   "metadata": {
    "collapsed": false
   }
  },
  {
   "cell_type": "code",
   "execution_count": 6,
   "outputs": [
    {
     "data": {
      "text/plain": "<IPython.core.display.Markdown object>",
      "text/markdown": "The worst defender is `Dimi Wobbler`. See below for team stats after boost."
     },
     "metadata": {},
     "output_type": "display_data"
    },
    {
     "data": {
      "text/plain": "<pandas.io.formats.style.Styler at 0x281200c4520>",
      "text/html": "<style type=\"text/css\">\n#T_0202e_row0_col0 {\n  background-color: #57b65f;\n  color: #f1f1f1;\n}\n#T_0202e_row0_col1 {\n  background-color: #08773f;\n  color: #f1f1f1;\n}\n#T_0202e_row0_col2 {\n  background-color: #9bd469;\n  color: #000000;\n}\n#T_0202e_row0_col3, #T_0202e_row8_col2 {\n  background-color: #7dc765;\n  color: #000000;\n}\n#T_0202e_row1_col0 {\n  background-color: #dcf08f;\n  color: #000000;\n}\n#T_0202e_row1_col1 {\n  background-color: #fdbd6d;\n  color: #000000;\n}\n#T_0202e_row1_col2 {\n  background-color: #bde379;\n  color: #000000;\n}\n#T_0202e_row1_col3 {\n  background-color: #6bbf64;\n  color: #000000;\n}\n#T_0202e_row2_col0 {\n  background-color: #ed5f3c;\n  color: #f1f1f1;\n}\n#T_0202e_row2_col1 {\n  background-color: #fdb365;\n  color: #000000;\n}\n#T_0202e_row2_col2 {\n  background-color: #db382b;\n  color: #f1f1f1;\n}\n#T_0202e_row2_col3 {\n  background-color: #d93429;\n  color: #f1f1f1;\n}\n#T_0202e_row3_col0 {\n  background-color: #fee18d;\n  color: #000000;\n}\n#T_0202e_row3_col1 {\n  background-color: #f99153;\n  color: #000000;\n}\n#T_0202e_row3_col2 {\n  background-color: #e24731;\n  color: #f1f1f1;\n}\n#T_0202e_row3_col3 {\n  background-color: #5ab760;\n  color: #f1f1f1;\n}\n#T_0202e_row4_col0 {\n  background-color: #e9f6a1;\n  color: #000000;\n}\n#T_0202e_row4_col1 {\n  background-color: #a5d86a;\n  color: #000000;\n}\n#T_0202e_row4_col2, #T_0202e_row5_col1 {\n  background-color: #f2faae;\n  color: #000000;\n}\n#T_0202e_row4_col3, #T_0202e_row7_col1 {\n  background-color: #feeb9d;\n  color: #000000;\n}\n#T_0202e_row5_col0 {\n  background-color: #ecf7a6;\n  color: #000000;\n}\n#T_0202e_row5_col2 {\n  background-color: #fff2aa;\n  color: #000000;\n}\n#T_0202e_row5_col3 {\n  background-color: #bbe278;\n  color: #000000;\n}\n#T_0202e_row6_col0 {\n  background-color: #fee593;\n  color: #000000;\n}\n#T_0202e_row6_col1 {\n  background-color: #a9da6c;\n  color: #000000;\n}\n#T_0202e_row6_col2 {\n  background-color: #fdad60;\n  color: #000000;\n}\n#T_0202e_row6_col3 {\n  background-color: #f88c51;\n  color: #f1f1f1;\n}\n#T_0202e_row7_col0 {\n  background-color: #c3e67d;\n  color: #000000;\n}\n#T_0202e_row7_col2 {\n  background-color: #cdea83;\n  color: #000000;\n}\n#T_0202e_row7_col3 {\n  background-color: #30a356;\n  color: #f1f1f1;\n}\n#T_0202e_row8_col0 {\n  background-color: #feca79;\n  color: #000000;\n}\n#T_0202e_row8_col1 {\n  background-color: #f98e52;\n  color: #f1f1f1;\n}\n#T_0202e_row8_col3 {\n  background-color: #be1827;\n  color: #f1f1f1;\n}\n</style>\n<table id=\"T_0202e\">\n  <thead>\n    <tr>\n      <th class=\"blank level0\" >&nbsp;</th>\n      <th id=\"T_0202e_level0_col0\" class=\"col_heading level0 col0\" >Defense Rating</th>\n      <th id=\"T_0202e_level0_col1\" class=\"col_heading level0 col1\" >reach</th>\n      <th id=\"T_0202e_level0_col2\" class=\"col_heading level0 col2\" >magnet</th>\n      <th id=\"T_0202e_level0_col3\" class=\"col_heading level0 col3\" >reflex</th>\n    </tr>\n    <tr>\n      <th class=\"index_name level0\" >player_name</th>\n      <th class=\"blank col0\" >&nbsp;</th>\n      <th class=\"blank col1\" >&nbsp;</th>\n      <th class=\"blank col2\" >&nbsp;</th>\n      <th class=\"blank col3\" >&nbsp;</th>\n    </tr>\n  </thead>\n  <tbody>\n    <tr>\n      <th id=\"T_0202e_level0_row0\" class=\"row_heading level0 row0\" >Amos Parveen</th>\n      <td id=\"T_0202e_row0_col0\" class=\"data row0 col0\" >0.816676</td>\n      <td id=\"T_0202e_row0_col1\" class=\"data row0 col1\" >0.968193</td>\n      <td id=\"T_0202e_row0_col2\" class=\"data row0 col2\" >0.717303</td>\n      <td id=\"T_0202e_row0_col3\" class=\"data row0 col3\" >0.764531</td>\n    </tr>\n    <tr>\n      <th id=\"T_0202e_level0_row1\" class=\"row_heading level0 row1\" >Lucas Petty</th>\n      <td id=\"T_0202e_row1_col0\" class=\"data row1 col0\" >0.591509</td>\n      <td id=\"T_0202e_row1_col1\" class=\"data row1 col1\" >0.330230</td>\n      <td id=\"T_0202e_row1_col2\" class=\"data row1 col2\" >0.654762</td>\n      <td id=\"T_0202e_row1_col3\" class=\"data row1 col3\" >0.789537</td>\n    </tr>\n    <tr>\n      <th id=\"T_0202e_level0_row2\" class=\"row_heading level0 row2\" >Ariadne Amaat</th>\n      <td id=\"T_0202e_row2_col0\" class=\"data row2 col0\" >0.177225</td>\n      <td id=\"T_0202e_row2_col1\" class=\"data row2 col1\" >0.308719</td>\n      <td id=\"T_0202e_row2_col2\" class=\"data row2 col2\" >0.116163</td>\n      <td id=\"T_0202e_row2_col3\" class=\"data row2 col3\" >0.106793</td>\n    </tr>\n    <tr>\n      <th id=\"T_0202e_level0_row3\" class=\"row_heading level0 row3\" >Siobhan Chark</th>\n      <td id=\"T_0202e_row3_col0\" class=\"data row3 col0\" >0.402714</td>\n      <td id=\"T_0202e_row3_col1\" class=\"data row3 col1\" >0.255250</td>\n      <td id=\"T_0202e_row3_col2\" class=\"data row3 col2\" >0.139863</td>\n      <td id=\"T_0202e_row3_col3\" class=\"data row3 col3\" >0.813027</td>\n    </tr>\n    <tr>\n      <th id=\"T_0202e_level0_row4\" class=\"row_heading level0 row4\" >Mars Anchor</th>\n      <td id=\"T_0202e_row4_col0\" class=\"data row4 col0\" >0.556890</td>\n      <td id=\"T_0202e_row4_col1\" class=\"data row4 col1\" >0.701738</td>\n      <td id=\"T_0202e_row4_col2\" class=\"data row4 col2\" >0.533698</td>\n      <td id=\"T_0202e_row4_col3\" class=\"data row4 col3\" >0.435232</td>\n    </tr>\n    <tr>\n      <th id=\"T_0202e_level0_row5\" class=\"row_heading level0 row5\" >Tucker Thane</th>\n      <td id=\"T_0202e_row5_col0\" class=\"data row5 col0\" >0.549560</td>\n      <td id=\"T_0202e_row5_col1\" class=\"data row5 col1\" >0.531369</td>\n      <td id=\"T_0202e_row5_col2\" class=\"data row5 col2\" >0.459204</td>\n      <td id=\"T_0202e_row5_col3\" class=\"data row5 col3\" >0.658105</td>\n    </tr>\n    <tr>\n      <th id=\"T_0202e_level0_row6\" class=\"row_heading level0 row6\" >Bevan Wise</th>\n      <td id=\"T_0202e_row6_col0\" class=\"data row6 col0\" >0.414168</td>\n      <td id=\"T_0202e_row6_col1\" class=\"data row6 col1\" >0.694289</td>\n      <td id=\"T_0202e_row6_col2\" class=\"data row6 col2\" >0.299765</td>\n      <td id=\"T_0202e_row6_col3\" class=\"data row6 col3\" >0.248449</td>\n    </tr>\n    <tr>\n      <th id=\"T_0202e_level0_row7\" class=\"row_heading level0 row7\" >Jira Sealegs</th>\n      <td id=\"T_0202e_row7_col0\" class=\"data row7 col0\" >0.641516</td>\n      <td id=\"T_0202e_row7_col1\" class=\"data row7 col1\" >0.433704</td>\n      <td id=\"T_0202e_row7_col2\" class=\"data row7 col2\" >0.621175</td>\n      <td id=\"T_0202e_row7_col3\" class=\"data row7 col3\" >0.869669</td>\n    </tr>\n    <tr>\n      <th id=\"T_0202e_level0_row8\" class=\"row_heading level0 row8\" >Dimi Wobbler</th>\n      <td id=\"T_0202e_row8_col0\" class=\"data row8 col0\" >0.355937</td>\n      <td id=\"T_0202e_row8_col1\" class=\"data row8 col1\" >0.252692</td>\n      <td id=\"T_0202e_row8_col2\" class=\"data row8 col2\" >0.762153</td>\n      <td id=\"T_0202e_row8_col3\" class=\"data row8 col3\" >0.052967</td>\n    </tr>\n  </tbody>\n</table>\n"
     },
     "metadata": {},
     "output_type": "display_data"
    }
   ],
   "source": [
    "worst_defender = pies[pies[\"position\"] == \"LINEUP\"].sort_values(by=['defense_rating']).iloc[0]\n",
    "display(Markdown(f\"The worst defender is `{worst_defender['player_name']}`. See below for team stats after boost.\"))\n",
    "\n",
    "magnetic = pies.copy()\n",
    "boost_stats(magnetic, 'magnet', 0.60, worst_defender['player_name'])\n",
    "display(set_heatmap(get_defense_stlats(magnetic), maxVal=1))"
   ],
   "metadata": {
    "collapsed": false
   }
  },
  {
   "cell_type": "markdown",
   "source": [
    "### Wind Sprints\n",
    "\n",
    "**Your Team's Defense and Running are boosted by 1 Star.**\n",
    "\n",
    "See below for an estimate of new attributes."
   ],
   "metadata": {
    "collapsed": false
   }
  },
  {
   "cell_type": "code",
   "execution_count": 7,
   "outputs": [
    {
     "data": {
      "text/plain": "<IPython.core.display.Markdown object>",
      "text/markdown": "#### Running"
     },
     "metadata": {},
     "output_type": "display_data"
    },
    {
     "data": {
      "text/plain": "<pandas.io.formats.style.Styler at 0x2811eb27190>",
      "text/html": "<style type=\"text/css\">\n#T_0ab08_row0_col0 {\n  background-color: #36a657;\n  color: #f1f1f1;\n}\n#T_0ab08_row0_col1, #T_0ab08_row1_col3, #T_0ab08_row4_col2, #T_0ab08_row6_col1 {\n  background-color: #006837;\n  color: #f1f1f1;\n}\n#T_0ab08_row0_col2 {\n  background-color: #84ca66;\n  color: #000000;\n}\n#T_0ab08_row0_col3 {\n  background-color: #69be63;\n  color: #f1f1f1;\n}\n#T_0ab08_row1_col0 {\n  background-color: #d5ed88;\n  color: #000000;\n}\n#T_0ab08_row1_col1 {\n  background-color: #fdb365;\n  color: #000000;\n}\n#T_0ab08_row1_col2, #T_0ab08_row2_col0 {\n  background-color: #fdbb6c;\n  color: #000000;\n}\n#T_0ab08_row2_col1 {\n  background-color: #fffab6;\n  color: #000000;\n}\n#T_0ab08_row2_col2 {\n  background-color: #fba05b;\n  color: #000000;\n}\n#T_0ab08_row2_col3 {\n  background-color: #f57547;\n  color: #f1f1f1;\n}\n#T_0ab08_row3_col0 {\n  background-color: #c9e881;\n  color: #000000;\n}\n#T_0ab08_row3_col1 {\n  background-color: #06733d;\n  color: #f1f1f1;\n}\n#T_0ab08_row3_col2, #T_0ab08_row6_col0 {\n  background-color: #9dd569;\n  color: #000000;\n}\n#T_0ab08_row3_col3 {\n  background-color: #f57245;\n  color: #f1f1f1;\n}\n#T_0ab08_row4_col0 {\n  background-color: #87cb67;\n  color: #000000;\n}\n#T_0ab08_row4_col1 {\n  background-color: #15904c;\n  color: #f1f1f1;\n}\n#T_0ab08_row4_col3 {\n  background-color: #fdad60;\n  color: #000000;\n}\n#T_0ab08_row5_col0 {\n  background-color: #a2d76a;\n  color: #000000;\n}\n#T_0ab08_row5_col1 {\n  background-color: #1b9950;\n  color: #f1f1f1;\n}\n#T_0ab08_row5_col2 {\n  background-color: #eef8a8;\n  color: #000000;\n}\n#T_0ab08_row5_col3, #T_0ab08_row7_col3 {\n  background-color: #b5df74;\n  color: #000000;\n}\n#T_0ab08_row6_col2 {\n  background-color: #f99153;\n  color: #000000;\n}\n#T_0ab08_row6_col3 {\n  background-color: #6ec064;\n  color: #000000;\n}\n#T_0ab08_row7_col0 {\n  background-color: #dcf08f;\n  color: #000000;\n}\n#T_0ab08_row7_col1 {\n  background-color: #fdb163;\n  color: #000000;\n}\n#T_0ab08_row7_col2 {\n  background-color: #63bc62;\n  color: #f1f1f1;\n}\n#T_0ab08_row8_col0 {\n  background-color: #fee18d;\n  color: #000000;\n}\n#T_0ab08_row8_col1 {\n  background-color: #c7e77f;\n  color: #000000;\n}\n#T_0ab08_row8_col2 {\n  background-color: #fec877;\n  color: #000000;\n}\n#T_0ab08_row8_col3 {\n  background-color: #f67c4a;\n  color: #f1f1f1;\n}\n</style>\n<table id=\"T_0ab08\">\n  <thead>\n    <tr>\n      <th class=\"blank level0\" >&nbsp;</th>\n      <th id=\"T_0ab08_level0_col0\" class=\"col_heading level0 col0\" >Running Rating</th>\n      <th id=\"T_0ab08_level0_col1\" class=\"col_heading level0 col1\" >hustle</th>\n      <th id=\"T_0ab08_level0_col2\" class=\"col_heading level0 col2\" >stealth</th>\n      <th id=\"T_0ab08_level0_col3\" class=\"col_heading level0 col3\" >dodge</th>\n    </tr>\n    <tr>\n      <th class=\"index_name level0\" >player_name</th>\n      <th class=\"blank col0\" >&nbsp;</th>\n      <th class=\"blank col1\" >&nbsp;</th>\n      <th class=\"blank col2\" >&nbsp;</th>\n      <th class=\"blank col3\" >&nbsp;</th>\n    </tr>\n  </thead>\n  <tbody>\n    <tr>\n      <th id=\"T_0ab08_level0_row0\" class=\"row_heading level0 row0\" >Amos Parveen</th>\n      <td id=\"T_0ab08_row0_col0\" class=\"data row0 col0\" >0.859572</td>\n      <td id=\"T_0ab08_row0_col1\" class=\"data row0 col1\" >1.031771</td>\n      <td id=\"T_0ab08_row0_col2\" class=\"data row0 col2\" >0.752857</td>\n      <td id=\"T_0ab08_row0_col3\" class=\"data row0 col3\" >0.794087</td>\n    </tr>\n    <tr>\n      <th id=\"T_0ab08_level0_row1\" class=\"row_heading level0 row1\" >Lucas Petty</th>\n      <td id=\"T_0ab08_row1_col0\" class=\"data row1 col0\" >0.609191</td>\n      <td id=\"T_0ab08_row1_col1\" class=\"data row1 col1\" >0.310580</td>\n      <td id=\"T_0ab08_row1_col2\" class=\"data row1 col2\" >0.327212</td>\n      <td id=\"T_0ab08_row1_col3\" class=\"data row1 col3\" >1.189782</td>\n    </tr>\n    <tr>\n      <th id=\"T_0ab08_level0_row2\" class=\"row_heading level0 row2\" >Ariadne Amaat</th>\n      <td id=\"T_0ab08_row2_col0\" class=\"data row2 col0\" >0.324416</td>\n      <td id=\"T_0ab08_row2_col1\" class=\"data row2 col1\" >0.480899</td>\n      <td id=\"T_0ab08_row2_col2\" class=\"data row2 col2\" >0.277701</td>\n      <td id=\"T_0ab08_row2_col3\" class=\"data row2 col3\" >0.214647</td>\n    </tr>\n    <tr>\n      <th id=\"T_0ab08_level0_row3\" class=\"row_heading level0 row3\" >Siobhan Chark</th>\n      <td id=\"T_0ab08_row3_col0\" class=\"data row3 col0\" >0.630757</td>\n      <td id=\"T_0ab08_row3_col1\" class=\"data row3 col1\" >0.973609</td>\n      <td id=\"T_0ab08_row3_col2\" class=\"data row3 col2\" >0.711409</td>\n      <td id=\"T_0ab08_row3_col3\" class=\"data row3 col3\" >0.207253</td>\n    </tr>\n    <tr>\n      <th id=\"T_0ab08_level0_row4\" class=\"row_heading level0 row4\" >Mars Anchor</th>\n      <td id=\"T_0ab08_row4_col0\" class=\"data row4 col0\" >0.749784</td>\n      <td id=\"T_0ab08_row4_col1\" class=\"data row4 col1\" >0.916467</td>\n      <td id=\"T_0ab08_row4_col2\" class=\"data row4 col2\" >1.034204</td>\n      <td id=\"T_0ab08_row4_col3\" class=\"data row4 col3\" >0.298681</td>\n    </tr>\n    <tr>\n      <th id=\"T_0ab08_level0_row5\" class=\"row_heading level0 row5\" >Tucker Thane</th>\n      <td id=\"T_0ab08_row5_col0\" class=\"data row5 col0\" >0.703260</td>\n      <td id=\"T_0ab08_row5_col1\" class=\"data row5 col1\" >0.895246</td>\n      <td id=\"T_0ab08_row5_col2\" class=\"data row5 col2\" >0.545501</td>\n      <td id=\"T_0ab08_row5_col3\" class=\"data row5 col3\" >0.669032</td>\n    </tr>\n    <tr>\n      <th id=\"T_0ab08_level0_row6\" class=\"row_heading level0 row6\" >Bevan Wise</th>\n      <td id=\"T_0ab08_row6_col0\" class=\"data row6 col0\" >0.711709</td>\n      <td id=\"T_0ab08_row6_col1\" class=\"data row6 col1\" >1.090937</td>\n      <td id=\"T_0ab08_row6_col2\" class=\"data row6 col2\" >0.256174</td>\n      <td id=\"T_0ab08_row6_col3\" class=\"data row6 col3\" >0.788016</td>\n    </tr>\n    <tr>\n      <th id=\"T_0ab08_level0_row7\" class=\"row_heading level0 row7\" >Jira Sealegs</th>\n      <td id=\"T_0ab08_row7_col0\" class=\"data row7 col0\" >0.593391</td>\n      <td id=\"T_0ab08_row7_col1\" class=\"data row7 col1\" >0.308583</td>\n      <td id=\"T_0ab08_row7_col2\" class=\"data row7 col2\" >0.801453</td>\n      <td id=\"T_0ab08_row7_col3\" class=\"data row7 col3\" >0.670136</td>\n    </tr>\n    <tr>\n      <th id=\"T_0ab08_level0_row8\" class=\"row_heading level0 row8\" >Dimi Wobbler</th>\n      <td id=\"T_0ab08_row8_col0\" class=\"data row8 col0\" >0.404724</td>\n      <td id=\"T_0ab08_row8_col1\" class=\"data row8 col1\" >0.633270</td>\n      <td id=\"T_0ab08_row8_col2\" class=\"data row8 col2\" >0.354832</td>\n      <td id=\"T_0ab08_row8_col3\" class=\"data row8 col3\" >0.226070</td>\n    </tr>\n  </tbody>\n</table>\n"
     },
     "metadata": {},
     "output_type": "display_data"
    },
    {
     "data": {
      "text/plain": "<IPython.core.display.Markdown object>",
      "text/markdown": "#### Defense"
     },
     "metadata": {},
     "output_type": "display_data"
    },
    {
     "data": {
      "text/plain": "<pandas.io.formats.style.Styler at 0x2811fb60310>",
      "text/html": "<style type=\"text/css\">\n#T_c8987_row0_col0, #T_c8987_row0_col1, #T_c8987_row3_col3, #T_c8987_row7_col3 {\n  background-color: #006837;\n  color: #f1f1f1;\n}\n#T_c8987_row0_col2 {\n  background-color: #15904c;\n  color: #f1f1f1;\n}\n#T_c8987_row0_col3 {\n  background-color: #097940;\n  color: #f1f1f1;\n}\n#T_c8987_row1_col0 {\n  background-color: #6bbf64;\n  color: #000000;\n}\n#T_c8987_row1_col1 {\n  background-color: #f4fab0;\n  color: #000000;\n}\n#T_c8987_row1_col2 {\n  background-color: #3ca959;\n  color: #f1f1f1;\n}\n#T_c8987_row1_col3 {\n  background-color: #026c39;\n  color: #f1f1f1;\n}\n#T_c8987_row2_col0 {\n  background-color: #fed481;\n  color: #000000;\n}\n#T_c8987_row2_col1 {\n  background-color: #fbfdba;\n  color: #000000;\n}\n#T_c8987_row2_col2 {\n  background-color: #fdb567;\n  color: #000000;\n}\n#T_c8987_row2_col3 {\n  background-color: #fdb163;\n  color: #000000;\n}\n#T_c8987_row3_col0 {\n  background-color: #d7ee8a;\n  color: #000000;\n}\n#T_c8987_row3_col1 {\n  background-color: #fff1a8;\n  color: #000000;\n}\n#T_c8987_row3_col2 {\n  background-color: #fdc372;\n  color: #000000;\n}\n#T_c8987_row4_col0 {\n  background-color: #82c966;\n  color: #000000;\n}\n#T_c8987_row4_col1 {\n  background-color: #199750;\n  color: #f1f1f1;\n}\n#T_c8987_row4_col2, #T_c8987_row5_col1 {\n  background-color: #91d068;\n  color: #000000;\n}\n#T_c8987_row4_col3, #T_c8987_row7_col1 {\n  background-color: #c7e77f;\n  color: #000000;\n}\n#T_c8987_row5_col0 {\n  background-color: #87cb67;\n  color: #000000;\n}\n#T_c8987_row5_col2 {\n  background-color: #bbe278;\n  color: #000000;\n}\n#T_c8987_row5_col3 {\n  background-color: #39a758;\n  color: #f1f1f1;\n}\n#T_c8987_row6_col0 {\n  background-color: #d1ec86;\n  color: #000000;\n}\n#T_c8987_row6_col1 {\n  background-color: #1e9a51;\n  color: #f1f1f1;\n}\n#T_c8987_row6_col2 {\n  background-color: #fffebe;\n  color: #000000;\n}\n#T_c8987_row6_col3 {\n  background-color: #feefa3;\n  color: #000000;\n}\n#T_c8987_row7_col0 {\n  background-color: #45ad5b;\n  color: #f1f1f1;\n}\n#T_c8987_row7_col2 {\n  background-color: #54b45f;\n  color: #f1f1f1;\n}\n#T_c8987_row8_col0 {\n  background-color: #feca79;\n  color: #000000;\n}\n#T_c8987_row8_col1 {\n  background-color: #fff0a6;\n  color: #000000;\n}\n#T_c8987_row8_col2 {\n  background-color: #fecc7b;\n  color: #000000;\n}\n#T_c8987_row8_col3 {\n  background-color: #f98e52;\n  color: #f1f1f1;\n}\n</style>\n<table id=\"T_c8987\">\n  <thead>\n    <tr>\n      <th class=\"blank level0\" >&nbsp;</th>\n      <th id=\"T_c8987_level0_col0\" class=\"col_heading level0 col0\" >Defense Rating</th>\n      <th id=\"T_c8987_level0_col1\" class=\"col_heading level0 col1\" >reach</th>\n      <th id=\"T_c8987_level0_col2\" class=\"col_heading level0 col2\" >magnet</th>\n      <th id=\"T_c8987_level0_col3\" class=\"col_heading level0 col3\" >reflex</th>\n    </tr>\n    <tr>\n      <th class=\"index_name level0\" >player_name</th>\n      <th class=\"blank col0\" >&nbsp;</th>\n      <th class=\"blank col1\" >&nbsp;</th>\n      <th class=\"blank col2\" >&nbsp;</th>\n      <th class=\"blank col3\" >&nbsp;</th>\n    </tr>\n  </thead>\n  <tbody>\n    <tr>\n      <th id=\"T_c8987_level0_row0\" class=\"row_heading level0 row0\" >Amos Parveen</th>\n      <td id=\"T_c8987_row0_col0\" class=\"data row0 col0\" >1.016676</td>\n      <td id=\"T_c8987_row0_col1\" class=\"data row0 col1\" >1.168193</td>\n      <td id=\"T_c8987_row0_col2\" class=\"data row0 col2\" >0.917303</td>\n      <td id=\"T_c8987_row0_col3\" class=\"data row0 col3\" >0.964531</td>\n    </tr>\n    <tr>\n      <th id=\"T_c8987_level0_row1\" class=\"row_heading level0 row1\" >Lucas Petty</th>\n      <td id=\"T_c8987_row1_col0\" class=\"data row1 col0\" >0.791509</td>\n      <td id=\"T_c8987_row1_col1\" class=\"data row1 col1\" >0.530230</td>\n      <td id=\"T_c8987_row1_col2\" class=\"data row1 col2\" >0.854762</td>\n      <td id=\"T_c8987_row1_col3\" class=\"data row1 col3\" >0.989537</td>\n    </tr>\n    <tr>\n      <th id=\"T_c8987_level0_row2\" class=\"row_heading level0 row2\" >Ariadne Amaat</th>\n      <td id=\"T_c8987_row2_col0\" class=\"data row2 col0\" >0.377225</td>\n      <td id=\"T_c8987_row2_col1\" class=\"data row2 col1\" >0.508719</td>\n      <td id=\"T_c8987_row2_col2\" class=\"data row2 col2\" >0.316163</td>\n      <td id=\"T_c8987_row2_col3\" class=\"data row2 col3\" >0.306793</td>\n    </tr>\n    <tr>\n      <th id=\"T_c8987_level0_row3\" class=\"row_heading level0 row3\" >Siobhan Chark</th>\n      <td id=\"T_c8987_row3_col0\" class=\"data row3 col0\" >0.602714</td>\n      <td id=\"T_c8987_row3_col1\" class=\"data row3 col1\" >0.455250</td>\n      <td id=\"T_c8987_row3_col2\" class=\"data row3 col2\" >0.339863</td>\n      <td id=\"T_c8987_row3_col3\" class=\"data row3 col3\" >1.013027</td>\n    </tr>\n    <tr>\n      <th id=\"T_c8987_level0_row4\" class=\"row_heading level0 row4\" >Mars Anchor</th>\n      <td id=\"T_c8987_row4_col0\" class=\"data row4 col0\" >0.756890</td>\n      <td id=\"T_c8987_row4_col1\" class=\"data row4 col1\" >0.901738</td>\n      <td id=\"T_c8987_row4_col2\" class=\"data row4 col2\" >0.733698</td>\n      <td id=\"T_c8987_row4_col3\" class=\"data row4 col3\" >0.635232</td>\n    </tr>\n    <tr>\n      <th id=\"T_c8987_level0_row5\" class=\"row_heading level0 row5\" >Tucker Thane</th>\n      <td id=\"T_c8987_row5_col0\" class=\"data row5 col0\" >0.749560</td>\n      <td id=\"T_c8987_row5_col1\" class=\"data row5 col1\" >0.731369</td>\n      <td id=\"T_c8987_row5_col2\" class=\"data row5 col2\" >0.659204</td>\n      <td id=\"T_c8987_row5_col3\" class=\"data row5 col3\" >0.858105</td>\n    </tr>\n    <tr>\n      <th id=\"T_c8987_level0_row6\" class=\"row_heading level0 row6\" >Bevan Wise</th>\n      <td id=\"T_c8987_row6_col0\" class=\"data row6 col0\" >0.614168</td>\n      <td id=\"T_c8987_row6_col1\" class=\"data row6 col1\" >0.894289</td>\n      <td id=\"T_c8987_row6_col2\" class=\"data row6 col2\" >0.499765</td>\n      <td id=\"T_c8987_row6_col3\" class=\"data row6 col3\" >0.448449</td>\n    </tr>\n    <tr>\n      <th id=\"T_c8987_level0_row7\" class=\"row_heading level0 row7\" >Jira Sealegs</th>\n      <td id=\"T_c8987_row7_col0\" class=\"data row7 col0\" >0.841516</td>\n      <td id=\"T_c8987_row7_col1\" class=\"data row7 col1\" >0.633704</td>\n      <td id=\"T_c8987_row7_col2\" class=\"data row7 col2\" >0.821175</td>\n      <td id=\"T_c8987_row7_col3\" class=\"data row7 col3\" >1.069669</td>\n    </tr>\n    <tr>\n      <th id=\"T_c8987_level0_row8\" class=\"row_heading level0 row8\" >Dimi Wobbler</th>\n      <td id=\"T_c8987_row8_col0\" class=\"data row8 col0\" >0.355937</td>\n      <td id=\"T_c8987_row8_col1\" class=\"data row8 col1\" >0.452692</td>\n      <td id=\"T_c8987_row8_col2\" class=\"data row8 col2\" >0.362153</td>\n      <td id=\"T_c8987_row8_col3\" class=\"data row8 col3\" >0.252967</td>\n    </tr>\n  </tbody>\n</table>\n"
     },
     "metadata": {},
     "output_type": "display_data"
    }
   ],
   "source": [
    "spirit_boost = pies.copy()\n",
    "boost_stats(spirit_boost, 'running', 0.20)\n",
    "boost_stats(spirit_boost, 'defense', 0.20)\n",
    "display(Markdown(\"#### Running\"))\n",
    "display(set_heatmap(get_running_stlats(spirit_boost), maxVal=1))\n",
    "display(Markdown(\"#### Defense\"))\n",
    "display(set_heatmap(get_defense_stlats(spirit_boost), maxVal=1))"
   ],
   "metadata": {
    "collapsed": false
   }
  },
  {
   "cell_type": "markdown",
   "source": [
    "### Strikes\n",
    "\n",
    "#### Mage Strike\n",
    "\n",
    "**The Mage Umpire will Strike one of your Division Rivals.**\n",
    "\n",
    "\n",
    "#### Knight Strike\n",
    "\n",
    "**The Knight Umpire will Strike one of your Division Rivals.**\n",
    "\n",
    "\n",
    "#### Rogue Strike\n",
    "\n",
    "**The Rogue Umpire will Strike one of your Division Rivals.**\n",
    "\n",
    "\n",
    "#### Bard Strike\n",
    "\n",
    "**The Bard Umpire will Strike one of your Division Rivals.**\n",
    "\n",
    "The effect of this blessing is unknown, but likely harms a random team in our division in some way."
   ],
   "metadata": {
    "collapsed": false
   }
  },
  {
   "cell_type": "markdown",
   "source": [
    "### Dark Matter\n",
    "\n",
    "**Steal 5 random Players from the Black Hole.**\n",
    "\n",
    "This would increase the size of our team by 5. It is unknown if these players will land in the lineup, rotation, shadows, or a mix of all 3."
   ],
   "metadata": {
    "collapsed": false
   }
  },
  {
   "cell_type": "markdown",
   "source": [
    "### NEW Batting Boost\n",
    "\n",
    "**Your Team's Batting is boosted by 1 Star.**\n",
    "\n",
    "See below for an estimate of new attributes."
   ],
   "metadata": {
    "collapsed": false
   }
  },
  {
   "cell_type": "code",
   "execution_count": 8,
   "outputs": [
    {
     "data": {
      "text/plain": "<pandas.io.formats.style.Styler at 0x2811fb609a0>",
      "text/html": "<style type=\"text/css\">\n#T_f0aaf_row0_col0, #T_f0aaf_row0_col1, #T_f0aaf_row0_col3, #T_f0aaf_row3_col3, #T_f0aaf_row5_col0, #T_f0aaf_row5_col1, #T_f0aaf_row5_col2, #T_f0aaf_row6_col2, #T_f0aaf_row7_col0, #T_f0aaf_row7_col1, #T_f0aaf_row7_col2 {\n  background-color: #006837;\n  color: #f1f1f1;\n}\n#T_f0aaf_row0_col2 {\n  background-color: #0a7b41;\n  color: #f1f1f1;\n}\n#T_f0aaf_row1_col0 {\n  background-color: #fff1a8;\n  color: #000000;\n}\n#T_f0aaf_row1_col1 {\n  background-color: #feeda1;\n  color: #000000;\n}\n#T_f0aaf_row1_col2 {\n  background-color: #fece7c;\n  color: #000000;\n}\n#T_f0aaf_row1_col3 {\n  background-color: #ebf7a3;\n  color: #000000;\n}\n#T_f0aaf_row2_col0 {\n  background-color: #b5df74;\n  color: #000000;\n}\n#T_f0aaf_row2_col1 {\n  background-color: #0b7d42;\n  color: #f1f1f1;\n}\n#T_f0aaf_row2_col2 {\n  background-color: #f88950;\n  color: #f1f1f1;\n}\n#T_f0aaf_row2_col3 {\n  background-color: #5ab760;\n  color: #f1f1f1;\n}\n#T_f0aaf_row3_col0 {\n  background-color: #73c264;\n  color: #000000;\n}\n#T_f0aaf_row3_col1 {\n  background-color: #fdfebc;\n  color: #000000;\n}\n#T_f0aaf_row3_col2 {\n  background-color: #78c565;\n  color: #000000;\n}\n#T_f0aaf_row4_col0 {\n  background-color: #e8f59f;\n  color: #000000;\n}\n#T_f0aaf_row4_col1 {\n  background-color: #f4fab0;\n  color: #000000;\n}\n#T_f0aaf_row4_col2 {\n  background-color: #84ca66;\n  color: #000000;\n}\n#T_f0aaf_row4_col3 {\n  background-color: #fee18d;\n  color: #000000;\n}\n#T_f0aaf_row5_col3 {\n  background-color: #3faa59;\n  color: #f1f1f1;\n}\n#T_f0aaf_row6_col0 {\n  background-color: #2da155;\n  color: #f1f1f1;\n}\n#T_f0aaf_row6_col1 {\n  background-color: #18954f;\n  color: #f1f1f1;\n}\n#T_f0aaf_row6_col3 {\n  background-color: #9bd469;\n  color: #000000;\n}\n#T_f0aaf_row7_col3 {\n  background-color: #66bd63;\n  color: #f1f1f1;\n}\n#T_f0aaf_row8_col0 {\n  background-color: #dcf08f;\n  color: #000000;\n}\n#T_f0aaf_row8_col1 {\n  background-color: #f99153;\n  color: #000000;\n}\n#T_f0aaf_row8_col2 {\n  background-color: #097940;\n  color: #f1f1f1;\n}\n#T_f0aaf_row8_col3 {\n  background-color: #e9f6a1;\n  color: #000000;\n}\n</style>\n<table id=\"T_f0aaf\">\n  <thead>\n    <tr>\n      <th class=\"blank level0\" >&nbsp;</th>\n      <th id=\"T_f0aaf_level0_col0\" class=\"col_heading level0 col0\" >Batting Rating</th>\n      <th id=\"T_f0aaf_level0_col1\" class=\"col_heading level0 col1\" >sight</th>\n      <th id=\"T_f0aaf_level0_col2\" class=\"col_heading level0 col2\" >thwack</th>\n      <th id=\"T_f0aaf_level0_col3\" class=\"col_heading level0 col3\" >ferocity</th>\n    </tr>\n    <tr>\n      <th class=\"index_name level0\" >player_name</th>\n      <th class=\"blank col0\" >&nbsp;</th>\n      <th class=\"blank col1\" >&nbsp;</th>\n      <th class=\"blank col2\" >&nbsp;</th>\n      <th class=\"blank col3\" >&nbsp;</th>\n    </tr>\n  </thead>\n  <tbody>\n    <tr>\n      <th id=\"T_f0aaf_level0_row0\" class=\"row_heading level0 row0\" >Amos Parveen</th>\n      <td id=\"T_f0aaf_row0_col0\" class=\"data row0 col0\" >1.012560</td>\n      <td id=\"T_f0aaf_row0_col1\" class=\"data row0 col1\" >1.026331</td>\n      <td id=\"T_f0aaf_row0_col2\" class=\"data row0 col2\" >0.960910</td>\n      <td id=\"T_f0aaf_row0_col3\" class=\"data row0 col3\" >1.050437</td>\n    </tr>\n    <tr>\n      <th id=\"T_f0aaf_level0_row1\" class=\"row_heading level0 row1\" >Lucas Petty</th>\n      <td id=\"T_f0aaf_row1_col0\" class=\"data row1 col0\" >0.454947</td>\n      <td id=\"T_f0aaf_row1_col1\" class=\"data row1 col1\" >0.443809</td>\n      <td id=\"T_f0aaf_row1_col2\" class=\"data row1 col2\" >0.366961</td>\n      <td id=\"T_f0aaf_row1_col3\" class=\"data row1 col3\" >0.554070</td>\n    </tr>\n    <tr>\n      <th id=\"T_f0aaf_level0_row2\" class=\"row_heading level0 row2\" >Ariadne Amaat</th>\n      <td id=\"T_f0aaf_row2_col0\" class=\"data row2 col0\" >0.671733</td>\n      <td id=\"T_f0aaf_row2_col1\" class=\"data row2 col1\" >0.954392</td>\n      <td id=\"T_f0aaf_row2_col2\" class=\"data row2 col2\" >0.245351</td>\n      <td id=\"T_f0aaf_row2_col3\" class=\"data row2 col3\" >0.815456</td>\n    </tr>\n    <tr>\n      <th id=\"T_f0aaf_level0_row3\" class=\"row_heading level0 row3\" >Siobhan Chark</th>\n      <td id=\"T_f0aaf_row3_col0\" class=\"data row3 col0\" >0.779901</td>\n      <td id=\"T_f0aaf_row3_col1\" class=\"data row3 col1\" >0.506972</td>\n      <td id=\"T_f0aaf_row3_col2\" class=\"data row3 col2\" >0.770024</td>\n      <td id=\"T_f0aaf_row3_col3\" class=\"data row3 col3\" >1.062707</td>\n    </tr>\n    <tr>\n      <th id=\"T_f0aaf_level0_row4\" class=\"row_heading level0 row4\" >Mars Anchor</th>\n      <td id=\"T_f0aaf_row4_col0\" class=\"data row4 col0\" >0.562238</td>\n      <td id=\"T_f0aaf_row4_col1\" class=\"data row4 col1\" >0.530136</td>\n      <td id=\"T_f0aaf_row4_col2\" class=\"data row4 col2\" >0.750708</td>\n      <td id=\"T_f0aaf_row4_col3\" class=\"data row4 col3\" >0.405871</td>\n    </tr>\n    <tr>\n      <th id=\"T_f0aaf_level0_row5\" class=\"row_heading level0 row5\" >Tucker Thane</th>\n      <td id=\"T_f0aaf_row5_col0\" class=\"data row5 col0\" >1.018528</td>\n      <td id=\"T_f0aaf_row5_col1\" class=\"data row5 col1\" >1.176919</td>\n      <td id=\"T_f0aaf_row5_col2\" class=\"data row5 col2\" >1.030288</td>\n      <td id=\"T_f0aaf_row5_col3\" class=\"data row5 col3\" >0.848379</td>\n    </tr>\n    <tr>\n      <th id=\"T_f0aaf_level0_row6\" class=\"row_heading level0 row6\" >Bevan Wise</th>\n      <td id=\"T_f0aaf_row6_col0\" class=\"data row6 col0\" >0.874798</td>\n      <td id=\"T_f0aaf_row6_col1\" class=\"data row6 col1\" >0.903233</td>\n      <td id=\"T_f0aaf_row6_col2\" class=\"data row6 col2\" >1.004662</td>\n      <td id=\"T_f0aaf_row6_col3\" class=\"data row6 col3\" >0.716498</td>\n    </tr>\n    <tr>\n      <th id=\"T_f0aaf_level0_row7\" class=\"row_heading level0 row7\" >Jira Sealegs</th>\n      <td id=\"T_f0aaf_row7_col0\" class=\"data row7 col0\" >1.001296</td>\n      <td id=\"T_f0aaf_row7_col1\" class=\"data row7 col1\" >1.048431</td>\n      <td id=\"T_f0aaf_row7_col2\" class=\"data row7 col2\" >1.155203</td>\n      <td id=\"T_f0aaf_row7_col3\" class=\"data row7 col3\" >0.800255</td>\n    </tr>\n    <tr>\n      <th id=\"T_f0aaf_level0_row8\" class=\"row_heading level0 row8\" >Dimi Wobbler</th>\n      <td id=\"T_f0aaf_row8_col0\" class=\"data row8 col0\" >0.592369</td>\n      <td id=\"T_f0aaf_row8_col1\" class=\"data row8 col1\" >0.257246</td>\n      <td id=\"T_f0aaf_row8_col2\" class=\"data row8 col2\" >0.961752</td>\n      <td id=\"T_f0aaf_row8_col3\" class=\"data row8 col3\" >0.558111</td>\n    </tr>\n  </tbody>\n</table>\n"
     },
     "metadata": {},
     "output_type": "display_data"
    }
   ],
   "source": [
    "bat_boost = pies.copy()\n",
    "boost_stats(bat_boost, 'batting', 0.20)\n",
    "display(set_heatmap(get_batting_stlats(bat_boost), maxVal=1))"
   ],
   "metadata": {
    "collapsed": false
   }
  },
  {
   "cell_type": "markdown",
   "source": [
    "### Ball Hawk\n",
    "\n",
    "**Reposition your best Defender to Midfielder and increase their Reach by 3 Stars.**"
   ],
   "metadata": {
    "collapsed": false
   }
  },
  {
   "cell_type": "code",
   "execution_count": 9,
   "outputs": [
    {
     "data": {
      "text/plain": "<IPython.core.display.Markdown object>",
      "text/markdown": "This would move `Amos Parveen` to Midfielder. They are currently `Right Wallrunner`. See below for stat increase."
     },
     "metadata": {},
     "output_type": "display_data"
    },
    {
     "data": {
      "text/plain": "<pandas.io.formats.style.Styler at 0x2811f654a90>",
      "text/html": "<style type=\"text/css\">\n#T_a3e33_row0_col0, #T_a3e33_row0_col1 {\n  background-color: #006837;\n  color: #f1f1f1;\n}\n#T_a3e33_row0_col2 {\n  background-color: #9bd469;\n  color: #000000;\n}\n#T_a3e33_row0_col3 {\n  background-color: #7dc765;\n  color: #000000;\n}\n#T_a3e33_row1_col0 {\n  background-color: #dcf08f;\n  color: #000000;\n}\n#T_a3e33_row1_col1 {\n  background-color: #fdbd6d;\n  color: #000000;\n}\n#T_a3e33_row1_col2 {\n  background-color: #bde379;\n  color: #000000;\n}\n#T_a3e33_row1_col3 {\n  background-color: #6bbf64;\n  color: #000000;\n}\n#T_a3e33_row2_col0 {\n  background-color: #ed5f3c;\n  color: #f1f1f1;\n}\n#T_a3e33_row2_col1 {\n  background-color: #fdb365;\n  color: #000000;\n}\n#T_a3e33_row2_col2 {\n  background-color: #db382b;\n  color: #f1f1f1;\n}\n#T_a3e33_row2_col3 {\n  background-color: #d93429;\n  color: #f1f1f1;\n}\n#T_a3e33_row3_col0 {\n  background-color: #fee18d;\n  color: #000000;\n}\n#T_a3e33_row3_col1 {\n  background-color: #f99153;\n  color: #000000;\n}\n#T_a3e33_row3_col2 {\n  background-color: #e24731;\n  color: #f1f1f1;\n}\n#T_a3e33_row3_col3 {\n  background-color: #5ab760;\n  color: #f1f1f1;\n}\n#T_a3e33_row4_col0 {\n  background-color: #e9f6a1;\n  color: #000000;\n}\n#T_a3e33_row4_col1 {\n  background-color: #a5d86a;\n  color: #000000;\n}\n#T_a3e33_row4_col2, #T_a3e33_row5_col1 {\n  background-color: #f2faae;\n  color: #000000;\n}\n#T_a3e33_row4_col3, #T_a3e33_row7_col1 {\n  background-color: #feeb9d;\n  color: #000000;\n}\n#T_a3e33_row5_col0 {\n  background-color: #ecf7a6;\n  color: #000000;\n}\n#T_a3e33_row5_col2 {\n  background-color: #fff2aa;\n  color: #000000;\n}\n#T_a3e33_row5_col3 {\n  background-color: #bbe278;\n  color: #000000;\n}\n#T_a3e33_row6_col0 {\n  background-color: #fee593;\n  color: #000000;\n}\n#T_a3e33_row6_col1 {\n  background-color: #a9da6c;\n  color: #000000;\n}\n#T_a3e33_row6_col2 {\n  background-color: #fdad60;\n  color: #000000;\n}\n#T_a3e33_row6_col3 {\n  background-color: #f88c51;\n  color: #f1f1f1;\n}\n#T_a3e33_row7_col0 {\n  background-color: #c3e67d;\n  color: #000000;\n}\n#T_a3e33_row7_col2 {\n  background-color: #cdea83;\n  color: #000000;\n}\n#T_a3e33_row7_col3 {\n  background-color: #30a356;\n  color: #f1f1f1;\n}\n#T_a3e33_row8_col0 {\n  background-color: #e65036;\n  color: #f1f1f1;\n}\n#T_a3e33_row8_col1 {\n  background-color: #f98e52;\n  color: #f1f1f1;\n}\n#T_a3e33_row8_col2 {\n  background-color: #e95538;\n  color: #f1f1f1;\n}\n#T_a3e33_row8_col3 {\n  background-color: #be1827;\n  color: #f1f1f1;\n}\n</style>\n<table id=\"T_a3e33\">\n  <thead>\n    <tr>\n      <th class=\"blank level0\" >&nbsp;</th>\n      <th id=\"T_a3e33_level0_col0\" class=\"col_heading level0 col0\" >Defense Rating</th>\n      <th id=\"T_a3e33_level0_col1\" class=\"col_heading level0 col1\" >reach</th>\n      <th id=\"T_a3e33_level0_col2\" class=\"col_heading level0 col2\" >magnet</th>\n      <th id=\"T_a3e33_level0_col3\" class=\"col_heading level0 col3\" >reflex</th>\n    </tr>\n    <tr>\n      <th class=\"index_name level0\" >player_name</th>\n      <th class=\"blank col0\" >&nbsp;</th>\n      <th class=\"blank col1\" >&nbsp;</th>\n      <th class=\"blank col2\" >&nbsp;</th>\n      <th class=\"blank col3\" >&nbsp;</th>\n    </tr>\n  </thead>\n  <tbody>\n    <tr>\n      <th id=\"T_a3e33_level0_row0\" class=\"row_heading level0 row0\" >Amos Parveen</th>\n      <td id=\"T_a3e33_row0_col0\" class=\"data row0 col0\" >1.016676</td>\n      <td id=\"T_a3e33_row0_col1\" class=\"data row0 col1\" >1.568193</td>\n      <td id=\"T_a3e33_row0_col2\" class=\"data row0 col2\" >0.717303</td>\n      <td id=\"T_a3e33_row0_col3\" class=\"data row0 col3\" >0.764531</td>\n    </tr>\n    <tr>\n      <th id=\"T_a3e33_level0_row1\" class=\"row_heading level0 row1\" >Lucas Petty</th>\n      <td id=\"T_a3e33_row1_col0\" class=\"data row1 col0\" >0.591509</td>\n      <td id=\"T_a3e33_row1_col1\" class=\"data row1 col1\" >0.330230</td>\n      <td id=\"T_a3e33_row1_col2\" class=\"data row1 col2\" >0.654762</td>\n      <td id=\"T_a3e33_row1_col3\" class=\"data row1 col3\" >0.789537</td>\n    </tr>\n    <tr>\n      <th id=\"T_a3e33_level0_row2\" class=\"row_heading level0 row2\" >Ariadne Amaat</th>\n      <td id=\"T_a3e33_row2_col0\" class=\"data row2 col0\" >0.177225</td>\n      <td id=\"T_a3e33_row2_col1\" class=\"data row2 col1\" >0.308719</td>\n      <td id=\"T_a3e33_row2_col2\" class=\"data row2 col2\" >0.116163</td>\n      <td id=\"T_a3e33_row2_col3\" class=\"data row2 col3\" >0.106793</td>\n    </tr>\n    <tr>\n      <th id=\"T_a3e33_level0_row3\" class=\"row_heading level0 row3\" >Siobhan Chark</th>\n      <td id=\"T_a3e33_row3_col0\" class=\"data row3 col0\" >0.402714</td>\n      <td id=\"T_a3e33_row3_col1\" class=\"data row3 col1\" >0.255250</td>\n      <td id=\"T_a3e33_row3_col2\" class=\"data row3 col2\" >0.139863</td>\n      <td id=\"T_a3e33_row3_col3\" class=\"data row3 col3\" >0.813027</td>\n    </tr>\n    <tr>\n      <th id=\"T_a3e33_level0_row4\" class=\"row_heading level0 row4\" >Mars Anchor</th>\n      <td id=\"T_a3e33_row4_col0\" class=\"data row4 col0\" >0.556890</td>\n      <td id=\"T_a3e33_row4_col1\" class=\"data row4 col1\" >0.701738</td>\n      <td id=\"T_a3e33_row4_col2\" class=\"data row4 col2\" >0.533698</td>\n      <td id=\"T_a3e33_row4_col3\" class=\"data row4 col3\" >0.435232</td>\n    </tr>\n    <tr>\n      <th id=\"T_a3e33_level0_row5\" class=\"row_heading level0 row5\" >Tucker Thane</th>\n      <td id=\"T_a3e33_row5_col0\" class=\"data row5 col0\" >0.549560</td>\n      <td id=\"T_a3e33_row5_col1\" class=\"data row5 col1\" >0.531369</td>\n      <td id=\"T_a3e33_row5_col2\" class=\"data row5 col2\" >0.459204</td>\n      <td id=\"T_a3e33_row5_col3\" class=\"data row5 col3\" >0.658105</td>\n    </tr>\n    <tr>\n      <th id=\"T_a3e33_level0_row6\" class=\"row_heading level0 row6\" >Bevan Wise</th>\n      <td id=\"T_a3e33_row6_col0\" class=\"data row6 col0\" >0.414168</td>\n      <td id=\"T_a3e33_row6_col1\" class=\"data row6 col1\" >0.694289</td>\n      <td id=\"T_a3e33_row6_col2\" class=\"data row6 col2\" >0.299765</td>\n      <td id=\"T_a3e33_row6_col3\" class=\"data row6 col3\" >0.248449</td>\n    </tr>\n    <tr>\n      <th id=\"T_a3e33_level0_row7\" class=\"row_heading level0 row7\" >Jira Sealegs</th>\n      <td id=\"T_a3e33_row7_col0\" class=\"data row7 col0\" >0.641516</td>\n      <td id=\"T_a3e33_row7_col1\" class=\"data row7 col1\" >0.433704</td>\n      <td id=\"T_a3e33_row7_col2\" class=\"data row7 col2\" >0.621175</td>\n      <td id=\"T_a3e33_row7_col3\" class=\"data row7 col3\" >0.869669</td>\n    </tr>\n    <tr>\n      <th id=\"T_a3e33_level0_row8\" class=\"row_heading level0 row8\" >Dimi Wobbler</th>\n      <td id=\"T_a3e33_row8_col0\" class=\"data row8 col0\" >0.155937</td>\n      <td id=\"T_a3e33_row8_col1\" class=\"data row8 col1\" >0.252692</td>\n      <td id=\"T_a3e33_row8_col2\" class=\"data row8 col2\" >0.162153</td>\n      <td id=\"T_a3e33_row8_col3\" class=\"data row8 col3\" >0.052967</td>\n    </tr>\n  </tbody>\n</table>\n"
     },
     "metadata": {},
     "output_type": "display_data"
    }
   ],
   "source": [
    "best_defender = pies[pies[\"position\"] == \"LINEUP\"].sort_values(by=['defense_rating'], ascending=False).iloc[0]\n",
    "display(Markdown(f\"This would move `{best_defender['player_name']}` to Midfielder. They are currently `{best_defender['location_name']}`. See below for stat increase.\"))\n",
    "\n",
    "hawk = pies.copy()\n",
    "boost_stats(hawk, 'reach', 0.60, best_defender['player_name'])\n",
    "display(set_heatmap(get_defense_stlats(hawk), maxVal=1))"
   ],
   "metadata": {
    "collapsed": false
   }
  },
  {
   "cell_type": "markdown",
   "source": [
    "### Learn to Defend\n",
    "\n",
    "**Re-roll the Defense of your worst Defender.**"
   ],
   "metadata": {
    "collapsed": false
   }
  },
  {
   "cell_type": "code",
   "execution_count": 10,
   "outputs": [
    {
     "data": {
      "text/plain": "<IPython.core.display.Markdown object>",
      "text/markdown": "This would reroll `Dimi Wobbler`. See below for current stat comparison."
     },
     "metadata": {},
     "output_type": "display_data"
    },
    {
     "data": {
      "text/plain": "<pandas.io.formats.style.Styler at 0x281200c4b20>",
      "text/html": "<style type=\"text/css\">\n#T_7b7b0_row0_col0 {\n  background-color: #57b65f;\n  color: #f1f1f1;\n}\n#T_7b7b0_row0_col1 {\n  background-color: #08773f;\n  color: #f1f1f1;\n}\n#T_7b7b0_row0_col2 {\n  background-color: #9bd469;\n  color: #000000;\n}\n#T_7b7b0_row0_col3 {\n  background-color: #7dc765;\n  color: #000000;\n}\n#T_7b7b0_row1_col0 {\n  background-color: #dcf08f;\n  color: #000000;\n}\n#T_7b7b0_row1_col1 {\n  background-color: #fdbd6d;\n  color: #000000;\n}\n#T_7b7b0_row1_col2 {\n  background-color: #bde379;\n  color: #000000;\n}\n#T_7b7b0_row1_col3 {\n  background-color: #6bbf64;\n  color: #000000;\n}\n#T_7b7b0_row2_col0 {\n  background-color: #ed5f3c;\n  color: #f1f1f1;\n}\n#T_7b7b0_row2_col1 {\n  background-color: #fdb365;\n  color: #000000;\n}\n#T_7b7b0_row2_col2 {\n  background-color: #db382b;\n  color: #f1f1f1;\n}\n#T_7b7b0_row2_col3 {\n  background-color: #d93429;\n  color: #f1f1f1;\n}\n#T_7b7b0_row3_col0 {\n  background-color: #fee18d;\n  color: #000000;\n}\n#T_7b7b0_row3_col1 {\n  background-color: #f99153;\n  color: #000000;\n}\n#T_7b7b0_row3_col2 {\n  background-color: #e24731;\n  color: #f1f1f1;\n}\n#T_7b7b0_row3_col3 {\n  background-color: #5ab760;\n  color: #f1f1f1;\n}\n#T_7b7b0_row4_col0 {\n  background-color: #e9f6a1;\n  color: #000000;\n}\n#T_7b7b0_row4_col1 {\n  background-color: #a5d86a;\n  color: #000000;\n}\n#T_7b7b0_row4_col2, #T_7b7b0_row5_col1 {\n  background-color: #f2faae;\n  color: #000000;\n}\n#T_7b7b0_row4_col3, #T_7b7b0_row7_col1 {\n  background-color: #feeb9d;\n  color: #000000;\n}\n#T_7b7b0_row5_col0 {\n  background-color: #ecf7a6;\n  color: #000000;\n}\n#T_7b7b0_row5_col2 {\n  background-color: #fff2aa;\n  color: #000000;\n}\n#T_7b7b0_row5_col3 {\n  background-color: #bbe278;\n  color: #000000;\n}\n#T_7b7b0_row6_col0 {\n  background-color: #fee593;\n  color: #000000;\n}\n#T_7b7b0_row6_col1 {\n  background-color: #a9da6c;\n  color: #000000;\n}\n#T_7b7b0_row6_col2 {\n  background-color: #fdad60;\n  color: #000000;\n}\n#T_7b7b0_row6_col3 {\n  background-color: #f88c51;\n  color: #f1f1f1;\n}\n#T_7b7b0_row7_col0 {\n  background-color: #c3e67d;\n  color: #000000;\n}\n#T_7b7b0_row7_col2 {\n  background-color: #cdea83;\n  color: #000000;\n}\n#T_7b7b0_row7_col3 {\n  background-color: #30a356;\n  color: #f1f1f1;\n}\n#T_7b7b0_row8_col0 {\n  background-color: #e65036;\n  color: #f1f1f1;\n}\n#T_7b7b0_row8_col1 {\n  background-color: #f98e52;\n  color: #f1f1f1;\n}\n#T_7b7b0_row8_col2 {\n  background-color: #e95538;\n  color: #f1f1f1;\n}\n#T_7b7b0_row8_col3 {\n  background-color: #be1827;\n  color: #f1f1f1;\n}\n</style>\n<table id=\"T_7b7b0\">\n  <thead>\n    <tr>\n      <th class=\"blank level0\" >&nbsp;</th>\n      <th id=\"T_7b7b0_level0_col0\" class=\"col_heading level0 col0\" >Defense Rating</th>\n      <th id=\"T_7b7b0_level0_col1\" class=\"col_heading level0 col1\" >reach</th>\n      <th id=\"T_7b7b0_level0_col2\" class=\"col_heading level0 col2\" >magnet</th>\n      <th id=\"T_7b7b0_level0_col3\" class=\"col_heading level0 col3\" >reflex</th>\n    </tr>\n    <tr>\n      <th class=\"index_name level0\" >player_name</th>\n      <th class=\"blank col0\" >&nbsp;</th>\n      <th class=\"blank col1\" >&nbsp;</th>\n      <th class=\"blank col2\" >&nbsp;</th>\n      <th class=\"blank col3\" >&nbsp;</th>\n    </tr>\n  </thead>\n  <tbody>\n    <tr>\n      <th id=\"T_7b7b0_level0_row0\" class=\"row_heading level0 row0\" >Amos Parveen</th>\n      <td id=\"T_7b7b0_row0_col0\" class=\"data row0 col0\" >0.816676</td>\n      <td id=\"T_7b7b0_row0_col1\" class=\"data row0 col1\" >0.968193</td>\n      <td id=\"T_7b7b0_row0_col2\" class=\"data row0 col2\" >0.717303</td>\n      <td id=\"T_7b7b0_row0_col3\" class=\"data row0 col3\" >0.764531</td>\n    </tr>\n    <tr>\n      <th id=\"T_7b7b0_level0_row1\" class=\"row_heading level0 row1\" >Lucas Petty</th>\n      <td id=\"T_7b7b0_row1_col0\" class=\"data row1 col0\" >0.591509</td>\n      <td id=\"T_7b7b0_row1_col1\" class=\"data row1 col1\" >0.330230</td>\n      <td id=\"T_7b7b0_row1_col2\" class=\"data row1 col2\" >0.654762</td>\n      <td id=\"T_7b7b0_row1_col3\" class=\"data row1 col3\" >0.789537</td>\n    </tr>\n    <tr>\n      <th id=\"T_7b7b0_level0_row2\" class=\"row_heading level0 row2\" >Ariadne Amaat</th>\n      <td id=\"T_7b7b0_row2_col0\" class=\"data row2 col0\" >0.177225</td>\n      <td id=\"T_7b7b0_row2_col1\" class=\"data row2 col1\" >0.308719</td>\n      <td id=\"T_7b7b0_row2_col2\" class=\"data row2 col2\" >0.116163</td>\n      <td id=\"T_7b7b0_row2_col3\" class=\"data row2 col3\" >0.106793</td>\n    </tr>\n    <tr>\n      <th id=\"T_7b7b0_level0_row3\" class=\"row_heading level0 row3\" >Siobhan Chark</th>\n      <td id=\"T_7b7b0_row3_col0\" class=\"data row3 col0\" >0.402714</td>\n      <td id=\"T_7b7b0_row3_col1\" class=\"data row3 col1\" >0.255250</td>\n      <td id=\"T_7b7b0_row3_col2\" class=\"data row3 col2\" >0.139863</td>\n      <td id=\"T_7b7b0_row3_col3\" class=\"data row3 col3\" >0.813027</td>\n    </tr>\n    <tr>\n      <th id=\"T_7b7b0_level0_row4\" class=\"row_heading level0 row4\" >Mars Anchor</th>\n      <td id=\"T_7b7b0_row4_col0\" class=\"data row4 col0\" >0.556890</td>\n      <td id=\"T_7b7b0_row4_col1\" class=\"data row4 col1\" >0.701738</td>\n      <td id=\"T_7b7b0_row4_col2\" class=\"data row4 col2\" >0.533698</td>\n      <td id=\"T_7b7b0_row4_col3\" class=\"data row4 col3\" >0.435232</td>\n    </tr>\n    <tr>\n      <th id=\"T_7b7b0_level0_row5\" class=\"row_heading level0 row5\" >Tucker Thane</th>\n      <td id=\"T_7b7b0_row5_col0\" class=\"data row5 col0\" >0.549560</td>\n      <td id=\"T_7b7b0_row5_col1\" class=\"data row5 col1\" >0.531369</td>\n      <td id=\"T_7b7b0_row5_col2\" class=\"data row5 col2\" >0.459204</td>\n      <td id=\"T_7b7b0_row5_col3\" class=\"data row5 col3\" >0.658105</td>\n    </tr>\n    <tr>\n      <th id=\"T_7b7b0_level0_row6\" class=\"row_heading level0 row6\" >Bevan Wise</th>\n      <td id=\"T_7b7b0_row6_col0\" class=\"data row6 col0\" >0.414168</td>\n      <td id=\"T_7b7b0_row6_col1\" class=\"data row6 col1\" >0.694289</td>\n      <td id=\"T_7b7b0_row6_col2\" class=\"data row6 col2\" >0.299765</td>\n      <td id=\"T_7b7b0_row6_col3\" class=\"data row6 col3\" >0.248449</td>\n    </tr>\n    <tr>\n      <th id=\"T_7b7b0_level0_row7\" class=\"row_heading level0 row7\" >Jira Sealegs</th>\n      <td id=\"T_7b7b0_row7_col0\" class=\"data row7 col0\" >0.641516</td>\n      <td id=\"T_7b7b0_row7_col1\" class=\"data row7 col1\" >0.433704</td>\n      <td id=\"T_7b7b0_row7_col2\" class=\"data row7 col2\" >0.621175</td>\n      <td id=\"T_7b7b0_row7_col3\" class=\"data row7 col3\" >0.869669</td>\n    </tr>\n    <tr>\n      <th id=\"T_7b7b0_level0_row8\" class=\"row_heading level0 row8\" >Dimi Wobbler</th>\n      <td id=\"T_7b7b0_row8_col0\" class=\"data row8 col0\" >0.155937</td>\n      <td id=\"T_7b7b0_row8_col1\" class=\"data row8 col1\" >0.252692</td>\n      <td id=\"T_7b7b0_row8_col2\" class=\"data row8 col2\" >0.162153</td>\n      <td id=\"T_7b7b0_row8_col3\" class=\"data row8 col3\" >0.052967</td>\n    </tr>\n  </tbody>\n</table>\n"
     },
     "metadata": {},
     "output_type": "display_data"
    }
   ],
   "source": [
    "display(Markdown(f\"This would reroll `{worst_defender['player_name']}`. See below for current stat comparison.\"))\n",
    "display(set_heatmap(get_defense_stlats(pies), maxVal=1))"
   ],
   "metadata": {
    "collapsed": false
   }
  },
  {
   "cell_type": "markdown",
   "source": [
    "### Strong Start\n",
    "\n",
    "**Sort your Lineup by Batting Rating.**\n",
    "\n",
    "See below for new batter order."
   ],
   "metadata": {
    "collapsed": false
   }
  },
  {
   "cell_type": "code",
   "execution_count": 11,
   "outputs": [
    {
     "data": {
      "text/plain": "<pandas.io.formats.style.Styler at 0x281200bbd30>",
      "text/html": "<style type=\"text/css\">\n#T_ad917_row0_col0 {\n  background-color: #57b65f;\n  color: #f1f1f1;\n}\n#T_ad917_row0_col1 {\n  background-color: #05713c;\n  color: #f1f1f1;\n}\n#T_ad917_row0_col2 {\n  background-color: #4eb15d;\n  color: #f1f1f1;\n}\n#T_ad917_row0_col3 {\n  background-color: #c1e57b;\n  color: #000000;\n}\n#T_ad917_row1_col0 {\n  background-color: #5ab760;\n  color: #f1f1f1;\n}\n#T_ad917_row1_col1 {\n  background-color: #51b35e;\n  color: #f1f1f1;\n}\n#T_ad917_row1_col2 {\n  background-color: #7fc866;\n  color: #000000;\n}\n#T_ad917_row1_col3, #T_ad917_row2_col1 {\n  background-color: #3faa59;\n  color: #f1f1f1;\n}\n#T_ad917_row2_col0, #T_ad917_row3_col2 {\n  background-color: #63bc62;\n  color: #f1f1f1;\n}\n#T_ad917_row2_col2 {\n  background-color: #0b7d42;\n  color: #f1f1f1;\n}\n#T_ad917_row2_col3 {\n  background-color: #d9ef8b;\n  color: #000000;\n}\n#T_ad917_row3_col0 {\n  background-color: #b3df72;\n  color: #000000;\n}\n#T_ad917_row3_col1 {\n  background-color: #a2d76a;\n  color: #000000;\n}\n#T_ad917_row3_col3 {\n  background-color: #f8fcb6;\n  color: #000000;\n}\n#T_ad917_row4_col0 {\n  background-color: #e0f295;\n  color: #000000;\n}\n#T_ad917_row4_col1 {\n  background-color: #fdb163;\n  color: #000000;\n}\n#T_ad917_row4_col2 {\n  background-color: #e5f49b;\n  color: #000000;\n}\n#T_ad917_row4_col3 {\n  background-color: #36a657;\n  color: #f1f1f1;\n}\n#T_ad917_row5_col0 {\n  background-color: #fff6b0;\n  color: #000000;\n}\n#T_ad917_row5_col1 {\n  background-color: #82c966;\n  color: #000000;\n}\n#T_ad917_row5_col2 {\n  background-color: #bb1526;\n  color: #f1f1f1;\n}\n#T_ad917_row5_col3 {\n  background-color: #d1ec86;\n  color: #000000;\n}\n#T_ad917_row6_col0 {\n  background-color: #fedc88;\n  color: #000000;\n}\n#T_ad917_row6_col1 {\n  background-color: #c01a27;\n  color: #f1f1f1;\n}\n#T_ad917_row6_col2 {\n  background-color: #7dc765;\n  color: #000000;\n}\n#T_ad917_row6_col3 {\n  background-color: #feca79;\n  color: #000000;\n}\n#T_ad917_row7_col0 {\n  background-color: #fecc7b;\n  color: #000000;\n}\n#T_ad917_row7_col1 {\n  background-color: #fdbd6d;\n  color: #000000;\n}\n#T_ad917_row7_col2 {\n  background-color: #ecf7a6;\n  color: #000000;\n}\n#T_ad917_row7_col3 {\n  background-color: #f47044;\n  color: #f1f1f1;\n}\n#T_ad917_row8_col0 {\n  background-color: #f99153;\n  color: #000000;\n}\n#T_ad917_row8_col1 {\n  background-color: #f88950;\n  color: #f1f1f1;\n}\n#T_ad917_row8_col2 {\n  background-color: #ea5739;\n  color: #f1f1f1;\n}\n#T_ad917_row8_col3 {\n  background-color: #fec877;\n  color: #000000;\n}\n</style>\n<table id=\"T_ad917\">\n  <thead>\n    <tr>\n      <th class=\"blank level0\" >&nbsp;</th>\n      <th id=\"T_ad917_level0_col0\" class=\"col_heading level0 col0\" >Batting Rating</th>\n      <th id=\"T_ad917_level0_col1\" class=\"col_heading level0 col1\" >sight</th>\n      <th id=\"T_ad917_level0_col2\" class=\"col_heading level0 col2\" >thwack</th>\n      <th id=\"T_ad917_level0_col3\" class=\"col_heading level0 col3\" >ferocity</th>\n    </tr>\n    <tr>\n      <th class=\"index_name level0\" >player_name</th>\n      <th class=\"blank col0\" >&nbsp;</th>\n      <th class=\"blank col1\" >&nbsp;</th>\n      <th class=\"blank col2\" >&nbsp;</th>\n      <th class=\"blank col3\" >&nbsp;</th>\n    </tr>\n  </thead>\n  <tbody>\n    <tr>\n      <th id=\"T_ad917_level0_row0\" class=\"row_heading level0 row0\" >Tucker Thane</th>\n      <td id=\"T_ad917_row0_col0\" class=\"data row0 col0\" >0.818528</td>\n      <td id=\"T_ad917_row0_col1\" class=\"data row0 col1\" >0.976919</td>\n      <td id=\"T_ad917_row0_col2\" class=\"data row0 col2\" >0.830288</td>\n      <td id=\"T_ad917_row0_col3\" class=\"data row0 col3\" >0.648379</td>\n    </tr>\n    <tr>\n      <th id=\"T_ad917_level0_row1\" class=\"row_heading level0 row1\" >Amos Parveen</th>\n      <td id=\"T_ad917_row1_col0\" class=\"data row1 col0\" >0.812560</td>\n      <td id=\"T_ad917_row1_col1\" class=\"data row1 col1\" >0.826331</td>\n      <td id=\"T_ad917_row1_col2\" class=\"data row1 col2\" >0.760910</td>\n      <td id=\"T_ad917_row1_col3\" class=\"data row1 col3\" >0.850437</td>\n    </tr>\n    <tr>\n      <th id=\"T_ad917_level0_row2\" class=\"row_heading level0 row2\" >Jira Sealegs</th>\n      <td id=\"T_ad917_row2_col0\" class=\"data row2 col0\" >0.801296</td>\n      <td id=\"T_ad917_row2_col1\" class=\"data row2 col1\" >0.848431</td>\n      <td id=\"T_ad917_row2_col2\" class=\"data row2 col2\" >0.955203</td>\n      <td id=\"T_ad917_row2_col3\" class=\"data row2 col3\" >0.600255</td>\n    </tr>\n    <tr>\n      <th id=\"T_ad917_level0_row3\" class=\"row_heading level0 row3\" >Bevan Wise</th>\n      <td id=\"T_ad917_row3_col0\" class=\"data row3 col0\" >0.674798</td>\n      <td id=\"T_ad917_row3_col1\" class=\"data row3 col1\" >0.703233</td>\n      <td id=\"T_ad917_row3_col2\" class=\"data row3 col2\" >0.804662</td>\n      <td id=\"T_ad917_row3_col3\" class=\"data row3 col3\" >0.516498</td>\n    </tr>\n    <tr>\n      <th id=\"T_ad917_level0_row4\" class=\"row_heading level0 row4\" >Siobhan Chark</th>\n      <td id=\"T_ad917_row4_col0\" class=\"data row4 col0\" >0.579901</td>\n      <td id=\"T_ad917_row4_col1\" class=\"data row4 col1\" >0.306972</td>\n      <td id=\"T_ad917_row4_col2\" class=\"data row4 col2\" >0.570024</td>\n      <td id=\"T_ad917_row4_col3\" class=\"data row4 col3\" >0.862707</td>\n    </tr>\n    <tr>\n      <th id=\"T_ad917_level0_row5\" class=\"row_heading level0 row5\" >Ariadne Amaat</th>\n      <td id=\"T_ad917_row5_col0\" class=\"data row5 col0\" >0.471733</td>\n      <td id=\"T_ad917_row5_col1\" class=\"data row5 col1\" >0.754392</td>\n      <td id=\"T_ad917_row5_col2\" class=\"data row5 col2\" >0.045351</td>\n      <td id=\"T_ad917_row5_col3\" class=\"data row5 col3\" >0.615456</td>\n    </tr>\n    <tr>\n      <th id=\"T_ad917_level0_row6\" class=\"row_heading level0 row6\" >Dimi Wobbler</th>\n      <td id=\"T_ad917_row6_col0\" class=\"data row6 col0\" >0.392369</td>\n      <td id=\"T_ad917_row6_col1\" class=\"data row6 col1\" >0.057246</td>\n      <td id=\"T_ad917_row6_col2\" class=\"data row6 col2\" >0.761752</td>\n      <td id=\"T_ad917_row6_col3\" class=\"data row6 col3\" >0.358111</td>\n    </tr>\n    <tr>\n      <th id=\"T_ad917_level0_row7\" class=\"row_heading level0 row7\" >Mars Anchor</th>\n      <td id=\"T_ad917_row7_col0\" class=\"data row7 col0\" >0.362238</td>\n      <td id=\"T_ad917_row7_col1\" class=\"data row7 col1\" >0.330136</td>\n      <td id=\"T_ad917_row7_col2\" class=\"data row7 col2\" >0.550708</td>\n      <td id=\"T_ad917_row7_col3\" class=\"data row7 col3\" >0.205871</td>\n    </tr>\n    <tr>\n      <th id=\"T_ad917_level0_row8\" class=\"row_heading level0 row8\" >Lucas Petty</th>\n      <td id=\"T_ad917_row8_col0\" class=\"data row8 col0\" >0.254947</td>\n      <td id=\"T_ad917_row8_col1\" class=\"data row8 col1\" >0.243809</td>\n      <td id=\"T_ad917_row8_col2\" class=\"data row8 col2\" >0.166961</td>\n      <td id=\"T_ad917_row8_col3\" class=\"data row8 col3\" >0.354070</td>\n    </tr>\n  </tbody>\n</table>\n"
     },
     "execution_count": 11,
     "metadata": {},
     "output_type": "execute_result"
    }
   ],
   "source": [
    "set_heatmap(get_batting_stlats(pies).sort_values(by=['Batting Rating'], ascending=False), maxVal=1)"
   ],
   "metadata": {
    "collapsed": false
   }
  },
  {
   "cell_type": "markdown",
   "source": [
    "### Telekinesis\n",
    "\n",
    "**Boost the Control of a random Pitcher on your Team by 3 Stars.**\n",
    "\n",
    "See below for stat changes, this would only affect one player."
   ],
   "metadata": {
    "collapsed": false
   }
  },
  {
   "cell_type": "code",
   "execution_count": 12,
   "outputs": [
    {
     "data": {
      "text/plain": "<pandas.io.formats.style.Styler at 0x281200c4d00>",
      "text/html": "<style type=\"text/css\">\n#T_0bace_row0_col0 {\n  background-color: #e8f59f;\n  color: #000000;\n}\n#T_0bace_row0_col1 {\n  background-color: #07753e;\n  color: #f1f1f1;\n}\n#T_0bace_row0_col2 {\n  background-color: #f88950;\n  color: #f1f1f1;\n}\n#T_0bace_row0_col3 {\n  background-color: #fff3ac;\n  color: #000000;\n}\n#T_0bace_row1_col0 {\n  background-color: #016a38;\n  color: #f1f1f1;\n}\n#T_0bace_row1_col1, #T_0bace_row3_col1, #T_0bace_row4_col1 {\n  background-color: #006837;\n  color: #f1f1f1;\n}\n#T_0bace_row1_col2 {\n  background-color: #138c4a;\n  color: #f1f1f1;\n}\n#T_0bace_row1_col3 {\n  background-color: #63bc62;\n  color: #f1f1f1;\n}\n#T_0bace_row2_col0 {\n  background-color: #fee18d;\n  color: #000000;\n}\n#T_0bace_row2_col1 {\n  background-color: #33a456;\n  color: #f1f1f1;\n}\n#T_0bace_row2_col2 {\n  background-color: #b71126;\n  color: #f1f1f1;\n}\n#T_0bace_row2_col3 {\n  background-color: #fdb163;\n  color: #000000;\n}\n#T_0bace_row3_col0 {\n  background-color: #036e3a;\n  color: #f1f1f1;\n}\n#T_0bace_row3_col2 {\n  background-color: #51b35e;\n  color: #f1f1f1;\n}\n#T_0bace_row3_col3 {\n  background-color: #b7e075;\n  color: #000000;\n}\n#T_0bace_row4_col0, #T_0bace_row4_col2 {\n  background-color: #15904c;\n  color: #f1f1f1;\n}\n#T_0bace_row4_col3 {\n  background-color: #fee491;\n  color: #000000;\n}\n</style>\n<table id=\"T_0bace\">\n  <thead>\n    <tr>\n      <th class=\"blank level0\" >&nbsp;</th>\n      <th id=\"T_0bace_level0_col0\" class=\"col_heading level0 col0\" >Pitching Rating</th>\n      <th id=\"T_0bace_level0_col1\" class=\"col_heading level0 col1\" >control</th>\n      <th id=\"T_0bace_level0_col2\" class=\"col_heading level0 col2\" >stuff</th>\n      <th id=\"T_0bace_level0_col3\" class=\"col_heading level0 col3\" >guile</th>\n    </tr>\n    <tr>\n      <th class=\"index_name level0\" >player_name</th>\n      <th class=\"blank col0\" >&nbsp;</th>\n      <th class=\"blank col1\" >&nbsp;</th>\n      <th class=\"blank col2\" >&nbsp;</th>\n      <th class=\"blank col3\" >&nbsp;</th>\n    </tr>\n  </thead>\n  <tbody>\n    <tr>\n      <th id=\"T_0bace_level0_row0\" class=\"row_heading level0 row0\" >Thomas Marsh</th>\n      <td id=\"T_0bace_row0_col0\" class=\"data row0 col0\" >0.559500</td>\n      <td id=\"T_0bace_row0_col1\" class=\"data row0 col1\" >0.970549</td>\n      <td id=\"T_0bace_row0_col2\" class=\"data row0 col2\" >0.244044</td>\n      <td id=\"T_0bace_row0_col3\" class=\"data row0 col3\" >0.463906</td>\n    </tr>\n    <tr>\n      <th id=\"T_0bace_level0_row1\" class=\"row_heading level0 row1\" >Marco Escobar</th>\n      <td id=\"T_0bace_row1_col0\" class=\"data row1 col0\" >0.994724</td>\n      <td id=\"T_0bace_row1_col1\" class=\"data row1 col1\" >1.256456</td>\n      <td id=\"T_0bace_row1_col2\" class=\"data row1 col2\" >0.924772</td>\n      <td id=\"T_0bace_row1_col3\" class=\"data row1 col3\" >0.802942</td>\n    </tr>\n    <tr>\n      <th id=\"T_0bace_level0_row2\" class=\"row_heading level0 row2\" >Augusto Reddick</th>\n      <td id=\"T_0bace_row2_col0\" class=\"data row2 col0\" >0.403280</td>\n      <td id=\"T_0bace_row2_col1\" class=\"data row2 col1\" >0.864553</td>\n      <td id=\"T_0bace_row2_col2\" class=\"data row2 col2\" >0.037293</td>\n      <td id=\"T_0bace_row2_col3\" class=\"data row2 col3\" >0.307993</td>\n    </tr>\n    <tr>\n      <th id=\"T_0bace_level0_row3\" class=\"row_heading level0 row3\" >Pudge Nakamoto</th>\n      <td id=\"T_0bace_row3_col0\" class=\"data row3 col0\" >0.986295</td>\n      <td id=\"T_0bace_row3_col1\" class=\"data row3 col1\" >1.467061</td>\n      <td id=\"T_0bace_row3_col2\" class=\"data row3 col2\" >0.825610</td>\n      <td id=\"T_0bace_row3_col3\" class=\"data row3 col3\" >0.666213</td>\n    </tr>\n    <tr>\n      <th id=\"T_0bace_level0_row4\" class=\"row_heading level0 row4\" >Steals Chark</th>\n      <td id=\"T_0bace_row4_col0\" class=\"data row4 col0\" >0.916601</td>\n      <td id=\"T_0bace_row4_col1\" class=\"data row4 col1\" >1.422393</td>\n      <td id=\"T_0bace_row4_col2\" class=\"data row4 col2\" >0.916995</td>\n      <td id=\"T_0bace_row4_col3\" class=\"data row4 col3\" >0.410416</td>\n    </tr>\n  </tbody>\n</table>\n"
     },
     "metadata": {},
     "output_type": "display_data"
    }
   ],
   "source": [
    "psi = pies.copy()\n",
    "boost_stats(psi, 'control', 0.60)\n",
    "display(set_heatmap(get_pitching_stlats(psi), maxVal=1))"
   ],
   "metadata": {
    "collapsed": false
   }
  },
  {
   "cell_type": "markdown",
   "source": [
    "### Shadow Play\n",
    "\n",
    "**Swap your worst Player out for someone in your Shadows.**"
   ],
   "metadata": {
    "collapsed": false
   }
  },
  {
   "cell_type": "code",
   "execution_count": 13,
   "outputs": [
    {
     "data": {
      "text/plain": "<IPython.core.display.Markdown object>",
      "text/markdown": "The worst overall player on the team is `Ariadne Amaat`. See below for stat comparison to our current shadows."
     },
     "metadata": {},
     "output_type": "display_data"
    },
    {
     "data": {
      "text/plain": "<pandas.io.formats.style.Styler at 0x2811fb59640>",
      "text/html": "<style type=\"text/css\">\n#T_5c015_row0_col0 {\n  background-color: #fee999;\n  color: #000000;\n}\n#T_5c015_row0_col1 {\n  background-color: #fffebe;\n  color: #000000;\n}\n#T_5c015_row0_col2 {\n  background-color: #fdb567;\n  color: #000000;\n}\n#T_5c015_row0_col3 {\n  background-color: #feec9f;\n  color: #000000;\n}\n#T_5c015_row0_col4 {\n  background-color: #fedc88;\n  color: #000000;\n}\n#T_5c015_row0_col5 {\n  background-color: #fffcba;\n  color: #000000;\n}\n#T_5c015_row1_col0 {\n  background-color: #fdad60;\n  color: #000000;\n}\n#T_5c015_row1_col1 {\n  background-color: #fff6b0;\n  color: #000000;\n}\n#T_5c015_row1_col2 {\n  background-color: #fff2aa;\n  color: #000000;\n}\n#T_5c015_row1_col3 {\n  background-color: #dd3d2d;\n  color: #f1f1f1;\n}\n#T_5c015_row1_col4 {\n  background-color: #ed5f3c;\n  color: #f1f1f1;\n}\n#T_5c015_row1_col5 {\n  background-color: #f99153;\n  color: #000000;\n}\n</style>\n<table id=\"T_5c015\">\n  <thead>\n    <tr>\n      <th class=\"blank level0\" >&nbsp;</th>\n      <th id=\"T_5c015_level0_col0\" class=\"col_heading level0 col0\" >Overall</th>\n      <th id=\"T_5c015_level0_col1\" class=\"col_heading level0 col1\" >Batting</th>\n      <th id=\"T_5c015_level0_col2\" class=\"col_heading level0 col2\" >Pitching</th>\n      <th id=\"T_5c015_level0_col3\" class=\"col_heading level0 col3\" >Running</th>\n      <th id=\"T_5c015_level0_col4\" class=\"col_heading level0 col4\" >Defense</th>\n      <th id=\"T_5c015_level0_col5\" class=\"col_heading level0 col5\" >Vibes</th>\n    </tr>\n    <tr>\n      <th class=\"index_name level0\" >player_name</th>\n      <th class=\"blank col0\" >&nbsp;</th>\n      <th class=\"blank col1\" >&nbsp;</th>\n      <th class=\"blank col2\" >&nbsp;</th>\n      <th class=\"blank col3\" >&nbsp;</th>\n      <th class=\"blank col4\" >&nbsp;</th>\n      <th class=\"blank col5\" >&nbsp;</th>\n    </tr>\n  </thead>\n  <tbody>\n    <tr>\n      <th id=\"T_5c015_level0_row0\" class=\"row_heading level0 row0\" >Chet Takahashi</th>\n      <td id=\"T_5c015_row0_col0\" class=\"data row0 col0\" >2.131818</td>\n      <td id=\"T_5c015_row0_col1\" class=\"data row0 col1\" >2.482796</td>\n      <td id=\"T_5c015_row0_col2\" class=\"data row0 col2\" >1.569054</td>\n      <td id=\"T_5c015_row0_col3\" class=\"data row0 col3\" >2.190428</td>\n      <td id=\"T_5c015_row0_col4\" class=\"data row0 col4\" >1.966252</td>\n      <td id=\"T_5c015_row0_col5\" class=\"data row0 col5\" >2.450558</td>\n    </tr>\n    <tr>\n      <th id=\"T_5c015_level0_row1\" class=\"row_heading level0 row1\" >Ariadne Amaat</th>\n      <td id=\"T_5c015_row1_col0\" class=\"data row1 col0\" >1.487631</td>\n      <td id=\"T_5c015_row1_col1\" class=\"data row1 col1\" >2.358664</td>\n      <td id=\"T_5c015_row1_col2\" class=\"data row1 col2\" >2.288500</td>\n      <td id=\"T_5c015_row1_col3\" class=\"data row1 col3\" >0.622079</td>\n      <td id=\"T_5c015_row1_col4\" class=\"data row1 col4\" >0.886125</td>\n      <td id=\"T_5c015_row1_col5\" class=\"data row1 col5\" >1.282787</td>\n    </tr>\n  </tbody>\n</table>\n"
     },
     "metadata": {},
     "output_type": "display_data"
    },
    {
     "data": {
      "text/plain": "<pandas.io.formats.style.Styler at 0x2811fb59220>",
      "text/html": "<style type=\"text/css\">\n#T_a9e07_row0_col0 {\n  background-color: #fff6b0;\n  color: #000000;\n}\n#T_a9e07_row0_col1 {\n  background-color: #82c966;\n  color: #000000;\n}\n#T_a9e07_row0_col2, #T_a9e07_row1_col2 {\n  background-color: #bb1526;\n  color: #f1f1f1;\n}\n#T_a9e07_row0_col3 {\n  background-color: #d1ec86;\n  color: #000000;\n}\n#T_a9e07_row1_col0 {\n  background-color: #fffebe;\n  color: #000000;\n}\n#T_a9e07_row1_col1 {\n  background-color: #33a456;\n  color: #f1f1f1;\n}\n#T_a9e07_row1_col3 {\n  background-color: #e0f295;\n  color: #000000;\n}\n</style>\n<table id=\"T_a9e07\">\n  <thead>\n    <tr>\n      <th class=\"blank level0\" >&nbsp;</th>\n      <th id=\"T_a9e07_level0_col0\" class=\"col_heading level0 col0\" >Batting Rating</th>\n      <th id=\"T_a9e07_level0_col1\" class=\"col_heading level0 col1\" >sight</th>\n      <th id=\"T_a9e07_level0_col2\" class=\"col_heading level0 col2\" >thwack</th>\n      <th id=\"T_a9e07_level0_col3\" class=\"col_heading level0 col3\" >ferocity</th>\n    </tr>\n    <tr>\n      <th class=\"index_name level0\" >player_name</th>\n      <th class=\"blank col0\" >&nbsp;</th>\n      <th class=\"blank col1\" >&nbsp;</th>\n      <th class=\"blank col2\" >&nbsp;</th>\n      <th class=\"blank col3\" >&nbsp;</th>\n    </tr>\n  </thead>\n  <tbody>\n    <tr>\n      <th id=\"T_a9e07_level0_row0\" class=\"row_heading level0 row0\" >Ariadne Amaat</th>\n      <td id=\"T_a9e07_row0_col0\" class=\"data row0 col0\" >0.471733</td>\n      <td id=\"T_a9e07_row0_col1\" class=\"data row0 col1\" >0.754392</td>\n      <td id=\"T_a9e07_row0_col2\" class=\"data row0 col2\" >0.045351</td>\n      <td id=\"T_a9e07_row0_col3\" class=\"data row0 col3\" >0.615456</td>\n    </tr>\n    <tr>\n      <th id=\"T_a9e07_level0_row1\" class=\"row_heading level0 row1\" >Chet Takahashi</th>\n      <td id=\"T_a9e07_row1_col0\" class=\"data row1 col0\" >0.496559</td>\n      <td id=\"T_a9e07_row1_col1\" class=\"data row1 col1\" >0.864764</td>\n      <td id=\"T_a9e07_row1_col2\" class=\"data row1 col2\" >0.043567</td>\n      <td id=\"T_a9e07_row1_col3\" class=\"data row1 col3\" >0.581346</td>\n    </tr>\n  </tbody>\n</table>\n"
     },
     "metadata": {},
     "output_type": "display_data"
    }
   ],
   "source": [
    "display(Markdown(f\"The worst overall player on the team is `{worst_overall['player_name']}`. See below for stat comparison to our current shadows.\"))\n",
    "shadows = pies[pies['position'] == \"SHADOWS\"].copy()\n",
    "shadows.loc[worst_overall.name] = worst_overall\n",
    "\n",
    "display(set_heatmap(get_stars(shadows), maxVal=5))\n",
    "\n",
    "if worst_overall['position'] == \"LINEUP\":\n",
    "    display(set_heatmap(get_batting_stlats(shadows, include_shadows=True), maxVal=1))\n",
    "if worst_overall['position'] == \"ROTATION\":\n",
    "    display(set_heatmap(get_pitching_stlats(shadows, include_shadows=True), maxVal=1))"
   ],
   "metadata": {
    "collapsed": false
   }
  },
  {
   "cell_type": "markdown",
   "source": [
    "## Appendix\n",
    "\n",
    "* [Team Comparison Charts](https://chartographer.sibr.dev/)\n",
    "* [Attribute Viewer](https://astrology-next.vercel.app/players)"
   ],
   "metadata": {
    "collapsed": false
   }
  }
 ],
 "metadata": {
  "kernelspec": {
   "display_name": "Python 3",
   "language": "python",
   "name": "python3"
  },
  "language_info": {
   "codemirror_mode": {
    "name": "ipython",
    "version": 2
   },
   "file_extension": ".py",
   "mimetype": "text/x-python",
   "name": "python",
   "nbconvert_exporter": "python",
   "pygments_lexer": "ipython2",
   "version": "2.7.6"
  }
 },
 "nbformat": 4,
 "nbformat_minor": 0
}
