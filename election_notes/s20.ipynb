{
 "cells": [
  {
   "cell_type": "markdown",
   "metadata": {},
   "source": [
    "# Season 20 Election Notes\n",
    "\n",
    ">**FORBIDDEN KNOWLEDGE WARNING**\n",
    ">\n",
    ">This document contains some information that is not currently present on the main site and may be considered spoilers.\n",
    ">Continue at your own discretion. Some information in this document cannot be shared on the Discord without spoiler tags."
   ]
  },
  {
   "cell_type": "code",
   "execution_count": null,
   "metadata": {
    "pycharm": {
     "name": "#%%\n",
     "is_executing": true
    }
   },
   "outputs": [],
   "source": [
    "import pandas\n",
    "%matplotlib inline\n",
    "from blaseball_mike.models import *\n",
    "from blaseball_mike.tables import StatType\n",
    "import plotly.express as plot\n",
    "import plotly.io as _pio\n",
    "import plotly.subplots as subplot\n",
    "from IPython.display import display, Markdown\n",
    "from copy import deepcopy\n",
    "\n",
    "import os\n",
    "import sys\n",
    "pdir = os.path.abspath(os.path.join(os.path.dirname(''), os.path.pardir))\n",
    "sys.path.append(pdir)\n",
    "from display import *\n",
    "from blessings import *\n",
    "sys.path.remove(pdir)\n",
    "\n",
    "_pio.renderers.default = \"notebook_connected\"\n",
    "\n",
    "pies = Team.load_by_name(\"Philly Pies\")\n",
    "\n",
    "# Fix Attractors\n",
    "real_pies = deepcopy(pies)\n",
    "for p in real_pies.lineup + real_pies.rotation:\n",
    "    p.batting_rating = None\n",
    "    p.pitching_rating = None\n",
    "    p.baserunning_rating = None\n",
    "    p.defense_rating = None"
   ]
  },
  {
   "cell_type": "code",
   "execution_count": null,
   "outputs": [],
   "source": [
    "sim = SimulationData.load()\n",
    "display(Markdown(f\"**Last Updated Season {sim.season}, Day {sim.day}**\"))"
   ],
   "metadata": {
    "collapsed": false,
    "pycharm": {
     "name": "#%%\n",
     "is_executing": true
    }
   }
  },
  {
   "cell_type": "markdown",
   "metadata": {},
   "source": [
    "---\n",
    "## Decrees\n",
    "\n",
    "Decrees are chosen by majority votes across all teams. `1` decrees will pass this season."
   ]
  },
  {
   "cell_type": "markdown",
   "source": [
    "### Sun 3\n",
    "**Set Sun. If your Team sweeps all 3 games of a Regular Season series, the final non-loss is worth 2 Wins.**\n",
    "\n",
    "See below for the number of additional Wins this would have added. It is unknown how this interacts with the current\n",
    "Turntables/SunSun mess."
   ],
   "metadata": {
    "collapsed": false,
    "pycharm": {
     "name": "#%% md\n"
    }
   }
  },
  {
   "cell_type": "code",
   "execution_count": null,
   "outputs": [],
   "source": [
    "extra_wins = 0\n",
    "s19_games = Game.load_by_season(season=19, team_id=pies.id)\n",
    "for i in range(0, len(s19_games), 3):\n",
    "    series = list(s19_games.values())[i:i+3]\n",
    "    if series[0].winning_team.id == pies.id and series[1].winning_team.id == pies.id and series[1].winning_team.id == pies.id:\n",
    "        extra_wins += 1\n",
    "print(f\"Pies would have an extra {extra_wins} Wins\")"
   ],
   "metadata": {
    "collapsed": false,
    "pycharm": {
     "name": "#%%\n",
     "is_executing": true
    }
   }
  },
  {
   "cell_type": "markdown",
   "source": [
    "### Sun 9\n",
    "\n",
    "**Set Sun. Non-losses on the Week End (every 9th Day) are worth 2 Wins.**\n",
    "\n",
    "See below for the number of additional Wins this would have added. It is unknown how this interacts with the current\n",
    "Turntables/SunSun mess."
   ],
   "metadata": {
    "collapsed": false,
    "pycharm": {
     "name": "#%% md\n"
    }
   }
  },
  {
   "cell_type": "code",
   "execution_count": null,
   "outputs": [],
   "source": [
    "extra_wins = 0\n",
    "for g in s19_games.values():\n",
    "    if (g.day - 1) % 9 == 8 and g.day <= 99:\n",
    "        if g.winning_team.id == pies.id:\n",
    "            extra_wins += 1\n",
    "print(f\"Pies would have an extra {extra_wins} Wins\")"
   ],
   "metadata": {
    "collapsed": false,
    "pycharm": {
     "name": "#%%\n",
     "is_executing": true
    }
   }
  },
  {
   "cell_type": "markdown",
   "source": [
    "### Sun 30\n",
    "\n",
    "**Set Sun. When a game enters Extra Innings, both Teams will immediately earn 1 Win.**\n",
    "\n",
    "See below for the number of additional Wins this would have added. It is unknown how this interacts with the current\n",
    "Turntables/SunSun mess."
   ],
   "metadata": {
    "collapsed": false
   }
  },
  {
   "cell_type": "code",
   "execution_count": null,
   "outputs": [],
   "source": [
    "extra_wins = 0\n",
    "for g in s19_games.values():\n",
    "    if g.inning > 9:\n",
    "        extra_wins += 1\n",
    "print(f\"Pies would have an extra {extra_wins} Wins\")"
   ],
   "metadata": {
    "collapsed": false,
    "pycharm": {
     "name": "#%%\n",
     "is_executing": true
    }
   }
  },
  {
   "cell_type": "markdown",
   "metadata": {},
   "source": [
    "___\n",
    "## Wills\n",
    "\n",
    "Will are selected for each team by raffle. Each team will draw `2` random wills. The bottom 4 teams in the league by\n",
    "standings will draw `3`. The chosen wills are random, but wills with more votes are more likely to be selected."
   ]
  },
  {
   "cell_type": "markdown",
   "metadata": {},
   "source": [
    "### Equivalent Exchange\n",
    "**Swap a Player from a Team in the League with an Equivalent (within 2 Stars) Player on your Team.**\n",
    "\n",
    "See below for the 20 best swap candidates for a particular player, sorted by highest stats in the applicable position."
   ]
  },
  {
   "cell_type": "code",
   "execution_count": null,
   "outputs": [],
   "source": [
    "league = League.load()\n",
    "all_teams = list(league.teams.values())\n",
    "all_active = []\n",
    "for team in all_teams:\n",
    "    if team.id != pies.id:\n",
    "        all_active.extend(team.lineup + team.rotation)\n",
    "all_total_stars = get_total_stars(all_active)"
   ],
   "metadata": {
    "collapsed": false,
    "pycharm": {
     "name": "#%%\n",
     "is_executing": true
    }
   }
  },
  {
   "cell_type": "code",
   "execution_count": null,
   "outputs": [],
   "source": [
    "for player in pies.lineup:\n",
    "    total_stars = get_total_stars(player)[player.id]\n",
    "    valid_total_stars = {k: v for k, v in all_total_stars.items() if total_stars-2 < v < total_stars+2}\n",
    "    player_matches = [x for x in all_active if x.id in valid_total_stars.keys()]\n",
    "    player_matches.sort(key=lambda x: x.batting_rating, reverse=True)\n",
    "    display(Markdown(f\"####{player.name}\"))\n",
    "    display(get_stars([player] + player_matches[0:20], include_team=True))\n",
    "    display(set_heatmap(get_batting_stlats([player] + player_matches[0:20]), maxVal=1.5))"
   ],
   "metadata": {
    "collapsed": false,
    "pycharm": {
     "name": "#%%\n",
     "is_executing": true
    }
   }
  },
  {
   "cell_type": "code",
   "execution_count": null,
   "outputs": [],
   "source": [
    "for player in pies.rotation:\n",
    "    total_stars = get_total_stars(player)[player.id]\n",
    "    valid_total_stars = {k: v for k, v in all_total_stars.items() if total_stars-2 < v < total_stars+2}\n",
    "    player_matches = [x for x in all_active if x.id in valid_total_stars.keys()]\n",
    "    player_matches.sort(key=lambda x: x.pitching_rating, reverse=True)\n",
    "    display(Markdown(f\"####{player.name}\"))\n",
    "    display(get_stars([player] + player_matches[0:20], include_team=True))\n",
    "    display(set_heatmap(get_pitching_stlats([player] + player_matches[0:20]), maxVal=1.5))"
   ],
   "metadata": {
    "collapsed": false,
    "pycharm": {
     "name": "#%%\n",
     "is_executing": true
    }
   }
  },
  {
   "cell_type": "markdown",
   "source": [
    "### Swap\n",
    "**Swap two Players on your Team's Roster.**\n",
    "\n",
    "This allows switching the position of any two players, including from the shadows. Because the most complex iteration of\n",
    "this is shadows swaps, see below for that analysis."
   ],
   "metadata": {
    "collapsed": false
   }
  },
  {
   "cell_type": "markdown",
   "source": [
    "**Batting:**"
   ],
   "metadata": {
    "collapsed": false
   }
  },
  {
   "cell_type": "code",
   "execution_count": null,
   "outputs": [],
   "source": [
    "shadows = real_pies.shadows\n",
    "shadows.sort(key=lambda x: x.batting_rating, reverse=True)\n",
    "best_batting_shadows = shadows[0:4]\n",
    "worst_batter = sort_lineup(pies, 1)[0]\n",
    "\n",
    "display(get_stars([worst_batter] + best_batting_shadows))\n",
    "display(set_heatmap(get_batting_stlats([worst_batter] + best_batting_shadows), maxVal=1))"
   ],
   "metadata": {
    "collapsed": false,
    "pycharm": {
     "name": "#%%\n",
     "is_executing": true
    }
   }
  },
  {
   "cell_type": "markdown",
   "source": [
    "**Pitching:**"
   ],
   "metadata": {
    "collapsed": false
   }
  },
  {
   "cell_type": "code",
   "execution_count": null,
   "outputs": [],
   "source": [
    "shadows.sort(key=lambda x: x.pitching_rating, reverse=True)\n",
    "best_pitching_shadows = shadows[0:4]\n",
    "worst_pitcher = sort_rotation(pies, 1)[0]\n",
    "\n",
    "display(get_stars([worst_pitcher] + best_pitching_shadows))\n",
    "display(set_heatmap(get_pitching_stlats([worst_pitcher] + best_pitching_shadows), maxVal=1))"
   ],
   "metadata": {
    "collapsed": false,
    "pycharm": {
     "name": "#%%\n",
     "is_executing": true
    }
   }
  },
  {
   "cell_type": "markdown",
   "source": [
    "### Move\n",
    "**Move a Player on your Team to the desired location on your Roster.**\n",
    "\n",
    "Move would move a player from any location on the team (including Shadows) to another position, increasing the number\n",
    "of players in that position. See below for moving various players into different positions.\n",
    "\n",
    "**Batting**"
   ],
   "metadata": {
    "collapsed": false,
    "pycharm": {
     "name": "#%% md\n"
    }
   }
  },
  {
   "cell_type": "code",
   "execution_count": null,
   "outputs": [],
   "source": [
    "bhp = best_hitting_pitcher(real_pies)\n",
    "bph = best_pitching_hitter(real_pies)\n",
    "worst_batter = sort_lineup(real_pies, num=1)[0]\n",
    "worst_pitcher = sort_rotation(real_pies, num=1)[0]\n",
    "\n",
    "display(Markdown(f\"Moving {bhp.name} to the Lineup\"))\n",
    "display(pandas.DataFrame(move_player(pies, bhp, \"lineup\")))\n",
    "\n",
    "display(Markdown(f\"Moving {worst_batter.name} to the Shadows\"))\n",
    "display(pandas.DataFrame(move_player(pies, worst_batter, \"shadows\")))\n",
    "\n",
    "display(Markdown(f\"Moving {best_batting_shadows[0].name} to the Lineup\"))\n",
    "display(pandas.DataFrame(move_player(pies, best_batting_shadows[0], \"lineup\")))"
   ],
   "metadata": {
    "collapsed": false,
    "pycharm": {
     "name": "#%%\n",
     "is_executing": true
    }
   }
  },
  {
   "cell_type": "markdown",
   "source": [
    "**Pitching**"
   ],
   "metadata": {
    "collapsed": false,
    "pycharm": {
     "name": "#%% md\n"
    }
   }
  },
  {
   "cell_type": "code",
   "execution_count": null,
   "outputs": [],
   "source": [
    "display(Markdown(f\"Moving {bph.name} to the Rotation\"))\n",
    "display(pandas.DataFrame(move_player(pies, bph, \"rotation\")))\n",
    "\n",
    "display(Markdown(f\"Moving {worst_pitcher.name} to the Shadows\"))\n",
    "display(pandas.DataFrame(move_player(pies, worst_pitcher, \"shadows\")))\n",
    "\n",
    "display(Markdown(f\"Moving {best_pitching_shadows[0].name} to the Rotation\"))\n",
    "display(pandas.DataFrame(move_player(pies, best_pitching_shadows[0], \"rotation\")))"
   ],
   "metadata": {
    "collapsed": false,
    "pycharm": {
     "name": "#%%\n",
     "is_executing": true
    }
   }
  },
  {
   "cell_type": "markdown",
   "source": [
    "### Item Steal\n",
    "**Take an Item, repair it, and move it to a Player on your Team.**\n",
    "\n",
    "This would steal an item from another team and give it to a chosen player on our team. The player receiving the item\n",
    "will drop a random item if there are no open item slots. See below for a list of all non-base items held by players in\n",
    "the league."
   ],
   "metadata": {
    "collapsed": false,
    "pycharm": {
     "name": "#%% md\n"
    }
   }
  },
  {
   "cell_type": "code",
   "execution_count": null,
   "outputs": [],
   "source": [
    "players = Player.load_all()\n",
    "carried_items = []\n",
    "for p in players.values():\n",
    "    if getattr(p,\"_league_team_id\", None) == pies.id:\n",
    "        continue\n",
    "    for item in p.items:\n",
    "        if len(item.adjustments) > 1:\n",
    "            carried_items.append((p, item))\n",
    "\n",
    "table = []\n",
    "for p, i in carried_items:\n",
    "    mods = [Modification.load_one(a[\"mod\"]).title for a in i.adjustments if a[\"type\"] == 0]\n",
    "    table.append(pandas.Series({\"Wielder\": p.name, \"Team\": p.league_team.nickname, \"Max Durability\": i.durability, \"Modifications\": mods}, name=i.name))\n",
    "pandas.DataFrame(table)"
   ],
   "metadata": {
    "collapsed": false,
    "pycharm": {
     "name": "#%%\n",
     "is_executing": true
    }
   }
  },
  {
   "cell_type": "markdown",
   "metadata": {},
   "source": [
    "### Shadow Infuse\n",
    "**Boost a random Stat Category of a Player in your Shadows by 20% to 40%.**\n",
    "\n",
    "See below for how this would affect various team members at the 2 extreme percentages. This will only affect one player.\n",
    "\n",
    "#### Batting"
   ]
  },
  {
   "cell_type": "code",
   "execution_count": null,
   "outputs": [],
   "source": [
    "display(Markdown(\"**20% Change**\"))\n",
    "infuse_batting_table, _, _ = improve_team_batting_table(real_pies, 0.20, shadows=True)\n",
    "display(infuse_batting_table)\n",
    "display(set_heatmap(get_batting_stlats(improve_team_batting(real_pies, 0.20, shadows=True)), maxVal=1))"
   ],
   "metadata": {
    "collapsed": false,
    "pycharm": {
     "name": "#%%\n",
     "is_executing": true
    }
   }
  },
  {
   "cell_type": "code",
   "execution_count": null,
   "outputs": [],
   "source": [
    "display(Markdown(\"**40% Change**\"))\n",
    "infuse_batting_table, _, _ = improve_team_batting_table(real_pies, 0.40, shadows=True)\n",
    "display(infuse_batting_table)\n",
    "display(set_heatmap(get_batting_stlats(improve_team_batting(real_pies, 0.40, shadows=True)), maxVal=1))"
   ],
   "metadata": {
    "collapsed": false,
    "pycharm": {
     "name": "#%%\n",
     "is_executing": true
    }
   }
  },
  {
   "cell_type": "markdown",
   "source": [
    "#### Pitching"
   ],
   "metadata": {
    "collapsed": false,
    "pycharm": {
     "name": "#%% md\n"
    }
   }
  },
  {
   "cell_type": "code",
   "execution_count": null,
   "outputs": [],
   "source": [
    "display(Markdown(\"**20% Change**\"))\n",
    "infuse_pitching_table, _, _ = improve_team_pitching_table(real_pies, 0.20, shadows=True)\n",
    "display(infuse_pitching_table)\n",
    "display(set_heatmap(get_pitching_stlats(improve_team_pitching(real_pies, 0.20, shadows=True)), maxVal=1))"
   ],
   "metadata": {
    "collapsed": false,
    "pycharm": {
     "name": "#%%\n",
     "is_executing": true
    }
   }
  },
  {
   "cell_type": "code",
   "execution_count": null,
   "outputs": [],
   "source": [
    "display(Markdown(\"**40% Change**\"))\n",
    "infuse_pitching_table, _, _ = improve_team_pitching_table(real_pies, 0.40, shadows=True)\n",
    "display(infuse_pitching_table)\n",
    "display(set_heatmap(get_pitching_stlats(improve_team_pitching(real_pies, 0.40, shadows=True)), maxVal=1))"
   ],
   "metadata": {
    "collapsed": false,
    "pycharm": {
     "name": "#%%\n",
     "is_executing": true
    }
   }
  },
  {
   "cell_type": "markdown",
   "source": [
    "#### Baserunning"
   ],
   "metadata": {
    "collapsed": false
   }
  },
  {
   "cell_type": "code",
   "execution_count": null,
   "outputs": [],
   "source": [
    "display(Markdown(\"**20% Change**\"))\n",
    "infuse_baserunning_table, _, _ = improve_team_baserunning_table(real_pies, 0.20, shadows=True)\n",
    "display(infuse_baserunning_table)\n",
    "display(set_heatmap(get_baserunning_stlats(improve_team_baserunning(real_pies, 0.20, shadows=True)), maxVal=1))"
   ],
   "metadata": {
    "collapsed": false,
    "pycharm": {
     "name": "#%%\n",
     "is_executing": true
    }
   }
  },
  {
   "cell_type": "code",
   "execution_count": null,
   "outputs": [],
   "source": [
    "display(Markdown(\"**40% Change**\"))\n",
    "infuse_baserunning_table, _, _ = improve_team_baserunning_table(real_pies, 0.40, shadows=True)\n",
    "display(infuse_baserunning_table)\n",
    "display(set_heatmap(get_baserunning_stlats(improve_team_baserunning(real_pies, 0.40, shadows=True)), maxVal=1))"
   ],
   "metadata": {
    "collapsed": false,
    "pycharm": {
     "name": "#%%\n",
     "is_executing": true
    }
   }
  },
  {
   "cell_type": "markdown",
   "source": [
    "#### Defense"
   ],
   "metadata": {
    "collapsed": false,
    "pycharm": {
     "name": "#%% md\n"
    }
   }
  },
  {
   "cell_type": "code",
   "execution_count": null,
   "outputs": [],
   "source": [
    "display(Markdown(\"**20% Change**\"))\n",
    "infuse_defense_table, _, _ = improve_team_defense_table(real_pies, 0.20, shadows=True)\n",
    "display(infuse_defense_table)\n",
    "display(set_heatmap(get_defense_stlats(improve_team_defense(real_pies, 0.20, shadows=True)), maxVal=1))"
   ],
   "metadata": {
    "collapsed": false,
    "pycharm": {
     "name": "#%%\n",
     "is_executing": true
    }
   }
  },
  {
   "cell_type": "code",
   "execution_count": null,
   "outputs": [],
   "source": [
    "display(Markdown(\"**40% Change**\"))\n",
    "infuse_defense_table, _, _ = improve_team_defense_table(real_pies, 0.40, shadows=True)\n",
    "display(infuse_defense_table)\n",
    "display(set_heatmap(get_defense_stlats(improve_team_defense(real_pies, 0.40, shadows=True)), maxVal=1))"
   ],
   "metadata": {
    "collapsed": false,
    "pycharm": {
     "name": "#%%\n",
     "is_executing": true
    }
   }
  },
  {
   "cell_type": "markdown",
   "source": [
    "### Shadow Revoke\n",
    "**Revoke a Player from your Team's Shadows.**\n",
    "\n",
    "This would remove a player from our shadows by moving them to another team, without providing a replacement."
   ],
   "metadata": {
    "collapsed": false,
    "pycharm": {
     "name": "#%% md\n"
    }
   }
  },
  {
   "cell_type": "markdown",
   "source": [
    "### Reform\n",
    "**Re-roll an eligible Permanent Modification for a Player on your Team.**\n",
    "\n",
    "Below is a list of all players with modifications that could be rerolled. It would be better to reroll modifications\n",
    "with negative effects."
   ],
   "metadata": {
    "collapsed": false
   }
  },
  {
   "cell_type": "code",
   "execution_count": null,
   "outputs": [],
   "source": [
    "mod_players = [x for x in pies.lineup + pies.rotation if len(x.perm_attr) > 0]\n",
    "mod_list = pandas.DataFrame()\n",
    "for player in mod_players:\n",
    "    data = pandas.Series({\"mods\": [x.title for x in player.perm_attr if x.id not in UNREFORMED_MODS]}, name=player.name)\n",
    "    if len(data[\"mods\"]) == 0:\n",
    "        continue\n",
    "    mod_list = mod_list.append(data)\n",
    "mod_list"
   ],
   "metadata": {
    "collapsed": false,
    "pycharm": {
     "name": "#%%\n",
     "is_executing": true
    }
   }
  },
  {
   "cell_type": "markdown",
   "metadata": {},
   "source": [
    "### Magnify\n",
    "**Magnify a Player on your Team. Runs batted in or allowed by this Player are multiplied.**\n",
    "\n",
    "See below for amount of runs batted in/allowed for each player in the previous season. It is unknown what the mutliplier amount is."
   ]
  },
  {
   "cell_type": "code",
   "execution_count": null,
   "outputs": [],
   "source": [
    "table = get_batting_stats(pies.lineup, season=19)\n",
    "table.filter(items=[\"runs_batted_in\"])"
   ],
   "metadata": {
    "collapsed": false,
    "pycharm": {
     "name": "#%%\n",
     "is_executing": true
    }
   }
  },
  {
   "cell_type": "code",
   "execution_count": null,
   "outputs": [],
   "source": [
    "table = get_pitching_stats(pies.rotation, season=19)\n",
    "table.filter(items=[\"runs_allowed\"])"
   ],
   "metadata": {
    "collapsed": false,
    "pycharm": {
     "name": "#%%\n",
     "is_executing": true
    }
   }
  },
  {
   "cell_type": "markdown",
   "metadata": {},
   "source": [
    "___\n",
    "## Blessings\n",
    "\n",
    "Blessings are selected by raffle across all teams. Each blessing will be awarded to one random team, where teams with\n",
    "more votes are more likely to be selected."
   ]
  },
  {
   "cell_type": "markdown",
   "metadata": {},
   "source": [
    "### TWO FREAKIN BATS\n",
    "**Two random Players in your Team's Lineup with an available Item slot (empty or broken) will open Handcrafted Aluminum Bat Crates.**\n",
    "\n",
    "[Two of them](https://www.youtube.com/watch?v=btHpHjabRcc). Aluminum bats increase Ground Friction while reducing\n",
    "Musclitude and Buoyancy. See below for list of batters with an empty item slot."
   ]
  },
  {
   "cell_type": "code",
   "execution_count": null,
   "outputs": [],
   "source": [
    "free_items = [x for x in pies.lineup if (x.evolution + 1) - len([x for x in x.items if not x.is_broken]) > 0]\n",
    "get_stars(free_items)"
   ],
   "metadata": {
    "collapsed": false,
    "pycharm": {
     "name": "#%%\n",
     "is_executing": true
    }
   }
  },
  {
   "cell_type": "markdown",
   "metadata": {},
   "source": [
    "### Shadow Capes Supply Run\n",
    "**All Players in your Team's Shadows with an available Item slot will open a Generic Cape Crate.**\n",
    "\n",
    "Capes add Watchfulness, which is a defense stat. See below for list of shadow players with open item slots"
   ]
  },
  {
   "cell_type": "code",
   "execution_count": null,
   "outputs": [],
   "source": [
    "free_items = [x for x in pies.shadows if (x.evolution + 1) - len([x for x in x.items if not x.is_broken]) > 0]\n",
    "get_stars(free_items)"
   ],
   "metadata": {
    "collapsed": false,
    "pycharm": {
     "name": "#%%\n",
     "is_executing": true
    }
   }
  },
  {
   "cell_type": "markdown",
   "metadata": {},
   "source": [
    "### Shots in the Dark\n",
    "**Call the Negative Alternates (maintaining Star count) for 5 random Players in your Team's Shadows.**\n",
    "\n",
    "A Negative Alternate is a player reroll (maintaining Combined Star value), while adding the Negative mod which makes\n",
    "their eDensity Negative. See below for our current shadows, the target is random."
   ]
  },
  {
   "cell_type": "code",
   "execution_count": null,
   "outputs": [],
   "source": [
    "get_stars(pies.shadows)"
   ],
   "metadata": {
    "collapsed": false,
    "pycharm": {
     "name": "#%%\n",
     "is_executing": true
    }
   }
  },
  {
   "cell_type": "markdown",
   "source": [
    "### Couldn't Hurt\n",
    "**Call the Negative Alternates (maintaining Star count) for the 2 worst Players on your Team's Active Roster.**\n",
    "\n",
    "A Negative Alternate is a player reroll (maintaining Combined Star value), while adding the Negative mod which makes\n",
    "their eDensity Negative. See below for the 2 worst players on the team."
   ],
   "metadata": {
    "collapsed": false
   }
  },
  {
   "cell_type": "code",
   "execution_count": null,
   "outputs": [],
   "source": [
    "worst_pies = sort_overall(pies, num=2)\n",
    "get_stars(worst_pies)"
   ],
   "metadata": {
    "collapsed": false,
    "pycharm": {
     "name": "#%%\n",
     "is_executing": true
    }
   }
  },
  {
   "cell_type": "markdown",
   "metadata": {},
   "source": [
    "### Green Light\n",
    "**One Player on all Teams in your Division will play 50% better in Polarity Plus Weather and 50% worse in Polarity Minus Weather.**\n",
    "\n",
    "~Random~. Playing worse in Polarity Minus is good if it hits a batter, because you dont want to score when it would result in unruns."
   ]
  },
  {
   "cell_type": "markdown",
   "source": [
    "### Sponge Blob\n",
    "**Give all Players with Ego on your Team's Roster the Sponge modification.**\n",
    "\n",
    "See below for list of players with any level of Ego. The effect of the Sponge modification is unknown."
   ],
   "metadata": {
    "collapsed": false,
    "pycharm": {
     "name": "#%% md\n"
    }
   }
  },
  {
   "cell_type": "code",
   "execution_count": null,
   "outputs": [],
   "source": [
    "egod = [x for x in pies.lineup + pies.rotation + pies.shadows if any(mod in (\"EGO1\", \"EGO2\", \"EGO3\", \"EGO4\") for mod in x._perm_attr_ids)]\n",
    "get_stars(egod)"
   ],
   "metadata": {
    "collapsed": false,
    "pycharm": {
     "name": "#%%\n",
     "is_executing": true
    }
   }
  },
  {
   "cell_type": "markdown",
   "source": [
    "### Heavy-Handed & Light-Handed\n",
    "**Your Team becomes Heavy-Handed, making all Items held by Players on the Team positively eDense.**\n",
    "\n",
    "**Your Team becomes Light-Handed, making all Items held by Players on the Team negatively eDense.**\n",
    "\n",
    "Items are currently not contributing to eDensity for either players or teams, so the exact effect of these is unknown."
   ],
   "metadata": {
    "collapsed": false
   }
  },
  {
   "cell_type": "markdown",
   "source": [
    "### Strange Attractor\n",
    "**Recruit a Random Player in the League with the Attractor Modification to your Team.**\n",
    "\n",
    "See below for list of all active players with Attractor. This will not remove an existing player from our team.\n",
    "\n",
    "Notes:\n",
    "* This lists the False Stars, they will play using their player attributes instead."
   ],
   "metadata": {
    "collapsed": false
   }
  },
  {
   "cell_type": "code",
   "execution_count": null,
   "outputs": [],
   "source": [
    "attractors = []\n",
    "for team in all_teams:\n",
    "    attractors.extend([x for x in team.lineup + team.rotation if \"ATTRACTOR\" in x._perm_attr_ids])\n",
    "display(get_stars(attractors, include_team=True))"
   ],
   "metadata": {
    "collapsed": false,
    "pycharm": {
     "name": "#%%\n",
     "is_executing": true
    }
   }
  },
  {
   "cell_type": "markdown",
   "source": [
    "### Fringe Benefit\n",
    "**Recruit a Random Player with the Perk Modification to your Team.**\n",
    "\n",
    "See below for list of all active players with Perk. This will not remove an existing player from our team. Note that\n",
    "Perk adds to eDensity."
   ],
   "metadata": {
    "collapsed": false,
    "pycharm": {
     "name": "#%% md\n"
    }
   }
  },
  {
   "cell_type": "code",
   "execution_count": null,
   "outputs": [],
   "source": [
    "attractors = []\n",
    "for team in all_teams:\n",
    "    attractors.extend([x for x in team.lineup + team.rotation  if \"PERK\" in x._perm_attr_ids])\n",
    "display(get_stars(attractors, include_team=True))"
   ],
   "metadata": {
    "collapsed": false,
    "pycharm": {
     "name": "#%%\n",
     "is_executing": true
    }
   }
  },
  {
   "cell_type": "markdown",
   "source": [
    "### Pitch Runner\n",
    "**Move the Best Baserunner in your Team's Rotation to a random spot in your Team's Lineup.**\n",
    "\n",
    "This would move the following player to our lineup."
   ],
   "metadata": {
    "collapsed": false,
    "pycharm": {
     "name": "#%% md\n"
    }
   }
  },
  {
   "cell_type": "code",
   "execution_count": null,
   "outputs": [],
   "source": [
    "temp_pies = pies.rotation.copy()\n",
    "temp_pies.sort(key=lambda x: x.get_baserunning_rating(), reverse=True)\n",
    "display(get_stars(temp_pies[0]))\n",
    "set_heatmap(get_batting_stlats([temp_pies[0]] + pies.lineup), maxVal=1.0)"
   ],
   "metadata": {
    "collapsed": false,
    "pycharm": {
     "name": "#%%\n",
     "is_executing": true
    }
   }
  },
  {
   "cell_type": "markdown",
   "source": [
    "### Slowpoke\n",
    "**Move the Worst Baserunner in your Team's Lineup to a random spot in your Team's Rotation.**\n",
    "\n",
    "This would move the following player to our rotation."
   ],
   "metadata": {
    "collapsed": false,
    "pycharm": {
     "name": "#%% md\n"
    }
   }
  },
  {
   "cell_type": "code",
   "execution_count": null,
   "outputs": [],
   "source": [
    "temp_pies = pies.lineup.copy()\n",
    "temp_pies.sort(key=lambda x: x.get_baserunning_rating())\n",
    "display(get_stars(temp_pies[0]))\n",
    "set_heatmap(get_pitching_stlats([temp_pies[0]] + pies.rotation), maxVal=1.0)"
   ],
   "metadata": {
    "collapsed": false,
    "pycharm": {
     "name": "#%%\n",
     "is_executing": true
    }
   }
  },
  {
   "cell_type": "markdown",
   "source": [
    "### Stuck in the Freezer\n",
    "**A Random Player in your Team's Rotation will have their Coldness Boosted by 40%.**\n",
    "\n",
    "Coldness is currently unknown, though potentially prevents stolen bases. See below for change in player stars and stlats."
   ],
   "metadata": {
    "collapsed": false
   }
  },
  {
   "cell_type": "code",
   "execution_count": null,
   "outputs": [],
   "source": [
    "new_team = []\n",
    "for player in real_pies.rotation:\n",
    "    new_team.append(player.simulated_copy(buffs={\"coldness\": 0.4}))\n",
    "display(get_stars(new_team))\n",
    "display(set_heatmap(get_pitching_stlats(new_team), maxVal=1))"
   ],
   "metadata": {
    "collapsed": false,
    "pycharm": {
     "name": "#%%\n",
     "is_executing": true
    }
   }
  },
  {
   "cell_type": "markdown",
   "source": [
    "### Shot Caller\n",
    "**A Random Player in your Team's Lineup will be 40% better at landing Home Runs in a Big Bucket.**\n",
    "\n",
    "See below for list of teams that currently have Big Buckets in their Stadium."
   ],
   "metadata": {
    "collapsed": false,
    "pycharm": {
     "name": "#%% md\n"
    }
   }
  },
  {
   "cell_type": "code",
   "execution_count": null,
   "outputs": [],
   "source": [
    "stadiums = Stadium.load_all()\n",
    "table = pandas.DataFrame()\n",
    "for s in stadiums.values():\n",
    "    if \"BIG_BUCKET\" in s._mods_ids:\n",
    "        table = table.append(pandas.Series({\"Stadium Name\": s.name}, name=s.team_id.nickname))\n",
    "table"
   ],
   "metadata": {
    "collapsed": false,
    "pycharm": {
     "name": "#%%\n",
     "is_executing": true
    }
   }
  },
  {
   "cell_type": "markdown",
   "source": [
    "### Cool Off\n",
    "**All Players in your Team's Rotation will gain 20% Coldness but lose 5% Ruthlessness.**\n",
    "\n",
    "Coldness is unknown, and Ruthlessness is more correlated to increased strikes and fewer balls thrown. See below for\n",
    "change in team stats."
   ],
   "metadata": {
    "collapsed": false,
    "pycharm": {
     "name": "#%% md\n"
    }
   }
  },
  {
   "cell_type": "code",
   "execution_count": null,
   "outputs": [],
   "source": [
    "new_team = []\n",
    "for player in real_pies.rotation:\n",
    "    new_team.append(player.simulated_copy(buffs={\"coldness\": 0.2, \"ruthlessness\": -0.05}))\n",
    "display(set_heatmap(get_pitching_stlats(new_team), maxVal=1))"
   ],
   "metadata": {
    "collapsed": false,
    "pycharm": {
     "name": "#%%\n",
     "is_executing": true
    }
   }
  },
  {
   "cell_type": "markdown",
   "source": [
    "### Global Guts\n",
    "**All Players in your Team's Lineup will gain 20% Moxie but lose 5% Thwackability.**\n",
    "\n",
    "Moxie correlates to better plate discipline (more walks), and thwackability correlates to better contact. See below for\n",
    "change in team stats."
   ],
   "metadata": {
    "collapsed": false,
    "pycharm": {
     "name": "#%% md\n"
    }
   }
  },
  {
   "cell_type": "code",
   "execution_count": null,
   "outputs": [],
   "source": [
    "new_team = []\n",
    "for player in real_pies.lineup:\n",
    "    new_team.append(player.simulated_copy(buffs={\"moxie\": 0.2, \"thwackability\": -0.05}))\n",
    "display(set_heatmap(get_batting_stlats(new_team), maxVal=1))"
   ],
   "metadata": {
    "collapsed": false,
    "pycharm": {
     "name": "#%%\n",
     "is_executing": true
    }
   }
  },
  {
   "cell_type": "markdown",
   "source": [
    "### Backup or Down\n",
    "**Flip the eDensity of the most eDense Player in your Team's Shadows.**\n",
    "\n",
    "This would make the most dense shadows player have the Negative modification, making their eDensity negative."
   ],
   "metadata": {
    "collapsed": false
   }
  },
  {
   "cell_type": "code",
   "execution_count": null,
   "outputs": [],
   "source": [
    "temp_pies = pies.shadows.copy()\n",
    "temp_pies.sort(key=lambda x: x.e_density, reverse=True)\n",
    "display(f\"{temp_pies[0].name} eDensity change: {temp_pies[0].e_density} to {-temp_pies[0].e_density}\")\n",
    "display(f\"Total Team eDensity change: {pies.e_density} to {pies.e_density - 2*temp_pies[0].e_density}\")"
   ],
   "metadata": {
    "collapsed": false,
    "pycharm": {
     "name": "#%%\n",
     "is_executing": true
    }
   }
  },
  {
   "cell_type": "markdown",
   "source": [
    "### Complete 180\n",
    "\n",
    "**Flip the eDensity of the most eDense Player in your Team's Rotation.**\n",
    "\n",
    "This would make the most dense pitcher have the Negative modification, making their eDensity negative."
   ],
   "metadata": {
    "collapsed": false,
    "pycharm": {
     "name": "#%% md\n"
    }
   }
  },
  {
   "cell_type": "code",
   "execution_count": null,
   "outputs": [],
   "source": [
    "temp_pies = pies.rotation.copy()\n",
    "temp_pies.sort(key=lambda x: x.e_density, reverse=True)\n",
    "display(f\"{temp_pies[0].name} eDensity change: {temp_pies[0].e_density} to {-temp_pies[0].e_density}\")\n",
    "display(f\"Total Team eDensity change: {pies.e_density} to {pies.e_density - 2*temp_pies[0].e_density}\")"
   ],
   "metadata": {
    "collapsed": false,
    "pycharm": {
     "name": "#%%\n",
     "is_executing": true
    }
   }
  },
  {
   "cell_type": "markdown",
   "source": [
    "### Head over Tails\n",
    "\n",
    "**Flip the eDensity of the most eDense Player in your Team's Lineup.**\n",
    "\n",
    "This would make the most dense batter have the Negative modification, making their eDensity negative."
   ],
   "metadata": {
    "collapsed": false,
    "pycharm": {
     "name": "#%% md\n"
    }
   }
  },
  {
   "cell_type": "code",
   "execution_count": null,
   "outputs": [],
   "source": [
    "temp_pies = pies.lineup.copy()\n",
    "temp_pies.sort(key=lambda x: x.e_density, reverse=True)\n",
    "display(f\"{temp_pies[0].name} eDensity change: {temp_pies[0].e_density} to {-temp_pies[0].e_density}\")\n",
    "display(f\"Total Team eDensity change: {pies.e_density} to {pies.e_density - 2*temp_pies[0].e_density}\")"
   ],
   "metadata": {
    "collapsed": false,
    "pycharm": {
     "name": "#%%\n",
     "is_executing": true
    }
   }
  },
  {
   "cell_type": "markdown",
   "source": [
    "### Low Five\n",
    "\n",
    "**Flip the eDensity of the five least eDense Players on your Team's Roster.**\n",
    "\n",
    "See below for list of players and their eDensity impact."
   ],
   "metadata": {
    "collapsed": false,
    "pycharm": {
     "name": "#%% md\n"
    }
   }
  },
  {
   "cell_type": "code",
   "execution_count": null,
   "outputs": [],
   "source": [
    "temp_pies = pies.lineup.copy() + pies.rotation.copy() + pies.shadows.copy()\n",
    "temp_pies.sort(key=lambda x: x.e_density)\n",
    "table = pandas.DataFrame()\n",
    "for p in temp_pies[0:5]:\n",
    "    table = table.append(pandas.Series({\"eDensity\": p.e_density}, name=p.name))\n",
    "display(table)\n",
    "density_sum = sum([x.e_density for x in temp_pies[0:5]])\n",
    "display(f\"Total Team eDensity change: {pies.e_density} to {pies.e_density - 2*density_sum}\")"
   ],
   "metadata": {
    "collapsed": false,
    "pycharm": {
     "name": "#%%\n",
     "is_executing": true
    }
   }
  },
  {
   "cell_type": "markdown",
   "source": [
    "### Slow Clap\n",
    "\n",
    "**The first Player in your Team's Lineup will gain the Slow Build mod.**\n",
    "\n",
    "Slow Build makes players bat 1% better for each At Bat in a game, resetting at the beginning of each game."
   ],
   "metadata": {
    "collapsed": false,
    "pycharm": {
     "name": "#%% md\n"
    }
   }
  },
  {
   "cell_type": "markdown",
   "source": [
    "### States of Play\n",
    "\n",
    "**Give all Elsewhere or Scattered Players on your Team's Roster the Undefined mod.**\n",
    "\n",
    "Undefined makes a player play 50-100% better while Scattered. See below for list of Elsewhere of Scattered players."
   ],
   "metadata": {
    "collapsed": false
   }
  },
  {
   "cell_type": "code",
   "execution_count": null,
   "outputs": [],
   "source": [
    "scattered = [x for x in pies.lineup + pies.rotation + pies.shadows if any(mod in (\"SCATTERED\", \"ELSEWHERE\") for mod in x._perm_attr_ids)]\n",
    "get_stars(scattered)"
   ],
   "metadata": {
    "collapsed": false,
    "pycharm": {
     "name": "#%%\n",
     "is_executing": true
    }
   }
  },
  {
   "cell_type": "markdown",
   "source": [
    "### Solo Stroll\n",
    "\n",
    "**The worst Batter in your Team's Lineup will draw a walk on 3 balls instead of 4.**\n",
    "\n",
    "This would add permanent Walk in the Park to our worst batter, listed below."
   ],
   "metadata": {
    "collapsed": false
   }
  },
  {
   "cell_type": "code",
   "execution_count": null,
   "outputs": [],
   "source": [
    "get_stars(worst_batter)"
   ],
   "metadata": {
    "collapsed": false,
    "pycharm": {
     "name": "#%%\n",
     "is_executing": true
    }
   }
  },
  {
   "cell_type": "markdown",
   "source": [
    "### Targeted Evolution\n",
    "\n",
    "**A random pitcher and a random hitter on your Team will Advance.**\n",
    "\n",
    "An Advanced player will gain one evolution level, increasing their minimum star level by one for all stats and raising\n",
    "their stars to the minimum if they are lower than that. It also allows players to hold an additional item."
   ],
   "metadata": {
    "collapsed": false
   }
  },
  {
   "cell_type": "markdown",
   "source": [
    "## Gifts\n",
    "\n",
    "Gifts are awarded to teams based on contributions from other teams. Each team creates a Wishlist of items that they\n",
    "would like, and the top items on the wishlist are awarded during the Latesiesta."
   ],
   "metadata": {
    "collapsed": false
   }
  },
  {
   "cell_type": "markdown",
   "source": [
    "### eDense Infusion\n",
    "\n",
    "**Ratings Boost! Add the eDense Element to 20% of the non-eDense Items held by Players on your Team.**\n",
    "\n",
    "It is unknown what item eDensity is or how it effects the sim."
   ],
   "metadata": {
    "collapsed": false,
    "pycharm": {
     "name": "#%% md\n"
    }
   }
  },
  {
   "cell_type": "markdown",
   "source": [
    "### Collector's Editions\n",
    "\n",
    "Collectors Editions move a Legendary player to the team. Replicas act as copies of that player and will turn to Dust\n",
    "after elections.\n",
    "\n",
    "Special Notes:\n",
    "* Nagomi has fake Attractor stars, this analysis uses the player attributes.\n",
    "* Chorby is still unstable, and is likely to get incinerated if possible.\n",
    "* Chorby replicas have 0 soul, so are safe from consumers"
   ],
   "metadata": {
    "collapsed": false
   }
  },
  {
   "cell_type": "code",
   "execution_count": null,
   "outputs": [],
   "source": [
    "york = Player.find_by_name(\"York Silk\")\n",
    "nagomi = Player.find_by_name(\"Nagomi Mcdaniel\")\n",
    "nagomi.batting_rating = None\n",
    "nagomi.baserunning_rating = None\n",
    "nagomi.defense_rating = None\n",
    "aldon = Player.find_by_name(\"Aldon Cashmoney\")\n",
    "goodwin = Player.find_by_name(\"Goodwin Morin\")\n",
    "val = Player.find_by_name(\"Valentine Games\")\n",
    "pm = Player.find_by_name(\"Pitching Machine\")\n",
    "chorby = Player.find_by_name(\"Chorby Soul\")\n",
    "\n",
    "display(Markdown(\"#### Batting\"))\n",
    "display(set_heatmap(get_batting_stlats([chorby, val, aldon, goodwin, pm] + pies.lineup), maxVal=1.5))\n",
    "\n",
    "display(Markdown(\"Adding Chorby Soul\"))\n",
    "display(pandas.DataFrame(move_player(pies, chorby, position='lineup')))\n",
    "\n",
    "display(Markdown(\"Adding Valentine Games\"))\n",
    "display(pandas.DataFrame(move_player(pies, val, position='lineup')))\n",
    "\n",
    "display(Markdown(\"Adding Aldon Cashmoney\"))\n",
    "display(pandas.DataFrame(move_player(pies, aldon, position='lineup')))\n",
    "\n",
    "display(Markdown(\"Adding Goodwin Morin\"))\n",
    "display(pandas.DataFrame(move_player(pies, goodwin, position='lineup')))\n",
    "\n",
    "display(Markdown(\"Adding Pitching Machine\"))\n",
    "display(pandas.DataFrame(move_player(pies, pm, position='lineup')))\n",
    "\n",
    "display(Markdown(\"#### Pitching\"))\n",
    "display(set_heatmap(get_pitching_stlats([nagomi, chorby] + pies.rotation), maxVal=1.5))\n",
    "\n",
    "display(Markdown(\"Adding Nagomi McDaniel\"))\n",
    "display(pandas.DataFrame(move_player(pies, nagomi, position='rotation')))\n",
    "\n",
    "display(Markdown(\"Adding Chorby Soul\"))\n",
    "display(pandas.DataFrame(move_player(pies, chorby, position='rotation')))"
   ],
   "metadata": {
    "collapsed": false,
    "pycharm": {
     "name": "#%%\n",
     "is_executing": true
    }
   }
  },
  {
   "cell_type": "markdown",
   "source": [
    "### Solo Editions\n",
    "\n",
    "These gifts provide a random player with a benefit for the lateseason and postseason.\n",
    "\n",
    "* Ambitious: Player will overperform in the postseason.\n",
    "* Unambitious: Unknown, presumably the opposite of Ambitious."
   ],
   "metadata": {
    "collapsed": false
   }
  },
  {
   "cell_type": "markdown",
   "source": [
    "### Team Editions\n",
    "\n",
    "These gifts provide a team-wide benefit for the lateseason and postseason.\n",
    "\n",
    "* Late to the Party: Team will overperform in the Lateseason.\n",
    "* Early to the Party: Unknown, presumably the opposite of Late to the Party.\n",
    "* Fireproof: Team will be safe from incinerations. Pies only have 1 Solar Eclipse game in the lateseason.\n",
    "* Soundproof: Team will be safe from Feedback. Pies have 2 Feedback weather games in the lateseason.\n",
    "* Gravity: Team will be safe from Reverb. Pies only have 1 Reverb weather game in the lateseason."
   ],
   "metadata": {
    "collapsed": false
   }
  },
  {
   "cell_type": "markdown",
   "source": [
    "### Handcrafted Drops\n",
    "\n",
    "These will provide Items which have additional stat increases and random special effects.\n",
    "\n",
    "|Type | Attribute | Stat |\n",
    "| --- | --- | --- |\n",
    "| Bat | +Thwackability | Batting |\n",
    "| Cap | +Unthwackability | Pitching |\n",
    "| Phone | ??? | ??? |\n",
    "| Quill | ??? | ??? |\n",
    "\n",
    "See below for a list of players that can receive them.\n",
    "\n",
    "The Bats will have Subtractor, converting Runs to UnRuns and vice-versa. The Caps will have Underhanded which will\n",
    "convert earned Home Runs to UnRuns.\n",
    "\n",
    "**Bat**"
   ],
   "metadata": {
    "collapsed": false
   }
  },
  {
   "cell_type": "code",
   "execution_count": null,
   "outputs": [],
   "source": [
    "free_items_lineup = [x for x in pies.lineup if (x.evolution + 1) - len([x for x in x.items if x.health > 0]) > 0]\n",
    "get_stars(free_items_lineup)"
   ],
   "metadata": {
    "collapsed": false,
    "pycharm": {
     "name": "#%%\n",
     "is_executing": true
    }
   }
  },
  {
   "cell_type": "markdown",
   "source": [
    "**Cap, Quill**"
   ],
   "metadata": {
    "collapsed": false
   }
  },
  {
   "cell_type": "code",
   "execution_count": null,
   "outputs": [],
   "source": [
    "free_items_rotation= [x for x in pies.rotation if (x.evolution + 1) - len([x for x in x.items if x.health > 0]) > 0]\n",
    "get_stars(free_items_rotation)"
   ],
   "metadata": {
    "collapsed": false,
    "pycharm": {
     "name": "#%%\n",
     "is_executing": true
    }
   }
  },
  {
   "cell_type": "markdown",
   "source": [
    "**Phone**"
   ],
   "metadata": {
    "collapsed": false
   }
  },
  {
   "cell_type": "code",
   "execution_count": null,
   "outputs": [],
   "source": [
    "free_items = [x for x in pies.lineup + pies.rotation if (x.evolution + 1) - len([x for x in x.items if x.health > 0]) > 0]\n",
    "get_stars(free_items)"
   ],
   "metadata": {
    "collapsed": false,
    "pycharm": {
     "name": "#%%\n",
     "is_executing": true
    }
   }
  },
  {
   "cell_type": "markdown",
   "source": [
    "### Soul Patches\n",
    "\n",
    "**Back by Popular Demand! Give 1 Soul to your least Soul Full player. Repeat 10 times.**\n",
    "\n",
    "See below for final Soul totals. Low soul is dangerous, as Players will become Redacted if their soul hits 0 and\n",
    "Consumers will drain 1 soul per chomp."
   ],
   "metadata": {
    "collapsed": false
   }
  },
  {
   "cell_type": "code",
   "execution_count": null,
   "outputs": [],
   "source": [
    "players = deepcopy(pies.rotation) + deepcopy(pies.lineup)\n",
    "for i in range(0, 10):\n",
    "    players.sort(key=lambda x: x.soul)\n",
    "    worst = players[0]\n",
    "    worst.soul += 1\n",
    "    players = [x for x in players if x.id != worst.id] + [worst]\n",
    "players.sort(key=lambda x: x.soul)\n",
    "x = pandas.DataFrame()\n",
    "for p in players:\n",
    "    old = [x for x in pies.rotation + pies.lineup if x.id == p.id][0]\n",
    "    x = x.append(pandas.Series({\"Soul Added\": p.soul - old.soul,\"Resulting Soul\": p.soul}, name=p.name))\n",
    "x"
   ],
   "metadata": {
    "collapsed": false,
    "pycharm": {
     "name": "#%%\n",
     "is_executing": true
    }
   }
  },
  {
   "cell_type": "markdown",
   "source": [
    "### Bargain Bin\n",
    "\n",
    "**Give a random Player on your Team the Best Item from the Bargain Bin!**\n",
    "\n",
    "The Bargain Bin will retrieve one random previously dropped item. Below is a list of all non-base items not currently\n",
    "held by players."
   ],
   "metadata": {
    "collapsed": false
   }
  },
  {
   "cell_type": "code",
   "execution_count": null,
   "outputs": [],
   "source": [
    "all_items = Item.load_all()\n",
    "rare_items = [x for x in all_items.values() if len(x.adjustments) > 1]\n",
    "players = Player.load_all()\n",
    "carried_items = []\n",
    "for p in players.values():\n",
    "    carried_items.extend(p.items)\n",
    "dropped_items = [x for x in rare_items if x not in carried_items]\n",
    "dropped_items.sort(key=lambda x: len(x.adjustments), reverse=True)\n",
    "\n",
    "table = []\n",
    "for i in dropped_items:\n",
    "    mods = [Modification.load_one(a[\"mod\"]).title for a in i.adjustments if a[\"type\"] == 0]\n",
    "    table.append(pandas.Series({\"Durability\": i.durability, \"Modifications\": mods}, name=i.name))\n",
    "pandas.DataFrame(table)"
   ],
   "metadata": {
    "collapsed": false,
    "pycharm": {
     "name": "#%%\n",
     "is_executing": true
    }
   }
  },
  {
   "cell_type": "markdown",
   "metadata": {
    "pycharm": {
     "name": "#%% md\n"
    }
   },
   "source": [
    "---\n",
    "## Appendix\n",
    "* [Description of Attributes](https://www.blaseball.wiki/w/Player_Attributes)\n",
    "* [Stlat Viewer](https://slavfox.space/abslve/?foreboding-kaleidoscope#PHIL)\n",
    "* [Historical Player Graphs](http://yoori.space/hloroscopes/)\n"
   ]
  }
 ],
 "metadata": {
  "kernelspec": {
   "display_name": "Python 3",
   "language": "python",
   "name": "python3"
  },
  "language_info": {
   "codemirror_mode": {
    "name": "ipython",
    "version": 3
   },
   "file_extension": ".py",
   "mimetype": "text/x-python",
   "name": "python",
   "nbconvert_exporter": "python",
   "pygments_lexer": "ipython3",
   "version": "3.8.5"
  },
  "toc": {
   "base_numbering": 1,
   "nav_menu": {},
   "number_sections": false,
   "sideBar": true,
   "skip_h1_title": false,
   "title_cell": "Table of Contents",
   "title_sidebar": "Table of Contents",
   "toc_cell": false,
   "toc_position": {},
   "toc_section_display": true,
   "toc_window_display": false
  }
 },
 "nbformat": 4,
 "nbformat_minor": 1
}