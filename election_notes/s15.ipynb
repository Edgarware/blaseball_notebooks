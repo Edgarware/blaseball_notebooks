{
 "cells": [
  {
   "cell_type": "markdown",
   "metadata": {},
   "source": [
    "# Season 15 Election Notes\n",
    "\n",
    ">**FORBIDDEN KNOWLEDGE WARNING**\n",
    ">\n",
    ">This document contains some information that is not currently present on the main site and may be considered spoilers.\n",
    ">Continue at your own discretion. Some information in this document cannot be shared on the Discord without spoiler tags."
   ]
  },
  {
   "cell_type": "code",
   "execution_count": 1,
   "metadata": {
    "pycharm": {
     "name": "#%%\n"
    }
   },
   "outputs": [],
   "source": [
    "%matplotlib inline\n",
    "from blaseball_mike.models import *\n",
    "import plotly.express as plot\n",
    "import plotly.io as _pio\n",
    "import plotly.subplots as subplot\n",
    "\n",
    "import os\n",
    "import sys\n",
    "pdir = os.path.abspath(os.path.join(os.path.dirname(''), os.path.pardir))\n",
    "sys.path.append(pdir)\n",
    "from display import *\n",
    "from blessings import *\n",
    "sys.path.remove(pdir)\n",
    "\n",
    "_pio.renderers.default = \"notebook_connected\"\n",
    "\n",
    "pies = Team.load_by_name(\"Philly Pies\")"
   ]
  },
  {
   "cell_type": "code",
   "execution_count": 2,
   "outputs": [
    {
     "name": "stdout",
     "output_type": "stream",
     "text": [
      "Last Updated Season 14, Day 116\n"
     ]
    }
   ],
   "source": [
    "sim = SimulationData.load()\n",
    "print(f\"Last Updated Season {sim.season}, Day {sim.day}\")"
   ],
   "metadata": {
    "collapsed": false,
    "pycharm": {
     "name": "#%%\n"
    }
   }
  },
  {
   "cell_type": "markdown",
   "metadata": {},
   "source": [
    "---\n",
    "## Decrees\n",
    "\n",
    "Decrees are chosen by majority votes across all teams. `1` decree will pass this season."
   ]
  },
  {
   "cell_type": "markdown",
   "metadata": {},
   "source": [
    "### Bats/Caps/Shoes/Gloves\n",
    "**Swing Away. Go on the offensive while providing a Global Hitting Boost.**\n",
    "\n",
    "**Don't Lose Your Heads. Keep your wits about you while providing a global Pitching Boost.**\n",
    "\n",
    "**Flight or Flight. Run away while providing global Baserunning Boost.**\n",
    "\n",
    "**Catch and Release. Keep threats in front of you while providing a global Defense Boost.**\n",
    "\n",
    "All this season's decrees result in a league-wide boost to various stats.\n",
    "\n",
    "TODO: Team stat comparison"
   ]
  },
  {
   "cell_type": "markdown",
   "metadata": {},
   "source": [
    "___\n",
    "## Wills\n",
    "\n",
    "Will are selected for each team by raffle. Each team will draw `2` random wills. The bottom 4 teams in the league by\n",
    "standings will draw `3`. The chosen wills are random, but wills with more votes are more likely to be selected."
   ]
  },
  {
   "cell_type": "markdown",
   "metadata": {},
   "source": [
    "### Plunder\n",
    "**Steal a Player from the Idols board. Send a random Player from your Team back.**\n",
    "\n",
    "Due to the random nature of the target on our team, this tests the best case (swapping the Best Player on the Idol Board\n",
    "for a position with our worst player in that position) and the worst case (swaping the Best Player on the Idol Board for\n",
    "a position with our best player in that position).\n",
    "\n",
    "**Best Case Swap:**"
   ]
  },
  {
   "cell_type": "code",
   "execution_count": 3,
   "metadata": {
    "pycharm": {
     "name": "#%%\n"
    }
   },
   "outputs": [
    {
     "name": "stdout",
     "output_type": "stream",
     "text": [
      "Batting: Swap Nagomi Mcdaniel for Yusef Puddles\n"
     ]
    },
    {
     "data": {
      "text/plain": "                         Pies\nbatting_change      +11.7078%\npitching_change      +0.0000%\nbaserunning_change   +7.5644%\ndefense_change       +3.3510%",
      "text/html": "<div>\n<style scoped>\n    .dataframe tbody tr th:only-of-type {\n        vertical-align: middle;\n    }\n\n    .dataframe tbody tr th {\n        vertical-align: top;\n    }\n\n    .dataframe thead th {\n        text-align: right;\n    }\n</style>\n<table border=\"1\" class=\"dataframe\">\n  <thead>\n    <tr style=\"text-align: right;\">\n      <th></th>\n      <th>Pies</th>\n    </tr>\n  </thead>\n  <tbody>\n    <tr>\n      <th>batting_change</th>\n      <td>+11.7078%</td>\n    </tr>\n    <tr>\n      <th>pitching_change</th>\n      <td>+0.0000%</td>\n    </tr>\n    <tr>\n      <th>baserunning_change</th>\n      <td>+7.5644%</td>\n    </tr>\n    <tr>\n      <th>defense_change</th>\n      <td>+3.3510%</td>\n    </tr>\n  </tbody>\n</table>\n</div>"
     },
     "execution_count": 3,
     "metadata": {},
     "output_type": "execute_result"
    }
   ],
   "source": [
    "idols = [x.player for x in Idol.load().values()]\n",
    "\n",
    "idols.sort(key=lambda x: x.batting_rating, reverse=True)\n",
    "best_batting_idol = idols[1]\n",
    "idols.sort(key=lambda x: x.pitching_rating, reverse=True)\n",
    "best_pitching_idol = idols[0]\n",
    "\n",
    "\n",
    "worst_batter = sort_lineup(pies, 1)[0]\n",
    "print(f\"Batting: Swap {best_batting_idol.name} for {worst_batter.name}\")\n",
    "\n",
    "pandas.DataFrame(trade_players(pies, worst_batter, best_batting_idol))"
   ]
  },
  {
   "cell_type": "code",
   "execution_count": 4,
   "outputs": [
    {
     "name": "stdout",
     "output_type": "stream",
     "text": [
      "Pitching: Swap Nagomi Mcdaniel for Doc Anice\n"
     ]
    },
    {
     "data": {
      "text/plain": "                         Pies\nbatting_change       +0.0000%\npitching_change     +15.3801%\nbaserunning_change   +0.0000%\ndefense_change       +0.0000%",
      "text/html": "<div>\n<style scoped>\n    .dataframe tbody tr th:only-of-type {\n        vertical-align: middle;\n    }\n\n    .dataframe tbody tr th {\n        vertical-align: top;\n    }\n\n    .dataframe thead th {\n        text-align: right;\n    }\n</style>\n<table border=\"1\" class=\"dataframe\">\n  <thead>\n    <tr style=\"text-align: right;\">\n      <th></th>\n      <th>Pies</th>\n    </tr>\n  </thead>\n  <tbody>\n    <tr>\n      <th>batting_change</th>\n      <td>+0.0000%</td>\n    </tr>\n    <tr>\n      <th>pitching_change</th>\n      <td>+15.3801%</td>\n    </tr>\n    <tr>\n      <th>baserunning_change</th>\n      <td>+0.0000%</td>\n    </tr>\n    <tr>\n      <th>defense_change</th>\n      <td>+0.0000%</td>\n    </tr>\n  </tbody>\n</table>\n</div>"
     },
     "execution_count": 4,
     "metadata": {},
     "output_type": "execute_result"
    }
   ],
   "source": [
    "worst_pitcher = sort_rotation(pies, 1)[0]\n",
    "print(f\"Pitching: Swap {best_pitching_idol.name} for {worst_pitcher.name}\")\n",
    "\n",
    "pandas.DataFrame(trade_players(pies, worst_pitcher, best_pitching_idol))\n"
   ],
   "metadata": {
    "collapsed": false,
    "pycharm": {
     "name": "#%%\n"
    }
   }
  },
  {
   "cell_type": "markdown",
   "source": [
    "**Worst Case Swap:**"
   ],
   "metadata": {
    "collapsed": false,
    "pycharm": {
     "name": "#%% md\n"
    }
   }
  },
  {
   "cell_type": "code",
   "execution_count": 5,
   "outputs": [
    {
     "name": "stdout",
     "output_type": "stream",
     "text": [
      "Batting: Swap Nagomi Mcdaniel for Jaxon Buckley\n"
     ]
    },
    {
     "data": {
      "text/plain": "                        Pies\nbatting_change      -0.2079%\npitching_change     +0.0000%\nbaserunning_change  +3.6755%\ndefense_change      +5.0798%",
      "text/html": "<div>\n<style scoped>\n    .dataframe tbody tr th:only-of-type {\n        vertical-align: middle;\n    }\n\n    .dataframe tbody tr th {\n        vertical-align: top;\n    }\n\n    .dataframe thead th {\n        text-align: right;\n    }\n</style>\n<table border=\"1\" class=\"dataframe\">\n  <thead>\n    <tr style=\"text-align: right;\">\n      <th></th>\n      <th>Pies</th>\n    </tr>\n  </thead>\n  <tbody>\n    <tr>\n      <th>batting_change</th>\n      <td>-0.2079%</td>\n    </tr>\n    <tr>\n      <th>pitching_change</th>\n      <td>+0.0000%</td>\n    </tr>\n    <tr>\n      <th>baserunning_change</th>\n      <td>+3.6755%</td>\n    </tr>\n    <tr>\n      <th>defense_change</th>\n      <td>+5.0798%</td>\n    </tr>\n  </tbody>\n</table>\n</div>"
     },
     "execution_count": 5,
     "metadata": {},
     "output_type": "execute_result"
    }
   ],
   "source": [
    "best_batter = sort_lineup(pies, 1, order=\"best\")[0]\n",
    "print(f\"Batting: Swap {best_batting_idol.name} for {best_batter.name}\")\n",
    "\n",
    "pandas.DataFrame(trade_players(pies, best_batter, best_batting_idol))"
   ],
   "metadata": {
    "collapsed": false,
    "pycharm": {
     "name": "#%%\n"
    }
   }
  },
  {
   "cell_type": "code",
   "execution_count": 6,
   "outputs": [
    {
     "name": "stdout",
     "output_type": "stream",
     "text": [
      "Pitching: Swap Nagomi Mcdaniel for Elvis Figueroa\n"
     ]
    },
    {
     "data": {
      "text/plain": "                        Pies\nbatting_change      +0.0000%\npitching_change     +4.8122%\nbaserunning_change  +0.0000%\ndefense_change      +0.0000%",
      "text/html": "<div>\n<style scoped>\n    .dataframe tbody tr th:only-of-type {\n        vertical-align: middle;\n    }\n\n    .dataframe tbody tr th {\n        vertical-align: top;\n    }\n\n    .dataframe thead th {\n        text-align: right;\n    }\n</style>\n<table border=\"1\" class=\"dataframe\">\n  <thead>\n    <tr style=\"text-align: right;\">\n      <th></th>\n      <th>Pies</th>\n    </tr>\n  </thead>\n  <tbody>\n    <tr>\n      <th>batting_change</th>\n      <td>+0.0000%</td>\n    </tr>\n    <tr>\n      <th>pitching_change</th>\n      <td>+4.8122%</td>\n    </tr>\n    <tr>\n      <th>baserunning_change</th>\n      <td>+0.0000%</td>\n    </tr>\n    <tr>\n      <th>defense_change</th>\n      <td>+0.0000%</td>\n    </tr>\n  </tbody>\n</table>\n</div>"
     },
     "execution_count": 6,
     "metadata": {},
     "output_type": "execute_result"
    }
   ],
   "source": [
    "best_pitcher = sort_rotation(pies, 1, order=\"best\")[0]\n",
    "print(f\"Pitching: Swap {best_pitching_idol.name} for {best_pitcher.name}\")\n",
    "\n",
    "pandas.DataFrame(trade_players(pies, best_pitcher, best_pitching_idol))\n"
   ],
   "metadata": {
    "collapsed": false,
    "pycharm": {
     "name": "#%%\n"
    }
   }
  },
  {
   "cell_type": "markdown",
   "metadata": {},
   "source": [
    "### Equivalent Exchange\n",
    "**Swap a Player from a Team in the opposite Subleague with a Player from your Team. They must be within 2 combined stars of each other.**\n",
    "\n",
    "TODO"
   ]
  },
  {
   "cell_type": "markdown",
   "metadata": {},
   "source": [
    "### Foreshadow\n",
    "**Swap a Player from your Shadows to your active roster.**\n",
    "\n",
    "There are 14 shadows players to swap with our 12 existing players. Below is a breakdown comparing the best shadows\n",
    "players with the worst player in the particular position.\n",
    "\n",
    "Note that position does not matter for the swap: any shadows player can bat or pitch.\n"
   ]
  },
  {
   "cell_type": "markdown",
   "metadata": {},
   "source": [
    "**Batting:**"
   ]
  },
  {
   "cell_type": "code",
   "execution_count": 7,
   "metadata": {
    "pycharm": {
     "name": "#%%\n"
    }
   },
   "outputs": [
    {
     "data": {
      "text/plain": "                    Batting  Pitching  Baserunning  Defense\nHaruta Byrd             3.5       2.5          2.5      1.5\nJavier Lotus            3.5       1.0          3.5      4.0\nAugust Obrien           3.5       1.0          3.5      2.0\nJefferson Delacruz      3.0       0.5          3.5      4.0\nYusef Puddles           2.0       2.5          3.0      3.5",
      "text/html": "<div>\n<style scoped>\n    .dataframe tbody tr th:only-of-type {\n        vertical-align: middle;\n    }\n\n    .dataframe tbody tr th {\n        vertical-align: top;\n    }\n\n    .dataframe thead th {\n        text-align: right;\n    }\n</style>\n<table border=\"1\" class=\"dataframe\">\n  <thead>\n    <tr style=\"text-align: right;\">\n      <th></th>\n      <th>Batting</th>\n      <th>Pitching</th>\n      <th>Baserunning</th>\n      <th>Defense</th>\n    </tr>\n  </thead>\n  <tbody>\n    <tr>\n      <th>Haruta Byrd</th>\n      <td>3.5</td>\n      <td>2.5</td>\n      <td>2.5</td>\n      <td>1.5</td>\n    </tr>\n    <tr>\n      <th>Javier Lotus</th>\n      <td>3.5</td>\n      <td>1.0</td>\n      <td>3.5</td>\n      <td>4.0</td>\n    </tr>\n    <tr>\n      <th>August Obrien</th>\n      <td>3.5</td>\n      <td>1.0</td>\n      <td>3.5</td>\n      <td>2.0</td>\n    </tr>\n    <tr>\n      <th>Jefferson Delacruz</th>\n      <td>3.0</td>\n      <td>0.5</td>\n      <td>3.5</td>\n      <td>4.0</td>\n    </tr>\n    <tr>\n      <th>Yusef Puddles</th>\n      <td>2.0</td>\n      <td>2.5</td>\n      <td>3.0</td>\n      <td>3.5</td>\n    </tr>\n  </tbody>\n</table>\n</div>"
     },
     "execution_count": 7,
     "metadata": {},
     "output_type": "execute_result"
    }
   ],
   "source": [
    "shadows = pies.bullpen + pies.bench\n",
    "shadows.sort(key=lambda x: x.batting_rating, reverse=True)\n",
    "best_batting_shadows = shadows[0:4]\n",
    "worst_batter = sort_lineup(pies, 1)[0]\n",
    "\n",
    "get_stars(best_batting_shadows + [worst_batter])"
   ]
  },
  {
   "cell_type": "code",
   "execution_count": 8,
   "outputs": [
    {
     "data": {
      "text/plain": "<pandas.io.formats.style.Styler at 0x24d31d08a60>",
      "text/html": "<style  type=\"text/css\" >\n#T_cbb71_row0_col0{\n            background-color:  #96d268;\n            color:  #000000;\n        }#T_cbb71_row0_col1{\n            background-color:  #98d368;\n            color:  #000000;\n        }#T_cbb71_row0_col2{\n            background-color:  #15904c;\n            color:  #000000;\n        }#T_cbb71_row0_col3{\n            background-color:  #3ca959;\n            color:  #000000;\n        }#T_cbb71_row0_col4{\n            background-color:  #dff293;\n            color:  #000000;\n        }#T_cbb71_row0_col5{\n            background-color:  #4bb05c;\n            color:  #000000;\n            background-color:  #ea5739;\n            color:  #000000;\n        }#T_cbb71_row0_col6{\n            background-color:  #eb5a3a;\n            color:  #000000;\n        }#T_cbb71_row0_col7,#T_cbb71_row1_col7,#T_cbb71_row2_col7,#T_cbb71_row3_col7{\n            background-color:  #d62f27;\n            color:  #f1f1f1;\n            background-color:  #199750;\n            color:  #000000;\n        }#T_cbb71_row0_col8{\n            background-color:  #dd3d2d;\n            color:  #f1f1f1;\n        }#T_cbb71_row1_col0,#T_cbb71_row2_col0{\n            background-color:  #afdd70;\n            color:  #000000;\n        }#T_cbb71_row1_col1{\n            background-color:  #0f8446;\n            color:  #f1f1f1;\n        }#T_cbb71_row1_col2{\n            background-color:  #fed884;\n            color:  #000000;\n        }#T_cbb71_row1_col3{\n            background-color:  #199750;\n            color:  #000000;\n        }#T_cbb71_row1_col4{\n            background-color:  #0e8245;\n            color:  #f1f1f1;\n        }#T_cbb71_row1_col5{\n            background-color:  #f47044;\n            color:  #000000;\n            background-color:  #69be63;\n            color:  #000000;\n        }#T_cbb71_row1_col6{\n            background-color:  #249d53;\n            color:  #000000;\n        }#T_cbb71_row1_col8{\n            background-color:  #5ab760;\n            color:  #000000;\n        }#T_cbb71_row2_col1,#T_cbb71_row3_col2{\n            background-color:  #c3e67d;\n            color:  #000000;\n        }#T_cbb71_row2_col2{\n            background-color:  #128a49;\n            color:  #000000;\n        }#T_cbb71_row2_col3{\n            background-color:  #16914d;\n            color:  #000000;\n        }#T_cbb71_row2_col4{\n            background-color:  #fffdbc;\n            color:  #000000;\n        }#T_cbb71_row2_col5{\n            background-color:  #138c4a;\n            color:  #000000;\n            background-color:  #ca2427;\n            color:  #f1f1f1;\n        }#T_cbb71_row2_col6{\n            background-color:  #e9f6a1;\n            color:  #000000;\n        }#T_cbb71_row2_col8{\n            background-color:  #fff3ac;\n            color:  #000000;\n        }#T_cbb71_row3_col0{\n            background-color:  #daf08d;\n            color:  #000000;\n        }#T_cbb71_row3_col1{\n            background-color:  #fff8b4;\n            color:  #000000;\n        }#T_cbb71_row3_col3{\n            background-color:  #18954f;\n            color:  #000000;\n        }#T_cbb71_row3_col4{\n            background-color:  #f1f9ac;\n            color:  #000000;\n        }#T_cbb71_row3_col5{\n            background-color:  #feffbe;\n            color:  #000000;\n            background-color:  #fffebe;\n            color:  #000000;\n        }#T_cbb71_row3_col6{\n            background-color:  #feeb9d;\n            color:  #000000;\n        }#T_cbb71_row3_col8{\n            background-color:  #b5df74;\n            color:  #000000;\n        }#T_cbb71_row4_col0{\n            background-color:  #fee999;\n            color:  #000000;\n        }#T_cbb71_row4_col1,#T_cbb71_row4_col8{\n            background-color:  #006837;\n            color:  #f1f1f1;\n        }#T_cbb71_row4_col2{\n            background-color:  #ef633f;\n            color:  #000000;\n        }#T_cbb71_row4_col3{\n            background-color:  #b3df72;\n            color:  #000000;\n        }#T_cbb71_row4_col4{\n            background-color:  #e54e35;\n            color:  #000000;\n        }#T_cbb71_row4_col5{\n            background-color:  #c9e881;\n            color:  #000000;\n            background-color:  #fed07e;\n            color:  #000000;\n        }#T_cbb71_row4_col6{\n            background-color:  #da362a;\n            color:  #f1f1f1;\n        }#T_cbb71_row4_col7{\n            background-color:  #c01a27;\n            color:  #f1f1f1;\n            background-color:  #0e8245;\n            color:  #f1f1f1;\n        }</style><table id=\"T_cbb71_\" ><thead>    <tr>        <th class=\"blank level0\" ></th>        <th class=\"col_heading level0 col0\" >Batting Rating</th>        <th class=\"col_heading level0 col1\" >Thwackability</th>        <th class=\"col_heading level0 col2\" >Divinity</th>        <th class=\"col_heading level0 col3\" >Musclitude</th>        <th class=\"col_heading level0 col4\" >Moxie</th>        <th class=\"col_heading level0 col5\" >Patheticism</th>        <th class=\"col_heading level0 col6\" >Martyrdom</th>        <th class=\"col_heading level0 col7\" >Tragicness</th>        <th class=\"col_heading level0 col8\" >Buoyancy</th>    </tr></thead><tbody>\n                <tr>\n                        <th id=\"T_cbb71_level0_row0\" class=\"row_heading level0 row0\" >Haruta Byrd</th>\n                        <td id=\"T_cbb71_row0_col0\" class=\"data row0 col0\" >0.724391</td>\n                        <td id=\"T_cbb71_row0_col1\" class=\"data row0 col1\" >0.721433</td>\n                        <td id=\"T_cbb71_row0_col2\" class=\"data row0 col2\" >0.917077</td>\n                        <td id=\"T_cbb71_row0_col3\" class=\"data row0 col3\" >0.853010</td>\n                        <td id=\"T_cbb71_row0_col4\" class=\"data row0 col4\" >0.585921</td>\n                        <td id=\"T_cbb71_row0_col5\" class=\"data row0 col5\" >0.832203</td>\n                        <td id=\"T_cbb71_row0_col6\" class=\"data row0 col6\" >0.169263</td>\n                        <td id=\"T_cbb71_row0_col7\" class=\"data row0 col7\" >0.100000</td>\n                        <td id=\"T_cbb71_row0_col8\" class=\"data row0 col8\" >0.124161</td>\n            </tr>\n            <tr>\n                        <th id=\"T_cbb71_level0_row1\" class=\"row_heading level0 row1\" >Javier Lotus</th>\n                        <td id=\"T_cbb71_row1_col0\" class=\"data row1 col0\" >0.682621</td>\n                        <td id=\"T_cbb71_row1_col1\" class=\"data row1 col1\" >0.938964</td>\n                        <td id=\"T_cbb71_row1_col2\" class=\"data row1 col2\" >0.386700</td>\n                        <td id=\"T_cbb71_row1_col3\" class=\"data row1 col3\" >0.901328</td>\n                        <td id=\"T_cbb71_row1_col4\" class=\"data row1 col4\" >0.942211</td>\n                        <td id=\"T_cbb71_row1_col5\" class=\"data row1 col5\" >0.205027</td>\n                        <td id=\"T_cbb71_row1_col6\" class=\"data row1 col6\" >0.884526</td>\n                        <td id=\"T_cbb71_row1_col7\" class=\"data row1 col7\" >0.100000</td>\n                        <td id=\"T_cbb71_row1_col8\" class=\"data row1 col8\" >0.815592</td>\n            </tr>\n            <tr>\n                        <th id=\"T_cbb71_level0_row2\" class=\"row_heading level0 row2\" >August Obrien</th>\n                        <td id=\"T_cbb71_row2_col0\" class=\"data row2 col0\" >0.681669</td>\n                        <td id=\"T_cbb71_row2_col1\" class=\"data row2 col1\" >0.641217</td>\n                        <td id=\"T_cbb71_row2_col2\" class=\"data row2 col2\" >0.927569</td>\n                        <td id=\"T_cbb71_row2_col3\" class=\"data row2 col3\" >0.913891</td>\n                        <td id=\"T_cbb71_row2_col4\" class=\"data row2 col4\" >0.492708</td>\n                        <td id=\"T_cbb71_row2_col5\" class=\"data row2 col5\" >0.923854</td>\n                        <td id=\"T_cbb71_row2_col6\" class=\"data row2 col6\" >0.556849</td>\n                        <td id=\"T_cbb71_row2_col7\" class=\"data row2 col7\" >0.100000</td>\n                        <td id=\"T_cbb71_row2_col8\" class=\"data row2 col8\" >0.463958</td>\n            </tr>\n            <tr>\n                        <th id=\"T_cbb71_level0_row3\" class=\"row_heading level0 row3\" >Jefferson Delacruz</th>\n                        <td id=\"T_cbb71_row3_col0\" class=\"data row3 col0\" >0.595750</td>\n                        <td id=\"T_cbb71_row3_col1\" class=\"data row3 col1\" >0.479940</td>\n                        <td id=\"T_cbb71_row3_col2\" class=\"data row3 col2\" >0.643757</td>\n                        <td id=\"T_cbb71_row3_col3\" class=\"data row3 col3\" >0.903986</td>\n                        <td id=\"T_cbb71_row3_col4\" class=\"data row3 col4\" >0.537770</td>\n                        <td id=\"T_cbb71_row3_col5\" class=\"data row3 col5\" >0.503675</td>\n                        <td id=\"T_cbb71_row3_col6\" class=\"data row3 col6\" >0.434424</td>\n                        <td id=\"T_cbb71_row3_col7\" class=\"data row3 col7\" >0.100000</td>\n                        <td id=\"T_cbb71_row3_col8\" class=\"data row3 col8\" >0.671689</td>\n            </tr>\n            <tr>\n                        <th id=\"T_cbb71_level0_row4\" class=\"row_heading level0 row4\" >Yusef Puddles</th>\n                        <td id=\"T_cbb71_row4_col0\" class=\"data row4 col0\" >0.429562</td>\n                        <td id=\"T_cbb71_row4_col1\" class=\"data row4 col1\" >1.033698</td>\n                        <td id=\"T_cbb71_row4_col2\" class=\"data row4 col2\" >0.184577</td>\n                        <td id=\"T_cbb71_row4_col3\" class=\"data row4 col3\" >0.675196</td>\n                        <td id=\"T_cbb71_row4_col4\" class=\"data row4 col4\" >0.151908</td>\n                        <td id=\"T_cbb71_row4_col5\" class=\"data row4 col5\" >0.630778</td>\n                        <td id=\"T_cbb71_row4_col6\" class=\"data row4 col6\" >0.110821</td>\n                        <td id=\"T_cbb71_row4_col7\" class=\"data row4 col7\" >0.057271</td>\n                        <td id=\"T_cbb71_row4_col8\" class=\"data row4 col8\" >1.010015</td>\n            </tr>\n    </tbody></table>"
     },
     "execution_count": 8,
     "metadata": {},
     "output_type": "execute_result"
    }
   ],
   "source": [
    "set_heatmap(get_batting_stlats(best_batting_shadows + [worst_batter]), maxVal=1)"
   ],
   "metadata": {
    "collapsed": false,
    "pycharm": {
     "name": "#%%\n"
    }
   }
  },
  {
   "cell_type": "markdown",
   "source": [
    "**Pitching:**"
   ],
   "metadata": {
    "collapsed": false
   }
  },
  {
   "cell_type": "code",
   "execution_count": 9,
   "outputs": [
    {
     "data": {
      "text/plain": "                    Batting  Pitching  Baserunning  Defense\nLucy Tokkan             2.0       3.5          1.0      3.0\nTwofurious Puddles      2.5       3.5          2.0      3.5\nCase Lancaster          0.0       3.5          2.0      3.0\nTiana Takahashi         1.0       3.0          2.5      3.0\nDoc Anice               2.5       3.0          1.5      3.5",
      "text/html": "<div>\n<style scoped>\n    .dataframe tbody tr th:only-of-type {\n        vertical-align: middle;\n    }\n\n    .dataframe tbody tr th {\n        vertical-align: top;\n    }\n\n    .dataframe thead th {\n        text-align: right;\n    }\n</style>\n<table border=\"1\" class=\"dataframe\">\n  <thead>\n    <tr style=\"text-align: right;\">\n      <th></th>\n      <th>Batting</th>\n      <th>Pitching</th>\n      <th>Baserunning</th>\n      <th>Defense</th>\n    </tr>\n  </thead>\n  <tbody>\n    <tr>\n      <th>Lucy Tokkan</th>\n      <td>2.0</td>\n      <td>3.5</td>\n      <td>1.0</td>\n      <td>3.0</td>\n    </tr>\n    <tr>\n      <th>Twofurious Puddles</th>\n      <td>2.5</td>\n      <td>3.5</td>\n      <td>2.0</td>\n      <td>3.5</td>\n    </tr>\n    <tr>\n      <th>Case Lancaster</th>\n      <td>0.0</td>\n      <td>3.5</td>\n      <td>2.0</td>\n      <td>3.0</td>\n    </tr>\n    <tr>\n      <th>Tiana Takahashi</th>\n      <td>1.0</td>\n      <td>3.0</td>\n      <td>2.5</td>\n      <td>3.0</td>\n    </tr>\n    <tr>\n      <th>Doc Anice</th>\n      <td>2.5</td>\n      <td>3.0</td>\n      <td>1.5</td>\n      <td>3.5</td>\n    </tr>\n  </tbody>\n</table>\n</div>"
     },
     "execution_count": 9,
     "metadata": {},
     "output_type": "execute_result"
    }
   ],
   "source": [
    "shadows.sort(key=lambda x: x.pitching_rating, reverse=True)\n",
    "best_pitching_shadows = shadows[0:4]\n",
    "worst_pitcher = sort_rotation(pies, 1)[0]\n",
    "\n",
    "get_stars(best_pitching_shadows + [worst_pitcher])"
   ],
   "metadata": {
    "collapsed": false,
    "pycharm": {
     "name": "#%%\n"
    }
   }
  },
  {
   "cell_type": "code",
   "execution_count": 10,
   "outputs": [
    {
     "data": {
      "text/plain": "<pandas.io.formats.style.Styler at 0x24d31c19b50>",
      "text/html": "<style  type=\"text/css\" >\n#T_a2445_row0_col0{\n            background-color:  #8ccd67;\n            color:  #000000;\n        }#T_a2445_row0_col1{\n            background-color:  #199750;\n            color:  #000000;\n        }#T_a2445_row0_col2{\n            background-color:  #016a38;\n            color:  #f1f1f1;\n        }#T_a2445_row0_col3{\n            background-color:  #fa9656;\n            color:  #000000;\n        }#T_a2445_row0_col4{\n            background-color:  #06733d;\n            color:  #f1f1f1;\n        }#T_a2445_row0_col5{\n            background-color:  #ee613e;\n            color:  #000000;\n        }#T_a2445_row0_col6{\n            background-color:  #fdb96a;\n            color:  #000000;\n        }#T_a2445_row1_col0{\n            background-color:  #a9da6c;\n            color:  #000000;\n        }#T_a2445_row1_col1{\n            background-color:  #5db961;\n            color:  #000000;\n        }#T_a2445_row1_col2{\n            background-color:  #bfe47a;\n            color:  #000000;\n        }#T_a2445_row1_col3{\n            background-color:  #60ba62;\n            color:  #000000;\n        }#T_a2445_row1_col4,#T_a2445_row3_col3{\n            background-color:  #9bd469;\n            color:  #000000;\n        }#T_a2445_row1_col5{\n            background-color:  #fee593;\n            color:  #000000;\n        }#T_a2445_row1_col6{\n            background-color:  #96d268;\n            color:  #000000;\n        }#T_a2445_row2_col0{\n            background-color:  #bbe278;\n            color:  #000000;\n        }#T_a2445_row2_col1{\n            background-color:  #33a456;\n            color:  #000000;\n        }#T_a2445_row2_col2{\n            background-color:  #4eb15d;\n            color:  #000000;\n        }#T_a2445_row2_col3{\n            background-color:  #f16640;\n            color:  #000000;\n        }#T_a2445_row2_col4{\n            background-color:  #51b35e;\n            color:  #000000;\n        }#T_a2445_row2_col5{\n            background-color:  #30a356;\n            color:  #000000;\n        }#T_a2445_row2_col6{\n            background-color:  #ce2827;\n            color:  #f1f1f1;\n        }#T_a2445_row3_col0{\n            background-color:  #cfeb85;\n            color:  #000000;\n        }#T_a2445_row3_col1{\n            background-color:  #17934e;\n            color:  #000000;\n        }#T_a2445_row3_col2{\n            background-color:  #097940;\n            color:  #f1f1f1;\n        }#T_a2445_row3_col4{\n            background-color:  #b30d26;\n            color:  #f1f1f1;\n        }#T_a2445_row3_col5{\n            background-color:  #daf08d;\n            color:  #000000;\n        }#T_a2445_row3_col6{\n            background-color:  #0d8044;\n            color:  #f1f1f1;\n        }#T_a2445_row4_col0{\n            background-color:  #e5f49b;\n            color:  #000000;\n        }#T_a2445_row4_col1{\n            background-color:  #128a49;\n            color:  #000000;\n        }#T_a2445_row4_col2{\n            background-color:  #feca79;\n            color:  #000000;\n        }#T_a2445_row4_col3{\n            background-color:  #48ae5c;\n            color:  #000000;\n        }#T_a2445_row4_col4{\n            background-color:  #fff1a8;\n            color:  #000000;\n        }#T_a2445_row4_col5{\n            background-color:  #d9ef8b;\n            color:  #000000;\n        }#T_a2445_row4_col6{\n            background-color:  #e44c34;\n            color:  #000000;\n        }</style><table id=\"T_a2445_\" ><thead>    <tr>        <th class=\"blank level0\" ></th>        <th class=\"col_heading level0 col0\" >Pitching Rating</th>        <th class=\"col_heading level0 col1\" >Unthwackability</th>        <th class=\"col_heading level0 col2\" >Ruthlessness</th>        <th class=\"col_heading level0 col3\" >Overpowerment</th>        <th class=\"col_heading level0 col4\" >Shakespearianism</th>        <th class=\"col_heading level0 col5\" >Coldness</th>        <th class=\"col_heading level0 col6\" >Suppression</th>    </tr></thead><tbody>\n                <tr>\n                        <th id=\"T_a2445_level0_row0\" class=\"row_heading level0 row0\" >Lucy Tokkan</th>\n                        <td id=\"T_a2445_row0_col0\" class=\"data row0 col0\" >0.741748</td>\n                        <td id=\"T_a2445_row0_col1\" class=\"data row0 col1\" >0.901966</td>\n                        <td id=\"T_a2445_row0_col2\" class=\"data row0 col2\" >0.995562</td>\n                        <td id=\"T_a2445_row0_col3\" class=\"data row0 col3\" >0.263758</td>\n                        <td id=\"T_a2445_row0_col4\" class=\"data row0 col4\" >0.973020</td>\n                        <td id=\"T_a2445_row0_col5\" class=\"data row0 col5\" >0.180980</td>\n                        <td id=\"T_a2445_row0_col6\" class=\"data row0 col6\" >0.321805</td>\n            </tr>\n            <tr>\n                        <th id=\"T_a2445_level0_row1\" class=\"row_heading level0 row1\" >Twofurious Puddles</th>\n                        <td id=\"T_a2445_row1_col0\" class=\"data row1 col0\" >0.694922</td>\n                        <td id=\"T_a2445_row1_col1\" class=\"data row1 col1\" >0.811110</td>\n                        <td id=\"T_a2445_row1_col2\" class=\"data row1 col2\" >0.650034</td>\n                        <td id=\"T_a2445_row1_col3\" class=\"data row1 col3\" >0.807712</td>\n                        <td id=\"T_a2445_row1_col4\" class=\"data row1 col4\" >0.718615</td>\n                        <td id=\"T_a2445_row1_col5\" class=\"data row1 col5\" >0.416240</td>\n                        <td id=\"T_a2445_row1_col6\" class=\"data row1 col6\" >0.725894</td>\n            </tr>\n            <tr>\n                        <th id=\"T_a2445_level0_row2\" class=\"row_heading level0 row2\" >Case Lancaster</th>\n                        <td id=\"T_a2445_row2_col0\" class=\"data row2 col0\" >0.658365</td>\n                        <td id=\"T_a2445_row2_col1\" class=\"data row2 col1\" >0.867044</td>\n                        <td id=\"T_a2445_row2_col2\" class=\"data row2 col2\" >0.829197</td>\n                        <td id=\"T_a2445_row2_col3\" class=\"data row2 col3\" >0.190119</td>\n                        <td id=\"T_a2445_row2_col4\" class=\"data row2 col4\" >0.825333</td>\n                        <td id=\"T_a2445_row2_col5\" class=\"data row2 col5\" >0.868251</td>\n                        <td id=\"T_a2445_row2_col6\" class=\"data row2 col6\" >0.082117</td>\n            </tr>\n            <tr>\n                        <th id=\"T_a2445_level0_row3\" class=\"row_heading level0 row3\" >Tiana Takahashi</th>\n                        <td id=\"T_a2445_row3_col0\" class=\"data row3 col0\" >0.618850</td>\n                        <td id=\"T_a2445_row3_col1\" class=\"data row3 col1\" >0.910065</td>\n                        <td id=\"T_a2445_row3_col2\" class=\"data row3 col2\" >0.961592</td>\n                        <td id=\"T_a2445_row3_col3\" class=\"data row3 col3\" >0.716677</td>\n                        <td id=\"T_a2445_row3_col4\" class=\"data row3 col4\" >0.028954</td>\n                        <td id=\"T_a2445_row3_col5\" class=\"data row3 col5\" >0.596122</td>\n                        <td id=\"T_a2445_row3_col6\" class=\"data row3 col6\" >0.945940</td>\n            </tr>\n            <tr>\n                        <th id=\"T_a2445_level0_row4\" class=\"row_heading level0 row4\" >Doc Anice</th>\n                        <td id=\"T_a2445_row4_col0\" class=\"data row4 col0\" >0.568234</td>\n                        <td id=\"T_a2445_row4_col1\" class=\"data row4 col1\" >0.928114</td>\n                        <td id=\"T_a2445_row4_col2\" class=\"data row4 col2\" >0.359045</td>\n                        <td id=\"T_a2445_row4_col3\" class=\"data row4 col3\" >0.836037</td>\n                        <td id=\"T_a2445_row4_col4\" class=\"data row4 col4\" >0.456020</td>\n                        <td id=\"T_a2445_row4_col5\" class=\"data row4 col5\" >0.598965</td>\n                        <td id=\"T_a2445_row4_col6\" class=\"data row4 col6\" >0.144698</td>\n            </tr>\n    </tbody></table>"
     },
     "execution_count": 10,
     "metadata": {},
     "output_type": "execute_result"
    }
   ],
   "source": [
    "set_heatmap(get_pitching_stlats(best_pitching_shadows + [worst_pitcher]), maxVal=1)"
   ],
   "metadata": {
    "collapsed": false,
    "pycharm": {
     "name": "#%%\n"
    }
   }
  },
  {
   "cell_type": "markdown",
   "source": [
    "### Move\n",
    "**Move a Player on your Team to the desired location on your Roster.**\n",
    "\n",
    "TODO"
   ],
   "metadata": {
    "collapsed": false,
    "pycharm": {
     "name": "#%% md\n"
    }
   }
  },
  {
   "cell_type": "markdown",
   "metadata": {},
   "source": [
    "### Transfuse\n",
    "**Boost a Player on your Team by 15% to 30% in a Stat Category of your choice, but Impair them in a Random other Category.**\n",
    "\n",
    "TODO"
   ]
  },
  {
   "cell_type": "markdown",
   "metadata": {},
   "source": [
    "### Alternate Trust\n",
    "**Call in an Alternate for a Player on your Team, with a mystery Benefit.**\n",
    "\n",
    "An Alternate is a player reroll and the Benefit is an unknown modification.\n",
    "TODO"
   ]
  },
  {
   "cell_type": "markdown",
   "metadata": {},
   "source": [
    "### Reform\n",
    "**Re-roll an eligible Permanent Modification for a Player on your Team.**\n",
    "\n",
    "TODO"
   ]
  },
  {
   "cell_type": "markdown",
   "metadata": {},
   "source": [
    "### Enrich\n",
    "**Pick a modification for your Team next season.**\n",
    "\n",
    "This will gives the option of choosing between\n",
    "* The Fourth Strike: Those with the Fourth Strike will get an extra strike in each at bat.\n",
    "* High Pressure: This Team will play 25% better in Flooding weather when runners are on base.\n",
    "* Life of the Party: This team gets 10% more from their Party Time stat boosts.\n",
    "* Home Field Advantage: Teams with Home Field Advantage will start each home game with one run.\n",
    "* Affinity for Crows: Players with Affinity for Crows will hit and pitch 50% better during Birds weather.\n",
    "* Traveling: Traveling teams will play 5% better in Away games.\n",
    "\n",
    "Seasonal Modifications have been mixed in the past. For Fourth Strike Analysis, see the appropriate\n",
    "[SIBR Paper](https://research.blaseball-reference.com/Fourth_Strike.pdf)."
   ]
  },
  {
   "cell_type": "markdown",
   "metadata": {},
   "source": [
    "___\n",
    "## Blessings\n",
    "\n",
    "Blessings are selected by raffle across all teams. Each blessing will be awarded to one random team, where teams with\n",
    "more votes are more likely to be selected."
   ]
  },
  {
   "cell_type": "markdown",
   "metadata": {},
   "source": [
    "### Sky's The Limit\n",
    "**Your entire Team's Rotation will become Maximalists Permanently.**\n",
    "\n",
    "TODO"
   ]
  },
  {
   "cell_type": "markdown",
   "metadata": {},
   "source": [
    "### Afterparty\n",
    "**Whenever your Team is losing during the First Week of Next Season, they will have a chance of gaining Party Time Boosts.**\n",
    "\n",
    "TODO"
   ]
  },
  {
   "cell_type": "markdown",
   "metadata": {},
   "source": [
    "### Middling\n",
    "**Your Team will Overperform during Next Season's Midseason.**\n",
    "\n",
    "TODO"
   ]
  },
  {
   "cell_type": "markdown",
   "metadata": {},
   "source": [
    "### Clutch Up\n",
    "**Your Cleanup Hitter (the 4th spot in your Lineup) will gain the High Pressure Mod for the following Season.**\n",
    "\n",
    "TODO"
   ]
  },
  {
   "cell_type": "markdown",
   "metadata": {},
   "source": [
    "### Absolute Zero\n",
    "**Oh. Give your Team O Blood.**\n",
    "\n",
    "TODO"
   ]
  },
  {
   "cell_type": "markdown",
   "metadata": {},
   "source": [
    "### Water Logged\n",
    "**Stay Hydrated. Give your Team H2O Blood.**\n",
    "\n",
    "TODO"
   ]
  },
  {
   "cell_type": "markdown",
   "metadata": {},
   "source": [
    "### Bird Brain\n",
    "**A Random Player on your Team will gain Affinity For Crows Permanently.**\n",
    "\n",
    "TODO"
   ]
  },
  {
   "cell_type": "markdown",
   "metadata": {},
   "source": [
    "### Mulligan\n",
    "**Your Team's worst hitter will gain the Fourth Strike Permanently.**\n",
    "\n",
    "TODO"
   ]
  },
  {
   "cell_type": "markdown",
   "source": [
    "### Defense/Running/Pitching/Batting Practice\n",
    "**Your Team's Lineup and Rotation will have their Defense Boosted from 1% to 4%.**\n",
    "\n",
    "**Your Team's Lineup will have their Baserunning Boosted from 1% to 4%.**\n",
    "\n",
    "**Your Team's Rotation will have their Pitching Boosted from 1% to 4%.**\n",
    "\n",
    "**Your Team's Lineup will have their Hitting Boosted from 1% to 4%.**\n",
    "\n",
    "TODO"
   ],
   "metadata": {
    "collapsed": false,
    "pycharm": {
     "name": "#%% md\n"
    }
   }
  },
  {
   "cell_type": "markdown",
   "source": [
    "### Shadow Defense/Running/Pitching/Batting Practice\n",
    "**Your Team's Shadows will have their Defense/Baserunning/Pitching/Hitting Boosted from 1% to 12%.**\n",
    "\n",
    "TODO"
   ],
   "metadata": {
    "collapsed": false,
    "pycharm": {
     "name": "#%% md\n"
    }
   }
  },
  {
   "cell_type": "markdown",
   "source": [
    "### Easy Out\n",
    "**Move the worst Hitter on your Team to the last spot in your Lineup.**\n",
    "\n",
    "TODO"
   ],
   "metadata": {
    "collapsed": false,
    "pycharm": {
     "name": "#%% md\n"
    }
   }
  },
  {
   "cell_type": "markdown",
   "source": [
    "### Lead Off\n",
    "**Move the best Baserunner on your Team to the first position in your Lineup.**\n",
    "\n",
    "TODO"
   ],
   "metadata": {
    "collapsed": false,
    "pycharm": {
     "name": "#%% md\n"
    }
   }
  },
  {
   "cell_type": "markdown",
   "source": [
    "### Blood Pact\n",
    "**Recruit a Random Player with the Siphon Modification to your Team.**\n",
    "\n",
    "TODO"
   ],
   "metadata": {
    "collapsed": false,
    "pycharm": {
     "name": "#%% md\n"
    }
   }
  },
  {
   "cell_type": "markdown",
   "source": [
    "### Fringe Benefit\n",
    "**Recruit a Random Player with the Perk Modification to your Team.**\n",
    "\n",
    "TODO"
   ],
   "metadata": {
    "collapsed": false,
    "pycharm": {
     "name": "#%% md\n"
    }
   }
  },
  {
   "cell_type": "markdown",
   "source": [
    "### Epiphany\n",
    "**A Random Player from your Team's Lineup will have their Divinity Boosted from -20% to 60%.**\n",
    "\n",
    "TODO\n"
   ],
   "metadata": {
    "collapsed": false,
    "pycharm": {
     "name": "#%% md\n"
    }
   }
  },
  {
   "cell_type": "markdown",
   "source": [
    "### Dirty Bulk\n",
    "**A Random Player from your Team's Lineup will have their Musclitude Boosted from -20% to 60%.**\n",
    "\n",
    "TODO"
   ],
   "metadata": {
    "collapsed": false,
    "pycharm": {
     "name": "#%% md\n"
    }
   }
  },
  {
   "cell_type": "markdown",
   "source": [
    "### Living Single\n",
    "**A Random Player from your Team's Rotation will have their Overpowerment Boosted by 40%.**\n",
    "\n",
    "TODO"
   ],
   "metadata": {
    "collapsed": false,
    "pycharm": {
     "name": "#%% md\n"
    }
   }
  },
  {
   "cell_type": "markdown",
   "source": [
    "### Triple Crown\n",
    "**A Random Player from your Team's Lineup will have their Ground Friction Boosted by 40%.**\n",
    "\n",
    "TODO"
   ],
   "metadata": {
    "collapsed": false,
    "pycharm": {
     "name": "#%% md\n"
    }
   }
  },
  {
   "cell_type": "markdown",
   "metadata": {
    "pycharm": {
     "name": "#%% md\n"
    }
   },
   "source": [
    "---\n",
    "## Appendix\n",
    "* [Description of Attributes](https://www.blaseball.wiki/w/Player_Attributes)\n",
    "* [Stlat Viewer](https://slavfox.space/abslve/?foreboding-kaleidoscope#PHIL)\n",
    "* [Historical Player Graphs](http://yoori.space/hloroscopes/)\n"
   ]
  }
 ],
 "metadata": {
  "kernelspec": {
   "display_name": "Python 3",
   "language": "python",
   "name": "python3"
  },
  "language_info": {
   "codemirror_mode": {
    "name": "ipython",
    "version": 3
   },
   "file_extension": ".py",
   "mimetype": "text/x-python",
   "name": "python",
   "nbconvert_exporter": "python",
   "pygments_lexer": "ipython3",
   "version": "3.8.5"
  },
  "toc": {
   "base_numbering": 1,
   "nav_menu": {},
   "number_sections": false,
   "sideBar": true,
   "skip_h1_title": false,
   "title_cell": "Table of Contents",
   "title_sidebar": "Table of Contents",
   "toc_cell": false,
   "toc_position": {},
   "toc_section_display": true,
   "toc_window_display": false
  }
 },
 "nbformat": 4,
 "nbformat_minor": 1
}