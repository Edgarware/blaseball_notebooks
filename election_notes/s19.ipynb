{
 "cells": [
  {
   "cell_type": "markdown",
   "metadata": {},
   "source": [
    "# Season 19 Election Notes\n",
    "\n",
    ">**FORBIDDEN KNOWLEDGE WARNING**\n",
    ">\n",
    ">This document contains some information that is not currently present on the main site and may be considered spoilers.\n",
    ">Continue at your own discretion. Some information in this document cannot be shared on the Discord without spoiler tags."
   ]
  },
  {
   "cell_type": "code",
   "execution_count": 1,
   "metadata": {
    "pycharm": {
     "name": "#%%\n"
    }
   },
   "outputs": [],
   "source": [
    "import pandas\n",
    "%matplotlib inline\n",
    "from blaseball_mike.models import *\n",
    "from blaseball_mike.tables import StatType\n",
    "import plotly.express as plot\n",
    "import plotly.io as _pio\n",
    "import plotly.subplots as subplot\n",
    "from IPython.display import display, Markdown\n",
    "from copy import deepcopy\n",
    "\n",
    "import os\n",
    "import sys\n",
    "pdir = os.path.abspath(os.path.join(os.path.dirname(''), os.path.pardir))\n",
    "sys.path.append(pdir)\n",
    "from display import *\n",
    "from blessings import *\n",
    "sys.path.remove(pdir)\n",
    "\n",
    "_pio.renderers.default = \"notebook_connected\"\n",
    "\n",
    "pies = Team.load_by_name(\"Philly Pies\")\n",
    "\n",
    "# Fix Attractors\n",
    "real_pies = deepcopy(pies)\n",
    "for p in real_pies.lineup + real_pies.rotation:\n",
    "    p.batting_rating = None\n",
    "    p.pitching_rating = None\n",
    "    p.baserunning_rating = None\n",
    "    p.defense_rating = None"
   ]
  },
  {
   "cell_type": "code",
   "execution_count": 2,
   "outputs": [
    {
     "data": {
      "text/plain": "<IPython.core.display.Markdown object>",
      "text/markdown": "**Last Updated Season 19, Day 102**"
     },
     "metadata": {},
     "output_type": "display_data"
    }
   ],
   "source": [
    "sim = SimulationData.load()\n",
    "display(Markdown(f\"**Last Updated Season {sim.season}, Day {sim.day}**\"))"
   ],
   "metadata": {
    "collapsed": false,
    "pycharm": {
     "name": "#%%\n"
    }
   }
  },
  {
   "cell_type": "markdown",
   "metadata": {},
   "source": [
    "---\n",
    "## Decrees\n",
    "\n",
    "Decrees are chosen by majority votes across all teams. `1` decrees will pass this season."
   ]
  },
  {
   "cell_type": "markdown",
   "source": [
    "### Repeal Turntables\n",
    "**Repeal the Turntables Rule.**\n",
    "\n",
    "Repeals the Turntables Rule."
   ],
   "metadata": {
    "collapsed": false,
    "pycharm": {
     "name": "#%% md\n"
    }
   }
  },
  {
   "cell_type": "markdown",
   "source": [
    "### Under Achiever\n",
    "\n",
    "**unwin the underbracket. crown the underchampions.**\n"
   ],
   "metadata": {
    "collapsed": false,
    "pycharm": {
     "name": "#%% md\n"
    }
   }
  },
  {
   "cell_type": "code",
   "execution_count": 3,
   "outputs": [
    {
     "data": {
      "text/plain": "<display.general.HTMLWrapper at 0x16b04c4df10>",
      "text/html": "<span style=\"font-family: 'Lora', 'Courier New', monospace, serif;font-weight: 700;color: #a16dc3;text-shadow:0 0 10px #a16dc3;\">as above, so below</span>"
     },
     "metadata": {},
     "output_type": "display_data"
    }
   ],
   "source": [
    "display(HTMLWrapper(\"<span style=\\\"font-family: 'Lora', 'Courier New', monospace, serif;font-weight: 700;color: #a16dc3;text-shadow:0 0 10px #a16dc3;\\\">as above, so below</span>\"))"
   ],
   "metadata": {
    "collapsed": false,
    "pycharm": {
     "name": "#%%\n"
    }
   }
  },
  {
   "cell_type": "markdown",
   "metadata": {},
   "source": [
    "___\n",
    "## Wills\n",
    "\n",
    "Will are selected for each team by raffle. Each team will draw `2` random wills. The bottom 4 teams in the league by\n",
    "standings will draw `3`. The chosen wills are random, but wills with more votes are more likely to be selected."
   ]
  },
  {
   "cell_type": "markdown",
   "metadata": {},
   "source": [
    "### Equivalent Exchange\n",
    "**Swap a Player from a Team in the opposite Subleague with a Player from your Team. They must be within 2 combined stars of each other.**\n",
    "\n",
    "See below for the 20 best swap candidates for a particular player, sorted by highest stats in the applicable position."
   ]
  },
  {
   "cell_type": "code",
   "execution_count": null,
   "outputs": [],
   "source": [
    "wild = Subleague.load(\"aabc11a1-81af-4036-9f18-229c759ca8a9\")\n",
    "all_wild = []\n",
    "for team in wild.teams.values():\n",
    "    all_wild.extend(team.lineup + team.rotation)"
   ],
   "metadata": {
    "collapsed": false,
    "pycharm": {
     "name": "#%%\n",
     "is_executing": true
    }
   }
  },
  {
   "cell_type": "code",
   "execution_count": null,
   "outputs": [],
   "source": [
    "all_total_stars = get_total_stars(all_wild)\n",
    "for player in pies.lineup:\n",
    "    total_stars = get_total_stars(player)[player.id]\n",
    "    valid_total_stars = {k: v for k, v in all_total_stars.items() if total_stars-2 < v < total_stars+2}\n",
    "    player_matches = [x for x in all_wild if x.id in valid_total_stars.keys()]\n",
    "    player_matches.sort(key=lambda x: x.batting_rating, reverse=True)\n",
    "    display(Markdown(f\"####{player.name}\"))\n",
    "    display(get_stars([player] + player_matches[0:20], include_team=True))\n",
    "    display(set_heatmap(get_batting_stlats([player] + player_matches[0:20]), maxVal=1.5))"
   ],
   "metadata": {
    "collapsed": false,
    "pycharm": {
     "name": "#%%\n",
     "is_executing": true
    }
   }
  },
  {
   "cell_type": "code",
   "execution_count": null,
   "outputs": [],
   "source": [
    "for player in pies.rotation:\n",
    "    total_stars = get_total_stars(player)[player.id]\n",
    "    valid_total_stars = {k: v for k, v in all_total_stars.items() if total_stars-2 < v < total_stars+2}\n",
    "    player_matches = [x for x in all_wild if x.id in valid_total_stars.keys()]\n",
    "    player_matches.sort(key=lambda x: x.pitching_rating, reverse=True)\n",
    "    display(Markdown(f\"####{player.name}\"))\n",
    "    display(get_stars([player] + player_matches[0:20], include_team=True))\n",
    "    display(set_heatmap(get_pitching_stlats([player] + player_matches[0:20]), maxVal=1.5))"
   ],
   "metadata": {
    "collapsed": false,
    "pycharm": {
     "name": "#%%\n",
     "is_executing": true
    }
   }
  },
  {
   "cell_type": "markdown",
   "metadata": {},
   "source": [
    "### Foreshadow\n",
    "**Swap a Player from your Shadows to your active roster.**\n",
    "\n",
    "There are 14 shadows players to swap with our 12 existing players. Below is a breakdown comparing the best shadows\n",
    "players with the worst player in the particular position.\n",
    "\n",
    "Note that position does not matter for the swap: any shadows player can bat or pitch.\n"
   ]
  },
  {
   "cell_type": "markdown",
   "metadata": {},
   "source": [
    "**Batting:**"
   ]
  },
  {
   "cell_type": "code",
   "execution_count": null,
   "metadata": {
    "pycharm": {
     "name": "#%%\n",
     "is_executing": true
    }
   },
   "outputs": [],
   "source": [
    "shadows = real_pies.bullpen + real_pies.bench\n",
    "shadows.sort(key=lambda x: x.batting_rating, reverse=True)\n",
    "best_batting_shadows = shadows[0:4]\n",
    "worst_batter = sort_lineup(pies, 1)[0]\n",
    "\n",
    "display(get_stars([worst_batter] + best_batting_shadows))\n",
    "display(set_heatmap(get_batting_stlats([worst_batter] + best_batting_shadows), maxVal=1))"
   ]
  },
  {
   "cell_type": "markdown",
   "source": [
    "**Pitching:**"
   ],
   "metadata": {
    "collapsed": false
   }
  },
  {
   "cell_type": "code",
   "execution_count": null,
   "outputs": [],
   "source": [
    "shadows.sort(key=lambda x: x.pitching_rating, reverse=True)\n",
    "best_pitching_shadows = shadows[0:4]\n",
    "worst_pitcher = sort_rotation(pies, 1)[0]\n",
    "\n",
    "display(get_stars([worst_pitcher] + best_pitching_shadows))\n",
    "display(set_heatmap(get_pitching_stlats([worst_pitcher] + best_pitching_shadows), maxVal=1))"
   ],
   "metadata": {
    "collapsed": false,
    "pycharm": {
     "name": "#%%\n",
     "is_executing": true
    }
   }
  },
  {
   "cell_type": "markdown",
   "source": [
    "### Move\n",
    "**Move a Player on your Team to the desired location on your Roster.**\n",
    "\n",
    "Move would move a player from any location on the team (including Shadows) to another position, increasing the number\n",
    "of players in that position. See below for moving our best hitting pitcher or best pitching hitter into their preferred\n",
    "position.\n",
    "\n",
    "**Batting**"
   ],
   "metadata": {
    "collapsed": false,
    "pycharm": {
     "name": "#%% md\n"
    }
   }
  },
  {
   "cell_type": "code",
   "execution_count": null,
   "outputs": [],
   "source": [
    "bhp = best_hitting_pitcher(real_pies)\n",
    "bph = best_pitching_hitter(real_pies)\n",
    "\n",
    "display(Markdown(f\"Moving {bhp.name} to the Lineup\"))\n",
    "display(pandas.DataFrame(move_player(pies, bhp, \"lineup\")))\n",
    "\n",
    "display(Markdown(f\"Moving {worst_batter.name} to the Shadows\"))\n",
    "display(pandas.DataFrame(move_player(pies, worst_batter, \"bench\")))"
   ],
   "metadata": {
    "collapsed": false,
    "pycharm": {
     "name": "#%%\n",
     "is_executing": true
    }
   }
  },
  {
   "cell_type": "markdown",
   "source": [
    "**Pitching**"
   ],
   "metadata": {
    "collapsed": false,
    "pycharm": {
     "name": "#%% md\n"
    }
   }
  },
  {
   "cell_type": "code",
   "execution_count": null,
   "outputs": [],
   "source": [
    "display(Markdown(f\"Moving {bph.name} to the Rotation\"))\n",
    "display(pandas.DataFrame(move_player(pies, bph, \"rotation\")))\n",
    "\n",
    "display(Markdown(f\"Moving {worst_pitcher.name} to the Shadows\"))\n",
    "display(pandas.DataFrame(move_player(pies, worst_pitcher, \"bullpen\")))"
   ],
   "metadata": {
    "collapsed": false,
    "pycharm": {
     "name": "#%%\n",
     "is_executing": true
    }
   }
  },
  {
   "cell_type": "markdown",
   "source": [
    "### Item Move\n",
    "**Move an Item from your Team to a Player on your Team, repairing it fully.**\n",
    "\n",
    "See below for a list of all non-base items available to swap. Items can be moved to any player, regardless of if they\n",
    "have an item or not. Items that break or are dropped will likely still be applicable if the will vote is submitted prior\n",
    "to the item going away."
   ],
   "metadata": {
    "collapsed": false,
    "pycharm": {
     "name": "#%% md\n"
    }
   }
  },
  {
   "cell_type": "code",
   "execution_count": null,
   "outputs": [],
   "source": [
    "all_items = []\n",
    "for p in pies.lineup + pies.rotation + pies.bench + pies.bullpen:\n",
    "    for item in p.items:\n",
    "        if len(item.adjustments) > 1:\n",
    "            all_items.append((p, item))\n",
    "\n",
    "table = []\n",
    "for p, i in all_items:\n",
    "    mods = [Modification.load_one(a[\"mod\"]).title for a in i.adjustments if a[\"type\"] == 0]\n",
    "    table.append(pandas.Series({\"Wielder\": p.name, \"Max Durability\": i.durability, \"Modifications\": mods}, name=i.name))\n",
    "pandas.DataFrame(table)\n"
   ],
   "metadata": {
    "collapsed": false,
    "pycharm": {
     "name": "#%%\n",
     "is_executing": true
    }
   }
  },
  {
   "cell_type": "markdown",
   "metadata": {},
   "source": [
    "### Shadow Infuse\n",
    "**Boost a Player in your Team's Shadows by 15% to 30% in a Stat Category of your choice.**\n",
    "\n",
    "See below for how this would affect various team members at the 2 extreme percentages. This will only affect one player.\n",
    "\n",
    "**15% Change:**"
   ]
  },
  {
   "cell_type": "code",
   "execution_count": null,
   "outputs": [],
   "source": [
    "infuse_batting_table, _, _ = improve_team_batting_table(real_pies, 0.15, shadows=True)\n",
    "display(infuse_batting_table)\n",
    "display(set_heatmap(get_batting_stlats(improve_team_batting(real_pies, 0.15, shadows=True)), maxVal=1))"
   ],
   "metadata": {
    "collapsed": false,
    "pycharm": {
     "name": "#%%\n",
     "is_executing": true
    }
   }
  },
  {
   "cell_type": "code",
   "execution_count": null,
   "outputs": [],
   "source": [
    "infuse_pitching_table, _, _ = improve_team_pitching_table(real_pies, 0.15, shadows=True)\n",
    "display(infuse_pitching_table)\n",
    "display(set_heatmap(get_pitching_stlats(improve_team_pitching(real_pies, 0.15, shadows=True)), maxVal=1))\n"
   ],
   "metadata": {
    "collapsed": false,
    "pycharm": {
     "name": "#%%\n",
     "is_executing": true
    }
   }
  },
  {
   "cell_type": "markdown",
   "source": [
    "**30% Change:**"
   ],
   "metadata": {
    "collapsed": false
   }
  },
  {
   "cell_type": "code",
   "execution_count": null,
   "outputs": [],
   "source": [
    "infuse_lineup_table, _, _ = improve_team_batting_table(real_pies, 0.30, shadows=True)\n",
    "display(infuse_lineup_table)\n",
    "display(set_heatmap(get_batting_stlats(improve_team_batting(real_pies, 0.30, shadows=True)), maxVal=1))"
   ],
   "metadata": {
    "collapsed": false,
    "pycharm": {
     "name": "#%%\n",
     "is_executing": true
    }
   }
  },
  {
   "cell_type": "code",
   "execution_count": null,
   "outputs": [],
   "source": [
    "infuse_rotation_table, _, _ = improve_team_pitching_table(real_pies, 0.30, shadows=True)\n",
    "display(infuse_rotation_table)\n",
    "display(set_heatmap(get_pitching_stlats(improve_team_pitching(real_pies, 0.30, shadows=True)), maxVal=1))\n"
   ],
   "metadata": {
    "collapsed": false,
    "pycharm": {
     "name": "#%%\n",
     "is_executing": true
    }
   }
  },
  {
   "cell_type": "markdown",
   "source": [
    "### Shadow Revoke\n",
    "**Revoke a Player from your Team's Shadows.**\n",
    "\n",
    "This would remove a player from our shadows by moving them to another team, without providing a replacement."
   ],
   "metadata": {
    "collapsed": false,
    "pycharm": {
     "name": "#%% md\n"
    }
   }
  },
  {
   "cell_type": "markdown",
   "source": [
    "### Reform\n",
    "**Re-roll an eligible Permanent Modification for a Player on your Team.**\n",
    "\n",
    "Below is a list of all players with modifications that could be rerolled. It would be better to reroll modifications\n",
    "with negative effects."
   ],
   "metadata": {
    "collapsed": false
   }
  },
  {
   "cell_type": "code",
   "execution_count": null,
   "outputs": [],
   "source": [
    "mod_players = [x for x in pies.lineup + pies.rotation if len(x.perm_attr) > 0]\n",
    "mod_list = pandas.DataFrame()\n",
    "for player in mod_players:\n",
    "    data = pandas.Series({\"mods\": [x.title for x in player.perm_attr if x.id not in UNREFORMED_MODS]}, name=player.name)\n",
    "    if len(data[\"mods\"]) == 0:\n",
    "        continue\n",
    "    mod_list = mod_list.append(data)\n",
    "mod_list"
   ],
   "metadata": {
    "collapsed": false,
    "pycharm": {
     "name": "#%%\n",
     "is_executing": true
    }
   }
  },
  {
   "cell_type": "markdown",
   "metadata": {},
   "source": [
    "### Alternate Trust\n",
    "**Call in an Alternate for a Player on your Team, with a mystery Benefit.**\n",
    "\n",
    "An Alternate is a player reroll and the Benefit is an unknown modification. Alternates were changed for S18 and onward\n",
    "to always result in a player with the same combined stars. This would be useful for rerolling a player that has a\n",
    "less-optimal player attribute distribution."
   ]
  },
  {
   "cell_type": "markdown",
   "metadata": {},
   "source": [
    "___\n",
    "## Blessings\n",
    "\n",
    "Blessings are selected by raffle across all teams. Each blessing will be awarded to one random team, where teams with\n",
    "more votes are more likely to be selected."
   ]
  },
  {
   "cell_type": "markdown",
   "metadata": {},
   "source": [
    "### Now Hiring\n",
    "**Recruit a Random Player with the Roamin' Modification to your Team.**\n",
    "\n",
    "See below for list of all active players with Roamin'. This will not remove an existing player from our team."
   ]
  },
  {
   "cell_type": "code",
   "execution_count": null,
   "outputs": [],
   "source": [
    "league = League.load()\n",
    "divisions = league.subleagues\n",
    "all_teams = []\n",
    "for division in divisions.values():\n",
    "    all_teams.extend(list(division.teams.values()))"
   ],
   "metadata": {
    "collapsed": false,
    "pycharm": {
     "name": "#%%\n",
     "is_executing": true
    }
   }
  },
  {
   "cell_type": "code",
   "execution_count": null,
   "outputs": [],
   "source": [
    "siphons = []\n",
    "for team in all_teams:\n",
    "    siphons.extend([x for x in team.lineup + team.rotation if \"WANDERER\" in x._perm_attr_ids])\n",
    "get_stars(siphons, include_team=True)"
   ],
   "metadata": {
    "collapsed": false,
    "pycharm": {
     "name": "#%%\n",
     "is_executing": true
    }
   }
  },
  {
   "cell_type": "markdown",
   "metadata": {},
   "source": [
    "### Super Roamin' Fifth Base\n",
    "**Give the best Baserunner in your Team's Lineup the Legendary Super Roamin' Fifth Base.**\n",
    "\n",
    "Unknown, likely an Item with both Super Roamin' and Fifth Base. A Super Roamin' player will likely immediately leave\n",
    "our team."
   ]
  },
  {
   "cell_type": "code",
   "execution_count": null,
   "outputs": [],
   "source": [
    "p = pies.lineup.copy()\n",
    "p.sort(key=lambda x: x.baserunning_rating, reverse=True)\n",
    "display(Markdown(f\"Will be given to {p[0].name}.\"))"
   ],
   "metadata": {
    "collapsed": false,
    "pycharm": {
     "name": "#%%\n",
     "is_executing": true
    }
   }
  },
  {
   "cell_type": "markdown",
   "metadata": {},
   "source": [
    "### Fax Preparation\n",
    "**Move the Best Pitcher in your Team's Lineup to your Shadows.**\n",
    "\n",
    "See below for analysis."
   ]
  },
  {
   "cell_type": "code",
   "execution_count": null,
   "outputs": [],
   "source": [
    "bph = best_pitching_hitter(pies)\n",
    "display(Markdown(f\"**Moving {bph.name} to the Shadows**\"))\n",
    "\n",
    "pandas.DataFrame(remove_player(pies, bph))"
   ],
   "metadata": {
    "collapsed": false,
    "pycharm": {
     "name": "#%%\n",
     "is_executing": true
    }
   }
  },
  {
   "cell_type": "markdown",
   "source": [
    "### Hits Keep Coming\n",
    "**Sort your Lineup in order of Tragicness.**\n",
    "\n",
    "See below for new lineup order."
   ],
   "metadata": {
    "collapsed": false
   }
  },
  {
   "cell_type": "code",
   "execution_count": null,
   "outputs": [],
   "source": [
    "new_lineup = pies.lineup.copy()\n",
    "new_lineup.sort(key=lambda x: x.tragicness, reverse=True)\n",
    "get_stars(new_lineup)"
   ],
   "metadata": {
    "collapsed": false,
    "pycharm": {
     "name": "#%%\n",
     "is_executing": true
    }
   }
  },
  {
   "cell_type": "markdown",
   "metadata": {},
   "source": [
    "### Outdoorsy\n",
    "**A random Player on your Team will play better in Grandiose Ballparks and worse in Ungrandiose Ballparks.**\n",
    "\n",
    "This will likely cause a player to perform better in Stadiums with Grandiosity >0.5 and worst in Stadiums with\n",
    "Grandiosity <0.5."
   ]
  },
  {
   "cell_type": "code",
   "execution_count": null,
   "outputs": [],
   "source": [
    "stadiums = Stadium.load_all()\n",
    "table = pandas.DataFrame()\n",
    "for s in stadiums.values():\n",
    "    table = table.append(pandas.Series({\"Grandiosity\": s.grandiosity}, name=s.team_id.nickname))\n",
    "table = table.sort_values(by=\"Grandiosity\")\n",
    "set_heatmap(table, maxVal=1)"
   ],
   "metadata": {
    "collapsed": false,
    "pycharm": {
     "name": "#%%\n",
     "is_executing": true
    }
   }
  },
  {
   "cell_type": "markdown",
   "source": [
    "### Gaudy\n",
    "**A random Player on your Team will play better in Ballparks with more Modifications.**\n",
    "\n",
    "See below for list of Stadiums and their number of modifications."
   ],
   "metadata": {
    "collapsed": false,
    "pycharm": {
     "name": "#%% md\n"
    }
   }
  },
  {
   "cell_type": "code",
   "execution_count": null,
   "outputs": [],
   "source": [
    "table = pandas.DataFrame()\n",
    "for s in stadiums.values():\n",
    "    table = table.append(pandas.Series({\"Number of Mods\": len(s.mods)}, name=s.team_id.nickname))\n",
    "table.sort_values(by=\"Number of Mods\")"
   ],
   "metadata": {
    "collapsed": false,
    "pycharm": {
     "name": "#%%\n",
     "is_executing": true
    }
   }
  },
  {
   "cell_type": "markdown",
   "source": [
    "### Cluttered\n",
    "**A random Player on your Team will play better in Filthier Ballparks.**\n",
    "\n",
    "See below for list of Filthiest Stadiums."
   ],
   "metadata": {
    "collapsed": false
   }
  },
  {
   "cell_type": "code",
   "execution_count": null,
   "outputs": [],
   "source": [
    "table = pandas.DataFrame()\n",
    "for s in stadiums.values():\n",
    "    table = table.append(pandas.Series({\"Filthiness\": s.filthiness}, name=s.team_id.nickname))\n",
    "table = table.sort_values(by=\"Filthiness\")\n",
    "set_heatmap(table, maxVal=1)"
   ],
   "metadata": {
    "collapsed": false,
    "pycharm": {
     "name": "#%%\n",
     "is_executing": true
    }
   }
  },
  {
   "cell_type": "markdown",
   "source": [
    "### Guarded\n",
    "**A random Player on your Team will play better in Fortified Ballparks and worse in Unfortified Ballparks.**\n",
    "\n",
    "This will likely cause a player to perform better in Stadiums with Fortification >0.5 and worst in Stadiums with\n",
    "Fortification <0.5."
   ],
   "metadata": {
    "collapsed": false,
    "pycharm": {
     "name": "#%% md\n"
    }
   }
  },
  {
   "cell_type": "code",
   "execution_count": null,
   "outputs": [],
   "source": [
    "table = pandas.DataFrame()\n",
    "for s in stadiums.values():\n",
    "    table = table.append(pandas.Series({\"Fortification\": s.fortification}, name=s.team_id.nickname))\n",
    "table = table.sort_values(by=\"Fortification\")\n",
    "set_heatmap(table, maxVal=1)"
   ],
   "metadata": {
    "collapsed": false,
    "pycharm": {
     "name": "#%%\n",
     "is_executing": true
    }
   }
  },
  {
   "cell_type": "markdown",
   "source": [
    "### Practice\n",
    "**Your Team's Lineup and Rotation will have their Defense Boosted from 1% to 4%.**\n",
    "\n",
    "**Your Team's Lineup will have their Baserunning Boosted from 1% to 4%.**\n",
    "\n",
    "**Your Team's Rotation will have their Pitching Boosted from 1% to 4%.**\n",
    "\n",
    "**Your Team's Lineup will have their Hitting Boosted from 1% to 4%.**\n",
    "\n",
    "These blessings increase the team-wide stats. See below for worst and best case rolls.\n",
    "\n",
    "#### Batting Practice\n",
    "\n",
    "**Worst Case**"
   ],
   "metadata": {
    "collapsed": false
   }
  },
  {
   "cell_type": "code",
   "execution_count": null,
   "outputs": [],
   "source": [
    "table, total, avg = improve_team_batting_table(real_pies, 0.01)\n",
    "display(Markdown(\"Change in Total stars: \" + str(total[\"change_in_batting_stars\"])))\n",
    "display(Markdown(\"Change in Average stars: \" + str(avg[\"change_in_batting_stars\"])))\n",
    "display(table)\n",
    "display(set_heatmap(get_batting_stlats(improve_team_batting(real_pies, 0.01)), maxVal=1))"
   ],
   "metadata": {
    "collapsed": false,
    "pycharm": {
     "name": "#%%\n",
     "is_executing": true
    }
   }
  },
  {
   "cell_type": "markdown",
   "source": [
    "**Best Case**"
   ],
   "metadata": {
    "collapsed": false
   }
  },
  {
   "cell_type": "code",
   "execution_count": null,
   "outputs": [],
   "source": [
    "table, total, avg = improve_team_batting_table(real_pies, 0.04)\n",
    "display(Markdown(\"Change in Total stars: \" + str(total[\"change_in_batting_stars\"])))\n",
    "display(Markdown(\"Change in Average stars: \" + str(avg[\"change_in_batting_stars\"])))\n",
    "display(table)\n",
    "display(set_heatmap(get_batting_stlats(improve_team_batting(real_pies, 0.04)), maxVal=1))\n"
   ],
   "metadata": {
    "collapsed": false,
    "pycharm": {
     "name": "#%%\n",
     "is_executing": true
    }
   }
  },
  {
   "cell_type": "markdown",
   "source": [
    "#### Pitching Practice\n",
    "\n",
    "**Worst Case**"
   ],
   "metadata": {
    "collapsed": false
   }
  },
  {
   "cell_type": "code",
   "execution_count": null,
   "outputs": [],
   "source": [
    "table, total, avg = improve_team_pitching_table(real_pies, 0.01)\n",
    "display(Markdown(\"Change in Total stars: \" + str(total[\"change_in_pitching_stars\"])))\n",
    "display(Markdown(\"Change in Average stars: \" + str(avg[\"change_in_pitching_stars\"])))\n",
    "display(table)\n",
    "display(set_heatmap(get_pitching_stlats(improve_team_pitching(real_pies, 0.01)), maxVal=1))"
   ],
   "metadata": {
    "collapsed": false,
    "pycharm": {
     "name": "#%%\n",
     "is_executing": true
    }
   }
  },
  {
   "cell_type": "markdown",
   "source": [
    "**Best Case**"
   ],
   "metadata": {
    "collapsed": false
   }
  },
  {
   "cell_type": "code",
   "execution_count": null,
   "outputs": [],
   "source": [
    "table, total, avg = improve_team_pitching_table(real_pies, 0.04)\n",
    "display(Markdown(\"Change in Total stars: \" + str(total[\"change_in_pitching_stars\"])))\n",
    "display(Markdown(\"Change in Average stars: \" + str(avg[\"change_in_pitching_stars\"])))\n",
    "display(table)\n",
    "display(set_heatmap(get_pitching_stlats(improve_team_pitching(real_pies, 0.04)), maxVal=1))"
   ],
   "metadata": {
    "collapsed": false,
    "pycharm": {
     "name": "#%%\n",
     "is_executing": true
    }
   }
  },
  {
   "cell_type": "markdown",
   "source": [
    "#### Running Practice\n",
    "\n",
    "**Worst Case**"
   ],
   "metadata": {
    "collapsed": false
   }
  },
  {
   "cell_type": "code",
   "execution_count": null,
   "outputs": [],
   "source": [
    "table, total, avg = improve_team_baserunning_table(real_pies, 0.01)\n",
    "display(Markdown(\"Change in Total stars: \" + str(total[\"change_in_baserunning_stars\"])))\n",
    "display(Markdown(\"Change in Average stars: \" + str(avg[\"change_in_baserunning_stars\"])))\n",
    "display(table)\n",
    "display(set_heatmap(get_baserunning_stlats(improve_team_baserunning(real_pies, 0.01)), maxVal=1))"
   ],
   "metadata": {
    "collapsed": false,
    "pycharm": {
     "name": "#%%\n",
     "is_executing": true
    }
   }
  },
  {
   "cell_type": "markdown",
   "source": [
    "**Best Case**"
   ],
   "metadata": {
    "collapsed": false
   }
  },
  {
   "cell_type": "code",
   "execution_count": null,
   "outputs": [],
   "source": [
    "table, total, avg = improve_team_baserunning_table(real_pies, 0.04)\n",
    "display(Markdown(\"Change in Total stars: \" + str(total[\"change_in_baserunning_stars\"])))\n",
    "display(Markdown(\"Change in Average stars: \" + str(avg[\"change_in_baserunning_stars\"])))\n",
    "display(table)\n",
    "display(set_heatmap(get_baserunning_stlats(improve_team_baserunning(real_pies, 0.04)), maxVal=1))"
   ],
   "metadata": {
    "collapsed": false,
    "pycharm": {
     "name": "#%%\n",
     "is_executing": true
    }
   }
  },
  {
   "cell_type": "markdown",
   "source": [
    "#### Defense Practice\n",
    "\n",
    "**Worst Case**"
   ],
   "metadata": {
    "collapsed": false
   }
  },
  {
   "cell_type": "code",
   "execution_count": null,
   "outputs": [],
   "source": [
    "table, total, avg = improve_team_defense_table(real_pies, 0.01)\n",
    "display(Markdown(\"Change in Total stars: \" + str(total[\"change_in_defense_stars\"])))\n",
    "display(Markdown(\"Change in Average stars: \" + str(avg[\"change_in_defense_stars\"])))\n",
    "display(table)\n",
    "display(set_heatmap(get_defense_stlats(improve_team_defense(real_pies, 0.01)), maxVal=1))"
   ],
   "metadata": {
    "collapsed": false,
    "pycharm": {
     "name": "#%%\n",
     "is_executing": true
    }
   }
  },
  {
   "cell_type": "markdown",
   "source": [
    "**Best Case**"
   ],
   "metadata": {
    "collapsed": false
   }
  },
  {
   "cell_type": "code",
   "execution_count": null,
   "outputs": [],
   "source": [
    "table, total, avg = improve_team_defense_table(real_pies, 0.04)\n",
    "display(Markdown(\"Change in Total stars: \" + str(total[\"change_in_defense_stars\"])))\n",
    "display(Markdown(\"Change in Average stars: \" + str(avg[\"change_in_defense_stars\"])))\n",
    "display(table)\n",
    "display(set_heatmap(get_defense_stlats(improve_team_defense(real_pies, 0.04)), maxVal=1))"
   ],
   "metadata": {
    "collapsed": false,
    "pycharm": {
     "name": "#%%\n",
     "is_executing": true
    }
   }
  },
  {
   "cell_type": "markdown",
   "source": [
    "### Shadow Boosts\n",
    "**Your Team's Shadows will have their Hitting Boosted from -5% to 20%.**\n",
    "\n",
    "**Your Team's Shadows will have their Pitching Boosted from -5% to 20%.**\n",
    "\n",
    "**Your Team's Shadows will have their Baserunning Boosted from -5% to 20%.**\n",
    "\n",
    "**Your Team's Shadows will have their Defense Boosted from -5% to 20%.**\n",
    "\n",
    "These blessings increase the team-wide stats or our shadow players. See below for worst and best case rolls. This\n",
    "assumes that it will only boost the respective shadow positions, so batting will only affect the bench, etc.\n",
    "\n",
    "#### Shadow of the Bats\n",
    "\n",
    "**Worst Case**"
   ],
   "metadata": {
    "collapsed": false
   }
  },
  {
   "cell_type": "code",
   "execution_count": null,
   "outputs": [],
   "source": [
    "table, total, avg = improve_team_batting_table(real_pies, -0.05, shadows=True)\n",
    "display(Markdown(\"Change in Total stars: \" + str(total[\"change_in_batting_stars\"])))\n",
    "display(Markdown(\"Change in Average stars: \" + str(avg[\"change_in_batting_stars\"])))\n",
    "display(table)\n",
    "display(set_heatmap(get_batting_stlats(improve_team_batting(pies, -0.05, shadows=True)), maxVal=1))"
   ],
   "metadata": {
    "collapsed": false,
    "pycharm": {
     "name": "#%%\n",
     "is_executing": true
    }
   }
  },
  {
   "cell_type": "markdown",
   "source": [
    "**Best Case**"
   ],
   "metadata": {
    "collapsed": false
   }
  },
  {
   "cell_type": "code",
   "execution_count": null,
   "outputs": [],
   "source": [
    "table, total, avg = improve_team_batting_table(real_pies, 0.20, shadows=True)\n",
    "display(Markdown(\"Change in Total stars: \" + str(total[\"change_in_batting_stars\"])))\n",
    "display(Markdown(\"Change in Average stars: \" + str(avg[\"change_in_batting_stars\"])))\n",
    "display(table)\n",
    "display(set_heatmap(get_batting_stlats(improve_team_batting(real_pies, 0.20, shadows=True)), maxVal=1))\n"
   ],
   "metadata": {
    "collapsed": false,
    "pycharm": {
     "name": "#%%\n",
     "is_executing": true
    }
   }
  },
  {
   "cell_type": "markdown",
   "source": [
    "#### Fax Numbers\n",
    "\n",
    "**Worst Case**"
   ],
   "metadata": {
    "collapsed": false
   }
  },
  {
   "cell_type": "code",
   "execution_count": null,
   "outputs": [],
   "source": [
    "table, total, avg = improve_team_pitching_table(real_pies, -0.05, shadows=True)\n",
    "display(Markdown(\"Change in Total stars: \" + str(total[\"change_in_pitching_stars\"])))\n",
    "display(Markdown(\"Change in Average stars: \" + str(avg[\"change_in_pitching_stars\"])))\n",
    "display(table)\n",
    "display(set_heatmap(get_pitching_stlats(improve_team_pitching(real_pies, -0.05, shadows=True)), maxVal=1))"
   ],
   "metadata": {
    "collapsed": false,
    "pycharm": {
     "name": "#%%\n",
     "is_executing": true
    }
   }
  },
  {
   "cell_type": "markdown",
   "source": [
    "**Best Case**"
   ],
   "metadata": {
    "collapsed": false
   }
  },
  {
   "cell_type": "code",
   "execution_count": null,
   "outputs": [],
   "source": [
    "table, total, avg = improve_team_pitching_table(real_pies, 0.20, shadows=True)\n",
    "display(Markdown(\"Change in Total stars: \" + str(total[\"change_in_pitching_stars\"])))\n",
    "display(Markdown(\"Change in Average stars: \" + str(avg[\"change_in_pitching_stars\"])))\n",
    "display(table)\n",
    "display(set_heatmap(get_pitching_stlats(improve_team_pitching(real_pies, 0.20, shadows=True)), maxVal=1))"
   ],
   "metadata": {
    "collapsed": false,
    "pycharm": {
     "name": "#%%\n",
     "is_executing": true
    }
   }
  },
  {
   "cell_type": "markdown",
   "source": [
    "#### Shadowrun\n",
    "\n",
    "**Worst Case**"
   ],
   "metadata": {
    "collapsed": false
   }
  },
  {
   "cell_type": "code",
   "execution_count": null,
   "outputs": [],
   "source": [
    "table, total, avg = improve_team_baserunning_table(real_pies, -0.05, shadows=True)\n",
    "display(Markdown(\"Change in Total stars: \" + str(total[\"change_in_baserunning_stars\"])))\n",
    "display(Markdown(\"Change in Average stars: \" + str(avg[\"change_in_baserunning_stars\"])))\n",
    "display(table)\n",
    "display(set_heatmap(get_baserunning_stlats(improve_team_baserunning(real_pies, -0.05, shadows=True)), maxVal=1))"
   ],
   "metadata": {
    "collapsed": false,
    "pycharm": {
     "name": "#%%\n",
     "is_executing": true
    }
   }
  },
  {
   "cell_type": "markdown",
   "source": [
    "**Best Case**"
   ],
   "metadata": {
    "collapsed": false
   }
  },
  {
   "cell_type": "code",
   "execution_count": null,
   "outputs": [],
   "source": [
    "table, total, avg = improve_team_baserunning_table(real_pies, 0.20, shadows=True)\n",
    "display(Markdown(\"Change in Total stars: \" + str(total[\"change_in_baserunning_stars\"])))\n",
    "display(Markdown(\"Change in Average stars: \" + str(avg[\"change_in_baserunning_stars\"])))\n",
    "display(table)\n",
    "display(set_heatmap(get_baserunning_stlats(improve_team_baserunning(real_pies, 0.20, shadows=True)), maxVal=1))"
   ],
   "metadata": {
    "collapsed": false,
    "pycharm": {
     "name": "#%%\n",
     "is_executing": true
    }
   }
  },
  {
   "cell_type": "markdown",
   "source": [
    "#### Cover Letters\n",
    "\n",
    "**Worst Case**"
   ],
   "metadata": {
    "collapsed": false
   }
  },
  {
   "cell_type": "code",
   "execution_count": null,
   "outputs": [],
   "source": [
    "table, total, avg = improve_team_defense_table(real_pies, -0.05, shadows=True)\n",
    "display(Markdown(\"Change in Total stars: \" + str(total[\"change_in_defense_stars\"])))\n",
    "display(Markdown(\"Change in Average stars: \" + str(avg[\"change_in_defense_stars\"])))\n",
    "display(table)\n",
    "display(set_heatmap(get_defense_stlats(improve_team_defense(real_pies, -0.05, shadows=True)), maxVal=1))"
   ],
   "metadata": {
    "collapsed": false,
    "pycharm": {
     "name": "#%%\n",
     "is_executing": true
    }
   }
  },
  {
   "cell_type": "markdown",
   "source": [
    "**Best Case**"
   ],
   "metadata": {
    "collapsed": false
   }
  },
  {
   "cell_type": "code",
   "execution_count": null,
   "outputs": [],
   "source": [
    "table, total, avg = improve_team_defense_table(real_pies, 0.20, shadows=True)\n",
    "display(Markdown(\"Change in Total stars: \" + str(total[\"change_in_defense_stars\"])))\n",
    "display(Markdown(\"Change in Average stars: \" + str(avg[\"change_in_defense_stars\"])))\n",
    "display(table)\n",
    "display(set_heatmap(get_defense_stlats(improve_team_defense(real_pies, 0.20, shadows=True)), maxVal=1))"
   ],
   "metadata": {
    "collapsed": false,
    "pycharm": {
     "name": "#%%\n",
     "is_executing": true
    }
   }
  },
  {
   "cell_type": "markdown",
   "source": [
    "### Junk Baller\n",
    "**A Random Player in your Team's Rotation will have their Unthwackability Boosted from -20% to +60%.**\n",
    "\n",
    "Unthwackability is the player attribute most associated with increasing ground and flyouts and reducing overall hits.\n",
    "See below for attribute change for best and worst case rolls.\n",
    "\n",
    "**Worst Case**"
   ],
   "metadata": {
    "collapsed": false,
    "pycharm": {
     "name": "#%% md\n"
    }
   }
  },
  {
   "cell_type": "code",
   "execution_count": null,
   "outputs": [],
   "source": [
    "new_team = []\n",
    "for player in real_pies.rotation:\n",
    "    new_team.append(player.simulated_copy(buffs={\"unthwackability\": -0.2}))\n",
    "display(get_stars(new_team))\n",
    "display(set_heatmap(get_pitching_stlats(new_team), maxVal=1))"
   ],
   "metadata": {
    "collapsed": false,
    "pycharm": {
     "name": "#%%\n",
     "is_executing": true
    }
   }
  },
  {
   "cell_type": "markdown",
   "source": [
    "**Best Case**"
   ],
   "metadata": {
    "collapsed": false,
    "pycharm": {
     "name": "#%% md\n"
    }
   }
  },
  {
   "cell_type": "code",
   "execution_count": null,
   "outputs": [],
   "source": [
    "new_team = []\n",
    "for player in real_pies.rotation:\n",
    "    new_team.append(player.simulated_copy(buffs={\"unthwackability\": 0.6}))\n",
    "display(get_stars(new_team))\n",
    "display(set_heatmap(get_pitching_stlats(new_team), maxVal=1))"
   ],
   "metadata": {
    "collapsed": false,
    "pycharm": {
     "name": "#%%\n",
     "is_executing": true
    }
   }
  },
  {
   "cell_type": "markdown",
   "source": [
    "### Walk it Off\n",
    "**A Random Player in your Team's Lineup will have their Moxie Boosted from -20% to +60%.**\n",
    "\n",
    "Moxie is the player attribute most associated with plate discipline, and increases walks.\n",
    "See below for attribute change for best and worst case rolls.\n",
    "\n",
    "**Worst Case**"
   ],
   "metadata": {
    "collapsed": false,
    "pycharm": {
     "name": "#%% md\n"
    }
   }
  },
  {
   "cell_type": "code",
   "execution_count": null,
   "outputs": [],
   "source": [
    "new_team = []\n",
    "for player in real_pies.lineup:\n",
    "    new_team.append(player.simulated_copy(buffs={\"moxie\": -0.2}))\n",
    "display(get_stars(new_team))\n",
    "display(set_heatmap(get_batting_stlats(new_team), maxVal=1))"
   ],
   "metadata": {
    "collapsed": false,
    "pycharm": {
     "name": "#%%\n",
     "is_executing": true
    }
   }
  },
  {
   "cell_type": "markdown",
   "source": [
    "**Best Case**"
   ],
   "metadata": {
    "collapsed": false
   }
  },
  {
   "cell_type": "code",
   "execution_count": null,
   "outputs": [],
   "source": [
    "new_team = []\n",
    "for player in real_pies.lineup:\n",
    "    new_team.append(player.simulated_copy(buffs={\"moxie\": 0.6}))\n",
    "display(get_stars(new_team))\n",
    "display(set_heatmap(get_batting_stlats(new_team), maxVal=1))"
   ],
   "metadata": {
    "collapsed": false,
    "pycharm": {
     "name": "#%%\n",
     "is_executing": true
    }
   }
  },
  {
   "cell_type": "markdown",
   "source": [
    "### Feast or Famine\n",
    "**A Random Player from your Team's Lineup will have their Indulgence Boosted from -20% to +60%.**\n",
    "\n",
    "Indulgence is the player attribute most associated with baserunners getting advancement on batter outs.\n",
    "See below for attribute change for best and worst case rolls.\n",
    "\n",
    "**Worst Case**"
   ],
   "metadata": {
    "collapsed": false
   }
  },
  {
   "cell_type": "code",
   "execution_count": null,
   "outputs": [],
   "source": [
    "new_team = []\n",
    "for player in real_pies.lineup:\n",
    "    new_team.append(player.simulated_copy(buffs={\"indulgence\": -0.2}))\n",
    "display(get_stars(new_team))\n",
    "display(set_heatmap(get_baserunning_stlats(new_team), maxVal=1))"
   ],
   "metadata": {
    "collapsed": false,
    "pycharm": {
     "name": "#%%\n",
     "is_executing": true
    }
   }
  },
  {
   "cell_type": "markdown",
   "source": [
    "**Best Case**"
   ],
   "metadata": {
    "collapsed": false
   }
  },
  {
   "cell_type": "code",
   "execution_count": null,
   "outputs": [],
   "source": [
    "new_team = []\n",
    "for player in real_pies.lineup:\n",
    "    new_team.append(player.simulated_copy(buffs={\"indulgence\": 0.6}))\n",
    "display(get_stars(new_team))\n",
    "display(set_heatmap(get_baserunning_stlats(new_team), maxVal=1))"
   ],
   "metadata": {
    "collapsed": false,
    "pycharm": {
     "name": "#%%\n",
     "is_executing": true
    }
   }
  },
  {
   "cell_type": "markdown",
   "source": [
    "### Revelations\n",
    "**A Random Player on your Team will have their Omniscience Boosted from -20% to +60%.**\n",
    "\n",
    "Omniscience is the player attribute most associated with fielding outs and general defense.\n",
    "See below for attribute change for best and worst case rolls.\n",
    "\n",
    "**Worst Case**"
   ],
   "metadata": {
    "collapsed": false,
    "pycharm": {
     "name": "#%% md\n"
    }
   }
  },
  {
   "cell_type": "code",
   "execution_count": null,
   "outputs": [],
   "source": [
    "new_team = []\n",
    "for player in real_pies.lineup + real_pies.rotation:\n",
    "    new_team.append(player.simulated_copy(buffs={\"omniscience\": -0.2}))\n",
    "display(get_stars(new_team))\n",
    "display(set_heatmap(get_defense_stlats(new_team), maxVal=1))"
   ],
   "metadata": {
    "collapsed": false,
    "pycharm": {
     "name": "#%%\n",
     "is_executing": true
    }
   }
  },
  {
   "cell_type": "markdown",
   "source": [
    "**Best Case**"
   ],
   "metadata": {
    "collapsed": false
   }
  },
  {
   "cell_type": "code",
   "execution_count": null,
   "outputs": [],
   "source": [
    "new_team = []\n",
    "for player in real_pies.lineup + real_pies.rotation:\n",
    "    new_team.append(player.simulated_copy(buffs={\"omniscience\": 0.6}))\n",
    "display(get_stars(new_team))\n",
    "display(set_heatmap(get_defense_stlats(new_team), maxVal=1))"
   ],
   "metadata": {
    "collapsed": false,
    "pycharm": {
     "name": "#%%\n",
     "is_executing": true
    }
   }
  },
  {
   "cell_type": "markdown",
   "source": [
    "### Supply Runs\n",
    "**Each Player in your Team's Shadows with an available Item Slot will open a Generic Sunglasses Crate.**\n",
    "\n",
    "**Each Player in your Team's Shadows with an available Item Slot will open a Generic Helmet Crate.**\n",
    "\n",
    "\n",
    "For reference, these items boost the following:\n",
    "\n",
    "\n",
    "| Item Type  | Attributes | Stat |\n",
    "| ---------- | ---------- | ---- |\n",
    "| Sunglasses | +Cinnamon | Vibes |\n",
    "| Helmet     | +Pressurization | Vibes |\n",
    "\n",
    "\n",
    "This would provide Generic Sunglasses or Helmets to the following players:"
   ],
   "metadata": {
    "collapsed": false,
    "pycharm": {
     "name": "#%% md\n"
    }
   }
  },
  {
   "cell_type": "code",
   "execution_count": null,
   "outputs": [],
   "source": [
    "free_items = [x for x in pies.bench + pies.bullpen if (x.evolution + 1) - len([x for x in x.items if x.health > 0]) > 0]\n",
    "get_stars(free_items)"
   ],
   "metadata": {
    "collapsed": false,
    "pycharm": {
     "name": "#%%\n",
     "is_executing": true
    }
   }
  },
  {
   "cell_type": "markdown",
   "source": [
    "### Targeted Evolution\n",
    "**A random pitcher and a random hitter on your Team will Advance.**\n",
    "\n",
    "An Advanced player will gain one evolution level, increasing their minimum star level by one for all stats and raising\n",
    "their stars to the minimum if they are lower than that. It also allows players to hold an additional item."
   ],
   "metadata": {
    "collapsed": false,
    "pycharm": {
     "name": "#%% md\n"
    }
   }
  },
  {
   "cell_type": "markdown",
   "source": [
    "### Headliners\n",
    "**Arrange your lineup in order of their Idolatry.**\n",
    "\n",
    "The exact ordering of our team by Idolatry is unknown. With sufficient team organization this could be used to improve\n",
    "lineup efficiency.\n"
   ],
   "metadata": {
    "collapsed": false
   }
  },
  {
   "cell_type": "markdown",
   "source": [
    "### Moderation\n",
    "\n",
    "**Your Team will accept Unruns after each non-loss so that they only non-lose by 1 Run.**\n",
    "\n",
    "This will reduce our score in games where we Win to the opponent's score plus 1. So if the Pies won a game 7-3, it would\n",
    "reduce the score to 4-3. This would be helpful for lowering eDensity, as Runs are included in that equation."
   ],
   "metadata": {
    "collapsed": false,
    "pycharm": {
     "name": "#%% md\n"
    }
   }
  },
  {
   "cell_type": "markdown",
   "source": [
    "### Underhanded\n",
    "\n",
    "**Make contact, I dare you. Make a random Player in your Team's Rotation Underhanded. Home Runs will be Unruns against them.**\n",
    "\n",
    "This would cause opponents to earn negative runs when they hit a Home Run against the pitcher with this Modification."
   ],
   "metadata": {
    "collapsed": false,
    "pycharm": {
     "name": "#%% md\n"
    }
   }
  },
  {
   "cell_type": "markdown",
   "source": [
    "### Subtractor\n",
    "\n",
    "**A random Player in another Team's Lineup will become a Subtractor.**\n",
    "\n",
    "The effect of Subtractor is unknown. Interestingly, this would affect another team."
   ],
   "metadata": {
    "collapsed": false,
    "pycharm": {
     "name": "#%% md\n"
    }
   }
  },
  {
   "cell_type": "markdown",
   "source": [
    "### Go Big? Go Home\n",
    "\n",
    "**A random Player in another Team's Lineup will become an Underachiever.**\n",
    "\n",
    "The effect of Underachiever is unknown. Interestingly, this would affect another team."
   ],
   "metadata": {
    "collapsed": false,
    "pycharm": {
     "name": "#%% md\n"
    }
   }
  },
  {
   "cell_type": "markdown",
   "source": [
    "## Gifts\n",
    "\n",
    "Gifts are awarded to teams based on contributions from other teams. Each team creates a Wishlist of items that they\n",
    "would like, and the top items on the wishlist are awarded during the Latesiesta."
   ],
   "metadata": {
    "collapsed": false
   }
  },
  {
   "cell_type": "markdown",
   "source": [
    "### Collector's Editions\n",
    "\n",
    "Collectors Editions move a Legendary player to the team. Replicas act as copies of that player and will turn to Dust\n",
    "after elections.\n",
    "\n",
    "Special Notes:\n",
    "* Nagomi has fake Attractor stars, this analysis uses the player attributes.\n",
    "* Chorby is still unstable, and is likely to get incinerated if possible.\n",
    "* Chorby replicas have 0 soul, so are safe from consumers"
   ],
   "metadata": {
    "collapsed": false
   }
  },
  {
   "cell_type": "code",
   "execution_count": null,
   "outputs": [],
   "source": [
    "york = Player.find_by_name(\"York Silk\")\n",
    "nagomi = Player.find_by_name(\"Nagomi Mcdaniel\")\n",
    "nagomi.batting_rating = None\n",
    "nagomi.baserunning_rating = None\n",
    "nagomi.defense_rating = None\n",
    "aldon = Player.find_by_name(\"Aldon Cashmoney\")\n",
    "goodwin = Player.find_by_name(\"Goodwin Morin\")\n",
    "\n",
    "pm = Player.find_by_name(\"Pitching Machine\")\n",
    "chorby = Player.find_by_name(\"Chorby Soul\")\n",
    "\n",
    "display(Markdown(\"#### Batting\"))\n",
    "display(set_heatmap(get_batting_stlats([york, nagomi, aldon, goodwin] + pies.lineup), maxVal=1.5))\n",
    "\n",
    "display(Markdown(\"Adding York Silk\"))\n",
    "display(pandas.DataFrame(move_player(pies, york, position='lineup')))\n",
    "\n",
    "display(Markdown(\"Adding Nagomi Mcdaniel\"))\n",
    "display(pandas.DataFrame(move_player(pies, nagomi, position='lineup')))\n",
    "\n",
    "display(Markdown(\"Adding Aldon Cashmoney\"))\n",
    "display(pandas.DataFrame(move_player(pies, aldon, position='lineup')))\n",
    "\n",
    "display(Markdown(\"Adding Goodwin Morin\"))\n",
    "display(pandas.DataFrame(move_player(pies, goodwin, position='lineup')))\n",
    "\n",
    "display(Markdown(\"#### Pitching\"))\n",
    "display(set_heatmap(get_pitching_stlats([pm, chorby] + pies.rotation), maxVal=1.5))\n",
    "\n",
    "display(Markdown(\"Adding Pitching Machine\"))\n",
    "display(pandas.DataFrame(move_player(pies, pm, position='rotation')))\n",
    "\n",
    "display(Markdown(\"Adding Chorby Soul\"))\n",
    "display(pandas.DataFrame(move_player(pies, chorby, position='rotation')))"
   ],
   "metadata": {
    "collapsed": false,
    "pycharm": {
     "name": "#%%\n",
     "is_executing": true
    }
   }
  },
  {
   "cell_type": "markdown",
   "source": [
    "### Solo Editions\n",
    "\n",
    "These gifts provide a random player with a benefit for the lateseason and postseason.\n",
    "\n",
    "* Fourth Strike: Player will be out on 4 strikes instead of 3.\n",
    "* Walk in the Park: Player will earn a walk on 2 balls rather than 3.\n",
    "* Ambitious: Player will overperform in the postseason."
   ],
   "metadata": {
    "collapsed": false
   }
  },
  {
   "cell_type": "markdown",
   "source": [
    "### Team Editions\n",
    "\n",
    "These gifts provide a team-wide benefit for the lateseason and postseason.\n",
    "\n",
    "* Life of the Party: Increases the improvement of each party while in Party Time.\n",
    "* Late to the Party: Team will overperform in the Lateseason.\n",
    "* Home Field Advantage: Team will start each home game with 1 run. Playoff games alternate between home and away each game.\n",
    "* Fireproof: Team will be safe from incinerations. Pies only have 1 Solar Eclipse game in the lateseason.\n",
    "* Soundproof: Team will be safe from Feedback. Pies have 2 Feedback weather games in the lateseason.\n",
    "* Gravity: Team will be safe from Reverb. Pies only have 1 Reverb weather game in the lateseason."
   ],
   "metadata": {
    "collapsed": false
   }
  },
  {
   "cell_type": "markdown",
   "source": [
    "### Handcrafted Drops\n",
    "\n",
    "These will provide Items which have additional stat increases and random special effects.\n",
    "\n",
    "|Type | Attribute | Stat |\n",
    "| --- | --- | --- |\n",
    "| Cannon | +Overpowerment | Pitching |\n",
    "| Jersey | +Musclitude | Batting |\n",
    "| Necklace | +Moxie | Batting |\n",
    "| Phone | ??? | ??? |\n",
    "| Quill | ??? | ??? |\n",
    "| Ring | +Ruthlessness | Pitching |\n",
    "| Sunglasses | +Cinnamon | Vibes |\n",
    "\n",
    "See below for a list of players that can receive them.\n",
    "\n",
    "**Jersey, Necklace**"
   ],
   "metadata": {
    "collapsed": false
   }
  },
  {
   "cell_type": "code",
   "execution_count": null,
   "outputs": [],
   "source": [
    "free_items_lineup = [x for x in pies.lineup if (x.evolution + 1) - len([x for x in x.items if x.health > 0]) > 0]\n",
    "get_stars(free_items_lineup)"
   ],
   "metadata": {
    "collapsed": false,
    "pycharm": {
     "name": "#%%\n",
     "is_executing": true
    }
   }
  },
  {
   "cell_type": "markdown",
   "source": [
    "**Cannon, Quill, Ring**"
   ],
   "metadata": {
    "collapsed": false
   }
  },
  {
   "cell_type": "code",
   "execution_count": null,
   "outputs": [],
   "source": [
    "free_items_rotation= [x for x in pies.rotation if (x.evolution + 1) - len([x for x in x.items if x.health > 0]) > 0]\n",
    "get_stars(free_items_rotation)"
   ],
   "metadata": {
    "collapsed": false,
    "pycharm": {
     "name": "#%%\n",
     "is_executing": true
    }
   }
  },
  {
   "cell_type": "markdown",
   "source": [
    "**Phone, Sunglasses**"
   ],
   "metadata": {
    "collapsed": false
   }
  },
  {
   "cell_type": "code",
   "execution_count": null,
   "outputs": [],
   "source": [
    "free_items = [x for x in pies.lineup + pies.rotation if (x.evolution + 1) - len([x for x in x.items if x.health > 0]) > 0]\n",
    "get_stars(free_items)"
   ],
   "metadata": {
    "collapsed": false,
    "pycharm": {
     "name": "#%%\n",
     "is_executing": true
    }
   }
  },
  {
   "cell_type": "markdown",
   "source": [
    "### Soul Patches\n",
    "\n",
    "**Back by Popular Demand! Give 1 Soul to your least Soul Full player. Repeat 10 times.**\n",
    "\n",
    "See below for final Soul totals. Low soul is dangerous, as Players will become Redacted if their soul hits 0 and\n",
    "Consumers will drain 1 soul per chomp."
   ],
   "metadata": {
    "collapsed": false
   }
  },
  {
   "cell_type": "code",
   "execution_count": null,
   "outputs": [],
   "source": [
    "players = deepcopy(pies.rotation) + deepcopy(pies.lineup)\n",
    "for i in range(0, 10):\n",
    "    players.sort(key=lambda x: x.soul)\n",
    "    worst = players[0]\n",
    "    worst.soul += 1\n",
    "    players = [x for x in players if x.id != worst.id] + [worst]\n",
    "players.sort(key=lambda x: x.soul)\n",
    "x = pandas.DataFrame()\n",
    "for p in players:\n",
    "    old = [x for x in pies.rotation + pies.lineup if x.id == p.id][0]\n",
    "    x = x.append(pandas.Series({\"Soul Added\": p.soul - old.soul,\"Resulting Soul\": p.soul}, name=p.name))\n",
    "x"
   ],
   "metadata": {
    "collapsed": false,
    "pycharm": {
     "name": "#%%\n",
     "is_executing": true
    }
   }
  },
  {
   "cell_type": "markdown",
   "source": [
    "### Bargain Bin\n",
    "\n",
    "**Give a random Player on your Team the Best Item from the Bargain Bin!**\n",
    "\n",
    "The Bargain Bin will retrieve one random previously dropped item. Below is a list of all non-base items not currently\n",
    "held by players."
   ],
   "metadata": {
    "collapsed": false
   }
  },
  {
   "cell_type": "code",
   "execution_count": null,
   "outputs": [],
   "source": [
    "all_items = Item.load_all()\n",
    "rare_items = [x for x in all_items.values() if len(x.adjustments) > 1]\n",
    "players = Player.load_all()\n",
    "carried_items = []\n",
    "for p in players.values():\n",
    "    carried_items.extend(p.items)\n",
    "dropped_items = [x for x in rare_items if x not in carried_items]\n",
    "dropped_items.sort(key=lambda x: len(x.adjustments), reverse=True)\n",
    "\n",
    "table = []\n",
    "for i in dropped_items:\n",
    "    mods = [Modification.load_one(a[\"mod\"]).title for a in i.adjustments if a[\"type\"] == 0]\n",
    "    table.append(pandas.Series({\"Durability\": i.durability, \"Modifications\": mods}, name=i.name))\n",
    "pandas.DataFrame(table)"
   ],
   "metadata": {
    "collapsed": false,
    "pycharm": {
     "name": "#%%\n",
     "is_executing": true
    }
   }
  },
  {
   "cell_type": "markdown",
   "metadata": {
    "pycharm": {
     "name": "#%% md\n"
    }
   },
   "source": [
    "---\n",
    "## Appendix\n",
    "* [Description of Attributes](https://www.blaseball.wiki/w/Player_Attributes)\n",
    "* [Stlat Viewer](https://slavfox.space/abslve/?foreboding-kaleidoscope#PHIL)\n",
    "* [Historical Player Graphs](http://yoori.space/hloroscopes/)\n"
   ]
  }
 ],
 "metadata": {
  "kernelspec": {
   "display_name": "Python 3",
   "language": "python",
   "name": "python3"
  },
  "language_info": {
   "codemirror_mode": {
    "name": "ipython",
    "version": 3
   },
   "file_extension": ".py",
   "mimetype": "text/x-python",
   "name": "python",
   "nbconvert_exporter": "python",
   "pygments_lexer": "ipython3",
   "version": "3.8.5"
  },
  "toc": {
   "base_numbering": 1,
   "nav_menu": {},
   "number_sections": false,
   "sideBar": true,
   "skip_h1_title": false,
   "title_cell": "Table of Contents",
   "title_sidebar": "Table of Contents",
   "toc_cell": false,
   "toc_position": {},
   "toc_section_display": true,
   "toc_window_display": false
  }
 },
 "nbformat": 4,
 "nbformat_minor": 1
}