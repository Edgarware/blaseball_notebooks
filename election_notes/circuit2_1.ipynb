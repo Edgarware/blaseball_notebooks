{
 "cells": [
  {
   "cell_type": "markdown",
   "id": "dc5361dc",
   "metadata": {},
   "source": [
    "# Short Circuit 2: Season 1 Election Notes\n",
    "\n",
    ">**FORBIDDEN KNOWLEDGE WARNING**\n",
    ">\n",
    ">This document contains some information that is not currently present on the main site and may be considered spoilers.\n",
    ">Continue at your own discretion. Some information in this document cannot be shared on the Discord without spoiler tags.\n"
   ]
  },
  {
   "cell_type": "code",
   "execution_count": 1,
   "id": "6b243a31",
   "metadata": {},
   "outputs": [
    {
     "data": {
      "text/plain": "<IPython.core.display.Markdown object>",
      "text/markdown": "**Last Updated Season 1, Day 0**"
     },
     "metadata": {},
     "output_type": "display_data"
    }
   ],
   "source": [
    "import pandas\n",
    "%matplotlib inline\n",
    "from blaseball_mike.models import *\n",
    "from blaseball_mike.tables import StatType\n",
    "import plotly.io as _pio\n",
    "from IPython.display import display, Markdown\n",
    "from copy import deepcopy\n",
    "\n",
    "import os\n",
    "import sys\n",
    "pdir = os.path.abspath(os.path.join(os.path.dirname(''), os.path.pardir))\n",
    "sys.path.append(pdir)\n",
    "from display import *\n",
    "from blessings import *\n",
    "sys.path.remove(pdir)\n",
    "\n",
    "pandas.options.plotting.backend = \"plotly\"\n",
    "_pio.renderers.default = \"notebook_connected\"\n",
    "\n",
    "league = League.load()\n",
    "pies = [x for x in league.teams.values() if x.full_name == \"Philly Pies\"][0]\n",
    "\n",
    "sim = SimulationData.load()\n",
    "display(Markdown(f\"**Last Updated Season {sim.season}, Day {sim.day}**\"))"
   ]
  },
  {
   "cell_type": "markdown",
   "id": "2a061310",
   "metadata": {},
   "source": [
    "---\n",
    "## Amplifications\n",
    "\n",
    "Amplification are chosen by majority votes for each team. Each team will receive `1` amplification.\n",
    "\n",
    "\n",
    "**Your Team's Lineup will receive a Small Batting Boost.**\n",
    "\n",
    "**Your Team's Rotation will receive a Small Pitching Boost.**\n",
    "\n",
    "**Your Team's Lineup will receive a Large Baserunning Boost.**\n",
    "\n",
    "**Your Team's Lineup will receive a Large Defense Boost.**\n",
    "\n",
    "All the Amplifications will boost team-wide stats in one area. They boost a random player attribute for a random\n",
    "player by 0.01 a fixed number of times, depending on boost size. See below for estimated change.\n"
   ]
  },
  {
   "cell_type": "code",
   "execution_count": 2,
   "outputs": [
    {
     "data": {
      "text/plain": "<IPython.core.display.Markdown object>",
      "text/markdown": "###Muscle Warmers"
     },
     "metadata": {},
     "output_type": "display_data"
    },
    {
     "data": {
      "text/plain": "                   old_batting_stars  new_batting_stars  \\\nClay Dickens                1.856616           2.186894   \nBrooke Honeywell            1.214646           1.585966   \nNikola Honeycrisp           3.655569           3.950615   \nGoo Macy                    2.346565           2.586768   \nAntonio Osako               3.052299           3.304997   \nMac Rialto                  1.136806           1.437356   \nPop Winter                  2.866030           3.069661   \nMetric Wobin                0.469998           0.840476   \nTall Everts                 1.951245           2.258740   \n\n                   change_in_batting_stars  \nClay Dickens                      0.330277  \nBrooke Honeywell                  0.371320  \nNikola Honeycrisp                 0.295046  \nGoo Macy                          0.240203  \nAntonio Osako                     0.252699  \nMac Rialto                        0.300550  \nPop Winter                        0.203631  \nMetric Wobin                      0.370478  \nTall Everts                       0.307495  ",
      "text/html": "<div>\n<style scoped>\n    .dataframe tbody tr th:only-of-type {\n        vertical-align: middle;\n    }\n\n    .dataframe tbody tr th {\n        vertical-align: top;\n    }\n\n    .dataframe thead th {\n        text-align: right;\n    }\n</style>\n<table border=\"1\" class=\"dataframe\">\n  <thead>\n    <tr style=\"text-align: right;\">\n      <th></th>\n      <th>old_batting_stars</th>\n      <th>new_batting_stars</th>\n      <th>change_in_batting_stars</th>\n    </tr>\n  </thead>\n  <tbody>\n    <tr>\n      <th>Clay Dickens</th>\n      <td>1.856616</td>\n      <td>2.186894</td>\n      <td>0.330277</td>\n    </tr>\n    <tr>\n      <th>Brooke Honeywell</th>\n      <td>1.214646</td>\n      <td>1.585966</td>\n      <td>0.371320</td>\n    </tr>\n    <tr>\n      <th>Nikola Honeycrisp</th>\n      <td>3.655569</td>\n      <td>3.950615</td>\n      <td>0.295046</td>\n    </tr>\n    <tr>\n      <th>Goo Macy</th>\n      <td>2.346565</td>\n      <td>2.586768</td>\n      <td>0.240203</td>\n    </tr>\n    <tr>\n      <th>Antonio Osako</th>\n      <td>3.052299</td>\n      <td>3.304997</td>\n      <td>0.252699</td>\n    </tr>\n    <tr>\n      <th>Mac Rialto</th>\n      <td>1.136806</td>\n      <td>1.437356</td>\n      <td>0.300550</td>\n    </tr>\n    <tr>\n      <th>Pop Winter</th>\n      <td>2.866030</td>\n      <td>3.069661</td>\n      <td>0.203631</td>\n    </tr>\n    <tr>\n      <th>Metric Wobin</th>\n      <td>0.469998</td>\n      <td>0.840476</td>\n      <td>0.370478</td>\n    </tr>\n    <tr>\n      <th>Tall Everts</th>\n      <td>1.951245</td>\n      <td>2.258740</td>\n      <td>0.307495</td>\n    </tr>\n  </tbody>\n</table>\n</div>"
     },
     "metadata": {},
     "output_type": "display_data"
    },
    {
     "data": {
      "text/plain": "                         Team Average\nold_batting_stars            2.061086\nnew_batting_stars            2.357941\nchange_in_batting_stars      0.296855",
      "text/html": "<div>\n<style scoped>\n    .dataframe tbody tr th:only-of-type {\n        vertical-align: middle;\n    }\n\n    .dataframe tbody tr th {\n        vertical-align: top;\n    }\n\n    .dataframe thead th {\n        text-align: right;\n    }\n</style>\n<table border=\"1\" class=\"dataframe\">\n  <thead>\n    <tr style=\"text-align: right;\">\n      <th></th>\n      <th>Team Average</th>\n    </tr>\n  </thead>\n  <tbody>\n    <tr>\n      <th>old_batting_stars</th>\n      <td>2.061086</td>\n    </tr>\n    <tr>\n      <th>new_batting_stars</th>\n      <td>2.357941</td>\n    </tr>\n    <tr>\n      <th>change_in_batting_stars</th>\n      <td>0.296855</td>\n    </tr>\n  </tbody>\n</table>\n</div>"
     },
     "metadata": {},
     "output_type": "display_data"
    },
    {
     "data": {
      "text/plain": "<pandas.io.formats.style.Styler at 0x1a758e32f70>",
      "text/html": "<style type=\"text/css\">\n#T_e0ee0_row0_col0 {\n  background-color: #feeb9d;\n  color: #000000;\n}\n#T_e0ee0_row0_col1 {\n  background-color: #e5f49b;\n  color: #000000;\n}\n#T_e0ee0_row0_col2 {\n  background-color: #f2faae;\n  color: #000000;\n}\n#T_e0ee0_row0_col3 {\n  background-color: #c21c27;\n  color: #f1f1f1;\n}\n#T_e0ee0_row0_col4 {\n  background-color: #e14430;\n  color: #f1f1f1;\n}\n#T_e0ee0_row0_col5 {\n  background-color: #d1ec86;\n  color: #000000;\n  background-color: #fed884;\n  color: #000000;\n}\n#T_e0ee0_row0_col6, #T_e0ee0_row3_col2, #T_e0ee0_row6_col6 {\n  background-color: #08773f;\n  color: #f1f1f1;\n}\n#T_e0ee0_row0_col7 {\n  background-color: #fa9857;\n  color: #000000;\n  background-color: #91d068;\n  color: #000000;\n}\n#T_e0ee0_row0_col8 {\n  background-color: #0d8044;\n  color: #f1f1f1;\n}\n#T_e0ee0_row1_col0 {\n  background-color: #fdb768;\n  color: #000000;\n}\n#T_e0ee0_row1_col1, #T_e0ee0_row6_col2 {\n  background-color: #51b35e;\n  color: #f1f1f1;\n}\n#T_e0ee0_row1_col2 {\n  background-color: #d02927;\n  color: #f1f1f1;\n}\n#T_e0ee0_row1_col3 {\n  background-color: #e44c34;\n  color: #f1f1f1;\n}\n#T_e0ee0_row1_col4 {\n  background-color: #fee695;\n  color: #000000;\n}\n#T_e0ee0_row1_col5, #T_e0ee0_row6_col7 {\n  background-color: #be1827;\n  color: #f1f1f1;\n  background-color: #0d8044;\n  color: #f1f1f1;\n}\n#T_e0ee0_row1_col6 {\n  background-color: #9dd569;\n  color: #000000;\n}\n#T_e0ee0_row1_col7 {\n  background-color: #d7ee8a;\n  color: #000000;\n  background-color: #fede89;\n  color: #000000;\n}\n#T_e0ee0_row1_col8 {\n  background-color: #8ecf67;\n  color: #000000;\n}\n#T_e0ee0_row2_col0 {\n  background-color: #6bbf64;\n  color: #000000;\n}\n#T_e0ee0_row2_col1 {\n  background-color: #3faa59;\n  color: #f1f1f1;\n}\n#T_e0ee0_row2_col2, #T_e0ee0_row2_col8, #T_e0ee0_row5_col8 {\n  background-color: #006837;\n  color: #f1f1f1;\n}\n#T_e0ee0_row2_col3 {\n  background-color: #1b9950;\n  color: #f1f1f1;\n}\n#T_e0ee0_row2_col4 {\n  background-color: #bfe47a;\n  color: #000000;\n}\n#T_e0ee0_row2_col5 {\n  background-color: #15904c;\n  color: #f1f1f1;\n  background-color: #ce2827;\n  color: #f1f1f1;\n}\n#T_e0ee0_row2_col6, #T_e0ee0_row8_col2 {\n  background-color: #2da155;\n  color: #f1f1f1;\n}\n#T_e0ee0_row2_col7, #T_e0ee0_row5_col7 {\n  background-color: #16914d;\n  color: #f1f1f1;\n  background-color: #d02927;\n  color: #f1f1f1;\n}\n#T_e0ee0_row3_col0 {\n  background-color: #f8fcb6;\n  color: #000000;\n}\n#T_e0ee0_row3_col1 {\n  background-color: #f88950;\n  color: #f1f1f1;\n}\n#T_e0ee0_row3_col3 {\n  background-color: #fed07e;\n  color: #000000;\n}\n#T_e0ee0_row3_col4 {\n  background-color: #fff6b0;\n  color: #000000;\n}\n#T_e0ee0_row3_col5 {\n  background-color: #ed5f3c;\n  color: #f1f1f1;\n  background-color: #54b45f;\n  color: #f1f1f1;\n}\n#T_e0ee0_row3_col6 {\n  background-color: #026c39;\n  color: #f1f1f1;\n}\n#T_e0ee0_row3_col7 {\n  background-color: #9bd469;\n  color: #000000;\n  background-color: #fba35c;\n  color: #000000;\n}\n#T_e0ee0_row3_col8 {\n  background-color: #ea5739;\n  color: #f1f1f1;\n}\n#T_e0ee0_row4_col0 {\n  background-color: #b9e176;\n  color: #000000;\n}\n#T_e0ee0_row4_col1 {\n  background-color: #3ca959;\n  color: #f1f1f1;\n}\n#T_e0ee0_row4_col2 {\n  background-color: #8ccd67;\n  color: #000000;\n}\n#T_e0ee0_row4_col3 {\n  background-color: #f16640;\n  color: #f1f1f1;\n}\n#T_e0ee0_row4_col4, #T_e0ee0_row5_col4 {\n  background-color: #b1de71;\n  color: #000000;\n}\n#T_e0ee0_row4_col5 {\n  background-color: #e3f399;\n  color: #000000;\n  background-color: #fee999;\n  color: #000000;\n}\n#T_e0ee0_row4_col6 {\n  background-color: #ca2427;\n  color: #f1f1f1;\n}\n#T_e0ee0_row4_col7 {\n  background-color: #fee797;\n  color: #000000;\n  background-color: #e2f397;\n  color: #000000;\n}\n#T_e0ee0_row4_col8 {\n  background-color: #a2d76a;\n  color: #000000;\n}\n#T_e0ee0_row5_col0 {\n  background-color: #fca55d;\n  color: #000000;\n}\n#T_e0ee0_row5_col1 {\n  background-color: #d83128;\n  color: #f1f1f1;\n}\n#T_e0ee0_row5_col2 {\n  background-color: #e0f295;\n  color: #000000;\n}\n#T_e0ee0_row5_col3 {\n  background-color: #f26841;\n  color: #f1f1f1;\n}\n#T_e0ee0_row5_col5 {\n  background-color: #75c465;\n  color: #000000;\n  background-color: #f67c4a;\n  color: #f1f1f1;\n}\n#T_e0ee0_row5_col6 {\n  background-color: #f1f9ac;\n  color: #000000;\n}\n#T_e0ee0_row6_col0 {\n  background-color: #d1ec86;\n  color: #000000;\n}\n#T_e0ee0_row6_col1 {\n  background-color: #fee999;\n  color: #000000;\n}\n#T_e0ee0_row6_col3 {\n  background-color: #feec9f;\n  color: #000000;\n}\n#T_e0ee0_row6_col4 {\n  background-color: #b5df74;\n  color: #000000;\n}\n#T_e0ee0_row6_col5 {\n  background-color: #fff3ac;\n  color: #000000;\n  background-color: #f1f9ac;\n  color: #000000;\n}\n#T_e0ee0_row6_col8 {\n  background-color: #84ca66;\n  color: #000000;\n}\n#T_e0ee0_row7_col0 {\n  background-color: #eb5a3a;\n  color: #f1f1f1;\n}\n#T_e0ee0_row7_col1, #T_e0ee0_row8_col8 {\n  background-color: #ed5f3c;\n  color: #f1f1f1;\n}\n#T_e0ee0_row7_col2 {\n  background-color: #be1827;\n  color: #f1f1f1;\n}\n#T_e0ee0_row7_col3 {\n  background-color: #48ae5c;\n  color: #f1f1f1;\n}\n#T_e0ee0_row7_col4, #T_e0ee0_row8_col0 {\n  background-color: #fff0a6;\n  color: #000000;\n}\n#T_e0ee0_row7_col5 {\n  background-color: #7fc866;\n  color: #000000;\n  background-color: #f8864f;\n  color: #f1f1f1;\n}\n#T_e0ee0_row7_col6, #T_e0ee0_row8_col4 {\n  background-color: #05713c;\n  color: #f1f1f1;\n}\n#T_e0ee0_row7_col7 {\n  background-color: #c5e67e;\n  color: #000000;\n  background-color: #fecc7b;\n  color: #000000;\n}\n#T_e0ee0_row7_col8 {\n  background-color: #fecc7b;\n  color: #000000;\n}\n#T_e0ee0_row8_col1 {\n  background-color: #e54e35;\n  color: #f1f1f1;\n}\n#T_e0ee0_row8_col3 {\n  background-color: #66bd63;\n  color: #f1f1f1;\n}\n#T_e0ee0_row8_col5 {\n  background-color: #db382b;\n  color: #f1f1f1;\n  background-color: #249d53;\n  color: #f1f1f1;\n}\n#T_e0ee0_row8_col6 {\n  background-color: #d42d27;\n  color: #f1f1f1;\n}\n#T_e0ee0_row8_col7 {\n  background-color: #91d068;\n  color: #000000;\n  background-color: #fa9857;\n  color: #000000;\n}\n</style>\n<table id=\"T_e0ee0_\">\n  <thead>\n    <tr>\n      <th class=\"blank level0\" >&nbsp;</th>\n      <th class=\"col_heading level0 col0\" >Batting Rating</th>\n      <th class=\"col_heading level0 col1\" >Thwackability</th>\n      <th class=\"col_heading level0 col2\" >Divinity</th>\n      <th class=\"col_heading level0 col3\" >Musclitude</th>\n      <th class=\"col_heading level0 col4\" >Moxie</th>\n      <th class=\"col_heading level0 col5\" >Patheticism</th>\n      <th class=\"col_heading level0 col6\" >Martyrdom</th>\n      <th class=\"col_heading level0 col7\" >Tragicness</th>\n      <th class=\"col_heading level0 col8\" >Buoyancy</th>\n    </tr>\n  </thead>\n  <tbody>\n    <tr>\n      <th id=\"T_e0ee0_level0_row0\" class=\"row_heading level0 row0\" >Clay Dickens</th>\n      <td id=\"T_e0ee0_row0_col0\" class=\"data row0 col0\" >0.437379</td>\n      <td id=\"T_e0ee0_row0_col1\" class=\"data row0 col1\" >0.570172</td>\n      <td id=\"T_e0ee0_row0_col2\" class=\"data row0 col2\" >0.533306</td>\n      <td id=\"T_e0ee0_row0_col3\" class=\"data row0 col3\" >0.062030</td>\n      <td id=\"T_e0ee0_row0_col4\" class=\"data row0 col4\" >0.134508</td>\n      <td id=\"T_e0ee0_row0_col5\" class=\"data row0 col5\" >0.613452</td>\n      <td id=\"T_e0ee0_row0_col6\" class=\"data row0 col6\" >0.966706</td>\n      <td id=\"T_e0ee0_row0_col7\" class=\"data row0 col7\" >0.267723</td>\n      <td id=\"T_e0ee0_row0_col8\" class=\"data row0 col8\" >0.948355</td>\n    </tr>\n    <tr>\n      <th id=\"T_e0ee0_level0_row1\" class=\"row_heading level0 row1\" >Brooke Honeywell</th>\n      <td id=\"T_e0ee0_row1_col0\" class=\"data row1 col0\" >0.317193</td>\n      <td id=\"T_e0ee0_row1_col1\" class=\"data row1 col1\" >0.824919</td>\n      <td id=\"T_e0ee0_row1_col2\" class=\"data row1 col2\" >0.087697</td>\n      <td id=\"T_e0ee0_row1_col3\" class=\"data row1 col3\" >0.144567</td>\n      <td id=\"T_e0ee0_row1_col4\" class=\"data row1 col4\" >0.419756</td>\n      <td id=\"T_e0ee0_row1_col5\" class=\"data row1 col5\" >0.054384</td>\n      <td id=\"T_e0ee0_row1_col6\" class=\"data row1 col6\" >0.711210</td>\n      <td id=\"T_e0ee0_row1_col7\" class=\"data row1 col7\" >0.603778</td>\n      <td id=\"T_e0ee0_row1_col8\" class=\"data row1 col8\" >0.735872</td>\n    </tr>\n    <tr>\n      <th id=\"T_e0ee0_level0_row2\" class=\"row_heading level0 row2\" >Nikola Honeycrisp</th>\n      <td id=\"T_e0ee0_row2_col0\" class=\"data row2 col0\" >0.790123</td>\n      <td id=\"T_e0ee0_row2_col1\" class=\"data row2 col1\" >0.851303</td>\n      <td id=\"T_e0ee0_row2_col2\" class=\"data row2 col2\" >1.033037</td>\n      <td id=\"T_e0ee0_row2_col3\" class=\"data row2 col3\" >0.896212</td>\n      <td id=\"T_e0ee0_row2_col4\" class=\"data row2 col4\" >0.651576</td>\n      <td id=\"T_e0ee0_row2_col5\" class=\"data row2 col5\" >0.914894</td>\n      <td id=\"T_e0ee0_row2_col6\" class=\"data row2 col6\" >0.873106</td>\n      <td id=\"T_e0ee0_row2_col7\" class=\"data row2 col7\" >0.912359</td>\n      <td id=\"T_e0ee0_row2_col8\" class=\"data row2 col8\" >1.033230</td>\n    </tr>\n    <tr>\n      <th id=\"T_e0ee0_level0_row3\" class=\"row_heading level0 row3\" >Goo Macy</th>\n      <td id=\"T_e0ee0_row3_col0\" class=\"data row3 col0\" >0.517354</td>\n      <td id=\"T_e0ee0_row3_col1\" class=\"data row3 col1\" >0.244534</td>\n      <td id=\"T_e0ee0_row3_col2\" class=\"data row3 col2\" >0.966555</td>\n      <td id=\"T_e0ee0_row3_col3\" class=\"data row3 col3\" >0.367848</td>\n      <td id=\"T_e0ee0_row3_col4\" class=\"data row3 col4\" >0.470197</td>\n      <td id=\"T_e0ee0_row3_col5\" class=\"data row3 col5\" >0.176985</td>\n      <td id=\"T_e0ee0_row3_col6\" class=\"data row3 col6\" >0.990929</td>\n      <td id=\"T_e0ee0_row3_col7\" class=\"data row3 col7\" >0.718024</td>\n      <td id=\"T_e0ee0_row3_col8\" class=\"data row3 col8\" >0.167844</td>\n    </tr>\n    <tr>\n      <th id=\"T_e0ee0_level0_row4\" class=\"row_heading level0 row4\" >Antonio Osako</th>\n      <td id=\"T_e0ee0_row4_col0\" class=\"data row4 col0\" >0.660999</td>\n      <td id=\"T_e0ee0_row4_col1\" class=\"data row4 col1\" >0.852452</td>\n      <td id=\"T_e0ee0_row4_col2\" class=\"data row4 col2\" >0.741948</td>\n      <td id=\"T_e0ee0_row4_col3\" class=\"data row4 col3\" >0.190177</td>\n      <td id=\"T_e0ee0_row4_col4\" class=\"data row4 col4\" >0.678627</td>\n      <td id=\"T_e0ee0_row4_col5\" class=\"data row4 col5\" >0.573708</td>\n      <td id=\"T_e0ee0_row4_col6\" class=\"data row4 col6\" >0.074460</td>\n      <td id=\"T_e0ee0_row4_col7\" class=\"data row4 col7\" >0.424159</td>\n      <td id=\"T_e0ee0_row4_col8\" class=\"data row4 col8\" >0.706886</td>\n    </tr>\n    <tr>\n      <th id=\"T_e0ee0_level0_row5\" class=\"row_heading level0 row5\" >Mac Rialto</th>\n      <td id=\"T_e0ee0_row5_col0\" class=\"data row5 col0\" >0.287471</td>\n      <td id=\"T_e0ee0_row5_col1\" class=\"data row5 col1\" >0.103902</td>\n      <td id=\"T_e0ee0_row5_col2\" class=\"data row5 col2\" >0.581697</td>\n      <td id=\"T_e0ee0_row5_col3\" class=\"data row5 col3\" >0.192058</td>\n      <td id=\"T_e0ee0_row5_col4\" class=\"data row5 col4\" >0.679042</td>\n      <td id=\"T_e0ee0_row5_col5\" class=\"data row5 col5\" >0.776921</td>\n      <td id=\"T_e0ee0_row5_col6\" class=\"data row5 col6\" >0.536429</td>\n      <td id=\"T_e0ee0_row5_col7\" class=\"data row5 col7\" >0.911498</td>\n      <td id=\"T_e0ee0_row5_col8\" class=\"data row5 col8\" >1.006361</td>\n    </tr>\n    <tr>\n      <th id=\"T_e0ee0_level0_row6\" class=\"row_heading level0 row6\" >Pop Winter</th>\n      <td id=\"T_e0ee0_row6_col0\" class=\"data row6 col0\" >0.613932</td>\n      <td id=\"T_e0ee0_row6_col1\" class=\"data row6 col1\" >0.427506</td>\n      <td id=\"T_e0ee0_row6_col2\" class=\"data row6 col2\" >0.826488</td>\n      <td id=\"T_e0ee0_row6_col3\" class=\"data row6 col3\" >0.441072</td>\n      <td id=\"T_e0ee0_row6_col4\" class=\"data row6 col4\" >0.668953</td>\n      <td id=\"T_e0ee0_row6_col5\" class=\"data row6 col5\" >0.462119</td>\n      <td id=\"T_e0ee0_row6_col6\" class=\"data row6 col6\" >0.967479</td>\n      <td id=\"T_e0ee0_row6_col7\" class=\"data row6 col7\" >0.052069</td>\n      <td id=\"T_e0ee0_row6_col8\" class=\"data row6 col8\" >0.753725</td>\n    </tr>\n    <tr>\n      <th id=\"T_e0ee0_level0_row7\" class=\"row_heading level0 row7\" >Metric Wobin</th>\n      <td id=\"T_e0ee0_row7_col0\" class=\"data row7 col0\" >0.168095</td>\n      <td id=\"T_e0ee0_row7_col1\" class=\"data row7 col1\" >0.176152</td>\n      <td id=\"T_e0ee0_row7_col2\" class=\"data row7 col2\" >0.054171</td>\n      <td id=\"T_e0ee0_row7_col3\" class=\"data row7 col3\" >0.838134</td>\n      <td id=\"T_e0ee0_row7_col4\" class=\"data row7 col4\" >0.450019</td>\n      <td id=\"T_e0ee0_row7_col5\" class=\"data row7 col5\" >0.759312</td>\n      <td id=\"T_e0ee0_row7_col6\" class=\"data row7 col6\" >0.977755</td>\n      <td id=\"T_e0ee0_row7_col7\" class=\"data row7 col7\" >0.640310</td>\n      <td id=\"T_e0ee0_row7_col8\" class=\"data row7 col8\" >0.360463</td>\n    </tr>\n    <tr>\n      <th id=\"T_e0ee0_level0_row8\" class=\"row_heading level0 row8\" >Tall Everts</th>\n      <td id=\"T_e0ee0_row8_col0\" class=\"data row8 col0\" >0.451748</td>\n      <td id=\"T_e0ee0_row8_col1\" class=\"data row8 col1\" >0.150611</td>\n      <td id=\"T_e0ee0_row8_col2\" class=\"data row8 col2\" >0.873600</td>\n      <td id=\"T_e0ee0_row8_col3\" class=\"data row8 col3\" >0.798881</td>\n      <td id=\"T_e0ee0_row8_col4\" class=\"data row8 col4\" >0.979303</td>\n      <td id=\"T_e0ee0_row8_col5\" class=\"data row8 col5\" >0.113648</td>\n      <td id=\"T_e0ee0_row8_col6\" class=\"data row8 col6\" >0.094601</td>\n      <td id=\"T_e0ee0_row8_col7\" class=\"data row8 col7\" >0.731839</td>\n      <td id=\"T_e0ee0_row8_col8\" class=\"data row8 col8\" >0.176364</td>\n    </tr>\n  </tbody>\n</table>\n"
     },
     "metadata": {},
     "output_type": "display_data"
    }
   ],
   "source": [
    "display(Markdown(\"###Muscle Warmers\"))\n",
    "new_lineup = []\n",
    "for player in pies.lineup:\n",
    "    new_lineup.append(player.simulated_copy(buffs={'batting_rating':0.04}))\n",
    "\n",
    "out, _, avg = improve_team_batting_table(pies, 0.04)\n",
    "display(out)\n",
    "display(pandas.DataFrame(avg, columns=[\"Team Average\"]))\n",
    "display(set_heatmap(get_batting_stlats(new_lineup), maxVal=1.0))"
   ],
   "metadata": {
    "collapsed": false,
    "pycharm": {
     "name": "#%%\n"
    }
   }
  },
  {
   "cell_type": "code",
   "execution_count": 3,
   "outputs": [
    {
     "data": {
      "text/plain": "<IPython.core.display.Markdown object>",
      "text/markdown": "###Hand Warmers"
     },
     "metadata": {},
     "output_type": "display_data"
    },
    {
     "data": {
      "text/plain": "               old_pitching_stars  new_pitching_stars  \\\nPierce Blue              0.969864            1.375531   \nNia Joelson              1.131840            1.577306   \nCoby Rhodes              2.015204            2.390359   \nEmmanuel Cole            3.752801            4.180051   \nDee Spice                1.221342            1.724974   \n\n               change_in_pitching_stars  \nPierce Blue                    0.405667  \nNia Joelson                    0.445466  \nCoby Rhodes                    0.375155  \nEmmanuel Cole                  0.427250  \nDee Spice                      0.503632  ",
      "text/html": "<div>\n<style scoped>\n    .dataframe tbody tr th:only-of-type {\n        vertical-align: middle;\n    }\n\n    .dataframe tbody tr th {\n        vertical-align: top;\n    }\n\n    .dataframe thead th {\n        text-align: right;\n    }\n</style>\n<table border=\"1\" class=\"dataframe\">\n  <thead>\n    <tr style=\"text-align: right;\">\n      <th></th>\n      <th>old_pitching_stars</th>\n      <th>new_pitching_stars</th>\n      <th>change_in_pitching_stars</th>\n    </tr>\n  </thead>\n  <tbody>\n    <tr>\n      <th>Pierce Blue</th>\n      <td>0.969864</td>\n      <td>1.375531</td>\n      <td>0.405667</td>\n    </tr>\n    <tr>\n      <th>Nia Joelson</th>\n      <td>1.131840</td>\n      <td>1.577306</td>\n      <td>0.445466</td>\n    </tr>\n    <tr>\n      <th>Coby Rhodes</th>\n      <td>2.015204</td>\n      <td>2.390359</td>\n      <td>0.375155</td>\n    </tr>\n    <tr>\n      <th>Emmanuel Cole</th>\n      <td>3.752801</td>\n      <td>4.180051</td>\n      <td>0.427250</td>\n    </tr>\n    <tr>\n      <th>Dee Spice</th>\n      <td>1.221342</td>\n      <td>1.724974</td>\n      <td>0.503632</td>\n    </tr>\n  </tbody>\n</table>\n</div>"
     },
     "metadata": {},
     "output_type": "display_data"
    },
    {
     "data": {
      "text/plain": "                          Team Average\nold_pitching_stars            1.818210\nnew_pitching_stars            2.249644\nchange_in_pitching_stars      0.431434",
      "text/html": "<div>\n<style scoped>\n    .dataframe tbody tr th:only-of-type {\n        vertical-align: middle;\n    }\n\n    .dataframe tbody tr th {\n        vertical-align: top;\n    }\n\n    .dataframe thead th {\n        text-align: right;\n    }\n</style>\n<table border=\"1\" class=\"dataframe\">\n  <thead>\n    <tr style=\"text-align: right;\">\n      <th></th>\n      <th>Team Average</th>\n    </tr>\n  </thead>\n  <tbody>\n    <tr>\n      <th>old_pitching_stars</th>\n      <td>1.818210</td>\n    </tr>\n    <tr>\n      <th>new_pitching_stars</th>\n      <td>2.249644</td>\n    </tr>\n    <tr>\n      <th>change_in_pitching_stars</th>\n      <td>0.431434</td>\n    </tr>\n  </tbody>\n</table>\n</div>"
     },
     "metadata": {},
     "output_type": "display_data"
    },
    {
     "data": {
      "text/plain": "<pandas.io.formats.style.Styler at 0x1a73f88e820>",
      "text/html": "<style type=\"text/css\">\n#T_bdf88_row0_col0 {\n  background-color: #fb9d59;\n  color: #000000;\n}\n#T_bdf88_row0_col1, #T_bdf88_row1_col1 {\n  background-color: #ee613e;\n  color: #f1f1f1;\n}\n#T_bdf88_row0_col2 {\n  background-color: #fee18d;\n  color: #000000;\n}\n#T_bdf88_row0_col3 {\n  background-color: #17934e;\n  color: #f1f1f1;\n}\n#T_bdf88_row0_col4 {\n  background-color: #89cc67;\n  color: #000000;\n}\n#T_bdf88_row0_col5 {\n  background-color: #fdc372;\n  color: #000000;\n}\n#T_bdf88_row0_col6 {\n  background-color: #fede89;\n  color: #000000;\n}\n#T_bdf88_row1_col0, #T_bdf88_row1_col4 {\n  background-color: #fdb567;\n  color: #000000;\n}\n#T_bdf88_row1_col2 {\n  background-color: #73c264;\n  color: #000000;\n}\n#T_bdf88_row1_col3 {\n  background-color: #91d068;\n  color: #000000;\n}\n#T_bdf88_row1_col5, #T_bdf88_row4_col4 {\n  background-color: #f98e52;\n  color: #f1f1f1;\n}\n#T_bdf88_row1_col6 {\n  background-color: #fece7c;\n  color: #000000;\n}\n#T_bdf88_row2_col0 {\n  background-color: #fff8b4;\n  color: #000000;\n}\n#T_bdf88_row2_col1 {\n  background-color: #fee999;\n  color: #000000;\n}\n#T_bdf88_row2_col2 {\n  background-color: #d9ef8b;\n  color: #000000;\n}\n#T_bdf88_row2_col3 {\n  background-color: #33a456;\n  color: #f1f1f1;\n}\n#T_bdf88_row2_col4 {\n  background-color: #fff3ac;\n  color: #000000;\n}\n#T_bdf88_row2_col5 {\n  background-color: #d1ec86;\n  color: #000000;\n}\n#T_bdf88_row2_col6 {\n  background-color: #7ac665;\n  color: #000000;\n}\n#T_bdf88_row3_col0 {\n  background-color: #48ae5c;\n  color: #f1f1f1;\n}\n#T_bdf88_row3_col1 {\n  background-color: #006837;\n  color: #f1f1f1;\n}\n#T_bdf88_row3_col2 {\n  background-color: #0c7f43;\n  color: #f1f1f1;\n}\n#T_bdf88_row3_col3 {\n  background-color: #70c164;\n  color: #000000;\n}\n#T_bdf88_row3_col4 {\n  background-color: #fdc776;\n  color: #000000;\n}\n#T_bdf88_row3_col5 {\n  background-color: #fed27f;\n  color: #000000;\n}\n#T_bdf88_row3_col6 {\n  background-color: #fee28f;\n  color: #000000;\n}\n#T_bdf88_row4_col0 {\n  background-color: #fdc574;\n  color: #000000;\n}\n#T_bdf88_row4_col1 {\n  background-color: #45ad5b;\n  color: #f1f1f1;\n}\n#T_bdf88_row4_col2 {\n  background-color: #e54e35;\n  color: #f1f1f1;\n}\n#T_bdf88_row4_col3 {\n  background-color: #cfeb85;\n  color: #000000;\n}\n#T_bdf88_row4_col5 {\n  background-color: #e0f295;\n  color: #000000;\n}\n#T_bdf88_row4_col6 {\n  background-color: #d62f27;\n  color: #f1f1f1;\n}\n</style>\n<table id=\"T_bdf88_\">\n  <thead>\n    <tr>\n      <th class=\"blank level0\" >&nbsp;</th>\n      <th class=\"col_heading level0 col0\" >Pitching Rating</th>\n      <th class=\"col_heading level0 col1\" >Unthwackability</th>\n      <th class=\"col_heading level0 col2\" >Ruthlessness</th>\n      <th class=\"col_heading level0 col3\" >Overpowerment</th>\n      <th class=\"col_heading level0 col4\" >Shakespearianism</th>\n      <th class=\"col_heading level0 col5\" >Coldness</th>\n      <th class=\"col_heading level0 col6\" >Suppression</th>\n    </tr>\n  </thead>\n  <tbody>\n    <tr>\n      <th id=\"T_bdf88_level0_row0\" class=\"row_heading level0 row0\" >Pierce Blue</th>\n      <td id=\"T_bdf88_row0_col0\" class=\"data row0 col0\" >0.275106</td>\n      <td id=\"T_bdf88_row0_col1\" class=\"data row0 col1\" >0.180399</td>\n      <td id=\"T_bdf88_row0_col2\" class=\"data row0 col2\" >0.403324</td>\n      <td id=\"T_bdf88_row0_col3\" class=\"data row0 col3\" >0.906807</td>\n      <td id=\"T_bdf88_row0_col4\" class=\"data row0 col4\" >0.743474</td>\n      <td id=\"T_bdf88_row0_col5\" class=\"data row0 col5\" >0.342557</td>\n      <td id=\"T_bdf88_row0_col6\" class=\"data row0 col6\" >0.395717</td>\n    </tr>\n    <tr>\n      <th id=\"T_bdf88_level0_row1\" class=\"row_heading level0 row1\" >Nia Joelson</th>\n      <td id=\"T_bdf88_row1_col0\" class=\"data row1 col0\" >0.315461</td>\n      <td id=\"T_bdf88_row1_col1\" class=\"data row1 col1\" >0.180330</td>\n      <td id=\"T_bdf88_row1_col2\" class=\"data row1 col2\" >0.780038</td>\n      <td id=\"T_bdf88_row1_col3\" class=\"data row1 col3\" >0.730507</td>\n      <td id=\"T_bdf88_row1_col4\" class=\"data row1 col4\" >0.312607</td>\n      <td id=\"T_bdf88_row1_col5\" class=\"data row1 col5\" >0.251714</td>\n      <td id=\"T_bdf88_row1_col6\" class=\"data row1 col6\" >0.365137</td>\n    </tr>\n    <tr>\n      <th id=\"T_bdf88_level0_row2\" class=\"row_heading level0 row2\" >Coby Rhodes</th>\n      <td id=\"T_bdf88_row2_col0\" class=\"data row2 col0\" >0.478072</td>\n      <td id=\"T_bdf88_row2_col1\" class=\"data row2 col1\" >0.428636</td>\n      <td id=\"T_bdf88_row2_col2\" class=\"data row2 col2\" >0.600660</td>\n      <td id=\"T_bdf88_row2_col3\" class=\"data row2 col3\" >0.865275</td>\n      <td id=\"T_bdf88_row2_col4\" class=\"data row2 col4\" >0.464292</td>\n      <td id=\"T_bdf88_row2_col5\" class=\"data row2 col5\" >0.616316</td>\n      <td id=\"T_bdf88_row2_col6\" class=\"data row2 col6\" >0.766489</td>\n    </tr>\n    <tr>\n      <th id=\"T_bdf88_level0_row3\" class=\"row_heading level0 row3\" >Emmanuel Cole</th>\n      <td id=\"T_bdf88_row3_col0\" class=\"data row3 col0\" >0.836010</td>\n      <td id=\"T_bdf88_row3_col1\" class=\"data row3 col1\" >1.014323</td>\n      <td id=\"T_bdf88_row3_col2\" class=\"data row3 col2\" >0.951334</td>\n      <td id=\"T_bdf88_row3_col3\" class=\"data row3 col3\" >0.781395</td>\n      <td id=\"T_bdf88_row3_col4\" class=\"data row3 col4\" >0.351516</td>\n      <td id=\"T_bdf88_row3_col5\" class=\"data row3 col5\" >0.372059</td>\n      <td id=\"T_bdf88_row3_col6\" class=\"data row3 col6\" >0.407570</td>\n    </tr>\n    <tr>\n      <th id=\"T_bdf88_level0_row4\" class=\"row_heading level0 row4\" >Dee Spice</th>\n      <td id=\"T_bdf88_row4_col0\" class=\"data row4 col0\" >0.344995</td>\n      <td id=\"T_bdf88_row4_col1\" class=\"data row4 col1\" >0.842418</td>\n      <td id=\"T_bdf88_row4_col2\" class=\"data row4 col2\" >0.151439</td>\n      <td id=\"T_bdf88_row4_col3\" class=\"data row4 col3\" >0.618260</td>\n      <td id=\"T_bdf88_row4_col4\" class=\"data row4 col4\" >0.252098</td>\n      <td id=\"T_bdf88_row4_col5\" class=\"data row4 col5\" >0.581882</td>\n      <td id=\"T_bdf88_row4_col6\" class=\"data row4 col6\" >0.101012</td>\n    </tr>\n  </tbody>\n</table>\n"
     },
     "metadata": {},
     "output_type": "display_data"
    }
   ],
   "source": [
    "display(Markdown(\"###Hand Warmers\"))\n",
    "new_rotation = []\n",
    "for player in pies.rotation:\n",
    "    new_rotation.append(player.simulated_copy(buffs={'pitching_rating':0.07}))\n",
    "\n",
    "out, _, avg = improve_team_pitching_table(pies, 0.07)\n",
    "display(out)\n",
    "display(pandas.DataFrame(avg, columns=[\"Team Average\"]))\n",
    "display(set_heatmap(get_pitching_stlats(new_rotation), maxVal=1.0))"
   ],
   "metadata": {
    "collapsed": false,
    "pycharm": {
     "name": "#%%\n"
    }
   }
  },
  {
   "cell_type": "code",
   "execution_count": 4,
   "outputs": [
    {
     "data": {
      "text/plain": "<IPython.core.display.Markdown object>",
      "text/markdown": "###Foot Warmers"
     },
     "metadata": {},
     "output_type": "display_data"
    },
    {
     "data": {
      "text/plain": "                   old_baserunning_stars  new_baserunning_stars  \\\nClay Dickens                    1.990882               2.711731   \nBrooke Honeywell                3.239103               3.883798   \nNikola Honeycrisp               1.914795               2.509818   \nGoo Macy                        0.121707               1.349615   \nAntonio Osako                   3.561889               4.078245   \nMac Rialto                      2.935319               3.578203   \nPop Winter                      2.493459               3.054951   \nMetric Wobin                    3.252278               3.793582   \nTall Everts                     1.092010               1.764528   \n\n                   change_in_baserunning_stars  \nClay Dickens                          0.720849  \nBrooke Honeywell                      0.644695  \nNikola Honeycrisp                     0.595023  \nGoo Macy                              1.227908  \nAntonio Osako                         0.516356  \nMac Rialto                            0.642883  \nPop Winter                            0.561492  \nMetric Wobin                          0.541304  \nTall Everts                           0.672518  ",
      "text/html": "<div>\n<style scoped>\n    .dataframe tbody tr th:only-of-type {\n        vertical-align: middle;\n    }\n\n    .dataframe tbody tr th {\n        vertical-align: top;\n    }\n\n    .dataframe thead th {\n        text-align: right;\n    }\n</style>\n<table border=\"1\" class=\"dataframe\">\n  <thead>\n    <tr style=\"text-align: right;\">\n      <th></th>\n      <th>old_baserunning_stars</th>\n      <th>new_baserunning_stars</th>\n      <th>change_in_baserunning_stars</th>\n    </tr>\n  </thead>\n  <tbody>\n    <tr>\n      <th>Clay Dickens</th>\n      <td>1.990882</td>\n      <td>2.711731</td>\n      <td>0.720849</td>\n    </tr>\n    <tr>\n      <th>Brooke Honeywell</th>\n      <td>3.239103</td>\n      <td>3.883798</td>\n      <td>0.644695</td>\n    </tr>\n    <tr>\n      <th>Nikola Honeycrisp</th>\n      <td>1.914795</td>\n      <td>2.509818</td>\n      <td>0.595023</td>\n    </tr>\n    <tr>\n      <th>Goo Macy</th>\n      <td>0.121707</td>\n      <td>1.349615</td>\n      <td>1.227908</td>\n    </tr>\n    <tr>\n      <th>Antonio Osako</th>\n      <td>3.561889</td>\n      <td>4.078245</td>\n      <td>0.516356</td>\n    </tr>\n    <tr>\n      <th>Mac Rialto</th>\n      <td>2.935319</td>\n      <td>3.578203</td>\n      <td>0.642883</td>\n    </tr>\n    <tr>\n      <th>Pop Winter</th>\n      <td>2.493459</td>\n      <td>3.054951</td>\n      <td>0.561492</td>\n    </tr>\n    <tr>\n      <th>Metric Wobin</th>\n      <td>3.252278</td>\n      <td>3.793582</td>\n      <td>0.541304</td>\n    </tr>\n    <tr>\n      <th>Tall Everts</th>\n      <td>1.092010</td>\n      <td>1.764528</td>\n      <td>0.672518</td>\n    </tr>\n  </tbody>\n</table>\n</div>"
     },
     "metadata": {},
     "output_type": "display_data"
    },
    {
     "data": {
      "text/plain": "                             Team Average\nold_baserunning_stars            2.289049\nnew_baserunning_stars            2.969386\nchange_in_baserunning_stars      0.680336",
      "text/html": "<div>\n<style scoped>\n    .dataframe tbody tr th:only-of-type {\n        vertical-align: middle;\n    }\n\n    .dataframe tbody tr th {\n        vertical-align: top;\n    }\n\n    .dataframe thead th {\n        text-align: right;\n    }\n</style>\n<table border=\"1\" class=\"dataframe\">\n  <thead>\n    <tr style=\"text-align: right;\">\n      <th></th>\n      <th>Team Average</th>\n    </tr>\n  </thead>\n  <tbody>\n    <tr>\n      <th>old_baserunning_stars</th>\n      <td>2.289049</td>\n    </tr>\n    <tr>\n      <th>new_baserunning_stars</th>\n      <td>2.969386</td>\n    </tr>\n    <tr>\n      <th>change_in_baserunning_stars</th>\n      <td>0.680336</td>\n    </tr>\n  </tbody>\n</table>\n</div>"
     },
     "metadata": {},
     "output_type": "display_data"
    },
    {
     "data": {
      "text/plain": "<pandas.io.formats.style.Styler at 0x1a73f86a0a0>",
      "text/html": "<style type=\"text/css\">\n#T_bdf3c_row0_col0 {\n  background-color: #eff8aa;\n  color: #000000;\n}\n#T_bdf3c_row0_col1 {\n  background-color: #82c966;\n  color: #000000;\n}\n#T_bdf3c_row0_col2 {\n  background-color: #fdbd6d;\n  color: #000000;\n}\n#T_bdf3c_row0_col3 {\n  background-color: #e95538;\n  color: #f1f1f1;\n}\n#T_bdf3c_row0_col4, #T_bdf3c_row5_col2, #T_bdf3c_row8_col2 {\n  background-color: #f99153;\n  color: #000000;\n}\n#T_bdf3c_row0_col5 {\n  background-color: #b9e176;\n  color: #000000;\n}\n#T_bdf3c_row1_col0 {\n  background-color: #75c465;\n  color: #000000;\n}\n#T_bdf3c_row1_col1, #T_bdf3c_row4_col2 {\n  background-color: #006837;\n  color: #f1f1f1;\n}\n#T_bdf3c_row1_col2 {\n  background-color: #feefa3;\n  color: #000000;\n}\n#T_bdf3c_row1_col3, #T_bdf3c_row8_col4 {\n  background-color: #f67a49;\n  color: #f1f1f1;\n}\n#T_bdf3c_row1_col4 {\n  background-color: #87cb67;\n  color: #000000;\n}\n#T_bdf3c_row1_col5 {\n  background-color: #097940;\n  color: #f1f1f1;\n}\n#T_bdf3c_row2_col0 {\n  background-color: #feffbe;\n  color: #000000;\n}\n#T_bdf3c_row2_col1 {\n  background-color: #fffbb8;\n  color: #000000;\n}\n#T_bdf3c_row2_col2 {\n  background-color: #9dd569;\n  color: #000000;\n}\n#T_bdf3c_row2_col3 {\n  background-color: #fed27f;\n  color: #000000;\n}\n#T_bdf3c_row2_col4 {\n  background-color: #f57547;\n  color: #f1f1f1;\n}\n#T_bdf3c_row2_col5, #T_bdf3c_row4_col3 {\n  background-color: #bfe47a;\n  color: #000000;\n}\n#T_bdf3c_row3_col0 {\n  background-color: #fa9b58;\n  color: #000000;\n}\n#T_bdf3c_row3_col1 {\n  background-color: #da362a;\n  color: #f1f1f1;\n}\n#T_bdf3c_row3_col2 {\n  background-color: #fee695;\n  color: #000000;\n}\n#T_bdf3c_row3_col3 {\n  background-color: #fff5ae;\n  color: #000000;\n}\n#T_bdf3c_row3_col4, #T_bdf3c_row5_col4 {\n  background-color: #a7d96b;\n  color: #000000;\n}\n#T_bdf3c_row3_col5 {\n  background-color: #219c52;\n  color: #f1f1f1;\n}\n#T_bdf3c_row4_col0 {\n  background-color: #5ab760;\n  color: #f1f1f1;\n}\n#T_bdf3c_row4_col1 {\n  background-color: #6ec064;\n  color: #000000;\n}\n#T_bdf3c_row4_col4 {\n  background-color: #b7e075;\n  color: #000000;\n}\n#T_bdf3c_row4_col5 {\n  background-color: #16914d;\n  color: #f1f1f1;\n}\n#T_bdf3c_row5_col0 {\n  background-color: #9bd469;\n  color: #000000;\n}\n#T_bdf3c_row5_col1 {\n  background-color: #08773f;\n  color: #f1f1f1;\n}\n#T_bdf3c_row5_col3 {\n  background-color: #48ae5c;\n  color: #f1f1f1;\n}\n#T_bdf3c_row5_col5 {\n  background-color: #fba05b;\n  color: #000000;\n}\n#T_bdf3c_row6_col0 {\n  background-color: #d3ec87;\n  color: #000000;\n}\n#T_bdf3c_row6_col1 {\n  background-color: #feeb9d;\n  color: #000000;\n}\n#T_bdf3c_row6_col2 {\n  background-color: #0f8446;\n  color: #f1f1f1;\n}\n#T_bdf3c_row6_col3 {\n  background-color: #2aa054;\n  color: #f1f1f1;\n}\n#T_bdf3c_row6_col4 {\n  background-color: #57b65f;\n  color: #f1f1f1;\n}\n#T_bdf3c_row6_col5 {\n  background-color: #b3df72;\n  color: #000000;\n}\n#T_bdf3c_row7_col0 {\n  background-color: #7fc866;\n  color: #000000;\n}\n#T_bdf3c_row7_col1 {\n  background-color: #199750;\n  color: #f1f1f1;\n}\n#T_bdf3c_row7_col2 {\n  background-color: #d1ec86;\n  color: #000000;\n}\n#T_bdf3c_row7_col3 {\n  background-color: #eef8a8;\n  color: #000000;\n}\n#T_bdf3c_row7_col4 {\n  background-color: #73c264;\n  color: #000000;\n}\n#T_bdf3c_row7_col5 {\n  background-color: #fee28f;\n  color: #000000;\n}\n#T_bdf3c_row8_col0 {\n  background-color: #fec877;\n  color: #000000;\n}\n#T_bdf3c_row8_col1 {\n  background-color: #f67f4b;\n  color: #f1f1f1;\n}\n#T_bdf3c_row8_col3 {\n  background-color: #0b7d42;\n  color: #f1f1f1;\n}\n#T_bdf3c_row8_col5 {\n  background-color: #18954f;\n  color: #f1f1f1;\n}\n</style>\n<table id=\"T_bdf3c_\">\n  <thead>\n    <tr>\n      <th class=\"blank level0\" >&nbsp;</th>\n      <th class=\"col_heading level0 col0\" >Baserunning Rating</th>\n      <th class=\"col_heading level0 col1\" >Laserlikeness</th>\n      <th class=\"col_heading level0 col2\" >Continuation</th>\n      <th class=\"col_heading level0 col3\" >Base Thirst</th>\n      <th class=\"col_heading level0 col4\" >Indulgence</th>\n      <th class=\"col_heading level0 col5\" >Ground Friction</th>\n    </tr>\n  </thead>\n  <tbody>\n    <tr>\n      <th id=\"T_bdf3c_level0_row0\" class=\"row_heading level0 row0\" >Clay Dickens</th>\n      <td id=\"T_bdf3c_row0_col0\" class=\"data row0 col0\" >0.542346</td>\n      <td id=\"T_bdf3c_row0_col1\" class=\"data row0 col1\" >0.755268</td>\n      <td id=\"T_bdf3c_row0_col2\" class=\"data row0 col2\" >0.328419</td>\n      <td id=\"T_bdf3c_row0_col3\" class=\"data row0 col3\" >0.160689</td>\n      <td id=\"T_bdf3c_row0_col4\" class=\"data row0 col4\" >0.256706</td>\n      <td id=\"T_bdf3c_row0_col5\" class=\"data row0 col5\" >0.661317</td>\n    </tr>\n    <tr>\n      <th id=\"T_bdf3c_level0_row1\" class=\"row_heading level0 row1\" >Brooke Honeywell</th>\n      <td id=\"T_bdf3c_row1_col0\" class=\"data row1 col0\" >0.776760</td>\n      <td id=\"T_bdf3c_row1_col1\" class=\"data row1 col1\" >1.021621</td>\n      <td id=\"T_bdf3c_row1_col2\" class=\"data row1 col2\" >0.447797</td>\n      <td id=\"T_bdf3c_row1_col3\" class=\"data row1 col3\" >0.222098</td>\n      <td id=\"T_bdf3c_row1_col4\" class=\"data row1 col4\" >0.749085</td>\n      <td id=\"T_bdf3c_row1_col5\" class=\"data row1 col5\" >0.964408</td>\n    </tr>\n    <tr>\n      <th id=\"T_bdf3c_level0_row2\" class=\"row_heading level0 row2\" >Nikola Honeycrisp</th>\n      <td id=\"T_bdf3c_row2_col0\" class=\"data row2 col0\" >0.501964</td>\n      <td id=\"T_bdf3c_row2_col1\" class=\"data row2 col1\" >0.487153</td>\n      <td id=\"T_bdf3c_row2_col2\" class=\"data row2 col2\" >0.714839</td>\n      <td id=\"T_bdf3c_row2_col3\" class=\"data row2 col3\" >0.371749</td>\n      <td id=\"T_bdf3c_row2_col4\" class=\"data row2 col4\" >0.213568</td>\n      <td id=\"T_bdf3c_row2_col5\" class=\"data row2 col5\" >0.652225</td>\n    </tr>\n    <tr>\n      <th id=\"T_bdf3c_level0_row3\" class=\"row_heading level0 row3\" >Goo Macy</th>\n      <td id=\"T_bdf3c_row3_col0\" class=\"data row3 col0\" >0.269923</td>\n      <td id=\"T_bdf3c_row3_col1\" class=\"data row3 col1\" >0.111076</td>\n      <td id=\"T_bdf3c_row3_col2\" class=\"data row3 col2\" >0.418513</td>\n      <td id=\"T_bdf3c_row3_col3\" class=\"data row3 col3\" >0.466905</td>\n      <td id=\"T_bdf3c_row3_col4\" class=\"data row3 col4\" >0.698249</td>\n      <td id=\"T_bdf3c_row3_col5\" class=\"data row3 col5\" >0.889897</td>\n    </tr>\n    <tr>\n      <th id=\"T_bdf3c_level0_row4\" class=\"row_heading level0 row4\" >Antonio Osako</th>\n      <td id=\"T_bdf3c_row4_col0\" class=\"data row4 col0\" >0.815649</td>\n      <td id=\"T_bdf3c_row4_col1\" class=\"data row4 col1\" >0.786360</td>\n      <td id=\"T_bdf3c_row4_col2\" class=\"data row4 col2\" >1.099945</td>\n      <td id=\"T_bdf3c_row4_col3\" class=\"data row4 col3\" >0.649028</td>\n      <td id=\"T_bdf3c_row4_col4\" class=\"data row4 col4\" >0.664611</td>\n      <td id=\"T_bdf3c_row4_col5\" class=\"data row4 col5\" >0.913530</td>\n    </tr>\n    <tr>\n      <th id=\"T_bdf3c_level0_row5\" class=\"row_heading level0 row5\" >Mac Rialto</th>\n      <td id=\"T_bdf3c_row5_col0\" class=\"data row5 col0\" >0.715641</td>\n      <td id=\"T_bdf3c_row5_col1\" class=\"data row5 col1\" >0.966997</td>\n      <td id=\"T_bdf3c_row5_col2\" class=\"data row5 col2\" >0.254944</td>\n      <td id=\"T_bdf3c_row5_col3\" class=\"data row5 col3\" >0.837816</td>\n      <td id=\"T_bdf3c_row5_col4\" class=\"data row5 col4\" >0.697307</td>\n      <td id=\"T_bdf3c_row5_col5\" class=\"data row5 col5\" >0.279774</td>\n    </tr>\n    <tr>\n      <th id=\"T_bdf3c_level0_row6\" class=\"row_heading level0 row6\" >Pop Winter</th>\n      <td id=\"T_bdf3c_row6_col0\" class=\"data row6 col0\" >0.610990</td>\n      <td id=\"T_bdf3c_row6_col1\" class=\"data row6 col1\" >0.436932</td>\n      <td id=\"T_bdf3c_row6_col2\" class=\"data row6 col2\" >0.938798</td>\n      <td id=\"T_bdf3c_row6_col3\" class=\"data row6 col3\" >0.878004</td>\n      <td id=\"T_bdf3c_row6_col4\" class=\"data row6 col4\" >0.819619</td>\n      <td id=\"T_bdf3c_row6_col5\" class=\"data row6 col5\" >0.673896</td>\n    </tr>\n    <tr>\n      <th id=\"T_bdf3c_level0_row7\" class=\"row_heading level0 row7\" >Metric Wobin</th>\n      <td id=\"T_bdf3c_row7_col0\" class=\"data row7 col0\" >0.758716</td>\n      <td id=\"T_bdf3c_row7_col1\" class=\"data row7 col1\" >0.899732</td>\n      <td id=\"T_bdf3c_row7_col2\" class=\"data row7 col2\" >0.616512</td>\n      <td id=\"T_bdf3c_row7_col3\" class=\"data row7 col3\" >0.545078</td>\n      <td id=\"T_bdf3c_row7_col4\" class=\"data row7 col4\" >0.781224</td>\n      <td id=\"T_bdf3c_row7_col5\" class=\"data row7 col5\" >0.408369</td>\n    </tr>\n    <tr>\n      <th id=\"T_bdf3c_level0_row8\" class=\"row_heading level0 row8\" >Tall Everts</th>\n      <td id=\"T_bdf3c_row8_col0\" class=\"data row8 col0\" >0.352906</td>\n      <td id=\"T_bdf3c_row8_col1\" class=\"data row8 col1\" >0.227862</td>\n      <td id=\"T_bdf3c_row8_col2\" class=\"data row8 col2\" >0.255301</td>\n      <td id=\"T_bdf3c_row8_col3\" class=\"data row8 col3\" >0.954481</td>\n      <td id=\"T_bdf3c_row8_col4\" class=\"data row8 col4\" >0.221440</td>\n      <td id=\"T_bdf3c_row8_col5\" class=\"data row8 col5\" >0.903970</td>\n    </tr>\n  </tbody>\n</table>\n"
     },
     "metadata": {},
     "output_type": "display_data"
    }
   ],
   "source": [
    "display(Markdown(\"###Foot Warmers\"))\n",
    "new_lineup = []\n",
    "for player in pies.lineup:\n",
    "    new_lineup.append(player.simulated_copy(buffs={'baserunning_rating':0.11}))\n",
    "\n",
    "out, _, avg = improve_team_baserunning_table(pies, 0.11)\n",
    "display(out)\n",
    "display(pandas.DataFrame(avg, columns=[\"Team Average\"]))\n",
    "display(set_heatmap(get_baserunning_stlats(new_lineup), maxVal=1.0))"
   ],
   "metadata": {
    "collapsed": false,
    "pycharm": {
     "name": "#%%\n"
    }
   }
  },
  {
   "cell_type": "code",
   "execution_count": 5,
   "outputs": [
    {
     "data": {
      "text/plain": "<IPython.core.display.Markdown object>",
      "text/markdown": "###Eye Warmers"
     },
     "metadata": {},
     "output_type": "display_data"
    },
    {
     "data": {
      "text/plain": "                   old_defense_stars  new_defense_stars  \\\nClay Dickens                3.863155           4.294334   \nBrooke Honeywell            0.903509           1.853412   \nNikola Honeycrisp           1.735390           2.441557   \nGoo Macy                    1.610790           2.273614   \nAntonio Osako               2.552995           3.170080   \nMac Rialto                  2.952490           3.453882   \nPop Winter                  1.461686           2.274392   \nMetric Wobin                2.239513           2.844631   \nTall Everts                 2.807222           3.319658   \nPierce Blue                 2.867980           3.386002   \nNia Joelson                 2.764806           3.544641   \nCoby Rhodes                 1.540553           2.280626   \nEmmanuel Cole               2.007254           2.729026   \nDee Spice                   2.658764           4.045271   \n\n                   change_in_defense_stars  \nClay Dickens                      0.431180  \nBrooke Honeywell                  0.949903  \nNikola Honeycrisp                 0.706168  \nGoo Macy                          0.662824  \nAntonio Osako                     0.617085  \nMac Rialto                        0.501392  \nPop Winter                        0.812706  \nMetric Wobin                      0.605118  \nTall Everts                       0.512436  \nPierce Blue                       0.518022  \nNia Joelson                       0.779835  \nCoby Rhodes                       0.740073  \nEmmanuel Cole                     0.721773  \nDee Spice                         1.386507  ",
      "text/html": "<div>\n<style scoped>\n    .dataframe tbody tr th:only-of-type {\n        vertical-align: middle;\n    }\n\n    .dataframe tbody tr th {\n        vertical-align: top;\n    }\n\n    .dataframe thead th {\n        text-align: right;\n    }\n</style>\n<table border=\"1\" class=\"dataframe\">\n  <thead>\n    <tr style=\"text-align: right;\">\n      <th></th>\n      <th>old_defense_stars</th>\n      <th>new_defense_stars</th>\n      <th>change_in_defense_stars</th>\n    </tr>\n  </thead>\n  <tbody>\n    <tr>\n      <th>Clay Dickens</th>\n      <td>3.863155</td>\n      <td>4.294334</td>\n      <td>0.431180</td>\n    </tr>\n    <tr>\n      <th>Brooke Honeywell</th>\n      <td>0.903509</td>\n      <td>1.853412</td>\n      <td>0.949903</td>\n    </tr>\n    <tr>\n      <th>Nikola Honeycrisp</th>\n      <td>1.735390</td>\n      <td>2.441557</td>\n      <td>0.706168</td>\n    </tr>\n    <tr>\n      <th>Goo Macy</th>\n      <td>1.610790</td>\n      <td>2.273614</td>\n      <td>0.662824</td>\n    </tr>\n    <tr>\n      <th>Antonio Osako</th>\n      <td>2.552995</td>\n      <td>3.170080</td>\n      <td>0.617085</td>\n    </tr>\n    <tr>\n      <th>Mac Rialto</th>\n      <td>2.952490</td>\n      <td>3.453882</td>\n      <td>0.501392</td>\n    </tr>\n    <tr>\n      <th>Pop Winter</th>\n      <td>1.461686</td>\n      <td>2.274392</td>\n      <td>0.812706</td>\n    </tr>\n    <tr>\n      <th>Metric Wobin</th>\n      <td>2.239513</td>\n      <td>2.844631</td>\n      <td>0.605118</td>\n    </tr>\n    <tr>\n      <th>Tall Everts</th>\n      <td>2.807222</td>\n      <td>3.319658</td>\n      <td>0.512436</td>\n    </tr>\n    <tr>\n      <th>Pierce Blue</th>\n      <td>2.867980</td>\n      <td>3.386002</td>\n      <td>0.518022</td>\n    </tr>\n    <tr>\n      <th>Nia Joelson</th>\n      <td>2.764806</td>\n      <td>3.544641</td>\n      <td>0.779835</td>\n    </tr>\n    <tr>\n      <th>Coby Rhodes</th>\n      <td>1.540553</td>\n      <td>2.280626</td>\n      <td>0.740073</td>\n    </tr>\n    <tr>\n      <th>Emmanuel Cole</th>\n      <td>2.007254</td>\n      <td>2.729026</td>\n      <td>0.721773</td>\n    </tr>\n    <tr>\n      <th>Dee Spice</th>\n      <td>2.658764</td>\n      <td>4.045271</td>\n      <td>1.386507</td>\n    </tr>\n  </tbody>\n</table>\n</div>"
     },
     "metadata": {},
     "output_type": "display_data"
    },
    {
     "data": {
      "text/plain": "                         Team Average\nold_defense_stars            2.283293\nnew_defense_stars            2.993652\nchange_in_defense_stars      0.710359",
      "text/html": "<div>\n<style scoped>\n    .dataframe tbody tr th:only-of-type {\n        vertical-align: middle;\n    }\n\n    .dataframe tbody tr th {\n        vertical-align: top;\n    }\n\n    .dataframe thead th {\n        text-align: right;\n    }\n</style>\n<table border=\"1\" class=\"dataframe\">\n  <thead>\n    <tr style=\"text-align: right;\">\n      <th></th>\n      <th>Team Average</th>\n    </tr>\n  </thead>\n  <tbody>\n    <tr>\n      <th>old_defense_stars</th>\n      <td>2.283293</td>\n    </tr>\n    <tr>\n      <th>new_defense_stars</th>\n      <td>2.993652</td>\n    </tr>\n    <tr>\n      <th>change_in_defense_stars</th>\n      <td>0.710359</td>\n    </tr>\n  </tbody>\n</table>\n</div>"
     },
     "metadata": {},
     "output_type": "display_data"
    },
    {
     "data": {
      "text/plain": "<pandas.io.formats.style.Styler at 0x1a759024be0>",
      "text/html": "<style type=\"text/css\">\n#T_b4ac0_row0_col0 {\n  background-color: #39a758;\n  color: #f1f1f1;\n}\n#T_b4ac0_row0_col1 {\n  background-color: #6ec064;\n  color: #000000;\n}\n#T_b4ac0_row0_col2 {\n  background-color: #0e8245;\n  color: #f1f1f1;\n}\n#T_b4ac0_row0_col3 {\n  background-color: #f2faae;\n  color: #000000;\n}\n#T_b4ac0_row0_col4, #T_b4ac0_row5_col5 {\n  background-color: #006837;\n  color: #f1f1f1;\n}\n#T_b4ac0_row0_col5, #T_b4ac0_row5_col4 {\n  background-color: #96d268;\n  color: #000000;\n}\n#T_b4ac0_row1_col0 {\n  background-color: #fed07e;\n  color: #000000;\n}\n#T_b4ac0_row1_col1 {\n  background-color: #de402e;\n  color: #f1f1f1;\n}\n#T_b4ac0_row1_col2 {\n  background-color: #ec5c3b;\n  color: #f1f1f1;\n}\n#T_b4ac0_row1_col3 {\n  background-color: #5db961;\n  color: #f1f1f1;\n}\n#T_b4ac0_row1_col4 {\n  background-color: #f46d43;\n  color: #f1f1f1;\n}\n#T_b4ac0_row1_col5, #T_b4ac0_row6_col3 {\n  background-color: #cfeb85;\n  color: #000000;\n}\n#T_b4ac0_row2_col0 {\n  background-color: #fffcba;\n  color: #000000;\n}\n#T_b4ac0_row2_col1 {\n  background-color: #fcaa5f;\n  color: #000000;\n}\n#T_b4ac0_row2_col2 {\n  background-color: #ed5f3c;\n  color: #f1f1f1;\n}\n#T_b4ac0_row2_col3 {\n  background-color: #c9e881;\n  color: #000000;\n}\n#T_b4ac0_row2_col4 {\n  background-color: #1b9950;\n  color: #f1f1f1;\n}\n#T_b4ac0_row2_col5 {\n  background-color: #fffbb8;\n  color: #000000;\n}\n#T_b4ac0_row3_col0, #T_b4ac0_row6_col0 {\n  background-color: #fff1a8;\n  color: #000000;\n}\n#T_b4ac0_row3_col1 {\n  background-color: #feea9b;\n  color: #000000;\n}\n#T_b4ac0_row3_col2 {\n  background-color: #fdb163;\n  color: #000000;\n}\n#T_b4ac0_row3_col3, #T_b4ac0_row7_col5 {\n  background-color: #f67a49;\n  color: #f1f1f1;\n}\n#T_b4ac0_row3_col4 {\n  background-color: #ea5739;\n  color: #f1f1f1;\n}\n#T_b4ac0_row3_col5 {\n  background-color: #e2f397;\n  color: #000000;\n}\n#T_b4ac0_row4_col0 {\n  background-color: #c7e77f;\n  color: #000000;\n}\n#T_b4ac0_row4_col1 {\n  background-color: #48ae5c;\n  color: #f1f1f1;\n}\n#T_b4ac0_row4_col2 {\n  background-color: #98d368;\n  color: #000000;\n}\n#T_b4ac0_row4_col3 {\n  background-color: #fdaf62;\n  color: #000000;\n}\n#T_b4ac0_row4_col4 {\n  background-color: #f26841;\n  color: #f1f1f1;\n}\n#T_b4ac0_row4_col5 {\n  background-color: #fffdbc;\n  color: #000000;\n}\n#T_b4ac0_row5_col0 {\n  background-color: #abdb6d;\n  color: #000000;\n}\n#T_b4ac0_row5_col1 {\n  background-color: #ecf7a6;\n  color: #000000;\n}\n#T_b4ac0_row5_col2 {\n  background-color: #fed481;\n  color: #000000;\n}\n#T_b4ac0_row5_col3 {\n  background-color: #82c966;\n  color: #000000;\n}\n#T_b4ac0_row6_col1 {\n  background-color: #fee797;\n  color: #000000;\n}\n#T_b4ac0_row6_col2 {\n  background-color: #e65036;\n  color: #f1f1f1;\n}\n#T_b4ac0_row6_col4 {\n  background-color: #ee613e;\n  color: #f1f1f1;\n}\n#T_b4ac0_row6_col5 {\n  background-color: #63bc62;\n  color: #f1f1f1;\n}\n#T_b4ac0_row7_col0 {\n  background-color: #e5f49b;\n  color: #000000;\n}\n#T_b4ac0_row7_col1 {\n  background-color: #fdad60;\n  color: #000000;\n}\n#T_b4ac0_row7_col2 {\n  background-color: #57b65f;\n  color: #f1f1f1;\n}\n#T_b4ac0_row7_col3, #T_b4ac0_row8_col0 {\n  background-color: #b9e176;\n  color: #000000;\n}\n#T_b4ac0_row7_col4 {\n  background-color: #fee08b;\n  color: #000000;\n}\n#T_b4ac0_row8_col1 {\n  background-color: #5ab760;\n  color: #f1f1f1;\n}\n#T_b4ac0_row8_col2 {\n  background-color: #fdc776;\n  color: #000000;\n}\n#T_b4ac0_row8_col3 {\n  background-color: #f5fbb2;\n  color: #000000;\n}\n#T_b4ac0_row8_col4 {\n  background-color: #f4fab0;\n  color: #000000;\n}\n#T_b4ac0_row8_col5 {\n  background-color: #8ccd67;\n  color: #000000;\n}\n</style>\n<table id=\"T_b4ac0_\">\n  <thead>\n    <tr>\n      <th class=\"blank level0\" >&nbsp;</th>\n      <th class=\"col_heading level0 col0\" >Defense Rating</th>\n      <th class=\"col_heading level0 col1\" >Omniscience</th>\n      <th class=\"col_heading level0 col2\" >Tenaciousness</th>\n      <th class=\"col_heading level0 col3\" >Watchfulness</th>\n      <th class=\"col_heading level0 col4\" >Anticapitalism</th>\n      <th class=\"col_heading level0 col5\" >Chasiness</th>\n    </tr>\n  </thead>\n  <tbody>\n    <tr>\n      <th id=\"T_b4ac0_level0_row0\" class=\"row_heading level0 row0\" >Clay Dickens</th>\n      <td id=\"T_b4ac0_row0_col0\" class=\"data row0 col0\" >0.858867</td>\n      <td id=\"T_b4ac0_row0_col1\" class=\"data row0 col1\" >0.785415</td>\n      <td id=\"T_b4ac0_row0_col2\" class=\"data row0 col2\" >0.942771</td>\n      <td id=\"T_b4ac0_row0_col3\" class=\"data row0 col3\" >0.534251</td>\n      <td id=\"T_b4ac0_row0_col4\" class=\"data row0 col4\" >1.028573</td>\n      <td id=\"T_b4ac0_row0_col5\" class=\"data row0 col5\" >0.724883</td>\n    </tr>\n    <tr>\n      <th id=\"T_b4ac0_level0_row1\" class=\"row_heading level0 row1\" >Brooke Honeywell</th>\n      <td id=\"T_b4ac0_row1_col0\" class=\"data row1 col0\" >0.370682</td>\n      <td id=\"T_b4ac0_row1_col1\" class=\"data row1 col1\" >0.126735</td>\n      <td id=\"T_b4ac0_row1_col2\" class=\"data row1 col2\" >0.174288</td>\n      <td id=\"T_b4ac0_row1_col3\" class=\"data row1 col3\" >0.812221</td>\n      <td id=\"T_b4ac0_row1_col4\" class=\"data row1 col4\" >0.199793</td>\n      <td id=\"T_b4ac0_row1_col5\" class=\"data row1 col5\" >0.618641</td>\n    </tr>\n    <tr>\n      <th id=\"T_b4ac0_level0_row2\" class=\"row_heading level0 row2\" >Nikola Honeycrisp</th>\n      <td id=\"T_b4ac0_row2_col0\" class=\"data row2 col0\" >0.488311</td>\n      <td id=\"T_b4ac0_row2_col1\" class=\"data row2 col1\" >0.295483</td>\n      <td id=\"T_b4ac0_row2_col2\" class=\"data row2 col2\" >0.179165</td>\n      <td id=\"T_b4ac0_row2_col3\" class=\"data row2 col3\" >0.632016</td>\n      <td id=\"T_b4ac0_row2_col4\" class=\"data row2 col4\" >0.896671</td>\n      <td id=\"T_b4ac0_row2_col5\" class=\"data row2 col5\" >0.485330</td>\n    </tr>\n    <tr>\n      <th id=\"T_b4ac0_level0_row3\" class=\"row_heading level0 row3\" >Goo Macy</th>\n      <td id=\"T_b4ac0_row3_col0\" class=\"data row3 col0\" >0.454723</td>\n      <td id=\"T_b4ac0_row3_col1\" class=\"data row3 col1\" >0.432440</td>\n      <td id=\"T_b4ac0_row3_col2\" class=\"data row3 col2\" >0.307110</td>\n      <td id=\"T_b4ac0_row3_col3\" class=\"data row3 col3\" >0.222553</td>\n      <td id=\"T_b4ac0_row3_col4\" class=\"data row3 col4\" >0.166592</td>\n      <td id=\"T_b4ac0_row3_col5\" class=\"data row3 col5\" >0.578018</td>\n    </tr>\n    <tr>\n      <th id=\"T_b4ac0_level0_row4\" class=\"row_heading level0 row4\" >Antonio Osako</th>\n      <td id=\"T_b4ac0_row4_col0\" class=\"data row4 col0\" >0.634016</td>\n      <td id=\"T_b4ac0_row4_col1\" class=\"data row4 col1\" >0.837135</td>\n      <td id=\"T_b4ac0_row4_col2\" class=\"data row4 col2\" >0.721046</td>\n      <td id=\"T_b4ac0_row4_col3\" class=\"data row4 col3\" >0.303562</td>\n      <td id=\"T_b4ac0_row4_col4\" class=\"data row4 col4\" >0.192078</td>\n      <td id=\"T_b4ac0_row4_col5\" class=\"data row4 col5\" >0.494039</td>\n    </tr>\n    <tr>\n      <th id=\"T_b4ac0_level0_row5\" class=\"row_heading level0 row5\" >Mac Rialto</th>\n      <td id=\"T_b4ac0_row5_col0\" class=\"data row5 col0\" >0.690776</td>\n      <td id=\"T_b4ac0_row5_col1\" class=\"data row5 col1\" >0.548377</td>\n      <td id=\"T_b4ac0_row5_col2\" class=\"data row5 col2\" >0.377667</td>\n      <td id=\"T_b4ac0_row5_col3\" class=\"data row5 col3\" >0.756361</td>\n      <td id=\"T_b4ac0_row5_col4\" class=\"data row5 col4\" >0.724791</td>\n      <td id=\"T_b4ac0_row5_col5\" class=\"data row5 col5\" >1.052096</td>\n    </tr>\n    <tr>\n      <th id=\"T_b4ac0_level0_row6\" class=\"row_heading level0 row6\" >Pop Winter</th>\n      <td id=\"T_b4ac0_row6_col0\" class=\"data row6 col0\" >0.454878</td>\n      <td id=\"T_b4ac0_row6_col1\" class=\"data row6 col1\" >0.423068</td>\n      <td id=\"T_b4ac0_row6_col2\" class=\"data row6 col2\" >0.152618</td>\n      <td id=\"T_b4ac0_row6_col3\" class=\"data row6 col3\" >0.620998</td>\n      <td id=\"T_b4ac0_row6_col4\" class=\"data row6 col4\" >0.182209</td>\n      <td id=\"T_b4ac0_row6_col5\" class=\"data row6 col5\" >0.804011</td>\n    </tr>\n    <tr>\n      <th id=\"T_b4ac0_level0_row7\" class=\"row_heading level0 row7\" >Metric Wobin</th>\n      <td id=\"T_b4ac0_row7_col0\" class=\"data row7 col0\" >0.568926</td>\n      <td id=\"T_b4ac0_row7_col1\" class=\"data row7 col1\" >0.299460</td>\n      <td id=\"T_b4ac0_row7_col2\" class=\"data row7 col2\" >0.819322</td>\n      <td id=\"T_b4ac0_row7_col3\" class=\"data row7 col3\" >0.662798</td>\n      <td id=\"T_b4ac0_row7_col4\" class=\"data row7 col4\" >0.402143</td>\n      <td id=\"T_b4ac0_row7_col5\" class=\"data row7 col5\" >0.221417</td>\n    </tr>\n    <tr>\n      <th id=\"T_b4ac0_level0_row8\" class=\"row_heading level0 row8\" >Tall Everts</th>\n      <td id=\"T_b4ac0_row8_col0\" class=\"data row8 col0\" >0.663932</td>\n      <td id=\"T_b4ac0_row8_col1\" class=\"data row8 col1\" >0.814497</td>\n      <td id=\"T_b4ac0_row8_col2\" class=\"data row8 col2\" >0.348556</td>\n      <td id=\"T_b4ac0_row8_col3\" class=\"data row8 col3\" >0.526069</td>\n      <td id=\"T_b4ac0_row8_col4\" class=\"data row8 col4\" >0.529335</td>\n      <td id=\"T_b4ac0_row8_col5\" class=\"data row8 col5\" >0.741539</td>\n    </tr>\n  </tbody>\n</table>\n"
     },
     "metadata": {},
     "output_type": "display_data"
    }
   ],
   "source": [
    "display(Markdown(\"###Eye Warmers\"))\n",
    "new_lineup = []\n",
    "for player in pies.lineup:\n",
    "    new_lineup.append(player.simulated_copy(buffs={'defense_rating':0.11}))\n",
    "\n",
    "out, _, avg = improve_team_defense_table(pies, 0.11)\n",
    "display(out)\n",
    "display(pandas.DataFrame(avg, columns=[\"Team Average\"]))\n",
    "display(set_heatmap(get_defense_stlats(new_lineup), maxVal=1.0))"
   ],
   "metadata": {
    "collapsed": false,
    "pycharm": {
     "name": "#%%\n"
    }
   }
  },
  {
   "cell_type": "markdown",
   "id": "f4bf0ad9",
   "metadata": {},
   "source": [
    "___\n",
    "## Distortions\n",
    "\n",
    "Distortions are selected by raffle across all teams. Each distortion will be awarded to one random team, where teams with\n",
    "more votes are more likely to be selected. Teams may only receive at most 1 distortion."
   ]
  },
  {
   "cell_type": "markdown",
   "source": [
    "### TASTE THE INFINITE\n",
    "\n",
    "**Remake your Team in the Shelled One's image.**"
   ],
   "metadata": {
    "collapsed": false,
    "pycharm": {
     "name": "#%% md\n"
    }
   }
  },
  {
   "cell_type": "code",
   "execution_count": 7,
   "outputs": [
    {
     "data": {
      "text/plain": "<display.general.HTMLWrapper at 0x1a758ff82b0>",
      "text/html": "<span style=\"font-family: 'Lora', 'Courier New', monospace, serif;font-weight: 700;color: red;\">YOU WILL LEARN DISCIPLINE</span>"
     },
     "metadata": {},
     "output_type": "display_data"
    }
   ],
   "source": [
    "display(HTMLWrapper(\"<span style=\\\"font-family: 'Lora', 'Courier New', monospace, serif;font-weight: 700;color: red;\\\">YOU WILL LEARN DISCIPLINE</span>\"))"
   ],
   "metadata": {
    "collapsed": false,
    "pycharm": {
     "name": "#%%\n"
    }
   }
  },
  {
   "cell_type": "markdown",
   "source": [
    "### Fist of the Ape God\n",
    "\n",
    "**Bestow the Fist of the Ape God unto a random Player in your Team's Rotation.**\n",
    "\n",
    "Unknown effect. Presumably an Item that would be good for pitchers."
   ],
   "metadata": {
    "collapsed": false,
    "pycharm": {
     "name": "#%% md\n"
    }
   }
  },
  {
   "cell_type": "markdown",
   "source": [
    "### Cold Call\n",
    "\n",
    "**Call the Alternate for the 2 Worst Pitchers in your Team's Rotation.**\n",
    "\n",
    "An Alternate is a reroll of the player's stats, preventing rerolls that reduce the player's Combined Star total.\n",
    "This should also reroll players if they are still the worst player after their first reroll. See below for the\n",
    "list of players this would reroll. For reference, the statistical average reroll would have ~1.5 pitching\n",
    "stars (or ~0.3 Pitching Rating)."
   ],
   "metadata": {
    "collapsed": false
   }
  },
  {
   "cell_type": "code",
   "execution_count": 8,
   "outputs": [
    {
     "data": {
      "text/plain": "<pandas.io.formats.style.Styler at 0x1a75a230a90>",
      "text/html": "<style type=\"text/css\">\n#T_aa704_row0_col0 {\n  background-color: #f26841;\n  color: #f1f1f1;\n}\n#T_aa704_row0_col1, #T_aa704_row1_col1 {\n  background-color: #da362a;\n  color: #f1f1f1;\n}\n#T_aa704_row0_col2 {\n  background-color: #fdbf6f;\n  color: #000000;\n}\n#T_aa704_row0_col3 {\n  background-color: #48ae5c;\n  color: #f1f1f1;\n}\n#T_aa704_row0_col4 {\n  background-color: #b3df72;\n  color: #000000;\n}\n#T_aa704_row0_col5 {\n  background-color: #fa9b58;\n  color: #000000;\n}\n#T_aa704_row0_col6 {\n  background-color: #fdbb6c;\n  color: #000000;\n}\n#T_aa704_row1_col0 {\n  background-color: #f67c4a;\n  color: #f1f1f1;\n}\n#T_aa704_row1_col2 {\n  background-color: #a0d669;\n  color: #000000;\n}\n#T_aa704_row1_col3 {\n  background-color: #b9e176;\n  color: #000000;\n}\n#T_aa704_row1_col4 {\n  background-color: #f88950;\n  color: #f1f1f1;\n}\n#T_aa704_row1_col5 {\n  background-color: #ee613e;\n  color: #f1f1f1;\n}\n#T_aa704_row1_col6 {\n  background-color: #fcaa5f;\n  color: #000000;\n}\n</style>\n<table id=\"T_aa704_\">\n  <thead>\n    <tr>\n      <th class=\"blank level0\" >&nbsp;</th>\n      <th class=\"col_heading level0 col0\" >Pitching Rating</th>\n      <th class=\"col_heading level0 col1\" >Unthwackability</th>\n      <th class=\"col_heading level0 col2\" >Ruthlessness</th>\n      <th class=\"col_heading level0 col3\" >Overpowerment</th>\n      <th class=\"col_heading level0 col4\" >Shakespearianism</th>\n      <th class=\"col_heading level0 col5\" >Coldness</th>\n      <th class=\"col_heading level0 col6\" >Suppression</th>\n    </tr>\n  </thead>\n  <tbody>\n    <tr>\n      <th id=\"T_aa704_level0_row0\" class=\"row_heading level0 row0\" >Pierce Blue</th>\n      <td id=\"T_aa704_row0_col0\" class=\"data row0 col0\" >0.193973</td>\n      <td id=\"T_aa704_row0_col1\" class=\"data row0 col1\" >0.110399</td>\n      <td id=\"T_aa704_row0_col2\" class=\"data row0 col2\" >0.333324</td>\n      <td id=\"T_aa704_row0_col3\" class=\"data row0 col3\" >0.836807</td>\n      <td id=\"T_aa704_row0_col4\" class=\"data row0 col4\" >0.673474</td>\n      <td id=\"T_aa704_row0_col5\" class=\"data row0 col5\" >0.272557</td>\n      <td id=\"T_aa704_row0_col6\" class=\"data row0 col6\" >0.325717</td>\n    </tr>\n    <tr>\n      <th id=\"T_aa704_level0_row1\" class=\"row_heading level0 row1\" >Nia Joelson</th>\n      <td id=\"T_aa704_row1_col0\" class=\"data row1 col0\" >0.226368</td>\n      <td id=\"T_aa704_row1_col1\" class=\"data row1 col1\" >0.110330</td>\n      <td id=\"T_aa704_row1_col2\" class=\"data row1 col2\" >0.710038</td>\n      <td id=\"T_aa704_row1_col3\" class=\"data row1 col3\" >0.660507</td>\n      <td id=\"T_aa704_row1_col4\" class=\"data row1 col4\" >0.242607</td>\n      <td id=\"T_aa704_row1_col5\" class=\"data row1 col5\" >0.181714</td>\n      <td id=\"T_aa704_row1_col6\" class=\"data row1 col6\" >0.295137</td>\n    </tr>\n  </tbody>\n</table>\n"
     },
     "metadata": {},
     "output_type": "display_data"
    }
   ],
   "source": [
    "display(set_heatmap(get_pitching_stlats(sort_rotation(pies, 2)), maxVal=1.0))"
   ],
   "metadata": {
    "collapsed": false,
    "pycharm": {
     "name": "#%%\n"
    }
   }
  },
  {
   "cell_type": "markdown",
   "source": [
    "### Long Distance Call\n",
    "\n",
    "**Call the Alternate for the 4 Worst Batters in your Team's Lineup.**\n",
    "\n",
    "An Alternate is a reroll of the player's stats, preventing rerolls that reduce the player's Combined Star total.\n",
    "This should also reroll players if they are still the worst player after their first reroll. See below for the\n",
    "list of players this would reroll. For reference, the statistical average reroll would have ~2 batting stars\n",
    "(or ~0.4 Batting Rating).\n"
   ],
   "metadata": {
    "collapsed": false
   }
  },
  {
   "cell_type": "code",
   "execution_count": 9,
   "outputs": [
    {
     "data": {
      "text/plain": "<pandas.io.formats.style.Styler at 0x1a75ab4fa90>",
      "text/html": "<style type=\"text/css\">\n#T_c88cd_row0_col0, #T_c88cd_row3_col4 {\n  background-color: #d42d27;\n  color: #f1f1f1;\n}\n#T_c88cd_row0_col1 {\n  background-color: #e14430;\n  color: #f1f1f1;\n}\n#T_c88cd_row0_col2 {\n  background-color: #ab0626;\n  color: #f1f1f1;\n}\n#T_c88cd_row0_col3 {\n  background-color: #66bd63;\n  color: #f1f1f1;\n}\n#T_c88cd_row0_col4 {\n  background-color: #fee28f;\n  color: #000000;\n}\n#T_c88cd_row0_col5 {\n  background-color: #66bd63;\n  color: #f1f1f1;\n  background-color: #f46d43;\n  color: #f1f1f1;\n}\n#T_c88cd_row0_col6 {\n  background-color: #0f8446;\n  color: #f1f1f1;\n}\n#T_c88cd_row0_col7 {\n  background-color: #afdd70;\n  color: #000000;\n  background-color: #fdb768;\n  color: #000000;\n}\n#T_c88cd_row0_col8 {\n  background-color: #fdb96a;\n  color: #000000;\n}\n#T_c88cd_row1_col0 {\n  background-color: #f67f4b;\n  color: #f1f1f1;\n}\n#T_c88cd_row1_col1 {\n  background-color: #c41e27;\n  color: #f1f1f1;\n}\n#T_c88cd_row1_col2 {\n  background-color: #eff8aa;\n  color: #000000;\n}\n#T_c88cd_row1_col3 {\n  background-color: #e54e35;\n  color: #f1f1f1;\n}\n#T_c88cd_row1_col4 {\n  background-color: #c5e67e;\n  color: #000000;\n}\n#T_c88cd_row1_col5 {\n  background-color: #57b65f;\n  color: #f1f1f1;\n  background-color: #ee613e;\n  color: #f1f1f1;\n}\n#T_c88cd_row1_col6 {\n  background-color: #fffebe;\n  color: #000000;\n}\n#T_c88cd_row1_col7 {\n  background-color: #0c7f43;\n  color: #f1f1f1;\n  background-color: #bd1726;\n  color: #f1f1f1;\n}\n#T_c88cd_row1_col8 {\n  background-color: #08773f;\n  color: #f1f1f1;\n}\n#T_c88cd_row2_col0 {\n  background-color: #f88950;\n  color: #f1f1f1;\n}\n#T_c88cd_row2_col1 {\n  background-color: #70c164;\n  color: #000000;\n}\n#T_c88cd_row2_col2 {\n  background-color: #bd1726;\n  color: #f1f1f1;\n}\n#T_c88cd_row2_col3 {\n  background-color: #d83128;\n  color: #f1f1f1;\n}\n#T_c88cd_row2_col4 {\n  background-color: #fed683;\n  color: #000000;\n}\n#T_c88cd_row2_col5 {\n  background-color: #d42d27;\n  color: #f1f1f1;\n  background-color: #18954f;\n  color: #f1f1f1;\n}\n#T_c88cd_row2_col6 {\n  background-color: #b5df74;\n  color: #000000;\n}\n#T_c88cd_row2_col7 {\n  background-color: #c3e67d;\n  color: #000000;\n  background-color: #feca79;\n  color: #000000;\n}\n#T_c88cd_row2_col8 {\n  background-color: #a7d96b;\n  color: #000000;\n}\n#T_c88cd_row3_col0 {\n  background-color: #fed27f;\n  color: #000000;\n}\n#T_c88cd_row3_col1 {\n  background-color: #f4fab0;\n  color: #000000;\n}\n#T_c88cd_row3_col2 {\n  background-color: #fffdbc;\n  color: #000000;\n}\n#T_c88cd_row3_col3 {\n  background-color: #af0926;\n  color: #f1f1f1;\n}\n#T_c88cd_row3_col5 {\n  background-color: #bde379;\n  color: #000000;\n  background-color: #fdc574;\n  color: #000000;\n}\n#T_c88cd_row3_col6 {\n  background-color: #128a49;\n  color: #f1f1f1;\n}\n#T_c88cd_row3_col7 {\n  background-color: #fdb163;\n  color: #000000;\n  background-color: #a9da6c;\n  color: #000000;\n}\n#T_c88cd_row3_col8 {\n  background-color: #17934e;\n  color: #f1f1f1;\n}\n</style>\n<table id=\"T_c88cd_\">\n  <thead>\n    <tr>\n      <th class=\"blank level0\" >&nbsp;</th>\n      <th class=\"col_heading level0 col0\" >Batting Rating</th>\n      <th class=\"col_heading level0 col1\" >Thwackability</th>\n      <th class=\"col_heading level0 col2\" >Divinity</th>\n      <th class=\"col_heading level0 col3\" >Musclitude</th>\n      <th class=\"col_heading level0 col4\" >Moxie</th>\n      <th class=\"col_heading level0 col5\" >Patheticism</th>\n      <th class=\"col_heading level0 col6\" >Martyrdom</th>\n      <th class=\"col_heading level0 col7\" >Tragicness</th>\n      <th class=\"col_heading level0 col8\" >Buoyancy</th>\n    </tr>\n  </thead>\n  <tbody>\n    <tr>\n      <th id=\"T_c88cd_level0_row0\" class=\"row_heading level0 row0\" >Metric Wobin</th>\n      <td id=\"T_c88cd_row0_col0\" class=\"data row0 col0\" >0.094000</td>\n      <td id=\"T_c88cd_row0_col1\" class=\"data row0 col1\" >0.136152</td>\n      <td id=\"T_c88cd_row0_col2\" class=\"data row0 col2\" >0.014171</td>\n      <td id=\"T_c88cd_row0_col3\" class=\"data row0 col3\" >0.798134</td>\n      <td id=\"T_c88cd_row0_col4\" class=\"data row0 col4\" >0.410019</td>\n      <td id=\"T_c88cd_row0_col5\" class=\"data row0 col5\" >0.799312</td>\n      <td id=\"T_c88cd_row0_col6\" class=\"data row0 col6\" >0.937755</td>\n      <td id=\"T_c88cd_row0_col7\" class=\"data row0 col7\" >0.680310</td>\n      <td id=\"T_c88cd_row0_col8\" class=\"data row0 col8\" >0.320463</td>\n    </tr>\n    <tr>\n      <th id=\"T_c88cd_level0_row1\" class=\"row_heading level0 row1\" >Mac Rialto</th>\n      <td id=\"T_c88cd_row1_col0\" class=\"data row1 col0\" >0.227361</td>\n      <td id=\"T_c88cd_row1_col1\" class=\"data row1 col1\" >0.063902</td>\n      <td id=\"T_c88cd_row1_col2\" class=\"data row1 col2\" >0.541697</td>\n      <td id=\"T_c88cd_row1_col3\" class=\"data row1 col3\" >0.152058</td>\n      <td id=\"T_c88cd_row1_col4\" class=\"data row1 col4\" >0.639042</td>\n      <td id=\"T_c88cd_row1_col5\" class=\"data row1 col5\" >0.816921</td>\n      <td id=\"T_c88cd_row1_col6\" class=\"data row1 col6\" >0.496429</td>\n      <td id=\"T_c88cd_row1_col7\" class=\"data row1 col7\" >0.951498</td>\n      <td id=\"T_c88cd_row1_col8\" class=\"data row1 col8\" >0.966361</td>\n    </tr>\n    <tr>\n      <th id=\"T_c88cd_level0_row2\" class=\"row_heading level0 row2\" >Brooke Honeywell</th>\n      <td id=\"T_c88cd_row2_col0\" class=\"data row2 col0\" >0.242929</td>\n      <td id=\"T_c88cd_row2_col1\" class=\"data row2 col1\" >0.784919</td>\n      <td id=\"T_c88cd_row2_col2\" class=\"data row2 col2\" >0.047697</td>\n      <td id=\"T_c88cd_row2_col3\" class=\"data row2 col3\" >0.104567</td>\n      <td id=\"T_c88cd_row2_col4\" class=\"data row2 col4\" >0.379756</td>\n      <td id=\"T_c88cd_row2_col5\" class=\"data row2 col5\" >0.094384</td>\n      <td id=\"T_c88cd_row2_col6\" class=\"data row2 col6\" >0.671210</td>\n      <td id=\"T_c88cd_row2_col7\" class=\"data row2 col7\" >0.643778</td>\n      <td id=\"T_c88cd_row2_col8\" class=\"data row2 col8\" >0.695872</td>\n    </tr>\n    <tr>\n      <th id=\"T_c88cd_level0_row3\" class=\"row_heading level0 row3\" >Clay Dickens</th>\n      <td id=\"T_c88cd_row3_col0\" class=\"data row3 col0\" >0.371323</td>\n      <td id=\"T_c88cd_row3_col1\" class=\"data row3 col1\" >0.530172</td>\n      <td id=\"T_c88cd_row3_col2\" class=\"data row3 col2\" >0.493306</td>\n      <td id=\"T_c88cd_row3_col3\" class=\"data row3 col3\" >0.022030</td>\n      <td id=\"T_c88cd_row3_col4\" class=\"data row3 col4\" >0.094508</td>\n      <td id=\"T_c88cd_row3_col5\" class=\"data row3 col5\" >0.653452</td>\n      <td id=\"T_c88cd_row3_col6\" class=\"data row3 col6\" >0.926706</td>\n      <td id=\"T_c88cd_row3_col7\" class=\"data row3 col7\" >0.307723</td>\n      <td id=\"T_c88cd_row3_col8\" class=\"data row3 col8\" >0.908355</td>\n    </tr>\n  </tbody>\n</table>\n"
     },
     "metadata": {},
     "output_type": "display_data"
    }
   ],
   "source": [
    "display(set_heatmap(get_batting_stlats(sort_lineup(pies, 4)), maxVal=1.0))"
   ],
   "metadata": {
    "collapsed": false,
    "pycharm": {
     "name": "#%%\n"
    }
   }
  },
  {
   "cell_type": "markdown",
   "id": "5c780b47",
   "metadata": {},
   "source": [
    "### Fire Blood\n",
    "\n",
    "**Give a random Player in your Team's Rotation Fire Blood.**\n",
    "\n",
    "Fire Blood grants the \"Fiery\" Modification which has the description \"This Player has a chance of throwing Double\n",
    "Strikes.\""
   ]
  },
  {
   "cell_type": "markdown",
   "id": "ff3309d8",
   "metadata": {},
   "source": [
    "### Electric Blood\n",
    "\n",
    "**Give a random Player in your Team's Rotation Electric Blood.**\n",
    "\n",
    "Electric Blood grants the \"Electric\" Modification which has the description \"When this Player is Pitching, they'll have\n",
    "a chance of zapping away Balls.\""
   ]
  },
  {
   "cell_type": "markdown",
   "id": "0dbf2396",
   "metadata": {},
   "source": [
    "### Strike Blood\n",
    "\n",
    "**Give a random Player in your Team's Lineup Strike Blood.**\n",
    "\n",
    "Strike Blood grants the \"Fourth Strike\" Modification which has the description \"This Player will get an extra\n",
    "strike in each at-bat.\""
   ]
  },
  {
   "cell_type": "markdown",
   "id": "e9ba4d29",
   "metadata": {},
   "source": [
    "### Ball Blood\n",
    "\n",
    "**Give a random Player in your Team's Lineup Ball Blood.**\n",
    "\n",
    "Ball Blood grants the \"Walk in the Park\" Modification which has the description \"Those with Walk in the Park will walk\n",
    "to first base on one less Ball.\""
   ]
  },
  {
   "cell_type": "markdown",
   "id": "974751aa",
   "metadata": {},
   "source": [
    "### Snow Blower\n",
    "\n",
    "**Give the Snow Blower to a random Player in your Team's Rotation.**\n",
    "\n",
    "This would award a random pitcher with the Snow Blower Item. Exact stat changes are unknown but this is likely the same\n",
    "as the Arm Cannon. Assuming this, see below for estimated stat changes."
   ]
  },
  {
   "cell_type": "code",
   "execution_count": 10,
   "outputs": [
    {
     "data": {
      "text/plain": "<pandas.io.formats.style.Styler at 0x1a75a2b9fd0>",
      "text/html": "<style type=\"text/css\">\n#T_eec7b_row0_col0 {\n  background-color: #70c164;\n  color: #000000;\n}\n#T_eec7b_row0_col1, #T_eec7b_row1_col1 {\n  background-color: #42ac5a;\n  color: #f1f1f1;\n}\n#T_eec7b_row0_col2 {\n  background-color: #c3e67d;\n  color: #000000;\n}\n#T_eec7b_row0_col3, #T_eec7b_row1_col2, #T_eec7b_row1_col3, #T_eec7b_row2_col1, #T_eec7b_row2_col3, #T_eec7b_row3_col0, #T_eec7b_row3_col1, #T_eec7b_row3_col2, #T_eec7b_row3_col3, #T_eec7b_row4_col1, #T_eec7b_row4_col3 {\n  background-color: #006837;\n  color: #f1f1f1;\n}\n#T_eec7b_row0_col4 {\n  background-color: #b3df72;\n  color: #000000;\n}\n#T_eec7b_row0_col5 {\n  background-color: #fa9b58;\n  color: #000000;\n}\n#T_eec7b_row0_col6 {\n  background-color: #fdbb6c;\n  color: #000000;\n}\n#T_eec7b_row1_col0 {\n  background-color: #51b35e;\n  color: #f1f1f1;\n}\n#T_eec7b_row1_col4 {\n  background-color: #f88950;\n  color: #f1f1f1;\n}\n#T_eec7b_row1_col5, #T_eec7b_row4_col4 {\n  background-color: #ee613e;\n  color: #f1f1f1;\n}\n#T_eec7b_row1_col6 {\n  background-color: #fcaa5f;\n  color: #000000;\n}\n#T_eec7b_row2_col0 {\n  background-color: #0c7f43;\n  color: #f1f1f1;\n}\n#T_eec7b_row2_col2 {\n  background-color: #48ae5c;\n  color: #f1f1f1;\n}\n#T_eec7b_row2_col4 {\n  background-color: #fedc88;\n  color: #000000;\n}\n#T_eec7b_row2_col5 {\n  background-color: #eef8a8;\n  color: #000000;\n}\n#T_eec7b_row2_col6 {\n  background-color: #a7d96b;\n  color: #000000;\n}\n#T_eec7b_row3_col4 {\n  background-color: #fba35c;\n  color: #000000;\n}\n#T_eec7b_row3_col5 {\n  background-color: #fdaf62;\n  color: #000000;\n}\n#T_eec7b_row3_col6 {\n  background-color: #fdc171;\n  color: #000000;\n}\n#T_eec7b_row4_col0 {\n  background-color: #8ccd67;\n  color: #000000;\n}\n#T_eec7b_row4_col2 {\n  background-color: #feda86;\n  color: #000000;\n}\n#T_eec7b_row4_col5 {\n  background-color: #fafdb8;\n  color: #000000;\n}\n#T_eec7b_row4_col6 {\n  background-color: #b30d26;\n  color: #f1f1f1;\n}\n</style>\n<table id=\"T_eec7b_\">\n  <thead>\n    <tr>\n      <th class=\"blank level0\" >&nbsp;</th>\n      <th class=\"col_heading level0 col0\" >Pitching Rating</th>\n      <th class=\"col_heading level0 col1\" >Unthwackability</th>\n      <th class=\"col_heading level0 col2\" >Ruthlessness</th>\n      <th class=\"col_heading level0 col3\" >Overpowerment</th>\n      <th class=\"col_heading level0 col4\" >Shakespearianism</th>\n      <th class=\"col_heading level0 col5\" >Coldness</th>\n      <th class=\"col_heading level0 col6\" >Suppression</th>\n    </tr>\n  </thead>\n  <tbody>\n    <tr>\n      <th id=\"T_eec7b_level0_row0\" class=\"row_heading level0 row0\" >Pierce Blue</th>\n      <td id=\"T_eec7b_row0_col0\" class=\"data row0 col0\" >0.781973</td>\n      <td id=\"T_eec7b_row0_col1\" class=\"data row0 col1\" >0.846677</td>\n      <td id=\"T_eec7b_row0_col2\" class=\"data row0 col2\" >0.640647</td>\n      <td id=\"T_eec7b_row0_col3\" class=\"data row0 col3\" >1.791061</td>\n      <td id=\"T_eec7b_row0_col4\" class=\"data row0 col4\" >0.673474</td>\n      <td id=\"T_eec7b_row0_col5\" class=\"data row0 col5\" >0.272557</td>\n      <td id=\"T_eec7b_row0_col6\" class=\"data row0 col6\" >0.325717</td>\n    </tr>\n    <tr>\n      <th id=\"T_eec7b_level0_row1\" class=\"row_heading level0 row1\" >Nia Joelson</th>\n      <td id=\"T_eec7b_row1_col0\" class=\"data row1 col0\" >0.827985</td>\n      <td id=\"T_eec7b_row1_col1\" class=\"data row1 col1\" >0.846608</td>\n      <td id=\"T_eec7b_row1_col2\" class=\"data row1 col2\" >1.017361</td>\n      <td id=\"T_eec7b_row1_col3\" class=\"data row1 col3\" >1.614761</td>\n      <td id=\"T_eec7b_row1_col4\" class=\"data row1 col4\" >0.242607</td>\n      <td id=\"T_eec7b_row1_col5\" class=\"data row1 col5\" >0.181714</td>\n      <td id=\"T_eec7b_row1_col6\" class=\"data row1 col6\" >0.295137</td>\n    </tr>\n    <tr>\n      <th id=\"T_eec7b_level0_row2\" class=\"row_heading level0 row2\" >Coby Rhodes</th>\n      <td id=\"T_eec7b_row2_col0\" class=\"data row2 col0\" >0.951569</td>\n      <td id=\"T_eec7b_row2_col1\" class=\"data row2 col1\" >1.094915</td>\n      <td id=\"T_eec7b_row2_col2\" class=\"data row2 col2\" >0.837983</td>\n      <td id=\"T_eec7b_row2_col3\" class=\"data row2 col3\" >1.749528</td>\n      <td id=\"T_eec7b_row2_col4\" class=\"data row2 col4\" >0.394292</td>\n      <td id=\"T_eec7b_row2_col5\" class=\"data row2 col5\" >0.546316</td>\n      <td id=\"T_eec7b_row2_col6\" class=\"data row2 col6\" >0.696489</td>\n    </tr>\n    <tr>\n      <th id=\"T_eec7b_level0_row3\" class=\"row_heading level0 row3\" >Emmanuel Cole</th>\n      <td id=\"T_eec7b_row3_col0\" class=\"data row3 col0\" >1.282168</td>\n      <td id=\"T_eec7b_row3_col1\" class=\"data row3 col1\" >1.680601</td>\n      <td id=\"T_eec7b_row3_col2\" class=\"data row3 col2\" >1.188657</td>\n      <td id=\"T_eec7b_row3_col3\" class=\"data row3 col3\" >1.665648</td>\n      <td id=\"T_eec7b_row3_col4\" class=\"data row3 col4\" >0.281516</td>\n      <td id=\"T_eec7b_row3_col5\" class=\"data row3 col5\" >0.302059</td>\n      <td id=\"T_eec7b_row3_col6\" class=\"data row3 col6\" >0.337570</td>\n    </tr>\n    <tr>\n      <th id=\"T_eec7b_level0_row4\" class=\"row_heading level0 row4\" >Dee Spice</th>\n      <td id=\"T_eec7b_row4_col0\" class=\"data row4 col0\" >0.742091</td>\n      <td id=\"T_eec7b_row4_col1\" class=\"data row4 col1\" >1.508697</td>\n      <td id=\"T_eec7b_row4_col2\" class=\"data row4 col2\" >0.388763</td>\n      <td id=\"T_eec7b_row4_col3\" class=\"data row4 col3\" >1.502513</td>\n      <td id=\"T_eec7b_row4_col4\" class=\"data row4 col4\" >0.182098</td>\n      <td id=\"T_eec7b_row4_col5\" class=\"data row4 col5\" >0.511882</td>\n      <td id=\"T_eec7b_row4_col6\" class=\"data row4 col6\" >0.031012</td>\n    </tr>\n  </tbody>\n</table>\n"
     },
     "execution_count": 10,
     "metadata": {},
     "output_type": "execute_result"
    }
   ],
   "source": [
    "new_rotation = []\n",
    "for player in pies.rotation:\n",
    "    new_rotation.append(player.simulated_copy(buffs=\n",
    "                                         {'overpowerment': 0.9542536640830439,\n",
    "                                          'unthwackability': 0.7362786936932654,\n",
    "                                          'ruthlessness': 0.3073233290216612}))\n",
    "\n",
    "set_heatmap(get_pitching_stlats(new_rotation), maxVal=1.0)\n",
    "# 6524fd18-54e1-4b51-be71-4db6ef1cdf42"
   ],
   "metadata": {
    "collapsed": false,
    "pycharm": {
     "name": "#%%\n"
    }
   }
  },
  {
   "cell_type": "markdown",
   "id": "4e31234f",
   "metadata": {},
   "source": [
    "### Snow Shovel\n",
    "\n",
    "**Give the Snow Shovel to a random Player in your Team's Lineup.**\n",
    "\n",
    "This would award a random batter with the Snow Shovel Item. Exact stat changes are unknown but this is likely the same\n",
    "as the Gunblade Bat. Assuming this, see below for estimated stat changes."
   ]
  },
  {
   "cell_type": "code",
   "execution_count": 11,
   "outputs": [
    {
     "data": {
      "text/plain": "<pandas.io.formats.style.Styler at 0x1a758ff8b80>",
      "text/html": "<style type=\"text/css\">\n#T_a67c7_row0_col0 {\n  background-color: #c1e57b;\n  color: #000000;\n}\n#T_a67c7_row0_col1, #T_a67c7_row0_col2, #T_a67c7_row1_col1, #T_a67c7_row2_col0, #T_a67c7_row2_col1, #T_a67c7_row2_col2, #T_a67c7_row3_col2, #T_a67c7_row4_col1, #T_a67c7_row4_col2, #T_a67c7_row5_col2, #T_a67c7_row6_col2, #T_a67c7_row8_col2 {\n  background-color: #006837;\n  color: #f1f1f1;\n}\n#T_a67c7_row0_col3 {\n  background-color: #af0926;\n  color: #f1f1f1;\n}\n#T_a67c7_row0_col4 {\n  background-color: #d42d27;\n  color: #f1f1f1;\n}\n#T_a67c7_row0_col5 {\n  background-color: #bde379;\n  color: #000000;\n  background-color: #fdc574;\n  color: #000000;\n}\n#T_a67c7_row0_col6, #T_a67c7_row4_col0, #T_a67c7_row6_col6 {\n  background-color: #128a49;\n  color: #f1f1f1;\n}\n#T_a67c7_row0_col7 {\n  background-color: #fdb163;\n  color: #000000;\n  background-color: #a9da6c;\n  color: #000000;\n}\n#T_a67c7_row0_col8 {\n  background-color: #17934e;\n  color: #f1f1f1;\n}\n#T_a67c7_row1_col0 {\n  background-color: #7ac665;\n  color: #000000;\n}\n#T_a67c7_row1_col2 {\n  background-color: #75c465;\n  color: #000000;\n}\n#T_a67c7_row1_col3 {\n  background-color: #d83128;\n  color: #f1f1f1;\n}\n#T_a67c7_row1_col4 {\n  background-color: #fed683;\n  color: #000000;\n}\n#T_a67c7_row1_col5 {\n  background-color: #d42d27;\n  color: #f1f1f1;\n  background-color: #18954f;\n  color: #f1f1f1;\n}\n#T_a67c7_row1_col6 {\n  background-color: #b5df74;\n  color: #000000;\n}\n#T_a67c7_row1_col7 {\n  background-color: #c3e67d;\n  color: #000000;\n  background-color: #feca79;\n  color: #000000;\n}\n#T_a67c7_row1_col8 {\n  background-color: #a7d96b;\n  color: #000000;\n}\n#T_a67c7_row2_col3 {\n  background-color: #39a758;\n  color: #f1f1f1;\n}\n#T_a67c7_row2_col4 {\n  background-color: #d3ec87;\n  color: #000000;\n}\n#T_a67c7_row2_col5 {\n  background-color: #0b7d42;\n  color: #f1f1f1;\n  background-color: #bb1526;\n  color: #f1f1f1;\n}\n#T_a67c7_row2_col6 {\n  background-color: #4bb05c;\n  color: #f1f1f1;\n}\n#T_a67c7_row2_col7, #T_a67c7_row5_col7 {\n  background-color: #0c7f43;\n  color: #f1f1f1;\n  background-color: #bd1726;\n  color: #f1f1f1;\n}\n#T_a67c7_row2_col8 {\n  background-color: #016a38;\n  color: #f1f1f1;\n}\n#T_a67c7_row3_col0 {\n  background-color: #1e9a51;\n  color: #f1f1f1;\n}\n#T_a67c7_row3_col1 {\n  background-color: #9bd469;\n  color: #000000;\n}\n#T_a67c7_row3_col3 {\n  background-color: #fdbb6c;\n  color: #000000;\n}\n#T_a67c7_row3_col4 {\n  background-color: #feea9b;\n  color: #000000;\n}\n#T_a67c7_row3_col5 {\n  background-color: #f57748;\n  color: #f1f1f1;\n  background-color: #70c164;\n  color: #000000;\n}\n#T_a67c7_row3_col6 {\n  background-color: #0c7f43;\n  color: #f1f1f1;\n}\n#T_a67c7_row3_col7 {\n  background-color: #7fc866;\n  color: #000000;\n  background-color: #f8864f;\n  color: #f1f1f1;\n}\n#T_a67c7_row3_col8 {\n  background-color: #de402e;\n  color: #f1f1f1;\n}\n#T_a67c7_row4_col3, #T_a67c7_row5_col3 {\n  background-color: #e54e35;\n  color: #f1f1f1;\n}\n#T_a67c7_row4_col4, #T_a67c7_row5_col4 {\n  background-color: #c5e67e;\n  color: #000000;\n}\n#T_a67c7_row4_col5 {\n  background-color: #d1ec86;\n  color: #000000;\n  background-color: #fed884;\n  color: #000000;\n}\n#T_a67c7_row4_col6 {\n  background-color: #b50f26;\n  color: #f1f1f1;\n}\n#T_a67c7_row4_col7 {\n  background-color: #fff3ac;\n  color: #000000;\n  background-color: #f1f9ac;\n  color: #000000;\n}\n#T_a67c7_row4_col8 {\n  background-color: #b7e075;\n  color: #000000;\n}\n#T_a67c7_row5_col0 {\n  background-color: #b9e176;\n  color: #000000;\n}\n#T_a67c7_row5_col1 {\n  background-color: #e2f397;\n  color: #000000;\n}\n#T_a67c7_row5_col5 {\n  background-color: #57b65f;\n  color: #f1f1f1;\n  background-color: #ee613e;\n  color: #f1f1f1;\n}\n#T_a67c7_row5_col6 {\n  background-color: #fffebe;\n  color: #000000;\n}\n#T_a67c7_row5_col8, #T_a67c7_row6_col0 {\n  background-color: #08773f;\n  color: #f1f1f1;\n}\n#T_a67c7_row6_col1 {\n  background-color: #199750;\n  color: #f1f1f1;\n}\n#T_a67c7_row6_col3 {\n  background-color: #fee08b;\n  color: #000000;\n}\n#T_a67c7_row6_col4 {\n  background-color: #c9e881;\n  color: #000000;\n}\n#T_a67c7_row6_col5 {\n  background-color: #feffbe;\n  color: #000000;\n  background-color: #fffebe;\n  color: #000000;\n}\n#T_a67c7_row6_col7 {\n  background-color: #d22b27;\n  color: #f1f1f1;\n  background-color: #17934e;\n  color: #f1f1f1;\n}\n#T_a67c7_row6_col8 {\n  background-color: #9dd569;\n  color: #000000;\n}\n#T_a67c7_row7_col0, #T_a67c7_row7_col1 {\n  background-color: #bfe47a;\n  color: #000000;\n}\n#T_a67c7_row7_col2 {\n  background-color: #8ccd67;\n  color: #000000;\n}\n#T_a67c7_row7_col3 {\n  background-color: #66bd63;\n  color: #f1f1f1;\n}\n#T_a67c7_row7_col4 {\n  background-color: #fee28f;\n  color: #000000;\n}\n#T_a67c7_row7_col5 {\n  background-color: #66bd63;\n  color: #f1f1f1;\n  background-color: #f46d43;\n  color: #f1f1f1;\n}\n#T_a67c7_row7_col6, #T_a67c7_row8_col4 {\n  background-color: #0f8446;\n  color: #f1f1f1;\n}\n#T_a67c7_row7_col7 {\n  background-color: #afdd70;\n  color: #000000;\n  background-color: #fdb768;\n  color: #000000;\n}\n#T_a67c7_row7_col8 {\n  background-color: #fdb96a;\n  color: #000000;\n}\n#T_a67c7_row8_col0 {\n  background-color: #219c52;\n  color: #f1f1f1;\n}\n#T_a67c7_row8_col1 {\n  background-color: #cdea83;\n  color: #000000;\n}\n#T_a67c7_row8_col3 {\n  background-color: #7fc866;\n  color: #000000;\n}\n#T_a67c7_row8_col5 {\n  background-color: #e65036;\n  color: #f1f1f1;\n  background-color: #42ac5a;\n  color: #f1f1f1;\n}\n#T_a67c7_row8_col6 {\n  background-color: #be1827;\n  color: #f1f1f1;\n}\n#T_a67c7_row8_col7 {\n  background-color: #78c565;\n  color: #000000;\n  background-color: #f67f4b;\n  color: #f1f1f1;\n}\n#T_a67c7_row8_col8 {\n  background-color: #e14430;\n  color: #f1f1f1;\n}\n</style>\n<table id=\"T_a67c7_\">\n  <thead>\n    <tr>\n      <th class=\"blank level0\" >&nbsp;</th>\n      <th class=\"col_heading level0 col0\" >Batting Rating</th>\n      <th class=\"col_heading level0 col1\" >Thwackability</th>\n      <th class=\"col_heading level0 col2\" >Divinity</th>\n      <th class=\"col_heading level0 col3\" >Musclitude</th>\n      <th class=\"col_heading level0 col4\" >Moxie</th>\n      <th class=\"col_heading level0 col5\" >Patheticism</th>\n      <th class=\"col_heading level0 col6\" >Martyrdom</th>\n      <th class=\"col_heading level0 col7\" >Tragicness</th>\n      <th class=\"col_heading level0 col8\" >Buoyancy</th>\n    </tr>\n  </thead>\n  <tbody>\n    <tr>\n      <th id=\"T_a67c7_level0_row0\" class=\"row_heading level0 row0\" >Clay Dickens</th>\n      <td id=\"T_a67c7_row0_col0\" class=\"data row0 col0\" >0.646107</td>\n      <td id=\"T_a67c7_row0_col1\" class=\"data row0 col1\" >1.043236</td>\n      <td id=\"T_a67c7_row0_col2\" class=\"data row0 col2\" >1.220231</td>\n      <td id=\"T_a67c7_row0_col3\" class=\"data row0 col3\" >0.022030</td>\n      <td id=\"T_a67c7_row0_col4\" class=\"data row0 col4\" >0.094508</td>\n      <td id=\"T_a67c7_row0_col5\" class=\"data row0 col5\" >0.653452</td>\n      <td id=\"T_a67c7_row0_col6\" class=\"data row0 col6\" >0.926706</td>\n      <td id=\"T_a67c7_row0_col7\" class=\"data row0 col7\" >0.307723</td>\n      <td id=\"T_a67c7_row0_col8\" class=\"data row0 col8\" >0.908355</td>\n    </tr>\n    <tr>\n      <th id=\"T_a67c7_level0_row1\" class=\"row_heading level0 row1\" >Brooke Honeywell</th>\n      <td id=\"T_a67c7_row1_col0\" class=\"data row1 col0\" >0.768502</td>\n      <td id=\"T_a67c7_row1_col1\" class=\"data row1 col1\" >1.297984</td>\n      <td id=\"T_a67c7_row1_col2\" class=\"data row1 col2\" >0.774622</td>\n      <td id=\"T_a67c7_row1_col3\" class=\"data row1 col3\" >0.104567</td>\n      <td id=\"T_a67c7_row1_col4\" class=\"data row1 col4\" >0.379756</td>\n      <td id=\"T_a67c7_row1_col5\" class=\"data row1 col5\" >0.094384</td>\n      <td id=\"T_a67c7_row1_col6\" class=\"data row1 col6\" >0.671210</td>\n      <td id=\"T_a67c7_row1_col7\" class=\"data row1 col7\" >0.643778</td>\n      <td id=\"T_a67c7_row1_col8\" class=\"data row1 col8\" >0.695872</td>\n    </tr>\n    <tr>\n      <th id=\"T_a67c7_level0_row2\" class=\"row_heading level0 row2\" >Nikola Honeycrisp</th>\n      <td id=\"T_a67c7_row2_col0\" class=\"data row2 col0\" >1.051883</td>\n      <td id=\"T_a67c7_row2_col1\" class=\"data row2 col1\" >1.324367</td>\n      <td id=\"T_a67c7_row2_col2\" class=\"data row2 col2\" >1.719962</td>\n      <td id=\"T_a67c7_row2_col3\" class=\"data row2 col3\" >0.856212</td>\n      <td id=\"T_a67c7_row2_col4\" class=\"data row2 col4\" >0.611576</td>\n      <td id=\"T_a67c7_row2_col5\" class=\"data row2 col5\" >0.954894</td>\n      <td id=\"T_a67c7_row2_col6\" class=\"data row2 col6\" >0.833106</td>\n      <td id=\"T_a67c7_row2_col7\" class=\"data row2 col7\" >0.952359</td>\n      <td id=\"T_a67c7_row2_col8\" class=\"data row2 col8\" >0.993230</td>\n    </tr>\n    <tr>\n      <th id=\"T_a67c7_level0_row3\" class=\"row_heading level0 row3\" >Goo Macy</th>\n      <td id=\"T_a67c7_row3_col0\" class=\"data row3 col0\" >0.891842</td>\n      <td id=\"T_a67c7_row3_col1\" class=\"data row3 col1\" >0.717598</td>\n      <td id=\"T_a67c7_row3_col2\" class=\"data row3 col2\" >1.653480</td>\n      <td id=\"T_a67c7_row3_col3\" class=\"data row3 col3\" >0.327848</td>\n      <td id=\"T_a67c7_row3_col4\" class=\"data row3 col4\" >0.430197</td>\n      <td id=\"T_a67c7_row3_col5\" class=\"data row3 col5\" >0.216985</td>\n      <td id=\"T_a67c7_row3_col6\" class=\"data row3 col6\" >0.950929</td>\n      <td id=\"T_a67c7_row3_col7\" class=\"data row3 col7\" >0.758024</td>\n      <td id=\"T_a67c7_row3_col8\" class=\"data row3 col8\" >0.127844</td>\n    </tr>\n    <tr>\n      <th id=\"T_a67c7_level0_row4\" class=\"row_heading level0 row4\" >Antonio Osako</th>\n      <td id=\"T_a67c7_row4_col0\" class=\"data row4 col0\" >0.929188</td>\n      <td id=\"T_a67c7_row4_col1\" class=\"data row4 col1\" >1.325516</td>\n      <td id=\"T_a67c7_row4_col2\" class=\"data row4 col2\" >1.428873</td>\n      <td id=\"T_a67c7_row4_col3\" class=\"data row4 col3\" >0.150177</td>\n      <td id=\"T_a67c7_row4_col4\" class=\"data row4 col4\" >0.638627</td>\n      <td id=\"T_a67c7_row4_col5\" class=\"data row4 col5\" >0.613708</td>\n      <td id=\"T_a67c7_row4_col6\" class=\"data row4 col6\" >0.034460</td>\n      <td id=\"T_a67c7_row4_col7\" class=\"data row4 col7\" >0.464159</td>\n      <td id=\"T_a67c7_row4_col8\" class=\"data row4 col8\" >0.666886</td>\n    </tr>\n    <tr>\n      <th id=\"T_a67c7_level0_row5\" class=\"row_heading level0 row5\" >Mac Rialto</th>\n      <td id=\"T_a67c7_row5_col0\" class=\"data row5 col0\" >0.661517</td>\n      <td id=\"T_a67c7_row5_col1\" class=\"data row5 col1\" >0.576966</td>\n      <td id=\"T_a67c7_row5_col2\" class=\"data row5 col2\" >1.268622</td>\n      <td id=\"T_a67c7_row5_col3\" class=\"data row5 col3\" >0.152058</td>\n      <td id=\"T_a67c7_row5_col4\" class=\"data row5 col4\" >0.639042</td>\n      <td id=\"T_a67c7_row5_col5\" class=\"data row5 col5\" >0.816921</td>\n      <td id=\"T_a67c7_row5_col6\" class=\"data row5 col6\" >0.496429</td>\n      <td id=\"T_a67c7_row5_col7\" class=\"data row5 col7\" >0.951498</td>\n      <td id=\"T_a67c7_row5_col8\" class=\"data row5 col8\" >0.966361</td>\n    </tr>\n    <tr>\n      <th id=\"T_a67c7_level0_row6\" class=\"row_heading level0 row6\" >Pop Winter</th>\n      <td id=\"T_a67c7_row6_col0\" class=\"data row6 col0\" >0.968249</td>\n      <td id=\"T_a67c7_row6_col1\" class=\"data row6 col1\" >0.900570</td>\n      <td id=\"T_a67c7_row6_col2\" class=\"data row6 col2\" >1.513414</td>\n      <td id=\"T_a67c7_row6_col3\" class=\"data row6 col3\" >0.401072</td>\n      <td id=\"T_a67c7_row6_col4\" class=\"data row6 col4\" >0.628953</td>\n      <td id=\"T_a67c7_row6_col5\" class=\"data row6 col5\" >0.502119</td>\n      <td id=\"T_a67c7_row6_col6\" class=\"data row6 col6\" >0.927479</td>\n      <td id=\"T_a67c7_row6_col7\" class=\"data row6 col7\" >0.092069</td>\n      <td id=\"T_a67c7_row6_col8\" class=\"data row6 col8\" >0.713725</td>\n    </tr>\n    <tr>\n      <th id=\"T_a67c7_level0_row7\" class=\"row_heading level0 row7\" >Metric Wobin</th>\n      <td id=\"T_a67c7_row7_col0\" class=\"data row7 col0\" >0.648669</td>\n      <td id=\"T_a67c7_row7_col1\" class=\"data row7 col1\" >0.649216</td>\n      <td id=\"T_a67c7_row7_col2\" class=\"data row7 col2\" >0.741096</td>\n      <td id=\"T_a67c7_row7_col3\" class=\"data row7 col3\" >0.798134</td>\n      <td id=\"T_a67c7_row7_col4\" class=\"data row7 col4\" >0.410019</td>\n      <td id=\"T_a67c7_row7_col5\" class=\"data row7 col5\" >0.799312</td>\n      <td id=\"T_a67c7_row7_col6\" class=\"data row7 col6\" >0.937755</td>\n      <td id=\"T_a67c7_row7_col7\" class=\"data row7 col7\" >0.680310</td>\n      <td id=\"T_a67c7_row7_col8\" class=\"data row7 col8\" >0.320463</td>\n    </tr>\n    <tr>\n      <th id=\"T_a67c7_level0_row8\" class=\"row_heading level0 row8\" >Tall Everts</th>\n      <td id=\"T_a67c7_row8_col0\" class=\"data row8 col0\" >0.890343</td>\n      <td id=\"T_a67c7_row8_col1\" class=\"data row8 col1\" >0.623675</td>\n      <td id=\"T_a67c7_row8_col2\" class=\"data row8 col2\" >1.560525</td>\n      <td id=\"T_a67c7_row8_col3\" class=\"data row8 col3\" >0.758881</td>\n      <td id=\"T_a67c7_row8_col4\" class=\"data row8 col4\" >0.939303</td>\n      <td id=\"T_a67c7_row8_col5\" class=\"data row8 col5\" >0.153648</td>\n      <td id=\"T_a67c7_row8_col6\" class=\"data row8 col6\" >0.054601</td>\n      <td id=\"T_a67c7_row8_col7\" class=\"data row8 col7\" >0.771839</td>\n      <td id=\"T_a67c7_row8_col8\" class=\"data row8 col8\" >0.136364</td>\n    </tr>\n  </tbody>\n</table>\n"
     },
     "execution_count": 11,
     "metadata": {},
     "output_type": "execute_result"
    }
   ],
   "source": [
    "new_lineup = []\n",
    "for player in pies.lineup:\n",
    "    new_lineup.append(player.simulated_copy(buffs=\n",
    "                                         {'thwackability': 0.5130641039787702,\n",
    "                                          'divinity': 0.7269251670605504,\n",
    "                                          'omniscience': 0.15027996064258692,\n",
    "                                          'continuation': 0.11857006105026602,\n",
    "                                          'cinnamon': 0.5548917066411219}))\n",
    "\n",
    "set_heatmap(get_batting_stlats(new_lineup), maxVal=1.0)\n",
    "# 62fb21ab-1ef3-4c01-93a2-4d95325b1dab"
   ],
   "metadata": {
    "collapsed": false,
    "pycharm": {
     "name": "#%%\n"
    }
   }
  },
  {
   "cell_type": "markdown",
   "id": "71063f4c",
   "metadata": {},
   "source": [
    "### Snow Shoes\n",
    "\n",
    "**Give Snow Shoes to a random Player in your Team's Lineup.**\n",
    "\n",
    "This would award a random batter with the Snow Shoes Item. Exact stat changes are unknown but this is likely the same\n",
    "as the Rocket Shoes. Assuming this, see below for estimated stat changes."
   ]
  },
  {
   "cell_type": "code",
   "execution_count": 12,
   "outputs": [
    {
     "data": {
      "text/plain": "<pandas.io.formats.style.Styler at 0x1a73f84fcd0>",
      "text/html": "<style type=\"text/css\">\n#T_30c0a_row0_col0 {\n  background-color: #a7d96b;\n  color: #000000;\n}\n#T_30c0a_row0_col1, #T_30c0a_row1_col1, #T_30c0a_row2_col1, #T_30c0a_row4_col0, #T_30c0a_row4_col1, #T_30c0a_row4_col2, #T_30c0a_row5_col1, #T_30c0a_row6_col1, #T_30c0a_row6_col2, #T_30c0a_row7_col1 {\n  background-color: #006837;\n  color: #f1f1f1;\n}\n#T_30c0a_row0_col2 {\n  background-color: #ddf191;\n  color: #000000;\n}\n#T_30c0a_row0_col3 {\n  background-color: #bd1726;\n  color: #f1f1f1;\n}\n#T_30c0a_row0_col4 {\n  background-color: #fdbd6d;\n  color: #000000;\n}\n#T_30c0a_row0_col5 {\n  background-color: #ebf7a3;\n  color: #000000;\n}\n#T_30c0a_row1_col0 {\n  background-color: #097940;\n  color: #f1f1f1;\n}\n#T_30c0a_row1_col2 {\n  background-color: #a2d76a;\n  color: #000000;\n}\n#T_30c0a_row1_col3 {\n  background-color: #da362a;\n  color: #f1f1f1;\n}\n#T_30c0a_row1_col4 {\n  background-color: #51b35e;\n  color: #f1f1f1;\n}\n#T_30c0a_row1_col5, #T_30c0a_row8_col1 {\n  background-color: #3ca959;\n  color: #f1f1f1;\n}\n#T_30c0a_row2_col0 {\n  background-color: #7dc765;\n  color: #000000;\n}\n#T_30c0a_row2_col2 {\n  background-color: #06733d;\n  color: #f1f1f1;\n}\n#T_30c0a_row2_col3 {\n  background-color: #fa9656;\n  color: #000000;\n}\n#T_30c0a_row2_col4 {\n  background-color: #fca55d;\n  color: #000000;\n}\n#T_30c0a_row2_col5 {\n  background-color: #eff8aa;\n  color: #000000;\n}\n#T_30c0a_row3_col0 {\n  background-color: #a0d669;\n  color: #000000;\n}\n#T_30c0a_row3_col1, #T_30c0a_row8_col0 {\n  background-color: #8ecf67;\n  color: #000000;\n}\n#T_30c0a_row3_col2 {\n  background-color: #b1de71;\n  color: #000000;\n}\n#T_30c0a_row3_col3 {\n  background-color: #feca79;\n  color: #000000;\n}\n#T_30c0a_row3_col4 {\n  background-color: #75c465;\n  color: #000000;\n}\n#T_30c0a_row3_col5 {\n  background-color: #73c264;\n  color: #000000;\n}\n#T_30c0a_row4_col3 {\n  background-color: #f1f9ac;\n  color: #000000;\n}\n#T_30c0a_row4_col4 {\n  background-color: #8ccd67;\n  color: #000000;\n}\n#T_30c0a_row4_col5 {\n  background-color: #63bc62;\n  color: #f1f1f1;\n}\n#T_30c0a_row5_col0 {\n  background-color: #118848;\n  color: #f1f1f1;\n}\n#T_30c0a_row5_col2, #T_30c0a_row8_col2 {\n  background-color: #fafdb8;\n  color: #000000;\n}\n#T_30c0a_row5_col3 {\n  background-color: #93d168;\n  color: #000000;\n}\n#T_30c0a_row5_col4 {\n  background-color: #78c565;\n  color: #000000;\n}\n#T_30c0a_row5_col5 {\n  background-color: #eb5a3a;\n  color: #f1f1f1;\n}\n#T_30c0a_row6_col0 {\n  background-color: #0b7d42;\n  color: #f1f1f1;\n}\n#T_30c0a_row6_col3 {\n  background-color: #7ac665;\n  color: #000000;\n}\n#T_30c0a_row6_col4 {\n  background-color: #1b9950;\n  color: #f1f1f1;\n}\n#T_30c0a_row6_col5 {\n  background-color: #e6f59d;\n  color: #000000;\n}\n#T_30c0a_row7_col0 {\n  background-color: #05713c;\n  color: #f1f1f1;\n}\n#T_30c0a_row7_col2 {\n  background-color: #2aa054;\n  color: #f1f1f1;\n}\n#T_30c0a_row7_col3 {\n  background-color: #feeb9d;\n  color: #000000;\n}\n#T_30c0a_row7_col4 {\n  background-color: #39a758;\n  color: #f1f1f1;\n}\n#T_30c0a_row7_col5 {\n  background-color: #fdad60;\n  color: #000000;\n}\n#T_30c0a_row8_col3 {\n  background-color: #42ac5a;\n  color: #f1f1f1;\n}\n#T_30c0a_row8_col4 {\n  background-color: #fcaa5f;\n  color: #000000;\n}\n#T_30c0a_row8_col5 {\n  background-color: #69be63;\n  color: #f1f1f1;\n}\n</style>\n<table id=\"T_30c0a_\">\n  <thead>\n    <tr>\n      <th class=\"blank level0\" >&nbsp;</th>\n      <th class=\"col_heading level0 col0\" >Baserunning Rating</th>\n      <th class=\"col_heading level0 col1\" >Laserlikeness</th>\n      <th class=\"col_heading level0 col2\" >Continuation</th>\n      <th class=\"col_heading level0 col3\" >Base Thirst</th>\n      <th class=\"col_heading level0 col4\" >Indulgence</th>\n      <th class=\"col_heading level0 col5\" >Ground Friction</th>\n    </tr>\n  </thead>\n  <tbody>\n    <tr>\n      <th id=\"T_30c0a_level0_row0\" class=\"row_heading level0 row0\" >Clay Dickens</th>\n      <td id=\"T_30c0a_row0_col0\" class=\"data row0 col0\" >0.697676</td>\n      <td id=\"T_30c0a_row0_col1\" class=\"data row0 col1\" >1.380516</td>\n      <td id=\"T_30c0a_row0_col2\" class=\"data row0 col2\" >0.587489</td>\n      <td id=\"T_30c0a_row0_col3\" class=\"data row0 col3\" >0.050689</td>\n      <td id=\"T_30c0a_row0_col4\" class=\"data row0 col4\" >0.331908</td>\n      <td id=\"T_30c0a_row0_col5\" class=\"data row0 col5\" >0.551317</td>\n    </tr>\n    <tr>\n      <th id=\"T_30c0a_level0_row1\" class=\"row_heading level0 row1\" >Brooke Honeywell</th>\n      <td id=\"T_30c0a_row1_col0\" class=\"data row1 col0\" >0.961606</td>\n      <td id=\"T_30c0a_row1_col1\" class=\"data row1 col1\" >1.646869</td>\n      <td id=\"T_30c0a_row1_col2\" class=\"data row1 col2\" >0.706867</td>\n      <td id=\"T_30c0a_row1_col3\" class=\"data row1 col3\" >0.112098</td>\n      <td id=\"T_30c0a_row1_col4\" class=\"data row1 col4\" >0.824287</td>\n      <td id=\"T_30c0a_row1_col5\" class=\"data row1 col5\" >0.854408</td>\n    </tr>\n    <tr>\n      <th id=\"T_30c0a_level0_row2\" class=\"row_heading level0 row2\" >Nikola Honeycrisp</th>\n      <td id=\"T_30c0a_row2_col0\" class=\"data row2 col0\" >0.764266</td>\n      <td id=\"T_30c0a_row2_col1\" class=\"data row2 col1\" >1.112401</td>\n      <td id=\"T_30c0a_row2_col2\" class=\"data row2 col2\" >0.973909</td>\n      <td id=\"T_30c0a_row2_col3\" class=\"data row2 col3\" >0.261749</td>\n      <td id=\"T_30c0a_row2_col4\" class=\"data row2 col4\" >0.288770</td>\n      <td id=\"T_30c0a_row2_col5\" class=\"data row2 col5\" >0.542225</td>\n    </tr>\n    <tr>\n      <th id=\"T_30c0a_level0_row3\" class=\"row_heading level0 row3\" >Goo Macy</th>\n      <td id=\"T_30c0a_row3_col0\" class=\"data row3 col0\" >0.707837</td>\n      <td id=\"T_30c0a_row3_col1\" class=\"data row3 col1\" >0.736324</td>\n      <td id=\"T_30c0a_row3_col2\" class=\"data row3 col2\" >0.677584</td>\n      <td id=\"T_30c0a_row3_col3\" class=\"data row3 col3\" >0.356905</td>\n      <td id=\"T_30c0a_row3_col4\" class=\"data row3 col4\" >0.773451</td>\n      <td id=\"T_30c0a_row3_col5\" class=\"data row3 col5\" >0.779897</td>\n    </tr>\n    <tr>\n      <th id=\"T_30c0a_level0_row4\" class=\"row_heading level0 row4\" >Antonio Osako</th>\n      <td id=\"T_30c0a_row4_col0\" class=\"data row4 col0\" >1.093335</td>\n      <td id=\"T_30c0a_row4_col1\" class=\"data row4 col1\" >1.411608</td>\n      <td id=\"T_30c0a_row4_col2\" class=\"data row4 col2\" >1.359015</td>\n      <td id=\"T_30c0a_row4_col3\" class=\"data row4 col3\" >0.539028</td>\n      <td id=\"T_30c0a_row4_col4\" class=\"data row4 col4\" >0.739813</td>\n      <td id=\"T_30c0a_row4_col5\" class=\"data row4 col5\" >0.803530</td>\n    </tr>\n    <tr>\n      <th id=\"T_30c0a_level0_row5\" class=\"row_heading level0 row5\" >Mac Rialto</th>\n      <td id=\"T_30c0a_row5_col0\" class=\"data row5 col0\" >0.933431</td>\n      <td id=\"T_30c0a_row5_col1\" class=\"data row5 col1\" >1.592244</td>\n      <td id=\"T_30c0a_row5_col2\" class=\"data row5 col2\" >0.514014</td>\n      <td id=\"T_30c0a_row5_col3\" class=\"data row5 col3\" >0.727816</td>\n      <td id=\"T_30c0a_row5_col4\" class=\"data row5 col4\" >0.772509</td>\n      <td id=\"T_30c0a_row5_col5\" class=\"data row5 col5\" >0.169774</td>\n    </tr>\n    <tr>\n      <th id=\"T_30c0a_level0_row6\" class=\"row_heading level0 row6\" >Pop Winter</th>\n      <td id=\"T_30c0a_row6_col0\" class=\"data row6 col0\" >0.954486</td>\n      <td id=\"T_30c0a_row6_col1\" class=\"data row6 col1\" >1.062180</td>\n      <td id=\"T_30c0a_row6_col2\" class=\"data row6 col2\" >1.197868</td>\n      <td id=\"T_30c0a_row6_col3\" class=\"data row6 col3\" >0.768004</td>\n      <td id=\"T_30c0a_row6_col4\" class=\"data row6 col4\" >0.894820</td>\n      <td id=\"T_30c0a_row6_col5\" class=\"data row6 col5\" >0.563896</td>\n    </tr>\n    <tr>\n      <th id=\"T_30c0a_level0_row7\" class=\"row_heading level0 row7\" >Metric Wobin</th>\n      <td id=\"T_30c0a_row7_col0\" class=\"data row7 col0\" >0.978279</td>\n      <td id=\"T_30c0a_row7_col1\" class=\"data row7 col1\" >1.524980</td>\n      <td id=\"T_30c0a_row7_col2\" class=\"data row7 col2\" >0.875582</td>\n      <td id=\"T_30c0a_row7_col3\" class=\"data row7 col3\" >0.435078</td>\n      <td id=\"T_30c0a_row7_col4\" class=\"data row7 col4\" >0.856426</td>\n      <td id=\"T_30c0a_row7_col5\" class=\"data row7 col5\" >0.298369</td>\n    </tr>\n    <tr>\n      <th id=\"T_30c0a_level0_row8\" class=\"row_heading level0 row8\" >Tall Everts</th>\n      <td id=\"T_30c0a_row8_col0\" class=\"data row8 col0\" >0.735348</td>\n      <td id=\"T_30c0a_row8_col1\" class=\"data row8 col1\" >0.853110</td>\n      <td id=\"T_30c0a_row8_col2\" class=\"data row8 col2\" >0.514371</td>\n      <td id=\"T_30c0a_row8_col3\" class=\"data row8 col3\" >0.844481</td>\n      <td id=\"T_30c0a_row8_col4\" class=\"data row8 col4\" >0.296641</td>\n      <td id=\"T_30c0a_row8_col5\" class=\"data row8 col5\" >0.793970</td>\n    </tr>\n  </tbody>\n</table>\n"
     },
     "execution_count": 12,
     "metadata": {},
     "output_type": "execute_result"
    }
   ],
   "source": [
    "new_lineup = []\n",
    "for player in pies.lineup:\n",
    "    new_lineup.append(player.simulated_copy(buffs=\n",
    "                                         {'laserlikeness': 0.7352479438825257,\n",
    "                                          'tenaciousness': 0.18846089786002318,\n",
    "                                          'chasiness': 0.17397007472834686,\n",
    "                                          'continuation': 0.36907020559415343,\n",
    "                                          'base_thirst': 0.3980900812170812,\n",
    "                                          'indulgence': 0.18520160996281987}))\n",
    "\n",
    "set_heatmap(get_baserunning_stlats(new_lineup), maxVal=1.0)\n",
    "# 971353de-05f9-47b2-8c27-62b666f182af"
   ],
   "metadata": {
    "collapsed": false,
    "pycharm": {
     "name": "#%%\n"
    }
   }
  },
  {
   "cell_type": "markdown",
   "id": "303e0a17",
   "metadata": {},
   "source": [
    "### Catcher's Mittens\n",
    "\n",
    "**Give Catcher's Mittens to a random Player in your Team's Lineup.**\n",
    "\n",
    "This would award a random batter with the Catcher's Mittens Item. Exact stat changes are unknown but this is likely the same\n",
    "as the Catcher's Mitt. Assuming this, see below for estimated stat changes."
   ]
  },
  {
   "cell_type": "code",
   "execution_count": 13,
   "outputs": [
    {
     "data": {
      "text/plain": "<pandas.io.formats.style.Styler at 0x1a758ff8ca0>",
      "text/html": "<style type=\"text/css\">\n#T_6206b_row0_col0, #T_6206b_row0_col1, #T_6206b_row0_col2, #T_6206b_row1_col3, #T_6206b_row3_col1, #T_6206b_row4_col1, #T_6206b_row4_col2, #T_6206b_row5_col1, #T_6206b_row5_col5, #T_6206b_row6_col1, #T_6206b_row7_col2, #T_6206b_row8_col1 {\n  background-color: #006837;\n  color: #f1f1f1;\n}\n#T_6206b_row0_col3, #T_6206b_row3_col5 {\n  background-color: #98d368;\n  color: #000000;\n}\n#T_6206b_row0_col4 {\n  background-color: #148e4b;\n  color: #f1f1f1;\n}\n#T_6206b_row0_col5 {\n  background-color: #30a356;\n  color: #f1f1f1;\n}\n#T_6206b_row1_col0 {\n  background-color: #bbe278;\n  color: #000000;\n}\n#T_6206b_row1_col1, #T_6206b_row1_col5 {\n  background-color: #7fc866;\n  color: #000000;\n}\n#T_6206b_row1_col2 {\n  background-color: #cfeb85;\n  color: #000000;\n}\n#T_6206b_row1_col4 {\n  background-color: #d02927;\n  color: #f1f1f1;\n}\n#T_6206b_row2_col0, #T_6206b_row2_col3 {\n  background-color: #57b65f;\n  color: #f1f1f1;\n}\n#T_6206b_row2_col1 {\n  background-color: #128a49;\n  color: #f1f1f1;\n}\n#T_6206b_row2_col2 {\n  background-color: #cdea83;\n  color: #000000;\n}\n#T_6206b_row2_col4 {\n  background-color: #6ec064;\n  color: #000000;\n}\n#T_6206b_row2_col5 {\n  background-color: #cbe982;\n  color: #000000;\n}\n#T_6206b_row3_col0, #T_6206b_row4_col5 {\n  background-color: #c7e77f;\n  color: #000000;\n}\n#T_6206b_row3_col2 {\n  background-color: #84ca66;\n  color: #000000;\n}\n#T_6206b_row3_col3 {\n  background-color: #fee28f;\n  color: #000000;\n}\n#T_6206b_row3_col4 {\n  background-color: #c01a27;\n  color: #f1f1f1;\n}\n#T_6206b_row4_col0 {\n  background-color: #78c565;\n  color: #000000;\n}\n#T_6206b_row4_col3 {\n  background-color: #fffcba;\n  color: #000000;\n}\n#T_6206b_row4_col4 {\n  background-color: #ce2827;\n  color: #f1f1f1;\n}\n#T_6206b_row5_col0 {\n  background-color: #0a7b41;\n  color: #f1f1f1;\n}\n#T_6206b_row5_col2 {\n  background-color: #54b45f;\n  color: #f1f1f1;\n}\n#T_6206b_row5_col3 {\n  background-color: #0e8245;\n  color: #f1f1f1;\n}\n#T_6206b_row5_col4 {\n  background-color: #d1ec86;\n  color: #000000;\n}\n#T_6206b_row6_col0 {\n  background-color: #afdd70;\n  color: #000000;\n}\n#T_6206b_row6_col2 {\n  background-color: #daf08d;\n  color: #000000;\n}\n#T_6206b_row6_col3 {\n  background-color: #60ba62;\n  color: #f1f1f1;\n}\n#T_6206b_row6_col4 {\n  background-color: #c82227;\n  color: #f1f1f1;\n}\n#T_6206b_row6_col5 {\n  background-color: #0d8044;\n  color: #f1f1f1;\n}\n#T_6206b_row7_col0 {\n  background-color: #5db961;\n  color: #f1f1f1;\n}\n#T_6206b_row7_col1 {\n  background-color: #118848;\n  color: #f1f1f1;\n}\n#T_6206b_row7_col3 {\n  background-color: #3faa59;\n  color: #f1f1f1;\n}\n#T_6206b_row7_col4 {\n  background-color: #fca85e;\n  color: #000000;\n}\n#T_6206b_row7_col5 {\n  background-color: #fece7c;\n  color: #000000;\n}\n#T_6206b_row8_col0 {\n  background-color: #199750;\n  color: #f1f1f1;\n}\n#T_6206b_row8_col2 {\n  background-color: #6bbf64;\n  color: #000000;\n}\n#T_6206b_row8_col3 {\n  background-color: #9dd569;\n  color: #000000;\n}\n#T_6206b_row8_col4 {\n  background-color: #fee695;\n  color: #000000;\n}\n#T_6206b_row8_col5 {\n  background-color: #249d53;\n  color: #f1f1f1;\n}\n</style>\n<table id=\"T_6206b_\">\n  <thead>\n    <tr>\n      <th class=\"blank level0\" >&nbsp;</th>\n      <th class=\"col_heading level0 col0\" >Defense Rating</th>\n      <th class=\"col_heading level0 col1\" >Omniscience</th>\n      <th class=\"col_heading level0 col2\" >Tenaciousness</th>\n      <th class=\"col_heading level0 col3\" >Watchfulness</th>\n      <th class=\"col_heading level0 col4\" >Anticapitalism</th>\n      <th class=\"col_heading level0 col5\" >Chasiness</th>\n    </tr>\n  </thead>\n  <tbody>\n    <tr>\n      <th id=\"T_6206b_level0_row0\" class=\"row_heading level0 row0\" >Clay Dickens</th>\n      <td id=\"T_6206b_row0_col0\" class=\"data row0 col0\" >1.082652</td>\n      <td id=\"T_6206b_row0_col1\" class=\"data row0 col1\" >1.417170</td>\n      <td id=\"T_6206b_row0_col2\" class=\"data row0 col2\" >1.385823</td>\n      <td id=\"T_6206b_row0_col3\" class=\"data row0 col3\" >0.720102</td>\n      <td id=\"T_6206b_row0_col4\" class=\"data row0 col4\" >0.918573</td>\n      <td id=\"T_6206b_row0_col5\" class=\"data row0 col5\" >0.867208</td>\n    </tr>\n    <tr>\n      <th id=\"T_6206b_level0_row1\" class=\"row_heading level0 row1\" >Brooke Honeywell</th>\n      <td id=\"T_6206b_row1_col0\" class=\"data row1 col0\" >0.656859</td>\n      <td id=\"T_6206b_row1_col1\" class=\"data row1 col1\" >0.758490</td>\n      <td id=\"T_6206b_row1_col2\" class=\"data row1 col2\" >0.617340</td>\n      <td id=\"T_6206b_row1_col3\" class=\"data row1 col3\" >0.998072</td>\n      <td id=\"T_6206b_row1_col4\" class=\"data row1 col4\" >0.089793</td>\n      <td id=\"T_6206b_row1_col5\" class=\"data row1 col5\" >0.760965</td>\n    </tr>\n    <tr>\n      <th id=\"T_6206b_level0_row2\" class=\"row_heading level0 row2\" >Nikola Honeycrisp</th>\n      <td id=\"T_6206b_row2_col0\" class=\"data row2 col0\" >0.818175</td>\n      <td id=\"T_6206b_row2_col1\" class=\"data row2 col1\" >0.927239</td>\n      <td id=\"T_6206b_row2_col2\" class=\"data row2 col2\" >0.622217</td>\n      <td id=\"T_6206b_row2_col3\" class=\"data row2 col3\" >0.817867</td>\n      <td id=\"T_6206b_row2_col4\" class=\"data row2 col4\" >0.786671</td>\n      <td id=\"T_6206b_row2_col5\" class=\"data row2 col5\" >0.627655</td>\n    </tr>\n    <tr>\n      <th id=\"T_6206b_level0_row3\" class=\"row_heading level0 row3\" >Goo Macy</th>\n      <td id=\"T_6206b_row3_col0\" class=\"data row3 col0\" >0.634708</td>\n      <td id=\"T_6206b_row3_col1\" class=\"data row3 col1\" >1.064195</td>\n      <td id=\"T_6206b_row3_col2\" class=\"data row3 col2\" >0.750162</td>\n      <td id=\"T_6206b_row3_col3\" class=\"data row3 col3\" >0.408404</td>\n      <td id=\"T_6206b_row3_col4\" class=\"data row3 col4\" >0.056592</td>\n      <td id=\"T_6206b_row3_col5\" class=\"data row3 col5\" >0.720343</td>\n    </tr>\n    <tr>\n      <th id=\"T_6206b_level0_row4\" class=\"row_heading level0 row4\" >Antonio Osako</th>\n      <td id=\"T_6206b_row4_col0\" class=\"data row4 col0\" >0.771537</td>\n      <td id=\"T_6206b_row4_col1\" class=\"data row4 col1\" >1.468891</td>\n      <td id=\"T_6206b_row4_col2\" class=\"data row4 col2\" >1.164098</td>\n      <td id=\"T_6206b_row4_col3\" class=\"data row4 col3\" >0.489413</td>\n      <td id=\"T_6206b_row4_col4\" class=\"data row4 col4\" >0.082078</td>\n      <td id=\"T_6206b_row4_col5\" class=\"data row4 col5\" >0.636363</td>\n    </tr>\n    <tr>\n      <th id=\"T_6206b_level0_row5\" class=\"row_heading level0 row5\" >Mac Rialto</th>\n      <td id=\"T_6206b_row5_col0\" class=\"data row5 col0\" >0.957698</td>\n      <td id=\"T_6206b_row5_col1\" class=\"data row5 col1\" >1.180133</td>\n      <td id=\"T_6206b_row5_col2\" class=\"data row5 col2\" >0.820719</td>\n      <td id=\"T_6206b_row5_col3\" class=\"data row5 col3\" >0.942212</td>\n      <td id=\"T_6206b_row5_col4\" class=\"data row5 col4\" >0.614791</td>\n      <td id=\"T_6206b_row5_col5\" class=\"data row5 col5\" >1.194421</td>\n    </tr>\n    <tr>\n      <th id=\"T_6206b_level0_row6\" class=\"row_heading level0 row6\" >Pop Winter</th>\n      <td id=\"T_6206b_row6_col0\" class=\"data row6 col0\" >0.681993</td>\n      <td id=\"T_6206b_row6_col1\" class=\"data row6 col1\" >1.054823</td>\n      <td id=\"T_6206b_row6_col2\" class=\"data row6 col2\" >0.595670</td>\n      <td id=\"T_6206b_row6_col3\" class=\"data row6 col3\" >0.806850</td>\n      <td id=\"T_6206b_row6_col4\" class=\"data row6 col4\" >0.072209</td>\n      <td id=\"T_6206b_row6_col5\" class=\"data row6 col5\" >0.946336</td>\n    </tr>\n    <tr>\n      <th id=\"T_6206b_level0_row7\" class=\"row_heading level0 row7\" >Metric Wobin</th>\n      <td id=\"T_6206b_row7_col0\" class=\"data row7 col0\" >0.812006</td>\n      <td id=\"T_6206b_row7_col1\" class=\"data row7 col1\" >0.931216</td>\n      <td id=\"T_6206b_row7_col2\" class=\"data row7 col2\" >1.262374</td>\n      <td id=\"T_6206b_row7_col3\" class=\"data row7 col3\" >0.848649</td>\n      <td id=\"T_6206b_row7_col4\" class=\"data row7 col4\" >0.292143</td>\n      <td id=\"T_6206b_row7_col5\" class=\"data row7 col5\" >0.363741</td>\n    </tr>\n    <tr>\n      <th id=\"T_6206b_level0_row8\" class=\"row_heading level0 row8\" >Tall Everts</th>\n      <td id=\"T_6206b_row8_col0\" class=\"data row8 col0\" >0.899267</td>\n      <td id=\"T_6206b_row8_col1\" class=\"data row8 col1\" >1.446253</td>\n      <td id=\"T_6206b_row8_col2\" class=\"data row8 col2\" >0.791608</td>\n      <td id=\"T_6206b_row8_col3\" class=\"data row8 col3\" >0.711920</td>\n      <td id=\"T_6206b_row8_col4\" class=\"data row8 col4\" >0.419335</td>\n      <td id=\"T_6206b_row8_col5\" class=\"data row8 col5\" >0.883864</td>\n    </tr>\n  </tbody>\n</table>\n"
     },
     "execution_count": 13,
     "metadata": {},
     "output_type": "execute_result"
    }
   ],
   "source": [
    "new_lineup = []\n",
    "for player in pies.lineup:\n",
    "    new_lineup.append(player.simulated_copy(buffs=\n",
    "                                         {'omniscience': 0.7417557342177603,\n",
    "                                          'tenaciousness': 0.5530520529042229,\n",
    "                                          'watchfulness': 0.29585140345474525,\n",
    "                                          'indulgence': 0.1362837137461368,\n",
    "                                          'coldness': 0.11847071954893859,\n",
    "                                          'chasiness': 0.25232444207782545}))\n",
    "\n",
    "set_heatmap(get_defense_stlats(new_lineup), maxVal=1.0)\n",
    "# 488be339-eee0-4b01-b6ce-717bee78237f"
   ],
   "metadata": {
    "collapsed": false,
    "pycharm": {
     "name": "#%%\n"
    }
   }
  },
  {
   "cell_type": "markdown",
   "id": "8a693fd0",
   "metadata": {},
   "source": [
    "\n",
    "---\n",
    "## Appendix\n",
    "* [Description of Attributes](https://www.blaseball.wiki/w/Player_Attributes)\n",
    "* [Stlat Viewer](https://blaseballplayers.netlify.app/team/9a2f6bb9-c72c-437c-a3c4-e076dc5d10d4)\n",
    "* [Historical Player Graphs](http://yoori.space/hloroscopes/)"
   ]
  }
 ],
 "metadata": {
  "kernelspec": {
   "name": "python3",
   "language": "python",
   "display_name": "Python 3 (ipykernel)"
  }
 },
 "nbformat": 4,
 "nbformat_minor": 5
}