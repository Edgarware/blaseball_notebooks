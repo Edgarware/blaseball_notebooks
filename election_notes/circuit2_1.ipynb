{
 "cells": [
  {
   "cell_type": "markdown",
   "id": "dc5361dc",
   "metadata": {},
   "source": [
    "# Short Circuit 2: Season 1 Election Notes\n",
    "\n",
    ">**FORBIDDEN KNOWLEDGE WARNING**\n",
    ">\n",
    ">This document contains some information that is not currently present on the main site and may be considered spoilers.\n",
    ">Continue at your own discretion. Some information in this document cannot be shared on the Discord without spoiler tags.\n"
   ]
  },
  {
   "cell_type": "code",
   "execution_count": 1,
   "id": "6b243a31",
   "metadata": {},
   "outputs": [
    {
     "data": {
      "text/plain": "<IPython.core.display.Markdown object>",
      "text/markdown": "**Last Updated Season 1, Day 77**"
     },
     "metadata": {},
     "output_type": "display_data"
    }
   ],
   "source": [
    "import pandas\n",
    "%matplotlib inline\n",
    "from blaseball_mike.models import *\n",
    "from blaseball_mike.tables import StatType\n",
    "import plotly.io as _pio\n",
    "from IPython.display import display, Markdown\n",
    "from copy import deepcopy\n",
    "\n",
    "import os\n",
    "import sys\n",
    "pdir = os.path.abspath(os.path.join(os.path.dirname(''), os.path.pardir))\n",
    "sys.path.append(pdir)\n",
    "from display import *\n",
    "from blessings import *\n",
    "sys.path.remove(pdir)\n",
    "\n",
    "pandas.options.plotting.backend = \"plotly\"\n",
    "_pio.renderers.default = \"notebook_connected\"\n",
    "\n",
    "league = League.load()\n",
    "pies = [x for x in league.teams.values() if x.full_name == \"Philly Pies\"][0]\n",
    "\n",
    "sim = SimulationData.load()\n",
    "display(Markdown(f\"**Last Updated Season {sim.season}, Day {sim.day}**\"))"
   ]
  },
  {
   "cell_type": "markdown",
   "id": "2a061310",
   "metadata": {},
   "source": [
    "---\n",
    "## Amplifications\n",
    "\n",
    "Amplification are chosen by majority votes for each team. Each team will receive `1` amplification.\n",
    "\n",
    "\n",
    "**Your Team's Lineup will receive a Small Batting Boost.**\n",
    "\n",
    "**Your Team's Rotation will receive a Small Pitching Boost.**\n",
    "\n",
    "**Your Team's Lineup will receive a Large Baserunning Boost.**\n",
    "\n",
    "**Your Team's Lineup will receive a Large Defense Boost.**\n",
    "\n",
    "All the Amplifications will boost team-wide stats in one area. They boost a random player attribute for a random\n",
    "player by 0.01 a fixed number of times, depending on boost size. See below for estimated change.\n"
   ]
  },
  {
   "cell_type": "code",
   "execution_count": 2,
   "outputs": [
    {
     "data": {
      "text/plain": "<IPython.core.display.Markdown object>",
      "text/markdown": "###Muscle Warmers"
     },
     "metadata": {},
     "output_type": "display_data"
    },
    {
     "data": {
      "text/plain": "                   old_batting_stars  new_batting_stars  \\\nClay Dickens                2.422760           2.662246   \nBrooke Honeywell            1.839304           2.112813   \nNikola Honeycrisp           3.312037           4.282522   \nGoo Macy                    2.562215           2.794442   \nAntonio Osako               3.466959           3.681589   \nMac Rialto                  1.460973           1.768112   \nPop Winter                  3.199093           3.400512   \nMetric Wobin                0.965632           1.219506   \nTall Everts                 2.592892           2.849352   \n\n                   change_in_batting_stars  \nClay Dickens                      0.239486  \nBrooke Honeywell                  0.273509  \nNikola Honeycrisp                 0.970485  \nGoo Macy                          0.232228  \nAntonio Osako                     0.214630  \nMac Rialto                        0.307139  \nPop Winter                        0.201419  \nMetric Wobin                      0.253874  \nTall Everts                       0.256460  ",
      "text/html": "<div>\n<style scoped>\n    .dataframe tbody tr th:only-of-type {\n        vertical-align: middle;\n    }\n\n    .dataframe tbody tr th {\n        vertical-align: top;\n    }\n\n    .dataframe thead th {\n        text-align: right;\n    }\n</style>\n<table border=\"1\" class=\"dataframe\">\n  <thead>\n    <tr style=\"text-align: right;\">\n      <th></th>\n      <th>old_batting_stars</th>\n      <th>new_batting_stars</th>\n      <th>change_in_batting_stars</th>\n    </tr>\n  </thead>\n  <tbody>\n    <tr>\n      <th>Clay Dickens</th>\n      <td>2.422760</td>\n      <td>2.662246</td>\n      <td>0.239486</td>\n    </tr>\n    <tr>\n      <th>Brooke Honeywell</th>\n      <td>1.839304</td>\n      <td>2.112813</td>\n      <td>0.273509</td>\n    </tr>\n    <tr>\n      <th>Nikola Honeycrisp</th>\n      <td>3.312037</td>\n      <td>4.282522</td>\n      <td>0.970485</td>\n    </tr>\n    <tr>\n      <th>Goo Macy</th>\n      <td>2.562215</td>\n      <td>2.794442</td>\n      <td>0.232228</td>\n    </tr>\n    <tr>\n      <th>Antonio Osako</th>\n      <td>3.466959</td>\n      <td>3.681589</td>\n      <td>0.214630</td>\n    </tr>\n    <tr>\n      <th>Mac Rialto</th>\n      <td>1.460973</td>\n      <td>1.768112</td>\n      <td>0.307139</td>\n    </tr>\n    <tr>\n      <th>Pop Winter</th>\n      <td>3.199093</td>\n      <td>3.400512</td>\n      <td>0.201419</td>\n    </tr>\n    <tr>\n      <th>Metric Wobin</th>\n      <td>0.965632</td>\n      <td>1.219506</td>\n      <td>0.253874</td>\n    </tr>\n    <tr>\n      <th>Tall Everts</th>\n      <td>2.592892</td>\n      <td>2.849352</td>\n      <td>0.256460</td>\n    </tr>\n  </tbody>\n</table>\n</div>"
     },
     "metadata": {},
     "output_type": "display_data"
    },
    {
     "data": {
      "text/plain": "                         Team Average\nold_batting_stars            2.424652\nnew_batting_stars            2.752344\nchange_in_batting_stars      0.327692",
      "text/html": "<div>\n<style scoped>\n    .dataframe tbody tr th:only-of-type {\n        vertical-align: middle;\n    }\n\n    .dataframe tbody tr th {\n        vertical-align: top;\n    }\n\n    .dataframe thead th {\n        text-align: right;\n    }\n</style>\n<table border=\"1\" class=\"dataframe\">\n  <thead>\n    <tr style=\"text-align: right;\">\n      <th></th>\n      <th>Team Average</th>\n    </tr>\n  </thead>\n  <tbody>\n    <tr>\n      <th>old_batting_stars</th>\n      <td>2.424652</td>\n    </tr>\n    <tr>\n      <th>new_batting_stars</th>\n      <td>2.752344</td>\n    </tr>\n    <tr>\n      <th>change_in_batting_stars</th>\n      <td>0.327692</td>\n    </tr>\n  </tbody>\n</table>\n</div>"
     },
     "metadata": {},
     "output_type": "display_data"
    },
    {
     "data": {
      "text/plain": "<pandas.io.formats.style.Styler at 0x1a065a278b0>",
      "text/html": "<style type=\"text/css\">\n#T_91492_row0_col0 {\n  background-color: #f2faae;\n  color: #000000;\n}\n#T_91492_row0_col1 {\n  background-color: #addc6f;\n  color: #000000;\n}\n#T_91492_row0_col2 {\n  background-color: #cbe982;\n  color: #000000;\n}\n#T_91492_row0_col3 {\n  background-color: #e65036;\n  color: #f1f1f1;\n}\n#T_91492_row0_col4 {\n  background-color: #f16640;\n  color: #f1f1f1;\n}\n#T_91492_row0_col5, #T_91492_row3_col7 {\n  background-color: #8ecf67;\n  color: #000000;\n  background-color: #fa9656;\n  color: #000000;\n}\n#T_91492_row0_col6, #T_91492_row0_col8, #T_91492_row2_col1, #T_91492_row2_col2, #T_91492_row2_col3, #T_91492_row2_col6, #T_91492_row2_col8, #T_91492_row3_col2, #T_91492_row3_col6, #T_91492_row5_col8, #T_91492_row6_col6, #T_91492_row7_col6, #T_91492_row8_col4 {\n  background-color: #006837;\n  color: #f1f1f1;\n}\n#T_91492_row0_col7 {\n  background-color: #fed884;\n  color: #000000;\n  background-color: #d1ec86;\n  color: #000000;\n}\n#T_91492_row1_col0 {\n  background-color: #fee797;\n  color: #000000;\n}\n#T_91492_row1_col1 {\n  background-color: #1e9a51;\n  color: #f1f1f1;\n}\n#T_91492_row1_col2 {\n  background-color: #eb5a3a;\n  color: #f1f1f1;\n}\n#T_91492_row1_col3 {\n  background-color: #f46d43;\n  color: #f1f1f1;\n}\n#T_91492_row1_col4 {\n  background-color: #fff6b0;\n  color: #000000;\n}\n#T_91492_row1_col5 {\n  background-color: #da362a;\n  color: #f1f1f1;\n  background-color: #219c52;\n  color: #f1f1f1;\n}\n#T_91492_row1_col6 {\n  background-color: #78c565;\n  color: #000000;\n}\n#T_91492_row1_col7 {\n  background-color: #c1e57b;\n  color: #000000;\n  background-color: #fec877;\n  color: #000000;\n}\n#T_91492_row1_col8 {\n  background-color: #6bbf64;\n  color: #000000;\n}\n#T_91492_row2_col0 {\n  background-color: #39a758;\n  color: #f1f1f1;\n}\n#T_91492_row2_col4 {\n  background-color: #42ac5a;\n  color: #f1f1f1;\n}\n#T_91492_row2_col5, #T_91492_row2_col7, #T_91492_row5_col7 {\n  background-color: #0a7b41;\n  color: #f1f1f1;\n  background-color: #b91326;\n  color: #f1f1f1;\n}\n#T_91492_row3_col0 {\n  background-color: #e8f59f;\n  color: #000000;\n}\n#T_91492_row3_col1 {\n  background-color: #fba05b;\n  color: #000000;\n}\n#T_91492_row3_col3 {\n  background-color: #fee695;\n  color: #000000;\n}\n#T_91492_row3_col4 {\n  background-color: #fffab6;\n  color: #000000;\n}\n#T_91492_row3_col5 {\n  background-color: #f47044;\n  color: #f1f1f1;\n  background-color: #69be63;\n  color: #f1f1f1;\n}\n#T_91492_row3_col8 {\n  background-color: #f57245;\n  color: #f1f1f1;\n}\n#T_91492_row4_col0 {\n  background-color: #8ecf67;\n  color: #000000;\n}\n#T_91492_row4_col1, #T_91492_row8_col3 {\n  background-color: #148e4b;\n  color: #f1f1f1;\n}\n#T_91492_row4_col2 {\n  background-color: #54b45f;\n  color: #f1f1f1;\n}\n#T_91492_row4_col3 {\n  background-color: #fca85e;\n  color: #000000;\n}\n#T_91492_row4_col4 {\n  background-color: #7fc866;\n  color: #000000;\n}\n#T_91492_row4_col5 {\n  background-color: #b7e075;\n  color: #000000;\n  background-color: #fdbf6f;\n  color: #000000;\n}\n#T_91492_row4_col6 {\n  background-color: #f26841;\n  color: #f1f1f1;\n}\n#T_91492_row4_col7 {\n  background-color: #fbfdba;\n  color: #000000;\n  background-color: #fffcba;\n  color: #000000;\n}\n#T_91492_row4_col8 {\n  background-color: #5db961;\n  color: #f1f1f1;\n}\n#T_91492_row5_col0 {\n  background-color: #fec877;\n  color: #000000;\n}\n#T_91492_row5_col1 {\n  background-color: #e95538;\n  color: #f1f1f1;\n}\n#T_91492_row5_col2 {\n  background-color: #bfe47a;\n  color: #000000;\n}\n#T_91492_row5_col3 {\n  background-color: #fba35c;\n  color: #000000;\n}\n#T_91492_row5_col4 {\n  background-color: #89cc67;\n  color: #000000;\n}\n#T_91492_row5_col5, #T_91492_row7_col5 {\n  background-color: #39a758;\n  color: #f1f1f1;\n  background-color: #e34933;\n  color: #f1f1f1;\n}\n#T_91492_row5_col6 {\n  background-color: #dcf08f;\n  color: #000000;\n}\n#T_91492_row6_col0 {\n  background-color: #afdd70;\n  color: #000000;\n}\n#T_91492_row6_col1 {\n  background-color: #feffbe;\n  color: #000000;\n}\n#T_91492_row6_col2 {\n  background-color: #128a49;\n  color: #f1f1f1;\n}\n#T_91492_row6_col3 {\n  background-color: #fff8b4;\n  color: #000000;\n}\n#T_91492_row6_col4 {\n  background-color: #91d068;\n  color: #000000;\n}\n#T_91492_row6_col5 {\n  background-color: #f1f9ac;\n  color: #000000;\n  background-color: #fff3ac;\n  color: #000000;\n}\n#T_91492_row6_col7 {\n  background-color: #e14430;\n  color: #f1f1f1;\n  background-color: #33a456;\n  color: #f1f1f1;\n}\n#T_91492_row6_col8 {\n  background-color: #69be63;\n  color: #f1f1f1;\n}\n#T_91492_row7_col0 {\n  background-color: #f88950;\n  color: #f1f1f1;\n}\n#T_91492_row7_col1 {\n  background-color: #f67f4b;\n  color: #f1f1f1;\n}\n#T_91492_row7_col2 {\n  background-color: #dd3d2d;\n  color: #f1f1f1;\n}\n#T_91492_row7_col3 {\n  background-color: #0d8044;\n  color: #f1f1f1;\n}\n#T_91492_row7_col4 {\n  background-color: #f1f9ac;\n  color: #000000;\n}\n#T_91492_row7_col7 {\n  background-color: #abdb6d;\n  color: #000000;\n  background-color: #fdb365;\n  color: #000000;\n}\n#T_91492_row7_col8 {\n  background-color: #fee999;\n  color: #000000;\n}\n#T_91492_row8_col0 {\n  background-color: #e5f49b;\n  color: #000000;\n}\n#T_91492_row8_col1 {\n  background-color: #f88c51;\n  color: #f1f1f1;\n}\n#T_91492_row8_col2 {\n  background-color: #026c39;\n  color: #f1f1f1;\n}\n#T_91492_row8_col5 {\n  background-color: #f7814c;\n  color: #f1f1f1;\n  background-color: #7ac665;\n  color: #000000;\n}\n#T_91492_row8_col6 {\n  background-color: #ec5c3b;\n  color: #f1f1f1;\n}\n#T_91492_row8_col7 {\n  background-color: #279f53;\n  color: #f1f1f1;\n  background-color: #dc3b2c;\n  color: #f1f1f1;\n}\n#T_91492_row8_col8 {\n  background-color: #f98e52;\n  color: #f1f1f1;\n}\n</style>\n<table id=\"T_91492_\">\n  <thead>\n    <tr>\n      <th class=\"blank level0\" >&nbsp;</th>\n      <th class=\"col_heading level0 col0\" >Batting Rating</th>\n      <th class=\"col_heading level0 col1\" >Thwackability</th>\n      <th class=\"col_heading level0 col2\" >Divinity</th>\n      <th class=\"col_heading level0 col3\" >Musclitude</th>\n      <th class=\"col_heading level0 col4\" >Moxie</th>\n      <th class=\"col_heading level0 col5\" >Patheticism</th>\n      <th class=\"col_heading level0 col6\" >Martyrdom</th>\n      <th class=\"col_heading level0 col7\" >Tragicness</th>\n      <th class=\"col_heading level0 col8\" >Buoyancy</th>\n    </tr>\n  </thead>\n  <tbody>\n    <tr>\n      <th id=\"T_91492_level0_row0\" class=\"row_heading level0 row0\" >Clay Dickens</th>\n      <td id=\"T_91492_row0_col0\" class=\"data row0 col0\" >0.532449</td>\n      <td id=\"T_91492_row0_col1\" class=\"data row0 col1\" >0.687349</td>\n      <td id=\"T_91492_row0_col2\" class=\"data row0 col2\" >0.628734</td>\n      <td id=\"T_91492_row0_col3\" class=\"data row0 col3\" >0.152765</td>\n      <td id=\"T_91492_row0_col4\" class=\"data row0 col4\" >0.189256</td>\n      <td id=\"T_91492_row0_col5\" class=\"data row0 col5\" >0.736555</td>\n      <td id=\"T_91492_row0_col6\" class=\"data row0 col6\" >1.033184</td>\n      <td id=\"T_91492_row0_col7\" class=\"data row0 col7\" >0.382819</td>\n      <td id=\"T_91492_row0_col8\" class=\"data row0 col8\" >1.054121</td>\n    </tr>\n    <tr>\n      <th id=\"T_91492_level0_row1\" class=\"row_heading level0 row1\" >Brooke Honeywell</th>\n      <td id=\"T_91492_row1_col0\" class=\"data row1 col0\" >0.422563</td>\n      <td id=\"T_91492_row1_col1\" class=\"data row1 col1\" >0.892129</td>\n      <td id=\"T_91492_row1_col2\" class=\"data row1 col2\" >0.168854</td>\n      <td id=\"T_91492_row1_col3\" class=\"data row1 col3\" >0.200420</td>\n      <td id=\"T_91492_row1_col4\" class=\"data row1 col4\" >0.468948</td>\n      <td id=\"T_91492_row1_col5\" class=\"data row1 col5\" >0.112779</td>\n      <td id=\"T_91492_row1_col6\" class=\"data row1 col6\" >0.770415</td>\n      <td id=\"T_91492_row1_col7\" class=\"data row1 col7\" >0.645487</td>\n      <td id=\"T_91492_row1_col8\" class=\"data row1 col8\" >0.791670</td>\n    </tr>\n    <tr>\n      <th id=\"T_91492_level0_row2\" class=\"row_heading level0 row2\" >Nikola Honeycrisp</th>\n      <td id=\"T_91492_row2_col0\" class=\"data row2 col0\" >0.856504</td>\n      <td id=\"T_91492_row2_col1\" class=\"data row2 col1\" >0.996935</td>\n      <td id=\"T_91492_row2_col2\" class=\"data row2 col2\" >1.143514</td>\n      <td id=\"T_91492_row2_col3\" class=\"data row2 col3\" >1.027742</td>\n      <td id=\"T_91492_row2_col4\" class=\"data row2 col4\" >0.847383</td>\n      <td id=\"T_91492_row2_col5\" class=\"data row2 col5\" >0.959000</td>\n      <td id=\"T_91492_row2_col6\" class=\"data row2 col6\" >1.065033</td>\n      <td id=\"T_91492_row2_col7\" class=\"data row2 col7\" >0.959000</td>\n      <td id=\"T_91492_row2_col8\" class=\"data row2 col8\" >1.165638</td>\n    </tr>\n    <tr>\n      <th id=\"T_91492_level0_row3\" class=\"row_heading level0 row3\" >Goo Macy</th>\n      <td id=\"T_91492_row3_col0\" class=\"data row3 col0\" >0.558888</td>\n      <td id=\"T_91492_row3_col1\" class=\"data row3 col1\" >0.281140</td>\n      <td id=\"T_91492_row3_col2\" class=\"data row3 col2\" >1.019894</td>\n      <td id=\"T_91492_row3_col3\" class=\"data row3 col3\" >0.420838</td>\n      <td id=\"T_91492_row3_col4\" class=\"data row3 col4\" >0.481620</td>\n      <td id=\"T_91492_row3_col5\" class=\"data row3 col5\" >0.206159</td>\n      <td id=\"T_91492_row3_col6\" class=\"data row3 col6\" >1.000119</td>\n      <td id=\"T_91492_row3_col7\" class=\"data row3 col7\" >0.736440</td>\n      <td id=\"T_91492_row3_col8\" class=\"data row3 col8\" >0.210193</td>\n    </tr>\n    <tr>\n      <th id=\"T_91492_level0_row4\" class=\"row_heading level0 row4\" >Antonio Osako</th>\n      <td id=\"T_91492_row4_col0\" class=\"data row4 col0\" >0.736318</td>\n      <td id=\"T_91492_row4_col1\" class=\"data row4 col1\" >0.920145</td>\n      <td id=\"T_91492_row4_col2\" class=\"data row4 col2\" >0.821194</td>\n      <td id=\"T_91492_row4_col3\" class=\"data row4 col3\" >0.289626</td>\n      <td id=\"T_91492_row4_col4\" class=\"data row4 col4\" >0.761320</td>\n      <td id=\"T_91492_row4_col5\" class=\"data row4 col5\" >0.664916</td>\n      <td id=\"T_91492_row4_col6\" class=\"data row4 col6\" >0.193398</td>\n      <td id=\"T_91492_row4_col7\" class=\"data row4 col7\" >0.508234</td>\n      <td id=\"T_91492_row4_col8\" class=\"data row4 col8\" >0.809037</td>\n    </tr>\n    <tr>\n      <th id=\"T_91492_level0_row5\" class=\"row_heading level0 row5\" >Mac Rialto</th>\n      <td id=\"T_91492_row5_col0\" class=\"data row5 col0\" >0.353622</td>\n      <td id=\"T_91492_row5_col1\" class=\"data row5 col1\" >0.163817</td>\n      <td id=\"T_91492_row5_col2\" class=\"data row5 col2\" >0.651699</td>\n      <td id=\"T_91492_row5_col3\" class=\"data row5 col3\" >0.284620</td>\n      <td id=\"T_91492_row5_col4\" class=\"data row5 col4\" >0.745571</td>\n      <td id=\"T_91492_row5_col5\" class=\"data row5 col5\" >0.858625</td>\n      <td id=\"T_91492_row5_col6\" class=\"data row5 col6\" >0.591853</td>\n      <td id=\"T_91492_row5_col7\" class=\"data row5 col7\" >0.959000</td>\n      <td id=\"T_91492_row5_col8\" class=\"data row5 col8\" >1.088309</td>\n    </tr>\n    <tr>\n      <th id=\"T_91492_level0_row6\" class=\"row_heading level0 row6\" >Pop Winter</th>\n      <td id=\"T_91492_row6_col0\" class=\"data row6 col0\" >0.680102</td>\n      <td id=\"T_91492_row6_col1\" class=\"data row6 col1\" >0.500930</td>\n      <td id=\"T_91492_row6_col2\" class=\"data row6 col2\" >0.928910</td>\n      <td id=\"T_91492_row6_col3\" class=\"data row6 col3\" >0.478556</td>\n      <td id=\"T_91492_row6_col4\" class=\"data row6 col4\" >0.731654</td>\n      <td id=\"T_91492_row6_col5\" class=\"data row6 col5\" >0.535717</td>\n      <td id=\"T_91492_row6_col6\" class=\"data row6 col6\" >1.037978</td>\n      <td id=\"T_91492_row6_col7\" class=\"data row6 col7\" >0.132886</td>\n      <td id=\"T_91492_row6_col8\" class=\"data row6 col8\" >0.793107</td>\n    </tr>\n    <tr>\n      <th id=\"T_91492_level0_row7\" class=\"row_heading level0 row7\" >Metric Wobin</th>\n      <td id=\"T_91492_row7_col0\" class=\"data row7 col0\" >0.243901</td>\n      <td id=\"T_91492_row7_col1\" class=\"data row7 col1\" >0.227495</td>\n      <td id=\"T_91492_row7_col2\" class=\"data row7 col2\" >0.122664</td>\n      <td id=\"T_91492_row7_col3\" class=\"data row7 col3\" >0.945664</td>\n      <td id=\"T_91492_row7_col4\" class=\"data row7 col4\" >0.538558</td>\n      <td id=\"T_91492_row7_col5\" class=\"data row7 col5\" >0.857115</td>\n      <td id=\"T_91492_row7_col6\" class=\"data row7 col6\" >1.066214</td>\n      <td id=\"T_91492_row7_col7\" class=\"data row7 col7\" >0.691393</td>\n      <td id=\"T_91492_row7_col8\" class=\"data row7 col8\" >0.428122</td>\n    </tr>\n    <tr>\n      <th id=\"T_91492_level0_row8\" class=\"row_heading level0 row8\" >Tall Everts</th>\n      <td id=\"T_91492_row8_col0\" class=\"data row8 col0\" >0.569870</td>\n      <td id=\"T_91492_row8_col1\" class=\"data row8 col1\" >0.247014</td>\n      <td id=\"T_91492_row8_col2\" class=\"data row8 col2\" >0.991725</td>\n      <td id=\"T_91492_row8_col3\" class=\"data row8 col3\" >0.919990</td>\n      <td id=\"T_91492_row8_col4\" class=\"data row8 col4\" >1.075805</td>\n      <td id=\"T_91492_row8_col5\" class=\"data row8 col5\" >0.232386</td>\n      <td id=\"T_91492_row8_col6\" class=\"data row8 col6\" >0.174851</td>\n      <td id=\"T_91492_row8_col7\" class=\"data row8 col7\" >0.879428</td>\n      <td id=\"T_91492_row8_col8\" class=\"data row8 col8\" >0.250129</td>\n    </tr>\n  </tbody>\n</table>\n"
     },
     "metadata": {},
     "output_type": "display_data"
    }
   ],
   "source": [
    "display(Markdown(\"###Muscle Warmers\"))\n",
    "new_lineup = []\n",
    "for player in pies.lineup:\n",
    "    new_lineup.append(player.simulated_copy(buffs={'batting_rating':0.04}))\n",
    "\n",
    "out, _, avg = improve_team_batting_table(pies, 0.04)\n",
    "display(out)\n",
    "display(pandas.DataFrame(avg, columns=[\"Team Average\"]))\n",
    "display(set_heatmap(get_batting_stlats(new_lineup), maxVal=1.0))"
   ],
   "metadata": {
    "collapsed": false,
    "pycharm": {
     "name": "#%%\n"
    }
   }
  },
  {
   "cell_type": "code",
   "execution_count": 3,
   "outputs": [
    {
     "data": {
      "text/plain": "<IPython.core.display.Markdown object>",
      "text/markdown": "###Hand Warmers"
     },
     "metadata": {},
     "output_type": "display_data"
    },
    {
     "data": {
      "text/plain": "               old_pitching_stars  new_pitching_stars  \\\nPierce Blue              1.166339            1.565313   \nNia Joelson              1.131840            1.577306   \nCoby Rhodes              2.087836            2.464393   \nEmmanuel Cole            3.790794            4.216276   \nDee Spice                1.348624            1.831049   \n\n               change_in_pitching_stars  \nPierce Blue                    0.398974  \nNia Joelson                    0.445466  \nCoby Rhodes                    0.376557  \nEmmanuel Cole                  0.425482  \nDee Spice                      0.482425  ",
      "text/html": "<div>\n<style scoped>\n    .dataframe tbody tr th:only-of-type {\n        vertical-align: middle;\n    }\n\n    .dataframe tbody tr th {\n        vertical-align: top;\n    }\n\n    .dataframe thead th {\n        text-align: right;\n    }\n</style>\n<table border=\"1\" class=\"dataframe\">\n  <thead>\n    <tr style=\"text-align: right;\">\n      <th></th>\n      <th>old_pitching_stars</th>\n      <th>new_pitching_stars</th>\n      <th>change_in_pitching_stars</th>\n    </tr>\n  </thead>\n  <tbody>\n    <tr>\n      <th>Pierce Blue</th>\n      <td>1.166339</td>\n      <td>1.565313</td>\n      <td>0.398974</td>\n    </tr>\n    <tr>\n      <th>Nia Joelson</th>\n      <td>1.131840</td>\n      <td>1.577306</td>\n      <td>0.445466</td>\n    </tr>\n    <tr>\n      <th>Coby Rhodes</th>\n      <td>2.087836</td>\n      <td>2.464393</td>\n      <td>0.376557</td>\n    </tr>\n    <tr>\n      <th>Emmanuel Cole</th>\n      <td>3.790794</td>\n      <td>4.216276</td>\n      <td>0.425482</td>\n    </tr>\n    <tr>\n      <th>Dee Spice</th>\n      <td>1.348624</td>\n      <td>1.831049</td>\n      <td>0.482425</td>\n    </tr>\n  </tbody>\n</table>\n</div>"
     },
     "metadata": {},
     "output_type": "display_data"
    },
    {
     "data": {
      "text/plain": "                          Team Average\nold_pitching_stars            1.905087\nnew_pitching_stars            2.330867\nchange_in_pitching_stars      0.425781",
      "text/html": "<div>\n<style scoped>\n    .dataframe tbody tr th:only-of-type {\n        vertical-align: middle;\n    }\n\n    .dataframe tbody tr th {\n        vertical-align: top;\n    }\n\n    .dataframe thead th {\n        text-align: right;\n    }\n</style>\n<table border=\"1\" class=\"dataframe\">\n  <thead>\n    <tr style=\"text-align: right;\">\n      <th></th>\n      <th>Team Average</th>\n    </tr>\n  </thead>\n  <tbody>\n    <tr>\n      <th>old_pitching_stars</th>\n      <td>1.905087</td>\n    </tr>\n    <tr>\n      <th>new_pitching_stars</th>\n      <td>2.330867</td>\n    </tr>\n    <tr>\n      <th>change_in_pitching_stars</th>\n      <td>0.425781</td>\n    </tr>\n  </tbody>\n</table>\n</div>"
     },
     "metadata": {},
     "output_type": "display_data"
    },
    {
     "data": {
      "text/plain": "<pandas.io.formats.style.Styler at 0x1a065a27940>",
      "text/html": "<style type=\"text/css\">\n#T_f9c84_row0_col0, #T_f9c84_row1_col0, #T_f9c84_row1_col4 {\n  background-color: #fdb567;\n  color: #000000;\n}\n#T_f9c84_row0_col1 {\n  background-color: #f57547;\n  color: #f1f1f1;\n}\n#T_f9c84_row0_col2 {\n  background-color: #feefa3;\n  color: #000000;\n}\n#T_f9c84_row0_col3 {\n  background-color: #138c4a;\n  color: #f1f1f1;\n}\n#T_f9c84_row0_col4 {\n  background-color: #82c966;\n  color: #000000;\n}\n#T_f9c84_row0_col5, #T_f9c84_row1_col6, #T_f9c84_row3_col4, #T_f9c84_row4_col0 {\n  background-color: #fece7c;\n  color: #000000;\n}\n#T_f9c84_row0_col6 {\n  background-color: #fee999;\n  color: #000000;\n}\n#T_f9c84_row1_col1 {\n  background-color: #ee613e;\n  color: #f1f1f1;\n}\n#T_f9c84_row1_col2 {\n  background-color: #73c264;\n  color: #000000;\n}\n#T_f9c84_row1_col3 {\n  background-color: #91d068;\n  color: #000000;\n}\n#T_f9c84_row1_col5 {\n  background-color: #f98e52;\n  color: #f1f1f1;\n}\n#T_f9c84_row2_col0 {\n  background-color: #fffdbc;\n  color: #000000;\n}\n#T_f9c84_row2_col1 {\n  background-color: #feeda1;\n  color: #000000;\n}\n#T_f9c84_row2_col2 {\n  background-color: #d1ec86;\n  color: #000000;\n}\n#T_f9c84_row2_col3 {\n  background-color: #249d53;\n  color: #f1f1f1;\n}\n#T_f9c84_row2_col4 {\n  background-color: #fff3ac;\n  color: #000000;\n}\n#T_f9c84_row2_col5 {\n  background-color: #cbe982;\n  color: #000000;\n}\n#T_f9c84_row2_col6 {\n  background-color: #6ec064;\n  color: #000000;\n}\n#T_f9c84_row3_col0, #T_f9c84_row4_col1 {\n  background-color: #45ad5b;\n  color: #f1f1f1;\n}\n#T_f9c84_row3_col1 {\n  background-color: #006837;\n  color: #f1f1f1;\n}\n#T_f9c84_row3_col2 {\n  background-color: #0b7d42;\n  color: #f1f1f1;\n}\n#T_f9c84_row3_col3 {\n  background-color: #69be63;\n  color: #f1f1f1;\n}\n#T_f9c84_row3_col5 {\n  background-color: #fed884;\n  color: #000000;\n}\n#T_f9c84_row3_col6 {\n  background-color: #fee593;\n  color: #000000;\n}\n#T_f9c84_row4_col2 {\n  background-color: #eb5a3a;\n  color: #f1f1f1;\n}\n#T_f9c84_row4_col3 {\n  background-color: #c3e67d;\n  color: #000000;\n}\n#T_f9c84_row4_col4 {\n  background-color: #fa9656;\n  color: #000000;\n}\n#T_f9c84_row4_col5 {\n  background-color: #d5ed88;\n  color: #000000;\n}\n#T_f9c84_row4_col6 {\n  background-color: #db382b;\n  color: #f1f1f1;\n}\n</style>\n<table id=\"T_f9c84_\">\n  <thead>\n    <tr>\n      <th class=\"blank level0\" >&nbsp;</th>\n      <th class=\"col_heading level0 col0\" >Pitching Rating</th>\n      <th class=\"col_heading level0 col1\" >Unthwackability</th>\n      <th class=\"col_heading level0 col2\" >Ruthlessness</th>\n      <th class=\"col_heading level0 col3\" >Overpowerment</th>\n      <th class=\"col_heading level0 col4\" >Shakespearianism</th>\n      <th class=\"col_heading level0 col5\" >Coldness</th>\n      <th class=\"col_heading level0 col6\" >Suppression</th>\n    </tr>\n  </thead>\n  <tbody>\n    <tr>\n      <th id=\"T_f9c84_level0_row0\" class=\"row_heading level0 row0\" >Pierce Blue</th>\n      <td id=\"T_f9c84_row0_col0\" class=\"data row0 col0\" >0.313063</td>\n      <td id=\"T_f9c84_row0_col1\" class=\"data row0 col1\" >0.213229</td>\n      <td id=\"T_f9c84_row0_col2\" class=\"data row0 col2\" >0.445352</td>\n      <td id=\"T_f9c84_row0_col3\" class=\"data row0 col3\" >0.922265</td>\n      <td id=\"T_f9c84_row0_col4\" class=\"data row0 col4\" >0.757343</td>\n      <td id=\"T_f9c84_row0_col5\" class=\"data row0 col5\" >0.365386</td>\n      <td id=\"T_f9c84_row0_col6\" class=\"data row0 col6\" >0.427881</td>\n    </tr>\n    <tr>\n      <th id=\"T_f9c84_level0_row1\" class=\"row_heading level0 row1\" >Nia Joelson</th>\n      <td id=\"T_f9c84_row1_col0\" class=\"data row1 col0\" >0.315461</td>\n      <td id=\"T_f9c84_row1_col1\" class=\"data row1 col1\" >0.180330</td>\n      <td id=\"T_f9c84_row1_col2\" class=\"data row1 col2\" >0.780038</td>\n      <td id=\"T_f9c84_row1_col3\" class=\"data row1 col3\" >0.730507</td>\n      <td id=\"T_f9c84_row1_col4\" class=\"data row1 col4\" >0.312607</td>\n      <td id=\"T_f9c84_row1_col5\" class=\"data row1 col5\" >0.251714</td>\n      <td id=\"T_f9c84_row1_col6\" class=\"data row1 col6\" >0.365137</td>\n    </tr>\n    <tr>\n      <th id=\"T_f9c84_level0_row2\" class=\"row_heading level0 row2\" >Coby Rhodes</th>\n      <td id=\"T_f9c84_row2_col0\" class=\"data row2 col0\" >0.492879</td>\n      <td id=\"T_f9c84_row2_col1\" class=\"data row2 col1\" >0.444480</td>\n      <td id=\"T_f9c84_row2_col2\" class=\"data row2 col2\" >0.614122</td>\n      <td id=\"T_f9c84_row2_col3\" class=\"data row2 col3\" >0.885607</td>\n      <td id=\"T_f9c84_row2_col4\" class=\"data row2 col4\" >0.462557</td>\n      <td id=\"T_f9c84_row2_col5\" class=\"data row2 col5\" >0.625702</td>\n      <td id=\"T_f9c84_row2_col6\" class=\"data row2 col6\" >0.787024</td>\n    </tr>\n    <tr>\n      <th id=\"T_f9c84_level0_row3\" class=\"row_heading level0 row3\" >Emmanuel Cole</th>\n      <td id=\"T_f9c84_row3_col0\" class=\"data row3 col0\" >0.843255</td>\n      <td id=\"T_f9c84_row3_col1\" class=\"data row3 col1\" >1.013484</td>\n      <td id=\"T_f9c84_row3_col2\" class=\"data row3 col2\" >0.955950</td>\n      <td id=\"T_f9c84_row3_col3\" class=\"data row3 col3\" >0.795602</td>\n      <td id=\"T_f9c84_row3_col4\" class=\"data row3 col4\" >0.364439</td>\n      <td id=\"T_f9c84_row3_col5\" class=\"data row3 col5\" >0.384043</td>\n      <td id=\"T_f9c84_row3_col6\" class=\"data row3 col6\" >0.417407</td>\n    </tr>\n    <tr>\n      <th id=\"T_f9c84_level0_row4\" class=\"row_heading level0 row4\" >Dee Spice</th>\n      <td id=\"T_f9c84_row4_col0\" class=\"data row4 col0\" >0.366210</td>\n      <td id=\"T_f9c84_row4_col1\" class=\"data row4 col1\" >0.842418</td>\n      <td id=\"T_f9c84_row4_col2\" class=\"data row4 col2\" >0.170476</td>\n      <td id=\"T_f9c84_row4_col3\" class=\"data row4 col3\" >0.644373</td>\n      <td id=\"T_f9c84_row4_col4\" class=\"data row4 col4\" >0.265220</td>\n      <td id=\"T_f9c84_row4_col5\" class=\"data row4 col5\" >0.606406</td>\n      <td id=\"T_f9c84_row4_col6\" class=\"data row4 col6\" >0.114989</td>\n    </tr>\n  </tbody>\n</table>\n"
     },
     "metadata": {},
     "output_type": "display_data"
    }
   ],
   "source": [
    "display(Markdown(\"###Hand Warmers\"))\n",
    "new_rotation = []\n",
    "for player in pies.rotation:\n",
    "    new_rotation.append(player.simulated_copy(buffs={'pitching_rating':0.07}))\n",
    "\n",
    "out, _, avg = improve_team_pitching_table(pies, 0.07)\n",
    "display(out)\n",
    "display(pandas.DataFrame(avg, columns=[\"Team Average\"]))\n",
    "display(set_heatmap(get_pitching_stlats(new_rotation), maxVal=1.0))"
   ],
   "metadata": {
    "collapsed": false,
    "pycharm": {
     "name": "#%%\n"
    }
   }
  },
  {
   "cell_type": "code",
   "execution_count": 4,
   "outputs": [
    {
     "data": {
      "text/plain": "<IPython.core.display.Markdown object>",
      "text/markdown": "###Foot Warmers"
     },
     "metadata": {},
     "output_type": "display_data"
    },
    {
     "data": {
      "text/plain": "                   old_baserunning_stars  new_baserunning_stars  \\\nClay Dickens                    2.518062               3.149406   \nBrooke Honeywell                3.473637               4.080400   \nNikola Honeycrisp               2.707655               3.247198   \nGoo Macy                        0.699946               1.572118   \nAntonio Osako                   4.041056               4.549033   \nMac Rialto                      3.432312               4.017750   \nPop Winter                      2.892500               3.435586   \nMetric Wobin                    3.600332               4.125861   \nTall Everts                     1.830733               2.429839   \n\n                   change_in_baserunning_stars  \nClay Dickens                          0.631344  \nBrooke Honeywell                      0.606763  \nNikola Honeycrisp                     0.539543  \nGoo Macy                              0.872172  \nAntonio Osako                         0.507978  \nMac Rialto                            0.585438  \nPop Winter                            0.543086  \nMetric Wobin                          0.525529  \nTall Everts                           0.599106  ",
      "text/html": "<div>\n<style scoped>\n    .dataframe tbody tr th:only-of-type {\n        vertical-align: middle;\n    }\n\n    .dataframe tbody tr th {\n        vertical-align: top;\n    }\n\n    .dataframe thead th {\n        text-align: right;\n    }\n</style>\n<table border=\"1\" class=\"dataframe\">\n  <thead>\n    <tr style=\"text-align: right;\">\n      <th></th>\n      <th>old_baserunning_stars</th>\n      <th>new_baserunning_stars</th>\n      <th>change_in_baserunning_stars</th>\n    </tr>\n  </thead>\n  <tbody>\n    <tr>\n      <th>Clay Dickens</th>\n      <td>2.518062</td>\n      <td>3.149406</td>\n      <td>0.631344</td>\n    </tr>\n    <tr>\n      <th>Brooke Honeywell</th>\n      <td>3.473637</td>\n      <td>4.080400</td>\n      <td>0.606763</td>\n    </tr>\n    <tr>\n      <th>Nikola Honeycrisp</th>\n      <td>2.707655</td>\n      <td>3.247198</td>\n      <td>0.539543</td>\n    </tr>\n    <tr>\n      <th>Goo Macy</th>\n      <td>0.699946</td>\n      <td>1.572118</td>\n      <td>0.872172</td>\n    </tr>\n    <tr>\n      <th>Antonio Osako</th>\n      <td>4.041056</td>\n      <td>4.549033</td>\n      <td>0.507978</td>\n    </tr>\n    <tr>\n      <th>Mac Rialto</th>\n      <td>3.432312</td>\n      <td>4.017750</td>\n      <td>0.585438</td>\n    </tr>\n    <tr>\n      <th>Pop Winter</th>\n      <td>2.892500</td>\n      <td>3.435586</td>\n      <td>0.543086</td>\n    </tr>\n    <tr>\n      <th>Metric Wobin</th>\n      <td>3.600332</td>\n      <td>4.125861</td>\n      <td>0.525529</td>\n    </tr>\n    <tr>\n      <th>Tall Everts</th>\n      <td>1.830733</td>\n      <td>2.429839</td>\n      <td>0.599106</td>\n    </tr>\n  </tbody>\n</table>\n</div>"
     },
     "metadata": {},
     "output_type": "display_data"
    },
    {
     "data": {
      "text/plain": "                             Team Average\nold_baserunning_stars            2.799581\nnew_baserunning_stars            3.400799\nchange_in_baserunning_stars      0.601217",
      "text/html": "<div>\n<style scoped>\n    .dataframe tbody tr th:only-of-type {\n        vertical-align: middle;\n    }\n\n    .dataframe tbody tr th {\n        vertical-align: top;\n    }\n\n    .dataframe thead th {\n        text-align: right;\n    }\n</style>\n<table border=\"1\" class=\"dataframe\">\n  <thead>\n    <tr style=\"text-align: right;\">\n      <th></th>\n      <th>Team Average</th>\n    </tr>\n  </thead>\n  <tbody>\n    <tr>\n      <th>old_baserunning_stars</th>\n      <td>2.799581</td>\n    </tr>\n    <tr>\n      <th>new_baserunning_stars</th>\n      <td>3.400799</td>\n    </tr>\n    <tr>\n      <th>change_in_baserunning_stars</th>\n      <td>0.601217</td>\n    </tr>\n  </tbody>\n</table>\n</div>"
     },
     "metadata": {},
     "output_type": "display_data"
    },
    {
     "data": {
      "text/plain": "<pandas.io.formats.style.Styler at 0x1a065a03910>",
      "text/html": "<style type=\"text/css\">\n#T_e525e_row0_col0 {\n  background-color: #c9e881;\n  color: #000000;\n}\n#T_e525e_row0_col1 {\n  background-color: #42ac5a;\n  color: #f1f1f1;\n}\n#T_e525e_row0_col2 {\n  background-color: #fedc88;\n  color: #000000;\n}\n#T_e525e_row0_col3 {\n  background-color: #f67c4a;\n  color: #f1f1f1;\n}\n#T_e525e_row0_col4, #T_e525e_row5_col2 {\n  background-color: #fec877;\n  color: #000000;\n}\n#T_e525e_row0_col5 {\n  background-color: #93d168;\n  color: #000000;\n}\n#T_e525e_row1_col0 {\n  background-color: #5ab760;\n  color: #f1f1f1;\n}\n#T_e525e_row1_col1, #T_e525e_row1_col5, #T_e525e_row4_col2, #T_e525e_row5_col1, #T_e525e_row6_col2, #T_e525e_row8_col3 {\n  background-color: #006837;\n  color: #f1f1f1;\n}\n#T_e525e_row1_col2 {\n  background-color: #fff6b0;\n  color: #000000;\n}\n#T_e525e_row1_col3 {\n  background-color: #fa9857;\n  color: #000000;\n}\n#T_e525e_row1_col4 {\n  background-color: #75c465;\n  color: #000000;\n}\n#T_e525e_row2_col0 {\n  background-color: #bfe47a;\n  color: #000000;\n}\n#T_e525e_row2_col1 {\n  background-color: #c5e67e;\n  color: #000000;\n}\n#T_e525e_row2_col2 {\n  background-color: #57b65f;\n  color: #f1f1f1;\n}\n#T_e525e_row2_col3 {\n  background-color: #fffab6;\n  color: #000000;\n}\n#T_e525e_row2_col4 {\n  background-color: #fee18d;\n  color: #000000;\n}\n#T_e525e_row2_col5 {\n  background-color: #6ec064;\n  color: #000000;\n}\n#T_e525e_row3_col0 {\n  background-color: #fdb567;\n  color: #000000;\n}\n#T_e525e_row3_col1 {\n  background-color: #e34933;\n  color: #f1f1f1;\n}\n#T_e525e_row3_col2 {\n  background-color: #fff5ae;\n  color: #000000;\n}\n#T_e525e_row3_col3 {\n  background-color: #fbfdba;\n  color: #000000;\n}\n#T_e525e_row3_col4 {\n  background-color: #a5d86a;\n  color: #000000;\n}\n#T_e525e_row3_col5 {\n  background-color: #138c4a;\n  color: #f1f1f1;\n}\n#T_e525e_row4_col0 {\n  background-color: #17934e;\n  color: #f1f1f1;\n}\n#T_e525e_row4_col1 {\n  background-color: #249d53;\n  color: #f1f1f1;\n}\n#T_e525e_row4_col3 {\n  background-color: #91d068;\n  color: #000000;\n}\n#T_e525e_row4_col4 {\n  background-color: #54b45f;\n  color: #f1f1f1;\n}\n#T_e525e_row4_col5 {\n  background-color: #05713c;\n  color: #f1f1f1;\n}\n#T_e525e_row5_col0 {\n  background-color: #63bc62;\n  color: #f1f1f1;\n}\n#T_e525e_row5_col3 {\n  background-color: #219c52;\n  color: #f1f1f1;\n}\n#T_e525e_row5_col4 {\n  background-color: #7fc866;\n  color: #000000;\n}\n#T_e525e_row5_col5, #T_e525e_row8_col1 {\n  background-color: #fecc7b;\n  color: #000000;\n}\n#T_e525e_row6_col0 {\n  background-color: #addc6f;\n  color: #000000;\n}\n#T_e525e_row6_col1 {\n  background-color: #f7fcb4;\n  color: #000000;\n}\n#T_e525e_row6_col3 {\n  background-color: #097940;\n  color: #f1f1f1;\n}\n#T_e525e_row6_col4 {\n  background-color: #39a758;\n  color: #f1f1f1;\n}\n#T_e525e_row6_col5 {\n  background-color: #98d368;\n  color: #000000;\n}\n#T_e525e_row7_col0 {\n  background-color: #51b35e;\n  color: #f1f1f1;\n}\n#T_e525e_row7_col1 {\n  background-color: #0f8446;\n  color: #f1f1f1;\n}\n#T_e525e_row7_col2 {\n  background-color: #a2d76a;\n  color: #000000;\n}\n#T_e525e_row7_col3 {\n  background-color: #cdea83;\n  color: #000000;\n}\n#T_e525e_row7_col4 {\n  background-color: #199750;\n  color: #f1f1f1;\n}\n#T_e525e_row7_col5 {\n  background-color: #fdfebc;\n  color: #000000;\n}\n#T_e525e_row8_col0 {\n  background-color: #fffbb8;\n  color: #000000;\n}\n#T_e525e_row8_col2 {\n  background-color: #feca79;\n  color: #000000;\n}\n#T_e525e_row8_col4 {\n  background-color: #fdb96a;\n  color: #000000;\n}\n#T_e525e_row8_col5 {\n  background-color: #036e3a;\n  color: #f1f1f1;\n}\n</style>\n<table id=\"T_e525e_\">\n  <thead>\n    <tr>\n      <th class=\"blank level0\" >&nbsp;</th>\n      <th class=\"col_heading level0 col0\" >Baserunning Rating</th>\n      <th class=\"col_heading level0 col1\" >Laserlikeness</th>\n      <th class=\"col_heading level0 col2\" >Continuation</th>\n      <th class=\"col_heading level0 col3\" >Base Thirst</th>\n      <th class=\"col_heading level0 col4\" >Indulgence</th>\n      <th class=\"col_heading level0 col5\" >Ground Friction</th>\n    </tr>\n  </thead>\n  <tbody>\n    <tr>\n      <th id=\"T_e525e_level0_row0\" class=\"row_heading level0 row0\" >Clay Dickens</th>\n      <td id=\"T_e525e_row0_col0\" class=\"data row0 col0\" >0.629881</td>\n      <td id=\"T_e525e_row0_col1\" class=\"data row0 col1\" >0.846910</td>\n      <td id=\"T_e525e_row0_col2\" class=\"data row0 col2\" >0.390984</td>\n      <td id=\"T_e525e_row0_col3\" class=\"data row0 col3\" >0.224187</td>\n      <td id=\"T_e525e_row0_col4\" class=\"data row0 col4\" >0.353434</td>\n      <td id=\"T_e525e_row0_col5\" class=\"data row0 col5\" >0.728321</td>\n    </tr>\n    <tr>\n      <th id=\"T_e525e_level0_row1\" class=\"row_heading level0 row1\" >Brooke Honeywell</th>\n      <td id=\"T_e525e_row1_col0\" class=\"data row1 col0\" >0.816080</td>\n      <td id=\"T_e525e_row1_col1\" class=\"data row1 col1\" >1.059864</td>\n      <td id=\"T_e525e_row1_col2\" class=\"data row1 col2\" >0.470818</td>\n      <td id=\"T_e525e_row1_col3\" class=\"data row1 col3\" >0.268863</td>\n      <td id=\"T_e525e_row1_col4\" class=\"data row1 col4\" >0.774979</td>\n      <td id=\"T_e525e_row1_col5\" class=\"data row1 col5\" >0.998626</td>\n    </tr>\n    <tr>\n      <th id=\"T_e525e_level0_row2\" class=\"row_heading level0 row2\" >Nikola Honeycrisp</th>\n      <td id=\"T_e525e_row2_col0\" class=\"data row2 col0\" >0.649440</td>\n      <td id=\"T_e525e_row2_col1\" class=\"data row2 col1\" >0.639417</td>\n      <td id=\"T_e525e_row2_col2\" class=\"data row2 col2\" >0.816981</td>\n      <td id=\"T_e525e_row2_col3\" class=\"data row2 col3\" >0.480823</td>\n      <td id=\"T_e525e_row2_col4\" class=\"data row2 col4\" >0.403271</td>\n      <td id=\"T_e525e_row2_col5\" class=\"data row2 col5\" >0.788266</td>\n    </tr>\n    <tr>\n      <th id=\"T_e525e_level0_row3\" class=\"row_heading level0 row3\" >Goo Macy</th>\n      <td id=\"T_e525e_row3_col0\" class=\"data row3 col0\" >0.314424</td>\n      <td id=\"T_e525e_row3_col1\" class=\"data row3 col1\" >0.143404</td>\n      <td id=\"T_e525e_row3_col2\" class=\"data row3 col2\" >0.468094</td>\n      <td id=\"T_e525e_row3_col3\" class=\"data row3 col3\" >0.511508</td>\n      <td id=\"T_e525e_row3_col4\" class=\"data row3 col4\" >0.702811</td>\n      <td id=\"T_e525e_row3_col5\" class=\"data row3 col5\" >0.925391</td>\n    </tr>\n    <tr>\n      <th id=\"T_e525e_level0_row4\" class=\"row_heading level0 row4\" >Antonio Osako</th>\n      <td id=\"T_e525e_row4_col0\" class=\"data row4 col0\" >0.909807</td>\n      <td id=\"T_e525e_row4_col1\" class=\"data row4 col1\" >0.884529</td>\n      <td id=\"T_e525e_row4_col2\" class=\"data row4 col2\" >1.214647</td>\n      <td id=\"T_e525e_row4_col3\" class=\"data row4 col3\" >0.733910</td>\n      <td id=\"T_e525e_row4_col4\" class=\"data row4 col4\" >0.822540</td>\n      <td id=\"T_e525e_row4_col5\" class=\"data row4 col5\" >0.978770</td>\n    </tr>\n    <tr>\n      <th id=\"T_e525e_level0_row5\" class=\"row_heading level0 row5\" >Mac Rialto</th>\n      <td id=\"T_e525e_row5_col0\" class=\"data row5 col0\" >0.803550</td>\n      <td id=\"T_e525e_row5_col1\" class=\"data row5 col1\" >1.053165</td>\n      <td id=\"T_e525e_row5_col2\" class=\"data row5 col2\" >0.352756</td>\n      <td id=\"T_e525e_row5_col3\" class=\"data row5 col3\" >0.889554</td>\n      <td id=\"T_e525e_row5_col4\" class=\"data row5 col4\" >0.761460</td>\n      <td id=\"T_e525e_row5_col5\" class=\"data row5 col5\" >0.362536</td>\n    </tr>\n    <tr>\n      <th id=\"T_e525e_level0_row6\" class=\"row_heading level0 row6\" >Pop Winter</th>\n      <td id=\"T_e525e_row6_col0\" class=\"data row6 col0\" >0.687117</td>\n      <td id=\"T_e525e_row6_col1\" class=\"data row6 col1\" >0.522927</td>\n      <td id=\"T_e525e_row6_col2\" class=\"data row6 col2\" >1.007962</td>\n      <td id=\"T_e525e_row6_col3\" class=\"data row6 col3\" >0.964419</td>\n      <td id=\"T_e525e_row6_col4\" class=\"data row6 col4\" >0.857367</td>\n      <td id=\"T_e525e_row6_col5\" class=\"data row6 col5\" >0.719827</td>\n    </tr>\n    <tr>\n      <th id=\"T_e525e_level0_row7\" class=\"row_heading level0 row7\" >Metric Wobin</th>\n      <td id=\"T_e525e_row7_col0\" class=\"data row7 col0\" >0.825172</td>\n      <td id=\"T_e525e_row7_col1\" class=\"data row7 col1\" >0.940671</td>\n      <td id=\"T_e525e_row7_col2\" class=\"data row7 col2\" >0.704287</td>\n      <td id=\"T_e525e_row7_col3\" class=\"data row7 col3\" >0.621178</td>\n      <td id=\"T_e525e_row7_col4\" class=\"data row7 col4\" >0.898540</td>\n      <td id=\"T_e525e_row7_col5\" class=\"data row7 col5\" >0.505537</td>\n    </tr>\n    <tr>\n      <th id=\"T_e525e_level0_row8\" class=\"row_heading level0 row8\" >Tall Everts</th>\n      <td id=\"T_e525e_row8_col0\" class=\"data row8 col0\" >0.485968</td>\n      <td id=\"T_e525e_row8_col1\" class=\"data row8 col1\" >0.361130</td>\n      <td id=\"T_e525e_row8_col2\" class=\"data row8 col2\" >0.356086</td>\n      <td id=\"T_e525e_row8_col3\" class=\"data row8 col3\" >1.056885</td>\n      <td id=\"T_e525e_row8_col4\" class=\"data row8 col4\" >0.322638</td>\n      <td id=\"T_e525e_row8_col5\" class=\"data row8 col5\" >0.985056</td>\n    </tr>\n  </tbody>\n</table>\n"
     },
     "metadata": {},
     "output_type": "display_data"
    }
   ],
   "source": [
    "display(Markdown(\"###Foot Warmers\"))\n",
    "new_lineup = []\n",
    "for player in pies.lineup:\n",
    "    new_lineup.append(player.simulated_copy(buffs={'baserunning_rating':0.11}))\n",
    "\n",
    "out, _, avg = improve_team_baserunning_table(pies, 0.11)\n",
    "display(out)\n",
    "display(pandas.DataFrame(avg, columns=[\"Team Average\"]))\n",
    "display(set_heatmap(get_baserunning_stlats(new_lineup), maxVal=1.0))"
   ],
   "metadata": {
    "collapsed": false,
    "pycharm": {
     "name": "#%%\n"
    }
   }
  },
  {
   "cell_type": "code",
   "execution_count": 5,
   "outputs": [
    {
     "data": {
      "text/plain": "<IPython.core.display.Markdown object>",
      "text/markdown": "###Eye Warmers"
     },
     "metadata": {},
     "output_type": "display_data"
    },
    {
     "data": {
      "text/plain": "                   old_defense_stars  new_defense_stars  \\\nClay Dickens                4.190349           4.605684   \nBrooke Honeywell            1.355731           2.106910   \nNikola Honeycrisp           2.673245           3.202496   \nGoo Macy                    1.745674           2.381754   \nAntonio Osako               3.145067           3.649357   \nMac Rialto                  3.311125           3.779442   \nPop Winter                  1.850866           2.550112   \nMetric Wobin                2.737252           3.263227   \nTall Everts                 3.273528           3.743877   \nPierce Blue                 2.964692           3.472477   \nNia Joelson                 2.764806           3.544641   \nCoby Rhodes                 1.631262           2.357237   \nEmmanuel Cole               2.153315           2.834327   \nDee Spice                   3.343413           4.178261   \n\n                   change_in_defense_stars  \nClay Dickens                      0.415335  \nBrooke Honeywell                  0.751179  \nNikola Honeycrisp                 0.529251  \nGoo Macy                          0.636080  \nAntonio Osako                     0.504290  \nMac Rialto                        0.468318  \nPop Winter                        0.699246  \nMetric Wobin                      0.525975  \nTall Everts                       0.470349  \nPierce Blue                       0.507785  \nNia Joelson                       0.779835  \nCoby Rhodes                       0.725975  \nEmmanuel Cole                     0.681012  \nDee Spice                         0.834848  ",
      "text/html": "<div>\n<style scoped>\n    .dataframe tbody tr th:only-of-type {\n        vertical-align: middle;\n    }\n\n    .dataframe tbody tr th {\n        vertical-align: top;\n    }\n\n    .dataframe thead th {\n        text-align: right;\n    }\n</style>\n<table border=\"1\" class=\"dataframe\">\n  <thead>\n    <tr style=\"text-align: right;\">\n      <th></th>\n      <th>old_defense_stars</th>\n      <th>new_defense_stars</th>\n      <th>change_in_defense_stars</th>\n    </tr>\n  </thead>\n  <tbody>\n    <tr>\n      <th>Clay Dickens</th>\n      <td>4.190349</td>\n      <td>4.605684</td>\n      <td>0.415335</td>\n    </tr>\n    <tr>\n      <th>Brooke Honeywell</th>\n      <td>1.355731</td>\n      <td>2.106910</td>\n      <td>0.751179</td>\n    </tr>\n    <tr>\n      <th>Nikola Honeycrisp</th>\n      <td>2.673245</td>\n      <td>3.202496</td>\n      <td>0.529251</td>\n    </tr>\n    <tr>\n      <th>Goo Macy</th>\n      <td>1.745674</td>\n      <td>2.381754</td>\n      <td>0.636080</td>\n    </tr>\n    <tr>\n      <th>Antonio Osako</th>\n      <td>3.145067</td>\n      <td>3.649357</td>\n      <td>0.504290</td>\n    </tr>\n    <tr>\n      <th>Mac Rialto</th>\n      <td>3.311125</td>\n      <td>3.779442</td>\n      <td>0.468318</td>\n    </tr>\n    <tr>\n      <th>Pop Winter</th>\n      <td>1.850866</td>\n      <td>2.550112</td>\n      <td>0.699246</td>\n    </tr>\n    <tr>\n      <th>Metric Wobin</th>\n      <td>2.737252</td>\n      <td>3.263227</td>\n      <td>0.525975</td>\n    </tr>\n    <tr>\n      <th>Tall Everts</th>\n      <td>3.273528</td>\n      <td>3.743877</td>\n      <td>0.470349</td>\n    </tr>\n    <tr>\n      <th>Pierce Blue</th>\n      <td>2.964692</td>\n      <td>3.472477</td>\n      <td>0.507785</td>\n    </tr>\n    <tr>\n      <th>Nia Joelson</th>\n      <td>2.764806</td>\n      <td>3.544641</td>\n      <td>0.779835</td>\n    </tr>\n    <tr>\n      <th>Coby Rhodes</th>\n      <td>1.631262</td>\n      <td>2.357237</td>\n      <td>0.725975</td>\n    </tr>\n    <tr>\n      <th>Emmanuel Cole</th>\n      <td>2.153315</td>\n      <td>2.834327</td>\n      <td>0.681012</td>\n    </tr>\n    <tr>\n      <th>Dee Spice</th>\n      <td>3.343413</td>\n      <td>4.178261</td>\n      <td>0.834848</td>\n    </tr>\n  </tbody>\n</table>\n</div>"
     },
     "metadata": {},
     "output_type": "display_data"
    },
    {
     "data": {
      "text/plain": "                         Team Average\nold_defense_stars            2.652880\nnew_defense_stars            3.262129\nchange_in_defense_stars      0.609248",
      "text/html": "<div>\n<style scoped>\n    .dataframe tbody tr th:only-of-type {\n        vertical-align: middle;\n    }\n\n    .dataframe tbody tr th {\n        vertical-align: top;\n    }\n\n    .dataframe thead th {\n        text-align: right;\n    }\n</style>\n<table border=\"1\" class=\"dataframe\">\n  <thead>\n    <tr style=\"text-align: right;\">\n      <th></th>\n      <th>Team Average</th>\n    </tr>\n  </thead>\n  <tbody>\n    <tr>\n      <th>old_defense_stars</th>\n      <td>2.652880</td>\n    </tr>\n    <tr>\n      <th>new_defense_stars</th>\n      <td>3.262129</td>\n    </tr>\n    <tr>\n      <th>change_in_defense_stars</th>\n      <td>0.609248</td>\n    </tr>\n  </tbody>\n</table>\n</div>"
     },
     "metadata": {},
     "output_type": "display_data"
    },
    {
     "data": {
      "text/plain": "<pandas.io.formats.style.Styler at 0x1a07f1bb100>",
      "text/html": "<style type=\"text/css\">\n#T_13d72_row0_col0, #T_13d72_row8_col1 {\n  background-color: #148e4b;\n  color: #f1f1f1;\n}\n#T_13d72_row0_col1 {\n  background-color: #2aa054;\n  color: #f1f1f1;\n}\n#T_13d72_row0_col2, #T_13d72_row0_col4, #T_13d72_row2_col4, #T_13d72_row5_col5 {\n  background-color: #006837;\n  color: #f1f1f1;\n}\n#T_13d72_row0_col3 {\n  background-color: #d7ee8a;\n  color: #000000;\n}\n#T_13d72_row0_col5, #T_13d72_row1_col3 {\n  background-color: #45ad5b;\n  color: #f1f1f1;\n}\n#T_13d72_row1_col0 {\n  background-color: #fee695;\n  color: #000000;\n}\n#T_13d72_row1_col1 {\n  background-color: #f16640;\n  color: #f1f1f1;\n}\n#T_13d72_row1_col2 {\n  background-color: #f26841;\n  color: #f1f1f1;\n}\n#T_13d72_row1_col4 {\n  background-color: #f67f4b;\n  color: #f1f1f1;\n}\n#T_13d72_row1_col5 {\n  background-color: #a7d96b;\n  color: #000000;\n}\n#T_13d72_row2_col0 {\n  background-color: #c5e67e;\n  color: #000000;\n}\n#T_13d72_row2_col1 {\n  background-color: #feea9b;\n  color: #000000;\n}\n#T_13d72_row2_col2 {\n  background-color: #fdc574;\n  color: #000000;\n}\n#T_13d72_row2_col3 {\n  background-color: #7ac665;\n  color: #000000;\n}\n#T_13d72_row2_col5 {\n  background-color: #b5df74;\n  color: #000000;\n}\n#T_13d72_row3_col0, #T_13d72_row5_col2 {\n  background-color: #fff7b2;\n  color: #000000;\n}\n#T_13d72_row3_col1 {\n  background-color: #fff2aa;\n  color: #000000;\n}\n#T_13d72_row3_col2 {\n  background-color: #fdb96a;\n  color: #000000;\n}\n#T_13d72_row3_col3 {\n  background-color: #f98e52;\n  color: #f1f1f1;\n}\n#T_13d72_row3_col4 {\n  background-color: #ee613e;\n  color: #f1f1f1;\n}\n#T_13d72_row3_col5 {\n  background-color: #cfeb85;\n  color: #000000;\n}\n#T_13d72_row4_col0 {\n  background-color: #93d168;\n  color: #000000;\n}\n#T_13d72_row4_col1 {\n  background-color: #128a49;\n  color: #f1f1f1;\n}\n#T_13d72_row4_col2 {\n  background-color: #54b45f;\n  color: #f1f1f1;\n}\n#T_13d72_row4_col3 {\n  background-color: #fedc88;\n  color: #000000;\n}\n#T_13d72_row4_col4 {\n  background-color: #fdbf6f;\n  color: #000000;\n}\n#T_13d72_row4_col5 {\n  background-color: #e8f59f;\n  color: #000000;\n}\n#T_13d72_row5_col0 {\n  background-color: #82c966;\n  color: #000000;\n}\n#T_13d72_row5_col1 {\n  background-color: #d3ec87;\n  color: #000000;\n}\n#T_13d72_row5_col3 {\n  background-color: #5ab760;\n  color: #f1f1f1;\n}\n#T_13d72_row5_col4 {\n  background-color: #6bbf64;\n  color: #000000;\n}\n#T_13d72_row6_col0 {\n  background-color: #fbfdba;\n  color: #000000;\n}\n#T_13d72_row6_col1 {\n  background-color: #fffbb8;\n  color: #000000;\n}\n#T_13d72_row6_col2 {\n  background-color: #ef633f;\n  color: #f1f1f1;\n}\n#T_13d72_row6_col3 {\n  background-color: #b3df72;\n  color: #000000;\n}\n#T_13d72_row6_col4 {\n  background-color: #f8864f;\n  color: #f1f1f1;\n}\n#T_13d72_row6_col5 {\n  background-color: #279f53;\n  color: #f1f1f1;\n}\n#T_13d72_row7_col0 {\n  background-color: #bde379;\n  color: #000000;\n}\n#T_13d72_row7_col1 {\n  background-color: #fee593;\n  color: #000000;\n}\n#T_13d72_row7_col2 {\n  background-color: #1e9a51;\n  color: #f1f1f1;\n}\n#T_13d72_row7_col3 {\n  background-color: #a5d86a;\n  color: #000000;\n}\n#T_13d72_row7_col4 {\n  background-color: #fffab6;\n  color: #000000;\n}\n#T_13d72_row7_col5 {\n  background-color: #fdb163;\n  color: #000000;\n}\n#T_13d72_row8_col0 {\n  background-color: #87cb67;\n  color: #000000;\n}\n#T_13d72_row8_col2 {\n  background-color: #fff3ac;\n  color: #000000;\n}\n#T_13d72_row8_col3 {\n  background-color: #d5ed88;\n  color: #000000;\n}\n#T_13d72_row8_col4 {\n  background-color: #dff293;\n  color: #000000;\n}\n#T_13d72_row8_col5 {\n  background-color: #36a657;\n  color: #f1f1f1;\n}\n</style>\n<table id=\"T_13d72_\">\n  <thead>\n    <tr>\n      <th class=\"blank level0\" >&nbsp;</th>\n      <th class=\"col_heading level0 col0\" >Defense Rating</th>\n      <th class=\"col_heading level0 col1\" >Omniscience</th>\n      <th class=\"col_heading level0 col2\" >Tenaciousness</th>\n      <th class=\"col_heading level0 col3\" >Watchfulness</th>\n      <th class=\"col_heading level0 col4\" >Anticapitalism</th>\n      <th class=\"col_heading level0 col5\" >Chasiness</th>\n    </tr>\n  </thead>\n  <tbody>\n    <tr>\n      <th id=\"T_13d72_level0_row0\" class=\"row_heading level0 row0\" >Clay Dickens</th>\n      <td id=\"T_13d72_row0_col0\" class=\"data row0 col0\" >0.921137</td>\n      <td id=\"T_13d72_row0_col1\" class=\"data row0 col1\" >0.875684</td>\n      <td id=\"T_13d72_row0_col2\" class=\"data row0 col2\" >1.026512</td>\n      <td id=\"T_13d72_row0_col3\" class=\"data row0 col3\" >0.601820</td>\n      <td id=\"T_13d72_row0_col4\" class=\"data row0 col4\" >1.074567</td>\n      <td id=\"T_13d72_row0_col5\" class=\"data row0 col5\" >0.841625</td>\n    </tr>\n    <tr>\n      <th id=\"T_13d72_level0_row1\" class=\"row_heading level0 row1\" >Brooke Honeywell</th>\n      <td id=\"T_13d72_row1_col0\" class=\"data row1 col0\" >0.421382</td>\n      <td id=\"T_13d72_row1_col1\" class=\"data row1 col1\" >0.188203</td>\n      <td id=\"T_13d72_row1_col2\" class=\"data row1 col2\" >0.193643</td>\n      <td id=\"T_13d72_row1_col3\" class=\"data row1 col3\" >0.840326</td>\n      <td id=\"T_13d72_row1_col4\" class=\"data row1 col4\" >0.227439</td>\n      <td id=\"T_13d72_row1_col5\" class=\"data row1 col5\" >0.695329</td>\n    </tr>\n    <tr>\n      <th id=\"T_13d72_level0_row2\" class=\"row_heading level0 row2\" >Nikola Honeycrisp</th>\n      <td id=\"T_13d72_row2_col0\" class=\"data row2 col0\" >0.640499</td>\n      <td id=\"T_13d72_row2_col1\" class=\"data row2 col1\" >0.430666</td>\n      <td id=\"T_13d72_row2_col2\" class=\"data row2 col2\" >0.344629</td>\n      <td id=\"T_13d72_row2_col3\" class=\"data row2 col3\" >0.767945</td>\n      <td id=\"T_13d72_row2_col4\" class=\"data row2 col4\" >1.027052</td>\n      <td id=\"T_13d72_row2_col5\" class=\"data row2 col5\" >0.668773</td>\n    </tr>\n    <tr>\n      <th id=\"T_13d72_level0_row3\" class=\"row_heading level0 row3\" >Goo Macy</th>\n      <td id=\"T_13d72_row3_col0\" class=\"data row3 col0\" >0.476351</td>\n      <td id=\"T_13d72_row3_col1\" class=\"data row3 col1\" >0.457282</td>\n      <td id=\"T_13d72_row3_col2\" class=\"data row3 col2\" >0.320862</td>\n      <td id=\"T_13d72_row3_col3\" class=\"data row3 col3\" >0.251047</td>\n      <td id=\"T_13d72_row3_col4\" class=\"data row3 col4\" >0.179982</td>\n      <td id=\"T_13d72_row3_col5\" class=\"data row3 col5\" >0.618411</td>\n    </tr>\n    <tr>\n      <th id=\"T_13d72_level0_row4\" class=\"row_heading level0 row4\" >Antonio Osako</th>\n      <td id=\"T_13d72_row4_col0\" class=\"data row4 col0\" >0.729871</td>\n      <td id=\"T_13d72_row4_col1\" class=\"data row4 col1\" >0.929414</td>\n      <td id=\"T_13d72_row4_col2\" class=\"data row4 col2\" >0.823183</td>\n      <td id=\"T_13d72_row4_col3\" class=\"data row4 col3\" >0.392810</td>\n      <td id=\"T_13d72_row4_col4\" class=\"data row4 col4\" >0.332640</td>\n      <td id=\"T_13d72_row4_col5\" class=\"data row4 col5\" >0.560914</td>\n    </tr>\n    <tr>\n      <th id=\"T_13d72_level0_row5\" class=\"row_heading level0 row5\" >Mac Rialto</th>\n      <td id=\"T_13d72_row5_col0\" class=\"data row5 col0\" >0.755888</td>\n      <td id=\"T_13d72_row5_col1\" class=\"data row5 col1\" >0.611790</td>\n      <td id=\"T_13d72_row5_col2\" class=\"data row5 col2\" >0.473464</td>\n      <td id=\"T_13d72_row5_col3\" class=\"data row5 col3\" >0.814916</td>\n      <td id=\"T_13d72_row5_col4\" class=\"data row5 col4\" >0.789064</td>\n      <td id=\"T_13d72_row5_col5\" class=\"data row5 col5\" >1.128688</td>\n    </tr>\n    <tr>\n      <th id=\"T_13d72_level0_row6\" class=\"row_heading level0 row6\" >Pop Winter</th>\n      <td id=\"T_13d72_row6_col0\" class=\"data row6 col0\" >0.510022</td>\n      <td id=\"T_13d72_row6_col1\" class=\"data row6 col1\" >0.487816</td>\n      <td id=\"T_13d72_row6_col2\" class=\"data row6 col2\" >0.187218</td>\n      <td id=\"T_13d72_row6_col3\" class=\"data row6 col3\" >0.674081</td>\n      <td id=\"T_13d72_row6_col4\" class=\"data row6 col4\" >0.240644</td>\n      <td id=\"T_13d72_row6_col5\" class=\"data row6 col5\" >0.880238</td>\n    </tr>\n    <tr>\n      <th id=\"T_13d72_level0_row7\" class=\"row_heading level0 row7\" >Metric Wobin</th>\n      <td id=\"T_13d72_row7_col0\" class=\"data row7 col0\" >0.652645</td>\n      <td id=\"T_13d72_row7_col1\" class=\"data row7 col1\" >0.414219</td>\n      <td id=\"T_13d72_row7_col2\" class=\"data row7 col2\" >0.891303</td>\n      <td id=\"T_13d72_row7_col3\" class=\"data row7 col3\" >0.699968</td>\n      <td id=\"T_13d72_row7_col4\" class=\"data row7 col4\" >0.480819</td>\n      <td id=\"T_13d72_row7_col5\" class=\"data row7 col5\" >0.305634</td>\n    </tr>\n    <tr>\n      <th id=\"T_13d72_level0_row8\" class=\"row_heading level0 row8\" >Tall Everts</th>\n      <td id=\"T_13d72_row8_col0\" class=\"data row8 col0\" >0.748775</td>\n      <td id=\"T_13d72_row8_col1\" class=\"data row8 col1\" >0.920489</td>\n      <td id=\"T_13d72_row8_col2\" class=\"data row8 col2\" >0.462812</td>\n      <td id=\"T_13d72_row8_col3\" class=\"data row8 col3\" >0.608327</td>\n      <td id=\"T_13d72_row8_col4\" class=\"data row8 col4\" >0.583370</td>\n      <td id=\"T_13d72_row8_col5\" class=\"data row8 col5\" >0.860180</td>\n    </tr>\n  </tbody>\n</table>\n"
     },
     "metadata": {},
     "output_type": "display_data"
    }
   ],
   "source": [
    "display(Markdown(\"###Eye Warmers\"))\n",
    "new_lineup = []\n",
    "for player in pies.lineup:\n",
    "    new_lineup.append(player.simulated_copy(buffs={'defense_rating':0.11}))\n",
    "\n",
    "out, _, avg = improve_team_defense_table(pies, 0.11)\n",
    "display(out)\n",
    "display(pandas.DataFrame(avg, columns=[\"Team Average\"]))\n",
    "display(set_heatmap(get_defense_stlats(new_lineup), maxVal=1.0))"
   ],
   "metadata": {
    "collapsed": false,
    "pycharm": {
     "name": "#%%\n"
    }
   }
  },
  {
   "cell_type": "markdown",
   "id": "f4bf0ad9",
   "metadata": {},
   "source": [
    "___\n",
    "## Distortions\n",
    "\n",
    "Distortions are selected by raffle across all teams. Each distortion will be awarded to one random team, where teams with\n",
    "more votes are more likely to be selected. Teams may only receive at most 1 distortion."
   ]
  },
  {
   "cell_type": "markdown",
   "source": [
    "### TASTE THE INFINITE\n",
    "\n",
    "**Remake your Team in the Shelled One's image.**"
   ],
   "metadata": {
    "collapsed": false,
    "pycharm": {
     "name": "#%% md\n"
    }
   }
  },
  {
   "cell_type": "code",
   "execution_count": 13,
   "outputs": [
    {
     "data": {
      "text/plain": "<display.general.HTMLWrapper at 0x1a07f18b9a0>",
      "text/html": "<div style=\"text-align:center;font-family: 'Lora', 'Courier New', monospace, serif;font-weight: 700;color:red\">NO HALF-MEASURES<br>THE LEDGER MUST BE BALANCED</div>"
     },
     "metadata": {},
     "output_type": "display_data"
    }
   ],
   "source": [
    "display(god_text(\"NO HALF-MEASURES<br>THE LEDGER MUST BE BALANCED\", 0))"
   ],
   "metadata": {
    "collapsed": false,
    "pycharm": {
     "name": "#%%\n"
    }
   }
  },
  {
   "cell_type": "markdown",
   "source": [
    "### Fist of the Ape God\n",
    "\n",
    "**Bestow the Fist of the Ape God unto a random Player in your Team's Rotation.**\n",
    "\n",
    "Unknown effect. Presumably an Item that would be good for pitchers."
   ],
   "metadata": {
    "collapsed": false,
    "pycharm": {
     "name": "#%% md\n"
    }
   }
  },
  {
   "cell_type": "markdown",
   "source": [
    "### Cold Call\n",
    "\n",
    "**Call the Alternate for the 2 Worst Pitchers in your Team's Rotation.**\n",
    "\n",
    "An Alternate is a reroll of the player's stats, preventing rerolls that reduce the player's Combined Star total.\n",
    "This should also reroll players if they are still the worst player after their first reroll. See below for the\n",
    "list of players this would reroll. For reference, the statistical average reroll would have ~1.5 pitching\n",
    "stars (or ~0.3 Pitching Rating)."
   ],
   "metadata": {
    "collapsed": false
   }
  },
  {
   "cell_type": "code",
   "execution_count": 7,
   "outputs": [
    {
     "data": {
      "text/plain": "<pandas.io.formats.style.Styler at 0x1a07f1bbd30>",
      "text/html": "<style type=\"text/css\">\n#T_f6ea8_row0_col0 {\n  background-color: #f67c4a;\n  color: #f1f1f1;\n}\n#T_f6ea8_row0_col1 {\n  background-color: #da362a;\n  color: #f1f1f1;\n}\n#T_f6ea8_row0_col2 {\n  background-color: #a0d669;\n  color: #000000;\n}\n#T_f6ea8_row0_col3 {\n  background-color: #b9e176;\n  color: #000000;\n}\n#T_f6ea8_row0_col4 {\n  background-color: #f88950;\n  color: #f1f1f1;\n}\n#T_f6ea8_row0_col5 {\n  background-color: #ee613e;\n  color: #f1f1f1;\n}\n#T_f6ea8_row0_col6, #T_f6ea8_row1_col5 {\n  background-color: #fcaa5f;\n  color: #000000;\n}\n#T_f6ea8_row1_col0 {\n  background-color: #f7814c;\n  color: #f1f1f1;\n}\n#T_f6ea8_row1_col1 {\n  background-color: #e34933;\n  color: #f1f1f1;\n}\n#T_f6ea8_row1_col2 {\n  background-color: #fed481;\n  color: #000000;\n}\n#T_f6ea8_row1_col3 {\n  background-color: #3ca959;\n  color: #f1f1f1;\n}\n#T_f6ea8_row1_col4 {\n  background-color: #addc6f;\n  color: #000000;\n}\n#T_f6ea8_row1_col6 {\n  background-color: #feca79;\n  color: #000000;\n}\n</style>\n<table id=\"T_f6ea8_\">\n  <thead>\n    <tr>\n      <th class=\"blank level0\" >&nbsp;</th>\n      <th class=\"col_heading level0 col0\" >Pitching Rating</th>\n      <th class=\"col_heading level0 col1\" >Unthwackability</th>\n      <th class=\"col_heading level0 col2\" >Ruthlessness</th>\n      <th class=\"col_heading level0 col3\" >Overpowerment</th>\n      <th class=\"col_heading level0 col4\" >Shakespearianism</th>\n      <th class=\"col_heading level0 col5\" >Coldness</th>\n      <th class=\"col_heading level0 col6\" >Suppression</th>\n    </tr>\n  </thead>\n  <tbody>\n    <tr>\n      <th id=\"T_f6ea8_level0_row0\" class=\"row_heading level0 row0\" >Nia Joelson</th>\n      <td id=\"T_f6ea8_row0_col0\" class=\"data row0 col0\" >0.226368</td>\n      <td id=\"T_f6ea8_row0_col1\" class=\"data row0 col1\" >0.110330</td>\n      <td id=\"T_f6ea8_row0_col2\" class=\"data row0 col2\" >0.710038</td>\n      <td id=\"T_f6ea8_row0_col3\" class=\"data row0 col3\" >0.660507</td>\n      <td id=\"T_f6ea8_row0_col4\" class=\"data row0 col4\" >0.242607</td>\n      <td id=\"T_f6ea8_row0_col5\" class=\"data row0 col5\" >0.181714</td>\n      <td id=\"T_f6ea8_row0_col6\" class=\"data row0 col6\" >0.295137</td>\n    </tr>\n    <tr>\n      <th id=\"T_f6ea8_level0_row1\" class=\"row_heading level0 row1\" >Pierce Blue</th>\n      <td id=\"T_f6ea8_row1_col0\" class=\"data row1 col0\" >0.233268</td>\n      <td id=\"T_f6ea8_row1_col1\" class=\"data row1 col1\" >0.143229</td>\n      <td id=\"T_f6ea8_row1_col2\" class=\"data row1 col2\" >0.375352</td>\n      <td id=\"T_f6ea8_row1_col3\" class=\"data row1 col3\" >0.852265</td>\n      <td id=\"T_f6ea8_row1_col4\" class=\"data row1 col4\" >0.687343</td>\n      <td id=\"T_f6ea8_row1_col5\" class=\"data row1 col5\" >0.295386</td>\n      <td id=\"T_f6ea8_row1_col6\" class=\"data row1 col6\" >0.357881</td>\n    </tr>\n  </tbody>\n</table>\n"
     },
     "metadata": {},
     "output_type": "display_data"
    }
   ],
   "source": [
    "display(set_heatmap(get_pitching_stlats(sort_rotation(pies, 2)), maxVal=1.0))"
   ],
   "metadata": {
    "collapsed": false,
    "pycharm": {
     "name": "#%%\n"
    }
   }
  },
  {
   "cell_type": "markdown",
   "source": [
    "### Long Distance Call\n",
    "\n",
    "**Call the Alternate for the 4 Worst Batters in your Team's Lineup.**\n",
    "\n",
    "An Alternate is a reroll of the player's stats, preventing rerolls that reduce the player's Combined Star total.\n",
    "This should also reroll players if they are still the worst player after their first reroll. See below for the\n",
    "list of players this would reroll. For reference, the statistical average reroll would have ~2 batting stars\n",
    "(or ~0.4 Batting Rating).\n"
   ],
   "metadata": {
    "collapsed": false
   }
  },
  {
   "cell_type": "code",
   "execution_count": 8,
   "outputs": [
    {
     "data": {
      "text/plain": "<pandas.io.formats.style.Styler at 0x1a07f1b8940>",
      "text/html": "<style type=\"text/css\">\n#T_52fde_row0_col0 {\n  background-color: #f26841;\n  color: #f1f1f1;\n}\n#T_52fde_row0_col1 {\n  background-color: #ef633f;\n  color: #f1f1f1;\n}\n#T_52fde_row0_col2 {\n  background-color: #ce2827;\n  color: #f1f1f1;\n}\n#T_52fde_row0_col3 {\n  background-color: #18954f;\n  color: #f1f1f1;\n}\n#T_52fde_row0_col4 {\n  background-color: #fffebe;\n  color: #000000;\n}\n#T_52fde_row0_col5 {\n  background-color: #1b9950;\n  color: #f1f1f1;\n  background-color: #d83128;\n  color: #f1f1f1;\n}\n#T_52fde_row0_col6, #T_52fde_row1_col8, #T_52fde_row3_col8 {\n  background-color: #006837;\n  color: #f1f1f1;\n}\n#T_52fde_row0_col7 {\n  background-color: #91d068;\n  color: #000000;\n  background-color: #fa9857;\n  color: #000000;\n}\n#T_52fde_row0_col8 {\n  background-color: #feda86;\n  color: #000000;\n}\n#T_52fde_row1_col0 {\n  background-color: #fca85e;\n  color: #000000;\n}\n#T_52fde_row1_col1 {\n  background-color: #dd3d2d;\n  color: #f1f1f1;\n}\n#T_52fde_row1_col2 {\n  background-color: #d3ec87;\n  color: #000000;\n}\n#T_52fde_row1_col3 {\n  background-color: #f88950;\n  color: #f1f1f1;\n}\n#T_52fde_row1_col4 {\n  background-color: #a2d76a;\n  color: #000000;\n}\n#T_52fde_row1_col5 {\n  background-color: #199750;\n  color: #f1f1f1;\n  background-color: #d62f27;\n  color: #f1f1f1;\n}\n#T_52fde_row1_col6 {\n  background-color: #ebf7a3;\n  color: #000000;\n}\n#T_52fde_row1_col7 {\n  background-color: #006837;\n  color: #f1f1f1;\n  background-color: #a50026;\n  color: #f1f1f1;\n}\n#T_52fde_row2_col0 {\n  background-color: #fed07e;\n  color: #000000;\n}\n#T_52fde_row2_col1 {\n  background-color: #3ca959;\n  color: #f1f1f1;\n}\n#T_52fde_row2_col2 {\n  background-color: #de402e;\n  color: #f1f1f1;\n}\n#T_52fde_row2_col3 {\n  background-color: #e95538;\n  color: #f1f1f1;\n}\n#T_52fde_row2_col4 {\n  background-color: #fee999;\n  color: #000000;\n}\n#T_52fde_row2_col5 {\n  background-color: #e65036;\n  color: #f1f1f1;\n  background-color: #42ac5a;\n  color: #f1f1f1;\n}\n#T_52fde_row2_col6 {\n  background-color: #93d168;\n  color: #000000;\n}\n#T_52fde_row2_col7 {\n  background-color: #addc6f;\n  color: #000000;\n  background-color: #fdb567;\n  color: #000000;\n}\n#T_52fde_row2_col8 {\n  background-color: #84ca66;\n  color: #000000;\n}\n#T_52fde_row3_col0 {\n  background-color: #fffbb8;\n  color: #000000;\n}\n#T_52fde_row3_col1 {\n  background-color: #c1e57b;\n  color: #000000;\n}\n#T_52fde_row3_col2 {\n  background-color: #ddf191;\n  color: #000000;\n}\n#T_52fde_row3_col3 {\n  background-color: #da362a;\n  color: #f1f1f1;\n}\n#T_52fde_row3_col4 {\n  background-color: #e54e35;\n  color: #f1f1f1;\n}\n#T_52fde_row3_col5 {\n  background-color: #75c465;\n  color: #000000;\n  background-color: #f67c4a;\n  color: #f1f1f1;\n}\n#T_52fde_row3_col6 {\n  background-color: #016a38;\n  color: #f1f1f1;\n}\n#T_52fde_row3_col7 {\n  background-color: #fee797;\n  color: #000000;\n  background-color: #e2f397;\n  color: #000000;\n}\n</style>\n<table id=\"T_52fde_\">\n  <thead>\n    <tr>\n      <th class=\"blank level0\" >&nbsp;</th>\n      <th class=\"col_heading level0 col0\" >Batting Rating</th>\n      <th class=\"col_heading level0 col1\" >Thwackability</th>\n      <th class=\"col_heading level0 col2\" >Divinity</th>\n      <th class=\"col_heading level0 col3\" >Musclitude</th>\n      <th class=\"col_heading level0 col4\" >Moxie</th>\n      <th class=\"col_heading level0 col5\" >Patheticism</th>\n      <th class=\"col_heading level0 col6\" >Martyrdom</th>\n      <th class=\"col_heading level0 col7\" >Tragicness</th>\n      <th class=\"col_heading level0 col8\" >Buoyancy</th>\n    </tr>\n  </thead>\n  <tbody>\n    <tr>\n      <th id=\"T_52fde_level0_row0\" class=\"row_heading level0 row0\" >Metric Wobin</th>\n      <td id=\"T_52fde_row0_col0\" class=\"data row0 col0\" >0.193126</td>\n      <td id=\"T_52fde_row0_col1\" class=\"data row0 col1\" >0.187495</td>\n      <td id=\"T_52fde_row0_col2\" class=\"data row0 col2\" >0.082664</td>\n      <td id=\"T_52fde_row0_col3\" class=\"data row0 col3\" >0.905664</td>\n      <td id=\"T_52fde_row0_col4\" class=\"data row0 col4\" >0.498558</td>\n      <td id=\"T_52fde_row0_col5\" class=\"data row0 col5\" >0.897115</td>\n      <td id=\"T_52fde_row0_col6\" class=\"data row0 col6\" >1.026214</td>\n      <td id=\"T_52fde_row0_col7\" class=\"data row0 col7\" >0.731393</td>\n      <td id=\"T_52fde_row0_col8\" class=\"data row0 col8\" >0.388122</td>\n    </tr>\n    <tr>\n      <th id=\"T_52fde_level0_row1\" class=\"row_heading level0 row1\" >Mac Rialto</th>\n      <td id=\"T_52fde_row1_col0\" class=\"data row1 col0\" >0.292195</td>\n      <td id=\"T_52fde_row1_col1\" class=\"data row1 col1\" >0.123817</td>\n      <td id=\"T_52fde_row1_col2\" class=\"data row1 col2\" >0.611699</td>\n      <td id=\"T_52fde_row1_col3\" class=\"data row1 col3\" >0.244620</td>\n      <td id=\"T_52fde_row1_col4\" class=\"data row1 col4\" >0.705571</td>\n      <td id=\"T_52fde_row1_col5\" class=\"data row1 col5\" >0.898625</td>\n      <td id=\"T_52fde_row1_col6\" class=\"data row1 col6\" >0.551853</td>\n      <td id=\"T_52fde_row1_col7\" class=\"data row1 col7\" >0.999000</td>\n      <td id=\"T_52fde_row1_col8\" class=\"data row1 col8\" >1.048309</td>\n    </tr>\n    <tr>\n      <th id=\"T_52fde_level0_row2\" class=\"row_heading level0 row2\" >Brooke Honeywell</th>\n      <td id=\"T_52fde_row2_col0\" class=\"data row2 col0\" >0.367861</td>\n      <td id=\"T_52fde_row2_col1\" class=\"data row2 col1\" >0.852129</td>\n      <td id=\"T_52fde_row2_col2\" class=\"data row2 col2\" >0.128854</td>\n      <td id=\"T_52fde_row2_col3\" class=\"data row2 col3\" >0.160420</td>\n      <td id=\"T_52fde_row2_col4\" class=\"data row2 col4\" >0.428948</td>\n      <td id=\"T_52fde_row2_col5\" class=\"data row2 col5\" >0.152779</td>\n      <td id=\"T_52fde_row2_col6\" class=\"data row2 col6\" >0.730415</td>\n      <td id=\"T_52fde_row2_col7\" class=\"data row2 col7\" >0.685487</td>\n      <td id=\"T_52fde_row2_col8\" class=\"data row2 col8\" >0.751670</td>\n    </tr>\n    <tr>\n      <th id=\"T_52fde_level0_row3\" class=\"row_heading level0 row3\" >Clay Dickens</th>\n      <td id=\"T_52fde_row3_col0\" class=\"data row3 col0\" >0.484552</td>\n      <td id=\"T_52fde_row3_col1\" class=\"data row3 col1\" >0.647349</td>\n      <td id=\"T_52fde_row3_col2\" class=\"data row3 col2\" >0.588734</td>\n      <td id=\"T_52fde_row3_col3\" class=\"data row3 col3\" >0.112765</td>\n      <td id=\"T_52fde_row3_col4\" class=\"data row3 col4\" >0.149256</td>\n      <td id=\"T_52fde_row3_col5\" class=\"data row3 col5\" >0.776555</td>\n      <td id=\"T_52fde_row3_col6\" class=\"data row3 col6\" >0.993184</td>\n      <td id=\"T_52fde_row3_col7\" class=\"data row3 col7\" >0.422819</td>\n      <td id=\"T_52fde_row3_col8\" class=\"data row3 col8\" >1.014121</td>\n    </tr>\n  </tbody>\n</table>\n"
     },
     "metadata": {},
     "output_type": "display_data"
    }
   ],
   "source": [
    "display(set_heatmap(get_batting_stlats(sort_lineup(pies, 4)), maxVal=1.0))"
   ],
   "metadata": {
    "collapsed": false,
    "pycharm": {
     "name": "#%%\n"
    }
   }
  },
  {
   "cell_type": "markdown",
   "id": "5c780b47",
   "metadata": {},
   "source": [
    "### Fire Blood\n",
    "\n",
    "**Give a random Player in your Team's Rotation Fire Blood.**\n",
    "\n",
    "Fire Blood grants the \"Fiery\" Modification which has the description \"This Player has a chance of throwing Double\n",
    "Strikes.\""
   ]
  },
  {
   "cell_type": "markdown",
   "id": "ff3309d8",
   "metadata": {},
   "source": [
    "### Electric Blood\n",
    "\n",
    "**Give a random Player in your Team's Rotation Electric Blood.**\n",
    "\n",
    "Electric Blood grants the \"Electric\" Modification which has the description \"When this Player is Pitching, they'll have\n",
    "a chance of zapping away Balls.\""
   ]
  },
  {
   "cell_type": "markdown",
   "id": "0dbf2396",
   "metadata": {},
   "source": [
    "### Strike Blood\n",
    "\n",
    "**Give a random Player in your Team's Lineup Strike Blood.**\n",
    "\n",
    "Strike Blood grants the \"Fourth Strike\" Modification which has the description \"This Player will get an extra\n",
    "strike in each at-bat.\""
   ]
  },
  {
   "cell_type": "markdown",
   "id": "e9ba4d29",
   "metadata": {},
   "source": [
    "### Ball Blood\n",
    "\n",
    "**Give a random Player in your Team's Lineup Ball Blood.**\n",
    "\n",
    "Ball Blood grants the \"Walk in the Park\" Modification which has the description \"Those with Walk in the Park will walk\n",
    "to first base on one less Ball.\""
   ]
  },
  {
   "cell_type": "markdown",
   "id": "974751aa",
   "metadata": {},
   "source": [
    "### Snow Blower\n",
    "\n",
    "**Give the Snow Blower to a random Player in your Team's Rotation.**\n",
    "\n",
    "This would award a random pitcher with the Snow Blower Item. Exact stat changes are unknown but this is likely the same\n",
    "as the Arm Cannon. Assuming this, see below for estimated stat changes."
   ]
  },
  {
   "cell_type": "code",
   "execution_count": 9,
   "outputs": [
    {
     "data": {
      "text/plain": "<pandas.io.formats.style.Styler at 0x1a07ef80e20>",
      "text/html": "<style type=\"text/css\">\n#T_06dc9_row0_col0 {\n  background-color: #54b45f;\n  color: #f1f1f1;\n}\n#T_06dc9_row0_col1 {\n  background-color: #279f53;\n  color: #f1f1f1;\n}\n#T_06dc9_row0_col2 {\n  background-color: #afdd70;\n  color: #000000;\n}\n#T_06dc9_row0_col3, #T_06dc9_row1_col2, #T_06dc9_row1_col3, #T_06dc9_row2_col1, #T_06dc9_row2_col3, #T_06dc9_row3_col0, #T_06dc9_row3_col1, #T_06dc9_row3_col2, #T_06dc9_row3_col3, #T_06dc9_row4_col1, #T_06dc9_row4_col3 {\n  background-color: #006837;\n  color: #f1f1f1;\n}\n#T_06dc9_row0_col4 {\n  background-color: #addc6f;\n  color: #000000;\n}\n#T_06dc9_row0_col5, #T_06dc9_row1_col6, #T_06dc9_row3_col4 {\n  background-color: #fcaa5f;\n  color: #000000;\n}\n#T_06dc9_row0_col6 {\n  background-color: #feca79;\n  color: #000000;\n}\n#T_06dc9_row1_col0 {\n  background-color: #51b35e;\n  color: #f1f1f1;\n}\n#T_06dc9_row1_col1 {\n  background-color: #42ac5a;\n  color: #f1f1f1;\n}\n#T_06dc9_row1_col4 {\n  background-color: #f88950;\n  color: #f1f1f1;\n}\n#T_06dc9_row1_col5 {\n  background-color: #ee613e;\n  color: #f1f1f1;\n}\n#T_06dc9_row2_col0 {\n  background-color: #08773f;\n  color: #f1f1f1;\n}\n#T_06dc9_row2_col2 {\n  background-color: #3faa59;\n  color: #f1f1f1;\n}\n#T_06dc9_row2_col4 {\n  background-color: #fedc88;\n  color: #000000;\n}\n#T_06dc9_row2_col5 {\n  background-color: #e9f6a1;\n  color: #000000;\n}\n#T_06dc9_row2_col6 {\n  background-color: #9bd469;\n  color: #000000;\n}\n#T_06dc9_row3_col5 {\n  background-color: #fdb567;\n  color: #000000;\n}\n#T_06dc9_row3_col6 {\n  background-color: #fdc574;\n  color: #000000;\n}\n#T_06dc9_row4_col0 {\n  background-color: #7dc765;\n  color: #000000;\n}\n#T_06dc9_row4_col2 {\n  background-color: #fee28f;\n  color: #000000;\n}\n#T_06dc9_row4_col4 {\n  background-color: #f26841;\n  color: #f1f1f1;\n}\n#T_06dc9_row4_col5 {\n  background-color: #f1f9ac;\n  color: #000000;\n}\n#T_06dc9_row4_col6 {\n  background-color: #bb1526;\n  color: #f1f1f1;\n}\n</style>\n<table id=\"T_06dc9_\">\n  <thead>\n    <tr>\n      <th class=\"blank level0\" >&nbsp;</th>\n      <th class=\"col_heading level0 col0\" >Pitching Rating</th>\n      <th class=\"col_heading level0 col1\" >Unthwackability</th>\n      <th class=\"col_heading level0 col2\" >Ruthlessness</th>\n      <th class=\"col_heading level0 col3\" >Overpowerment</th>\n      <th class=\"col_heading level0 col4\" >Shakespearianism</th>\n      <th class=\"col_heading level0 col5\" >Coldness</th>\n      <th class=\"col_heading level0 col6\" >Suppression</th>\n    </tr>\n  </thead>\n  <tbody>\n    <tr>\n      <th id=\"T_06dc9_level0_row0\" class=\"row_heading level0 row0\" >Pierce Blue</th>\n      <td id=\"T_06dc9_row0_col0\" class=\"data row0 col0\" >0.821881</td>\n      <td id=\"T_06dc9_row0_col1\" class=\"data row0 col1\" >0.879508</td>\n      <td id=\"T_06dc9_row0_col2\" class=\"data row0 col2\" >0.682675</td>\n      <td id=\"T_06dc9_row0_col3\" class=\"data row0 col3\" >1.806519</td>\n      <td id=\"T_06dc9_row0_col4\" class=\"data row0 col4\" >0.687343</td>\n      <td id=\"T_06dc9_row0_col5\" class=\"data row0 col5\" >0.295386</td>\n      <td id=\"T_06dc9_row0_col6\" class=\"data row0 col6\" >0.357881</td>\n    </tr>\n    <tr>\n      <th id=\"T_06dc9_level0_row1\" class=\"row_heading level0 row1\" >Nia Joelson</th>\n      <td id=\"T_06dc9_row1_col0\" class=\"data row1 col0\" >0.827985</td>\n      <td id=\"T_06dc9_row1_col1\" class=\"data row1 col1\" >0.846608</td>\n      <td id=\"T_06dc9_row1_col2\" class=\"data row1 col2\" >1.017361</td>\n      <td id=\"T_06dc9_row1_col3\" class=\"data row1 col3\" >1.614761</td>\n      <td id=\"T_06dc9_row1_col4\" class=\"data row1 col4\" >0.242607</td>\n      <td id=\"T_06dc9_row1_col5\" class=\"data row1 col5\" >0.181714</td>\n      <td id=\"T_06dc9_row1_col6\" class=\"data row1 col6\" >0.295137</td>\n    </tr>\n    <tr>\n      <th id=\"T_06dc9_level0_row2\" class=\"row_heading level0 row2\" >Coby Rhodes</th>\n      <td id=\"T_06dc9_row2_col0\" class=\"data row2 col0\" >0.966217</td>\n      <td id=\"T_06dc9_row2_col1\" class=\"data row2 col1\" >1.110759</td>\n      <td id=\"T_06dc9_row2_col2\" class=\"data row2 col2\" >0.851446</td>\n      <td id=\"T_06dc9_row2_col3\" class=\"data row2 col3\" >1.769861</td>\n      <td id=\"T_06dc9_row2_col4\" class=\"data row2 col4\" >0.392557</td>\n      <td id=\"T_06dc9_row2_col5\" class=\"data row2 col5\" >0.555702</td>\n      <td id=\"T_06dc9_row2_col6\" class=\"data row2 col6\" >0.717024</td>\n    </tr>\n    <tr>\n      <th id=\"T_06dc9_level0_row3\" class=\"row_heading level0 row3\" >Emmanuel Cole</th>\n      <td id=\"T_06dc9_row3_col0\" class=\"data row3 col0\" >1.292514</td>\n      <td id=\"T_06dc9_row3_col1\" class=\"data row3 col1\" >1.679763</td>\n      <td id=\"T_06dc9_row3_col2\" class=\"data row3 col2\" >1.193274</td>\n      <td id=\"T_06dc9_row3_col3\" class=\"data row3 col3\" >1.679855</td>\n      <td id=\"T_06dc9_row3_col4\" class=\"data row3 col4\" >0.294439</td>\n      <td id=\"T_06dc9_row3_col5\" class=\"data row3 col5\" >0.314043</td>\n      <td id=\"T_06dc9_row3_col6\" class=\"data row3 col6\" >0.347407</td>\n    </tr>\n    <tr>\n      <th id=\"T_06dc9_level0_row4\" class=\"row_heading level0 row4\" >Dee Spice</th>\n      <td id=\"T_06dc9_row4_col0\" class=\"data row4 col0\" >0.764566</td>\n      <td id=\"T_06dc9_row4_col1\" class=\"data row4 col1\" >1.508697</td>\n      <td id=\"T_06dc9_row4_col2\" class=\"data row4 col2\" >0.407800</td>\n      <td id=\"T_06dc9_row4_col3\" class=\"data row4 col3\" >1.528626</td>\n      <td id=\"T_06dc9_row4_col4\" class=\"data row4 col4\" >0.195220</td>\n      <td id=\"T_06dc9_row4_col5\" class=\"data row4 col5\" >0.536406</td>\n      <td id=\"T_06dc9_row4_col6\" class=\"data row4 col6\" >0.044989</td>\n    </tr>\n  </tbody>\n</table>\n"
     },
     "execution_count": 9,
     "metadata": {},
     "output_type": "execute_result"
    }
   ],
   "source": [
    "new_rotation = []\n",
    "for player in pies.rotation:\n",
    "    new_rotation.append(player.simulated_copy(buffs=\n",
    "                                         {'overpowerment': 0.9542536640830439,\n",
    "                                          'unthwackability': 0.7362786936932654,\n",
    "                                          'ruthlessness': 0.3073233290216612}))\n",
    "\n",
    "set_heatmap(get_pitching_stlats(new_rotation), maxVal=1.0)\n",
    "# 6524fd18-54e1-4b51-be71-4db6ef1cdf42"
   ],
   "metadata": {
    "collapsed": false,
    "pycharm": {
     "name": "#%%\n"
    }
   }
  },
  {
   "cell_type": "markdown",
   "id": "4e31234f",
   "metadata": {},
   "source": [
    "### Snow Shovel\n",
    "\n",
    "**Give the Snow Shovel to a random Player in your Team's Lineup.**\n",
    "\n",
    "This would award a random batter with the Snow Shovel Item. Exact stat changes are unknown but this is likely the same\n",
    "as the Gunblade Bat. Assuming this, see below for estimated stat changes."
   ]
  },
  {
   "cell_type": "code",
   "execution_count": 10,
   "outputs": [
    {
     "data": {
      "text/plain": "<pandas.io.formats.style.Styler at 0x1a07f18bfa0>",
      "text/html": "<style type=\"text/css\">\n#T_29b47_row0_col0 {\n  background-color: #6ec064;\n  color: #000000;\n}\n#T_29b47_row0_col1, #T_29b47_row0_col2, #T_29b47_row0_col8, #T_29b47_row1_col1, #T_29b47_row2_col1, #T_29b47_row2_col2, #T_29b47_row2_col6, #T_29b47_row2_col8, #T_29b47_row3_col2, #T_29b47_row4_col0, #T_29b47_row4_col1, #T_29b47_row4_col2, #T_29b47_row5_col2, #T_29b47_row5_col8, #T_29b47_row6_col0, #T_29b47_row6_col2, #T_29b47_row6_col6, #T_29b47_row7_col6, #T_29b47_row8_col2, #T_29b47_row8_col4 {\n  background-color: #006837;\n  color: #f1f1f1;\n}\n#T_29b47_row0_col3 {\n  background-color: #da362a;\n  color: #f1f1f1;\n}\n#T_29b47_row0_col4 {\n  background-color: #e54e35;\n  color: #f1f1f1;\n}\n#T_29b47_row0_col5, #T_29b47_row3_col7 {\n  background-color: #75c465;\n  color: #000000;\n  background-color: #f67c4a;\n  color: #f1f1f1;\n}\n#T_29b47_row0_col6 {\n  background-color: #016a38;\n  color: #f1f1f1;\n}\n#T_29b47_row0_col7 {\n  background-color: #fee797;\n  color: #000000;\n  background-color: #e2f397;\n  color: #000000;\n}\n#T_29b47_row1_col0 {\n  background-color: #45ad5b;\n  color: #f1f1f1;\n}\n#T_29b47_row1_col2 {\n  background-color: #39a758;\n  color: #f1f1f1;\n}\n#T_29b47_row1_col3 {\n  background-color: #e95538;\n  color: #f1f1f1;\n}\n#T_29b47_row1_col4 {\n  background-color: #fee999;\n  color: #000000;\n}\n#T_29b47_row1_col5 {\n  background-color: #e65036;\n  color: #f1f1f1;\n  background-color: #42ac5a;\n  color: #f1f1f1;\n}\n#T_29b47_row1_col6 {\n  background-color: #93d168;\n  color: #000000;\n}\n#T_29b47_row1_col7 {\n  background-color: #addc6f;\n  color: #000000;\n  background-color: #fdb567;\n  color: #000000;\n}\n#T_29b47_row1_col8, #T_29b47_row6_col8 {\n  background-color: #84ca66;\n  color: #000000;\n}\n#T_29b47_row2_col0 {\n  background-color: #148e4b;\n  color: #f1f1f1;\n}\n#T_29b47_row2_col3 {\n  background-color: #036e3a;\n  color: #f1f1f1;\n}\n#T_29b47_row2_col4 {\n  background-color: #60ba62;\n  color: #f1f1f1;\n}\n#T_29b47_row2_col5, #T_29b47_row2_col7, #T_29b47_row5_col7 {\n  background-color: #006837;\n  color: #f1f1f1;\n  background-color: #a50026;\n  color: #f1f1f1;\n}\n#T_29b47_row3_col0 {\n  background-color: #128a49;\n  color: #f1f1f1;\n}\n#T_29b47_row3_col1 {\n  background-color: #82c966;\n  color: #000000;\n}\n#T_29b47_row3_col3 {\n  background-color: #fed683;\n  color: #000000;\n}\n#T_29b47_row3_col4 {\n  background-color: #feeda1;\n  color: #000000;\n}\n#T_29b47_row3_col5 {\n  background-color: #f88c51;\n  color: #f1f1f1;\n  background-color: #84ca66;\n  color: #000000;\n}\n#T_29b47_row3_col6 {\n  background-color: #0a7b41;\n  color: #f1f1f1;\n}\n#T_29b47_row3_col8 {\n  background-color: #eb5a3a;\n  color: #f1f1f1;\n}\n#T_29b47_row4_col3 {\n  background-color: #f88c51;\n  color: #f1f1f1;\n}\n#T_29b47_row4_col4, #T_29b47_row8_col1 {\n  background-color: #98d368;\n  color: #000000;\n}\n#T_29b47_row4_col5 {\n  background-color: #a2d76a;\n  color: #000000;\n  background-color: #fcaa5f;\n  color: #000000;\n}\n#T_29b47_row4_col6 {\n  background-color: #e65036;\n  color: #f1f1f1;\n}\n#T_29b47_row4_col7 {\n  background-color: #ecf7a6;\n  color: #000000;\n  background-color: #fff0a6;\n  color: #000000;\n}\n#T_29b47_row4_col8 {\n  background-color: #7ac665;\n  color: #000000;\n}\n#T_29b47_row5_col0, #T_29b47_row7_col0 {\n  background-color: #afdd70;\n  color: #000000;\n}\n#T_29b47_row5_col1 {\n  background-color: #c5e67e;\n  color: #000000;\n}\n#T_29b47_row5_col3 {\n  background-color: #f88950;\n  color: #f1f1f1;\n}\n#T_29b47_row5_col4 {\n  background-color: #a2d76a;\n  color: #000000;\n}\n#T_29b47_row5_col5 {\n  background-color: #199750;\n  color: #f1f1f1;\n  background-color: #d62f27;\n  color: #f1f1f1;\n}\n#T_29b47_row5_col6 {\n  background-color: #ebf7a3;\n  color: #000000;\n}\n#T_29b47_row6_col1 {\n  background-color: #06733d;\n  color: #f1f1f1;\n}\n#T_29b47_row6_col3 {\n  background-color: #feec9f;\n  color: #000000;\n}\n#T_29b47_row6_col4 {\n  background-color: #a9da6c;\n  color: #000000;\n}\n#T_29b47_row6_col5 {\n  background-color: #e2f397;\n  color: #000000;\n  background-color: #fee797;\n  color: #000000;\n}\n#T_29b47_row6_col7 {\n  background-color: #ec5c3b;\n  color: #f1f1f1;\n  background-color: #51b35e;\n  color: #f1f1f1;\n}\n#T_29b47_row7_col1 {\n  background-color: #a5d86a;\n  color: #000000;\n}\n#T_29b47_row7_col2 {\n  background-color: #5db961;\n  color: #f1f1f1;\n}\n#T_29b47_row7_col3 {\n  background-color: #18954f;\n  color: #f1f1f1;\n}\n#T_29b47_row7_col4 {\n  background-color: #fffebe;\n  color: #000000;\n}\n#T_29b47_row7_col5 {\n  background-color: #1b9950;\n  color: #f1f1f1;\n  background-color: #d83128;\n  color: #f1f1f1;\n}\n#T_29b47_row7_col7 {\n  background-color: #91d068;\n  color: #000000;\n  background-color: #fa9857;\n  color: #000000;\n}\n#T_29b47_row7_col8 {\n  background-color: #feda86;\n  color: #000000;\n}\n#T_29b47_row8_col0 {\n  background-color: #05713c;\n  color: #f1f1f1;\n}\n#T_29b47_row8_col3 {\n  background-color: #279f53;\n  color: #f1f1f1;\n}\n#T_29b47_row8_col5 {\n  background-color: #fa9b58;\n  color: #000000;\n  background-color: #93d168;\n  color: #000000;\n}\n#T_29b47_row8_col6 {\n  background-color: #e14430;\n  color: #f1f1f1;\n}\n#T_29b47_row8_col7 {\n  background-color: #148e4b;\n  color: #f1f1f1;\n  background-color: #cc2627;\n  color: #f1f1f1;\n}\n#T_29b47_row8_col8 {\n  background-color: #f57245;\n  color: #f1f1f1;\n}\n</style>\n<table id=\"T_29b47_\">\n  <thead>\n    <tr>\n      <th class=\"blank level0\" >&nbsp;</th>\n      <th class=\"col_heading level0 col0\" >Batting Rating</th>\n      <th class=\"col_heading level0 col1\" >Thwackability</th>\n      <th class=\"col_heading level0 col2\" >Divinity</th>\n      <th class=\"col_heading level0 col3\" >Musclitude</th>\n      <th class=\"col_heading level0 col4\" >Moxie</th>\n      <th class=\"col_heading level0 col5\" >Patheticism</th>\n      <th class=\"col_heading level0 col6\" >Martyrdom</th>\n      <th class=\"col_heading level0 col7\" >Tragicness</th>\n      <th class=\"col_heading level0 col8\" >Buoyancy</th>\n    </tr>\n  </thead>\n  <tbody>\n    <tr>\n      <th id=\"T_29b47_level0_row0\" class=\"row_heading level0 row0\" >Clay Dickens</th>\n      <td id=\"T_29b47_row0_col0\" class=\"data row0 col0\" >0.787562</td>\n      <td id=\"T_29b47_row0_col1\" class=\"data row0 col1\" >1.160413</td>\n      <td id=\"T_29b47_row0_col2\" class=\"data row0 col2\" >1.315660</td>\n      <td id=\"T_29b47_row0_col3\" class=\"data row0 col3\" >0.112765</td>\n      <td id=\"T_29b47_row0_col4\" class=\"data row0 col4\" >0.149256</td>\n      <td id=\"T_29b47_row0_col5\" class=\"data row0 col5\" >0.776555</td>\n      <td id=\"T_29b47_row0_col6\" class=\"data row0 col6\" >0.993184</td>\n      <td id=\"T_29b47_row0_col7\" class=\"data row0 col7\" >0.422819</td>\n      <td id=\"T_29b47_row0_col8\" class=\"data row0 col8\" >1.014121</td>\n    </tr>\n    <tr>\n      <th id=\"T_29b47_level0_row1\" class=\"row_heading level0 row1\" >Brooke Honeywell</th>\n      <td id=\"T_29b47_row1_col0\" class=\"data row1 col0\" >0.841622</td>\n      <td id=\"T_29b47_row1_col1\" class=\"data row1 col1\" >1.365193</td>\n      <td id=\"T_29b47_row1_col2\" class=\"data row1 col2\" >0.855779</td>\n      <td id=\"T_29b47_row1_col3\" class=\"data row1 col3\" >0.160420</td>\n      <td id=\"T_29b47_row1_col4\" class=\"data row1 col4\" >0.428948</td>\n      <td id=\"T_29b47_row1_col5\" class=\"data row1 col5\" >0.152779</td>\n      <td id=\"T_29b47_row1_col6\" class=\"data row1 col6\" >0.730415</td>\n      <td id=\"T_29b47_row1_col7\" class=\"data row1 col7\" >0.685487</td>\n      <td id=\"T_29b47_row1_col8\" class=\"data row1 col8\" >0.751670</td>\n    </tr>\n    <tr>\n      <th id=\"T_29b47_level0_row2\" class=\"row_heading level0 row2\" >Nikola Honeycrisp</th>\n      <td id=\"T_29b47_row2_col0\" class=\"data row2 col0\" >0.918966</td>\n      <td id=\"T_29b47_row2_col1\" class=\"data row2 col1\" >1.469999</td>\n      <td id=\"T_29b47_row2_col2\" class=\"data row2 col2\" >1.830439</td>\n      <td id=\"T_29b47_row2_col3\" class=\"data row2 col3\" >0.987742</td>\n      <td id=\"T_29b47_row2_col4\" class=\"data row2 col4\" >0.807383</td>\n      <td id=\"T_29b47_row2_col5\" class=\"data row2 col5\" >0.999000</td>\n      <td id=\"T_29b47_row2_col6\" class=\"data row2 col6\" >1.025033</td>\n      <td id=\"T_29b47_row2_col7\" class=\"data row2 col7\" >0.999000</td>\n      <td id=\"T_29b47_row2_col8\" class=\"data row2 col8\" >1.125638</td>\n    </tr>\n    <tr>\n      <th id=\"T_29b47_level0_row3\" class=\"row_heading level0 row3\" >Goo Macy</th>\n      <td id=\"T_29b47_row3_col0\" class=\"data row3 col0\" >0.927524</td>\n      <td id=\"T_29b47_row3_col1\" class=\"data row3 col1\" >0.754204</td>\n      <td id=\"T_29b47_row3_col2\" class=\"data row3 col2\" >1.706819</td>\n      <td id=\"T_29b47_row3_col3\" class=\"data row3 col3\" >0.380838</td>\n      <td id=\"T_29b47_row3_col4\" class=\"data row3 col4\" >0.441620</td>\n      <td id=\"T_29b47_row3_col5\" class=\"data row3 col5\" >0.246159</td>\n      <td id=\"T_29b47_row3_col6\" class=\"data row3 col6\" >0.960119</td>\n      <td id=\"T_29b47_row3_col7\" class=\"data row3 col7\" >0.776440</td>\n      <td id=\"T_29b47_row3_col8\" class=\"data row3 col8\" >0.170193</td>\n    </tr>\n    <tr>\n      <th id=\"T_29b47_level0_row4\" class=\"row_heading level0 row4\" >Antonio Osako</th>\n      <td id=\"T_29b47_row4_col0\" class=\"data row4 col0\" >1.025126</td>\n      <td id=\"T_29b47_row4_col1\" class=\"data row4 col1\" >1.393209</td>\n      <td id=\"T_29b47_row4_col2\" class=\"data row4 col2\" >1.508119</td>\n      <td id=\"T_29b47_row4_col3\" class=\"data row4 col3\" >0.249626</td>\n      <td id=\"T_29b47_row4_col4\" class=\"data row4 col4\" >0.721320</td>\n      <td id=\"T_29b47_row4_col5\" class=\"data row4 col5\" >0.704916</td>\n      <td id=\"T_29b47_row4_col6\" class=\"data row4 col6\" >0.153398</td>\n      <td id=\"T_29b47_row4_col7\" class=\"data row4 col7\" >0.548234</td>\n      <td id=\"T_29b47_row4_col8\" class=\"data row4 col8\" >0.769037</td>\n    </tr>\n    <tr>\n      <th id=\"T_29b47_level0_row5\" class=\"row_heading level0 row5\" >Mac Rialto</th>\n      <td id=\"T_29b47_row5_col0\" class=\"data row5 col0\" >0.681807</td>\n      <td id=\"T_29b47_row5_col1\" class=\"data row5 col1\" >0.636881</td>\n      <td id=\"T_29b47_row5_col2\" class=\"data row5 col2\" >1.338624</td>\n      <td id=\"T_29b47_row5_col3\" class=\"data row5 col3\" >0.244620</td>\n      <td id=\"T_29b47_row5_col4\" class=\"data row5 col4\" >0.705571</td>\n      <td id=\"T_29b47_row5_col5\" class=\"data row5 col5\" >0.898625</td>\n      <td id=\"T_29b47_row5_col6\" class=\"data row5 col6\" >0.551853</td>\n      <td id=\"T_29b47_row5_col7\" class=\"data row5 col7\" >0.999000</td>\n      <td id=\"T_29b47_row5_col8\" class=\"data row5 col8\" >1.048309</td>\n    </tr>\n    <tr>\n      <th id=\"T_29b47_level0_row6\" class=\"row_heading level0 row6\" >Pop Winter</th>\n      <td id=\"T_29b47_row6_col0\" class=\"data row6 col0\" >1.024750</td>\n      <td id=\"T_29b47_row6_col1\" class=\"data row6 col1\" >0.973994</td>\n      <td id=\"T_29b47_row6_col2\" class=\"data row6 col2\" >1.615835</td>\n      <td id=\"T_29b47_row6_col3\" class=\"data row6 col3\" >0.438556</td>\n      <td id=\"T_29b47_row6_col4\" class=\"data row6 col4\" >0.691654</td>\n      <td id=\"T_29b47_row6_col5\" class=\"data row6 col5\" >0.575717</td>\n      <td id=\"T_29b47_row6_col6\" class=\"data row6 col6\" >0.997978</td>\n      <td id=\"T_29b47_row6_col7\" class=\"data row6 col7\" >0.172886</td>\n      <td id=\"T_29b47_row6_col8\" class=\"data row6 col8\" >0.753107</td>\n    </tr>\n    <tr>\n      <th id=\"T_29b47_level0_row7\" class=\"row_heading level0 row7\" >Metric Wobin</th>\n      <td id=\"T_29b47_row7_col0\" class=\"data row7 col0\" >0.680821</td>\n      <td id=\"T_29b47_row7_col1\" class=\"data row7 col1\" >0.700559</td>\n      <td id=\"T_29b47_row7_col2\" class=\"data row7 col2\" >0.809589</td>\n      <td id=\"T_29b47_row7_col3\" class=\"data row7 col3\" >0.905664</td>\n      <td id=\"T_29b47_row7_col4\" class=\"data row7 col4\" >0.498558</td>\n      <td id=\"T_29b47_row7_col5\" class=\"data row7 col5\" >0.897115</td>\n      <td id=\"T_29b47_row7_col6\" class=\"data row7 col6\" >1.026214</td>\n      <td id=\"T_29b47_row7_col7\" class=\"data row7 col7\" >0.731393</td>\n      <td id=\"T_29b47_row7_col8\" class=\"data row7 col8\" >0.388122</td>\n    </tr>\n    <tr>\n      <th id=\"T_29b47_level0_row8\" class=\"row_heading level0 row8\" >Tall Everts</th>\n      <td id=\"T_29b47_row8_col0\" class=\"data row8 col0\" >0.978486</td>\n      <td id=\"T_29b47_row8_col1\" class=\"data row8 col1\" >0.720078</td>\n      <td id=\"T_29b47_row8_col2\" class=\"data row8 col2\" >1.678650</td>\n      <td id=\"T_29b47_row8_col3\" class=\"data row8 col3\" >0.879990</td>\n      <td id=\"T_29b47_row8_col4\" class=\"data row8 col4\" >1.035805</td>\n      <td id=\"T_29b47_row8_col5\" class=\"data row8 col5\" >0.272386</td>\n      <td id=\"T_29b47_row8_col6\" class=\"data row8 col6\" >0.134851</td>\n      <td id=\"T_29b47_row8_col7\" class=\"data row8 col7\" >0.919428</td>\n      <td id=\"T_29b47_row8_col8\" class=\"data row8 col8\" >0.210129</td>\n    </tr>\n  </tbody>\n</table>\n"
     },
     "execution_count": 10,
     "metadata": {},
     "output_type": "execute_result"
    }
   ],
   "source": [
    "new_lineup = []\n",
    "for player in pies.lineup:\n",
    "    new_lineup.append(player.simulated_copy(buffs=\n",
    "                                         {'thwackability': 0.5130641039787702,\n",
    "                                          'divinity': 0.7269251670605504,\n",
    "                                          'omniscience': 0.15027996064258692,\n",
    "                                          'continuation': 0.11857006105026602,\n",
    "                                          'cinnamon': 0.5548917066411219}))\n",
    "\n",
    "set_heatmap(get_batting_stlats(new_lineup), maxVal=1.0)\n",
    "# 62fb21ab-1ef3-4c01-93a2-4d95325b1dab"
   ],
   "metadata": {
    "collapsed": false,
    "pycharm": {
     "name": "#%%\n"
    }
   }
  },
  {
   "cell_type": "markdown",
   "id": "71063f4c",
   "metadata": {},
   "source": [
    "### Snow Shoes\n",
    "\n",
    "**Give Snow Shoes to a random Player in your Team's Lineup.**\n",
    "\n",
    "This would award a random batter with the Snow Shoes Item. Exact stat changes are unknown but this is likely the same\n",
    "as the Rocket Shoes. Assuming this, see below for estimated stat changes."
   ]
  },
  {
   "cell_type": "code",
   "execution_count": 11,
   "outputs": [
    {
     "data": {
      "text/plain": "<pandas.io.formats.style.Styler at 0x1a065a27ca0>",
      "text/html": "<style type=\"text/css\">\n#T_ba1bb_row0_col0 {\n  background-color: #57b65f;\n  color: #f1f1f1;\n}\n#T_ba1bb_row0_col1, #T_ba1bb_row1_col0, #T_ba1bb_row1_col1, #T_ba1bb_row2_col1, #T_ba1bb_row2_col2, #T_ba1bb_row4_col0, #T_ba1bb_row4_col1, #T_ba1bb_row4_col2, #T_ba1bb_row5_col0, #T_ba1bb_row5_col1, #T_ba1bb_row6_col0, #T_ba1bb_row6_col1, #T_ba1bb_row6_col2, #T_ba1bb_row7_col0, #T_ba1bb_row7_col1 {\n  background-color: #006837;\n  color: #f1f1f1;\n}\n#T_ba1bb_row0_col2 {\n  background-color: #bfe47a;\n  color: #000000;\n}\n#T_ba1bb_row0_col3 {\n  background-color: #db382b;\n  color: #f1f1f1;\n}\n#T_ba1bb_row0_col4 {\n  background-color: #fee999;\n  color: #000000;\n}\n#T_ba1bb_row0_col5 {\n  background-color: #cfeb85;\n  color: #000000;\n}\n#T_ba1bb_row1_col2, #T_ba1bb_row3_col2 {\n  background-color: #93d168;\n  color: #000000;\n}\n#T_ba1bb_row1_col3 {\n  background-color: #e75337;\n  color: #f1f1f1;\n}\n#T_ba1bb_row1_col4 {\n  background-color: #3faa59;\n  color: #f1f1f1;\n}\n#T_ba1bb_row1_col5 {\n  background-color: #219c52;\n  color: #f1f1f1;\n}\n#T_ba1bb_row2_col0 {\n  background-color: #15904c;\n  color: #f1f1f1;\n}\n#T_ba1bb_row2_col3 {\n  background-color: #fed07e;\n  color: #000000;\n}\n#T_ba1bb_row2_col4 {\n  background-color: #fff8b4;\n  color: #000000;\n}\n#T_ba1bb_row2_col5 {\n  background-color: #b1de71;\n  color: #000000;\n}\n#T_ba1bb_row3_col0 {\n  background-color: #8ccd67;\n  color: #000000;\n}\n#T_ba1bb_row3_col1 {\n  background-color: #7ac665;\n  color: #000000;\n}\n#T_ba1bb_row3_col3 {\n  background-color: #fee08b;\n  color: #000000;\n}\n#T_ba1bb_row3_col4, #T_ba1bb_row5_col3 {\n  background-color: #73c264;\n  color: #000000;\n}\n#T_ba1bb_row3_col5 {\n  background-color: #5ab760;\n  color: #f1f1f1;\n}\n#T_ba1bb_row4_col3 {\n  background-color: #cdea83;\n  color: #000000;\n}\n#T_ba1bb_row4_col4 {\n  background-color: #1b9950;\n  color: #f1f1f1;\n}\n#T_ba1bb_row4_col5 {\n  background-color: #30a356;\n  color: #f1f1f1;\n}\n#T_ba1bb_row5_col2, #T_ba1bb_row6_col5 {\n  background-color: #d3ec87;\n  color: #000000;\n}\n#T_ba1bb_row5_col4 {\n  background-color: #48ae5c;\n  color: #f1f1f1;\n}\n#T_ba1bb_row5_col5 {\n  background-color: #f98e52;\n  color: #f1f1f1;\n}\n#T_ba1bb_row6_col3 {\n  background-color: #3ca959;\n  color: #f1f1f1;\n}\n#T_ba1bb_row6_col4 {\n  background-color: #118848;\n  color: #f1f1f1;\n}\n#T_ba1bb_row7_col2 {\n  background-color: #097940;\n  color: #f1f1f1;\n}\n#T_ba1bb_row7_col3 {\n  background-color: #fbfdba;\n  color: #000000;\n}\n#T_ba1bb_row7_col4 {\n  background-color: #06733d;\n  color: #f1f1f1;\n}\n#T_ba1bb_row7_col5, #T_ba1bb_row8_col4 {\n  background-color: #fede89;\n  color: #000000;\n}\n#T_ba1bb_row8_col0 {\n  background-color: #42ac5a;\n  color: #f1f1f1;\n}\n#T_ba1bb_row8_col1 {\n  background-color: #036e3a;\n  color: #f1f1f1;\n}\n#T_ba1bb_row8_col2 {\n  background-color: #d1ec86;\n  color: #000000;\n}\n#T_ba1bb_row8_col3 {\n  background-color: #0d8044;\n  color: #f1f1f1;\n}\n#T_ba1bb_row8_col5 {\n  background-color: #2aa054;\n  color: #f1f1f1;\n}\n</style>\n<table id=\"T_ba1bb_\">\n  <thead>\n    <tr>\n      <th class=\"blank level0\" >&nbsp;</th>\n      <th class=\"col_heading level0 col0\" >Baserunning Rating</th>\n      <th class=\"col_heading level0 col1\" >Laserlikeness</th>\n      <th class=\"col_heading level0 col2\" >Continuation</th>\n      <th class=\"col_heading level0 col3\" >Base Thirst</th>\n      <th class=\"col_heading level0 col4\" >Indulgence</th>\n      <th class=\"col_heading level0 col5\" >Ground Friction</th>\n    </tr>\n  </thead>\n  <tbody>\n    <tr>\n      <th id=\"T_ba1bb_level0_row0\" class=\"row_heading level0 row0\" >Clay Dickens</th>\n      <td id=\"T_ba1bb_row0_col0\" class=\"data row0 col0\" >0.819151</td>\n      <td id=\"T_ba1bb_row0_col1\" class=\"data row0 col1\" >1.472158</td>\n      <td id=\"T_ba1bb_row0_col2\" class=\"data row0 col2\" >0.650055</td>\n      <td id=\"T_ba1bb_row0_col3\" class=\"data row0 col3\" >0.114187</td>\n      <td id=\"T_ba1bb_row0_col4\" class=\"data row0 col4\" >0.428636</td>\n      <td id=\"T_ba1bb_row0_col5\" class=\"data row0 col5\" >0.618321</td>\n    </tr>\n    <tr>\n      <th id=\"T_ba1bb_level0_row1\" class=\"row_heading level0 row1\" >Brooke Honeywell</th>\n      <td id=\"T_ba1bb_row1_col0\" class=\"data row1 col0\" >1.017572</td>\n      <td id=\"T_ba1bb_row1_col1\" class=\"data row1 col1\" >1.685112</td>\n      <td id=\"T_ba1bb_row1_col2\" class=\"data row1 col2\" >0.729888</td>\n      <td id=\"T_ba1bb_row1_col3\" class=\"data row1 col3\" >0.158863</td>\n      <td id=\"T_ba1bb_row1_col4\" class=\"data row1 col4\" >0.850181</td>\n      <td id=\"T_ba1bb_row1_col5\" class=\"data row1 col5\" >0.888626</td>\n    </tr>\n    <tr>\n      <th id=\"T_ba1bb_level0_row2\" class=\"row_heading level0 row2\" >Nikola Honeycrisp</th>\n      <td id=\"T_ba1bb_row2_col0\" class=\"data row2 col0\" >0.916671</td>\n      <td id=\"T_ba1bb_row2_col1\" class=\"data row2 col1\" >1.264665</td>\n      <td id=\"T_ba1bb_row2_col2\" class=\"data row2 col2\" >1.076051</td>\n      <td id=\"T_ba1bb_row2_col3\" class=\"data row2 col3\" >0.370823</td>\n      <td id=\"T_ba1bb_row2_col4\" class=\"data row2 col4\" >0.478473</td>\n      <td id=\"T_ba1bb_row2_col5\" class=\"data row2 col5\" >0.678266</td>\n    </tr>\n    <tr>\n      <th id=\"T_ba1bb_level0_row3\" class=\"row_heading level0 row3\" >Goo Macy</th>\n      <td id=\"T_ba1bb_row3_col0\" class=\"data row3 col0\" >0.740684</td>\n      <td id=\"T_ba1bb_row3_col1\" class=\"data row3 col1\" >0.768652</td>\n      <td id=\"T_ba1bb_row3_col2\" class=\"data row3 col2\" >0.727164</td>\n      <td id=\"T_ba1bb_row3_col3\" class=\"data row3 col3\" >0.401508</td>\n      <td id=\"T_ba1bb_row3_col4\" class=\"data row3 col4\" >0.778012</td>\n      <td id=\"T_ba1bb_row3_col5\" class=\"data row3 col5\" >0.815391</td>\n    </tr>\n    <tr>\n      <th id=\"T_ba1bb_level0_row4\" class=\"row_heading level0 row4\" >Antonio Osako</th>\n      <td id=\"T_ba1bb_row4_col0\" class=\"data row4 col0\" >1.188545</td>\n      <td id=\"T_ba1bb_row4_col1\" class=\"data row4 col1\" >1.509777</td>\n      <td id=\"T_ba1bb_row4_col2\" class=\"data row4 col2\" >1.473717</td>\n      <td id=\"T_ba1bb_row4_col3\" class=\"data row4 col3\" >0.623910</td>\n      <td id=\"T_ba1bb_row4_col4\" class=\"data row4 col4\" >0.897741</td>\n      <td id=\"T_ba1bb_row4_col5\" class=\"data row4 col5\" >0.868770</td>\n    </tr>\n    <tr>\n      <th id=\"T_ba1bb_level0_row5\" class=\"row_heading level0 row5\" >Mac Rialto</th>\n      <td id=\"T_ba1bb_row5_col0\" class=\"data row5 col0\" >1.029874</td>\n      <td id=\"T_ba1bb_row5_col1\" class=\"data row5 col1\" >1.678413</td>\n      <td id=\"T_ba1bb_row5_col2\" class=\"data row5 col2\" >0.611827</td>\n      <td id=\"T_ba1bb_row5_col3\" class=\"data row5 col3\" >0.779554</td>\n      <td id=\"T_ba1bb_row5_col4\" class=\"data row5 col4\" >0.836661</td>\n      <td id=\"T_ba1bb_row5_col5\" class=\"data row5 col5\" >0.252536</td>\n    </tr>\n    <tr>\n      <th id=\"T_ba1bb_level0_row6\" class=\"row_heading level0 row6\" >Pop Winter</th>\n      <td id=\"T_ba1bb_row6_col0\" class=\"data row6 col0\" >1.020795</td>\n      <td id=\"T_ba1bb_row6_col1\" class=\"data row6 col1\" >1.148175</td>\n      <td id=\"T_ba1bb_row6_col2\" class=\"data row6 col2\" >1.267032</td>\n      <td id=\"T_ba1bb_row6_col3\" class=\"data row6 col3\" >0.854419</td>\n      <td id=\"T_ba1bb_row6_col4\" class=\"data row6 col4\" >0.932568</td>\n      <td id=\"T_ba1bb_row6_col5\" class=\"data row6 col5\" >0.609827</td>\n    </tr>\n    <tr>\n      <th id=\"T_ba1bb_level0_row7\" class=\"row_heading level0 row7\" >Metric Wobin</th>\n      <td id=\"T_ba1bb_row7_col0\" class=\"data row7 col0\" >1.059702</td>\n      <td id=\"T_ba1bb_row7_col1\" class=\"data row7 col1\" >1.565919</td>\n      <td id=\"T_ba1bb_row7_col2\" class=\"data row7 col2\" >0.963357</td>\n      <td id=\"T_ba1bb_row7_col3\" class=\"data row7 col3\" >0.511178</td>\n      <td id=\"T_ba1bb_row7_col4\" class=\"data row7 col4\" >0.973742</td>\n      <td id=\"T_ba1bb_row7_col5\" class=\"data row7 col5\" >0.395537</td>\n    </tr>\n    <tr>\n      <th id=\"T_ba1bb_level0_row8\" class=\"row_heading level0 row8\" >Tall Everts</th>\n      <td id=\"T_ba1bb_row8_col0\" class=\"data row8 col0\" >0.846690</td>\n      <td id=\"T_ba1bb_row8_col1\" class=\"data row8 col1\" >0.986377</td>\n      <td id=\"T_ba1bb_row8_col2\" class=\"data row8 col2\" >0.615156</td>\n      <td id=\"T_ba1bb_row8_col3\" class=\"data row8 col3\" >0.946885</td>\n      <td id=\"T_ba1bb_row8_col4\" class=\"data row8 col4\" >0.397840</td>\n      <td id=\"T_ba1bb_row8_col5\" class=\"data row8 col5\" >0.875056</td>\n    </tr>\n  </tbody>\n</table>\n"
     },
     "execution_count": 11,
     "metadata": {},
     "output_type": "execute_result"
    }
   ],
   "source": [
    "new_lineup = []\n",
    "for player in pies.lineup:\n",
    "    new_lineup.append(player.simulated_copy(buffs=\n",
    "                                         {'laserlikeness': 0.7352479438825257,\n",
    "                                          'tenaciousness': 0.18846089786002318,\n",
    "                                          'chasiness': 0.17397007472834686,\n",
    "                                          'continuation': 0.36907020559415343,\n",
    "                                          'base_thirst': 0.3980900812170812,\n",
    "                                          'indulgence': 0.18520160996281987}))\n",
    "\n",
    "set_heatmap(get_baserunning_stlats(new_lineup), maxVal=1.0)\n",
    "# 971353de-05f9-47b2-8c27-62b666f182af"
   ],
   "metadata": {
    "collapsed": false,
    "pycharm": {
     "name": "#%%\n"
    }
   }
  },
  {
   "cell_type": "markdown",
   "id": "303e0a17",
   "metadata": {},
   "source": [
    "### Catcher's Mittens\n",
    "\n",
    "**Give Catcher's Mittens to a random Player in your Team's Lineup.**\n",
    "\n",
    "This would award a random batter with the Catcher's Mittens Item. Exact stat changes are unknown but this is likely the same\n",
    "as the Catcher's Mitt. Assuming this, see below for estimated stat changes."
   ]
  },
  {
   "cell_type": "code",
   "execution_count": 12,
   "outputs": [
    {
     "data": {
      "text/plain": "<pandas.io.formats.style.Styler at 0x1a07f197820>",
      "text/html": "<style type=\"text/css\">\n#T_fd65c_row0_col0, #T_fd65c_row0_col1, #T_fd65c_row0_col2, #T_fd65c_row1_col3, #T_fd65c_row2_col1, #T_fd65c_row3_col1, #T_fd65c_row4_col1, #T_fd65c_row4_col2, #T_fd65c_row5_col0, #T_fd65c_row5_col1, #T_fd65c_row5_col3, #T_fd65c_row5_col5, #T_fd65c_row6_col1, #T_fd65c_row6_col5, #T_fd65c_row7_col1, #T_fd65c_row7_col2, #T_fd65c_row8_col1, #T_fd65c_row8_col5 {\n  background-color: #006837;\n  color: #f1f1f1;\n}\n#T_fd65c_row0_col3, #T_fd65c_row2_col2 {\n  background-color: #6ec064;\n  color: #000000;\n}\n#T_fd65c_row0_col4 {\n  background-color: #097940;\n  color: #f1f1f1;\n}\n#T_fd65c_row0_col5 {\n  background-color: #04703b;\n  color: #f1f1f1;\n}\n#T_fd65c_row1_col0 {\n  background-color: #a7d96b;\n  color: #000000;\n}\n#T_fd65c_row1_col1 {\n  background-color: #57b65f;\n  color: #f1f1f1;\n}\n#T_fd65c_row1_col2 {\n  background-color: #c7e77f;\n  color: #000000;\n}\n#T_fd65c_row1_col4 {\n  background-color: #dc3b2c;\n  color: #f1f1f1;\n}\n#T_fd65c_row1_col5 {\n  background-color: #48ae5c;\n  color: #f1f1f1;\n}\n#T_fd65c_row2_col0 {\n  background-color: #118848;\n  color: #f1f1f1;\n}\n#T_fd65c_row2_col3 {\n  background-color: #0b7d42;\n  color: #f1f1f1;\n}\n#T_fd65c_row2_col4, #T_fd65c_row5_col2 {\n  background-color: #15904c;\n  color: #f1f1f1;\n}\n#T_fd65c_row2_col5 {\n  background-color: #5db961;\n  color: #f1f1f1;\n}\n#T_fd65c_row3_col0 {\n  background-color: #b9e176;\n  color: #000000;\n}\n#T_fd65c_row3_col2 {\n  background-color: #7dc765;\n  color: #000000;\n}\n#T_fd65c_row3_col3 {\n  background-color: #feeb9d;\n  color: #000000;\n}\n#T_fd65c_row3_col4 {\n  background-color: #c62027;\n  color: #f1f1f1;\n}\n#T_fd65c_row3_col5 {\n  background-color: #7fc866;\n  color: #000000;\n}\n#T_fd65c_row4_col0 {\n  background-color: #199750;\n  color: #f1f1f1;\n}\n#T_fd65c_row4_col3 {\n  background-color: #e0f295;\n  color: #000000;\n}\n#T_fd65c_row4_col4 {\n  background-color: #f67a49;\n  color: #f1f1f1;\n}\n#T_fd65c_row4_col5 {\n  background-color: #a2d76a;\n  color: #000000;\n}\n#T_fd65c_row5_col4 {\n  background-color: #b1de71;\n  color: #000000;\n}\n#T_fd65c_row6_col0 {\n  background-color: #84ca66;\n  color: #000000;\n}\n#T_fd65c_row6_col2 {\n  background-color: #c9e881;\n  color: #000000;\n}\n#T_fd65c_row6_col3 {\n  background-color: #36a657;\n  color: #f1f1f1;\n}\n#T_fd65c_row6_col4 {\n  background-color: #e0422f;\n  color: #f1f1f1;\n}\n#T_fd65c_row7_col0 {\n  background-color: #279f53;\n  color: #f1f1f1;\n}\n#T_fd65c_row7_col3 {\n  background-color: #249d53;\n  color: #f1f1f1;\n}\n#T_fd65c_row7_col4 {\n  background-color: #fed07e;\n  color: #000000;\n}\n#T_fd65c_row7_col5 {\n  background-color: #feefa3;\n  color: #000000;\n}\n#T_fd65c_row8_col0 {\n  background-color: #07753e;\n  color: #f1f1f1;\n}\n#T_fd65c_row8_col2 {\n  background-color: #18954f;\n  color: #f1f1f1;\n}\n#T_fd65c_row8_col3 {\n  background-color: #69be63;\n  color: #f1f1f1;\n}\n#T_fd65c_row8_col4 {\n  background-color: #fff7b2;\n  color: #000000;\n}\n</style>\n<table id=\"T_fd65c_\">\n  <thead>\n    <tr>\n      <th class=\"blank level0\" >&nbsp;</th>\n      <th class=\"col_heading level0 col0\" >Defense Rating</th>\n      <th class=\"col_heading level0 col1\" >Omniscience</th>\n      <th class=\"col_heading level0 col2\" >Tenaciousness</th>\n      <th class=\"col_heading level0 col3\" >Watchfulness</th>\n      <th class=\"col_heading level0 col4\" >Anticapitalism</th>\n      <th class=\"col_heading level0 col5\" >Chasiness</th>\n    </tr>\n  </thead>\n  <tbody>\n    <tr>\n      <th id=\"T_fd65c_level0_row0\" class=\"row_heading level0 row0\" >Clay Dickens</th>\n      <td id=\"T_fd65c_row0_col0\" class=\"data row0 col0\" >1.138808</td>\n      <td id=\"T_fd65c_row0_col1\" class=\"data row0 col1\" >1.507439</td>\n      <td id=\"T_fd65c_row0_col2\" class=\"data row0 col2\" >1.469564</td>\n      <td id=\"T_fd65c_row0_col3\" class=\"data row0 col3\" >0.787671</td>\n      <td id=\"T_fd65c_row0_col4\" class=\"data row0 col4\" >0.964567</td>\n      <td id=\"T_fd65c_row0_col5\" class=\"data row0 col5\" >0.983949</td>\n    </tr>\n    <tr>\n      <th id=\"T_fd65c_level0_row1\" class=\"row_heading level0 row1\" >Brooke Honeywell</th>\n      <td id=\"T_fd65c_row1_col0\" class=\"data row1 col0\" >0.698159</td>\n      <td id=\"T_fd65c_row1_col1\" class=\"data row1 col1\" >0.819959</td>\n      <td id=\"T_fd65c_row1_col2\" class=\"data row1 col2\" >0.636695</td>\n      <td id=\"T_fd65c_row1_col3\" class=\"data row1 col3\" >1.026178</td>\n      <td id=\"T_fd65c_row1_col4\" class=\"data row1 col4\" >0.117439</td>\n      <td id=\"T_fd65c_row1_col5\" class=\"data row1 col5\" >0.837653</td>\n    </tr>\n    <tr>\n      <th id=\"T_fd65c_level0_row2\" class=\"row_heading level0 row2\" >Nikola Honeycrisp</th>\n      <td id=\"T_fd65c_row2_col0\" class=\"data row2 col0\" >0.932442</td>\n      <td id=\"T_fd65c_row2_col1\" class=\"data row2 col1\" >1.062422</td>\n      <td id=\"T_fd65c_row2_col2\" class=\"data row2 col2\" >0.787681</td>\n      <td id=\"T_fd65c_row2_col3\" class=\"data row2 col3\" >0.953797</td>\n      <td id=\"T_fd65c_row2_col4\" class=\"data row2 col4\" >0.917052</td>\n      <td id=\"T_fd65c_row2_col5\" class=\"data row2 col5\" >0.811098</td>\n    </tr>\n    <tr>\n      <th id=\"T_fd65c_level0_row3\" class=\"row_heading level0 row3\" >Goo Macy</th>\n      <td id=\"T_fd65c_row3_col0\" class=\"data row3 col0\" >0.661725</td>\n      <td id=\"T_fd65c_row3_col1\" class=\"data row3 col1\" >1.089038</td>\n      <td id=\"T_fd65c_row3_col2\" class=\"data row3 col2\" >0.763914</td>\n      <td id=\"T_fd65c_row3_col3\" class=\"data row3 col3\" >0.436899</td>\n      <td id=\"T_fd65c_row3_col4\" class=\"data row3 col4\" >0.069982</td>\n      <td id=\"T_fd65c_row3_col5\" class=\"data row3 col5\" >0.760736</td>\n    </tr>\n    <tr>\n      <th id=\"T_fd65c_level0_row4\" class=\"row_heading level0 row4\" >Antonio Osako</th>\n      <td id=\"T_fd65c_row4_col0\" class=\"data row4 col0\" >0.901376</td>\n      <td id=\"T_fd65c_row4_col1\" class=\"data row4 col1\" >1.561170</td>\n      <td id=\"T_fd65c_row4_col2\" class=\"data row4 col2\" >1.266235</td>\n      <td id=\"T_fd65c_row4_col3\" class=\"data row4 col3\" >0.578661</td>\n      <td id=\"T_fd65c_row4_col4\" class=\"data row4 col4\" >0.222640</td>\n      <td id=\"T_fd65c_row4_col5\" class=\"data row4 col5\" >0.703238</td>\n    </tr>\n    <tr>\n      <th id=\"T_fd65c_level0_row5\" class=\"row_heading level0 row5\" >Mac Rialto</th>\n      <td id=\"T_fd65c_row5_col0\" class=\"data row5 col0\" >1.011579</td>\n      <td id=\"T_fd65c_row5_col1\" class=\"data row5 col1\" >1.243546</td>\n      <td id=\"T_fd65c_row5_col2\" class=\"data row5 col2\" >0.916516</td>\n      <td id=\"T_fd65c_row5_col3\" class=\"data row5 col3\" >1.000767</td>\n      <td id=\"T_fd65c_row5_col4\" class=\"data row5 col4\" >0.679064</td>\n      <td id=\"T_fd65c_row5_col5\" class=\"data row5 col5\" >1.271013</td>\n    </tr>\n    <tr>\n      <th id=\"T_fd65c_level0_row6\" class=\"row_heading level0 row6\" >Pop Winter</th>\n      <td id=\"T_fd65c_row6_col0\" class=\"data row6 col0\" >0.751173</td>\n      <td id=\"T_fd65c_row6_col1\" class=\"data row6 col1\" >1.119571</td>\n      <td id=\"T_fd65c_row6_col2\" class=\"data row6 col2\" >0.630270</td>\n      <td id=\"T_fd65c_row6_col3\" class=\"data row6 col3\" >0.859933</td>\n      <td id=\"T_fd65c_row6_col4\" class=\"data row6 col4\" >0.130644</td>\n      <td id=\"T_fd65c_row6_col5\" class=\"data row6 col5\" >1.022562</td>\n    </tr>\n    <tr>\n      <th id=\"T_fd65c_level0_row7\" class=\"row_heading level0 row7\" >Metric Wobin</th>\n      <td id=\"T_fd65c_row7_col0\" class=\"data row7 col0\" >0.882537</td>\n      <td id=\"T_fd65c_row7_col1\" class=\"data row7 col1\" >1.045975</td>\n      <td id=\"T_fd65c_row7_col2\" class=\"data row7 col2\" >1.334355</td>\n      <td id=\"T_fd65c_row7_col3\" class=\"data row7 col3\" >0.885820</td>\n      <td id=\"T_fd65c_row7_col4\" class=\"data row7 col4\" >0.370819</td>\n      <td id=\"T_fd65c_row7_col5\" class=\"data row7 col5\" >0.447959</td>\n    </tr>\n    <tr>\n      <th id=\"T_fd65c_level0_row8\" class=\"row_heading level0 row8\" >Tall Everts</th>\n      <td id=\"T_fd65c_row8_col0\" class=\"data row8 col0\" >0.971013</td>\n      <td id=\"T_fd65c_row8_col1\" class=\"data row8 col1\" >1.552245</td>\n      <td id=\"T_fd65c_row8_col2\" class=\"data row8 col2\" >0.905864</td>\n      <td id=\"T_fd65c_row8_col3\" class=\"data row8 col3\" >0.794178</td>\n      <td id=\"T_fd65c_row8_col4\" class=\"data row8 col4\" >0.473370</td>\n      <td id=\"T_fd65c_row8_col5\" class=\"data row8 col5\" >1.002504</td>\n    </tr>\n  </tbody>\n</table>\n"
     },
     "execution_count": 12,
     "metadata": {},
     "output_type": "execute_result"
    }
   ],
   "source": [
    "new_lineup = []\n",
    "for player in pies.lineup:\n",
    "    new_lineup.append(player.simulated_copy(buffs=\n",
    "                                         {'omniscience': 0.7417557342177603,\n",
    "                                          'tenaciousness': 0.5530520529042229,\n",
    "                                          'watchfulness': 0.29585140345474525,\n",
    "                                          'indulgence': 0.1362837137461368,\n",
    "                                          'coldness': 0.11847071954893859,\n",
    "                                          'chasiness': 0.25232444207782545}))\n",
    "\n",
    "set_heatmap(get_defense_stlats(new_lineup), maxVal=1.0)\n",
    "# 488be339-eee0-4b01-b6ce-717bee78237f"
   ],
   "metadata": {
    "collapsed": false,
    "pycharm": {
     "name": "#%%\n"
    }
   }
  },
  {
   "cell_type": "markdown",
   "id": "8a693fd0",
   "metadata": {},
   "source": [
    "\n",
    "---\n",
    "## Appendix\n",
    "* [Description of Attributes](https://www.blaseball.wiki/w/Player_Attributes)\n",
    "* [Stlat Viewer](https://blaseballplayers.netlify.app/team/9a2f6bb9-c72c-437c-a3c4-e076dc5d10d4)\n",
    "* [Historical Player Graphs](http://yoori.space/hloroscopes/)"
   ]
  }
 ],
 "metadata": {
  "kernelspec": {
   "name": "python3",
   "language": "python",
   "display_name": "Python 3 (ipykernel)"
  }
 },
 "nbformat": 4,
 "nbformat_minor": 5
}