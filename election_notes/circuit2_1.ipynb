{
 "cells": [
  {
   "cell_type": "markdown",
   "id": "dc5361dc",
   "metadata": {},
   "source": [
    "# Short Circuit 2: Season 1 Election Notes\n",
    "\n",
    ">**FORBIDDEN KNOWLEDGE WARNING**\n",
    ">\n",
    ">This document contains some information that is not currently present on the main site and may be considered spoilers.\n",
    ">Continue at your own discretion. Some information in this document cannot be shared on the Discord without spoiler tags.\n"
   ]
  },
  {
   "cell_type": "code",
   "execution_count": 13,
   "id": "6b243a31",
   "metadata": {},
   "outputs": [
    {
     "data": {
      "text/plain": "<IPython.core.display.Markdown object>",
      "text/markdown": "**Last Updated Season 1, Day 107**"
     },
     "metadata": {},
     "output_type": "display_data"
    }
   ],
   "source": [
    "import pandas\n",
    "%matplotlib inline\n",
    "from blaseball_mike.models import *\n",
    "from blaseball_mike.tables import StatType\n",
    "import plotly.io as _pio\n",
    "from IPython.display import display, Markdown\n",
    "from copy import deepcopy\n",
    "\n",
    "import os\n",
    "import sys\n",
    "pdir = os.path.abspath(os.path.join(os.path.dirname(''), os.path.pardir))\n",
    "sys.path.append(pdir)\n",
    "from display import *\n",
    "from blessings import *\n",
    "sys.path.remove(pdir)\n",
    "\n",
    "pandas.options.plotting.backend = \"plotly\"\n",
    "_pio.renderers.default = \"notebook_connected\"\n",
    "\n",
    "league = League.load()\n",
    "pies = [x for x in league.teams.values() if x.full_name == \"Philly Pies\"][0]\n",
    "\n",
    "sim = SimulationData.load()\n",
    "display(Markdown(f\"**Last Updated Season {sim.season}, Day {sim.day}**\"))"
   ]
  },
  {
   "cell_type": "markdown",
   "id": "2a061310",
   "metadata": {},
   "source": [
    "---\n",
    "## Amplifications\n",
    "\n",
    "Amplification are chosen by majority votes for each team. Each team will receive `1` amplification.\n",
    "\n",
    "\n",
    "**Your Team's Lineup will receive a Small Batting Boost.**\n",
    "\n",
    "**Your Team's Rotation will receive a Small Pitching Boost.**\n",
    "\n",
    "**Your Team's Lineup will receive a Large Baserunning Boost.**\n",
    "\n",
    "**Your Team's Lineup will receive a Large Defense Boost.**\n",
    "\n",
    "All the Amplifications will boost team-wide stats in one area. They boost a random player attribute for a random\n",
    "player by 0.01 a fixed number of times, depending on boost size. See below for estimated change.\n"
   ]
  },
  {
   "cell_type": "code",
   "execution_count": 14,
   "outputs": [
    {
     "data": {
      "text/plain": "<IPython.core.display.Markdown object>",
      "text/markdown": "###Muscle Warmers"
     },
     "metadata": {},
     "output_type": "display_data"
    },
    {
     "data": {
      "text/plain": "                   old_batting_stars  new_batting_stars  \\\nClay Dickens                2.439227           2.676188   \nBrooke Honeywell            1.880090           2.150655   \nNikola Honeycrisp           3.887638           4.376814   \nGoo Macy                    2.629904           2.859861   \nAntonio Osako               3.577766           3.791796   \nMac Rialto                  1.542154           1.846787   \nPop Winter                  3.268766           3.469600   \nMetric Wobin                0.986419           1.242352   \nTall Everts                 2.627001           2.883728   \n\n                   change_in_batting_stars  \nClay Dickens                      0.236961  \nBrooke Honeywell                  0.270565  \nNikola Honeycrisp                 0.489175  \nGoo Macy                          0.229957  \nAntonio Osako                     0.214030  \nMac Rialto                        0.304633  \nPop Winter                        0.200835  \nMetric Wobin                      0.255933  \nTall Everts                       0.256726  ",
      "text/html": "<div>\n<style scoped>\n    .dataframe tbody tr th:only-of-type {\n        vertical-align: middle;\n    }\n\n    .dataframe tbody tr th {\n        vertical-align: top;\n    }\n\n    .dataframe thead th {\n        text-align: right;\n    }\n</style>\n<table border=\"1\" class=\"dataframe\">\n  <thead>\n    <tr style=\"text-align: right;\">\n      <th></th>\n      <th>old_batting_stars</th>\n      <th>new_batting_stars</th>\n      <th>change_in_batting_stars</th>\n    </tr>\n  </thead>\n  <tbody>\n    <tr>\n      <th>Clay Dickens</th>\n      <td>2.439227</td>\n      <td>2.676188</td>\n      <td>0.236961</td>\n    </tr>\n    <tr>\n      <th>Brooke Honeywell</th>\n      <td>1.880090</td>\n      <td>2.150655</td>\n      <td>0.270565</td>\n    </tr>\n    <tr>\n      <th>Nikola Honeycrisp</th>\n      <td>3.887638</td>\n      <td>4.376814</td>\n      <td>0.489175</td>\n    </tr>\n    <tr>\n      <th>Goo Macy</th>\n      <td>2.629904</td>\n      <td>2.859861</td>\n      <td>0.229957</td>\n    </tr>\n    <tr>\n      <th>Antonio Osako</th>\n      <td>3.577766</td>\n      <td>3.791796</td>\n      <td>0.214030</td>\n    </tr>\n    <tr>\n      <th>Mac Rialto</th>\n      <td>1.542154</td>\n      <td>1.846787</td>\n      <td>0.304633</td>\n    </tr>\n    <tr>\n      <th>Pop Winter</th>\n      <td>3.268766</td>\n      <td>3.469600</td>\n      <td>0.200835</td>\n    </tr>\n    <tr>\n      <th>Metric Wobin</th>\n      <td>0.986419</td>\n      <td>1.242352</td>\n      <td>0.255933</td>\n    </tr>\n    <tr>\n      <th>Tall Everts</th>\n      <td>2.627001</td>\n      <td>2.883728</td>\n      <td>0.256726</td>\n    </tr>\n  </tbody>\n</table>\n</div>"
     },
     "metadata": {},
     "output_type": "display_data"
    },
    {
     "data": {
      "text/plain": "                         Team Average\nold_batting_stars            2.537663\nnew_batting_stars            2.810865\nchange_in_batting_stars      0.273202",
      "text/html": "<div>\n<style scoped>\n    .dataframe tbody tr th:only-of-type {\n        vertical-align: middle;\n    }\n\n    .dataframe tbody tr th {\n        vertical-align: top;\n    }\n\n    .dataframe thead th {\n        text-align: right;\n    }\n</style>\n<table border=\"1\" class=\"dataframe\">\n  <thead>\n    <tr style=\"text-align: right;\">\n      <th></th>\n      <th>Team Average</th>\n    </tr>\n  </thead>\n  <tbody>\n    <tr>\n      <th>old_batting_stars</th>\n      <td>2.537663</td>\n    </tr>\n    <tr>\n      <th>new_batting_stars</th>\n      <td>2.810865</td>\n    </tr>\n    <tr>\n      <th>change_in_batting_stars</th>\n      <td>0.273202</td>\n    </tr>\n  </tbody>\n</table>\n</div>"
     },
     "metadata": {},
     "output_type": "display_data"
    },
    {
     "data": {
      "text/plain": "<pandas.io.formats.style.Styler at 0x207e7d5fd00>",
      "text/html": "<style type=\"text/css\">\n#T_53900_row0_col0 {\n  background-color: #f1f9ac;\n  color: #000000;\n}\n#T_53900_row0_col1 {\n  background-color: #addc6f;\n  color: #000000;\n}\n#T_53900_row0_col2 {\n  background-color: #cbe982;\n  color: #000000;\n}\n#T_53900_row0_col3 {\n  background-color: #e65036;\n  color: #f1f1f1;\n}\n#T_53900_row0_col4 {\n  background-color: #f46d43;\n  color: #f1f1f1;\n}\n#T_53900_row0_col5 {\n  background-color: #93d168;\n  color: #000000;\n  background-color: #fa9b58;\n  color: #000000;\n}\n#T_53900_row0_col6, #T_53900_row0_col8, #T_53900_row2_col2, #T_53900_row2_col3, #T_53900_row2_col6, #T_53900_row2_col8, #T_53900_row3_col2, #T_53900_row3_col6, #T_53900_row5_col8, #T_53900_row6_col6, #T_53900_row7_col6, #T_53900_row8_col2, #T_53900_row8_col4 {\n  background-color: #006837;\n  color: #f1f1f1;\n}\n#T_53900_row0_col7 {\n  background-color: #feda86;\n  color: #000000;\n  background-color: #d3ec87;\n  color: #000000;\n}\n#T_53900_row1_col0 {\n  background-color: #feea9b;\n  color: #000000;\n}\n#T_53900_row1_col1 {\n  background-color: #199750;\n  color: #f1f1f1;\n}\n#T_53900_row1_col2 {\n  background-color: #ec5c3b;\n  color: #f1f1f1;\n}\n#T_53900_row1_col3 {\n  background-color: #f57245;\n  color: #f1f1f1;\n}\n#T_53900_row1_col4 {\n  background-color: #fffab6;\n  color: #000000;\n}\n#T_53900_row1_col5 {\n  background-color: #e14430;\n  color: #f1f1f1;\n  background-color: #33a456;\n  color: #f1f1f1;\n}\n#T_53900_row1_col6 {\n  background-color: #78c565;\n  color: #000000;\n}\n#T_53900_row1_col7 {\n  background-color: #bde379;\n  color: #000000;\n  background-color: #fdc574;\n  color: #000000;\n}\n#T_53900_row1_col8 {\n  background-color: #69be63;\n  color: #f1f1f1;\n}\n#T_53900_row2_col0 {\n  background-color: #2aa054;\n  color: #f1f1f1;\n}\n#T_53900_row2_col1 {\n  background-color: #016a38;\n  color: #f1f1f1;\n}\n#T_53900_row2_col4, #T_53900_row4_col2 {\n  background-color: #45ad5b;\n  color: #f1f1f1;\n}\n#T_53900_row2_col5 {\n  background-color: #108647;\n  color: #f1f1f1;\n  background-color: #c41e27;\n  color: #f1f1f1;\n}\n#T_53900_row2_col7, #T_53900_row5_col7 {\n  background-color: #0a7b41;\n  color: #f1f1f1;\n  background-color: #b91326;\n  color: #f1f1f1;\n}\n#T_53900_row3_col0 {\n  background-color: #e3f399;\n  color: #000000;\n}\n#T_53900_row3_col1, #T_53900_row5_col3 {\n  background-color: #fcaa5f;\n  color: #000000;\n}\n#T_53900_row3_col3 {\n  background-color: #feeb9d;\n  color: #000000;\n}\n#T_53900_row3_col4 {\n  background-color: #fffcba;\n  color: #000000;\n}\n#T_53900_row3_col5 {\n  background-color: #f67f4b;\n  color: #f1f1f1;\n  background-color: #78c565;\n  color: #000000;\n}\n#T_53900_row3_col7 {\n  background-color: #87cb67;\n  color: #000000;\n  background-color: #f98e52;\n  color: #f1f1f1;\n}\n#T_53900_row3_col8 {\n  background-color: #f57547;\n  color: #f1f1f1;\n}\n#T_53900_row4_col0, #T_53900_row6_col4 {\n  background-color: #7fc866;\n  color: #000000;\n}\n#T_53900_row4_col1 {\n  background-color: #0a7b41;\n  color: #f1f1f1;\n}\n#T_53900_row4_col3 {\n  background-color: #fdad60;\n  color: #000000;\n}\n#T_53900_row4_col4 {\n  background-color: #75c465;\n  color: #000000;\n}\n#T_53900_row4_col5 {\n  background-color: #bfe47a;\n  color: #000000;\n  background-color: #fdc776;\n  color: #000000;\n}\n#T_53900_row4_col6 {\n  background-color: #f36b42;\n  color: #f1f1f1;\n}\n#T_53900_row4_col7 {\n  background-color: #fafdb8;\n  color: #000000;\n  background-color: #fffbb8;\n  color: #000000;\n}\n#T_53900_row4_col8 {\n  background-color: #51b35e;\n  color: #f1f1f1;\n}\n#T_53900_row5_col0 {\n  background-color: #fed07e;\n  color: #000000;\n}\n#T_53900_row5_col1, #T_53900_row8_col6 {\n  background-color: #ed5f3c;\n  color: #f1f1f1;\n}\n#T_53900_row5_col2 {\n  background-color: #b7e075;\n  color: #000000;\n}\n#T_53900_row5_col4 {\n  background-color: #7ac665;\n  color: #000000;\n}\n#T_53900_row5_col5 {\n  background-color: #3faa59;\n  color: #f1f1f1;\n  background-color: #e54e35;\n  color: #f1f1f1;\n}\n#T_53900_row5_col6 {\n  background-color: #d9ef8b;\n  color: #000000;\n}\n#T_53900_row6_col0 {\n  background-color: #a9da6c;\n  color: #000000;\n}\n#T_53900_row6_col1 {\n  background-color: #fbfdba;\n  color: #000000;\n}\n#T_53900_row6_col2 {\n  background-color: #0e8245;\n  color: #f1f1f1;\n}\n#T_53900_row6_col3 {\n  background-color: #f5fbb2;\n  color: #000000;\n}\n#T_53900_row6_col5 {\n  background-color: #ecf7a6;\n  color: #000000;\n  background-color: #fff0a6;\n  color: #000000;\n}\n#T_53900_row6_col7 {\n  background-color: #e54e35;\n  color: #f1f1f1;\n  background-color: #3faa59;\n  color: #f1f1f1;\n}\n#T_53900_row6_col8 {\n  background-color: #60ba62;\n  color: #f1f1f1;\n}\n#T_53900_row7_col0, #T_53900_row8_col1 {\n  background-color: #f88c51;\n  color: #f1f1f1;\n}\n#T_53900_row7_col1 {\n  background-color: #f8864f;\n  color: #f1f1f1;\n}\n#T_53900_row7_col2 {\n  background-color: #dd3d2d;\n  color: #f1f1f1;\n}\n#T_53900_row7_col3 {\n  background-color: #097940;\n  color: #f1f1f1;\n}\n#T_53900_row7_col4 {\n  background-color: #ecf7a6;\n  color: #000000;\n}\n#T_53900_row7_col5 {\n  background-color: #30a356;\n  color: #f1f1f1;\n  background-color: #e0422f;\n  color: #f1f1f1;\n}\n#T_53900_row7_col7 {\n  background-color: #a2d76a;\n  color: #000000;\n  background-color: #fcaa5f;\n  color: #000000;\n}\n#T_53900_row7_col8 {\n  background-color: #fff1a8;\n  color: #000000;\n}\n#T_53900_row8_col0 {\n  background-color: #e2f397;\n  color: #000000;\n}\n#T_53900_row8_col3 {\n  background-color: #128a49;\n  color: #f1f1f1;\n}\n#T_53900_row8_col5 {\n  background-color: #f7844e;\n  color: #f1f1f1;\n  background-color: #7dc765;\n  color: #000000;\n}\n#T_53900_row8_col7 {\n  background-color: #279f53;\n  color: #f1f1f1;\n  background-color: #dc3b2c;\n  color: #f1f1f1;\n}\n#T_53900_row8_col8 {\n  background-color: #f98e52;\n  color: #f1f1f1;\n}\n</style>\n<table id=\"T_53900_\">\n  <thead>\n    <tr>\n      <th class=\"blank level0\" >&nbsp;</th>\n      <th class=\"col_heading level0 col0\" >Batting Rating</th>\n      <th class=\"col_heading level0 col1\" >Thwackability</th>\n      <th class=\"col_heading level0 col2\" >Divinity</th>\n      <th class=\"col_heading level0 col3\" >Musclitude</th>\n      <th class=\"col_heading level0 col4\" >Moxie</th>\n      <th class=\"col_heading level0 col5\" >Patheticism</th>\n      <th class=\"col_heading level0 col6\" >Martyrdom</th>\n      <th class=\"col_heading level0 col7\" >Tragicness</th>\n      <th class=\"col_heading level0 col8\" >Buoyancy</th>\n    </tr>\n  </thead>\n  <tbody>\n    <tr>\n      <th id=\"T_53900_level0_row0\" class=\"row_heading level0 row0\" >Clay Dickens</th>\n      <td id=\"T_53900_row0_col0\" class=\"data row0 col0\" >0.535238</td>\n      <td id=\"T_53900_row0_col1\" class=\"data row0 col1\" >0.687349</td>\n      <td id=\"T_53900_row0_col2\" class=\"data row0 col2\" >0.626298</td>\n      <td id=\"T_53900_row0_col3\" class=\"data row0 col3\" >0.154435</td>\n      <td id=\"T_53900_row0_col4\" class=\"data row0 col4\" >0.199828</td>\n      <td id=\"T_53900_row0_col5\" class=\"data row0 col5\" >0.727200</td>\n      <td id=\"T_53900_row0_col6\" class=\"data row0 col6\" >1.036732</td>\n      <td id=\"T_53900_row0_col7\" class=\"data row0 col7\" >0.390428</td>\n      <td id=\"T_53900_row0_col8\" class=\"data row0 col8\" >1.069009</td>\n    </tr>\n    <tr>\n      <th id=\"T_53900_level0_row1\" class=\"row_heading level0 row1\" >Brooke Honeywell</th>\n      <td id=\"T_53900_row1_col0\" class=\"data row1 col0\" >0.430131</td>\n      <td id=\"T_53900_row1_col1\" class=\"data row1 col1\" >0.901189</td>\n      <td id=\"T_53900_row1_col2\" class=\"data row1 col2\" >0.174032</td>\n      <td id=\"T_53900_row1_col3\" class=\"data row1 col3\" >0.207968</td>\n      <td id=\"T_53900_row1_col4\" class=\"data row1 col4\" >0.484113</td>\n      <td id=\"T_53900_row1_col5\" class=\"data row1 col5\" >0.134948</td>\n      <td id=\"T_53900_row1_col6\" class=\"data row1 col6\" >0.772606</td>\n      <td id=\"T_53900_row1_col7\" class=\"data row1 col7\" >0.656179</td>\n      <td id=\"T_53900_row1_col8\" class=\"data row1 col8\" >0.796058</td>\n    </tr>\n    <tr>\n      <th id=\"T_53900_level0_row2\" class=\"row_heading level0 row2\" >Nikola Honeycrisp</th>\n      <td id=\"T_53900_row2_col0\" class=\"data row2 col0\" >0.875363</td>\n      <td id=\"T_53900_row2_col1\" class=\"data row2 col1\" >0.995488</td>\n      <td id=\"T_53900_row2_col2\" class=\"data row2 col2\" >1.143514</td>\n      <td id=\"T_53900_row2_col3\" class=\"data row2 col3\" >1.019943</td>\n      <td id=\"T_53900_row2_col4\" class=\"data row2 col4\" >0.840879</td>\n      <td id=\"T_53900_row2_col5\" class=\"data row2 col5\" >0.934481</td>\n      <td id=\"T_53900_row2_col6\" class=\"data row2 col6\" >1.064928</td>\n      <td id=\"T_53900_row2_col7\" class=\"data row2 col7\" >0.959000</td>\n      <td id=\"T_53900_row2_col8\" class=\"data row2 col8\" >1.165638</td>\n    </tr>\n    <tr>\n      <th id=\"T_53900_level0_row3\" class=\"row_heading level0 row3\" >Goo Macy</th>\n      <td id=\"T_53900_row3_col0\" class=\"data row3 col0\" >0.571972</td>\n      <td id=\"T_53900_row3_col1\" class=\"data row3 col1\" >0.293765</td>\n      <td id=\"T_53900_row3_col2\" class=\"data row3 col2\" >1.035457</td>\n      <td id=\"T_53900_row3_col3\" class=\"data row3 col3\" >0.434587</td>\n      <td id=\"T_53900_row3_col4\" class=\"data row3 col4\" >0.490212</td>\n      <td id=\"T_53900_row3_col5\" class=\"data row3 col5\" >0.226829</td>\n      <td id=\"T_53900_row3_col6\" class=\"data row3 col6\" >1.025561</td>\n      <td id=\"T_53900_row3_col7\" class=\"data row3 col7\" >0.748170</td>\n      <td id=\"T_53900_row3_col8\" class=\"data row3 col8\" >0.212120</td>\n    </tr>\n    <tr>\n      <th id=\"T_53900_level0_row4\" class=\"row_heading level0 row4\" >Antonio Osako</th>\n      <td id=\"T_53900_row4_col0\" class=\"data row4 col0\" >0.758359</td>\n      <td id=\"T_53900_row4_col1\" class=\"data row4 col1\" >0.960493</td>\n      <td id=\"T_53900_row4_col2\" class=\"data row4 col2\" >0.839975</td>\n      <td id=\"T_53900_row4_col3\" class=\"data row4 col3\" >0.299588</td>\n      <td id=\"T_53900_row4_col4\" class=\"data row4 col4\" >0.775398</td>\n      <td id=\"T_53900_row4_col5\" class=\"data row4 col5\" >0.649525</td>\n      <td id=\"T_53900_row4_col6\" class=\"data row4 col6\" >0.198710</td>\n      <td id=\"T_53900_row4_col7\" class=\"data row4 col7\" >0.514949</td>\n      <td id=\"T_53900_row4_col8\" class=\"data row4 col8\" >0.824385</td>\n    </tr>\n    <tr>\n      <th id=\"T_53900_level0_row5\" class=\"row_heading level0 row5\" >Mac Rialto</th>\n      <td id=\"T_53900_row5_col0\" class=\"data row5 col0\" >0.369357</td>\n      <td id=\"T_53900_row5_col1\" class=\"data row5 col1\" >0.176963</td>\n      <td id=\"T_53900_row5_col2\" class=\"data row5 col2\" >0.667069</td>\n      <td id=\"T_53900_row5_col3\" class=\"data row5 col3\" >0.296228</td>\n      <td id=\"T_53900_row5_col4\" class=\"data row5 col4\" >0.767757</td>\n      <td id=\"T_53900_row5_col5\" class=\"data row5 col5\" >0.850233</td>\n      <td id=\"T_53900_row5_col6\" class=\"data row5 col6\" >0.600189</td>\n      <td id=\"T_53900_row5_col7\" class=\"data row5 col7\" >0.959000</td>\n      <td id=\"T_53900_row5_col8\" class=\"data row5 col8\" >1.092002</td>\n    </tr>\n    <tr>\n      <th id=\"T_53900_level0_row6\" class=\"row_heading level0 row6\" >Pop Winter</th>\n      <td id=\"T_53900_row6_col0\" class=\"data row6 col0\" >0.693920</td>\n      <td id=\"T_53900_row6_col1\" class=\"data row6 col1\" >0.510862</td>\n      <td id=\"T_53900_row6_col2\" class=\"data row6 col2\" >0.941972</td>\n      <td id=\"T_53900_row6_col3\" class=\"data row6 col3\" >0.524460</td>\n      <td id=\"T_53900_row6_col4\" class=\"data row6 col4\" >0.757834</td>\n      <td id=\"T_53900_row6_col5\" class=\"data row6 col5\" >0.547990</td>\n      <td id=\"T_53900_row6_col6\" class=\"data row6 col6\" >1.058987</td>\n      <td id=\"T_53900_row6_col7\" class=\"data row6 col7\" >0.151163</td>\n      <td id=\"T_53900_row6_col8\" class=\"data row6 col8\" >0.807398</td>\n    </tr>\n    <tr>\n      <th id=\"T_53900_level0_row7\" class=\"row_heading level0 row7\" >Metric Wobin</th>\n      <td id=\"T_53900_row7_col0\" class=\"data row7 col0\" >0.248470</td>\n      <td id=\"T_53900_row7_col1\" class=\"data row7 col1\" >0.240442</td>\n      <td id=\"T_53900_row7_col2\" class=\"data row7 col2\" >0.122910</td>\n      <td id=\"T_53900_row7_col3\" class=\"data row7 col3\" >0.962308</td>\n      <td id=\"T_53900_row7_col4\" class=\"data row7 col4\" >0.549623</td>\n      <td id=\"T_53900_row7_col5\" class=\"data row7 col5\" >0.868542</td>\n      <td id=\"T_53900_row7_col6\" class=\"data row7 col6\" >1.080728</td>\n      <td id=\"T_53900_row7_col7\" class=\"data row7 col7\" >0.705025</td>\n      <td id=\"T_53900_row7_col8\" class=\"data row7 col8\" >0.455128</td>\n    </tr>\n    <tr>\n      <th id=\"T_53900_level0_row8\" class=\"row_heading level0 row8\" >Tall Everts</th>\n      <td id=\"T_53900_row8_col0\" class=\"data row8 col0\" >0.576746</td>\n      <td id=\"T_53900_row8_col1\" class=\"data row8 col1\" >0.249957</td>\n      <td id=\"T_53900_row8_col2\" class=\"data row8 col2\" >1.011677</td>\n      <td id=\"T_53900_row8_col3\" class=\"data row8 col3\" >0.926056</td>\n      <td id=\"T_53900_row8_col4\" class=\"data row8 col4\" >1.083930</td>\n      <td id=\"T_53900_row8_col5\" class=\"data row8 col5\" >0.235210</td>\n      <td id=\"T_53900_row8_col6\" class=\"data row8 col6\" >0.176665</td>\n      <td id=\"T_53900_row8_col7\" class=\"data row8 col7\" >0.881870</td>\n      <td id=\"T_53900_row8_col8\" class=\"data row8 col8\" >0.252665</td>\n    </tr>\n  </tbody>\n</table>\n"
     },
     "metadata": {},
     "output_type": "display_data"
    }
   ],
   "source": [
    "display(Markdown(\"###Muscle Warmers\"))\n",
    "new_lineup = []\n",
    "for player in pies.lineup:\n",
    "    new_lineup.append(player.simulated_copy(buffs={'batting_rating':0.04}))\n",
    "\n",
    "out, _, avg = improve_team_batting_table(pies, 0.04)\n",
    "display(out)\n",
    "display(pandas.DataFrame(avg, columns=[\"Team Average\"]))\n",
    "display(set_heatmap(get_batting_stlats(new_lineup), maxVal=1.0))"
   ],
   "metadata": {
    "collapsed": false,
    "pycharm": {
     "name": "#%%\n"
    }
   }
  },
  {
   "cell_type": "code",
   "execution_count": 15,
   "outputs": [
    {
     "data": {
      "text/plain": "<IPython.core.display.Markdown object>",
      "text/markdown": "###Hand Warmers"
     },
     "metadata": {},
     "output_type": "display_data"
    },
    {
     "data": {
      "text/plain": "               old_pitching_stars  new_pitching_stars  \\\nPierce Blue              1.166339            1.565313   \nNia Joelson              1.131840            1.577306   \nCoby Rhodes              2.087836            2.464393   \nEmmanuel Cole            3.817708            4.243184   \nDee Spice                1.349261            1.831815   \n\n               change_in_pitching_stars  \nPierce Blue                    0.398974  \nNia Joelson                    0.445466  \nCoby Rhodes                    0.376557  \nEmmanuel Cole                  0.425476  \nDee Spice                      0.482554  ",
      "text/html": "<div>\n<style scoped>\n    .dataframe tbody tr th:only-of-type {\n        vertical-align: middle;\n    }\n\n    .dataframe tbody tr th {\n        vertical-align: top;\n    }\n\n    .dataframe thead th {\n        text-align: right;\n    }\n</style>\n<table border=\"1\" class=\"dataframe\">\n  <thead>\n    <tr style=\"text-align: right;\">\n      <th></th>\n      <th>old_pitching_stars</th>\n      <th>new_pitching_stars</th>\n      <th>change_in_pitching_stars</th>\n    </tr>\n  </thead>\n  <tbody>\n    <tr>\n      <th>Pierce Blue</th>\n      <td>1.166339</td>\n      <td>1.565313</td>\n      <td>0.398974</td>\n    </tr>\n    <tr>\n      <th>Nia Joelson</th>\n      <td>1.131840</td>\n      <td>1.577306</td>\n      <td>0.445466</td>\n    </tr>\n    <tr>\n      <th>Coby Rhodes</th>\n      <td>2.087836</td>\n      <td>2.464393</td>\n      <td>0.376557</td>\n    </tr>\n    <tr>\n      <th>Emmanuel Cole</th>\n      <td>3.817708</td>\n      <td>4.243184</td>\n      <td>0.425476</td>\n    </tr>\n    <tr>\n      <th>Dee Spice</th>\n      <td>1.349261</td>\n      <td>1.831815</td>\n      <td>0.482554</td>\n    </tr>\n  </tbody>\n</table>\n</div>"
     },
     "metadata": {},
     "output_type": "display_data"
    },
    {
     "data": {
      "text/plain": "                          Team Average\nold_pitching_stars            1.910597\nnew_pitching_stars            2.336402\nchange_in_pitching_stars      0.425805",
      "text/html": "<div>\n<style scoped>\n    .dataframe tbody tr th:only-of-type {\n        vertical-align: middle;\n    }\n\n    .dataframe tbody tr th {\n        vertical-align: top;\n    }\n\n    .dataframe thead th {\n        text-align: right;\n    }\n</style>\n<table border=\"1\" class=\"dataframe\">\n  <thead>\n    <tr style=\"text-align: right;\">\n      <th></th>\n      <th>Team Average</th>\n    </tr>\n  </thead>\n  <tbody>\n    <tr>\n      <th>old_pitching_stars</th>\n      <td>1.910597</td>\n    </tr>\n    <tr>\n      <th>new_pitching_stars</th>\n      <td>2.336402</td>\n    </tr>\n    <tr>\n      <th>change_in_pitching_stars</th>\n      <td>0.425805</td>\n    </tr>\n  </tbody>\n</table>\n</div>"
     },
     "metadata": {},
     "output_type": "display_data"
    },
    {
     "data": {
      "text/plain": "<pandas.io.formats.style.Styler at 0x207e7625400>",
      "text/html": "<style type=\"text/css\">\n#T_b3571_row0_col0, #T_b3571_row1_col0, #T_b3571_row1_col4 {\n  background-color: #fdb567;\n  color: #000000;\n}\n#T_b3571_row0_col1 {\n  background-color: #f57547;\n  color: #f1f1f1;\n}\n#T_b3571_row0_col2 {\n  background-color: #feefa3;\n  color: #000000;\n}\n#T_b3571_row0_col3 {\n  background-color: #138c4a;\n  color: #f1f1f1;\n}\n#T_b3571_row0_col4 {\n  background-color: #82c966;\n  color: #000000;\n}\n#T_b3571_row0_col5, #T_b3571_row1_col6, #T_b3571_row4_col0 {\n  background-color: #fece7c;\n  color: #000000;\n}\n#T_b3571_row0_col6 {\n  background-color: #fee999;\n  color: #000000;\n}\n#T_b3571_row1_col1 {\n  background-color: #ee613e;\n  color: #f1f1f1;\n}\n#T_b3571_row1_col2 {\n  background-color: #73c264;\n  color: #000000;\n}\n#T_b3571_row1_col3 {\n  background-color: #91d068;\n  color: #000000;\n}\n#T_b3571_row1_col5 {\n  background-color: #f98e52;\n  color: #f1f1f1;\n}\n#T_b3571_row2_col0 {\n  background-color: #fffdbc;\n  color: #000000;\n}\n#T_b3571_row2_col1 {\n  background-color: #feeda1;\n  color: #000000;\n}\n#T_b3571_row2_col2, #T_b3571_row4_col5 {\n  background-color: #d1ec86;\n  color: #000000;\n}\n#T_b3571_row2_col3 {\n  background-color: #249d53;\n  color: #f1f1f1;\n}\n#T_b3571_row2_col4 {\n  background-color: #fff3ac;\n  color: #000000;\n}\n#T_b3571_row2_col5 {\n  background-color: #cbe982;\n  color: #000000;\n}\n#T_b3571_row2_col6 {\n  background-color: #6ec064;\n  color: #000000;\n}\n#T_b3571_row3_col0 {\n  background-color: #3faa59;\n  color: #f1f1f1;\n}\n#T_b3571_row3_col1 {\n  background-color: #006837;\n  color: #f1f1f1;\n}\n#T_b3571_row3_col2 {\n  background-color: #0a7b41;\n  color: #f1f1f1;\n}\n#T_b3571_row3_col3 {\n  background-color: #60ba62;\n  color: #f1f1f1;\n}\n#T_b3571_row3_col4 {\n  background-color: #fed07e;\n  color: #000000;\n}\n#T_b3571_row3_col5 {\n  background-color: #fed884;\n  color: #000000;\n}\n#T_b3571_row3_col6 {\n  background-color: #fee797;\n  color: #000000;\n}\n#T_b3571_row4_col1 {\n  background-color: #45ad5b;\n  color: #f1f1f1;\n}\n#T_b3571_row4_col2 {\n  background-color: #eb5a3a;\n  color: #f1f1f1;\n}\n#T_b3571_row4_col3 {\n  background-color: #c3e67d;\n  color: #000000;\n}\n#T_b3571_row4_col4 {\n  background-color: #fa9656;\n  color: #000000;\n}\n#T_b3571_row4_col6 {\n  background-color: #db382b;\n  color: #f1f1f1;\n}\n</style>\n<table id=\"T_b3571_\">\n  <thead>\n    <tr>\n      <th class=\"blank level0\" >&nbsp;</th>\n      <th class=\"col_heading level0 col0\" >Pitching Rating</th>\n      <th class=\"col_heading level0 col1\" >Unthwackability</th>\n      <th class=\"col_heading level0 col2\" >Ruthlessness</th>\n      <th class=\"col_heading level0 col3\" >Overpowerment</th>\n      <th class=\"col_heading level0 col4\" >Shakespearianism</th>\n      <th class=\"col_heading level0 col5\" >Coldness</th>\n      <th class=\"col_heading level0 col6\" >Suppression</th>\n    </tr>\n  </thead>\n  <tbody>\n    <tr>\n      <th id=\"T_b3571_level0_row0\" class=\"row_heading level0 row0\" >Pierce Blue</th>\n      <td id=\"T_b3571_row0_col0\" class=\"data row0 col0\" >0.313063</td>\n      <td id=\"T_b3571_row0_col1\" class=\"data row0 col1\" >0.213229</td>\n      <td id=\"T_b3571_row0_col2\" class=\"data row0 col2\" >0.445352</td>\n      <td id=\"T_b3571_row0_col3\" class=\"data row0 col3\" >0.922265</td>\n      <td id=\"T_b3571_row0_col4\" class=\"data row0 col4\" >0.757343</td>\n      <td id=\"T_b3571_row0_col5\" class=\"data row0 col5\" >0.365386</td>\n      <td id=\"T_b3571_row0_col6\" class=\"data row0 col6\" >0.427881</td>\n    </tr>\n    <tr>\n      <th id=\"T_b3571_level0_row1\" class=\"row_heading level0 row1\" >Nia Joelson</th>\n      <td id=\"T_b3571_row1_col0\" class=\"data row1 col0\" >0.315461</td>\n      <td id=\"T_b3571_row1_col1\" class=\"data row1 col1\" >0.180330</td>\n      <td id=\"T_b3571_row1_col2\" class=\"data row1 col2\" >0.780038</td>\n      <td id=\"T_b3571_row1_col3\" class=\"data row1 col3\" >0.730507</td>\n      <td id=\"T_b3571_row1_col4\" class=\"data row1 col4\" >0.312607</td>\n      <td id=\"T_b3571_row1_col5\" class=\"data row1 col5\" >0.251714</td>\n      <td id=\"T_b3571_row1_col6\" class=\"data row1 col6\" >0.365137</td>\n    </tr>\n    <tr>\n      <th id=\"T_b3571_level0_row2\" class=\"row_heading level0 row2\" >Coby Rhodes</th>\n      <td id=\"T_b3571_row2_col0\" class=\"data row2 col0\" >0.492879</td>\n      <td id=\"T_b3571_row2_col1\" class=\"data row2 col1\" >0.444480</td>\n      <td id=\"T_b3571_row2_col2\" class=\"data row2 col2\" >0.614122</td>\n      <td id=\"T_b3571_row2_col3\" class=\"data row2 col3\" >0.885607</td>\n      <td id=\"T_b3571_row2_col4\" class=\"data row2 col4\" >0.462557</td>\n      <td id=\"T_b3571_row2_col5\" class=\"data row2 col5\" >0.625702</td>\n      <td id=\"T_b3571_row2_col6\" class=\"data row2 col6\" >0.787024</td>\n    </tr>\n    <tr>\n      <th id=\"T_b3571_level0_row3\" class=\"row_heading level0 row3\" >Emmanuel Cole</th>\n      <td id=\"T_b3571_row3_col0\" class=\"data row3 col0\" >0.848637</td>\n      <td id=\"T_b3571_row3_col1\" class=\"data row3 col1\" >1.017226</td>\n      <td id=\"T_b3571_row3_col2\" class=\"data row3 col2\" >0.958511</td>\n      <td id=\"T_b3571_row3_col3\" class=\"data row3 col3\" >0.807814</td>\n      <td id=\"T_b3571_row3_col4\" class=\"data row3 col4\" >0.368356</td>\n      <td id=\"T_b3571_row3_col5\" class=\"data row3 col5\" >0.385510</td>\n      <td id=\"T_b3571_row3_col6\" class=\"data row3 col6\" >0.424805</td>\n    </tr>\n    <tr>\n      <th id=\"T_b3571_level0_row4\" class=\"row_heading level0 row4\" >Dee Spice</th>\n      <td id=\"T_b3571_row4_col0\" class=\"data row4 col0\" >0.366363</td>\n      <td id=\"T_b3571_row4_col1\" class=\"data row4 col1\" >0.842418</td>\n      <td id=\"T_b3571_row4_col2\" class=\"data row4 col2\" >0.170476</td>\n      <td id=\"T_b3571_row4_col3\" class=\"data row4 col3\" >0.644373</td>\n      <td id=\"T_b3571_row4_col4\" class=\"data row4 col4\" >0.265220</td>\n      <td id=\"T_b3571_row4_col5\" class=\"data row4 col5\" >0.616646</td>\n      <td id=\"T_b3571_row4_col6\" class=\"data row4 col6\" >0.113472</td>\n    </tr>\n  </tbody>\n</table>\n"
     },
     "metadata": {},
     "output_type": "display_data"
    }
   ],
   "source": [
    "display(Markdown(\"###Hand Warmers\"))\n",
    "new_rotation = []\n",
    "for player in pies.rotation:\n",
    "    new_rotation.append(player.simulated_copy(buffs={'pitching_rating':0.07}))\n",
    "\n",
    "out, _, avg = improve_team_pitching_table(pies, 0.07)\n",
    "display(out)\n",
    "display(pandas.DataFrame(avg, columns=[\"Team Average\"]))\n",
    "display(set_heatmap(get_pitching_stlats(new_rotation), maxVal=1.0))"
   ],
   "metadata": {
    "collapsed": false,
    "pycharm": {
     "name": "#%%\n"
    }
   }
  },
  {
   "cell_type": "code",
   "execution_count": 16,
   "outputs": [
    {
     "data": {
      "text/plain": "<IPython.core.display.Markdown object>",
      "text/markdown": "###Foot Warmers"
     },
     "metadata": {},
     "output_type": "display_data"
    },
    {
     "data": {
      "text/plain": "                   old_baserunning_stars  new_baserunning_stars  \\\nClay Dickens                    2.511674               3.147261   \nBrooke Honeywell                3.517108               4.122402   \nNikola Honeycrisp               2.693956               3.234787   \nGoo Macy                        0.845845               1.667049   \nAntonio Osako                   4.094116               4.601384   \nMac Rialto                      3.474482               4.057195   \nPop Winter                      3.037791               3.575523   \nMetric Wobin                    3.654924               4.179047   \nTall Everts                     1.876917               2.473811   \n\n                   change_in_baserunning_stars  \nClay Dickens                          0.635587  \nBrooke Honeywell                      0.605294  \nNikola Honeycrisp                     0.540831  \nGoo Macy                              0.821204  \nAntonio Osako                         0.507267  \nMac Rialto                            0.582712  \nPop Winter                            0.537733  \nMetric Wobin                          0.524123  \nTall Everts                           0.596894  ",
      "text/html": "<div>\n<style scoped>\n    .dataframe tbody tr th:only-of-type {\n        vertical-align: middle;\n    }\n\n    .dataframe tbody tr th {\n        vertical-align: top;\n    }\n\n    .dataframe thead th {\n        text-align: right;\n    }\n</style>\n<table border=\"1\" class=\"dataframe\">\n  <thead>\n    <tr style=\"text-align: right;\">\n      <th></th>\n      <th>old_baserunning_stars</th>\n      <th>new_baserunning_stars</th>\n      <th>change_in_baserunning_stars</th>\n    </tr>\n  </thead>\n  <tbody>\n    <tr>\n      <th>Clay Dickens</th>\n      <td>2.511674</td>\n      <td>3.147261</td>\n      <td>0.635587</td>\n    </tr>\n    <tr>\n      <th>Brooke Honeywell</th>\n      <td>3.517108</td>\n      <td>4.122402</td>\n      <td>0.605294</td>\n    </tr>\n    <tr>\n      <th>Nikola Honeycrisp</th>\n      <td>2.693956</td>\n      <td>3.234787</td>\n      <td>0.540831</td>\n    </tr>\n    <tr>\n      <th>Goo Macy</th>\n      <td>0.845845</td>\n      <td>1.667049</td>\n      <td>0.821204</td>\n    </tr>\n    <tr>\n      <th>Antonio Osako</th>\n      <td>4.094116</td>\n      <td>4.601384</td>\n      <td>0.507267</td>\n    </tr>\n    <tr>\n      <th>Mac Rialto</th>\n      <td>3.474482</td>\n      <td>4.057195</td>\n      <td>0.582712</td>\n    </tr>\n    <tr>\n      <th>Pop Winter</th>\n      <td>3.037791</td>\n      <td>3.575523</td>\n      <td>0.537733</td>\n    </tr>\n    <tr>\n      <th>Metric Wobin</th>\n      <td>3.654924</td>\n      <td>4.179047</td>\n      <td>0.524123</td>\n    </tr>\n    <tr>\n      <th>Tall Everts</th>\n      <td>1.876917</td>\n      <td>2.473811</td>\n      <td>0.596894</td>\n    </tr>\n  </tbody>\n</table>\n</div>"
     },
     "metadata": {},
     "output_type": "display_data"
    },
    {
     "data": {
      "text/plain": "                             Team Average\nold_baserunning_stars            2.856313\nnew_baserunning_stars            3.450940\nchange_in_baserunning_stars      0.594627",
      "text/html": "<div>\n<style scoped>\n    .dataframe tbody tr th:only-of-type {\n        vertical-align: middle;\n    }\n\n    .dataframe tbody tr th {\n        vertical-align: top;\n    }\n\n    .dataframe thead th {\n        text-align: right;\n    }\n</style>\n<table border=\"1\" class=\"dataframe\">\n  <thead>\n    <tr style=\"text-align: right;\">\n      <th></th>\n      <th>Team Average</th>\n    </tr>\n  </thead>\n  <tbody>\n    <tr>\n      <th>old_baserunning_stars</th>\n      <td>2.856313</td>\n    </tr>\n    <tr>\n      <th>new_baserunning_stars</th>\n      <td>3.450940</td>\n    </tr>\n    <tr>\n      <th>change_in_baserunning_stars</th>\n      <td>0.594627</td>\n    </tr>\n  </tbody>\n</table>\n</div>"
     },
     "metadata": {},
     "output_type": "display_data"
    },
    {
     "data": {
      "text/plain": "<pandas.io.formats.style.Styler at 0x207e7d25040>",
      "text/html": "<style type=\"text/css\">\n#T_099df_row0_col0 {\n  background-color: #c9e881;\n  color: #000000;\n}\n#T_099df_row0_col1 {\n  background-color: #42ac5a;\n  color: #f1f1f1;\n}\n#T_099df_row0_col2, #T_099df_row2_col4 {\n  background-color: #fedc88;\n  color: #000000;\n}\n#T_099df_row0_col3 {\n  background-color: #f57748;\n  color: #f1f1f1;\n}\n#T_099df_row0_col4 {\n  background-color: #feca79;\n  color: #000000;\n}\n#T_099df_row0_col5 {\n  background-color: #91d068;\n  color: #000000;\n}\n#T_099df_row1_col0 {\n  background-color: #51b35e;\n  color: #f1f1f1;\n}\n#T_099df_row1_col1, #T_099df_row1_col5, #T_099df_row4_col2, #T_099df_row4_col5, #T_099df_row5_col1, #T_099df_row6_col2, #T_099df_row6_col3, #T_099df_row8_col3, #T_099df_row8_col5 {\n  background-color: #006837;\n  color: #f1f1f1;\n}\n#T_099df_row1_col2, #T_099df_row2_col3 {\n  background-color: #fff8b4;\n  color: #000000;\n}\n#T_099df_row1_col3 {\n  background-color: #fa9b58;\n  color: #000000;\n}\n#T_099df_row1_col4, #T_099df_row5_col4 {\n  background-color: #75c465;\n  color: #000000;\n}\n#T_099df_row2_col0 {\n  background-color: #c1e57b;\n  color: #000000;\n}\n#T_099df_row2_col1 {\n  background-color: #c5e67e;\n  color: #000000;\n}\n#T_099df_row2_col2 {\n  background-color: #57b65f;\n  color: #f1f1f1;\n}\n#T_099df_row2_col5 {\n  background-color: #70c164;\n  color: #000000;\n}\n#T_099df_row3_col0 {\n  background-color: #fdbf6f;\n  color: #000000;\n}\n#T_099df_row3_col1 {\n  background-color: #e75337;\n  color: #f1f1f1;\n}\n#T_099df_row3_col2 {\n  background-color: #fffcba;\n  color: #000000;\n}\n#T_099df_row3_col3 {\n  background-color: #f1f9ac;\n  color: #000000;\n}\n#T_099df_row3_col4, #T_099df_row6_col0 {\n  background-color: #9bd469;\n  color: #000000;\n}\n#T_099df_row3_col5 {\n  background-color: #128a49;\n  color: #f1f1f1;\n}\n#T_099df_row4_col0 {\n  background-color: #148e4b;\n  color: #f1f1f1;\n}\n#T_099df_row4_col1 {\n  background-color: #1b9950;\n  color: #f1f1f1;\n}\n#T_099df_row4_col3 {\n  background-color: #8ecf67;\n  color: #000000;\n}\n#T_099df_row4_col4, #T_099df_row7_col0 {\n  background-color: #4bb05c;\n  color: #f1f1f1;\n}\n#T_099df_row5_col0 {\n  background-color: #5db961;\n  color: #f1f1f1;\n}\n#T_099df_row5_col2 {\n  background-color: #fecc7b;\n  color: #000000;\n}\n#T_099df_row5_col3, #T_099df_row6_col4 {\n  background-color: #249d53;\n  color: #f1f1f1;\n}\n#T_099df_row5_col5, #T_099df_row8_col1, #T_099df_row8_col2 {\n  background-color: #fed07e;\n  color: #000000;\n}\n#T_099df_row6_col1 {\n  background-color: #ebf7a3;\n  color: #000000;\n}\n#T_099df_row6_col5 {\n  background-color: #89cc67;\n  color: #000000;\n}\n#T_099df_row7_col1 {\n  background-color: #0c7f43;\n  color: #f1f1f1;\n}\n#T_099df_row7_col2 {\n  background-color: #93d168;\n  color: #000000;\n}\n#T_099df_row7_col3 {\n  background-color: #c7e77f;\n  color: #000000;\n}\n#T_099df_row7_col4 {\n  background-color: #199750;\n  color: #f1f1f1;\n}\n#T_099df_row7_col5 {\n  background-color: #fafdb8;\n  color: #000000;\n}\n#T_099df_row8_col0 {\n  background-color: #fffdbc;\n  color: #000000;\n}\n#T_099df_row8_col4 {\n  background-color: #fdbd6d;\n  color: #000000;\n}\n</style>\n<table id=\"T_099df_\">\n  <thead>\n    <tr>\n      <th class=\"blank level0\" >&nbsp;</th>\n      <th class=\"col_heading level0 col0\" >Baserunning Rating</th>\n      <th class=\"col_heading level0 col1\" >Laserlikeness</th>\n      <th class=\"col_heading level0 col2\" >Continuation</th>\n      <th class=\"col_heading level0 col3\" >Base Thirst</th>\n      <th class=\"col_heading level0 col4\" >Indulgence</th>\n      <th class=\"col_heading level0 col5\" >Ground Friction</th>\n    </tr>\n  </thead>\n  <tbody>\n    <tr>\n      <th id=\"T_099df_level0_row0\" class=\"row_heading level0 row0\" >Clay Dickens</th>\n      <td id=\"T_099df_row0_col0\" class=\"data row0 col0\" >0.629452</td>\n      <td id=\"T_099df_row0_col1\" class=\"data row0 col1\" >0.846170</td>\n      <td id=\"T_099df_row0_col2\" class=\"data row0 col2\" >0.393409</td>\n      <td id=\"T_099df_row0_col3\" class=\"data row0 col3\" >0.218057</td>\n      <td id=\"T_099df_row0_col4\" class=\"data row0 col4\" >0.358336</td>\n      <td id=\"T_099df_row0_col5\" class=\"data row0 col5\" >0.732207</td>\n    </tr>\n    <tr>\n      <th id=\"T_099df_level0_row1\" class=\"row_heading level0 row1\" >Brooke Honeywell</th>\n      <td id=\"T_099df_row1_col0\" class=\"data row1 col0\" >0.824480</td>\n      <td id=\"T_099df_row1_col1\" class=\"data row1 col1\" >1.075844</td>\n      <td id=\"T_099df_row1_col2\" class=\"data row1 col2\" >0.477038</td>\n      <td id=\"T_099df_row1_col3\" class=\"data row1 col3\" >0.272532</td>\n      <td id=\"T_099df_row1_col4\" class=\"data row1 col4\" >0.775120</td>\n      <td id=\"T_099df_row1_col5\" class=\"data row1 col5\" >0.999350</td>\n    </tr>\n    <tr>\n      <th id=\"T_099df_level0_row2\" class=\"row_heading level0 row2\" >Nikola Honeycrisp</th>\n      <td id=\"T_099df_row2_col0\" class=\"data row2 col0\" >0.646957</td>\n      <td id=\"T_099df_row2_col1\" class=\"data row2 col1\" >0.639417</td>\n      <td id=\"T_099df_row2_col2\" class=\"data row2 col2\" >0.816981</td>\n      <td id=\"T_099df_row2_col3\" class=\"data row2 col3\" >0.476673</td>\n      <td id=\"T_099df_row2_col4\" class=\"data row2 col4\" >0.394106</td>\n      <td id=\"T_099df_row2_col5\" class=\"data row2 col5\" >0.783053</td>\n    </tr>\n    <tr>\n      <th id=\"T_099df_level0_row3\" class=\"row_heading level0 row3\" >Goo Macy</th>\n      <td id=\"T_099df_row3_col0\" class=\"data row3 col0\" >0.333410</td>\n      <td id=\"T_099df_row3_col1\" class=\"data row3 col1\" >0.157267</td>\n      <td id=\"T_099df_row3_col2\" class=\"data row3 col2\" >0.492082</td>\n      <td id=\"T_099df_row3_col3\" class=\"data row3 col3\" >0.538346</td>\n      <td id=\"T_099df_row3_col4\" class=\"data row3 col4\" >0.718580</td>\n      <td id=\"T_099df_row3_col5\" class=\"data row3 col5\" >0.926885</td>\n    </tr>\n    <tr>\n      <th id=\"T_099df_level0_row4\" class=\"row_heading level0 row4\" >Antonio Osako</th>\n      <td id=\"T_099df_row4_col0\" class=\"data row4 col0\" >0.920277</td>\n      <td id=\"T_099df_row4_col1\" class=\"data row4 col1\" >0.898369</td>\n      <td id=\"T_099df_row4_col2\" class=\"data row4 col2\" >1.216798</td>\n      <td id=\"T_099df_row4_col3\" class=\"data row4 col3\" >0.736097</td>\n      <td id=\"T_099df_row4_col4\" class=\"data row4 col4\" >0.833918</td>\n      <td id=\"T_099df_row4_col5\" class=\"data row4 col5\" >0.996859</td>\n    </tr>\n    <tr>\n      <th id=\"T_099df_level0_row5\" class=\"row_heading level0 row5\" >Mac Rialto</th>\n      <td id=\"T_099df_row5_col0\" class=\"data row5 col0\" >0.811439</td>\n      <td id=\"T_099df_row5_col1\" class=\"data row5 col1\" >1.063517</td>\n      <td id=\"T_099df_row5_col2\" class=\"data row5 col2\" >0.361351</td>\n      <td id=\"T_099df_row5_col3\" class=\"data row5 col3\" >0.882971</td>\n      <td id=\"T_099df_row5_col4\" class=\"data row5 col4\" >0.775384</td>\n      <td id=\"T_099df_row5_col5\" class=\"data row5 col5\" >0.367657</td>\n    </tr>\n    <tr>\n      <th id=\"T_099df_level0_row6\" class=\"row_heading level0 row6\" >Pop Winter</th>\n      <td id=\"T_099df_row6_col0\" class=\"data row6 col0\" >0.715105</td>\n      <td id=\"T_099df_row6_col1\" class=\"data row6 col1\" >0.554395</td>\n      <td id=\"T_099df_row6_col2\" class=\"data row6 col2\" >1.012789</td>\n      <td id=\"T_099df_row6_col3\" class=\"data row6 col3\" >0.999978</td>\n      <td id=\"T_099df_row6_col4\" class=\"data row6 col4\" >0.884839</td>\n      <td id=\"T_099df_row6_col5\" class=\"data row6 col5\" >0.745120</td>\n    </tr>\n    <tr>\n      <th id=\"T_099df_level0_row7\" class=\"row_heading level0 row7\" >Metric Wobin</th>\n      <td id=\"T_099df_row7_col0\" class=\"data row7 col0\" >0.835809</td>\n      <td id=\"T_099df_row7_col1\" class=\"data row7 col1\" >0.951777</td>\n      <td id=\"T_099df_row7_col2\" class=\"data row7 col2\" >0.727193</td>\n      <td id=\"T_099df_row7_col3\" class=\"data row7 col3\" >0.633296</td>\n      <td id=\"T_099df_row7_col4\" class=\"data row7 col4\" >0.899930</td>\n      <td id=\"T_099df_row7_col5\" class=\"data row7 col5\" >0.513961</td>\n    </tr>\n    <tr>\n      <th id=\"T_099df_level0_row8\" class=\"row_heading level0 row8\" >Tall Everts</th>\n      <td id=\"T_099df_row8_col0\" class=\"data row8 col0\" >0.494762</td>\n      <td id=\"T_099df_row8_col1\" class=\"data row8 col1\" >0.367946</td>\n      <td id=\"T_099df_row8_col2\" class=\"data row8 col2\" >0.367915</td>\n      <td id=\"T_099df_row8_col3\" class=\"data row8 col3\" >1.055482</td>\n      <td id=\"T_099df_row8_col4\" class=\"data row8 col4\" >0.329866</td>\n      <td id=\"T_099df_row8_col5\" class=\"data row8 col5\" >1.017435</td>\n    </tr>\n  </tbody>\n</table>\n"
     },
     "metadata": {},
     "output_type": "display_data"
    }
   ],
   "source": [
    "display(Markdown(\"###Foot Warmers\"))\n",
    "new_lineup = []\n",
    "for player in pies.lineup:\n",
    "    new_lineup.append(player.simulated_copy(buffs={'baserunning_rating':0.11}))\n",
    "\n",
    "out, _, avg = improve_team_baserunning_table(pies, 0.11)\n",
    "display(out)\n",
    "display(pandas.DataFrame(avg, columns=[\"Team Average\"]))\n",
    "display(set_heatmap(get_baserunning_stlats(new_lineup), maxVal=1.0))"
   ],
   "metadata": {
    "collapsed": false,
    "pycharm": {
     "name": "#%%\n"
    }
   }
  },
  {
   "cell_type": "code",
   "execution_count": 17,
   "outputs": [
    {
     "data": {
      "text/plain": "<IPython.core.display.Markdown object>",
      "text/markdown": "###Eye Warmers"
     },
     "metadata": {},
     "output_type": "display_data"
    },
    {
     "data": {
      "text/plain": "                   old_defense_stars  new_defense_stars  \\\nClay Dickens                4.196164           4.611688   \nBrooke Honeywell            1.409889           2.146843   \nNikola Honeycrisp           2.668918           3.199014   \nGoo Macy                    1.797838           2.422823   \nAntonio Osako               3.229190           3.725610   \nMac Rialto                  3.338071           3.803737   \nPop Winter                  2.016036           2.670456   \nMetric Wobin                2.800125           3.321788   \nTall Everts                 3.293155           3.761849   \nPierce Blue                 2.964692           3.472477   \nNia Joelson                 2.764806           3.544641   \nCoby Rhodes                 1.631262           2.357237   \nEmmanuel Cole               2.154047           2.835176   \nDee Spice                   3.353762           4.189799   \n\n                   change_in_defense_stars  \nClay Dickens                      0.415524  \nBrooke Honeywell                  0.736954  \nNikola Honeycrisp                 0.530096  \nGoo Macy                          0.624985  \nAntonio Osako                     0.496420  \nMac Rialto                        0.465665  \nPop Winter                        0.654420  \nMetric Wobin                      0.521663  \nTall Everts                       0.468693  \nPierce Blue                       0.507785  \nNia Joelson                       0.779835  \nCoby Rhodes                       0.725975  \nEmmanuel Cole                     0.681130  \nDee Spice                         0.836037  ",
      "text/html": "<div>\n<style scoped>\n    .dataframe tbody tr th:only-of-type {\n        vertical-align: middle;\n    }\n\n    .dataframe tbody tr th {\n        vertical-align: top;\n    }\n\n    .dataframe thead th {\n        text-align: right;\n    }\n</style>\n<table border=\"1\" class=\"dataframe\">\n  <thead>\n    <tr style=\"text-align: right;\">\n      <th></th>\n      <th>old_defense_stars</th>\n      <th>new_defense_stars</th>\n      <th>change_in_defense_stars</th>\n    </tr>\n  </thead>\n  <tbody>\n    <tr>\n      <th>Clay Dickens</th>\n      <td>4.196164</td>\n      <td>4.611688</td>\n      <td>0.415524</td>\n    </tr>\n    <tr>\n      <th>Brooke Honeywell</th>\n      <td>1.409889</td>\n      <td>2.146843</td>\n      <td>0.736954</td>\n    </tr>\n    <tr>\n      <th>Nikola Honeycrisp</th>\n      <td>2.668918</td>\n      <td>3.199014</td>\n      <td>0.530096</td>\n    </tr>\n    <tr>\n      <th>Goo Macy</th>\n      <td>1.797838</td>\n      <td>2.422823</td>\n      <td>0.624985</td>\n    </tr>\n    <tr>\n      <th>Antonio Osako</th>\n      <td>3.229190</td>\n      <td>3.725610</td>\n      <td>0.496420</td>\n    </tr>\n    <tr>\n      <th>Mac Rialto</th>\n      <td>3.338071</td>\n      <td>3.803737</td>\n      <td>0.465665</td>\n    </tr>\n    <tr>\n      <th>Pop Winter</th>\n      <td>2.016036</td>\n      <td>2.670456</td>\n      <td>0.654420</td>\n    </tr>\n    <tr>\n      <th>Metric Wobin</th>\n      <td>2.800125</td>\n      <td>3.321788</td>\n      <td>0.521663</td>\n    </tr>\n    <tr>\n      <th>Tall Everts</th>\n      <td>3.293155</td>\n      <td>3.761849</td>\n      <td>0.468693</td>\n    </tr>\n    <tr>\n      <th>Pierce Blue</th>\n      <td>2.964692</td>\n      <td>3.472477</td>\n      <td>0.507785</td>\n    </tr>\n    <tr>\n      <th>Nia Joelson</th>\n      <td>2.764806</td>\n      <td>3.544641</td>\n      <td>0.779835</td>\n    </tr>\n    <tr>\n      <th>Coby Rhodes</th>\n      <td>1.631262</td>\n      <td>2.357237</td>\n      <td>0.725975</td>\n    </tr>\n    <tr>\n      <th>Emmanuel Cole</th>\n      <td>2.154047</td>\n      <td>2.835176</td>\n      <td>0.681130</td>\n    </tr>\n    <tr>\n      <th>Dee Spice</th>\n      <td>3.353762</td>\n      <td>4.189799</td>\n      <td>0.836037</td>\n    </tr>\n  </tbody>\n</table>\n</div>"
     },
     "metadata": {},
     "output_type": "display_data"
    },
    {
     "data": {
      "text/plain": "                         Team Average\nold_defense_stars            2.686997\nnew_defense_stars            3.290224\nchange_in_defense_stars      0.603227",
      "text/html": "<div>\n<style scoped>\n    .dataframe tbody tr th:only-of-type {\n        vertical-align: middle;\n    }\n\n    .dataframe tbody tr th {\n        vertical-align: top;\n    }\n\n    .dataframe thead th {\n        text-align: right;\n    }\n</style>\n<table border=\"1\" class=\"dataframe\">\n  <thead>\n    <tr style=\"text-align: right;\">\n      <th></th>\n      <th>Team Average</th>\n    </tr>\n  </thead>\n  <tbody>\n    <tr>\n      <th>old_defense_stars</th>\n      <td>2.686997</td>\n    </tr>\n    <tr>\n      <th>new_defense_stars</th>\n      <td>3.290224</td>\n    </tr>\n    <tr>\n      <th>change_in_defense_stars</th>\n      <td>0.603227</td>\n    </tr>\n  </tbody>\n</table>\n</div>"
     },
     "metadata": {},
     "output_type": "display_data"
    },
    {
     "data": {
      "text/plain": "<pandas.io.formats.style.Styler at 0x20781582310>",
      "text/html": "<style type=\"text/css\">\n#T_9df62_row0_col0, #T_9df62_row7_col2 {\n  background-color: #138c4a;\n  color: #f1f1f1;\n}\n#T_9df62_row0_col1 {\n  background-color: #279f53;\n  color: #f1f1f1;\n}\n#T_9df62_row0_col2, #T_9df62_row0_col4, #T_9df62_row2_col4, #T_9df62_row5_col5 {\n  background-color: #006837;\n  color: #f1f1f1;\n}\n#T_9df62_row0_col3, #T_9df62_row8_col4 {\n  background-color: #daf08d;\n  color: #000000;\n}\n#T_9df62_row0_col5, #T_9df62_row1_col3 {\n  background-color: #42ac5a;\n  color: #f1f1f1;\n}\n#T_9df62_row1_col0, #T_9df62_row7_col1 {\n  background-color: #fee999;\n  color: #000000;\n}\n#T_9df62_row1_col1 {\n  background-color: #f26841;\n  color: #f1f1f1;\n}\n#T_9df62_row1_col2 {\n  background-color: #f46d43;\n  color: #f1f1f1;\n}\n#T_9df62_row1_col4 {\n  background-color: #f88950;\n  color: #f1f1f1;\n}\n#T_9df62_row1_col5 {\n  background-color: #a7d96b;\n  color: #000000;\n}\n#T_9df62_row2_col0 {\n  background-color: #c5e67e;\n  color: #000000;\n}\n#T_9df62_row2_col1 {\n  background-color: #feea9b;\n  color: #000000;\n}\n#T_9df62_row2_col2, #T_9df62_row4_col4 {\n  background-color: #fdc372;\n  color: #000000;\n}\n#T_9df62_row2_col3 {\n  background-color: #7ac665;\n  color: #000000;\n}\n#T_9df62_row2_col5 {\n  background-color: #b5df74;\n  color: #000000;\n}\n#T_9df62_row3_col0, #T_9df62_row5_col2, #T_9df62_row7_col4 {\n  background-color: #fffbb8;\n  color: #000000;\n}\n#T_9df62_row3_col1 {\n  background-color: #fff3ac;\n  color: #000000;\n}\n#T_9df62_row3_col2 {\n  background-color: #fdbb6c;\n  color: #000000;\n}\n#T_9df62_row3_col3 {\n  background-color: #fa9656;\n  color: #000000;\n}\n#T_9df62_row3_col4 {\n  background-color: #ef633f;\n  color: #f1f1f1;\n}\n#T_9df62_row3_col5 {\n  background-color: #c9e881;\n  color: #000000;\n}\n#T_9df62_row4_col0 {\n  background-color: #89cc67;\n  color: #000000;\n}\n#T_9df62_row4_col1 {\n  background-color: #108647;\n  color: #f1f1f1;\n}\n#T_9df62_row4_col2 {\n  background-color: #3ca959;\n  color: #f1f1f1;\n}\n#T_9df62_row4_col3 {\n  background-color: #fee797;\n  color: #000000;\n}\n#T_9df62_row4_col5 {\n  background-color: #e3f399;\n  color: #000000;\n}\n#T_9df62_row5_col0 {\n  background-color: #7fc866;\n  color: #000000;\n}\n#T_9df62_row5_col1 {\n  background-color: #d1ec86;\n  color: #000000;\n}\n#T_9df62_row5_col3 {\n  background-color: #5db961;\n  color: #f1f1f1;\n}\n#T_9df62_row5_col4 {\n  background-color: #6bbf64;\n  color: #000000;\n}\n#T_9df62_row6_col0 {\n  background-color: #f2faae;\n  color: #000000;\n}\n#T_9df62_row6_col1 {\n  background-color: #fffebe;\n  color: #000000;\n}\n#T_9df62_row6_col2 {\n  background-color: #f57245;\n  color: #f1f1f1;\n}\n#T_9df62_row6_col3 {\n  background-color: #a0d669;\n  color: #000000;\n}\n#T_9df62_row6_col4 {\n  background-color: #fb9d59;\n  color: #000000;\n}\n#T_9df62_row6_col5 {\n  background-color: #1b9950;\n  color: #f1f1f1;\n}\n#T_9df62_row7_col0 {\n  background-color: #b7e075;\n  color: #000000;\n}\n#T_9df62_row7_col3 {\n  background-color: #a5d86a;\n  color: #000000;\n}\n#T_9df62_row7_col5 {\n  background-color: #fdb365;\n  color: #000000;\n}\n#T_9df62_row8_col0 {\n  background-color: #84ca66;\n  color: #000000;\n}\n#T_9df62_row8_col1 {\n  background-color: #148e4b;\n  color: #f1f1f1;\n}\n#T_9df62_row8_col2 {\n  background-color: #fff5ae;\n  color: #000000;\n}\n#T_9df62_row8_col3 {\n  background-color: #d3ec87;\n  color: #000000;\n}\n#T_9df62_row8_col5 {\n  background-color: #36a657;\n  color: #f1f1f1;\n}\n</style>\n<table id=\"T_9df62_\">\n  <thead>\n    <tr>\n      <th class=\"blank level0\" >&nbsp;</th>\n      <th class=\"col_heading level0 col0\" >Defense Rating</th>\n      <th class=\"col_heading level0 col1\" >Omniscience</th>\n      <th class=\"col_heading level0 col2\" >Tenaciousness</th>\n      <th class=\"col_heading level0 col3\" >Watchfulness</th>\n      <th class=\"col_heading level0 col4\" >Anticapitalism</th>\n      <th class=\"col_heading level0 col5\" >Chasiness</th>\n    </tr>\n  </thead>\n  <tbody>\n    <tr>\n      <th id=\"T_9df62_level0_row0\" class=\"row_heading level0 row0\" >Clay Dickens</th>\n      <td id=\"T_9df62_row0_col0\" class=\"data row0 col0\" >0.922338</td>\n      <td id=\"T_9df62_row0_col1\" class=\"data row0 col1\" >0.880314</td>\n      <td id=\"T_9df62_row0_col2\" class=\"data row0 col2\" >1.030401</td>\n      <td id=\"T_9df62_row0_col3\" class=\"data row0 col3\" >0.595792</td>\n      <td id=\"T_9df62_row0_col4\" class=\"data row0 col4\" >1.076342</td>\n      <td id=\"T_9df62_row0_col5\" class=\"data row0 col5\" >0.844436</td>\n    </tr>\n    <tr>\n      <th id=\"T_9df62_level0_row1\" class=\"row_heading level0 row1\" >Brooke Honeywell</th>\n      <td id=\"T_9df62_row1_col0\" class=\"data row1 col0\" >0.429369</td>\n      <td id=\"T_9df62_row1_col1\" class=\"data row1 col1\" >0.193042</td>\n      <td id=\"T_9df62_row1_col2\" class=\"data row1 col2\" >0.199293</td>\n      <td id=\"T_9df62_row1_col3\" class=\"data row1 col3\" >0.845749</td>\n      <td id=\"T_9df62_row1_col4\" class=\"data row1 col4\" >0.243355</td>\n      <td id=\"T_9df62_row1_col5\" class=\"data row1 col5\" >0.699093</td>\n    </tr>\n    <tr>\n      <th id=\"T_9df62_level0_row2\" class=\"row_heading level0 row2\" >Nikola Honeycrisp</th>\n      <td id=\"T_9df62_row2_col0\" class=\"data row2 col0\" >0.639803</td>\n      <td id=\"T_9df62_row2_col1\" class=\"data row2 col1\" >0.430666</td>\n      <td id=\"T_9df62_row2_col2\" class=\"data row2 col2\" >0.342635</td>\n      <td id=\"T_9df62_row2_col3\" class=\"data row2 col3\" >0.767945</td>\n      <td id=\"T_9df62_row2_col4\" class=\"data row2 col4\" >1.027052</td>\n      <td id=\"T_9df62_row2_col5\" class=\"data row2 col5\" >0.669255</td>\n    </tr>\n    <tr>\n      <th id=\"T_9df62_level0_row3\" class=\"row_heading level0 row3\" >Goo Macy</th>\n      <td id=\"T_9df62_row3_col0\" class=\"data row3 col0\" >0.484565</td>\n      <td id=\"T_9df62_row3_col1\" class=\"data row3 col1\" >0.464312</td>\n      <td id=\"T_9df62_row3_col2\" class=\"data row3 col2\" >0.327514</td>\n      <td id=\"T_9df62_row3_col3\" class=\"data row3 col3\" >0.262444</td>\n      <td id=\"T_9df62_row3_col4\" class=\"data row3 col4\" >0.186789</td>\n      <td id=\"T_9df62_row3_col5\" class=\"data row3 col5\" >0.629577</td>\n    </tr>\n    <tr>\n      <th id=\"T_9df62_level0_row4\" class=\"row_heading level0 row4\" >Antonio Osako</th>\n      <td id=\"T_9df62_row4_col0\" class=\"data row4 col0\" >0.745122</td>\n      <td id=\"T_9df62_row4_col1\" class=\"data row4 col1\" >0.936421</td>\n      <td id=\"T_9df62_row4_col2\" class=\"data row4 col2\" >0.852934</td>\n      <td id=\"T_9df62_row4_col3\" class=\"data row4 col3\" >0.423544</td>\n      <td id=\"T_9df62_row4_col4\" class=\"data row4 col4\" >0.340412</td>\n      <td id=\"T_9df62_row4_col5\" class=\"data row4 col5\" >0.573585</td>\n    </tr>\n    <tr>\n      <th id=\"T_9df62_level0_row5\" class=\"row_heading level0 row5\" >Mac Rialto</th>\n      <td id=\"T_9df62_row5_col0\" class=\"data row5 col0\" >0.760747</td>\n      <td id=\"T_9df62_row5_col1\" class=\"data row5 col1\" >0.615810</td>\n      <td id=\"T_9df62_row5_col2\" class=\"data row5 col2\" >0.484565</td>\n      <td id=\"T_9df62_row5_col3\" class=\"data row5 col3\" >0.811623</td>\n      <td id=\"T_9df62_row5_col4\" class=\"data row5 col4\" >0.789064</td>\n      <td id=\"T_9df62_row5_col5\" class=\"data row5 col5\" >1.138516</td>\n    </tr>\n    <tr>\n      <th id=\"T_9df62_level0_row6\" class=\"row_heading level0 row6\" >Pop Winter</th>\n      <td id=\"T_9df62_row6_col0\" class=\"data row6 col0\" >0.534091</td>\n      <td id=\"T_9df62_row6_col1\" class=\"data row6 col1\" >0.498992</td>\n      <td id=\"T_9df62_row6_col2\" class=\"data row6 col2\" >0.207813</td>\n      <td id=\"T_9df62_row6_col3\" class=\"data row6 col3\" >0.708336</td>\n      <td id=\"T_9df62_row6_col4\" class=\"data row6 col4\" >0.276984</td>\n      <td id=\"T_9df62_row6_col5\" class=\"data row6 col5\" >0.895216</td>\n    </tr>\n    <tr>\n      <th id=\"T_9df62_level0_row7\" class=\"row_heading level0 row7\" >Metric Wobin</th>\n      <td id=\"T_9df62_row7_col0\" class=\"data row7 col0\" >0.664358</td>\n      <td id=\"T_9df62_row7_col1\" class=\"data row7 col1\" >0.427573</td>\n      <td id=\"T_9df62_row7_col2\" class=\"data row7 col2\" >0.925753</td>\n      <td id=\"T_9df62_row7_col3\" class=\"data row7 col3\" >0.702124</td>\n      <td id=\"T_9df62_row7_col4\" class=\"data row7 col4\" >0.488073</td>\n      <td id=\"T_9df62_row7_col5\" class=\"data row7 col5\" >0.311968</td>\n    </tr>\n    <tr>\n      <th id=\"T_9df62_level0_row8\" class=\"row_heading level0 row8\" >Tall Everts</th>\n      <td id=\"T_9df62_row8_col0\" class=\"data row8 col0\" >0.752370</td>\n      <td id=\"T_9df62_row8_col1\" class=\"data row8 col1\" >0.920489</td>\n      <td id=\"T_9df62_row8_col2\" class=\"data row8 col2\" >0.466353</td>\n      <td id=\"T_9df62_row8_col3\" class=\"data row8 col3\" >0.612902</td>\n      <td id=\"T_9df62_row8_col4\" class=\"data row8 col4\" >0.596434</td>\n      <td id=\"T_9df62_row8_col5\" class=\"data row8 col5\" >0.862766</td>\n    </tr>\n  </tbody>\n</table>\n"
     },
     "metadata": {},
     "output_type": "display_data"
    }
   ],
   "source": [
    "display(Markdown(\"###Eye Warmers\"))\n",
    "new_lineup = []\n",
    "for player in pies.lineup:\n",
    "    new_lineup.append(player.simulated_copy(buffs={'defense_rating':0.11}))\n",
    "\n",
    "out, _, avg = improve_team_defense_table(pies, 0.11)\n",
    "display(out)\n",
    "display(pandas.DataFrame(avg, columns=[\"Team Average\"]))\n",
    "display(set_heatmap(get_defense_stlats(new_lineup), maxVal=1.0))"
   ],
   "metadata": {
    "collapsed": false,
    "pycharm": {
     "name": "#%%\n"
    }
   }
  },
  {
   "cell_type": "markdown",
   "id": "f4bf0ad9",
   "metadata": {},
   "source": [
    "___\n",
    "## Distortions\n",
    "\n",
    "Distortions are selected by raffle across all teams. Each distortion will be awarded to one random team, where teams with\n",
    "more votes are more likely to be selected. Teams may only receive at most 1 distortion."
   ]
  },
  {
   "cell_type": "markdown",
   "source": [
    "### TASTE THE INFINITE\n",
    "\n",
    "**Remake your Team in the Shelled One's image.**"
   ],
   "metadata": {
    "collapsed": false,
    "pycharm": {
     "name": "#%% md\n"
    }
   }
  },
  {
   "cell_type": "code",
   "execution_count": 18,
   "outputs": [
    {
     "data": {
      "text/plain": "<display.general.HTMLWrapper at 0x20781582d30>",
      "text/html": "<div style=\"text-align:center;font-family: 'Lora', 'Courier New', monospace, serif;font-weight: 700;color:red\">BLASPHEMY</div>"
     },
     "metadata": {},
     "output_type": "display_data"
    }
   ],
   "source": [
    "display(god_text(\"BLASPHEMY\", 0))"
   ],
   "metadata": {
    "collapsed": false,
    "pycharm": {
     "name": "#%%\n"
    }
   }
  },
  {
   "cell_type": "markdown",
   "source": [
    "### Fist of the Ape God\n",
    "\n",
    "**Bestow the Fist of the Ape God unto a random Player in your Team's Rotation.**\n",
    "\n",
    "Unknown effect. Presumably an Item that would be good for pitchers."
   ],
   "metadata": {
    "collapsed": false,
    "pycharm": {
     "name": "#%% md\n"
    }
   }
  },
  {
   "cell_type": "markdown",
   "source": [
    "### Cold Call\n",
    "\n",
    "**Call the Alternate for the 2 Worst Pitchers in your Team's Rotation.**\n",
    "\n",
    "An Alternate is a reroll of the player's stats, preventing rerolls that reduce the player's Combined Star total.\n",
    "This should also reroll players if they are still the worst player after their first reroll. See below for the\n",
    "list of players this would reroll. For reference, the statistical average reroll would have ~1.5 pitching\n",
    "stars (or ~0.3 Pitching Rating)."
   ],
   "metadata": {
    "collapsed": false
   }
  },
  {
   "cell_type": "code",
   "execution_count": 19,
   "outputs": [
    {
     "data": {
      "text/plain": "<pandas.io.formats.style.Styler at 0x207e76252b0>",
      "text/html": "<style type=\"text/css\">\n#T_03982_row0_col0 {\n  background-color: #f67c4a;\n  color: #f1f1f1;\n}\n#T_03982_row0_col1 {\n  background-color: #da362a;\n  color: #f1f1f1;\n}\n#T_03982_row0_col2 {\n  background-color: #a0d669;\n  color: #000000;\n}\n#T_03982_row0_col3 {\n  background-color: #b9e176;\n  color: #000000;\n}\n#T_03982_row0_col4 {\n  background-color: #f88950;\n  color: #f1f1f1;\n}\n#T_03982_row0_col5 {\n  background-color: #ee613e;\n  color: #f1f1f1;\n}\n#T_03982_row0_col6, #T_03982_row1_col5 {\n  background-color: #fcaa5f;\n  color: #000000;\n}\n#T_03982_row1_col0 {\n  background-color: #f7814c;\n  color: #f1f1f1;\n}\n#T_03982_row1_col1 {\n  background-color: #e34933;\n  color: #f1f1f1;\n}\n#T_03982_row1_col2 {\n  background-color: #fed481;\n  color: #000000;\n}\n#T_03982_row1_col3 {\n  background-color: #3ca959;\n  color: #f1f1f1;\n}\n#T_03982_row1_col4 {\n  background-color: #addc6f;\n  color: #000000;\n}\n#T_03982_row1_col6 {\n  background-color: #feca79;\n  color: #000000;\n}\n</style>\n<table id=\"T_03982_\">\n  <thead>\n    <tr>\n      <th class=\"blank level0\" >&nbsp;</th>\n      <th class=\"col_heading level0 col0\" >Pitching Rating</th>\n      <th class=\"col_heading level0 col1\" >Unthwackability</th>\n      <th class=\"col_heading level0 col2\" >Ruthlessness</th>\n      <th class=\"col_heading level0 col3\" >Overpowerment</th>\n      <th class=\"col_heading level0 col4\" >Shakespearianism</th>\n      <th class=\"col_heading level0 col5\" >Coldness</th>\n      <th class=\"col_heading level0 col6\" >Suppression</th>\n    </tr>\n  </thead>\n  <tbody>\n    <tr>\n      <th id=\"T_03982_level0_row0\" class=\"row_heading level0 row0\" >Nia Joelson</th>\n      <td id=\"T_03982_row0_col0\" class=\"data row0 col0\" >0.226368</td>\n      <td id=\"T_03982_row0_col1\" class=\"data row0 col1\" >0.110330</td>\n      <td id=\"T_03982_row0_col2\" class=\"data row0 col2\" >0.710038</td>\n      <td id=\"T_03982_row0_col3\" class=\"data row0 col3\" >0.660507</td>\n      <td id=\"T_03982_row0_col4\" class=\"data row0 col4\" >0.242607</td>\n      <td id=\"T_03982_row0_col5\" class=\"data row0 col5\" >0.181714</td>\n      <td id=\"T_03982_row0_col6\" class=\"data row0 col6\" >0.295137</td>\n    </tr>\n    <tr>\n      <th id=\"T_03982_level0_row1\" class=\"row_heading level0 row1\" >Pierce Blue</th>\n      <td id=\"T_03982_row1_col0\" class=\"data row1 col0\" >0.233268</td>\n      <td id=\"T_03982_row1_col1\" class=\"data row1 col1\" >0.143229</td>\n      <td id=\"T_03982_row1_col2\" class=\"data row1 col2\" >0.375352</td>\n      <td id=\"T_03982_row1_col3\" class=\"data row1 col3\" >0.852265</td>\n      <td id=\"T_03982_row1_col4\" class=\"data row1 col4\" >0.687343</td>\n      <td id=\"T_03982_row1_col5\" class=\"data row1 col5\" >0.295386</td>\n      <td id=\"T_03982_row1_col6\" class=\"data row1 col6\" >0.357881</td>\n    </tr>\n  </tbody>\n</table>\n"
     },
     "metadata": {},
     "output_type": "display_data"
    }
   ],
   "source": [
    "display(set_heatmap(get_pitching_stlats(sort_rotation(pies, 2)), maxVal=1.0))"
   ],
   "metadata": {
    "collapsed": false,
    "pycharm": {
     "name": "#%%\n"
    }
   }
  },
  {
   "cell_type": "markdown",
   "source": [
    "### Long Distance Call\n",
    "\n",
    "**Call the Alternate for the 4 Worst Batters in your Team's Lineup.**\n",
    "\n",
    "An Alternate is a reroll of the player's stats, preventing rerolls that reduce the player's Combined Star total.\n",
    "This should also reroll players if they are still the worst player after their first reroll. See below for the\n",
    "list of players this would reroll. For reference, the statistical average reroll would have ~2 batting stars\n",
    "(or ~0.4 Batting Rating).\n"
   ],
   "metadata": {
    "collapsed": false
   }
  },
  {
   "cell_type": "code",
   "execution_count": 20,
   "outputs": [
    {
     "data": {
      "text/plain": "<pandas.io.formats.style.Styler at 0x20781582cd0>",
      "text/html": "<style type=\"text/css\">\n#T_08a63_row0_col0 {\n  background-color: #f36b42;\n  color: #f1f1f1;\n}\n#T_08a63_row0_col1 {\n  background-color: #f46d43;\n  color: #f1f1f1;\n}\n#T_08a63_row0_col2 {\n  background-color: #ce2827;\n  color: #f1f1f1;\n}\n#T_08a63_row0_col3 {\n  background-color: #138c4a;\n  color: #f1f1f1;\n}\n#T_08a63_row0_col4 {\n  background-color: #fbfdba;\n  color: #000000;\n}\n#T_08a63_row0_col5 {\n  background-color: #17934e;\n  color: #f1f1f1;\n  background-color: #d22b27;\n  color: #f1f1f1;\n}\n#T_08a63_row0_col6, #T_08a63_row1_col8, #T_08a63_row3_col6, #T_08a63_row3_col8 {\n  background-color: #006837;\n  color: #f1f1f1;\n}\n#T_08a63_row0_col7 {\n  background-color: #89cc67;\n  color: #000000;\n  background-color: #f99153;\n  color: #000000;\n}\n#T_08a63_row0_col8 {\n  background-color: #fee593;\n  color: #000000;\n}\n#T_08a63_row1_col0 {\n  background-color: #fdb163;\n  color: #000000;\n}\n#T_08a63_row1_col1 {\n  background-color: #e24731;\n  color: #f1f1f1;\n}\n#T_08a63_row1_col2 {\n  background-color: #cbe982;\n  color: #000000;\n}\n#T_08a63_row1_col3 {\n  background-color: #f99153;\n  color: #000000;\n}\n#T_08a63_row1_col4 {\n  background-color: #93d168;\n  color: #000000;\n}\n#T_08a63_row1_col5 {\n  background-color: #219c52;\n  color: #f1f1f1;\n  background-color: #da362a;\n  color: #f1f1f1;\n}\n#T_08a63_row1_col6 {\n  background-color: #e8f59f;\n  color: #000000;\n}\n#T_08a63_row1_col7 {\n  background-color: #006837;\n  color: #f1f1f1;\n  background-color: #a50026;\n  color: #f1f1f1;\n}\n#T_08a63_row2_col0 {\n  background-color: #fed481;\n  color: #000000;\n}\n#T_08a63_row2_col1 {\n  background-color: #36a657;\n  color: #f1f1f1;\n}\n#T_08a63_row2_col2 {\n  background-color: #e14430;\n  color: #f1f1f1;\n}\n#T_08a63_row2_col3 {\n  background-color: #ea5739;\n  color: #f1f1f1;\n}\n#T_08a63_row2_col4 {\n  background-color: #feeda1;\n  color: #000000;\n}\n#T_08a63_row2_col5 {\n  background-color: #ec5c3b;\n  color: #f1f1f1;\n  background-color: #51b35e;\n  color: #f1f1f1;\n}\n#T_08a63_row2_col6 {\n  background-color: #91d068;\n  color: #000000;\n}\n#T_08a63_row2_col7 {\n  background-color: #a7d96b;\n  color: #000000;\n  background-color: #fdaf62;\n  color: #000000;\n}\n#T_08a63_row2_col8 {\n  background-color: #82c966;\n  color: #000000;\n}\n#T_08a63_row3_col0 {\n  background-color: #fffbb8;\n  color: #000000;\n}\n#T_08a63_row3_col1 {\n  background-color: #c1e57b;\n  color: #000000;\n}\n#T_08a63_row3_col2 {\n  background-color: #ddf191;\n  color: #000000;\n}\n#T_08a63_row3_col3 {\n  background-color: #db382b;\n  color: #f1f1f1;\n}\n#T_08a63_row3_col4 {\n  background-color: #e75337;\n  color: #f1f1f1;\n}\n#T_08a63_row3_col5 {\n  background-color: #7ac665;\n  color: #000000;\n  background-color: #f7814c;\n  color: #f1f1f1;\n}\n#T_08a63_row3_col7 {\n  background-color: #feea9b;\n  color: #000000;\n  background-color: #e5f49b;\n  color: #000000;\n}\n</style>\n<table id=\"T_08a63_\">\n  <thead>\n    <tr>\n      <th class=\"blank level0\" >&nbsp;</th>\n      <th class=\"col_heading level0 col0\" >Batting Rating</th>\n      <th class=\"col_heading level0 col1\" >Thwackability</th>\n      <th class=\"col_heading level0 col2\" >Divinity</th>\n      <th class=\"col_heading level0 col3\" >Musclitude</th>\n      <th class=\"col_heading level0 col4\" >Moxie</th>\n      <th class=\"col_heading level0 col5\" >Patheticism</th>\n      <th class=\"col_heading level0 col6\" >Martyrdom</th>\n      <th class=\"col_heading level0 col7\" >Tragicness</th>\n      <th class=\"col_heading level0 col8\" >Buoyancy</th>\n    </tr>\n  </thead>\n  <tbody>\n    <tr>\n      <th id=\"T_08a63_level0_row0\" class=\"row_heading level0 row0\" >Metric Wobin</th>\n      <td id=\"T_08a63_row0_col0\" class=\"data row0 col0\" >0.197284</td>\n      <td id=\"T_08a63_row0_col1\" class=\"data row0 col1\" >0.200442</td>\n      <td id=\"T_08a63_row0_col2\" class=\"data row0 col2\" >0.082910</td>\n      <td id=\"T_08a63_row0_col3\" class=\"data row0 col3\" >0.922308</td>\n      <td id=\"T_08a63_row0_col4\" class=\"data row0 col4\" >0.509623</td>\n      <td id=\"T_08a63_row0_col5\" class=\"data row0 col5\" >0.908542</td>\n      <td id=\"T_08a63_row0_col6\" class=\"data row0 col6\" >1.040728</td>\n      <td id=\"T_08a63_row0_col7\" class=\"data row0 col7\" >0.745025</td>\n      <td id=\"T_08a63_row0_col8\" class=\"data row0 col8\" >0.415128</td>\n    </tr>\n    <tr>\n      <th id=\"T_08a63_level0_row1\" class=\"row_heading level0 row1\" >Mac Rialto</th>\n      <td id=\"T_08a63_row1_col0\" class=\"data row1 col0\" >0.308431</td>\n      <td id=\"T_08a63_row1_col1\" class=\"data row1 col1\" >0.136963</td>\n      <td id=\"T_08a63_row1_col2\" class=\"data row1 col2\" >0.627069</td>\n      <td id=\"T_08a63_row1_col3\" class=\"data row1 col3\" >0.256228</td>\n      <td id=\"T_08a63_row1_col4\" class=\"data row1 col4\" >0.727757</td>\n      <td id=\"T_08a63_row1_col5\" class=\"data row1 col5\" >0.890233</td>\n      <td id=\"T_08a63_row1_col6\" class=\"data row1 col6\" >0.560189</td>\n      <td id=\"T_08a63_row1_col7\" class=\"data row1 col7\" >0.999000</td>\n      <td id=\"T_08a63_row1_col8\" class=\"data row1 col8\" >1.052002</td>\n    </tr>\n    <tr>\n      <th id=\"T_08a63_level0_row2\" class=\"row_heading level0 row2\" >Brooke Honeywell</th>\n      <td id=\"T_08a63_row2_col0\" class=\"data row2 col0\" >0.376018</td>\n      <td id=\"T_08a63_row2_col1\" class=\"data row2 col1\" >0.861189</td>\n      <td id=\"T_08a63_row2_col2\" class=\"data row2 col2\" >0.134032</td>\n      <td id=\"T_08a63_row2_col3\" class=\"data row2 col3\" >0.167968</td>\n      <td id=\"T_08a63_row2_col4\" class=\"data row2 col4\" >0.444113</td>\n      <td id=\"T_08a63_row2_col5\" class=\"data row2 col5\" >0.174948</td>\n      <td id=\"T_08a63_row2_col6\" class=\"data row2 col6\" >0.732606</td>\n      <td id=\"T_08a63_row2_col7\" class=\"data row2 col7\" >0.696179</td>\n      <td id=\"T_08a63_row2_col8\" class=\"data row2 col8\" >0.756058</td>\n    </tr>\n    <tr>\n      <th id=\"T_08a63_level0_row3\" class=\"row_heading level0 row3\" >Clay Dickens</th>\n      <td id=\"T_08a63_row3_col0\" class=\"data row3 col0\" >0.487845</td>\n      <td id=\"T_08a63_row3_col1\" class=\"data row3 col1\" >0.647349</td>\n      <td id=\"T_08a63_row3_col2\" class=\"data row3 col2\" >0.586298</td>\n      <td id=\"T_08a63_row3_col3\" class=\"data row3 col3\" >0.114435</td>\n      <td id=\"T_08a63_row3_col4\" class=\"data row3 col4\" >0.159828</td>\n      <td id=\"T_08a63_row3_col5\" class=\"data row3 col5\" >0.767200</td>\n      <td id=\"T_08a63_row3_col6\" class=\"data row3 col6\" >0.996732</td>\n      <td id=\"T_08a63_row3_col7\" class=\"data row3 col7\" >0.430428</td>\n      <td id=\"T_08a63_row3_col8\" class=\"data row3 col8\" >1.029009</td>\n    </tr>\n  </tbody>\n</table>\n"
     },
     "metadata": {},
     "output_type": "display_data"
    }
   ],
   "source": [
    "display(set_heatmap(get_batting_stlats(sort_lineup(pies, 4)), maxVal=1.0))"
   ],
   "metadata": {
    "collapsed": false,
    "pycharm": {
     "name": "#%%\n"
    }
   }
  },
  {
   "cell_type": "markdown",
   "id": "5c780b47",
   "metadata": {},
   "source": [
    "### Fire Blood\n",
    "\n",
    "**Give a random Player in your Team's Rotation Fire Blood.**\n",
    "\n",
    "Fire Blood grants the \"Fiery\" Modification which has the description \"This Player has a chance of throwing Double\n",
    "Strikes.\""
   ]
  },
  {
   "cell_type": "markdown",
   "id": "ff3309d8",
   "metadata": {},
   "source": [
    "### Electric Blood\n",
    "\n",
    "**Give a random Player in your Team's Rotation Electric Blood.**\n",
    "\n",
    "Electric Blood grants the \"Electric\" Modification which has the description \"When this Player is Pitching, they'll have\n",
    "a chance of zapping away Balls.\""
   ]
  },
  {
   "cell_type": "markdown",
   "id": "0dbf2396",
   "metadata": {},
   "source": [
    "### Strike Blood\n",
    "\n",
    "**Give a random Player in your Team's Lineup Strike Blood.**\n",
    "\n",
    "Strike Blood grants the \"Fourth Strike\" Modification which has the description \"This Player will get an extra\n",
    "strike in each at-bat.\""
   ]
  },
  {
   "cell_type": "markdown",
   "id": "e9ba4d29",
   "metadata": {},
   "source": [
    "### Ball Blood\n",
    "\n",
    "**Give a random Player in your Team's Lineup Ball Blood.**\n",
    "\n",
    "Ball Blood grants the \"Walk in the Park\" Modification which has the description \"Those with Walk in the Park will walk\n",
    "to first base on one less Ball.\""
   ]
  },
  {
   "cell_type": "markdown",
   "id": "974751aa",
   "metadata": {},
   "source": [
    "### Snow Blower\n",
    "\n",
    "**Give the Snow Blower to a random Player in your Team's Rotation.**\n",
    "\n",
    "This would award a random pitcher with the Snow Blower Item. Exact stat changes are unknown but this is likely the same\n",
    "as the Arm Cannon. Assuming this, see below for estimated stat changes."
   ]
  },
  {
   "cell_type": "code",
   "execution_count": 21,
   "outputs": [
    {
     "data": {
      "text/plain": "<pandas.io.formats.style.Styler at 0x2078148ed00>",
      "text/html": "<style type=\"text/css\">\n#T_26cc7_row0_col0 {\n  background-color: #54b45f;\n  color: #f1f1f1;\n}\n#T_26cc7_row0_col1 {\n  background-color: #279f53;\n  color: #f1f1f1;\n}\n#T_26cc7_row0_col2 {\n  background-color: #afdd70;\n  color: #000000;\n}\n#T_26cc7_row0_col3, #T_26cc7_row1_col2, #T_26cc7_row1_col3, #T_26cc7_row2_col1, #T_26cc7_row2_col3, #T_26cc7_row3_col0, #T_26cc7_row3_col1, #T_26cc7_row3_col2, #T_26cc7_row3_col3, #T_26cc7_row4_col1, #T_26cc7_row4_col3 {\n  background-color: #006837;\n  color: #f1f1f1;\n}\n#T_26cc7_row0_col4 {\n  background-color: #addc6f;\n  color: #000000;\n}\n#T_26cc7_row0_col5, #T_26cc7_row1_col6 {\n  background-color: #fcaa5f;\n  color: #000000;\n}\n#T_26cc7_row0_col6 {\n  background-color: #feca79;\n  color: #000000;\n}\n#T_26cc7_row1_col0 {\n  background-color: #51b35e;\n  color: #f1f1f1;\n}\n#T_26cc7_row1_col1 {\n  background-color: #42ac5a;\n  color: #f1f1f1;\n}\n#T_26cc7_row1_col4 {\n  background-color: #f88950;\n  color: #f1f1f1;\n}\n#T_26cc7_row1_col5 {\n  background-color: #ee613e;\n  color: #f1f1f1;\n}\n#T_26cc7_row2_col0 {\n  background-color: #08773f;\n  color: #f1f1f1;\n}\n#T_26cc7_row2_col2 {\n  background-color: #3faa59;\n  color: #f1f1f1;\n}\n#T_26cc7_row2_col4 {\n  background-color: #fedc88;\n  color: #000000;\n}\n#T_26cc7_row2_col5 {\n  background-color: #e9f6a1;\n  color: #000000;\n}\n#T_26cc7_row2_col6 {\n  background-color: #9bd469;\n  color: #000000;\n}\n#T_26cc7_row3_col4 {\n  background-color: #fdad60;\n  color: #000000;\n}\n#T_26cc7_row3_col5 {\n  background-color: #fdb567;\n  color: #000000;\n}\n#T_26cc7_row3_col6 {\n  background-color: #fec877;\n  color: #000000;\n}\n#T_26cc7_row4_col0 {\n  background-color: #7dc765;\n  color: #000000;\n}\n#T_26cc7_row4_col2 {\n  background-color: #fee28f;\n  color: #000000;\n}\n#T_26cc7_row4_col4 {\n  background-color: #f26841;\n  color: #f1f1f1;\n}\n#T_26cc7_row4_col5 {\n  background-color: #eef8a8;\n  color: #000000;\n}\n#T_26cc7_row4_col6 {\n  background-color: #bb1526;\n  color: #f1f1f1;\n}\n</style>\n<table id=\"T_26cc7_\">\n  <thead>\n    <tr>\n      <th class=\"blank level0\" >&nbsp;</th>\n      <th class=\"col_heading level0 col0\" >Pitching Rating</th>\n      <th class=\"col_heading level0 col1\" >Unthwackability</th>\n      <th class=\"col_heading level0 col2\" >Ruthlessness</th>\n      <th class=\"col_heading level0 col3\" >Overpowerment</th>\n      <th class=\"col_heading level0 col4\" >Shakespearianism</th>\n      <th class=\"col_heading level0 col5\" >Coldness</th>\n      <th class=\"col_heading level0 col6\" >Suppression</th>\n    </tr>\n  </thead>\n  <tbody>\n    <tr>\n      <th id=\"T_26cc7_level0_row0\" class=\"row_heading level0 row0\" >Pierce Blue</th>\n      <td id=\"T_26cc7_row0_col0\" class=\"data row0 col0\" >0.821881</td>\n      <td id=\"T_26cc7_row0_col1\" class=\"data row0 col1\" >0.879508</td>\n      <td id=\"T_26cc7_row0_col2\" class=\"data row0 col2\" >0.682675</td>\n      <td id=\"T_26cc7_row0_col3\" class=\"data row0 col3\" >1.806519</td>\n      <td id=\"T_26cc7_row0_col4\" class=\"data row0 col4\" >0.687343</td>\n      <td id=\"T_26cc7_row0_col5\" class=\"data row0 col5\" >0.295386</td>\n      <td id=\"T_26cc7_row0_col6\" class=\"data row0 col6\" >0.357881</td>\n    </tr>\n    <tr>\n      <th id=\"T_26cc7_level0_row1\" class=\"row_heading level0 row1\" >Nia Joelson</th>\n      <td id=\"T_26cc7_row1_col0\" class=\"data row1 col0\" >0.827985</td>\n      <td id=\"T_26cc7_row1_col1\" class=\"data row1 col1\" >0.846608</td>\n      <td id=\"T_26cc7_row1_col2\" class=\"data row1 col2\" >1.017361</td>\n      <td id=\"T_26cc7_row1_col3\" class=\"data row1 col3\" >1.614761</td>\n      <td id=\"T_26cc7_row1_col4\" class=\"data row1 col4\" >0.242607</td>\n      <td id=\"T_26cc7_row1_col5\" class=\"data row1 col5\" >0.181714</td>\n      <td id=\"T_26cc7_row1_col6\" class=\"data row1 col6\" >0.295137</td>\n    </tr>\n    <tr>\n      <th id=\"T_26cc7_level0_row2\" class=\"row_heading level0 row2\" >Coby Rhodes</th>\n      <td id=\"T_26cc7_row2_col0\" class=\"data row2 col0\" >0.966217</td>\n      <td id=\"T_26cc7_row2_col1\" class=\"data row2 col1\" >1.110759</td>\n      <td id=\"T_26cc7_row2_col2\" class=\"data row2 col2\" >0.851446</td>\n      <td id=\"T_26cc7_row2_col3\" class=\"data row2 col3\" >1.769861</td>\n      <td id=\"T_26cc7_row2_col4\" class=\"data row2 col4\" >0.392557</td>\n      <td id=\"T_26cc7_row2_col5\" class=\"data row2 col5\" >0.555702</td>\n      <td id=\"T_26cc7_row2_col6\" class=\"data row2 col6\" >0.717024</td>\n    </tr>\n    <tr>\n      <th id=\"T_26cc7_level0_row3\" class=\"row_heading level0 row3\" >Emmanuel Cole</th>\n      <td id=\"T_26cc7_row3_col0\" class=\"data row3 col0\" >1.298336</td>\n      <td id=\"T_26cc7_row3_col1\" class=\"data row3 col1\" >1.683504</td>\n      <td id=\"T_26cc7_row3_col2\" class=\"data row3 col2\" >1.195835</td>\n      <td id=\"T_26cc7_row3_col3\" class=\"data row3 col3\" >1.692068</td>\n      <td id=\"T_26cc7_row3_col4\" class=\"data row3 col4\" >0.298356</td>\n      <td id=\"T_26cc7_row3_col5\" class=\"data row3 col5\" >0.315510</td>\n      <td id=\"T_26cc7_row3_col6\" class=\"data row3 col6\" >0.354805</td>\n    </tr>\n    <tr>\n      <th id=\"T_26cc7_level0_row4\" class=\"row_heading level0 row4\" >Dee Spice</th>\n      <td id=\"T_26cc7_row4_col0\" class=\"data row4 col0\" >0.764927</td>\n      <td id=\"T_26cc7_row4_col1\" class=\"data row4 col1\" >1.508697</td>\n      <td id=\"T_26cc7_row4_col2\" class=\"data row4 col2\" >0.407800</td>\n      <td id=\"T_26cc7_row4_col3\" class=\"data row4 col3\" >1.528626</td>\n      <td id=\"T_26cc7_row4_col4\" class=\"data row4 col4\" >0.195220</td>\n      <td id=\"T_26cc7_row4_col5\" class=\"data row4 col5\" >0.546646</td>\n      <td id=\"T_26cc7_row4_col6\" class=\"data row4 col6\" >0.043472</td>\n    </tr>\n  </tbody>\n</table>\n"
     },
     "execution_count": 21,
     "metadata": {},
     "output_type": "execute_result"
    }
   ],
   "source": [
    "new_rotation = []\n",
    "for player in pies.rotation:\n",
    "    new_rotation.append(player.simulated_copy(buffs=\n",
    "                                         {'overpowerment': 0.9542536640830439,\n",
    "                                          'unthwackability': 0.7362786936932654,\n",
    "                                          'ruthlessness': 0.3073233290216612}))\n",
    "\n",
    "set_heatmap(get_pitching_stlats(new_rotation), maxVal=1.0)\n",
    "# 6524fd18-54e1-4b51-be71-4db6ef1cdf42"
   ],
   "metadata": {
    "collapsed": false,
    "pycharm": {
     "name": "#%%\n"
    }
   }
  },
  {
   "cell_type": "markdown",
   "id": "4e31234f",
   "metadata": {},
   "source": [
    "### Snow Shovel\n",
    "\n",
    "**Give the Snow Shovel to a random Player in your Team's Lineup.**\n",
    "\n",
    "This would award a random batter with the Snow Shovel Item. Exact stat changes are unknown but this is likely the same\n",
    "as the Gunblade Bat. Assuming this, see below for estimated stat changes."
   ]
  },
  {
   "cell_type": "code",
   "execution_count": 22,
   "outputs": [
    {
     "data": {
      "text/plain": "<pandas.io.formats.style.Styler at 0x207815c76d0>",
      "text/html": "<style type=\"text/css\">\n#T_5ab03_row0_col0 {\n  background-color: #69be63;\n  color: #f1f1f1;\n}\n#T_5ab03_row0_col1, #T_5ab03_row0_col2, #T_5ab03_row0_col6, #T_5ab03_row0_col8, #T_5ab03_row1_col1, #T_5ab03_row2_col0, #T_5ab03_row2_col1, #T_5ab03_row2_col2, #T_5ab03_row2_col6, #T_5ab03_row2_col8, #T_5ab03_row3_col2, #T_5ab03_row4_col0, #T_5ab03_row4_col1, #T_5ab03_row4_col2, #T_5ab03_row5_col2, #T_5ab03_row5_col8, #T_5ab03_row6_col0, #T_5ab03_row6_col2, #T_5ab03_row6_col6, #T_5ab03_row7_col6, #T_5ab03_row8_col2, #T_5ab03_row8_col4 {\n  background-color: #006837;\n  color: #f1f1f1;\n}\n#T_5ab03_row0_col3 {\n  background-color: #db382b;\n  color: #f1f1f1;\n}\n#T_5ab03_row0_col4, #T_5ab03_row4_col6 {\n  background-color: #e75337;\n  color: #f1f1f1;\n}\n#T_5ab03_row0_col5 {\n  background-color: #7ac665;\n  color: #000000;\n  background-color: #f7814c;\n  color: #f1f1f1;\n}\n#T_5ab03_row0_col7 {\n  background-color: #feea9b;\n  color: #000000;\n  background-color: #e5f49b;\n  color: #000000;\n}\n#T_5ab03_row1_col0 {\n  background-color: #3faa59;\n  color: #f1f1f1;\n}\n#T_5ab03_row1_col2 {\n  background-color: #36a657;\n  color: #f1f1f1;\n}\n#T_5ab03_row1_col3 {\n  background-color: #ea5739;\n  color: #f1f1f1;\n}\n#T_5ab03_row1_col4 {\n  background-color: #feeda1;\n  color: #000000;\n}\n#T_5ab03_row1_col5 {\n  background-color: #ec5c3b;\n  color: #f1f1f1;\n  background-color: #51b35e;\n  color: #f1f1f1;\n}\n#T_5ab03_row1_col6 {\n  background-color: #91d068;\n  color: #000000;\n}\n#T_5ab03_row1_col7 {\n  background-color: #a7d96b;\n  color: #000000;\n  background-color: #fdaf62;\n  color: #000000;\n}\n#T_5ab03_row1_col8 {\n  background-color: #82c966;\n  color: #000000;\n}\n#T_5ab03_row2_col3 {\n  background-color: #05713c;\n  color: #f1f1f1;\n}\n#T_5ab03_row2_col4 {\n  background-color: #63bc62;\n  color: #f1f1f1;\n}\n#T_5ab03_row2_col5 {\n  background-color: #06733d;\n  color: #f1f1f1;\n  background-color: #b10b26;\n  color: #f1f1f1;\n}\n#T_5ab03_row2_col7, #T_5ab03_row5_col7 {\n  background-color: #006837;\n  color: #f1f1f1;\n  background-color: #a50026;\n  color: #f1f1f1;\n}\n#T_5ab03_row3_col0 {\n  background-color: #0f8446;\n  color: #f1f1f1;\n}\n#T_5ab03_row3_col1, #T_5ab03_row6_col8 {\n  background-color: #7ac665;\n  color: #000000;\n}\n#T_5ab03_row3_col3 {\n  background-color: #fede89;\n  color: #000000;\n}\n#T_5ab03_row3_col4 {\n  background-color: #fff0a6;\n  color: #000000;\n}\n#T_5ab03_row3_col5 {\n  background-color: #fa9857;\n  color: #000000;\n  background-color: #91d068;\n  color: #000000;\n}\n#T_5ab03_row3_col6, #T_5ab03_row8_col0 {\n  background-color: #036e3a;\n  color: #f1f1f1;\n}\n#T_5ab03_row3_col7 {\n  background-color: #6ec064;\n  color: #000000;\n  background-color: #f57547;\n  color: #f1f1f1;\n}\n#T_5ab03_row3_col8 {\n  background-color: #ec5c3b;\n  color: #f1f1f1;\n}\n#T_5ab03_row4_col3 {\n  background-color: #f99355;\n  color: #000000;\n}\n#T_5ab03_row4_col4 {\n  background-color: #8ecf67;\n  color: #000000;\n}\n#T_5ab03_row4_col5 {\n  background-color: #abdb6d;\n  color: #000000;\n  background-color: #fdb365;\n  color: #000000;\n}\n#T_5ab03_row4_col7 {\n  background-color: #e9f6a1;\n  color: #000000;\n  background-color: #feeda1;\n  color: #000000;\n}\n#T_5ab03_row4_col8 {\n  background-color: #70c164;\n  color: #000000;\n}\n#T_5ab03_row5_col0 {\n  background-color: #a7d96b;\n  color: #000000;\n}\n#T_5ab03_row5_col1 {\n  background-color: #bfe47a;\n  color: #000000;\n}\n#T_5ab03_row5_col3 {\n  background-color: #f99153;\n  color: #000000;\n}\n#T_5ab03_row5_col4 {\n  background-color: #93d168;\n  color: #000000;\n}\n#T_5ab03_row5_col5 {\n  background-color: #219c52;\n  color: #f1f1f1;\n  background-color: #da362a;\n  color: #f1f1f1;\n}\n#T_5ab03_row5_col6 {\n  background-color: #e8f59f;\n  color: #000000;\n}\n#T_5ab03_row6_col1 {\n  background-color: #04703b;\n  color: #f1f1f1;\n}\n#T_5ab03_row6_col3 {\n  background-color: #fffbb8;\n  color: #000000;\n}\n#T_5ab03_row6_col4 {\n  background-color: #9bd469;\n  color: #000000;\n}\n#T_5ab03_row6_col5 {\n  background-color: #ddf191;\n  color: #000000;\n  background-color: #fee491;\n  color: #000000;\n}\n#T_5ab03_row6_col7 {\n  background-color: #f16640;\n  color: #f1f1f1;\n  background-color: #5db961;\n  color: #f1f1f1;\n}\n#T_5ab03_row7_col0 {\n  background-color: #afdd70;\n  color: #000000;\n}\n#T_5ab03_row7_col1 {\n  background-color: #9dd569;\n  color: #000000;\n}\n#T_5ab03_row7_col2 {\n  background-color: #5db961;\n  color: #f1f1f1;\n}\n#T_5ab03_row7_col3 {\n  background-color: #138c4a;\n  color: #f1f1f1;\n}\n#T_5ab03_row7_col4 {\n  background-color: #fbfdba;\n  color: #000000;\n}\n#T_5ab03_row7_col5 {\n  background-color: #17934e;\n  color: #f1f1f1;\n  background-color: #d22b27;\n  color: #f1f1f1;\n}\n#T_5ab03_row7_col7 {\n  background-color: #89cc67;\n  color: #000000;\n  background-color: #f99153;\n  color: #000000;\n}\n#T_5ab03_row7_col8 {\n  background-color: #fee593;\n  color: #000000;\n}\n#T_5ab03_row8_col1 {\n  background-color: #96d268;\n  color: #000000;\n}\n#T_5ab03_row8_col3 {\n  background-color: #249d53;\n  color: #f1f1f1;\n}\n#T_5ab03_row8_col5 {\n  background-color: #fb9d59;\n  color: #000000;\n  background-color: #96d268;\n  color: #000000;\n}\n#T_5ab03_row8_col6 {\n  background-color: #e14430;\n  color: #f1f1f1;\n}\n#T_5ab03_row8_col7 {\n  background-color: #148e4b;\n  color: #f1f1f1;\n  background-color: #cc2627;\n  color: #f1f1f1;\n}\n#T_5ab03_row8_col8 {\n  background-color: #f57547;\n  color: #f1f1f1;\n}\n</style>\n<table id=\"T_5ab03_\">\n  <thead>\n    <tr>\n      <th class=\"blank level0\" >&nbsp;</th>\n      <th class=\"col_heading level0 col0\" >Batting Rating</th>\n      <th class=\"col_heading level0 col1\" >Thwackability</th>\n      <th class=\"col_heading level0 col2\" >Divinity</th>\n      <th class=\"col_heading level0 col3\" >Musclitude</th>\n      <th class=\"col_heading level0 col4\" >Moxie</th>\n      <th class=\"col_heading level0 col5\" >Patheticism</th>\n      <th class=\"col_heading level0 col6\" >Martyrdom</th>\n      <th class=\"col_heading level0 col7\" >Tragicness</th>\n      <th class=\"col_heading level0 col8\" >Buoyancy</th>\n    </tr>\n  </thead>\n  <tbody>\n    <tr>\n      <th id=\"T_5ab03_level0_row0\" class=\"row_heading level0 row0\" >Clay Dickens</th>\n      <td id=\"T_5ab03_row0_col0\" class=\"data row0 col0\" >0.793552</td>\n      <td id=\"T_5ab03_row0_col1\" class=\"data row0 col1\" >1.160413</td>\n      <td id=\"T_5ab03_row0_col2\" class=\"data row0 col2\" >1.313224</td>\n      <td id=\"T_5ab03_row0_col3\" class=\"data row0 col3\" >0.114435</td>\n      <td id=\"T_5ab03_row0_col4\" class=\"data row0 col4\" >0.159828</td>\n      <td id=\"T_5ab03_row0_col5\" class=\"data row0 col5\" >0.767200</td>\n      <td id=\"T_5ab03_row0_col6\" class=\"data row0 col6\" >0.996732</td>\n      <td id=\"T_5ab03_row0_col7\" class=\"data row0 col7\" >0.430428</td>\n      <td id=\"T_5ab03_row0_col8\" class=\"data row0 col8\" >1.029009</td>\n    </tr>\n    <tr>\n      <th id=\"T_5ab03_level0_row1\" class=\"row_heading level0 row1\" >Brooke Honeywell</th>\n      <td id=\"T_5ab03_row1_col0\" class=\"data row1 col0\" >0.849119</td>\n      <td id=\"T_5ab03_row1_col1\" class=\"data row1 col1\" >1.374253</td>\n      <td id=\"T_5ab03_row1_col2\" class=\"data row1 col2\" >0.860957</td>\n      <td id=\"T_5ab03_row1_col3\" class=\"data row1 col3\" >0.167968</td>\n      <td id=\"T_5ab03_row1_col4\" class=\"data row1 col4\" >0.444113</td>\n      <td id=\"T_5ab03_row1_col5\" class=\"data row1 col5\" >0.174948</td>\n      <td id=\"T_5ab03_row1_col6\" class=\"data row1 col6\" >0.732606</td>\n      <td id=\"T_5ab03_row1_col7\" class=\"data row1 col7\" >0.696179</td>\n      <td id=\"T_5ab03_row1_col8\" class=\"data row1 col8\" >0.756058</td>\n    </tr>\n    <tr>\n      <th id=\"T_5ab03_level0_row2\" class=\"row_heading level0 row2\" >Nikola Honeycrisp</th>\n      <td id=\"T_5ab03_row2_col0\" class=\"data row2 col0\" >1.078873</td>\n      <td id=\"T_5ab03_row2_col1\" class=\"data row2 col1\" >1.468552</td>\n      <td id=\"T_5ab03_row2_col2\" class=\"data row2 col2\" >1.830439</td>\n      <td id=\"T_5ab03_row2_col3\" class=\"data row2 col3\" >0.979943</td>\n      <td id=\"T_5ab03_row2_col4\" class=\"data row2 col4\" >0.800879</td>\n      <td id=\"T_5ab03_row2_col5\" class=\"data row2 col5\" >0.974481</td>\n      <td id=\"T_5ab03_row2_col6\" class=\"data row2 col6\" >1.024928</td>\n      <td id=\"T_5ab03_row2_col7\" class=\"data row2 col7\" >0.999000</td>\n      <td id=\"T_5ab03_row2_col8\" class=\"data row2 col8\" >1.125638</td>\n    </tr>\n    <tr>\n      <th id=\"T_5ab03_level0_row3\" class=\"row_heading level0 row3\" >Goo Macy</th>\n      <td id=\"T_5ab03_row3_col0\" class=\"data row3 col0\" >0.938427</td>\n      <td id=\"T_5ab03_row3_col1\" class=\"data row3 col1\" >0.766829</td>\n      <td id=\"T_5ab03_row3_col2\" class=\"data row3 col2\" >1.722382</td>\n      <td id=\"T_5ab03_row3_col3\" class=\"data row3 col3\" >0.394587</td>\n      <td id=\"T_5ab03_row3_col4\" class=\"data row3 col4\" >0.450212</td>\n      <td id=\"T_5ab03_row3_col5\" class=\"data row3 col5\" >0.266829</td>\n      <td id=\"T_5ab03_row3_col6\" class=\"data row3 col6\" >0.985561</td>\n      <td id=\"T_5ab03_row3_col7\" class=\"data row3 col7\" >0.788170</td>\n      <td id=\"T_5ab03_row3_col8\" class=\"data row3 col8\" >0.172120</td>\n    </tr>\n    <tr>\n      <th id=\"T_5ab03_level0_row4\" class=\"row_heading level0 row4\" >Antonio Osako</th>\n      <td id=\"T_5ab03_row4_col0\" class=\"data row4 col0\" >1.047700</td>\n      <td id=\"T_5ab03_row4_col1\" class=\"data row4 col1\" >1.433558</td>\n      <td id=\"T_5ab03_row4_col2\" class=\"data row4 col2\" >1.526900</td>\n      <td id=\"T_5ab03_row4_col3\" class=\"data row4 col3\" >0.259588</td>\n      <td id=\"T_5ab03_row4_col4\" class=\"data row4 col4\" >0.735398</td>\n      <td id=\"T_5ab03_row4_col5\" class=\"data row4 col5\" >0.689525</td>\n      <td id=\"T_5ab03_row4_col6\" class=\"data row4 col6\" >0.158710</td>\n      <td id=\"T_5ab03_row4_col7\" class=\"data row4 col7\" >0.554949</td>\n      <td id=\"T_5ab03_row4_col8\" class=\"data row4 col8\" >0.784385</td>\n    </tr>\n    <tr>\n      <th id=\"T_5ab03_level0_row5\" class=\"row_heading level0 row5\" >Mac Rialto</th>\n      <td id=\"T_5ab03_row5_col0\" class=\"data row5 col0\" >0.696431</td>\n      <td id=\"T_5ab03_row5_col1\" class=\"data row5 col1\" >0.650027</td>\n      <td id=\"T_5ab03_row5_col2\" class=\"data row5 col2\" >1.353994</td>\n      <td id=\"T_5ab03_row5_col3\" class=\"data row5 col3\" >0.256228</td>\n      <td id=\"T_5ab03_row5_col4\" class=\"data row5 col4\" >0.727757</td>\n      <td id=\"T_5ab03_row5_col5\" class=\"data row5 col5\" >0.890233</td>\n      <td id=\"T_5ab03_row5_col6\" class=\"data row5 col6\" >0.560189</td>\n      <td id=\"T_5ab03_row5_col7\" class=\"data row5 col7\" >0.999000</td>\n      <td id=\"T_5ab03_row5_col8\" class=\"data row5 col8\" >1.052002</td>\n    </tr>\n    <tr>\n      <th id=\"T_5ab03_level0_row6\" class=\"row_heading level0 row6\" >Pop Winter</th>\n      <td id=\"T_5ab03_row6_col0\" class=\"data row6 col0\" >1.040598</td>\n      <td id=\"T_5ab03_row6_col1\" class=\"data row6 col1\" >0.983926</td>\n      <td id=\"T_5ab03_row6_col2\" class=\"data row6 col2\" >1.628897</td>\n      <td id=\"T_5ab03_row6_col3\" class=\"data row6 col3\" >0.484460</td>\n      <td id=\"T_5ab03_row6_col4\" class=\"data row6 col4\" >0.717834</td>\n      <td id=\"T_5ab03_row6_col5\" class=\"data row6 col5\" >0.587990</td>\n      <td id=\"T_5ab03_row6_col6\" class=\"data row6 col6\" >1.018987</td>\n      <td id=\"T_5ab03_row6_col7\" class=\"data row6 col7\" >0.191163</td>\n      <td id=\"T_5ab03_row6_col8\" class=\"data row6 col8\" >0.767398</td>\n    </tr>\n    <tr>\n      <th id=\"T_5ab03_level0_row7\" class=\"row_heading level0 row7\" >Metric Wobin</th>\n      <td id=\"T_5ab03_row7_col0\" class=\"data row7 col0\" >0.683141</td>\n      <td id=\"T_5ab03_row7_col1\" class=\"data row7 col1\" >0.713506</td>\n      <td id=\"T_5ab03_row7_col2\" class=\"data row7 col2\" >0.809836</td>\n      <td id=\"T_5ab03_row7_col3\" class=\"data row7 col3\" >0.922308</td>\n      <td id=\"T_5ab03_row7_col4\" class=\"data row7 col4\" >0.509623</td>\n      <td id=\"T_5ab03_row7_col5\" class=\"data row7 col5\" >0.908542</td>\n      <td id=\"T_5ab03_row7_col6\" class=\"data row7 col6\" >1.040728</td>\n      <td id=\"T_5ab03_row7_col7\" class=\"data row7 col7\" >0.745025</td>\n      <td id=\"T_5ab03_row7_col8\" class=\"data row7 col8\" >0.415128</td>\n    </tr>\n    <tr>\n      <th id=\"T_5ab03_level0_row8\" class=\"row_heading level0 row8\" >Tall Everts</th>\n      <td id=\"T_5ab03_row8_col0\" class=\"data row8 col0\" >0.984797</td>\n      <td id=\"T_5ab03_row8_col1\" class=\"data row8 col1\" >0.723021</td>\n      <td id=\"T_5ab03_row8_col2\" class=\"data row8 col2\" >1.698603</td>\n      <td id=\"T_5ab03_row8_col3\" class=\"data row8 col3\" >0.886056</td>\n      <td id=\"T_5ab03_row8_col4\" class=\"data row8 col4\" >1.043930</td>\n      <td id=\"T_5ab03_row8_col5\" class=\"data row8 col5\" >0.275210</td>\n      <td id=\"T_5ab03_row8_col6\" class=\"data row8 col6\" >0.136665</td>\n      <td id=\"T_5ab03_row8_col7\" class=\"data row8 col7\" >0.921870</td>\n      <td id=\"T_5ab03_row8_col8\" class=\"data row8 col8\" >0.212665</td>\n    </tr>\n  </tbody>\n</table>\n"
     },
     "execution_count": 22,
     "metadata": {},
     "output_type": "execute_result"
    }
   ],
   "source": [
    "new_lineup = []\n",
    "for player in pies.lineup:\n",
    "    new_lineup.append(player.simulated_copy(buffs=\n",
    "                                         {'thwackability': 0.5130641039787702,\n",
    "                                          'divinity': 0.7269251670605504,\n",
    "                                          'omniscience': 0.15027996064258692,\n",
    "                                          'continuation': 0.11857006105026602,\n",
    "                                          'cinnamon': 0.5548917066411219}))\n",
    "\n",
    "set_heatmap(get_batting_stlats(new_lineup), maxVal=1.0)\n",
    "# 62fb21ab-1ef3-4c01-93a2-4d95325b1dab"
   ],
   "metadata": {
    "collapsed": false,
    "pycharm": {
     "name": "#%%\n"
    }
   }
  },
  {
   "cell_type": "markdown",
   "id": "71063f4c",
   "metadata": {},
   "source": [
    "### Snow Shoes\n",
    "\n",
    "**Give Snow Shoes to a random Player in your Team's Lineup.**\n",
    "\n",
    "This would award a random batter with the Snow Shoes Item. Exact stat changes are unknown but this is likely the same\n",
    "as the Rocket Shoes. Assuming this, see below for estimated stat changes."
   ]
  },
  {
   "cell_type": "code",
   "execution_count": 23,
   "outputs": [
    {
     "data": {
      "text/plain": "<pandas.io.formats.style.Styler at 0x207825d28b0>",
      "text/html": "<style type=\"text/css\">\n#T_60925_row0_col0 {\n  background-color: #5ab760;\n  color: #f1f1f1;\n}\n#T_60925_row0_col1, #T_60925_row1_col0, #T_60925_row1_col1, #T_60925_row2_col1, #T_60925_row2_col2, #T_60925_row4_col0, #T_60925_row4_col1, #T_60925_row4_col2, #T_60925_row5_col0, #T_60925_row5_col1, #T_60925_row6_col0, #T_60925_row6_col1, #T_60925_row6_col2, #T_60925_row7_col0, #T_60925_row7_col1 {\n  background-color: #006837;\n  color: #f1f1f1;\n}\n#T_60925_row0_col2 {\n  background-color: #bde379;\n  color: #000000;\n}\n#T_60925_row0_col3 {\n  background-color: #d93429;\n  color: #f1f1f1;\n}\n#T_60925_row0_col4 {\n  background-color: #feea9b;\n  color: #000000;\n}\n#T_60925_row0_col5 {\n  background-color: #cdea83;\n  color: #000000;\n}\n#T_60925_row1_col2 {\n  background-color: #8ecf67;\n  color: #000000;\n}\n#T_60925_row1_col3 {\n  background-color: #e95538;\n  color: #f1f1f1;\n}\n#T_60925_row1_col4, #T_60925_row5_col4 {\n  background-color: #3faa59;\n  color: #f1f1f1;\n}\n#T_60925_row1_col5, #T_60925_row4_col5, #T_60925_row6_col3 {\n  background-color: #219c52;\n  color: #f1f1f1;\n}\n#T_60925_row2_col0 {\n  background-color: #16914d;\n  color: #f1f1f1;\n}\n#T_60925_row2_col3 {\n  background-color: #fece7c;\n  color: #000000;\n}\n#T_60925_row2_col4 {\n  background-color: #fff6b0;\n  color: #000000;\n}\n#T_60925_row2_col5 {\n  background-color: #b3df72;\n  color: #000000;\n}\n#T_60925_row3_col0 {\n  background-color: #82c966;\n  color: #000000;\n}\n#T_60925_row3_col1 {\n  background-color: #70c164;\n  color: #000000;\n}\n#T_60925_row3_col2 {\n  background-color: #84ca66;\n  color: #000000;\n}\n#T_60925_row3_col3 {\n  background-color: #fee999;\n  color: #000000;\n}\n#T_60925_row3_col4 {\n  background-color: #69be63;\n  color: #f1f1f1;\n}\n#T_60925_row3_col5 {\n  background-color: #57b65f;\n  color: #f1f1f1;\n}\n#T_60925_row4_col3, #T_60925_row8_col2 {\n  background-color: #cbe982;\n  color: #000000;\n}\n#T_60925_row4_col4, #T_60925_row8_col5 {\n  background-color: #17934e;\n  color: #f1f1f1;\n}\n#T_60925_row5_col2 {\n  background-color: #cfeb85;\n  color: #000000;\n}\n#T_60925_row5_col3 {\n  background-color: #78c565;\n  color: #000000;\n}\n#T_60925_row5_col5 {\n  background-color: #f99153;\n  color: #000000;\n}\n#T_60925_row6_col4 {\n  background-color: #0a7b41;\n  color: #f1f1f1;\n}\n#T_60925_row6_col5 {\n  background-color: #c7e77f;\n  color: #000000;\n}\n#T_60925_row7_col2 {\n  background-color: #036e3a;\n  color: #f1f1f1;\n}\n#T_60925_row7_col3 {\n  background-color: #f7fcb4;\n  color: #000000;\n}\n#T_60925_row7_col4 {\n  background-color: #06733d;\n  color: #f1f1f1;\n}\n#T_60925_row7_col5, #T_60925_row8_col4 {\n  background-color: #fee18d;\n  color: #000000;\n}\n#T_60925_row8_col0 {\n  background-color: #39a758;\n  color: #f1f1f1;\n}\n#T_60925_row8_col1 {\n  background-color: #016a38;\n  color: #f1f1f1;\n}\n#T_60925_row8_col3 {\n  background-color: #0d8044;\n  color: #f1f1f1;\n}\n</style>\n<table id=\"T_60925_\">\n  <thead>\n    <tr>\n      <th class=\"blank level0\" >&nbsp;</th>\n      <th class=\"col_heading level0 col0\" >Baserunning Rating</th>\n      <th class=\"col_heading level0 col1\" >Laserlikeness</th>\n      <th class=\"col_heading level0 col2\" >Continuation</th>\n      <th class=\"col_heading level0 col3\" >Base Thirst</th>\n      <th class=\"col_heading level0 col4\" >Indulgence</th>\n      <th class=\"col_heading level0 col5\" >Ground Friction</th>\n    </tr>\n  </thead>\n  <tbody>\n    <tr>\n      <th id=\"T_60925_level0_row0\" class=\"row_heading level0 row0\" >Clay Dickens</th>\n      <td id=\"T_60925_row0_col0\" class=\"data row0 col0\" >0.816180</td>\n      <td id=\"T_60925_row0_col1\" class=\"data row0 col1\" >1.471418</td>\n      <td id=\"T_60925_row0_col2\" class=\"data row0 col2\" >0.652480</td>\n      <td id=\"T_60925_row0_col3\" class=\"data row0 col3\" >0.108057</td>\n      <td id=\"T_60925_row0_col4\" class=\"data row0 col4\" >0.433537</td>\n      <td id=\"T_60925_row0_col5\" class=\"data row0 col5\" >0.622207</td>\n    </tr>\n    <tr>\n      <th id=\"T_60925_level0_row1\" class=\"row_heading level0 row1\" >Brooke Honeywell</th>\n      <td id=\"T_60925_row1_col0\" class=\"data row1 col0\" >1.025693</td>\n      <td id=\"T_60925_row1_col1\" class=\"data row1 col1\" >1.701092</td>\n      <td id=\"T_60925_row1_col2\" class=\"data row1 col2\" >0.736108</td>\n      <td id=\"T_60925_row1_col3\" class=\"data row1 col3\" >0.162532</td>\n      <td id=\"T_60925_row1_col4\" class=\"data row1 col4\" >0.850321</td>\n      <td id=\"T_60925_row1_col5\" class=\"data row1 col5\" >0.889350</td>\n    </tr>\n    <tr>\n      <th id=\"T_60925_level0_row2\" class=\"row_heading level0 row2\" >Nikola Honeycrisp</th>\n      <td id=\"T_60925_row2_col0\" class=\"data row2 col0\" >0.913166</td>\n      <td id=\"T_60925_row2_col1\" class=\"data row2 col1\" >1.264665</td>\n      <td id=\"T_60925_row2_col2\" class=\"data row2 col2\" >1.076051</td>\n      <td id=\"T_60925_row2_col3\" class=\"data row2 col3\" >0.366673</td>\n      <td id=\"T_60925_row2_col4\" class=\"data row2 col4\" >0.469307</td>\n      <td id=\"T_60925_row2_col5\" class=\"data row2 col5\" >0.673053</td>\n    </tr>\n    <tr>\n      <th id=\"T_60925_level0_row3\" class=\"row_heading level0 row3\" >Goo Macy</th>\n      <td id=\"T_60925_row3_col0\" class=\"data row3 col0\" >0.756284</td>\n      <td id=\"T_60925_row3_col1\" class=\"data row3 col1\" >0.782515</td>\n      <td id=\"T_60925_row3_col2\" class=\"data row3 col2\" >0.751152</td>\n      <td id=\"T_60925_row3_col3\" class=\"data row3 col3\" >0.428346</td>\n      <td id=\"T_60925_row3_col4\" class=\"data row3 col4\" >0.793781</td>\n      <td id=\"T_60925_row3_col5\" class=\"data row3 col5\" >0.816885</td>\n    </tr>\n    <tr>\n      <th id=\"T_60925_level0_row4\" class=\"row_heading level0 row4\" >Antonio Osako</th>\n      <td id=\"T_60925_row4_col0\" class=\"data row4 col0\" >1.198545</td>\n      <td id=\"T_60925_row4_col1\" class=\"data row4 col1\" >1.523617</td>\n      <td id=\"T_60925_row4_col2\" class=\"data row4 col2\" >1.475868</td>\n      <td id=\"T_60925_row4_col3\" class=\"data row4 col3\" >0.626097</td>\n      <td id=\"T_60925_row4_col4\" class=\"data row4 col4\" >0.909120</td>\n      <td id=\"T_60925_row4_col5\" class=\"data row4 col5\" >0.886859</td>\n    </tr>\n    <tr>\n      <th id=\"T_60925_level0_row5\" class=\"row_heading level0 row5\" >Mac Rialto</th>\n      <td id=\"T_60925_row5_col0\" class=\"data row5 col0\" >1.037398</td>\n      <td id=\"T_60925_row5_col1\" class=\"data row5 col1\" >1.688765</td>\n      <td id=\"T_60925_row5_col2\" class=\"data row5 col2\" >0.620421</td>\n      <td id=\"T_60925_row5_col3\" class=\"data row5 col3\" >0.772971</td>\n      <td id=\"T_60925_row5_col4\" class=\"data row5 col4\" >0.850586</td>\n      <td id=\"T_60925_row5_col5\" class=\"data row5 col5\" >0.257657</td>\n    </tr>\n    <tr>\n      <th id=\"T_60925_level0_row6\" class=\"row_heading level0 row6\" >Pop Winter</th>\n      <td id=\"T_60925_row6_col0\" class=\"data row6 col0\" >1.046578</td>\n      <td id=\"T_60925_row6_col1\" class=\"data row6 col1\" >1.179643</td>\n      <td id=\"T_60925_row6_col2\" class=\"data row6 col2\" >1.271859</td>\n      <td id=\"T_60925_row6_col3\" class=\"data row6 col3\" >0.889978</td>\n      <td id=\"T_60925_row6_col4\" class=\"data row6 col4\" >0.960041</td>\n      <td id=\"T_60925_row6_col5\" class=\"data row6 col5\" >0.635120</td>\n    </tr>\n    <tr>\n      <th id=\"T_60925_level0_row7\" class=\"row_heading level0 row7\" >Metric Wobin</th>\n      <td id=\"T_60925_row7_col0\" class=\"data row7 col0\" >1.070862</td>\n      <td id=\"T_60925_row7_col1\" class=\"data row7 col1\" >1.577025</td>\n      <td id=\"T_60925_row7_col2\" class=\"data row7 col2\" >0.986263</td>\n      <td id=\"T_60925_row7_col3\" class=\"data row7 col3\" >0.523296</td>\n      <td id=\"T_60925_row7_col4\" class=\"data row7 col4\" >0.975131</td>\n      <td id=\"T_60925_row7_col5\" class=\"data row7 col5\" >0.403961</td>\n    </tr>\n    <tr>\n      <th id=\"T_60925_level0_row8\" class=\"row_heading level0 row8\" >Tall Everts</th>\n      <td id=\"T_60925_row8_col0\" class=\"data row8 col0\" >0.855741</td>\n      <td id=\"T_60925_row8_col1\" class=\"data row8 col1\" >0.993194</td>\n      <td id=\"T_60925_row8_col2\" class=\"data row8 col2\" >0.626985</td>\n      <td id=\"T_60925_row8_col3\" class=\"data row8 col3\" >0.945482</td>\n      <td id=\"T_60925_row8_col4\" class=\"data row8 col4\" >0.405068</td>\n      <td id=\"T_60925_row8_col5\" class=\"data row8 col5\" >0.907435</td>\n    </tr>\n  </tbody>\n</table>\n"
     },
     "execution_count": 23,
     "metadata": {},
     "output_type": "execute_result"
    }
   ],
   "source": [
    "new_lineup = []\n",
    "for player in pies.lineup:\n",
    "    new_lineup.append(player.simulated_copy(buffs=\n",
    "                                         {'laserlikeness': 0.7352479438825257,\n",
    "                                          'tenaciousness': 0.18846089786002318,\n",
    "                                          'chasiness': 0.17397007472834686,\n",
    "                                          'continuation': 0.36907020559415343,\n",
    "                                          'base_thirst': 0.3980900812170812,\n",
    "                                          'indulgence': 0.18520160996281987}))\n",
    "\n",
    "set_heatmap(get_baserunning_stlats(new_lineup), maxVal=1.0)\n",
    "# 971353de-05f9-47b2-8c27-62b666f182af"
   ],
   "metadata": {
    "collapsed": false,
    "pycharm": {
     "name": "#%%\n"
    }
   }
  },
  {
   "cell_type": "markdown",
   "id": "303e0a17",
   "metadata": {},
   "source": [
    "### Catcher's Mittens\n",
    "\n",
    "**Give Catcher's Mittens to a random Player in your Team's Lineup.**\n",
    "\n",
    "This would award a random batter with the Catcher's Mittens Item. Exact stat changes are unknown but this is likely the same\n",
    "as the Catcher's Mitt. Assuming this, see below for estimated stat changes."
   ]
  },
  {
   "cell_type": "code",
   "execution_count": 24,
   "outputs": [
    {
     "data": {
      "text/plain": "<pandas.io.formats.style.Styler at 0x207815758e0>",
      "text/html": "<style type=\"text/css\">\n#T_2246a_row0_col0, #T_2246a_row0_col1, #T_2246a_row0_col2, #T_2246a_row1_col3, #T_2246a_row2_col1, #T_2246a_row3_col1, #T_2246a_row4_col1, #T_2246a_row4_col2, #T_2246a_row5_col0, #T_2246a_row5_col1, #T_2246a_row5_col3, #T_2246a_row5_col5, #T_2246a_row6_col1, #T_2246a_row6_col5, #T_2246a_row7_col1, #T_2246a_row7_col2, #T_2246a_row8_col1, #T_2246a_row8_col5 {\n  background-color: #006837;\n  color: #f1f1f1;\n}\n#T_2246a_row0_col3 {\n  background-color: #70c164;\n  color: #000000;\n}\n#T_2246a_row0_col4 {\n  background-color: #08773f;\n  color: #f1f1f1;\n}\n#T_2246a_row0_col5 {\n  background-color: #036e3a;\n  color: #f1f1f1;\n}\n#T_2246a_row1_col0 {\n  background-color: #a0d669;\n  color: #000000;\n}\n#T_2246a_row1_col1 {\n  background-color: #51b35e;\n  color: #f1f1f1;\n}\n#T_2246a_row1_col2 {\n  background-color: #c3e67d;\n  color: #000000;\n}\n#T_2246a_row1_col4 {\n  background-color: #e14430;\n  color: #f1f1f1;\n}\n#T_2246a_row1_col5 {\n  background-color: #45ad5b;\n  color: #f1f1f1;\n}\n#T_2246a_row2_col0 {\n  background-color: #118848;\n  color: #f1f1f1;\n}\n#T_2246a_row2_col2 {\n  background-color: #6ec064;\n  color: #000000;\n}\n#T_2246a_row2_col3 {\n  background-color: #0b7d42;\n  color: #f1f1f1;\n}\n#T_2246a_row2_col4, #T_2246a_row4_col0 {\n  background-color: #15904c;\n  color: #f1f1f1;\n}\n#T_2246a_row2_col5 {\n  background-color: #5db961;\n  color: #f1f1f1;\n}\n#T_2246a_row3_col0 {\n  background-color: #b3df72;\n  color: #000000;\n}\n#T_2246a_row3_col2, #T_2246a_row3_col5 {\n  background-color: #78c565;\n  color: #000000;\n}\n#T_2246a_row3_col3 {\n  background-color: #feefa3;\n  color: #000000;\n}\n#T_2246a_row3_col4 {\n  background-color: #ca2427;\n  color: #f1f1f1;\n}\n#T_2246a_row4_col3 {\n  background-color: #d3ec87;\n  color: #000000;\n}\n#T_2246a_row4_col4 {\n  background-color: #f67f4b;\n  color: #f1f1f1;\n}\n#T_2246a_row4_col5 {\n  background-color: #9bd469;\n  color: #000000;\n}\n#T_2246a_row5_col2 {\n  background-color: #128a49;\n  color: #f1f1f1;\n}\n#T_2246a_row5_col4 {\n  background-color: #b1de71;\n  color: #000000;\n}\n#T_2246a_row6_col0 {\n  background-color: #73c264;\n  color: #000000;\n}\n#T_2246a_row6_col2 {\n  background-color: #bfe47a;\n  color: #000000;\n}\n#T_2246a_row6_col3, #T_2246a_row7_col0 {\n  background-color: #1e9a51;\n  color: #f1f1f1;\n}\n#T_2246a_row6_col4 {\n  background-color: #ea5739;\n  color: #f1f1f1;\n}\n#T_2246a_row7_col3 {\n  background-color: #219c52;\n  color: #f1f1f1;\n}\n#T_2246a_row7_col4 {\n  background-color: #fed481;\n  color: #000000;\n}\n#T_2246a_row7_col5 {\n  background-color: #fff1a8;\n  color: #000000;\n}\n#T_2246a_row8_col0 {\n  background-color: #06733d;\n  color: #f1f1f1;\n}\n#T_2246a_row8_col2 {\n  background-color: #17934e;\n  color: #f1f1f1;\n}\n#T_2246a_row8_col3 {\n  background-color: #66bd63;\n  color: #f1f1f1;\n}\n#T_2246a_row8_col4 {\n  background-color: #fffbb8;\n  color: #000000;\n}\n</style>\n<table id=\"T_2246a_\">\n  <thead>\n    <tr>\n      <th class=\"blank level0\" >&nbsp;</th>\n      <th class=\"col_heading level0 col0\" >Defense Rating</th>\n      <th class=\"col_heading level0 col1\" >Omniscience</th>\n      <th class=\"col_heading level0 col2\" >Tenaciousness</th>\n      <th class=\"col_heading level0 col3\" >Watchfulness</th>\n      <th class=\"col_heading level0 col4\" >Anticapitalism</th>\n      <th class=\"col_heading level0 col5\" >Chasiness</th>\n    </tr>\n  </thead>\n  <tbody>\n    <tr>\n      <th id=\"T_2246a_level0_row0\" class=\"row_heading level0 row0\" >Clay Dickens</th>\n      <td id=\"T_2246a_row0_col0\" class=\"data row0 col0\" >1.139769</td>\n      <td id=\"T_2246a_row0_col1\" class=\"data row0 col1\" >1.512070</td>\n      <td id=\"T_2246a_row0_col2\" class=\"data row0 col2\" >1.473453</td>\n      <td id=\"T_2246a_row0_col3\" class=\"data row0 col3\" >0.781643</td>\n      <td id=\"T_2246a_row0_col4\" class=\"data row0 col4\" >0.966342</td>\n      <td id=\"T_2246a_row0_col5\" class=\"data row0 col5\" >0.986761</td>\n    </tr>\n    <tr>\n      <th id=\"T_2246a_level0_row1\" class=\"row_heading level0 row1\" >Brooke Honeywell</th>\n      <td id=\"T_2246a_row1_col0\" class=\"data row1 col0\" >0.709866</td>\n      <td id=\"T_2246a_row1_col1\" class=\"data row1 col1\" >0.824797</td>\n      <td id=\"T_2246a_row1_col2\" class=\"data row1 col2\" >0.642345</td>\n      <td id=\"T_2246a_row1_col3\" class=\"data row1 col3\" >1.031601</td>\n      <td id=\"T_2246a_row1_col4\" class=\"data row1 col4\" >0.133355</td>\n      <td id=\"T_2246a_row1_col5\" class=\"data row1 col5\" >0.841417</td>\n    </tr>\n    <tr>\n      <th id=\"T_2246a_level0_row2\" class=\"row_heading level0 row2\" >Nikola Honeycrisp</th>\n      <td id=\"T_2246a_row2_col0\" class=\"data row2 col0\" >0.932025</td>\n      <td id=\"T_2246a_row2_col1\" class=\"data row2 col1\" >1.062422</td>\n      <td id=\"T_2246a_row2_col2\" class=\"data row2 col2\" >0.785688</td>\n      <td id=\"T_2246a_row2_col3\" class=\"data row2 col3\" >0.953797</td>\n      <td id=\"T_2246a_row2_col4\" class=\"data row2 col4\" >0.917052</td>\n      <td id=\"T_2246a_row2_col5\" class=\"data row2 col5\" >0.811580</td>\n    </tr>\n    <tr>\n      <th id=\"T_2246a_level0_row3\" class=\"row_heading level0 row3\" >Goo Macy</th>\n      <td id=\"T_2246a_row3_col0\" class=\"data row3 col0\" >0.672623</td>\n      <td id=\"T_2246a_row3_col1\" class=\"data row3 col1\" >1.096068</td>\n      <td id=\"T_2246a_row3_col2\" class=\"data row3 col2\" >0.770566</td>\n      <td id=\"T_2246a_row3_col3\" class=\"data row3 col3\" >0.448296</td>\n      <td id=\"T_2246a_row3_col4\" class=\"data row3 col4\" >0.076789</td>\n      <td id=\"T_2246a_row3_col5\" class=\"data row3 col5\" >0.771902</td>\n    </tr>\n    <tr>\n      <th id=\"T_2246a_level0_row4\" class=\"row_heading level0 row4\" >Antonio Osako</th>\n      <td id=\"T_2246a_row4_col0\" class=\"data row4 col0\" >0.915852</td>\n      <td id=\"T_2246a_row4_col1\" class=\"data row4 col1\" >1.568177</td>\n      <td id=\"T_2246a_row4_col2\" class=\"data row4 col2\" >1.295986</td>\n      <td id=\"T_2246a_row4_col3\" class=\"data row4 col3\" >0.609396</td>\n      <td id=\"T_2246a_row4_col4\" class=\"data row4 col4\" >0.230412</td>\n      <td id=\"T_2246a_row4_col5\" class=\"data row4 col5\" >0.715910</td>\n    </tr>\n    <tr>\n      <th id=\"T_2246a_level0_row5\" class=\"row_heading level0 row5\" >Mac Rialto</th>\n      <td id=\"T_2246a_row5_col0\" class=\"data row5 col0\" >1.015120</td>\n      <td id=\"T_2246a_row5_col1\" class=\"data row5 col1\" >1.247566</td>\n      <td id=\"T_2246a_row5_col2\" class=\"data row5 col2\" >0.927617</td>\n      <td id=\"T_2246a_row5_col3\" class=\"data row5 col3\" >0.997475</td>\n      <td id=\"T_2246a_row5_col4\" class=\"data row5 col4\" >0.679064</td>\n      <td id=\"T_2246a_row5_col5\" class=\"data row5 col5\" >1.280841</td>\n    </tr>\n    <tr>\n      <th id=\"T_2246a_level0_row6\" class=\"row_heading level0 row6\" >Pop Winter</th>\n      <td id=\"T_2246a_row6_col0\" class=\"data row6 col0\" >0.780517</td>\n      <td id=\"T_2246a_row6_col1\" class=\"data row6 col1\" >1.130748</td>\n      <td id=\"T_2246a_row6_col2\" class=\"data row6 col2\" >0.650865</td>\n      <td id=\"T_2246a_row6_col3\" class=\"data row6 col3\" >0.894188</td>\n      <td id=\"T_2246a_row6_col4\" class=\"data row6 col4\" >0.166984</td>\n      <td id=\"T_2246a_row6_col5\" class=\"data row6 col5\" >1.037541</td>\n    </tr>\n    <tr>\n      <th id=\"T_2246a_level0_row7\" class=\"row_heading level0 row7\" >Metric Wobin</th>\n      <td id=\"T_2246a_row7_col0\" class=\"data row7 col0\" >0.892495</td>\n      <td id=\"T_2246a_row7_col1\" class=\"data row7 col1\" >1.059328</td>\n      <td id=\"T_2246a_row7_col2\" class=\"data row7 col2\" >1.368805</td>\n      <td id=\"T_2246a_row7_col3\" class=\"data row7 col3\" >0.887975</td>\n      <td id=\"T_2246a_row7_col4\" class=\"data row7 col4\" >0.378073</td>\n      <td id=\"T_2246a_row7_col5\" class=\"data row7 col5\" >0.454292</td>\n    </tr>\n    <tr>\n      <th id=\"T_2246a_level0_row8\" class=\"row_heading level0 row8\" >Tall Everts</th>\n      <td id=\"T_2246a_row8_col0\" class=\"data row8 col0\" >0.975231</td>\n      <td id=\"T_2246a_row8_col1\" class=\"data row8 col1\" >1.552245</td>\n      <td id=\"T_2246a_row8_col2\" class=\"data row8 col2\" >0.909405</td>\n      <td id=\"T_2246a_row8_col3\" class=\"data row8 col3\" >0.798753</td>\n      <td id=\"T_2246a_row8_col4\" class=\"data row8 col4\" >0.486434</td>\n      <td id=\"T_2246a_row8_col5\" class=\"data row8 col5\" >1.005090</td>\n    </tr>\n  </tbody>\n</table>\n"
     },
     "execution_count": 24,
     "metadata": {},
     "output_type": "execute_result"
    }
   ],
   "source": [
    "new_lineup = []\n",
    "for player in pies.lineup:\n",
    "    new_lineup.append(player.simulated_copy(buffs=\n",
    "                                         {'omniscience': 0.7417557342177603,\n",
    "                                          'tenaciousness': 0.5530520529042229,\n",
    "                                          'watchfulness': 0.29585140345474525,\n",
    "                                          'indulgence': 0.1362837137461368,\n",
    "                                          'coldness': 0.11847071954893859,\n",
    "                                          'chasiness': 0.25232444207782545}))\n",
    "\n",
    "set_heatmap(get_defense_stlats(new_lineup), maxVal=1.0)\n",
    "# 488be339-eee0-4b01-b6ce-717bee78237f"
   ],
   "metadata": {
    "collapsed": false,
    "pycharm": {
     "name": "#%%\n"
    }
   }
  },
  {
   "cell_type": "markdown",
   "id": "8a693fd0",
   "metadata": {},
   "source": [
    "\n",
    "---\n",
    "## Appendix\n",
    "* [Description of Attributes](https://www.blaseball.wiki/w/Player_Attributes)\n",
    "* [Stlat Viewer](https://blaseballplayers.netlify.app/team/9a2f6bb9-c72c-437c-a3c4-e076dc5d10d4)\n",
    "* [Historical Player Graphs](http://yoori.space/hloroscopes/)"
   ]
  }
 ],
 "metadata": {
  "kernelspec": {
   "name": "python3",
   "language": "python",
   "display_name": "Python 3 (ipykernel)"
  }
 },
 "nbformat": 4,
 "nbformat_minor": 5
}