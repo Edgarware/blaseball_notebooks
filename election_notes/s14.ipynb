{
 "cells": [
  {
   "cell_type": "markdown",
   "metadata": {},
   "source": [
    "# Season 14 Election Notes\n",
    "\n",
    ">**FORBIDDEN KNOWLEDGE WARNING**\n",
    ">\n",
    ">This document contains some information that is not currently present on the main site and may be considered spoilers.\n",
    ">Continue at your own discretion. Some information in this document cannot be shared on the Discord without spoiler tags."
   ]
  },
  {
   "cell_type": "code",
   "execution_count": 40,
   "metadata": {
    "pycharm": {
     "name": "#%%\n"
    }
   },
   "outputs": [],
   "source": [
    "%matplotlib inline\n",
    "from blaseball_mike.models import *\n",
    "import plotly.express as plot\n",
    "import plotly.io as _pio\n",
    "import plotly.subplots as subplot\n",
    "\n",
    "import os\n",
    "import sys\n",
    "pdir = os.path.abspath(os.path.join(os.path.dirname(''), os.path.pardir))\n",
    "sys.path.append(pdir)\n",
    "from display import *\n",
    "from blessings import *\n",
    "sys.path.remove(pdir)\n",
    "\n",
    "_pio.renderers.default = \"notebook_connected\"\n",
    "\n",
    "pies = Team.load_by_name(\"Philly Pies\")"
   ]
  },
  {
   "cell_type": "code",
   "execution_count": 41,
   "outputs": [
    {
     "name": "stdout",
     "output_type": "stream",
     "text": [
      "Last Updated Season 14, Day 26\n"
     ]
    }
   ],
   "source": [
    "sim = SimulationData.load()\n",
    "print(f\"Last Updated Season {sim.season}, Day {sim.day}\")"
   ],
   "metadata": {
    "collapsed": false,
    "pycharm": {
     "name": "#%%\n"
    }
   }
  },
  {
   "cell_type": "markdown",
   "metadata": {},
   "source": [
    "---\n",
    "## Decrees\n",
    "\n",
    "Decrees are chosen by majority votes across all teams. `1` decree will pass this season."
   ]
  },
  {
   "cell_type": "markdown",
   "metadata": {},
   "source": [
    "### Meal Plan\n",
    "**All Fans will gain 2 new temporary Snack Slots each Earlsiesta and 2 new temporary Snack slots each Latesiesta. The 4\n",
    "extra Slots and the Snacks in them will be washed away after each Election.**\n",
    "\n",
    "### Pot Luck\n",
    "**All Fans gain 3 Snack Slots permanently. Every Season, 3 Snacks in Concessions will be randomly selected to be\n",
    "Spoiled, earning extremely low payouts, with a small chance of a Gourmet Jackpot.**\n",
    "\n",
    "### All You Can Eat\n",
    "**Fans will be able to freely buy and sell Snack Slots at any time. The less Snack Slots a Fan owns, the higher the\n",
    "payout for the Snacks in them.**\n",
    "\n",
    "All Decrees change how player Inventory is managed, by adding more item slots but having different downsides."
   ]
  },
  {
   "cell_type": "markdown",
   "metadata": {},
   "source": [
    "___\n",
    "## Wills\n",
    "\n",
    "Will are selected for each team by raffle. Each team will draw `2` random wills. The bottom 4 teams in the league by\n",
    "standings will draw `3`. The chosen wills are random, but wills with more votes are more likely to be selected."
   ]
  },
  {
   "cell_type": "markdown",
   "metadata": {},
   "source": [
    "### Plunder\n",
    "**Steal a Player from the Idols board. Send a random Player from your Team back.**\n",
    "\n",
    "Due to the random nature of the target on our team, this tests the best case (swapping the Best Player on the Idol Board\n",
    "for a position with our worst player in that position) and the worst case (swaping the Best Player on the Idol Board for\n",
    "a position with our best player in that position).\n",
    "\n",
    "**Best Case Swap:**"
   ]
  },
  {
   "cell_type": "code",
   "execution_count": 42,
   "metadata": {
    "pycharm": {
     "name": "#%%\n"
    }
   },
   "outputs": [
    {
     "name": "stdout",
     "output_type": "stream",
     "text": [
      "Batting: Swap Jaxon Buckley for Yusef Puddles\n"
     ]
    },
    {
     "data": {
      "text/plain": "                         Pies\nbatting_change      +11.9157%\npitching_change      +0.0000%\nbaserunning_change   +3.8889%\ndefense_change       -1.7289%",
      "text/html": "<div>\n<style scoped>\n    .dataframe tbody tr th:only-of-type {\n        vertical-align: middle;\n    }\n\n    .dataframe tbody tr th {\n        vertical-align: top;\n    }\n\n    .dataframe thead th {\n        text-align: right;\n    }\n</style>\n<table border=\"1\" class=\"dataframe\">\n  <thead>\n    <tr style=\"text-align: right;\">\n      <th></th>\n      <th>Pies</th>\n    </tr>\n  </thead>\n  <tbody>\n    <tr>\n      <th>batting_change</th>\n      <td>+11.9157%</td>\n    </tr>\n    <tr>\n      <th>pitching_change</th>\n      <td>+0.0000%</td>\n    </tr>\n    <tr>\n      <th>baserunning_change</th>\n      <td>+3.8889%</td>\n    </tr>\n    <tr>\n      <th>defense_change</th>\n      <td>-1.7289%</td>\n    </tr>\n  </tbody>\n</table>\n</div>"
     },
     "execution_count": 42,
     "metadata": {},
     "output_type": "execute_result"
    }
   ],
   "source": [
    "idols = [x.player for x in Idol.load().values()]\n",
    "\n",
    "idols.sort(key=lambda x: x.batting_rating, reverse=True)\n",
    "best_batting_idol = idols[0]\n",
    "idols.sort(key=lambda x: x.pitching_rating, reverse=True)\n",
    "best_pitching_idol = idols[0]\n",
    "\n",
    "\n",
    "worst_batter = sort_lineup(pies, 1)[0]\n",
    "print(f\"Batting: Swap {best_batting_idol.name} for {worst_batter.name}\")\n",
    "\n",
    "pandas.DataFrame(replace_player(pies, worst_batter, bat_star=best_batting_idol.batting_rating*5, run_star=best_batting_idol.baserunning_rating*5, def_star=best_batting_idol.defense_rating*5))"
   ]
  },
  {
   "cell_type": "code",
   "execution_count": 43,
   "outputs": [
    {
     "name": "stdout",
     "output_type": "stream",
     "text": [
      "Pitching: Swap Nagomi Mcdaniel for Doc Anice\n"
     ]
    },
    {
     "data": {
      "text/plain": "                         Pies\nbatting_change       +0.0000%\npitching_change     +15.3801%\nbaserunning_change   +0.0000%\ndefense_change       +0.0000%",
      "text/html": "<div>\n<style scoped>\n    .dataframe tbody tr th:only-of-type {\n        vertical-align: middle;\n    }\n\n    .dataframe tbody tr th {\n        vertical-align: top;\n    }\n\n    .dataframe thead th {\n        text-align: right;\n    }\n</style>\n<table border=\"1\" class=\"dataframe\">\n  <thead>\n    <tr style=\"text-align: right;\">\n      <th></th>\n      <th>Pies</th>\n    </tr>\n  </thead>\n  <tbody>\n    <tr>\n      <th>batting_change</th>\n      <td>+0.0000%</td>\n    </tr>\n    <tr>\n      <th>pitching_change</th>\n      <td>+15.3801%</td>\n    </tr>\n    <tr>\n      <th>baserunning_change</th>\n      <td>+0.0000%</td>\n    </tr>\n    <tr>\n      <th>defense_change</th>\n      <td>+0.0000%</td>\n    </tr>\n  </tbody>\n</table>\n</div>"
     },
     "execution_count": 43,
     "metadata": {},
     "output_type": "execute_result"
    }
   ],
   "source": [
    "worst_pitcher = sort_rotation(pies, 1)[0]\n",
    "print(f\"Pitching: Swap {best_pitching_idol.name} for {worst_pitcher.name}\")\n",
    "\n",
    "pandas.DataFrame(replace_player(pies, worst_pitcher, pitch_star=best_pitching_idol.pitching_rating*5))\n"
   ],
   "metadata": {
    "collapsed": false,
    "pycharm": {
     "name": "#%%\n"
    }
   }
  },
  {
   "cell_type": "markdown",
   "source": [
    "**Worst Case Swap:**"
   ],
   "metadata": {
    "collapsed": false,
    "pycharm": {
     "name": "#%% md\n"
    }
   }
  },
  {
   "cell_type": "code",
   "execution_count": 44,
   "outputs": [
    {
     "name": "stdout",
     "output_type": "stream",
     "text": [
      "Batting: Swap Jaxon Buckley for Jaxon Buckley\n"
     ]
    },
    {
     "data": {
      "text/plain": "                        Pies\nbatting_change      +0.0000%\npitching_change     +0.0000%\nbaserunning_change  +0.0000%\ndefense_change      +0.0000%",
      "text/html": "<div>\n<style scoped>\n    .dataframe tbody tr th:only-of-type {\n        vertical-align: middle;\n    }\n\n    .dataframe tbody tr th {\n        vertical-align: top;\n    }\n\n    .dataframe thead th {\n        text-align: right;\n    }\n</style>\n<table border=\"1\" class=\"dataframe\">\n  <thead>\n    <tr style=\"text-align: right;\">\n      <th></th>\n      <th>Pies</th>\n    </tr>\n  </thead>\n  <tbody>\n    <tr>\n      <th>batting_change</th>\n      <td>+0.0000%</td>\n    </tr>\n    <tr>\n      <th>pitching_change</th>\n      <td>+0.0000%</td>\n    </tr>\n    <tr>\n      <th>baserunning_change</th>\n      <td>+0.0000%</td>\n    </tr>\n    <tr>\n      <th>defense_change</th>\n      <td>+0.0000%</td>\n    </tr>\n  </tbody>\n</table>\n</div>"
     },
     "execution_count": 44,
     "metadata": {},
     "output_type": "execute_result"
    }
   ],
   "source": [
    "best_batter = sort_lineup(pies, 1, order=\"best\")[0]\n",
    "print(f\"Batting: Swap {best_batting_idol.name} for {best_batter.name}\")\n",
    "\n",
    "pandas.DataFrame(replace_player(pies, best_batter, bat_star=best_batting_idol.batting_rating*5, run_star=best_batting_idol.baserunning_rating*5, def_star=best_batting_idol.defense_rating*5))"
   ],
   "metadata": {
    "collapsed": false,
    "pycharm": {
     "name": "#%%\n"
    }
   }
  },
  {
   "cell_type": "code",
   "execution_count": 45,
   "outputs": [
    {
     "name": "stdout",
     "output_type": "stream",
     "text": [
      "Pitching: Swap Nagomi Mcdaniel for Elvis Figueroa\n"
     ]
    },
    {
     "data": {
      "text/plain": "                        Pies\nbatting_change      +0.0000%\npitching_change     +4.8122%\nbaserunning_change  +0.0000%\ndefense_change      +0.0000%",
      "text/html": "<div>\n<style scoped>\n    .dataframe tbody tr th:only-of-type {\n        vertical-align: middle;\n    }\n\n    .dataframe tbody tr th {\n        vertical-align: top;\n    }\n\n    .dataframe thead th {\n        text-align: right;\n    }\n</style>\n<table border=\"1\" class=\"dataframe\">\n  <thead>\n    <tr style=\"text-align: right;\">\n      <th></th>\n      <th>Pies</th>\n    </tr>\n  </thead>\n  <tbody>\n    <tr>\n      <th>batting_change</th>\n      <td>+0.0000%</td>\n    </tr>\n    <tr>\n      <th>pitching_change</th>\n      <td>+4.8122%</td>\n    </tr>\n    <tr>\n      <th>baserunning_change</th>\n      <td>+0.0000%</td>\n    </tr>\n    <tr>\n      <th>defense_change</th>\n      <td>+0.0000%</td>\n    </tr>\n  </tbody>\n</table>\n</div>"
     },
     "execution_count": 45,
     "metadata": {},
     "output_type": "execute_result"
    }
   ],
   "source": [
    "best_pitcher = sort_rotation(pies, 1, order=\"best\")[0]\n",
    "print(f\"Pitching: Swap {best_pitching_idol.name} for {best_pitcher.name}\")\n",
    "\n",
    "pandas.DataFrame(replace_player(pies, best_pitcher, pitch_star=best_pitching_idol.pitching_rating*5))\n"
   ],
   "metadata": {
    "collapsed": false,
    "pycharm": {
     "name": "#%%\n"
    }
   }
  },
  {
   "cell_type": "markdown",
   "metadata": {},
   "source": [
    "### Exchange\n",
    "**Swap a Player from a Team in the opposite Subleague with a Player from your Team.**\n",
    "\n",
    "There are 139 possible Wild League players to swap with our 12 existing players, which is too many permuations for me to\n",
    "list here. Instead, here's the list of the top 10 players available to choose from by star rating. For maximum impact it\n",
    "is recommended we swap the player with the worst batter or pitcher respectively.\n",
    "\n",
    "Note that position does not matter for the swap, so a player that is currently batting can still be added as a pitcher\n",
    "and vice-versa."
   ]
  },
  {
   "cell_type": "markdown",
   "metadata": {},
   "source": [
    "**Best Batter options and Pies worst Batter:**"
   ]
  },
  {
   "cell_type": "code",
   "execution_count": null,
   "metadata": {
    "pycharm": {
     "name": "#%%\n",
     "is_executing": true
    }
   },
   "outputs": [],
   "source": [
    "wild = Subleague.load(\"aabc11a1-81af-4036-9f18-229c759ca8a9\")\n",
    "all_wild = []\n",
    "for team in wild.teams.values():\n",
    "    all_wild.extend(team.lineup + team.rotation)\n",
    "    \n",
    "all_wild.sort(key=lambda x: x.batting_rating, reverse=True)\n",
    "set_heatmap(get_batting_stlats(all_wild[0:10]), maxVal=1)\n"
   ]
  },
  {
   "cell_type": "code",
   "execution_count": null,
   "metadata": {
    "pycharm": {
     "is_executing": true
    }
   },
   "outputs": [],
   "source": [
    "set_heatmap(get_batting_stlats(sort_lineup(pies, 1)), maxVal=1)"
   ]
  },
  {
   "cell_type": "markdown",
   "metadata": {},
   "source": [
    "**Best Pitchers options and Pies worst Pitcher:**"
   ]
  },
  {
   "cell_type": "code",
   "execution_count": null,
   "metadata": {
    "pycharm": {
     "is_executing": true
    }
   },
   "outputs": [],
   "source": [
    "all_wild.sort(key=lambda x: x.pitching_rating, reverse=True)\n",
    "set_heatmap(get_pitching_stlats(all_wild[0:10]), maxVal=1)"
   ]
  },
  {
   "cell_type": "code",
   "execution_count": null,
   "metadata": {
    "pycharm": {
     "is_executing": true
    }
   },
   "outputs": [],
   "source": [
    "set_heatmap(get_pitching_stlats(sort_rotation(pies, 1)), maxVal=1)"
   ]
  },
  {
   "cell_type": "markdown",
   "metadata": {},
   "source": [
    "### Foreshadow\n",
    "**Swap a Player from your Shadows to your active roster.**\n",
    "\n",
    "There are 14 shadows players to swap with our 12 existing players. Below is a breakdown comparing the best shadows\n",
    "players with the worst player in the particular position.\n",
    "\n",
    "Note that position does not matter for the swap: any shadows player can bat or pitch.\n"
   ]
  },
  {
   "cell_type": "markdown",
   "metadata": {},
   "source": [
    "**Batting:**"
   ]
  },
  {
   "cell_type": "code",
   "execution_count": null,
   "metadata": {
    "pycharm": {
     "name": "#%%\n",
     "is_executing": true
    }
   },
   "outputs": [],
   "source": [
    "shadows = pies.bullpen + pies.bench\n",
    "shadows.sort(key=lambda x: x.batting_rating, reverse=True)\n",
    "best_batting_shadows = shadows[0:4]\n",
    "worst_batter = sort_lineup(pies, 1)[0]\n",
    "\n",
    "get_stars(best_batting_shadows + [worst_batter])"
   ]
  },
  {
   "cell_type": "code",
   "execution_count": null,
   "outputs": [],
   "source": [
    "set_heatmap(get_batting_stlats(best_batting_shadows + [worst_batter]), maxVal=1)"
   ],
   "metadata": {
    "collapsed": false,
    "pycharm": {
     "name": "#%%\n",
     "is_executing": true
    }
   }
  },
  {
   "cell_type": "markdown",
   "source": [
    "**Pitching:**"
   ],
   "metadata": {
    "collapsed": false
   }
  },
  {
   "cell_type": "code",
   "execution_count": null,
   "outputs": [],
   "source": [
    "shadows.sort(key=lambda x: x.pitching_rating, reverse=True)\n",
    "best_pitching_shadows = shadows[0:4]\n",
    "worst_pitcher = sort_rotation(pies, 1)[0]\n",
    "\n",
    "get_stars(best_pitching_shadows + [worst_pitcher])"
   ],
   "metadata": {
    "collapsed": false,
    "pycharm": {
     "name": "#%%\n",
     "is_executing": true
    }
   }
  },
  {
   "cell_type": "code",
   "execution_count": null,
   "outputs": [],
   "source": [
    "set_heatmap(get_pitching_stlats(best_pitching_shadows + [worst_pitcher]), maxVal=1)"
   ],
   "metadata": {
    "collapsed": false,
    "pycharm": {
     "name": "#%%\n",
     "is_executing": true
    }
   }
  },
  {
   "cell_type": "markdown",
   "metadata": {},
   "source": [
    "### Infuse\n",
    "**Boost a Player on your Team by 15% to 30%.**\n",
    "\n",
    "See below for how this would affect various team members at the 2 extreme percentages. This will only affect one player.\n",
    "\n",
    "**15% Change:**"
   ]
  },
  {
   "cell_type": "code",
   "execution_count": null,
   "metadata": {
    "pycharm": {
     "name": "#%%\n",
     "is_executing": true
    }
   },
   "outputs": [],
   "source": [
    "infuse_lineup_table, _, _ = improve_team_batting_table(pies, 0.15)\n",
    "infuse_lineup_table"
   ]
  },
  {
   "cell_type": "code",
   "execution_count": null,
   "metadata": {
    "pycharm": {
     "name": "#%%\n",
     "is_executing": true
    }
   },
   "outputs": [],
   "source": [
    "set_heatmap(get_batting_stlats(improve_team_batting(pies, 0.15)), maxVal=1.0)"
   ]
  },
  {
   "cell_type": "code",
   "execution_count": null,
   "metadata": {
    "pycharm": {
     "name": "#%%\n",
     "is_executing": true
    }
   },
   "outputs": [],
   "source": [
    "infuse_rotation_table, _, _ = improve_team_pitching_table(pies, 0.15)\n",
    "infuse_rotation_table\n"
   ]
  },
  {
   "cell_type": "code",
   "execution_count": null,
   "metadata": {
    "pycharm": {
     "name": "#%%\n",
     "is_executing": true
    }
   },
   "outputs": [],
   "source": [
    "set_heatmap(get_pitching_stlats(improve_team_pitching(pies, 0.15)), maxVal=1)\n"
   ]
  },
  {
   "cell_type": "markdown",
   "metadata": {
    "pycharm": {
     "name": "#%% md\n"
    }
   },
   "source": [
    "**30% Change:**"
   ]
  },
  {
   "cell_type": "code",
   "execution_count": null,
   "metadata": {
    "pycharm": {
     "name": "#%%\n",
     "is_executing": true
    }
   },
   "outputs": [],
   "source": [
    "infuse_lineup_table, _, _ = improve_team_batting_table(pies, 0.30)\n",
    "infuse_lineup_table"
   ]
  },
  {
   "cell_type": "code",
   "execution_count": null,
   "metadata": {
    "pycharm": {
     "name": "#%%\n",
     "is_executing": true
    }
   },
   "outputs": [],
   "source": [
    "set_heatmap(get_batting_stlats(improve_team_batting(pies, 0.30)), maxVal=1)"
   ]
  },
  {
   "cell_type": "code",
   "execution_count": null,
   "metadata": {
    "pycharm": {
     "name": "#%%\n",
     "is_executing": true
    }
   },
   "outputs": [],
   "source": [
    "infuse_rotation_table, _, _ = improve_team_pitching_table(pies, 0.30)\n",
    "infuse_rotation_table\n"
   ]
  },
  {
   "cell_type": "code",
   "execution_count": null,
   "metadata": {
    "pycharm": {
     "name": "#%%\n",
     "is_executing": true
    }
   },
   "outputs": [],
   "source": [
    "set_heatmap(get_pitching_stlats(improve_team_pitching(pies, 0.30)), maxVal=1)"
   ]
  },
  {
   "cell_type": "markdown",
   "metadata": {},
   "source": [
    "### Trust\n",
    "**Receive a mystery Benefit for one of your Teams' Players.**\n",
    "\n",
    "The Benifit here is unknown. It is likely either a stat increase or an unknown Modification."
   ]
  },
  {
   "cell_type": "markdown",
   "metadata": {},
   "source": [
    "### Alternate\n",
    "**Call in an Alternate for a Player on your Team.**\n",
    "\n",
    "Alternates are when players stats are randomized. Below shows the change in Team Average Stars from rerolling our worst\n",
    "player, assuming they would be replaced with the Statistically Average player."
   ]
  },
  {
   "cell_type": "code",
   "execution_count": null,
   "metadata": {
    "pycharm": {
     "name": "#%%\n",
     "is_executing": true
    }
   },
   "outputs": [],
   "source": [
    "worst_pie = sort_overall(pies, 1)[0]\n",
    "\n",
    "print(f\"Rerolling {worst_pie.name}\")\n",
    "if worst_pie in pies.rotation:\n",
    "    out = replace_player(pies, worst_pie, pitch_star=NEW_PLAYER[\"pitching\"])\n",
    "else:\n",
    "    out = replace_player(pies, worst_pie, bat_star=NEW_PLAYER[\"batting\"], run_star=NEW_PLAYER[\"baserunning\"], def_star=NEW_PLAYER[\"defense\"])\n",
    "pandas.DataFrame(out)"
   ]
  },
  {
   "cell_type": "markdown",
   "metadata": {},
   "source": [
    "### Revoke\n",
    "**Revoke a Player from your roster.**\n",
    "\n",
    "Revoking will cause the player to change teams, potentially every season. This will cause our other players to play more\n",
    "often, increasing our average team performance if we chose the worst player. See below for analysis of removing our\n",
    "worst Batter or Pitcher.\n",
    "\n",
    "**Batting:**"
   ]
  },
  {
   "cell_type": "code",
   "execution_count": null,
   "metadata": {
    "pycharm": {
     "name": "#%%\n",
     "is_executing": true
    }
   },
   "outputs": [],
   "source": [
    "print(f'Removing {worst_batter.name}')\n",
    "pandas.DataFrame(remove_player(pies, worst_batter))"
   ]
  },
  {
   "cell_type": "markdown",
   "source": [
    "**Pitching:**"
   ],
   "metadata": {
    "collapsed": false,
    "pycharm": {
     "name": "#%% md\n"
    }
   }
  },
  {
   "cell_type": "code",
   "execution_count": null,
   "outputs": [],
   "source": [
    "print(f'Removing {worst_pitcher.name}')\n",
    "pandas.DataFrame(remove_player(pies, worst_pitcher))\n"
   ],
   "metadata": {
    "collapsed": false,
    "pycharm": {
     "name": "#%%\n",
     "is_executing": true
    }
   }
  },
  {
   "cell_type": "markdown",
   "metadata": {},
   "source": [
    "### Enrich\n",
    "**Pick a modification for your Team next season.**\n",
    "\n",
    "This will gives the option of choosing between\n",
    "* The Fourth Strike: Those with the Fourth Strike will get an extra strike in each at bat.\n",
    "* Shame Donor: A Team or Player who adds Unruns to a Shamed opponents' future pile.\n",
    "* Earlybirds: This team will Overperform in the Earlseason.\n",
    "* Late to the Party: This team will Overperform in the Lateseason.\n",
    "\n",
    "Seasonal Modifications have been mixed in the past. For Fourth Strike Analysis, see the appropriate\n",
    "[SIBR Paper](https://research.blaseball-reference.com/Fourth_Strike.pdf). Earlybirds or Late to the Party would be\n",
    "roughly equivalent to a 5% boost overall."
   ]
  },
  {
   "cell_type": "markdown",
   "metadata": {},
   "source": [
    "___\n",
    "## Blessings\n",
    "\n",
    "Blessings are selected by raffle across all teams. Each blessing will be awarded to one random team, where teams with\n",
    "more votes are more likely to be selected."
   ]
  },
  {
   "cell_type": "markdown",
   "metadata": {},
   "source": [
    "### Jam-Packed & Glazed\n",
    "**Your Team will pay out double to all Fans when they trigger the Black Hole.**\n",
    "\n",
    "**Your Team will pay out double to all Fans when they trigger Sun 2.**\n",
    "\n",
    "See below for analysis of likelihood to trigger Sun 2 & Black Hole, as well as the estimated payout difference."
   ]
  },
  {
   "cell_type": "code",
   "execution_count": null,
   "outputs": [],
   "source": [
    "pies_games = Game.load_by_season(season=13, team_id=pies.id)\n",
    "sun2_games = [x for x in pies_games.values() if f\"Sun 2 set a Win upon the {pies.nickname}\" in x.outcomes or f\"Sun 2 set a Win upon the {pies.nickname}.\" in x.outcomes]\n",
    "total_sun2 = len(sun2_games)\n",
    "print(f\"Sun 2 was activated for the {pies.nickname} {total_sun2} times in Season 13\")"
   ],
   "metadata": {
    "collapsed": false,
    "pycharm": {
     "name": "#%%\n",
     "is_executing": true
    }
   }
  },
  {
   "cell_type": "code",
   "execution_count": null,
   "outputs": [],
   "source": [
    "total_blackholes = 0\n",
    "for game in pies_games.values():\n",
    "    for outcome in game.outcomes:\n",
    "        if \"The Black Hole swallowed a Win\" in outcome and pies.nickname not in outcome:\n",
    "            total_blackholes += 1\n",
    "print(f\"Black Hole was activated for the {pies.nickname} {total_blackholes} times in Season 13.\")"
   ],
   "metadata": {
    "collapsed": false,
    "pycharm": {
     "name": "#%%\n",
     "is_executing": true
    }
   }
  },
  {
   "cell_type": "code",
   "execution_count": null,
   "outputs": [],
   "source": [
    "print(f\"With Max Wet Pretzels, win payout difference: {15000*total_blackholes} vs {15000*total_blackholes*2}\")\n",
    "print(f\"With Max Doughnuts, loss payout difference: {10000*total_sun2} vs {10000*total_sun2*2}\")\n"
   ],
   "metadata": {
    "collapsed": false,
    "pycharm": {
     "name": "#%%\n",
     "is_executing": true
    }
   }
  },
  {
   "cell_type": "markdown",
   "metadata": {},
   "source": [
    "### Buttered Up & Over Salted\n",
    "**Your Team will pay out double for Popcorn.**\n",
    "\n",
    "**Your Team will pay out double for Stale Popcorn.**\n",
    "\n",
    "See below for analysis of Seasonal wins and losses, as well as the estimated payout difference.\n"
   ]
  },
  {
   "cell_type": "code",
   "execution_count": null,
   "outputs": [],
   "source": [
    "wins = [x for x in pies_games.values() if x.winning_team == pies]\n",
    "losses = [x for x in pies_games.values() if x.winning_team != pies]\n",
    "print(f\"Pies won {len(wins)} games and lost {len(losses)} games in Season 13\")\n",
    "print(f\"With Max Popcorn, win payout difference: {300*len(wins)} vs {300*len(wins)*2}\")\n",
    "print(f\"With Max Stale Popcorn, loss payout difference: {800*len(losses)} vs {800*len(losses)*2}\")\n"
   ],
   "metadata": {
    "collapsed": false,
    "pycharm": {
     "name": "#%%\n",
     "is_executing": true
    }
   }
  },
  {
   "cell_type": "markdown",
   "metadata": {},
   "source": [
    "### Solo Stroll\n",
    "**The worst Player on your Team will draw a walk on 3 Balls instead of 4.**\n",
    "\n",
    "Assuming this means worst *Batter* on the team, see below for player details. Note that `moxie` is that attribute most\n",
    "correlated to drawing walks."
   ]
  },
  {
   "cell_type": "code",
   "execution_count": null,
   "outputs": [],
   "source": [
    "get_batting_stlats(worst_batter)"
   ],
   "metadata": {
    "collapsed": false,
    "pycharm": {
     "name": "#%%\n",
     "is_executing": true
    }
   }
  },
  {
   "cell_type": "code",
   "execution_count": null,
   "outputs": [],
   "source": [
    "get_batting_stats(worst_batter, 13)"
   ],
   "metadata": {
    "collapsed": false,
    "pycharm": {
     "name": "#%%\n",
     "is_executing": true
    }
   }
  },
  {
   "cell_type": "markdown",
   "metadata": {},
   "source": [
    "### Min-Maxing\n",
    "**Every Team in your division gets one Minimalist and one Maximalist.**\n",
    "\n",
    "\"Minimalist\" and \"Maximalist\" are unknown."
   ]
  },
  {
   "cell_type": "markdown",
   "metadata": {},
   "source": [
    "### Targeted Evolution\n",
    "**A random pitcher and a random hitter on your Team will Advance.**\n",
    "\n",
    "Evolving or Advancing will give the player an additional Gold Star in all stats. This gold star will prevent debuffs\n",
    "from dropping the player below that star rating."
   ]
  },
  {
   "cell_type": "markdown",
   "metadata": {},
   "source": [
    "### The Nut Button\n",
    "**Your Team is no longer allergic to Peanuts.**\n",
    "\n",
    "See below for peanut allergy stats for the team. The Crab's Peanut Mister can also cure peanut allergies when playing in\n",
    "the Crabitat."
   ]
  },
  {
   "cell_type": "code",
   "execution_count": null,
   "outputs": [],
   "source": [
    "peanut_stats = [x.peanut_allergy for x in pies.lineup + pies.rotation]\n",
    "peanut_percent = peanut_stats.count(True)/len(peanut_stats)\n",
    "print(f\"Pies are {peanut_percent*100}% Allergic.\")\n",
    "\n",
    "pandas.DataFrame([{\"Allergic\": x} for x in peanut_stats], index=[x.name for x in pies.lineup + pies.rotation])"
   ],
   "metadata": {
    "collapsed": false,
    "pycharm": {
     "name": "#%%\n",
     "is_executing": true
    }
   }
  },
  {
   "cell_type": "markdown",
   "metadata": {},
   "source": [
    "### Non-Dominant Arms\n",
    "**Maybe try throwing with the other one? Your Team's pitching changes anywhere from -5% to +15%.**\n",
    "\n",
    "See below for analysis of the best and worst case rolls on our pitching.\n",
    "\n",
    "**Worst Case (-5%)**"
   ]
  },
  {
   "cell_type": "code",
   "execution_count": null,
   "outputs": [],
   "source": [
    "table, _, _ = improve_team_pitching_table(pies, -0.05)\n",
    "table"
   ],
   "metadata": {
    "collapsed": false,
    "pycharm": {
     "name": "#%%\n",
     "is_executing": true
    }
   }
  },
  {
   "cell_type": "code",
   "execution_count": null,
   "outputs": [],
   "source": [
    "set_heatmap(get_pitching_stlats(improve_team_pitching(pies, -0.05)), maxVal=1)"
   ],
   "metadata": {
    "collapsed": false,
    "pycharm": {
     "name": "#%%\n",
     "is_executing": true
    }
   }
  },
  {
   "cell_type": "markdown",
   "source": [
    "**Best Case (15%)**"
   ],
   "metadata": {
    "collapsed": false,
    "pycharm": {
     "name": "#%% md\n"
    }
   }
  },
  {
   "cell_type": "code",
   "execution_count": null,
   "outputs": [],
   "source": [
    "table, _, _ = improve_team_pitching_table(pies, 0.15)\n",
    "table"
   ],
   "metadata": {
    "collapsed": false,
    "pycharm": {
     "name": "#%%\n",
     "is_executing": true
    }
   }
  },
  {
   "cell_type": "code",
   "execution_count": null,
   "outputs": [],
   "source": [
    "set_heatmap(get_pitching_stlats(improve_team_pitching(pies, 0.15)), maxVal=1)\n"
   ],
   "metadata": {
    "collapsed": false,
    "pycharm": {
     "name": "#%%\n",
     "is_executing": true
    }
   }
  },
  {
   "cell_type": "markdown",
   "metadata": {},
   "source": [
    "### Precognition\n",
    "**Vision of things to come. Improve 3 random hitters on your Team by 20%.**\n",
    "\n",
    "See below for analysis of how +20% would affect our batters.\n"
   ]
  },
  {
   "cell_type": "code",
   "execution_count": null,
   "outputs": [],
   "source": [
    "table, _, _ = improve_team_batting_table(pies, 0.20)\n",
    "table"
   ],
   "metadata": {
    "collapsed": false,
    "pycharm": {
     "name": "#%%\n",
     "is_executing": true
    }
   }
  },
  {
   "cell_type": "code",
   "execution_count": null,
   "outputs": [],
   "source": [
    "set_heatmap(get_batting_stlats(improve_team_batting(pies, 0.20)), maxVal=1)\n"
   ],
   "metadata": {
    "collapsed": false,
    "pycharm": {
     "name": "#%%\n",
     "is_executing": true
    }
   }
  },
  {
   "cell_type": "markdown",
   "source": [
    "### Headliners\n",
    "**Arrange your lineup in order of their Idolatry.**\n",
    "\n",
    "The exact ordering of our team by Idolatry is unknown. With sufficient team organization this could be used to improve\n",
    "lineup efficiency."
   ],
   "metadata": {
    "collapsed": false,
    "pycharm": {
     "name": "#%% md\n"
    }
   }
  },
  {
   "cell_type": "markdown",
   "source": [
    "### Soul Swap\n",
    "**They won't stop screaming. Randomizes your Team's 5 worst players.**\n",
    "\n",
    "This will attempt to reroll the following players, in order. Players are rerolled in order, so if a player is rerolled\n",
    "to be worse they will be rerolled again, as they are still the worst pitcher.\n",
    "For reference, the Statistical Average player has 2 batting stars and 1.5 pitching stars."
   ],
   "metadata": {
    "collapsed": false,
    "pycharm": {
     "name": "#%% md\n"
    }
   }
  },
  {
   "cell_type": "code",
   "execution_count": null,
   "outputs": [],
   "source": [
    "worst_players = sort_overall(pies, 5)\n",
    "get_stars(worst_players)"
   ],
   "metadata": {
    "collapsed": false,
    "pycharm": {
     "name": "#%%\n",
     "is_executing": true
    }
   }
  },
  {
   "cell_type": "markdown",
   "metadata": {
    "pycharm": {
     "name": "#%% md\n"
    }
   },
   "source": [
    "---\n",
    "## Appendix\n",
    "* [Description of Attributes](https://www.blaseball.wiki/w/Player_Attributes)\n",
    "* [Stlat Viewer](https://slavfox.space/abslve/?foreboding-kaleidoscope#PHIL)\n",
    "* [Historical Player Graphs](http://yoori.space/hloroscopes/)\n"
   ]
  }
 ],
 "metadata": {
  "kernelspec": {
   "display_name": "Python 3",
   "language": "python",
   "name": "python3"
  },
  "language_info": {
   "codemirror_mode": {
    "name": "ipython",
    "version": 3
   },
   "file_extension": ".py",
   "mimetype": "text/x-python",
   "name": "python",
   "nbconvert_exporter": "python",
   "pygments_lexer": "ipython3",
   "version": "3.8.5"
  },
  "toc": {
   "base_numbering": 1,
   "nav_menu": {},
   "number_sections": false,
   "sideBar": true,
   "skip_h1_title": false,
   "title_cell": "Table of Contents",
   "title_sidebar": "Table of Contents",
   "toc_cell": false,
   "toc_position": {},
   "toc_section_display": true,
   "toc_window_display": false
  }
 },
 "nbformat": 4,
 "nbformat_minor": 1
}