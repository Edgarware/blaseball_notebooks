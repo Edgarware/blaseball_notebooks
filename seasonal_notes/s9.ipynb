{
 "cells": [
  {
   "cell_type": "markdown",
   "metadata": {
    "collapsed": true,
    "pycharm": {
     "name": "#%% md\n"
    }
   },
   "source": [
    "# Season 9 Election Notes\n",
    "Up to date as of [Insert Current Date Here]\n",
    "\n",
    ">**FORBIDDEN KNOWLEDGE WARNING**\n",
    ">\n",
    ">This document contains information that is not currently present on the main site and may be considered spoilers. Continue at your own discretion. Some information in this document cannot be shared on the Discord without spoiler tags.\n",
    "\n",
    "To check real-time stats, run each code snippet in order."
   ]
  },
  {
   "cell_type": "code",
   "source": [
    "%matplotlib inline\n",
    "from blaseball_mike.models import Player, Team, Division\n",
    "from display import *\n",
    "from utils import *\n",
    "from blessings import *\n",
    "from ipywidgets import interact\n",
    "import ipywidgets as widgets\n",
    "\n",
    "pies = Team.load_by_name(\"Philly Pies\")"
   ],
   "metadata": {
    "collapsed": false,
    "pycharm": {
     "name": "#%%\n"
    }
   },
   "execution_count": 1,
   "outputs": []
  },
  {
   "cell_type": "markdown",
   "source": [
    "# Decrees\n",
    "All Decrees are “Forecast: X” where X is a pre-existing weather. Each weather has a small chance for specific effects on the game, for reference:\n",
    "* Solar Eclipses cause Incinerations.\n",
    "* Peanuts cause yummy/allergic peanut reactions (±20% to all stats) as well as giant falling peanuts that can shell players mid-game.\n",
    "* Birds cause batters to occasionally ~~get out in the middle of their at-bat~~ (removed due to bugs), and is the only known way to break Shelled players free.\n",
    "* Feedback causes players to swap teams.\n",
    "* Reverb can either shuffle the lineup, rotation, or whole team order. It can also cause a player to become Reverberating, which permanently gives them a chance to bat twice in a row.\n",
    "* Blooddrain causes players to drain a specific stat (10%) from a player on the other team.\n",
    "\n",
    "3 Decrees will pass at the end of the election. It is unknown how these decrees will affect the weather but it is believed that the 3 chosen weathers will be the only weathers available for the next season.\n",
    "\n",
    "Birds is an obvious benefit for us due to our Affinity for Crows (50% better batting/pitching for the Pies) and is generally supported by teams that need to break players out of shells. Teams tend to dislike Feedback and Solar Eclipses as it can kill or trade players they like. Strategically, Peanuts is the worst as it causes a player to lose on average 1 star in each category OR completely remove them from games until they are unshelled."
   ],
   "metadata": {
    "collapsed": false,
    "pycharm": {
     "name": "#%% md\n"
    }
   }
  },
  {
   "cell_type": "markdown",
   "source": [
    "___\n",
    "# Blessings"
   ],
   "metadata": {
    "collapsed": false
   }
  },
  {
   "cell_type": "markdown",
   "source": [
    "## Eat me, Drink me\n",
    "**A random player on your team becomes BIG. Increased Power, Max Vibe. Decreased Baserunning.**\n",
    "\n",
    "~Random~. This is identical to the Mushroom without being an item. Power is a combination of `musclitude` and `divinity`\n",
    "which would increase triples & home runs. Pies generally have low baserunning and high power already."
   ],
   "metadata": {
    "collapsed": false
   }
  },
  {
   "cell_type": "markdown",
   "source": [
    "## Credit to the Team\n",
    "**A random player on your team becomes BIG. Increased Power, Max Vibe. Decreased Baserunning.**\n",
    "\n",
    "The worst player on the team is below. Having a player be the target of idol board shenanigans has gone poorly in the\n",
    "past (see York Silk in a peanut)."
   ],
   "metadata": {
    "collapsed": false
   }
  },
  {
   "cell_type": "code",
   "execution_count": 2,
   "outputs": [
    {
     "name": "stdout",
     "output_type": "stream",
     "text": [
      "Worst Player:\n",
      "Bright Zimmerman\n",
      "\n"
     ]
    }
   ],
   "source": [
    "display_name(worst_overall(pies), pre=\"Worst Player:\")"
   ],
   "metadata": {
    "collapsed": false,
    "pycharm": {
     "name": "#%%\n"
    }
   }
  },
  {
   "cell_type": "markdown",
   "source": [
    "## Secret Weapon\n",
    "**Maximize a random Pitcher in your Shadows.**\n",
    "\n",
    "~Random~. The pitcher Shadows is the bullpen, a list of which can be found below. Just maximizing a player is somewhat\n",
    "useless unless we also get a blessing to add them to our rotation."
   ],
   "metadata": {
    "collapsed": false
   }
  },
  {
   "cell_type": "code",
   "execution_count": 3,
   "outputs": [
    {
     "data": {
      "text/plain": "<IPython.core.display.HTML object>",
      "text/html": "<table>\n<thead>\n<tr><th>Name              </th><th style=\"text-align: right;\">  Batting Stars</th><th style=\"text-align: right;\">  Pitching Stars</th><th style=\"text-align: right;\">  Baserunning Stars</th><th style=\"text-align: right;\">  Defense Stars</th></tr>\n</thead>\n<tbody>\n<tr><td>Castillo Logan    </td><td style=\"text-align: right;\">            2  </td><td style=\"text-align: right;\">             3  </td><td style=\"text-align: right;\">                2.5</td><td style=\"text-align: right;\">            3  </td></tr>\n<tr><td>Bambi Perez       </td><td style=\"text-align: right;\">            1.5</td><td style=\"text-align: right;\">             0.5</td><td style=\"text-align: right;\">                2.5</td><td style=\"text-align: right;\">            3  </td></tr>\n<tr><td>Jesús Rodriguez   </td><td style=\"text-align: right;\">            1.5</td><td style=\"text-align: right;\">             1.5</td><td style=\"text-align: right;\">                2.5</td><td style=\"text-align: right;\">            1.5</td></tr>\n<tr><td>Jefferson Delacruz</td><td style=\"text-align: right;\">            3  </td><td style=\"text-align: right;\">             0.5</td><td style=\"text-align: right;\">                3.5</td><td style=\"text-align: right;\">            4  </td></tr>\n<tr><td>Case Lancaster    </td><td style=\"text-align: right;\">            0  </td><td style=\"text-align: right;\">             3.5</td><td style=\"text-align: right;\">                2  </td><td style=\"text-align: right;\">            3  </td></tr>\n<tr><td>Haruta Byrd       </td><td style=\"text-align: right;\">            3.5</td><td style=\"text-align: right;\">             2.5</td><td style=\"text-align: right;\">                2.5</td><td style=\"text-align: right;\">            1.5</td></tr>\n<tr><td>Javier Lotus      </td><td style=\"text-align: right;\">            3.5</td><td style=\"text-align: right;\">             1  </td><td style=\"text-align: right;\">                3.5</td><td style=\"text-align: right;\">            4  </td></tr>\n<tr><td>Tiana Takahashi   </td><td style=\"text-align: right;\">            1  </td><td style=\"text-align: right;\">             3  </td><td style=\"text-align: right;\">                2.5</td><td style=\"text-align: right;\">            3  </td></tr>\n</tbody>\n</table>"
     },
     "metadata": {},
     "output_type": "display_data"
    }
   ],
   "source": [
    "display_stars(pies.bullpen)"
   ],
   "metadata": {
    "collapsed": false,
    "pycharm": {
     "name": "#%%\n"
    }
   }
  },
  {
   "cell_type": "markdown",
   "source": [
    "## Grab and Smash\n",
    "**Steal a Hitter from another Team's Shadows.**\n",
    "The hitter Shadows is the bench. This would likely replace our worst batter, found below. Below is a graph of all the\n",
    "possible batters in division opponent benches sorted by number of stars. Previous seasons have taken the best player\n",
    "from the Shadows, but that’s a sample size of 1 so it’s hard to tell if it was just luck."
   ],
   "metadata": {
    "collapsed": false
   }
  },
  {
   "cell_type": "code",
   "execution_count": 4,
   "outputs": [
    {
     "name": "stdout",
     "output_type": "stream",
     "text": [
      "Worst Batter:\n",
      "Farrell Seagull\n",
      "\n",
      "{'batting': 2.111842105263158, 'pitching': 1.7828947368421053, 'baserunning': 2.2960526315789473, 'defense': 2.8289473684210527}\n"
     ]
    },
    {
     "data": {
      "text/plain": "<Figure size 432x288 with 1 Axes>",
      "image/png": "[encoded data removed]"
     },
     "metadata": {
      "needs_background": "light"
     },
     "output_type": "display_data"
    }
   ],
   "source": [
    "display_name(worst_lineup(pies), pre=\"Worst Batter:\")\n",
    "print(grab_and_smash(pies))"
   ],
   "metadata": {
    "collapsed": false,
    "pycharm": {
     "name": "#%%\n"
    }
   }
  },
  {
   "cell_type": "markdown",
   "source": [
    "## Out of Sight\n",
    "**Send your 2 Worst Pitchers to the Shadows and call up your First 2 Relievers.**\n",
    "\n",
    "See below for analysis."
   ],
   "metadata": {
    "collapsed": false
   }
  },
  {
   "cell_type": "code",
   "execution_count": 5,
   "outputs": [
    {
     "data": {
      "text/plain": "<IPython.core.display.HTML object>",
      "text/html": "<table>\n<thead>\n<tr><th>Name          </th><th style=\"text-align: right;\">  Batting Stars</th><th style=\"text-align: right;\">  Pitching Stars</th><th style=\"text-align: right;\">  Baserunning Stars</th><th style=\"text-align: right;\">  Defense Stars</th></tr>\n</thead>\n<tbody>\n<tr><td>Castillo Logan</td><td style=\"text-align: right;\">            2  </td><td style=\"text-align: right;\">             3  </td><td style=\"text-align: right;\">                2.5</td><td style=\"text-align: right;\">              3</td></tr>\n<tr><td>Bambi Perez   </td><td style=\"text-align: right;\">            1.5</td><td style=\"text-align: right;\">             0.5</td><td style=\"text-align: right;\">                2.5</td><td style=\"text-align: right;\">              3</td></tr>\n</tbody>\n</table>"
     },
     "metadata": {},
     "output_type": "display_data"
    },
    {
     "name": "stdout",
     "output_type": "stream",
     "text": [
      "Replaces:\n"
     ]
    },
    {
     "data": {
      "text/plain": "<IPython.core.display.HTML object>",
      "text/html": "<table>\n<thead>\n<tr><th>Name            </th><th style=\"text-align: right;\">  Batting Stars</th><th style=\"text-align: right;\">  Pitching Stars</th><th style=\"text-align: right;\">  Baserunning Stars</th><th style=\"text-align: right;\">  Defense Stars</th></tr>\n</thead>\n<tbody>\n<tr><td>Bright Zimmerman</td><td style=\"text-align: right;\">            3  </td><td style=\"text-align: right;\">             1.5</td><td style=\"text-align: right;\">                0.5</td><td style=\"text-align: right;\">            3  </td></tr>\n<tr><td>Henry Marshallow</td><td style=\"text-align: right;\">            1.5</td><td style=\"text-align: right;\">             1.5</td><td style=\"text-align: right;\">                1  </td><td style=\"text-align: right;\">            3.5</td></tr>\n</tbody>\n</table>"
     },
     "metadata": {},
     "output_type": "display_data"
    }
   ],
   "source": [
    "display_stars(pies.bullpen[0:2])\n",
    "print(\"Replaces:\")\n",
    "display_stars(worst_rotation(pies, 2))"
   ],
   "metadata": {
    "collapsed": false,
    "pycharm": {
     "name": "#%%\n"
    }
   }
  },
  {
   "cell_type": "markdown",
   "source": [
    "## Disappearing Acts\n",
    "**Send your Worst 3 Hitters to the Shadows and call up the first 3 Shadows Hitters.**\n",
    "\n",
    "See below for anaylsis."
   ],
   "metadata": {
    "collapsed": false
   }
  },
  {
   "cell_type": "code",
   "execution_count": 6,
   "outputs": [
    {
     "data": {
      "text/plain": "<IPython.core.display.HTML object>",
      "text/html": "<table>\n<thead>\n<tr><th>Name            </th><th style=\"text-align: right;\">  Batting Stars</th><th style=\"text-align: right;\">  Pitching Stars</th><th style=\"text-align: right;\">  Baserunning Stars</th><th style=\"text-align: right;\">  Defense Stars</th></tr>\n</thead>\n<tbody>\n<tr><td>Adrian Melon    </td><td style=\"text-align: right;\">            2.5</td><td style=\"text-align: right;\">             1  </td><td style=\"text-align: right;\">                3  </td><td style=\"text-align: right;\">            2.5</td></tr>\n<tr><td>August Obrien   </td><td style=\"text-align: right;\">            3.5</td><td style=\"text-align: right;\">             1  </td><td style=\"text-align: right;\">                3.5</td><td style=\"text-align: right;\">            2  </td></tr>\n<tr><td>Mcfarland Vargas</td><td style=\"text-align: right;\">            1.5</td><td style=\"text-align: right;\">             1.5</td><td style=\"text-align: right;\">                4  </td><td style=\"text-align: right;\">            2  </td></tr>\n</tbody>\n</table>"
     },
     "metadata": {},
     "output_type": "display_data"
    },
    {
     "name": "stdout",
     "output_type": "stream",
     "text": [
      "Replaces:\n"
     ]
    },
    {
     "data": {
      "text/plain": "<IPython.core.display.HTML object>",
      "text/html": "<table>\n<thead>\n<tr><th>Name           </th><th style=\"text-align: right;\">  Batting Stars</th><th style=\"text-align: right;\">  Pitching Stars</th><th style=\"text-align: right;\">  Baserunning Stars</th><th style=\"text-align: right;\">  Defense Stars</th></tr>\n</thead>\n<tbody>\n<tr><td>Farrell Seagull</td><td style=\"text-align: right;\">            1.5</td><td style=\"text-align: right;\">             2  </td><td style=\"text-align: right;\">                2.5</td><td style=\"text-align: right;\">            1  </td></tr>\n<tr><td>Yusef Puddles  </td><td style=\"text-align: right;\">            2  </td><td style=\"text-align: right;\">             2  </td><td style=\"text-align: right;\">                2.5</td><td style=\"text-align: right;\">            3.5</td></tr>\n<tr><td>Lang Richardson</td><td style=\"text-align: right;\">            2.5</td><td style=\"text-align: right;\">             0.5</td><td style=\"text-align: right;\">                3  </td><td style=\"text-align: right;\">            3  </td></tr>\n</tbody>\n</table>"
     },
     "metadata": {},
     "output_type": "display_data"
    }
   ],
   "source": [
    "display_stars(pies.bench[0:3])\n",
    "print(\"Replaces:\")\n",
    "display_stars(worst_lineup(pies, 3))"
   ],
   "metadata": {
    "collapsed": false,
    "pycharm": {
     "name": "#%%\n"
    }
   }
  },
  {
   "cell_type": "markdown",
   "source": [
    "## Feel the Love\n",
    "**Give your Team Love Blood Type.**\n",
    "\n",
    "Currently Love Blood does not have an in-game impact. It will probably gain a gameplay mechanic once the blessing is\n",
    "passed, but this is currently unknown."
   ],
   "metadata": {
    "collapsed": false
   }
  },
  {
   "cell_type": "markdown",
   "source": [
    "## Hot Sauce Bar\n",
    "**Help yourselves. A player on each team in your Division gets Spicy.**\n",
    "\n",
    "Spicy gives a player improved batting if they get 3 hits in a row, which lasts until they get out at-bat again\n",
    "(strikeout, fly or ground out). Pies batting is strong but not generally known for consistency."
   ],
   "metadata": {
    "collapsed": false
   }
  },
  {
   "cell_type": "markdown",
   "source": [
    "## Fifth Base Bubble\n",
    "**Give all of the teams not in your Division the Fifth Base.**\n",
    "\n",
    "Exact impact unknown. A Fifth base is generally bad for teams that have weak baserunning and hitting."
   ],
   "metadata": {
    "collapsed": false
   }
  },
  {
   "cell_type": "markdown",
   "source": [
    "## The Shame Bubble\n",
    "**Give all of the teams not in your Division Targeted Shame.**\n",
    "\n",
    "We had this in Season 8, not sure how much of an impact it made for us specifically."
   ],
   "metadata": {
    "collapsed": false,
    "pycharm": {
     "name": "#%% md\n"
    }
   }
  },
  {
   "cell_type": "markdown",
   "source": [
    "## Tag Team Pitching\n",
    "**Improve your team's pitching by 10%. The last place team in the opposite subleague also gets +10% team pitching.**\n",
    "\n",
    "See below for analysis."
   ],
   "metadata": {
    "collapsed": false
   }
  },
  {
   "cell_type": "code",
   "execution_count": 7,
   "outputs": [
    {
     "name": "stdout",
     "output_type": "stream",
     "text": [
      "Pies Improvement:\n",
      "Total: {'batting': 0.0, 'baserunning': 0.0, 'defense': 0.0, 'pitching': 4.0}\n",
      "Average: {'batting': 0.0, 'baserunning': 0.0, 'defense': 0.0, 'pitching': 0.8000000000000003}\n",
      "Tacos Improvement:\n",
      "Total: {'batting': 0.0, 'baserunning': 0.0, 'defense': 0.0, 'pitching': 1.0}\n",
      "Average: {'batting': 0.0, 'baserunning': 0.0, 'defense': 0.0, 'pitching': 0.5}\n"
     ]
    }
   ],
   "source": [
    "tacos = Team.load_by_name(\"Tacos\")\n",
    "pies_changed, tacos_changed = tag_team_pitching(pies, tacos)\n",
    "\n",
    "print(\"Pies Improvement:\")\n",
    "print(\"Total:\", star_compare(total_stars(pies_changed), total_stars(pies.rotation)))\n",
    "print(\"Average:\", star_compare(avg_stars(pies_changed), avg_stars(pies.rotation)))\n",
    "\n",
    "print(\"Tacos Improvement:\")\n",
    "print(\"Total:\", star_compare(total_stars(tacos_changed), total_stars(tacos.rotation)))\n",
    "print(\"Average:\", star_compare(avg_stars(tacos_changed), avg_stars(tacos.rotation)))"
   ],
   "metadata": {
    "collapsed": false,
    "pycharm": {
     "name": "#%%\n"
    }
   }
  },
  {
   "cell_type": "markdown",
   "source": [
    "## Tag Team Hitting\n",
    "**Improve your team's hitting by 10%. The last place team in the opposite subleague also gets +10% team hitting.**\n",
    "\n",
    "See below for analysis."
   ],
   "metadata": {
    "collapsed": false
   }
  },
  {
   "cell_type": "code",
   "execution_count": 8,
   "outputs": [
    {
     "name": "stdout",
     "output_type": "stream",
     "text": [
      "Pies Improvement:\n",
      "Total: {'batting': 4.0, 'baserunning': 0.0, 'defense': 0.0, 'pitching': 0.0}\n",
      "Average: {'batting': 0.5714285714285716, 'baserunning': 0.0, 'defense': 0.0, 'pitching': 0.0}\n",
      "Tacos Improvement:\n",
      "Total: {'batting': 3.5, 'baserunning': 0.0, 'defense': 0.0, 'pitching': 0.0}\n",
      "Average: {'batting': 0.5, 'baserunning': 0.0, 'defense': 0.0, 'pitching': 0.0}\n"
     ]
    }
   ],
   "source": [
    "pies_changed, tacos_changed = tag_team_hitting(pies, tacos)\n",
    "\n",
    "print(\"Pies Improvement:\")\n",
    "print(\"Total:\", star_compare(total_stars(pies_changed), total_stars(pies.lineup)))\n",
    "print(\"Average:\", star_compare(avg_stars(pies_changed), avg_stars(pies.lineup)))\n",
    "\n",
    "print(\"Tacos Improvement:\")\n",
    "print(\"Total:\", star_compare(total_stars(tacos_changed), total_stars(tacos.lineup)))\n",
    "print(\"Average:\", star_compare(avg_stars(tacos_changed), avg_stars(tacos.lineup)))"
   ],
   "metadata": {
    "collapsed": false,
    "pycharm": {
     "name": "#%%\n"
    }
   }
  },
  {
   "cell_type": "markdown",
   "source": [
    "## Kill Your Darling\n",
    "**Incinerate the Most Idolized Player on your Team.**\n",
    "\n",
    "Hey.\n",
    "\n",
    "Don’t."
   ],
   "metadata": {
    "collapsed": false
   }
  },
  {
   "cell_type": "markdown",
   "source": [
    "## Dead Weight\n",
    "**Incinerate the Worst Player on Your Team.**\n",
    "\n",
    "See below for analysis."
   ],
   "metadata": {
    "collapsed": false
   }
  },
  {
   "cell_type": "code",
   "execution_count": 9,
   "outputs": [],
   "source": [
    "#TODO"
   ],
   "metadata": {
    "collapsed": false,
    "pycharm": {
     "name": "#%%\n"
    }
   }
  },
  {
   "cell_type": "markdown",
   "source": [
    "## New Kid\n",
    "**Incinerate the Least Idolized Player on your Team.**\n",
    "\n",
    "Cannot currently know who the least-idolized player on the team is. With correct organization could be used as a\n",
    "controlled incineration for one of our bad players."
   ],
   "metadata": {
    "collapsed": false
   }
  },
  {
   "cell_type": "markdown",
   "source": [
    "## Boatload of Tiny Eggs\n",
    "**Fans of your team receive a big barrel of peanuts.**\n",
    "\n",
    "Peanuts would be used for the Hall of Flame ratings. Amount of peanuts in a “boatload” is unknown; last season’s\n",
    "blessing was 10K."
   ],
   "metadata": {
    "collapsed": false
   }
  },
  {
   "cell_type": "markdown",
   "source": [
    "## New Recruit\n",
    "**Recruit a rookie to be an extra player in your lineup.**\n",
    "\n",
    "This would cause the existing players to bat less, which means we would need to get a reroll of over our team average\n",
    "to not lose total team stars. See below for analysis."
   ],
   "metadata": {
    "collapsed": false
   }
  },
  {
   "cell_type": "code",
   "execution_count": 10,
   "outputs": [
    {
     "ename": "ValueError",
     "evalue": "cannot find widget or abbreviation for argument: 'bat_star'",
     "output_type": "error",
     "traceback": [
      "\u001B[1;31m---------------------------------------------------------------------------\u001B[0m",
      "\u001B[1;31mValueError\u001B[0m                                Traceback (most recent call last)",
      "\u001B[1;32m<ipython-input-10-82683722712a>\u001B[0m in \u001B[0;36m<module>\u001B[1;34m\u001B[0m\n\u001B[0;32m      1\u001B[0m \u001B[1;31m# TODO: Get FANCY with toggles\u001B[0m\u001B[1;33m\u001B[0m\u001B[1;33m\u001B[0m\u001B[1;33m\u001B[0m\u001B[0m\n\u001B[1;32m----> 2\u001B[1;33m interact(new_recruit, team=pies, batting_stars=widgets.FloatSlider(max=5.0, value=NEW_PLAYER[\"batting\"]),\n\u001B[0m\u001B[0;32m      3\u001B[0m                      \u001B[0mbaserunning_stars\u001B[0m\u001B[1;33m=\u001B[0m\u001B[0mwidgets\u001B[0m\u001B[1;33m.\u001B[0m\u001B[0mFloatSlider\u001B[0m\u001B[1;33m(\u001B[0m\u001B[0mmax\u001B[0m\u001B[1;33m=\u001B[0m\u001B[1;36m5.0\u001B[0m\u001B[1;33m,\u001B[0m \u001B[0mvalue\u001B[0m\u001B[1;33m=\u001B[0m\u001B[0mNEW_PLAYER\u001B[0m\u001B[1;33m[\u001B[0m\u001B[1;34m\"baserunning\"\u001B[0m\u001B[1;33m]\u001B[0m\u001B[1;33m)\u001B[0m\u001B[1;33m,\u001B[0m\u001B[1;33m\u001B[0m\u001B[1;33m\u001B[0m\u001B[0m\n\u001B[0;32m      4\u001B[0m                      defense_stars=widgets.FloatSlider(max=5.0, value=NEW_PLAYER[\"defense\"]))\n\u001B[0;32m      5\u001B[0m \u001B[1;33m\u001B[0m\u001B[0m\n",
      "\u001B[1;32mc:\\users\\ryanl\\appdata\\local\\programs\\python\\python38\\lib\\site-packages\\ipywidgets\\widgets\\interaction.py\u001B[0m in \u001B[0;36m__call__\u001B[1;34m(self, _InteractFactory__interact_f, **kwargs)\u001B[0m\n\u001B[0;32m    526\u001B[0m         \u001B[1;31m#    def f(*args, **kwargs):\u001B[0m\u001B[1;33m\u001B[0m\u001B[1;33m\u001B[0m\u001B[1;33m\u001B[0m\u001B[0m\n\u001B[0;32m    527\u001B[0m         \u001B[1;31m#        ...\u001B[0m\u001B[1;33m\u001B[0m\u001B[1;33m\u001B[0m\u001B[1;33m\u001B[0m\u001B[0m\n\u001B[1;32m--> 528\u001B[1;33m         \u001B[0mw\u001B[0m \u001B[1;33m=\u001B[0m \u001B[0mself\u001B[0m\u001B[1;33m.\u001B[0m\u001B[0mwidget\u001B[0m\u001B[1;33m(\u001B[0m\u001B[0mf\u001B[0m\u001B[1;33m)\u001B[0m\u001B[1;33m\u001B[0m\u001B[1;33m\u001B[0m\u001B[0m\n\u001B[0m\u001B[0;32m    529\u001B[0m         \u001B[1;32mtry\u001B[0m\u001B[1;33m:\u001B[0m\u001B[1;33m\u001B[0m\u001B[1;33m\u001B[0m\u001B[0m\n\u001B[0;32m    530\u001B[0m             \u001B[0mf\u001B[0m\u001B[1;33m.\u001B[0m\u001B[0mwidget\u001B[0m \u001B[1;33m=\u001B[0m \u001B[0mw\u001B[0m\u001B[1;33m\u001B[0m\u001B[1;33m\u001B[0m\u001B[0m\n",
      "\u001B[1;32mc:\\users\\ryanl\\appdata\\local\\programs\\python\\python38\\lib\\site-packages\\ipywidgets\\widgets\\interaction.py\u001B[0m in \u001B[0;36mwidget\u001B[1;34m(self, f)\u001B[0m\n\u001B[0;32m    442\u001B[0m             \u001B[0mThe\u001B[0m \u001B[0mfunction\u001B[0m \u001B[0mto\u001B[0m \u001B[0mwhich\u001B[0m \u001B[0mthe\u001B[0m \u001B[0minteractive\u001B[0m \u001B[0mwidgets\u001B[0m \u001B[0mare\u001B[0m \u001B[0mtied\u001B[0m\u001B[1;33m.\u001B[0m\u001B[1;33m\u001B[0m\u001B[1;33m\u001B[0m\u001B[0m\n\u001B[0;32m    443\u001B[0m         \"\"\"\n\u001B[1;32m--> 444\u001B[1;33m         \u001B[1;32mreturn\u001B[0m \u001B[0mself\u001B[0m\u001B[1;33m.\u001B[0m\u001B[0mcls\u001B[0m\u001B[1;33m(\u001B[0m\u001B[0mf\u001B[0m\u001B[1;33m,\u001B[0m \u001B[0mself\u001B[0m\u001B[1;33m.\u001B[0m\u001B[0mopts\u001B[0m\u001B[1;33m,\u001B[0m \u001B[1;33m**\u001B[0m\u001B[0mself\u001B[0m\u001B[1;33m.\u001B[0m\u001B[0mkwargs\u001B[0m\u001B[1;33m)\u001B[0m\u001B[1;33m\u001B[0m\u001B[1;33m\u001B[0m\u001B[0m\n\u001B[0m\u001B[0;32m    445\u001B[0m \u001B[1;33m\u001B[0m\u001B[0m\n\u001B[0;32m    446\u001B[0m     \u001B[1;32mdef\u001B[0m \u001B[0m__call__\u001B[0m\u001B[1;33m(\u001B[0m\u001B[0mself\u001B[0m\u001B[1;33m,\u001B[0m \u001B[0m__interact_f\u001B[0m\u001B[1;33m=\u001B[0m\u001B[1;32mNone\u001B[0m\u001B[1;33m,\u001B[0m \u001B[1;33m**\u001B[0m\u001B[0mkwargs\u001B[0m\u001B[1;33m)\u001B[0m\u001B[1;33m:\u001B[0m\u001B[1;33m\u001B[0m\u001B[1;33m\u001B[0m\u001B[0m\n",
      "\u001B[1;32mc:\\users\\ryanl\\appdata\\local\\programs\\python\\python38\\lib\\site-packages\\ipywidgets\\widgets\\interaction.py\u001B[0m in \u001B[0;36m__init__\u001B[1;34m(self, _interactive__interact_f, _interactive__options, **kwargs)\u001B[0m\n\u001B[0;32m    186\u001B[0m         \u001B[0mself\u001B[0m\u001B[1;33m.\u001B[0m\u001B[0mauto_display\u001B[0m \u001B[1;33m=\u001B[0m \u001B[0m__options\u001B[0m\u001B[1;33m.\u001B[0m\u001B[0mget\u001B[0m\u001B[1;33m(\u001B[0m\u001B[1;34m\"auto_display\"\u001B[0m\u001B[1;33m,\u001B[0m \u001B[1;32mFalse\u001B[0m\u001B[1;33m)\u001B[0m\u001B[1;33m\u001B[0m\u001B[1;33m\u001B[0m\u001B[0m\n\u001B[0;32m    187\u001B[0m \u001B[1;33m\u001B[0m\u001B[0m\n\u001B[1;32m--> 188\u001B[1;33m         \u001B[0mnew_kwargs\u001B[0m \u001B[1;33m=\u001B[0m \u001B[0mself\u001B[0m\u001B[1;33m.\u001B[0m\u001B[0mfind_abbreviations\u001B[0m\u001B[1;33m(\u001B[0m\u001B[0mkwargs\u001B[0m\u001B[1;33m)\u001B[0m\u001B[1;33m\u001B[0m\u001B[1;33m\u001B[0m\u001B[0m\n\u001B[0m\u001B[0;32m    189\u001B[0m         \u001B[1;31m# Before we proceed, let's make sure that the user has passed a set of args+kwargs\u001B[0m\u001B[1;33m\u001B[0m\u001B[1;33m\u001B[0m\u001B[1;33m\u001B[0m\u001B[0m\n\u001B[0;32m    190\u001B[0m         \u001B[1;31m# that will lead to a valid call of the function. This protects against unspecified\u001B[0m\u001B[1;33m\u001B[0m\u001B[1;33m\u001B[0m\u001B[1;33m\u001B[0m\u001B[0m\n",
      "\u001B[1;32mc:\\users\\ryanl\\appdata\\local\\programs\\python\\python38\\lib\\site-packages\\ipywidgets\\widgets\\interaction.py\u001B[0m in \u001B[0;36mfind_abbreviations\u001B[1;34m(self, kwargs)\u001B[0m\n\u001B[0;32m    286\u001B[0m             \u001B[1;32mfor\u001B[0m \u001B[0mname\u001B[0m\u001B[1;33m,\u001B[0m \u001B[0mvalue\u001B[0m\u001B[1;33m,\u001B[0m \u001B[0mdefault\u001B[0m \u001B[1;32min\u001B[0m \u001B[0m_yield_abbreviations_for_parameter\u001B[0m\u001B[1;33m(\u001B[0m\u001B[0mparam\u001B[0m\u001B[1;33m,\u001B[0m \u001B[0mkwargs\u001B[0m\u001B[1;33m)\u001B[0m\u001B[1;33m:\u001B[0m\u001B[1;33m\u001B[0m\u001B[1;33m\u001B[0m\u001B[0m\n\u001B[0;32m    287\u001B[0m                 \u001B[1;32mif\u001B[0m \u001B[0mvalue\u001B[0m \u001B[1;32mis\u001B[0m \u001B[0mempty\u001B[0m\u001B[1;33m:\u001B[0m\u001B[1;33m\u001B[0m\u001B[1;33m\u001B[0m\u001B[0m\n\u001B[1;32m--> 288\u001B[1;33m                     \u001B[1;32mraise\u001B[0m \u001B[0mValueError\u001B[0m\u001B[1;33m(\u001B[0m\u001B[1;34m'cannot find widget or abbreviation for argument: {!r}'\u001B[0m\u001B[1;33m.\u001B[0m\u001B[0mformat\u001B[0m\u001B[1;33m(\u001B[0m\u001B[0mname\u001B[0m\u001B[1;33m)\u001B[0m\u001B[1;33m)\u001B[0m\u001B[1;33m\u001B[0m\u001B[1;33m\u001B[0m\u001B[0m\n\u001B[0m\u001B[0;32m    289\u001B[0m                 \u001B[0mnew_kwargs\u001B[0m\u001B[1;33m.\u001B[0m\u001B[0mappend\u001B[0m\u001B[1;33m(\u001B[0m\u001B[1;33m(\u001B[0m\u001B[0mname\u001B[0m\u001B[1;33m,\u001B[0m \u001B[0mvalue\u001B[0m\u001B[1;33m,\u001B[0m \u001B[0mdefault\u001B[0m\u001B[1;33m)\u001B[0m\u001B[1;33m)\u001B[0m\u001B[1;33m\u001B[0m\u001B[1;33m\u001B[0m\u001B[0m\n\u001B[0;32m    290\u001B[0m         \u001B[1;32mreturn\u001B[0m \u001B[0mnew_kwargs\u001B[0m\u001B[1;33m\u001B[0m\u001B[1;33m\u001B[0m\u001B[0m\n",
      "\u001B[1;31mValueError\u001B[0m: cannot find widget or abbreviation for argument: 'bat_star'"
     ]
    }
   ],
   "source": [
    "# TODO: Get FANCY with toggles\n",
    "interact(new_recruit, team=pies, batting_stars=widgets.FloatSlider(max=5.0, value=NEW_PLAYER[\"batting\"]),\n",
    "                     baserunning_stars=widgets.FloatSlider(max=5.0, value=NEW_PLAYER[\"baserunning\"]),\n",
    "                     defense_stars=widgets.FloatSlider(max=5.0, value=NEW_PLAYER[\"defense\"]))\n",
    "\n",
    "print(\"Team Lineup Average Stars:\", avg_stars(pies.lineup))"
   ],
   "metadata": {
    "collapsed": false,
    "pycharm": {
     "name": "#%%\n"
    }
   }
  },
  {
   "cell_type": "code",
   "execution_count": null,
   "outputs": [],
   "source": [],
   "metadata": {
    "collapsed": false,
    "pycharm": {
     "name": "#%%\n"
    }
   }
  }
 ],
 "metadata": {
  "kernelspec": {
   "display_name": "Python 3",
   "language": "python",
   "name": "python3"
  },
  "language_info": {
   "codemirror_mode": {
    "name": "ipython",
    "version": 2
   },
   "file_extension": ".py",
   "mimetype": "text/x-python",
   "name": "python",
   "nbconvert_exporter": "python",
   "pygments_lexer": "ipython2",
   "version": "2.7.6"
  }
 },
 "nbformat": 4,
 "nbformat_minor": 0
}