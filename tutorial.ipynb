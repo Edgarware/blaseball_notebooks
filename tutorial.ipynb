{
 "cells": [
  {
   "cell_type": "markdown",
   "metadata": {
    "collapsed": true,
    "pycharm": {
     "name": "#%% md\n"
    }
   },
   "source": [
    "# Election Notes Tutorial\n",
    "\n",
    "Welcome to the Philly Pies Election Notes tutorial! Here we'll go into details about the\n",
    "scripts used and how you can modify them to perform your own data analysis. This tutorial\n",
    "is entirely optional, you can still read the Seasonal Election Notes without having to modify\n",
    "them yourself!"
   ]
  },
  {
   "cell_type": "markdown",
   "source": [
    "## Basic Operation\n",
    "\n",
    "These notes operate as snippets of Python code that run in order. All the scripts ran when\n",
    "this document was opened, but you can also run individual snippets one at a time with\n",
    "the ▶ button. Changing the snippets only modifies it on your copy, so feel free to\n",
    "experiment without fear of breaking things!\n",
    "\n",
    "Note that the snippets are meant to be run in order, so you may run into problems if you\n",
    "only run one at a time. All Election Notes will start with a setup snippet to get\n",
    "everything un and running, like below."
   ],
   "metadata": {
    "collapsed": false
   }
  },
  {
   "cell_type": "code",
   "execution_count": 1,
   "outputs": [],
   "source": [
    "%matplotlib inline\n",
    "from blaseball_mike.models import Player, Team\n",
    "from display import *\n",
    "from utils import *\n",
    "from blessings import *"
   ],
   "metadata": {
    "collapsed": false,
    "pycharm": {
     "name": "#%%\n"
    }
   }
  },
  {
   "cell_type": "markdown",
   "source": [
    "## Blaseball Objects\n",
    "\n",
    "The foundation of most of the code is using objects retrieved from the blaseball\n",
    "website itself. The APIs to access these have been well documented by SIBR, and are\n",
    "wrapped in a library named `blaseball-mike` for ease of access. We'll be going over\n",
    "examples for each type of data as we go.\n",
    "\n",
    "Note: Because we load directly from the website it does not work when the site\n",
    "is down. It also tends to take longer when games are running as there is more strain\n",
    "on the servers.\n",
    "\n",
    "For more information, documentation can be found below:\n",
    "https://github.com/jmaliksi/blaseball-mike\n",
    "https://docs.sibr.dev/docs/apis/reference/Blaseball-API.v1.yaml"
   ],
   "metadata": {
    "collapsed": false,
    "pycharm": {
     "name": "#%% md\n"
    }
   }
  },
  {
   "cell_type": "markdown",
   "source": [
    "### Player Data\n",
    "Players can be retrieved by with lookups based on their name or by using\n",
    "the Team ID, found in the URL of a player page on the blaseball website.\n",
    "\n",
    "The player's stlats, stars, vibes, and"
   ],
   "metadata": {
    "collapsed": false,
    "pycharm": {
     "name": "#%% md\n"
    }
   }
  },
  {
   "cell_type": "code",
   "execution_count": 2,
   "outputs": [
    {
     "data": {
      "text/plain": "<IPython.core.display.HTML object>",
      "text/html": "\n    <div style=\"width:500px;background:#000;border:1px solid #fff;color:#fff;display:flex;flex-direction:column;box-sizing:border-box;font-size:14px;\">\n        <div style=\"border-bottom: 1px solid #fff;display:flex;dlex-direction:column;align-items:flex-start;justify-content:space-between;padding:40px 40px 20px;\">\n            <div style=\"font-size:24px;\">\n                Beasley Day\n            </div>\n        </div>\n        \n        <div style=\"padding:20px 0;\">\n            <div style=\"display:flex;flex-direction:row;align-items:center;padding:2px 40px;background:rgba(30,30,30,1)\">\n                <div style=\"width:180px;font-weight:700;\">\n                    Current Vibe\n                </div>\n                <span style=\"color:#d97373;\">\n                    ▼ Less Than Ideal\n                </span>\n            </div>\n            <div style=\"display:flex;flex-direction:row;align-items:center;padding:2px 40px;\">\n                <div style=\"width:180px;font-weight:700;\">\n                    Batting\n                </div>\n                <span>\n                    ★★☆\n                </span>\n            </div>\n            <div style=\"display:flex;flex-direction:row;align-items:center;padding:2px 40px;background:rgba(30,30,30,1)\">\n                <div style=\"width:180px;font-weight:700;\">\n                    Pitching\n                </div>\n                <span>\n                    ★☆\n                </span>\n            </div>\n            <div style=\"display:flex;flex-direction:row;align-items:center;padding:2px 40px;\">\n                <div style=\"width:180px;font-weight:700;\">\n                    Baserunning\n                </div>\n                <span>\n                    ★★☆\n                </span>\n            </div>\n            <div style=\"display:flex;flex-direction:row;align-items:center;padding:2px 40px;background:rgba(30,30,30,1)\">\n                <div style=\"width:180px;font-weight:700;\">\n                    Defense\n                </div>\n                <span>\n                    ★☆\n                </span>\n            </div>\n            <div style=\"padding:10px;40px;display:flex;flex-direction:row;justify-content:space-around;\">\n                <div style=\"display:flex;flex-direction:column;justify-content:space-between;align-items:center;width:auto;min-width:150px;height:80px;margin:5px;padding:10px 0;background:#111;border-radius:5px;\">\n                    <div style=\"font-weight:700;\">\n                        ITEM\n                    </div>\n                    <div>\n                        None\n                    </div>\n                </div>\n                <div style=\"display:flex;flex-direction:column;justify-content:space-between;align-items:center;width:auto;min-width:150px;height:80px;margin:5px;padding:10px 0;background:#111;border-radius:5px;\">\n                    <div style=\"font-weight:700;\">\n                        ARMOR\n                    </div>\n                    <div>\n                        None\n                    </div>\n                </div>\n            </div>\n            <div style=\"display:flex;flex-direction:row;align-items:center;padding:2px 40px;background:rgba(30,30,30,1)\">\n                <div style=\"width:180px;font-weight:700;\">\n                    Evolution\n                </div>\n                <span>\n                    Base\n                </span>\n            </div>\n            <div style=\"display:flex;flex-direction:row;align-items:center;padding:2px 40px;\">\n                <div style=\"width:180px;font-weight:700;\">\n                    Pregame Ritual\n                </div>\n                <span>\n                    Air guitar\n                </span>\n            </div>\n            <div style=\"display:flex;flex-direction:row;align-items:center;padding:2px 40px;background:rgba(30,30,30,1)\">\n                <div style=\"width:180px;font-weight:700;\">\n                    Coffee Style\n                </div>\n                <span>\n                    Decaf\n                </span>\n            </div>\n            <div style=\"display:flex;flex-direction:row;align-items:center;padding:2px 40px;\">\n                <div style=\"width:180px;font-weight:700;\">\n                    Blood Type\n                </div>\n                <span>\n                    O No\n                </span>\n            </div>\n            <div style=\"display:flex;flex-direction:row;align-items:center;padding:2px 40px;background:rgba(30,30,30,1)\">\n                <div style=\"width:180px;font-weight:700;\">\n                    Fate\n                </div>\n                <span>\n                    59\n                </span>\n            </div>\n            <div style=\"display:flex;flex-direction:row;align-items:center;padding:2px 40px;\">\n                <div style=\"width:180px;font-weight:700;\">\n                    Soulscream\n                </div>\n                <span style=\"max-width:240px;height:auto;border-radius:5px;font-size:16px;font-weight:700;font-style:italic;word-wrap:break-word;color:#F00\">\n                    IHEEIIHEEIIEEAAEEEAAEEXEAHEXEAHEXUEAXAUEAXAUXAAUAXAAUAXOAIAEOAIAEOIEAAIIEAAII\n                </span>\n            </div>\n        </div>\n    </div>\n    "
     },
     "metadata": {},
     "output_type": "display_data"
    },
    {
     "data": {
      "text/plain": "<IPython.core.display.HTML object>",
      "text/html": "\n    <div style=\"width:500px;background:#000;border:1px solid #fff;color:#fff;display:flex;flex-direction:column;box-sizing:border-box;font-size:14px;\">\n        <div style=\"border-bottom: 1px solid #fff;display:flex;dlex-direction:column;align-items:flex-start;justify-content:space-between;padding:40px 40px 20px;\">\n            <div style=\"font-size:24px;\">\n                Jessica Telephone\n            </div>\n        </div>\n        \n        <div style=\"padding:20px 0;\">\n            <div style=\"display:flex;flex-direction:row;align-items:center;padding:2px 40px;background:rgba(30,30,30,1)\">\n                <div style=\"width:180px;font-weight:700;\">\n                    Current Vibe\n                </div>\n                <span style=\"color:#8fdb88;\">\n                    ▲ Quality\n                </span>\n            </div>\n            <div style=\"display:flex;flex-direction:row;align-items:center;padding:2px 40px;\">\n                <div style=\"width:180px;font-weight:700;\">\n                    Batting\n                </div>\n                <span>\n                    ★★★★★☆\n                </span>\n            </div>\n            <div style=\"display:flex;flex-direction:row;align-items:center;padding:2px 40px;background:rgba(30,30,30,1)\">\n                <div style=\"width:180px;font-weight:700;\">\n                    Pitching\n                </div>\n                <span>\n                    ★★☆\n                </span>\n            </div>\n            <div style=\"display:flex;flex-direction:row;align-items:center;padding:2px 40px;\">\n                <div style=\"width:180px;font-weight:700;\">\n                    Baserunning\n                </div>\n                <span>\n                    ★★★★\n                </span>\n            </div>\n            <div style=\"display:flex;flex-direction:row;align-items:center;padding:2px 40px;background:rgba(30,30,30,1)\">\n                <div style=\"width:180px;font-weight:700;\">\n                    Defense\n                </div>\n                <span>\n                    ★★★\n                </span>\n            </div>\n            <div style=\"padding:10px;40px;display:flex;flex-direction:row;justify-content:space-around;\">\n                <div style=\"display:flex;flex-direction:column;justify-content:space-between;align-items:center;width:auto;min-width:150px;height:80px;margin:5px;padding:10px 0;background:#111;border-radius:5px;\">\n                    <div style=\"font-weight:700;\">\n                        ITEM\n                    </div>\n                    <div>\n                        The Dial Tone\n                    </div>\n                </div>\n                <div style=\"display:flex;flex-direction:column;justify-content:space-between;align-items:center;width:auto;min-width:150px;height:80px;margin:5px;padding:10px 0;background:#111;border-radius:5px;\">\n                    <div style=\"font-weight:700;\">\n                        ARMOR\n                    </div>\n                    <div>\n                        None\n                    </div>\n                </div>\n            </div>\n            <div style=\"display:flex;flex-direction:row;align-items:center;padding:2px 40px;background:rgba(30,30,30,1)\">\n                <div style=\"width:180px;font-weight:700;\">\n                    Evolution\n                </div>\n                <span>\n                    Base\n                </span>\n            </div>\n            <div style=\"display:flex;flex-direction:row;align-items:center;padding:2px 40px;\">\n                <div style=\"width:180px;font-weight:700;\">\n                    Pregame Ritual\n                </div>\n                <span>\n                    Batting Practice\n                </span>\n            </div>\n            <div style=\"display:flex;flex-direction:row;align-items:center;padding:2px 40px;background:rgba(30,30,30,1)\">\n                <div style=\"width:180px;font-weight:700;\">\n                    Coffee Style\n                </div>\n                <span>\n                    Macchiato\n                </span>\n            </div>\n            <div style=\"display:flex;flex-direction:row;align-items:center;padding:2px 40px;\">\n                <div style=\"width:180px;font-weight:700;\">\n                    Blood Type\n                </div>\n                <span>\n                    O\n                </span>\n            </div>\n            <div style=\"display:flex;flex-direction:row;align-items:center;padding:2px 40px;background:rgba(30,30,30,1)\">\n                <div style=\"width:180px;font-weight:700;\">\n                    Fate\n                </div>\n                <span>\n                    16\n                </span>\n            </div>\n            <div style=\"display:flex;flex-direction:row;align-items:center;padding:2px 40px;\">\n                <div style=\"width:180px;font-weight:700;\">\n                    Soulscream\n                </div>\n                <span style=\"max-width:240px;height:auto;border-radius:5px;font-size:16px;font-weight:700;font-style:italic;word-wrap:break-word;color:#F00\">\n                    EIEIXEIEIXEIEAIIIEAIIIIHAXIIHAXIIUUAAEUUAAEUAXAOEAXAOEAXXIHAXXIHAXUUAIOUUAIOU\n                </span>\n            </div>\n        </div>\n    </div>\n    "
     },
     "metadata": {},
     "output_type": "display_data"
    }
   ],
   "source": [
    "beasley = Player.find_by_name(\"Beasley Day\")\n",
    "beasley_alt = Player.load_one(\"083d09d4-7ed3-4100-b021-8fbe30dd43e8\")\n",
    "\n",
    "display_player(beasley)\n",
    "display_player(beasley_alt)"
   ],
   "metadata": {
    "collapsed": false,
    "pycharm": {
     "name": "#%%\n"
    }
   }
  },
  {
   "cell_type": "markdown",
   "source": [
    "### Team Data\n",
    "Teams can be retrieved by with lookups based on the team name or by using\n",
    "the Team ID, found in the URL of a team page on the blaseball website.\n",
    "\n",
    "Teams contain lists of players in particular positions, most notably `lineup` for batters\n",
    "and `rotation` for pitchers."
   ],
   "metadata": {
    "collapsed": false
   }
  },
  {
   "cell_type": "code",
   "execution_count": 3,
   "outputs": [
    {
     "data": {
      "text/plain": "<IPython.core.display.HTML object>",
      "text/html": "\n    <div style=\"width:500px;background:#000;border:1px solid #fff;color:#fff;display:flex;flex-direction:column;box-sizing:border-box;font-size:14px;\">\n        <div style=\"padding: 40px 40px 20px;border-bottom:1px solid #fff;\">\n            <div style=\"display:flex;flex-direction:row;justify-content:flex-start;align-items:center;\">\n                <div style=\"background-color:#399d8f;border-radius:50%;height:60px;width:60px;font-size:36px;display:flex;align-items:center;justify-content:center;flex-shrink:0;\">\n                    🥧\n                </div>\n                <div style=\"display:flex;flex-direction:column;margin-left:10px;\">\n                    <div style=\"font-size:24px;\">\n                        Philly Pies\n                    </div>\n                    <div>\n                        <i>\"Pie or Die.\"</i>\n                    </div>\n                </div>\n            </div>\n        </div>\n        <div style=\"padding:5px 40px;display:flex;flex-direction:row;background:#111;border-bottom:1px solid #fff;\">\n            TODO: Attributes\n        </div>\n        <div style=\"padding:20px 40px 20px;\">\n            <div style=\"margin-bottom:10px;\">\n                <div style=\"font-size:18px;margin-bottom:10px;color:#aaa;text-align:center;\">\n                    Lineup\n                </div>\n                <ul style=\"margin:0;padding:0;width:100%;\">\n                    \n        <div style=\"display:grid;grid-template-columns:auto 100px 140px; grid-template-rows:30px;align-items:center;margin:0 -40px;padding:0 20px 0 40px;line-height:1.2em;background:rgba(30,30,30,1);\">\n            <div>\n                Eduardo Woodman\n            </div>\n            <div style=\"display:flex;flex-direction:row;justify-content:center;\">\n                <span style=\"color:#8fdb88;\">▲</span>\n            </div>\n            <div>\n                ★★★★\n            </div>\n        </div>\n    \n        <div style=\"display:grid;grid-template-columns:auto 100px 140px; grid-template-rows:30px;align-items:center;margin:0 -40px;padding:0 20px 0 40px;line-height:1.2em;\">\n            <div>\n                Beasley Day\n            </div>\n            <div style=\"display:flex;flex-direction:row;justify-content:center;\">\n                <span style=\"color:#d97373;\">▼</span>\n            </div>\n            <div>\n                ★★☆\n            </div>\n        </div>\n    \n        <div style=\"display:grid;grid-template-columns:auto 100px 140px; grid-template-rows:30px;align-items:center;margin:0 -40px;padding:0 20px 0 40px;line-height:1.2em;background:rgba(30,30,30,1);\">\n            <div>\n                Farrell Seagull\n            </div>\n            <div style=\"display:flex;flex-direction:row;justify-content:center;\">\n                <span style=\"color:#d1d1d1;\">⬌</span>\n            </div>\n            <div>\n                ★★\n            </div>\n        </div>\n    \n        <div style=\"display:grid;grid-template-columns:auto 100px 140px; grid-template-rows:30px;align-items:center;margin:0 -40px;padding:0 20px 0 40px;line-height:1.2em;\">\n            <div>\n                Jaxon Buckley\n            </div>\n            <div style=\"display:flex;flex-direction:row;justify-content:center;\">\n                <span style=\"color:#5de04f;\">▲▲</span>\n            </div>\n            <div>\n                ★★★★★☆\n            </div>\n        </div>\n    \n        <div style=\"display:grid;grid-template-columns:auto 100px 140px; grid-template-rows:30px;align-items:center;margin:0 -40px;padding:0 20px 0 40px;line-height:1.2em;background:rgba(30,30,30,1);\">\n            <div>\n                Lang Richardson\n            </div>\n            <div style=\"display:flex;flex-direction:row;justify-content:center;\">\n                <span style=\"color:#d97373;\">▼</span>\n            </div>\n            <div>\n                ★★★\n            </div>\n        </div>\n    \n        <div style=\"display:grid;grid-template-columns:auto 100px 140px; grid-template-rows:30px;align-items:center;margin:0 -40px;padding:0 20px 0 40px;line-height:1.2em;\">\n            <div>\n                Yusef Puddles\n            </div>\n            <div style=\"display:flex;flex-direction:row;justify-content:center;\">\n                <span style=\"color:#de3c3c;\">▼▼</span>\n            </div>\n            <div>\n                ★★\n            </div>\n        </div>\n    \n        <div style=\"display:grid;grid-template-columns:auto 100px 140px; grid-template-rows:30px;align-items:center;margin:0 -40px;padding:0 20px 0 40px;line-height:1.2em;background:rgba(30,30,30,1);\">\n            <div>\n                Jode Preston\n            </div>\n            <div style=\"display:flex;flex-direction:row;justify-content:center;\">\n                <span style=\"color:#d1d1d1;\">⬌</span>\n            </div>\n            <div>\n                ★★★★\n            </div>\n        </div>\n    \n                </ul>\n            </div>\n            <div style=\"margin-bottom:10px;\">\n                <div style=\"font-size:18px;margin-bottom:10px;color:#aaa;text-align:center;\">\n                    Rotation\n                </div>\n                <ul style=\"margin:0;padding:0;width:100%;\">\n                    \n        <div style=\"display:grid;grid-template-columns:auto 100px 140px; grid-template-rows:30px;align-items:center;margin:0 -40px;padding:0 20px 0 40px;line-height:1.2em;background:rgba(30,30,30,1);\">\n            <div>\n                Henry Marshallow\n            </div>\n            <div style=\"display:flex;flex-direction:row;justify-content:center;\">\n                <span style=\"color:#8fdb88;\">▲</span>\n            </div>\n            <div>\n                ★★\n            </div>\n        </div>\n    \n        <div style=\"display:grid;grid-template-columns:auto 100px 140px; grid-template-rows:30px;align-items:center;margin:0 -40px;padding:0 20px 0 40px;line-height:1.2em;\">\n            <div>\n                Nicholas Mora\n            </div>\n            <div style=\"display:flex;flex-direction:row;justify-content:center;\">\n                <span style=\"color:#d97373;\">▼</span>\n            </div>\n            <div>\n                ★★★\n            </div>\n        </div>\n    \n        <div style=\"display:grid;grid-template-columns:auto 100px 140px; grid-template-rows:30px;align-items:center;margin:0 -40px;padding:0 20px 0 40px;line-height:1.2em;background:rgba(30,30,30,1);\">\n            <div>\n                Bright Zimmerman\n            </div>\n            <div style=\"display:flex;flex-direction:row;justify-content:center;\">\n                <span style=\"color:#d97373;\">▼</span>\n            </div>\n            <div>\n                ★☆\n            </div>\n        </div>\n    \n        <div style=\"display:grid;grid-template-columns:auto 100px 140px; grid-template-rows:30px;align-items:center;margin:0 -40px;padding:0 20px 0 40px;line-height:1.2em;\">\n            <div>\n                Ruslan Greatness\n            </div>\n            <div style=\"display:flex;flex-direction:row;justify-content:center;\">\n                <span style=\"color:#5de04f;\">▲▲</span>\n            </div>\n            <div>\n                ★★☆\n            </div>\n        </div>\n    \n        <div style=\"display:grid;grid-template-columns:auto 100px 140px; grid-template-rows:30px;align-items:center;margin:0 -40px;padding:0 20px 0 40px;line-height:1.2em;background:rgba(30,30,30,1);\">\n            <div>\n                Elvis Figueroa\n            </div>\n            <div style=\"display:flex;flex-direction:row;justify-content:center;\">\n                <span style=\"color:#d1d1d1;\">⬌</span>\n            </div>\n            <div>\n                ★★★★☆\n            </div>\n        </div>\n    \n                </ul>\n            </div>\n        </div>\n    </div>\n    "
     },
     "metadata": {},
     "output_type": "display_data"
    }
   ],
   "source": [
    "pies = Team.load_by_name(\"Pies\")\n",
    "\n",
    "display_team(pies)"
   ],
   "metadata": {
    "collapsed": false,
    "pycharm": {
     "name": "#%%\n"
    }
   }
  },
  {
   "cell_type": "markdown",
   "source": [
    "### Games\n",
    "The results of individual games can be found based on the gameday and season, including\n",
    "future games in the currently running season."
   ],
   "metadata": {
    "collapsed": false,
    "pycharm": {
     "name": "#%% md\n"
    }
   }
  },
  {
   "cell_type": "code",
   "execution_count": 4,
   "outputs": [
    {
     "data": {
      "text/plain": "<IPython.core.display.HTML object>",
      "text/html": "\n    <div style=\"display:flex;flex-direction:column;border-radius:5px;background-color:#111;width:390px;font-size:1rem;font-weight:400;line-height:1.5;color:#fff;box-sizing:border-box;\">\n        <div style=\"height:32px;display:flex;justify-content:space-between;flex-direction:row;align-items:center;font-size:14px;background:rgba(30,30,30,.64)\">\n            <div style=\" display:flex;flex-direction:row;height:32px\">\n                <div style=\"background:red;display:flex;padding:0 8px;height:100%;border-radius:5px;align-items:center\">\n                    FINAL\n                </div>\n                <div style=\"display:flex;padding-left:10px;padding-right:10px;height:32px;border-radius:5px;align-items:center;font-size:14px;justify-content:center\">\n                    Sunny\n                </div>\n            </div>\n        </div>\n        <div style=\"display:flex;flex:1 0 auto;flex-direction:column;justify-content:space-around;padding:10px 0 10px 10px;\">\n            <div style=\"display:grid;grid-template-columns:60px auto 15%;grid-gap:10px;gap:10px;width:100%;align-items:center\">\n                <div style=\"background:#399d8f;display:flex;width:50px;height:50px;margin-left:8px;border-radius:50%;font-size:29px;justify-content:center;align-items:center;\">\n                    🥧\n                </div>\n                <div style=\"color:#58c3b4;font-size:24px; font-family:\"Lora\",\"Courier New\",monospace,serif;\">\n                    Pies\n                </div>\n                <div style=\"border: 2px solid;display:flex;font-size:24px;align-items:center;justify-content:center;width:46px;height:46px;margin:0 auto;border-radius:50%;margin:0 8px 0 0;\">\n                    5\n                </div>\n            </div>\n            <div style=\"display:grid;grid-template-columns:60px auto 15%;grid-gap:10px;gap:10px;width:100%;align-items:center\">\n                <div style=\"background:#f5feff;display:flex;width:50px;height:50px;margin-left:8px;border-radius:50%;font-size:29px;justify-content:center;align-items:center;\">\n                    🗣\n                </div>\n                <div style=\"color:#f5feff;font-size:24px; font-family:\"Lora\",\"Courier New\",monospace,serif;\">\n                    Moist Talkers\n                </div>\n                <div style=\"display:flex;font-size:24px;align-items:center;justify-content:center;width:46px;height:46px;margin:0 auto;border-radius:50%;margin:0 8px 0 0;\">\n                    0\n                </div>\n            </div>\n            <div style=\"display:flex;flex-direction:row;align-items:center;justify-content:space-evenly;padding-top:20px;\">\n                <div style=\"background:#399d8f80;font-size:14px;align-items:center;line-height:20px;padding:0 8px;margin:5px 0;border-radius:5px;\">\n                    Elvis Figueroa\n                </div>\n                <div style=\"background:#f5feff80;font-size:14px;align-items:center;line-height:20px;padding:0 8px;margin:5px 0;border-radius:5px;\">\n                    Mooney Doctor\n                </div>\n            </div>\n            <div style=\"font-size:12px;line-height:24px;height:100%;text-align:center;padding:5px 0;\">\n                \n            </div>\n        </div>\n    </div>\n    "
     },
     "metadata": {},
     "output_type": "display_data"
    }
   ],
   "source": [
    "lift = Team.load_by_name(\"Pies\")\n",
    "\n",
    "days_games = Game.load_by_day(season=11, day=10)\n",
    "pies_game = get_game_by_team(days_games, lift)\n",
    "display_game_results(pies_game)"
   ],
   "metadata": {
    "collapsed": false,
    "pycharm": {
     "name": "#%%\n"
    }
   }
  }
 ],
 "metadata": {
  "kernelspec": {
   "display_name": "Python 3",
   "language": "python",
   "name": "python3"
  },
  "language_info": {
   "codemirror_mode": {
    "name": "ipython",
    "version": 2
   },
   "file_extension": ".py",
   "mimetype": "text/x-python",
   "name": "python",
   "nbconvert_exporter": "python",
   "pygments_lexer": "ipython2",
   "version": "2.7.6"
  }
 },
 "nbformat": 4,
 "nbformat_minor": 0
}