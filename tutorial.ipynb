{
 "cells": [
  {
   "cell_type": "markdown",
   "metadata": {
    "collapsed": true,
    "pycharm": {
     "name": "#%% md\n"
    }
   },
   "source": [
    "# Election Notes Tutorial\n",
    "\n",
    "Welcome to the Philly Pies Election Notes tutorial! Here we'll go into details about the\n",
    "scripts used and how you can modify them to perform your own data analysis. This tutorial\n",
    "is entirely optional, you can still read the notes for each season without having to modify\n",
    "them yourself!"
   ]
  },
  {
   "cell_type": "markdown",
   "source": [
    "## Basic Operation\n",
    "\n",
    "These notes operate as snippets of Python code that run when prompted. You can run all them\n",
    "at once by pressing the ⏩ button in the top toolbar. You can also run individual snippets\n",
    "one at a time with the ▶ button. Changing the snippets only modifies it on your copy, so\n",
    "feel free to experiment without fear of breaking things!\n",
    "\n",
    "Note that the snippets are meant to be run in order, so you may run into problems if you\n",
    "only run one at a time. All Election Notes will start with a setup snippet to get\n",
    "everything un and running, like below."
   ],
   "metadata": {
    "collapsed": false
   }
  },
  {
   "cell_type": "code",
   "execution_count": 1,
   "outputs": [],
   "source": [
    "%matplotlib inline\n",
    "from blaseball_mike.models import Player, Team\n",
    "from display import *\n",
    "from utils import *"
   ],
   "metadata": {
    "collapsed": false,
    "pycharm": {
     "name": "#%%\n"
    }
   }
  },
  {
   "cell_type": "markdown",
   "source": [
    "## Blaseball Objects\n",
    "\n",
    "The foundation of most of the code is using objects retrieved from the blaseball\n",
    "website itself. The APIs to access these have been well documented by SIBR, and are\n",
    "wrapped in a library named `blaseball-mike` for ease of access. We'll be going over\n",
    "examples for each type of data as we go.\n",
    "\n",
    "Note: Because we load directly from the website it does not work when the site\n",
    "is down. It also tends to take longer when games are running as there is more strain\n",
    "on the servers.\n",
    "\n",
    "For more information, documentation can be found below:\n",
    "https://github.com/jmaliksi/blaseball-mike\n",
    "https://docs.sibr.dev/docs/apis/reference/Blaseball-API.v1.yaml"
   ],
   "metadata": {
    "collapsed": false,
    "pycharm": {
     "name": "#%% md\n"
    }
   }
  },
  {
   "cell_type": "markdown",
   "source": [
    "### Player Data\n",
    "Players can be retrieved by with lookups based on their name or by using\n",
    "the Team ID, found in the URL of a player page on the blaseball website.\n",
    "\n",
    "The player's stlats, stars, vibes, and"
   ],
   "metadata": {
    "collapsed": false,
    "pycharm": {
     "name": "#%% md\n"
    }
   }
  },
  {
   "cell_type": "code",
   "execution_count": 2,
   "outputs": [
    {
     "data": {
      "text/plain": "<Figure size 432x288 with 1 Axes>",
      "image/png": "[encoded data removed]"
     },
     "metadata": {
      "needs_background": "light"
     },
     "output_type": "display_data"
    },
    {
     "data": {
      "text/plain": "<IPython.core.display.HTML object>",
      "text/html": "<table>\n<thead>\n<tr><th>Name       </th><th style=\"text-align: right;\">  Batting Stars</th><th style=\"text-align: right;\">  Pitching Stars</th><th style=\"text-align: right;\">  Baserunning Stars</th><th style=\"text-align: right;\">  Defense Stars</th></tr>\n</thead>\n<tbody>\n<tr><td>Beasley Day</td><td style=\"text-align: right;\">            2.5</td><td style=\"text-align: right;\">             1.5</td><td style=\"text-align: right;\">                2.5</td><td style=\"text-align: right;\">            1.5</td></tr>\n</tbody>\n</table>"
     },
     "metadata": {},
     "output_type": "display_data"
    },
    {
     "data": {
      "text/plain": "<IPython.core.display.HTML object>",
      "text/html": "<table>\n<thead>\n<tr><th>Name       </th><th style=\"text-align: right;\">  Batting Rating</th><th style=\"text-align: right;\">  Divinity</th><th style=\"text-align: right;\">  Martyrdom</th><th style=\"text-align: right;\">   Moxie</th><th style=\"text-align: right;\">  Musclitude</th><th style=\"text-align: right;\">  Patheticism</th><th style=\"text-align: right;\">  Thwackability</th></tr>\n</thead>\n<tbody>\n<tr><td>Beasley Day</td><td style=\"text-align: right;\">        0.539142</td><td style=\"text-align: right;\">  0.688801</td><td style=\"text-align: right;\">   0.523706</td><td style=\"text-align: right;\">0.208479</td><td style=\"text-align: right;\">   0.0776687</td><td style=\"text-align: right;\">     0.468964</td><td style=\"text-align: right;\">          0.685</td></tr>\n</tbody>\n</table>"
     },
     "metadata": {},
     "output_type": "display_data"
    }
   ],
   "source": [
    "beasley = Player.find_by_name(\"Beasley Day\")\n",
    "beasley_alt = Player.load_one(\"26cfccf2-850e-43eb-b085-ff73ad0749b8\")\n",
    "\n",
    "display_season_vibes(beasley)\n",
    "display_stars(beasley)\n",
    "display_batting_stlats(beasley_alt)"
   ],
   "metadata": {
    "collapsed": false,
    "pycharm": {
     "name": "#%%\n"
    }
   }
  },
  {
   "cell_type": "markdown",
   "source": [
    "### Team Data\n",
    "Teams can be retrieved by with lookups based on the team name or by using\n",
    "the Team ID, found in the URL of a team page on the blaseball website.\n",
    "\n",
    "Teams contain lists of players in particular positions, most notably `lineup` for batters\n",
    "and `rotation` for pitchers."
   ],
   "metadata": {
    "collapsed": false
   }
  },
  {
   "cell_type": "code",
   "execution_count": 3,
   "outputs": [
    {
     "name": "stdout",
     "output_type": "stream",
     "text": [
      "Philly Pies\n"
     ]
    },
    {
     "data": {
      "text/plain": "<IPython.core.display.HTML object>",
      "text/html": "<table>\n<thead>\n<tr><th>Name           </th><th style=\"text-align: right;\">  Batting Stars</th><th style=\"text-align: right;\">  Pitching Stars</th><th style=\"text-align: right;\">  Baserunning Stars</th><th style=\"text-align: right;\">  Defense Stars</th></tr>\n</thead>\n<tbody>\n<tr><td>Eduardo Woodman</td><td style=\"text-align: right;\">            4  </td><td style=\"text-align: right;\">             2  </td><td style=\"text-align: right;\">                3.5</td><td style=\"text-align: right;\">            3.5</td></tr>\n<tr><td>Beasley Day    </td><td style=\"text-align: right;\">            2.5</td><td style=\"text-align: right;\">             1.5</td><td style=\"text-align: right;\">                2.5</td><td style=\"text-align: right;\">            1.5</td></tr>\n<tr><td>Farrell Seagull</td><td style=\"text-align: right;\">            1.5</td><td style=\"text-align: right;\">             2  </td><td style=\"text-align: right;\">                2.5</td><td style=\"text-align: right;\">            1  </td></tr>\n<tr><td>Jaxon Buckley  </td><td style=\"text-align: right;\">            5  </td><td style=\"text-align: right;\">             1.5</td><td style=\"text-align: right;\">                2.5</td><td style=\"text-align: right;\">            0.5</td></tr>\n<tr><td>Lang Richardson</td><td style=\"text-align: right;\">            2.5</td><td style=\"text-align: right;\">             0.5</td><td style=\"text-align: right;\">                3  </td><td style=\"text-align: right;\">            3  </td></tr>\n<tr><td>Yusef Puddles  </td><td style=\"text-align: right;\">            2  </td><td style=\"text-align: right;\">             2  </td><td style=\"text-align: right;\">                2.5</td><td style=\"text-align: right;\">            3.5</td></tr>\n<tr><td>Jode Preston   </td><td style=\"text-align: right;\">            3.5</td><td style=\"text-align: right;\">             0.5</td><td style=\"text-align: right;\">                3  </td><td style=\"text-align: right;\">            1  </td></tr>\n</tbody>\n</table>"
     },
     "metadata": {},
     "output_type": "display_data"
    },
    {
     "data": {
      "text/plain": "<IPython.core.display.HTML object>",
      "text/html": "<table>\n<thead>\n<tr><th>Name            </th><th style=\"text-align: right;\">  Pitching Rating</th><th style=\"text-align: right;\">  Coldness</th><th style=\"text-align: right;\">  Overpowerment</th><th style=\"text-align: right;\">  Ruthlessness</th><th style=\"text-align: right;\">  Shakespearianism</th><th style=\"text-align: right;\">  Suppression</th><th style=\"text-align: right;\">  Unthwackability</th><th style=\"text-align: right;\">  Number of Fingers</th></tr>\n</thead>\n<tbody>\n<tr><td>Henry Marshallow</td><td style=\"text-align: right;\">         0.343486</td><td style=\"text-align: right;\">  0.496422</td><td style=\"text-align: right;\">       1.07702 </td><td style=\"text-align: right;\">      0.804182</td><td style=\"text-align: right;\">          0.41285 </td><td style=\"text-align: right;\">     0.612528</td><td style=\"text-align: right;\">         0.169792</td><td style=\"text-align: right;\">                 11</td></tr>\n<tr><td>Nicholas Mora   </td><td style=\"text-align: right;\">         0.566485</td><td style=\"text-align: right;\">  0.48233 </td><td style=\"text-align: right;\">       0.553609</td><td style=\"text-align: right;\">      0.343723</td><td style=\"text-align: right;\">          0.367345</td><td style=\"text-align: right;\">     0.431032</td><td style=\"text-align: right;\">         1.14095 </td><td style=\"text-align: right;\">                 13</td></tr>\n<tr><td>Bright Zimmerman</td><td style=\"text-align: right;\">         0.251085</td><td style=\"text-align: right;\">  0.228558</td><td style=\"text-align: right;\">       0.798076</td><td style=\"text-align: right;\">      0.454107</td><td style=\"text-align: right;\">          0.611517</td><td style=\"text-align: right;\">     0.825101</td><td style=\"text-align: right;\">         0.150685</td><td style=\"text-align: right;\">                 12</td></tr>\n<tr><td>Ruslan Greatness</td><td style=\"text-align: right;\">         0.345473</td><td style=\"text-align: right;\">  0.196888</td><td style=\"text-align: right;\">       0.827948</td><td style=\"text-align: right;\">      0.379649</td><td style=\"text-align: right;\">          0.595204</td><td style=\"text-align: right;\">     0.965847</td><td style=\"text-align: right;\">         0.32982 </td><td style=\"text-align: right;\">                 12</td></tr>\n<tr><td>Elvis Figueroa  </td><td style=\"text-align: right;\">         0.949663</td><td style=\"text-align: right;\">  0.328725</td><td style=\"text-align: right;\">       0.93046 </td><td style=\"text-align: right;\">      1.01597 </td><td style=\"text-align: right;\">          0.689138</td><td style=\"text-align: right;\">     0.592661</td><td style=\"text-align: right;\">         1.03639 </td><td style=\"text-align: right;\">                 12</td></tr>\n</tbody>\n</table>"
     },
     "metadata": {},
     "output_type": "display_data"
    }
   ],
   "source": [
    "pies = Team.load_by_name(\"Philly Pies\")\n",
    "\n",
    "display_name(pies)\n",
    "display_stars(pies.lineup)\n",
    "display_pitching_stlats(pies.rotation)"
   ],
   "metadata": {
    "collapsed": false,
    "pycharm": {
     "name": "#%%\n"
    }
   }
  },
  {
   "cell_type": "markdown",
   "source": [
    "### Games\n",
    "The results of individual games can be found based on the gameday and season, including\n",
    "future games in the currently running season."
   ],
   "metadata": {
    "collapsed": false,
    "pycharm": {
     "name": "#%% md\n"
    }
   }
  }
 ],
 "metadata": {
  "kernelspec": {
   "display_name": "Python 3",
   "language": "python",
   "name": "python3"
  },
  "language_info": {
   "codemirror_mode": {
    "name": "ipython",
    "version": 2
   },
   "file_extension": ".py",
   "mimetype": "text/x-python",
   "name": "python",
   "nbconvert_exporter": "python",
   "pygments_lexer": "ipython2",
   "version": "2.7.6"
  }
 },
 "nbformat": 4,
 "nbformat_minor": 0
}