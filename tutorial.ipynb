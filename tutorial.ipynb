{
 "cells": [
  {
   "cell_type": "markdown",
   "metadata": {
    "collapsed": true,
    "pycharm": {
     "name": "#%% md\n"
    }
   },
   "source": [
    "# Election Notes Tutorial\n",
    "\n",
    "Welcome to the Philly Pies Election Notes tutorial! Here we'll go into details about the\n",
    "scripts used and how you can modify them to perform your own data analysis. This tutorial\n",
    "is entirely optional, you can still read the Seasonal Election Notes without having to modify\n",
    "them yourself!"
   ]
  },
  {
   "cell_type": "markdown",
   "metadata": {
    "pycharm": {
     "name": "#%% md\n"
    }
   },
   "source": [
    "## Basic Operation\n",
    "\n",
    "These notes operate as snippets of Python code that run in order. All the scripts ran when\n",
    "this document was opened, but you can also run individual snippets one at a time with\n",
    "the ▶ button. Changing the snippets only modifies it on your copy, so feel free to\n",
    "experiment without fear of breaking things!\n",
    "\n",
    "Note that the snippets are meant to be run in order, so you may run into problems if you\n",
    "only run one at a time. All Election Notes will start with a setup snippet to get\n",
    "everything un and running, like below."
   ]
  },
  {
   "cell_type": "code",
   "execution_count": null,
   "metadata": {
    "pycharm": {
     "name": "#%%\n"
    }
   },
   "outputs": [],
   "source": [
    "%matplotlib inline\n",
    "from display import *\n",
    "from blessings import *"
   ]
  },
  {
   "cell_type": "markdown",
   "metadata": {
    "pycharm": {
     "name": "#%% md\n"
    }
   },
   "source": [
    "## Blaseball APIs\n",
    "\n",
    "The foundation of most of the code is using data retrieved from the blaseball\n",
    "website itself. The APIs to access these have been well documented by SIBR, and are\n",
    "wrapped in a library named `blaseball-mike` for ease of access. We'll be going over\n",
    "examples for each type of data as we go.\n",
    "\n",
    "Note: Because we load directly from the website it does not work when the site\n",
    "is down. It also tends to take longer when games are running as there is more strain\n",
    "on the servers.\n",
    "\n",
    "For more information, documentation can be found below:\n",
    "\n",
    "https://github.com/jmaliksi/blaseball-mike\n",
    "\n",
    "https://jmaliksi.github.io/blaseball-mike/docs/blaseball_mike/index.html\n",
    "\n",
    "https://docs.sibr.dev/docs/apis/reference/Blaseball-API.v1.yaml"
   ]
  },
  {
   "cell_type": "markdown",
   "metadata": {
    "pycharm": {
     "name": "#%% md\n"
    }
   },
   "source": [
    "### Player Data\n",
    "Players can be retrieved with lookups based on their name or by using their Player ID,\n",
    "found in the URL of a player page on the blaseball website. Historical data for players can\n",
    "also be collected based on timestamp"
   ]
  },
  {
   "cell_type": "code",
   "execution_count": null,
   "metadata": {
    "pycharm": {
     "name": "#%%\n"
    }
   },
   "outputs": [],
   "source": [
    "# Let's check out good boy Beasley\n",
    "beasley = Player.find_by_name(\"Beasley Day\")\n",
    "\n",
    "display_player(beasley)"
   ]
  },
  {
   "cell_type": "code",
   "execution_count": null,
   "metadata": {
    "pycharm": {
     "name": "#%%\n"
    }
   },
   "outputs": [],
   "source": [
    "# But what about Beasley's stlats?\n",
    "get_batting_stlats(beasley)"
   ]
  },
  {
   "cell_type": "code",
   "execution_count": null,
   "metadata": {
    "pycharm": {
     "name": "#%%\n"
    }
   },
   "outputs": [],
   "source": [
    "# And his baserunning?\n",
    "get_baserunning_stlats(beasley)"
   ]
  },
  {
   "cell_type": "code",
   "execution_count": null,
   "metadata": {
    "pycharm": {
     "name": "#%%\n"
    }
   },
   "outputs": [],
   "source": [
    "# We can also get performance stats from Blaseball Reference!\n",
    "# Note: you have to use separate code blocks for each stlat/stat lookup\n",
    "get_batting_stats(beasley, season=11)"
   ]
  },
  {
   "cell_type": "markdown",
   "metadata": {
    "pycharm": {
     "name": "#%% md\n"
    }
   },
   "source": [
    "### Team Data\n",
    "Teams can be retrieved by with lookups based on the team name or by using\n",
    "the Team ID, found in the URL of a team page on the blaseball website.\n",
    "\n",
    "Teams contain lists of players in particular positions, most notably `lineup` for batters\n",
    "and `rotation` for pitchers."
   ]
  },
  {
   "cell_type": "code",
   "execution_count": null,
   "metadata": {
    "pycharm": {
     "name": "#%%\n"
    }
   },
   "outputs": [],
   "source": [
    "# Let's see that Team page!\n",
    "pies = Team.load_by_name(\"Philly Pies\")\n",
    "\n",
    "display_team(pies)"
   ]
  },
  {
   "cell_type": "code",
   "execution_count": null,
   "metadata": {
    "pycharm": {
     "name": "#%%\n"
    }
   },
   "outputs": [],
   "source": [
    "# Just like with players, we can look up the stlats for the whole team\n",
    "get_pitching_stlats(pies.rotation)"
   ]
  },
  {
   "cell_type": "code",
   "execution_count": null,
   "metadata": {
    "pycharm": {
     "name": "#%%\n"
    }
   },
   "outputs": [],
   "source": [
    "# And the same with stats\n",
    "get_pitching_stats(pies.rotation, season=11)"
   ]
  },
  {
   "cell_type": "markdown",
   "metadata": {
    "pycharm": {
     "name": "#%% md\n"
    }
   },
   "source": [
    "### Games\n",
    "The results of individual games can be found based on the gameday and season, including\n",
    "future games in a currently running season."
   ]
  },
  {
   "cell_type": "code",
   "execution_count": null,
   "metadata": {
    "pycharm": {
     "name": "#%%\n"
    }
   },
   "outputs": [],
   "source": [
    "# Let's relive some fun history\n",
    "spillover = Game.load_by_season(season=4, day=43, team_id=pies.id)\n",
    "display_game_results(spillover)"
   ]
  },
  {
   "cell_type": "markdown",
   "metadata": {
    "pycharm": {
     "name": "#%% md\n"
    }
   },
   "source": [
    "### Player & Team History\n",
    "In addition to loading what the players & team are like right now, we can also load\n",
    "their historical records by date."
   ]
  },
  {
   "cell_type": "code",
   "execution_count": null,
   "metadata": {
    "pycharm": {
     "name": "#%%\n"
    }
   },
   "outputs": [],
   "source": [
    "# Let's grab the Season 2 Pies, for nostalgia\n",
    "# Format is <YEAR>-<MONTH>-<DAY>T<HOUR>:<MINUTE>:<SECOND>Z\n",
    "# Note: Historical records only go back as far as mid-Season 2\n",
    "mid_season_2 = \"2020-07-29T18:00:00Z\"\n",
    "old_pies = Team.load_at_time(pies.id, time=mid_season_2)\n",
    "\n",
    "display_team(old_pies)"
   ]
  },
  {
   "cell_type": "code",
   "execution_count": null,
   "metadata": {
    "pycharm": {
     "name": "#%%\n"
    }
   },
   "outputs": [],
   "source": [
    "# Oh hey, that was pre-AR Betsy. I wonder what her stlats looked like back then?\n",
    "betsy_current = Player.find_by_name(\"Betsy Trombone\")\n",
    "betsy_old = Player.load_one_at_time(betsy_current.id, time=mid_season_2)\n",
    "\n",
    "get_pitching_stlats([betsy_old, betsy_current])"
   ]
  },
  {
   "cell_type": "code",
   "execution_count": null,
   "metadata": {
    "pycharm": {
     "name": "#%%\n"
    }
   },
   "outputs": [],
   "source": []
  }
 ],
 "metadata": {
  "kernelspec": {
   "display_name": "Python 3",
   "language": "python",
   "name": "python3"
  },
  "language_info": {
   "codemirror_mode": {
    "name": "ipython",
    "version": 3
   },
   "file_extension": ".py",
   "mimetype": "text/x-python",
   "name": "python",
   "nbconvert_exporter": "python",
   "pygments_lexer": "ipython3",
   "version": "3.8.5"
  },
  "toc": {
   "base_numbering": 1,
   "nav_menu": {},
   "number_sections": false,
   "sideBar": true,
   "skip_h1_title": true,
   "title_cell": "Table of Contents",
   "title_sidebar": "Table of Contents",
   "toc_cell": false,
   "toc_section_display": true,
   "toc_window_display": false
  }
 },
 "nbformat": 4,
 "nbformat_minor": 1
}
