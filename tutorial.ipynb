{
 "cells": [
  {
   "cell_type": "markdown",
   "metadata": {
    "collapsed": true,
    "pycharm": {
     "name": "#%% md\n"
    }
   },
   "source": [
    "# Election Notes Tutorial\n",
    "\n",
    "Welcome to the Philly Pies Election Notes tutorial! Here we'll go into details about the\n",
    "scripts used and how you can modify them to perform your own data analysis. This tutorial\n",
    "is entirely optional, you can still read the Seasonal Election Notes without having to modify\n",
    "them yourself!"
   ]
  },
  {
   "cell_type": "markdown",
   "metadata": {},
   "source": [
    "## Basic Operation\n",
    "\n",
    "These notes operate as snippets of Python code that run in order. All the scripts ran when\n",
    "this document was opened, but you can also run individual snippets one at a time with\n",
    "the ▶ button. Changing the snippets only modifies it on your copy, so feel free to\n",
    "experiment without fear of breaking things!\n",
    "\n",
    "Note that the snippets are meant to be run in order, so you may run into problems if you\n",
    "only run one at a time. All Election Notes will start with a setup snippet to get\n",
    "everything un and running, like below."
   ]
  },
  {
   "cell_type": "code",
   "execution_count": null,
   "metadata": {
    "pycharm": {
     "name": "#%%\n"
    }
   },
   "outputs": [],
   "source": [
    "%matplotlib inline\n",
    "from display import *\n",
    "from blessings import *"
   ]
  },
  {
   "cell_type": "markdown",
   "metadata": {
    "pycharm": {
     "name": "#%% md\n"
    }
   },
   "source": [
    "## Blaseball APIs\n",
    "\n",
    "The foundation of most of the code is using data retrieved from the blaseball\n",
    "website itself. The APIs to access these have been well documented by SIBR, and are\n",
    "wrapped in a library named `blaseball-mike` for ease of access. We'll be going over\n",
    "examples for each type of data as we go.\n",
    "\n",
    "Note: Because we load directly from the website it does not work when the site\n",
    "is down. It also tends to take longer when games are running as there is more strain\n",
    "on the servers.\n",
    "\n",
    "For more information, documentation can be found below:\n",
    "https://github.com/jmaliksi/blaseball-mike\n",
    "https://docs.sibr.dev/docs/apis/reference/Blaseball-API.v1.yaml"
   ]
  },
  {
   "cell_type": "markdown",
   "metadata": {
    "pycharm": {
     "name": "#%% md\n"
    }
   },
   "source": [
    "### Player Data\n",
    "Players can be retrieved with lookups based on their name or by using their Player ID,\n",
    "found in the URL of a player page on the blaseball website. Historical data for players can\n",
    "also be collected based on timestamp"
   ]
  },
  {
   "cell_type": "code",
   "execution_count": null,
   "metadata": {
    "pycharm": {
     "name": "#%%\n"
    }
   },
   "outputs": [],
   "source": [
    "beasley = Player.find_by_name(\"Jaxon Buckley\")\n",
    "beasley_alt = Player.load_one(\"083d09d4-7ed3-4100-b021-8fbe30dd43e8\")\n",
    "\n",
    "display_player(beasley)"
   ]
  },
  {
   "cell_type": "markdown",
   "metadata": {},
   "source": [
    "### Team Data\n",
    "Teams can be retrieved by with lookups based on the team name or by using\n",
    "the Team ID, found in the URL of a team page on the blaseball website.\n",
    "\n",
    "Teams contain lists of players in particular positions, most notably `lineup` for batters\n",
    "and `rotation` for pitchers."
   ]
  },
  {
   "cell_type": "code",
   "execution_count": null,
   "metadata": {
    "pycharm": {
     "name": "#%%\n"
    }
   },
   "outputs": [],
   "source": [
    "pies = Team.load_by_name(\"Pies\")\n",
    "\n",
    "get_baserunning_stlats(pies.lineup + pies.rotation)\n",
    "display_team(pies)"
   ]
  },
  {
   "cell_type": "markdown",
   "metadata": {
    "pycharm": {
     "name": "#%% md\n"
    }
   },
   "source": [
    "### Games\n",
    "The results of individual games can be found based on the gameday and season, including\n",
    "future games in the currently running season."
   ]
  },
  {
   "cell_type": "code",
   "execution_count": null,
   "metadata": {
    "pycharm": {
     "name": "#%%\n"
    }
   },
   "outputs": [],
   "source": [
    "lift = Team.load_by_name(\"Pies\")\n",
    "\n",
    "days_games = Game.load_by_day(season=11, day=56)\n",
    "pies_game = get_game_by_team(days_games, lift)\n",
    "display_game_results(pies_game)"
   ]
  }
 ],
 "metadata": {
  "kernelspec": {
   "display_name": "Python 3",
   "language": "python",
   "name": "python3"
  },
  "language_info": {
   "codemirror_mode": {
    "name": "ipython",
    "version": 3
   },
   "file_extension": ".py",
   "mimetype": "text/x-python",
   "name": "python",
   "nbconvert_exporter": "python",
   "pygments_lexer": "ipython3",
   "version": "3.8.5"
  },
  "toc": {
   "base_numbering": 1,
   "nav_menu": {},
   "number_sections": false,
   "sideBar": false,
   "skip_h1_title": false,
   "title_cell": "Table of Contents",
   "title_sidebar": "Contents",
   "toc_cell": false,
   "toc_position": {},
   "toc_section_display": false,
   "toc_window_display": false
  }
 },
 "nbformat": 4,
 "nbformat_minor": 1
}