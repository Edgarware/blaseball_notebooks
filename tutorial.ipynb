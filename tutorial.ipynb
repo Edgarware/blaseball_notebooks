{
 "cells": [
  {
   "cell_type": "markdown",
   "metadata": {
    "collapsed": true,
    "pycharm": {
     "name": "#%% md\n"
    }
   },
   "source": [
    "# Election Notes Tutorial\n",
    "\n",
    "Welcome to the Philly Pies Election Notes tutorial! Here we'll go into details about the\n",
    "scripts used and how you can modify them to perform your own data analysis. This tutorial\n",
    "is entirely optional, you can still read the Seasonal Election Notes without having to modify\n",
    "them yourself!"
   ]
  },
  {
   "cell_type": "markdown",
   "source": [
    "## Basic Operation\n",
    "\n",
    "These notes operate as snippets of Python code that run in order. All the scripts ran when\n",
    "this document was opened, but you can also run individual snippets one at a time with\n",
    "the ▶ button. Changing the snippets only modifies it on your copy, so feel free to\n",
    "experiment without fear of breaking things!\n",
    "\n",
    "Note that the snippets are meant to be run in order, so you may run into problems if you\n",
    "only run one at a time. All Election Notes will start with a setup snippet to get\n",
    "everything un and running, like below."
   ],
   "metadata": {
    "collapsed": false
   }
  },
  {
   "cell_type": "code",
   "execution_count": null,
   "outputs": [],
   "source": [
    "%matplotlib inline\n",
    "from blaseball_mike.models import Player, Team\n",
    "from display import *\n",
    "from utils import *"
   ],
   "metadata": {
    "collapsed": false,
    "pycharm": {
     "name": "#%%\n"
    }
   }
  },
  {
   "cell_type": "markdown",
   "source": [
    "## Blaseball Objects\n",
    "\n",
    "The foundation of most of the code is using objects retrieved from the blaseball\n",
    "website itself. The APIs to access these have been well documented by SIBR, and are\n",
    "wrapped in a library named `blaseball-mike` for ease of access. We'll be going over\n",
    "examples for each type of data as we go.\n",
    "\n",
    "Note: Because we load directly from the website it does not work when the site\n",
    "is down. It also tends to take longer when games are running as there is more strain\n",
    "on the servers.\n",
    "\n",
    "For more information, documentation can be found below:\n",
    "https://github.com/jmaliksi/blaseball-mike\n",
    "https://docs.sibr.dev/docs/apis/reference/Blaseball-API.v1.yaml"
   ],
   "metadata": {
    "collapsed": false,
    "pycharm": {
     "name": "#%% md\n"
    }
   }
  },
  {
   "cell_type": "markdown",
   "source": [
    "### Player Data\n",
    "Players can be retrieved by with lookups based on their name or by using\n",
    "the Team ID, found in the URL of a player page on the blaseball website.\n",
    "\n",
    "The player's stlats, stars, vibes, and"
   ],
   "metadata": {
    "collapsed": false,
    "pycharm": {
     "name": "#%% md\n"
    }
   }
  },
  {
   "cell_type": "code",
   "execution_count": null,
   "outputs": [],
   "source": [
    "beasley = Player.find_by_name(\"Beasley Day\")\n",
    "beasley_alt = Player.load_one(\"26cfccf2-850e-43eb-b085-ff73ad0749b8\")\n",
    "\n",
    "display_season_vibes(beasley)\n",
    "display_stars(beasley)\n",
    "display_batting_stlats(beasley_alt)"
   ],
   "metadata": {
    "collapsed": false,
    "pycharm": {
     "name": "#%%\n"
    }
   }
  },
  {
   "cell_type": "markdown",
   "source": [
    "### Team Data\n",
    "Teams can be retrieved by with lookups based on the team name or by using\n",
    "the Team ID, found in the URL of a team page on the blaseball website.\n",
    "\n",
    "Teams contain lists of players in particular positions, most notably `lineup` for batters\n",
    "and `rotation` for pitchers."
   ],
   "metadata": {
    "collapsed": false
   }
  },
  {
   "cell_type": "code",
   "execution_count": null,
   "outputs": [],
   "source": [
    "pies = Team.load_by_name(\"Philly Pies\")\n",
    "\n",
    "display_name(pies)\n",
    "display_season_vibes(pies.lineup)\n",
    "display_stars(pies.lineup)\n",
    "display_pitching_stlats(pies.rotation)"
   ],
   "metadata": {
    "collapsed": false,
    "pycharm": {
     "name": "#%%\n"
    }
   }
  },
  {
   "cell_type": "markdown",
   "source": [
    "### Games\n",
    "The results of individual games can be found based on the gameday and season, including\n",
    "future games in the currently running season."
   ],
   "metadata": {
    "collapsed": false,
    "pycharm": {
     "name": "#%% md\n"
    }
   }
  },
  {
   "cell_type": "code",
   "execution_count": null,
   "outputs": [],
   "source": [
    "lift = Team.load_by_name(\"Lift\")\n",
    "\n",
    "days_games = Game.load_by_day(season=11, day=5)\n",
    "pies_game = get_game_by_team(days_games, lift)\n",
    "display_game_results(pies_game)"
   ],
   "metadata": {
    "collapsed": false,
    "pycharm": {
     "name": "#%%\n"
    }
   }
  }
 ],
 "metadata": {
  "kernelspec": {
   "display_name": "Python 3",
   "language": "python",
   "name": "python3"
  },
  "language_info": {
   "codemirror_mode": {
    "name": "ipython",
    "version": 2
   },
   "file_extension": ".py",
   "mimetype": "text/x-python",
   "name": "python",
   "nbconvert_exporter": "python",
   "pygments_lexer": "ipython2",
   "version": "2.7.6"
  }
 },
 "nbformat": 4,
 "nbformat_minor": 0
}