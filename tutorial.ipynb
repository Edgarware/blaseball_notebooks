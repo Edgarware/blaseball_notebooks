{
 "cells": [
  {
   "cell_type": "markdown",
   "metadata": {
    "collapsed": true,
    "pycharm": {
     "name": "#%% md\n"
    }
   },
   "source": [
    "# Election Notes Tutorial\n",
    "\n",
    "Welcome to the Philly Pies Election Notes tutorial! Here we'll go into details about the\n",
    "scripts used and how you can modify them to perform your own data analysis. This tutorial\n",
    "is entirely optional, you can still read the Seasonal Election Notes without having to modify\n",
    "them yourself!"
   ]
  },
  {
   "cell_type": "markdown",
   "metadata": {
    "pycharm": {
     "name": "#%% md\n"
    }
   },
   "source": [
    "## Basic Operation\n",
    "\n",
    "These notes operate as snippets of Python code that run in order. All the scripts ran when\n",
    "this document was opened, but you can also run individual snippets one at a time with\n",
    "the ▶ button. Changing the snippets only modifies it on your copy, so feel free to\n",
    "experiment without fear of breaking things!\n",
    "\n",
    "Note that the snippets are meant to be run in order, so you may run into problems if you\n",
    "only run one at a time. All Election Notes will start with a setup snippet to get\n",
    "everything un and running, like below."
   ]
  },
  {
   "cell_type": "code",
   "execution_count": 1,
   "metadata": {
    "pycharm": {
     "name": "#%%\n"
    }
   },
   "outputs": [],
   "source": [
    "%matplotlib inline\n",
    "from display import *\n",
    "from blessings import *"
   ]
  },
  {
   "cell_type": "markdown",
   "metadata": {
    "pycharm": {
     "name": "#%% md\n"
    }
   },
   "source": [
    "## Blaseball APIs\n",
    "\n",
    "The foundation of most of the code is using data retrieved from the blaseball\n",
    "website itself. The APIs to access these have been well documented by SIBR, and are\n",
    "wrapped in a library named `blaseball-mike` for ease of access. We'll be going over\n",
    "examples for each type of data as we go.\n",
    "\n",
    "Note: Because we load directly from the website it does not work when the site\n",
    "is down. It also tends to take longer when games are running as there is more strain\n",
    "on the servers.\n",
    "\n",
    "For more information, documentation can be found below:\n",
    "\n",
    "https://github.com/jmaliksi/blaseball-mike\n",
    "\n",
    "https://jmaliksi.github.io/blaseball-mike/docs/blaseball_mike/index.html\n",
    "\n",
    "https://docs.sibr.dev/docs/apis/reference/Blaseball-API.v1.yaml"
   ]
  },
  {
   "cell_type": "markdown",
   "metadata": {
    "pycharm": {
     "name": "#%% md\n"
    }
   },
   "source": [
    "### Player Data\n",
    "Players can be retrieved with lookups based on their name or by using their Player ID,\n",
    "found in the URL of a player page on the blaseball website. Historical data for players can\n",
    "also be collected based on timestamp"
   ]
  },
  {
   "cell_type": "code",
   "execution_count": 2,
   "metadata": {
    "pycharm": {
     "name": "#%%\n"
    }
   },
   "outputs": [
    {
     "data": {
      "text/plain": "<display.general.HTMLWrapper at 0x27b800a8c70>",
      "text/html": "\n    <div style=\"width:500px;background:#000;border:1px solid #fff;color:#fff;display:flex;flex-direction:column;box-sizing:border-box;font-size:14px;\">\n        <div style=\"border-bottom:1px solid #fff;display:flex;flex-direction:column;align-items:flex-start;justify-content:space-between;padding:40px 40px 20px;\">\n            <div style=\"font-size:24px;\">\n                Beasley Day\n            </div>\n            \n            <div style=\"display:flex;flex-direction:row;justify-content:space-between;align-items:center;margin-bottom:10px;\">\n                <div style=\"font-size:18px;display:flex;align-items:center;border-radius:50%;height:30px;width:30px;justify-content:center;flex-shrink:0;background-color:#399d8f;\">\n                    🥧\n                </div>\n                <div style=\"padding:0 10px;\">\n                    Philly Pies\n                </div>\n            </div>\n        </div>\n        \n        <div style=\"padding:5px 40px;display:flex;flex-direction:row;background:#111;border-bottom:1px solid #fff;\">\n        <div style=\"display:flex;flex-direction:row;padding:5px;border-radius:5px;background:#222;\">\n            <div style=\"font-weight:700;display:flex;margin-right:10px;padding-left:5px;padding-right:5px;height:32px;border-radius:5px;align-items:center;justify-content:center;color:#2e1406;background:#44c97c none repeat scroll 0% 0%;border:2px solid #dbbc0b\">\n                Free Refill\n            </div>\n        </div></div>\n        <div style=\"padding:20px 0;\">\n            <div style=\"display:flex;flex-direction:row;align-items:center;padding:2px 40px;background:rgba(30,30,30,1)\">\n                <div style=\"width:180px;font-weight:700;\">\n                    Current Vibe\n                </div>\n                <span style=\"color:#d1d1d1;\">\n                    ⬌ Neutral\n                </span>\n            </div>\n            <div style=\"display:flex;flex-direction:row;align-items:center;padding:2px 40px;\">\n                <div style=\"width:180px;font-weight:700;\">\n                    Batting\n                </div>\n                <span>\n                    ★★☆\n                </span>\n            </div>\n            <div style=\"display:flex;flex-direction:row;align-items:center;padding:2px 40px;background:rgba(30,30,30,1)\">\n                <div style=\"width:180px;font-weight:700;\">\n                    Pitching\n                </div>\n                <span>\n                    ★☆\n                </span>\n            </div>\n            <div style=\"display:flex;flex-direction:row;align-items:center;padding:2px 40px;\">\n                <div style=\"width:180px;font-weight:700;\">\n                    Baserunning\n                </div>\n                <span>\n                    ★★☆\n                </span>\n            </div>\n            <div style=\"display:flex;flex-direction:row;align-items:center;padding:2px 40px;background:rgba(30,30,30,1)\">\n                <div style=\"width:180px;font-weight:700;\">\n                    Defense\n                </div>\n                <span>\n                    ★☆\n                </span>\n            </div>\n            <div style=\"padding:10px;40px;display:flex;flex-direction:row;justify-content:space-around;\">\n                <div style=\"display:flex;flex-direction:column;justify-content:space-between;align-items:center;width:auto;min-width:150px;height:80px;margin:5px;padding:10px 0;background:#111;border-radius:5px;\">\n                    <div style=\"font-weight:700;\">\n                        ITEM\n                    </div>\n                    <div>\n                        None\n                    </div>\n                </div>\n                <div style=\"display:flex;flex-direction:column;justify-content:space-between;align-items:center;width:auto;min-width:150px;height:80px;margin:5px;padding:10px 0;background:#111;border-radius:5px;\">\n                    <div style=\"font-weight:700;\">\n                        ARMOR\n                    </div>\n                    <div>\n                        None\n                    </div>\n                </div>\n            </div>\n            <div style=\"display:flex;flex-direction:row;align-items:center;padding:2px 40px;background:rgba(30,30,30,1)\">\n                <div style=\"width:180px;font-weight:700;\">\n                    Evolution\n                </div>\n                <span>\n                    Base\n                </span>\n            </div>\n            <div style=\"display:flex;flex-direction:row;align-items:center;padding:2px 40px;\">\n                <div style=\"width:180px;font-weight:700;\">\n                    Pregame Ritual\n                </div>\n                <span>\n                    Air guitar\n                </span>\n            </div>\n            <div style=\"display:flex;flex-direction:row;align-items:center;padding:2px 40px;background:rgba(30,30,30,1)\">\n                <div style=\"width:180px;font-weight:700;\">\n                    Coffee Style\n                </div>\n                <span>\n                    Decaf\n                </span>\n            </div>\n            <div style=\"display:flex;flex-direction:row;align-items:center;padding:2px 40px;\">\n                <div style=\"width:180px;font-weight:700;\">\n                    Blood Type\n                </div>\n                <span>\n                    O No\n                </span>\n            </div>\n            <div style=\"display:flex;flex-direction:row;align-items:center;padding:2px 40px;background:rgba(30,30,30,1)\">\n                <div style=\"width:180px;font-weight:700;\">\n                    Fate\n                </div>\n                <span>\n                    59\n                </span>\n            </div>\n            <div style=\"display:flex;flex-direction:row;align-items:center;padding:2px 40px;\">\n                <div style=\"width:180px;font-weight:700;\">\n                    Soulscream\n                </div>\n                <span style=\"max-width:240px;height:auto;border-radius:5px;font-size:16px;font-weight:700;font-style:italic;word-wrap:break-word;color:#F00\">\n                    IHEEIIHEEIIEEAAEEEAAEEXEAHEXEAHEXUEAXAUEAXAUXAAUAXAAUAXOAIAEOAIAEOIEAAIIEAAII\n                </span>\n            </div>\n        </div>\n    </div>\n    "
     },
     "execution_count": 2,
     "metadata": {},
     "output_type": "execute_result"
    }
   ],
   "source": [
    "# Let's check out good boy Beasley\n",
    "beasley = Player.find_by_name(\"Beasley Day\")\n",
    "\n",
    "display_player(beasley)"
   ]
  },
  {
   "cell_type": "code",
   "execution_count": 3,
   "metadata": {
    "pycharm": {
     "name": "#%%\n"
    }
   },
   "outputs": [
    {
     "data": {
      "text/plain": "             Thwackability  Divinity  Musclitude     Moxie  Patheticism  \\\nBeasley Day          0.685  0.688801    0.077669  0.208479     0.468964   \n\n             Martyrdom  Tragicness  Buoyancy  \nBeasley Day   0.523706         0.1  0.753672  ",
      "text/html": "<div>\n<style scoped>\n    .dataframe tbody tr th:only-of-type {\n        vertical-align: middle;\n    }\n\n    .dataframe tbody tr th {\n        vertical-align: top;\n    }\n\n    .dataframe thead th {\n        text-align: right;\n    }\n</style>\n<table border=\"1\" class=\"dataframe\">\n  <thead>\n    <tr style=\"text-align: right;\">\n      <th></th>\n      <th>Thwackability</th>\n      <th>Divinity</th>\n      <th>Musclitude</th>\n      <th>Moxie</th>\n      <th>Patheticism</th>\n      <th>Martyrdom</th>\n      <th>Tragicness</th>\n      <th>Buoyancy</th>\n    </tr>\n  </thead>\n  <tbody>\n    <tr>\n      <th>Beasley Day</th>\n      <td>0.685</td>\n      <td>0.688801</td>\n      <td>0.077669</td>\n      <td>0.208479</td>\n      <td>0.468964</td>\n      <td>0.523706</td>\n      <td>0.1</td>\n      <td>0.753672</td>\n    </tr>\n  </tbody>\n</table>\n</div>"
     },
     "execution_count": 3,
     "metadata": {},
     "output_type": "execute_result"
    }
   ],
   "source": [
    "# But what about Beasley's stlats?\n",
    "get_batting_stlats(beasley)"
   ]
  },
  {
   "cell_type": "code",
   "execution_count": 4,
   "metadata": {
    "pycharm": {
     "name": "#%%\n"
    }
   },
   "outputs": [
    {
     "data": {
      "text/plain": "             Laserlikeness  Continuation  Base Thirst  Indulgence  \\\nBeasley Day       0.396098      0.416221     0.961669    0.330239   \n\n             Ground Friction  \nBeasley Day         0.673205  ",
      "text/html": "<div>\n<style scoped>\n    .dataframe tbody tr th:only-of-type {\n        vertical-align: middle;\n    }\n\n    .dataframe tbody tr th {\n        vertical-align: top;\n    }\n\n    .dataframe thead th {\n        text-align: right;\n    }\n</style>\n<table border=\"1\" class=\"dataframe\">\n  <thead>\n    <tr style=\"text-align: right;\">\n      <th></th>\n      <th>Laserlikeness</th>\n      <th>Continuation</th>\n      <th>Base Thirst</th>\n      <th>Indulgence</th>\n      <th>Ground Friction</th>\n    </tr>\n  </thead>\n  <tbody>\n    <tr>\n      <th>Beasley Day</th>\n      <td>0.396098</td>\n      <td>0.416221</td>\n      <td>0.961669</td>\n      <td>0.330239</td>\n      <td>0.673205</td>\n    </tr>\n  </tbody>\n</table>\n</div>"
     },
     "execution_count": 4,
     "metadata": {},
     "output_type": "execute_result"
    }
   ],
   "source": [
    "# And his baserunning?\n",
    "get_baserunning_stlats(beasley)"
   ]
  },
  {
   "cell_type": "code",
   "execution_count": 5,
   "outputs": [
    {
     "data": {
      "text/plain": "             Omniscience  Tenaciousness  Watchfulness  Anticapitalism  \\\nBeasley Day      0.11034        0.14211      0.934442        0.198512   \n\n             Chasiness  \nBeasley Day   0.275182  ",
      "text/html": "<div>\n<style scoped>\n    .dataframe tbody tr th:only-of-type {\n        vertical-align: middle;\n    }\n\n    .dataframe tbody tr th {\n        vertical-align: top;\n    }\n\n    .dataframe thead th {\n        text-align: right;\n    }\n</style>\n<table border=\"1\" class=\"dataframe\">\n  <thead>\n    <tr style=\"text-align: right;\">\n      <th></th>\n      <th>Omniscience</th>\n      <th>Tenaciousness</th>\n      <th>Watchfulness</th>\n      <th>Anticapitalism</th>\n      <th>Chasiness</th>\n    </tr>\n  </thead>\n  <tbody>\n    <tr>\n      <th>Beasley Day</th>\n      <td>0.11034</td>\n      <td>0.14211</td>\n      <td>0.934442</td>\n      <td>0.198512</td>\n      <td>0.275182</td>\n    </tr>\n  </tbody>\n</table>\n</div>"
     },
     "execution_count": 5,
     "metadata": {},
     "output_type": "execute_result"
    }
   ],
   "source": [
    "# Why not defense?\n",
    "get_defense_stlats(beasley)"
   ],
   "metadata": {
    "collapsed": false,
    "pycharm": {
     "name": "#%%\n"
    }
   }
  },
  {
   "cell_type": "code",
   "execution_count": 6,
   "metadata": {
    "pycharm": {
     "name": "#%%\n"
    }
   },
   "outputs": [
    {
     "data": {
      "text/plain": "            appearances batting_average on_base_percentage slugging  \\\nBeasley Day          99           0.266              0.299    0.481   \n\n            plate_appearances at_bats hits walks singles doubles triples  \\\nBeasley Day               562     530  141    27     102       9      12   \n\n            quadruples home_runs runs_batted_in strikeouts sacrifices  \\\nBeasley Day          0        18             59         79          5   \n\n            at_bats_risp hits_risps batting_average_risp on_base_slugging  \\\nBeasley Day          235        127                0.540            0.780   \n\n            total_bases hbps ground_outs flyouts gidps  \nBeasley Day         255    0         151     129     6  ",
      "text/html": "<div>\n<style scoped>\n    .dataframe tbody tr th:only-of-type {\n        vertical-align: middle;\n    }\n\n    .dataframe tbody tr th {\n        vertical-align: top;\n    }\n\n    .dataframe thead th {\n        text-align: right;\n    }\n</style>\n<table border=\"1\" class=\"dataframe\">\n  <thead>\n    <tr style=\"text-align: right;\">\n      <th></th>\n      <th>appearances</th>\n      <th>batting_average</th>\n      <th>on_base_percentage</th>\n      <th>slugging</th>\n      <th>plate_appearances</th>\n      <th>at_bats</th>\n      <th>hits</th>\n      <th>walks</th>\n      <th>singles</th>\n      <th>doubles</th>\n      <th>triples</th>\n      <th>quadruples</th>\n      <th>home_runs</th>\n      <th>runs_batted_in</th>\n      <th>strikeouts</th>\n      <th>sacrifices</th>\n      <th>at_bats_risp</th>\n      <th>hits_risps</th>\n      <th>batting_average_risp</th>\n      <th>on_base_slugging</th>\n      <th>total_bases</th>\n      <th>hbps</th>\n      <th>ground_outs</th>\n      <th>flyouts</th>\n      <th>gidps</th>\n    </tr>\n  </thead>\n  <tbody>\n    <tr>\n      <th>Beasley Day</th>\n      <td>99</td>\n      <td>0.266</td>\n      <td>0.299</td>\n      <td>0.481</td>\n      <td>562</td>\n      <td>530</td>\n      <td>141</td>\n      <td>27</td>\n      <td>102</td>\n      <td>9</td>\n      <td>12</td>\n      <td>0</td>\n      <td>18</td>\n      <td>59</td>\n      <td>79</td>\n      <td>5</td>\n      <td>235</td>\n      <td>127</td>\n      <td>0.540</td>\n      <td>0.780</td>\n      <td>255</td>\n      <td>0</td>\n      <td>151</td>\n      <td>129</td>\n      <td>6</td>\n    </tr>\n  </tbody>\n</table>\n</div>"
     },
     "execution_count": 6,
     "metadata": {},
     "output_type": "execute_result"
    }
   ],
   "source": [
    "# We can also get performance stats from Blaseball Reference!\n",
    "# Note: you have to use separate code blocks for each stlat/stat lookup\n",
    "get_batting_stats(beasley, season=11)"
   ]
  },
  {
   "cell_type": "markdown",
   "metadata": {
    "pycharm": {
     "name": "#%% md\n"
    }
   },
   "source": [
    "### Team Data\n",
    "Teams can be retrieved by with lookups based on the team name or by using\n",
    "the Team ID, found in the URL of a team page on the blaseball website.\n",
    "\n",
    "Teams contain lists of players in particular positions, most notably `lineup` for batters\n",
    "and `rotation` for pitchers."
   ]
  },
  {
   "cell_type": "code",
   "execution_count": 7,
   "metadata": {
    "pycharm": {
     "name": "#%%\n"
    }
   },
   "outputs": [
    {
     "data": {
      "text/plain": "<display.general.HTMLWrapper at 0x27b8007a250>",
      "text/html": "\n    <div style=\"width:500px;background:#000;border:1px solid #fff;color:#fff;display:flex;flex-direction:column;box-sizing:border-box;font-size:14px;\">\n        <div style=\"padding: 40px 40px 20px;border-bottom:1px solid #fff;\">\n            <div style=\"width:100%;display:flex;flex-direction:row;justify-content:flex-start;align-items:center;\">\n                <div style=\"background-color:#399d8f;border-radius:50%;height:60px;width:60px;font-size:36px;display:flex;align-items:center;justify-content:center;flex-shrink:0;\">\n                    🥧\n                </div>\n                <div style=\"display:flex;flex-direction:column;margin-left:10px;\">\n                    <div style=\"font-size:24px;\">\n                        Philly Pies\n                    </div>\n                    <div>\n                        <i>\"Pie or Die.\"</i>\n                    </div>\n                    <div style=\"margin-top:5px;margin-left:auto;border:1px solid #fff;padding:4px 10px;border-radius:5px;width:-webkit-fit-content;width:-moz-fit-content;width:fit-content;color:#fff\">\n                        VIIII The Hermit\n                    </div>\n                </div>\n            </div>\n        </div>\n        <div style=\"padding:5px 40px;display:flex;flex-direction:row;background:#111;border-bottom:1px solid #fff;\">\n            <div style=\"display:flex;flex-direction:row;padding:5px;border-radius:5px;background:#222;\">\n            <div style=\"font-weight:700;display:flex;margin-right:10px;padding-left:5px;padding-right:5px;height:32px;border-radius:5px;align-items:center;justify-content:center;color:#cb80d9;background:#240c36 none repeat scroll 0% 0%;border:2px solid #dbbc0b\">\n                Affinity for Crows\n            </div>\n        </div></div>\n        <div style=\"padding:20px 40px 20px;\">\n            <div style=\"margin-bottom:10px;\">\n                <div style=\"font-size:18px;margin-bottom:10px;color:#aaa;text-align:center;\">\n                    Lineup\n                </div>\n                <ul style=\"margin:0;padding:0;width:100%;\">\n                    \n        <div style=\"display:grid;grid-template-columns:auto 100px 140px; grid-template-rows:30px;align-items:center;margin:0 -40px;padding:0 20px 0 40px;line-height:1.2em;background:rgba(30,30,30,1);\">\n            <div>\n                Eduardo Woodman\n            </div>\n            <div style=\"display:flex;flex-direction:row;justify-content:center;\">\n                <span style=\"color:#8fdb88;\">▲</span>\n            </div>\n            <div>\n                ★★★★\n            </div>\n        </div>\n    \n        <div style=\"display:grid;grid-template-columns:auto 100px 140px; grid-template-rows:30px;align-items:center;margin:0 -40px;padding:0 20px 0 40px;line-height:1.2em;\">\n            <div>\n                Beasley Day\n            </div>\n            <div style=\"display:flex;flex-direction:row;justify-content:center;\">\n                <span style=\"color:#d1d1d1;\">⬌</span>\n            </div>\n            <div>\n                ★★☆\n            </div>\n        </div>\n    \n        <div style=\"display:grid;grid-template-columns:auto 100px 140px; grid-template-rows:30px;align-items:center;margin:0 -40px;padding:0 20px 0 40px;line-height:1.2em;background:rgba(30,30,30,1);\">\n            <div>\n                Farrell Seagull\n            </div>\n            <div style=\"display:flex;flex-direction:row;justify-content:center;\">\n                <span style=\"color:#d97373;\">▼</span>\n            </div>\n            <div>\n                ★★\n            </div>\n        </div>\n    \n        <div style=\"display:grid;grid-template-columns:auto 100px 140px; grid-template-rows:30px;align-items:center;margin:0 -40px;padding:0 20px 0 40px;line-height:1.2em;\">\n            <div>\n                Jaxon Buckley\n            </div>\n            <div style=\"display:flex;flex-direction:row;justify-content:center;\">\n                <span style=\"color:#8fdb88;\">▲</span>\n            </div>\n            <div>\n                ★★★★★☆\n            </div>\n        </div>\n    \n        <div style=\"display:grid;grid-template-columns:auto 100px 140px; grid-template-rows:30px;align-items:center;margin:0 -40px;padding:0 20px 0 40px;line-height:1.2em;background:rgba(30,30,30,1);\">\n            <div>\n                Lang Richardson\n            </div>\n            <div style=\"display:flex;flex-direction:row;justify-content:center;\">\n                <span style=\"color:#de3c3c;\">▼▼</span>\n            </div>\n            <div>\n                ★★★\n            </div>\n        </div>\n    \n        <div style=\"display:grid;grid-template-columns:auto 100px 140px; grid-template-rows:30px;align-items:center;margin:0 -40px;padding:0 20px 0 40px;line-height:1.2em;\">\n            <div>\n                Yusef Puddles\n            </div>\n            <div style=\"display:flex;flex-direction:row;justify-content:center;\">\n                <span style=\"color:#8fdb88;\">▲</span>\n            </div>\n            <div>\n                ★★\n            </div>\n        </div>\n    \n        <div style=\"display:grid;grid-template-columns:auto 100px 140px; grid-template-rows:30px;align-items:center;margin:0 -40px;padding:0 20px 0 40px;line-height:1.2em;background:rgba(30,30,30,1);\">\n            <div>\n                Jode Preston\n            </div>\n            <div style=\"display:flex;flex-direction:row;justify-content:center;\">\n                <span style=\"color:#5de04f;\">▲▲</span>\n            </div>\n            <div>\n                ★★★★\n            </div>\n        </div>\n    \n                </ul>\n            </div>\n            <div style=\"margin-bottom:10px;\">\n                <div style=\"font-size:18px;margin-bottom:10px;color:#aaa;text-align:center;\">\n                    Rotation\n                </div>\n                <ul style=\"margin:0;padding:0;width:100%;\">\n                    \n        <div style=\"display:grid;grid-template-columns:auto 100px 140px; grid-template-rows:30px;align-items:center;margin:0 -40px;padding:0 20px 0 40px;line-height:1.2em;background:rgba(30,30,30,1);\">\n            <div>\n                Henry Marshallow\n            </div>\n            <div style=\"display:flex;flex-direction:row;justify-content:center;\">\n                <span style=\"color:#15d400;\">▲▲▲</span>\n            </div>\n            <div>\n                ★★\n            </div>\n        </div>\n    \n        <div style=\"display:grid;grid-template-columns:auto 100px 140px; grid-template-rows:30px;align-items:center;margin:0 -40px;padding:0 20px 0 40px;line-height:1.2em;\">\n            <div>\n                Nicholas Mora\n            </div>\n            <div style=\"display:flex;flex-direction:row;justify-content:center;\">\n                <span style=\"color:#de3c3c;\">▼▼</span>\n            </div>\n            <div>\n                ★★★\n            </div>\n        </div>\n    \n        <div style=\"display:grid;grid-template-columns:auto 100px 140px; grid-template-rows:30px;align-items:center;margin:0 -40px;padding:0 20px 0 40px;line-height:1.2em;background:rgba(30,30,30,1);\">\n            <div>\n                Bright Zimmerman\n            </div>\n            <div style=\"display:flex;flex-direction:row;justify-content:center;\">\n                <span style=\"color:#d97373;\">▼</span>\n            </div>\n            <div>\n                ★☆\n            </div>\n        </div>\n    \n        <div style=\"display:grid;grid-template-columns:auto 100px 140px; grid-template-rows:30px;align-items:center;margin:0 -40px;padding:0 20px 0 40px;line-height:1.2em;\">\n            <div>\n                Ruslan Greatness\n            </div>\n            <div style=\"display:flex;flex-direction:row;justify-content:center;\">\n                <span style=\"color:#e00000;\">▼▼▼</span>\n            </div>\n            <div>\n                ★★☆\n            </div>\n        </div>\n    \n        <div style=\"display:grid;grid-template-columns:auto 100px 140px; grid-template-rows:30px;align-items:center;margin:0 -40px;padding:0 20px 0 40px;line-height:1.2em;background:rgba(30,30,30,1);\">\n            <div>\n                Elvis Figueroa\n            </div>\n            <div style=\"display:flex;flex-direction:row;justify-content:center;\">\n                <span style=\"color:#5de04f;\">▲▲</span>\n            </div>\n            <div>\n                ★★★★☆\n            </div>\n        </div>\n    \n                </ul>\n            </div>\n        </div>\n    </div>\n    "
     },
     "execution_count": 7,
     "metadata": {},
     "output_type": "execute_result"
    }
   ],
   "source": [
    "# Let's see that Team page!\n",
    "pies = Team.load_by_name(\"Philly Pies\")\n",
    "\n",
    "display_team(pies)"
   ]
  },
  {
   "cell_type": "code",
   "execution_count": 8,
   "metadata": {
    "pycharm": {
     "name": "#%%\n"
    }
   },
   "outputs": [
    {
     "data": {
      "text/plain": "                  Unthwackability  Ruthlessness  Overpowerment  \\\nHenry Marshallow         0.233266      0.882016       1.123135   \nNicholas Mora            1.140948      0.343723       0.553609   \nBright Zimmerman         0.207882      0.511157       0.852666   \nRuslan Greatness         0.484582      0.481892       0.944604   \nElvis Figueroa           1.036387      1.015972       0.930460   \n\n                  Shakespearianism  Coldness  Suppression  \nHenry Marshallow          0.484581  0.571587     0.656728  \nNicholas Mora             0.367345  0.482330     0.431032  \nBright Zimmerman          0.679224  0.303950     0.870961  \nRuslan Greatness          0.726276  0.320791     1.085039  \nElvis Figueroa            0.689138  0.328725     0.592661  ",
      "text/html": "<div>\n<style scoped>\n    .dataframe tbody tr th:only-of-type {\n        vertical-align: middle;\n    }\n\n    .dataframe tbody tr th {\n        vertical-align: top;\n    }\n\n    .dataframe thead th {\n        text-align: right;\n    }\n</style>\n<table border=\"1\" class=\"dataframe\">\n  <thead>\n    <tr style=\"text-align: right;\">\n      <th></th>\n      <th>Unthwackability</th>\n      <th>Ruthlessness</th>\n      <th>Overpowerment</th>\n      <th>Shakespearianism</th>\n      <th>Coldness</th>\n      <th>Suppression</th>\n    </tr>\n  </thead>\n  <tbody>\n    <tr>\n      <th>Henry Marshallow</th>\n      <td>0.233266</td>\n      <td>0.882016</td>\n      <td>1.123135</td>\n      <td>0.484581</td>\n      <td>0.571587</td>\n      <td>0.656728</td>\n    </tr>\n    <tr>\n      <th>Nicholas Mora</th>\n      <td>1.140948</td>\n      <td>0.343723</td>\n      <td>0.553609</td>\n      <td>0.367345</td>\n      <td>0.482330</td>\n      <td>0.431032</td>\n    </tr>\n    <tr>\n      <th>Bright Zimmerman</th>\n      <td>0.207882</td>\n      <td>0.511157</td>\n      <td>0.852666</td>\n      <td>0.679224</td>\n      <td>0.303950</td>\n      <td>0.870961</td>\n    </tr>\n    <tr>\n      <th>Ruslan Greatness</th>\n      <td>0.484582</td>\n      <td>0.481892</td>\n      <td>0.944604</td>\n      <td>0.726276</td>\n      <td>0.320791</td>\n      <td>1.085039</td>\n    </tr>\n    <tr>\n      <th>Elvis Figueroa</th>\n      <td>1.036387</td>\n      <td>1.015972</td>\n      <td>0.930460</td>\n      <td>0.689138</td>\n      <td>0.328725</td>\n      <td>0.592661</td>\n    </tr>\n  </tbody>\n</table>\n</div>"
     },
     "execution_count": 8,
     "metadata": {},
     "output_type": "execute_result"
    }
   ],
   "source": [
    "# Just like with players, we can look up the stlats for the whole team\n",
    "get_pitching_stlats(pies.rotation)"
   ]
  },
  {
   "cell_type": "code",
   "execution_count": 9,
   "metadata": {
    "pycharm": {
     "name": "#%%\n"
    }
   },
   "outputs": [
    {
     "data": {
      "text/plain": "                 games wins losses win_pct pitch_count batters_faced  \\\nBright Zimmerman    20    8     12    0.40        2314           802   \nElvis Figueroa      19    9     10    0.47        1715           666   \nHenry Marshallow    20    8     12    0.40        2123           778   \nNicholas Mora       20    6     14    0.30        2276           778   \nRuslan Greatness    20    9     11    0.45        2265           786   \n\n                 outs_recorded innings runs_allowed shutouts quality_starts  \\\nBright Zimmerman           543   181.0          122        0              4   \nElvis Figueroa             502   167.1           68        1             11   \nHenry Marshallow           550   183.1           99        1              7   \nNicholas Mora              532   177.1          115        1              4   \nRuslan Greatness           541   180.1          111        1              5   \n\n                 strikeouts walks hrs_allowed hits_allowed hbps   era  \\\nBright Zimmerman         90    48          21          234    0  6.07   \nElvis Figueroa          127     8          18          172    0  3.66   \nHenry Marshallow        121    22          23          216    0  4.86   \nNicholas Mora            69    83          27          176    0  5.84   \nRuslan Greatness         95    64          20          194    0  5.54   \n\n                 bb_per_9 hits_per_9 k_per_9 hr_per_9   whip   k_bb  \nBright Zimmerman     2.39      11.64    4.48     1.04  1.731   1.88  \nElvis Figueroa       0.43       9.25    6.83     0.97  1.195  15.88  \nHenry Marshallow     1.08      10.60    5.94     1.13  1.442   5.50  \nNicholas Mora        4.21       8.93    3.50     1.37  1.623   0.83  \nRuslan Greatness     3.19       9.68    4.74     1.00  1.590   1.48  ",
      "text/html": "<div>\n<style scoped>\n    .dataframe tbody tr th:only-of-type {\n        vertical-align: middle;\n    }\n\n    .dataframe tbody tr th {\n        vertical-align: top;\n    }\n\n    .dataframe thead th {\n        text-align: right;\n    }\n</style>\n<table border=\"1\" class=\"dataframe\">\n  <thead>\n    <tr style=\"text-align: right;\">\n      <th></th>\n      <th>games</th>\n      <th>wins</th>\n      <th>losses</th>\n      <th>win_pct</th>\n      <th>pitch_count</th>\n      <th>batters_faced</th>\n      <th>outs_recorded</th>\n      <th>innings</th>\n      <th>runs_allowed</th>\n      <th>shutouts</th>\n      <th>quality_starts</th>\n      <th>strikeouts</th>\n      <th>walks</th>\n      <th>hrs_allowed</th>\n      <th>hits_allowed</th>\n      <th>hbps</th>\n      <th>era</th>\n      <th>bb_per_9</th>\n      <th>hits_per_9</th>\n      <th>k_per_9</th>\n      <th>hr_per_9</th>\n      <th>whip</th>\n      <th>k_bb</th>\n    </tr>\n  </thead>\n  <tbody>\n    <tr>\n      <th>Bright Zimmerman</th>\n      <td>20</td>\n      <td>8</td>\n      <td>12</td>\n      <td>0.40</td>\n      <td>2314</td>\n      <td>802</td>\n      <td>543</td>\n      <td>181.0</td>\n      <td>122</td>\n      <td>0</td>\n      <td>4</td>\n      <td>90</td>\n      <td>48</td>\n      <td>21</td>\n      <td>234</td>\n      <td>0</td>\n      <td>6.07</td>\n      <td>2.39</td>\n      <td>11.64</td>\n      <td>4.48</td>\n      <td>1.04</td>\n      <td>1.731</td>\n      <td>1.88</td>\n    </tr>\n    <tr>\n      <th>Elvis Figueroa</th>\n      <td>19</td>\n      <td>9</td>\n      <td>10</td>\n      <td>0.47</td>\n      <td>1715</td>\n      <td>666</td>\n      <td>502</td>\n      <td>167.1</td>\n      <td>68</td>\n      <td>1</td>\n      <td>11</td>\n      <td>127</td>\n      <td>8</td>\n      <td>18</td>\n      <td>172</td>\n      <td>0</td>\n      <td>3.66</td>\n      <td>0.43</td>\n      <td>9.25</td>\n      <td>6.83</td>\n      <td>0.97</td>\n      <td>1.195</td>\n      <td>15.88</td>\n    </tr>\n    <tr>\n      <th>Henry Marshallow</th>\n      <td>20</td>\n      <td>8</td>\n      <td>12</td>\n      <td>0.40</td>\n      <td>2123</td>\n      <td>778</td>\n      <td>550</td>\n      <td>183.1</td>\n      <td>99</td>\n      <td>1</td>\n      <td>7</td>\n      <td>121</td>\n      <td>22</td>\n      <td>23</td>\n      <td>216</td>\n      <td>0</td>\n      <td>4.86</td>\n      <td>1.08</td>\n      <td>10.60</td>\n      <td>5.94</td>\n      <td>1.13</td>\n      <td>1.442</td>\n      <td>5.50</td>\n    </tr>\n    <tr>\n      <th>Nicholas Mora</th>\n      <td>20</td>\n      <td>6</td>\n      <td>14</td>\n      <td>0.30</td>\n      <td>2276</td>\n      <td>778</td>\n      <td>532</td>\n      <td>177.1</td>\n      <td>115</td>\n      <td>1</td>\n      <td>4</td>\n      <td>69</td>\n      <td>83</td>\n      <td>27</td>\n      <td>176</td>\n      <td>0</td>\n      <td>5.84</td>\n      <td>4.21</td>\n      <td>8.93</td>\n      <td>3.50</td>\n      <td>1.37</td>\n      <td>1.623</td>\n      <td>0.83</td>\n    </tr>\n    <tr>\n      <th>Ruslan Greatness</th>\n      <td>20</td>\n      <td>9</td>\n      <td>11</td>\n      <td>0.45</td>\n      <td>2265</td>\n      <td>786</td>\n      <td>541</td>\n      <td>180.1</td>\n      <td>111</td>\n      <td>1</td>\n      <td>5</td>\n      <td>95</td>\n      <td>64</td>\n      <td>20</td>\n      <td>194</td>\n      <td>0</td>\n      <td>5.54</td>\n      <td>3.19</td>\n      <td>9.68</td>\n      <td>4.74</td>\n      <td>1.00</td>\n      <td>1.590</td>\n      <td>1.48</td>\n    </tr>\n  </tbody>\n</table>\n</div>"
     },
     "execution_count": 9,
     "metadata": {},
     "output_type": "execute_result"
    }
   ],
   "source": [
    "# And the same with stats\n",
    "get_pitching_stats(pies.rotation, season=11)"
   ]
  },
  {
   "cell_type": "markdown",
   "metadata": {
    "pycharm": {
     "name": "#%% md\n"
    }
   },
   "source": [
    "### Games\n",
    "The results of individual games can be found based on the gameday and season, including\n",
    "future games in a currently running season."
   ]
  },
  {
   "cell_type": "code",
   "execution_count": 10,
   "metadata": {
    "pycharm": {
     "name": "#%%\n"
    }
   },
   "outputs": [
    {
     "data": {
      "text/plain": "<display.general.HTMLWrapper at 0x27b8007aac0>",
      "text/html": "\n    <div style=\"display:flex;flex-direction:column;border-radius:5px;background-color:#111;width:390px;font-size:1rem;font-weight:400;line-height:1.5;color:#fff;box-sizing:border-box;\">\n        <div style=\"height:32px;display:flex;justify-content:space-between;flex-direction:row;align-items:center;font-size:14px;background:rgba(30,30,30,.64);border-radius:5px 5px 0 0;\">\n            <div style=\" display:flex;flex-direction:row;height:32px\">\n                <div style=\"background:#800878;display:flex;padding:0 8px;height:100%;border-radius:5px;align-items:center\">\n                    SHAME\n                </div>\n                <div style=\"display:flex;padding-left:10px;padding-right:10px;height:32px;border-radius:5px;align-items:center;font-size:14px;justify-content:center\">\n                    Feedback\n                </div>\n            </div>\n        </div>\n        <div style=\"display:flex;flex:1 0 auto;flex-direction:column;justify-content:space-around;padding:10px 0 10px 10px;\">\n            <div style=\"display:grid;grid-template-columns:60px auto 15%;grid-gap:10px;gap:10px;width:100%;align-items:center;padding-bottom:10px;\">\n                <div style=\"background:#5c1c1c;display:flex;width:50px;height:50px;margin-left:8px;border-radius:50%;font-size:29px;justify-content:center;align-items:center;\">\n                    🐅\n                </div>\n                <div style=\"color:#5c1c1c;font-size:24px; font-family:\"Lora\",\"Courier New\",monospace,serif;\">\n                    Tigers\n                </div>\n                <div style=\"display:flex;font-size:24px;align-items:center;justify-content:center;width:46px;height:46px;margin:0 auto;border-radius:50%;margin:0 8px 0 0;\">\n                    1\n                </div>\n            </div>\n            <div style=\"display:grid;grid-template-columns:60px auto 15%;grid-gap:10px;gap:10px;width:100%;align-items:center\">\n                <div style=\"background:#399d8f;display:flex;width:50px;height:50px;margin-left:8px;border-radius:50%;font-size:29px;justify-content:center;align-items:center;\">\n                    🥧\n                </div>\n                <div style=\"color:#399d8f;font-size:24px; font-family:\"Lora\",\"Courier New\",monospace,serif;\">\n                    Pies\n                </div>\n                <div style=\"border: 2px solid;display:flex;font-size:24px;align-items:center;justify-content:center;width:46px;height:46px;margin:0 auto;border-radius:50%;margin:0 8px 0 0;\">\n                    3\n                </div>\n            </div>\n            <div style=\"display:flex;flex-direction:row;align-items:center;justify-content:space-evenly;padding-top:20px;\">\n                <div style=\"background:#5c1c1c80;font-size:14px;align-items:center;line-height:20px;padding:0 8px;margin:5px 0;border-radius:5px;\">\n                    Hiroto Wilcox\n                </div>\n                <div style=\"background:#399d8f80;font-size:14px;align-items:center;line-height:20px;padding:0 8px;margin:5px 0;border-radius:5px;\">\n                    Nicholas Mora\n                </div>\n            </div>\n            <div style=\"font-size:12px;line-height:24px;height:100%;text-align:center;padding:5px 0;\">\n                Jessica Telephone and Spears Taylor switched teams in the feedback!\n            </div>\n        </div>\n    </div>\n    "
     },
     "execution_count": 10,
     "metadata": {},
     "output_type": "execute_result"
    }
   ],
   "source": [
    "# Let's relive some fun history\n",
    "test_game = Game.load_by_season(season=4, day=43, team_id=pies.id)\n",
    "display_game_results(test_game)"
   ]
  },
  {
   "cell_type": "markdown",
   "metadata": {
    "pycharm": {
     "name": "#%% md\n"
    }
   },
   "source": [
    "### Player & Team History\n",
    "In addition to loading what the players & team are like right now, we can also load\n",
    "their historical records by date."
   ]
  },
  {
   "cell_type": "code",
   "execution_count": 11,
   "metadata": {
    "pycharm": {
     "name": "#%%\n"
    }
   },
   "outputs": [
    {
     "data": {
      "text/plain": "<display.general.HTMLWrapper at 0x27b800cadf0>",
      "text/html": "\n    <div style=\"width:500px;background:#000;border:1px solid #fff;color:#fff;display:flex;flex-direction:column;box-sizing:border-box;font-size:14px;\">\n        <div style=\"padding: 40px 40px 20px;border-bottom:1px solid #fff;\">\n            <div style=\"width:100%;display:flex;flex-direction:row;justify-content:flex-start;align-items:center;\">\n                <div style=\"background-color:#399d8f;border-radius:50%;height:60px;width:60px;font-size:36px;display:flex;align-items:center;justify-content:center;flex-shrink:0;\">\n                    🥧\n                </div>\n                <div style=\"display:flex;flex-direction:column;margin-left:10px;\">\n                    <div style=\"font-size:24px;\">\n                        Philly Pies\n                    </div>\n                    <div>\n                        <i>\"Pie or Die.\"</i>\n                    </div>\n                    \n                </div>\n            </div>\n        </div>\n        \n        <div style=\"padding:20px 40px 20px;\">\n            <div style=\"margin-bottom:10px;\">\n                <div style=\"font-size:18px;margin-bottom:10px;color:#aaa;text-align:center;\">\n                    Lineup\n                </div>\n                <ul style=\"margin:0;padding:0;width:100%;\">\n                    \n        <div style=\"display:grid;grid-template-columns:auto 100px 140px; grid-template-rows:30px;align-items:center;margin:0 -40px;padding:0 20px 0 40px;line-height:1.2em;background:rgba(30,30,30,1);\">\n            <div>\n                Juan Rangel\n            </div>\n            \n            <div>\n                ★★\n            </div>\n        </div>\n    \n        <div style=\"display:grid;grid-template-columns:auto 100px 140px; grid-template-rows:30px;align-items:center;margin:0 -40px;padding:0 20px 0 40px;line-height:1.2em;\">\n            <div>\n                Beasley Day\n            </div>\n            \n            <div>\n                ★★★\n            </div>\n        </div>\n    \n        <div style=\"display:grid;grid-template-columns:auto 100px 140px; grid-template-rows:30px;align-items:center;margin:0 -40px;padding:0 20px 0 40px;line-height:1.2em;background:rgba(30,30,30,1);\">\n            <div>\n                Spears Taylor\n            </div>\n            \n            <div>\n                ★★☆\n            </div>\n        </div>\n    \n        <div style=\"display:grid;grid-template-columns:auto 100px 140px; grid-template-rows:30px;align-items:center;margin:0 -40px;padding:0 20px 0 40px;line-height:1.2em;\">\n            <div>\n                Elvis Figueroa\n            </div>\n            \n            <div>\n                ★★☆\n            </div>\n        </div>\n    \n        <div style=\"display:grid;grid-template-columns:auto 100px 140px; grid-template-rows:30px;align-items:center;margin:0 -40px;padding:0 20px 0 40px;line-height:1.2em;background:rgba(30,30,30,1);\">\n            <div>\n                Cedric Gonzalez\n            </div>\n            \n            <div>\n                ★☆\n            </div>\n        </div>\n    \n        <div style=\"display:grid;grid-template-columns:auto 100px 140px; grid-template-rows:30px;align-items:center;margin:0 -40px;padding:0 20px 0 40px;line-height:1.2em;\">\n            <div>\n                Mickey Woods\n            </div>\n            \n            <div>\n                ★★\n            </div>\n        </div>\n    \n        <div style=\"display:grid;grid-template-columns:auto 100px 140px; grid-template-rows:30px;align-items:center;margin:0 -40px;padding:0 20px 0 40px;line-height:1.2em;background:rgba(30,30,30,1);\">\n            <div>\n                Jessica Telephone\n            </div>\n            \n            <div>\n                ★★★★★\n            </div>\n        </div>\n    \n        <div style=\"display:grid;grid-template-columns:auto 100px 140px; grid-template-rows:30px;align-items:center;margin:0 -40px;padding:0 20px 0 40px;line-height:1.2em;\">\n            <div>\n                Morrow Wilson\n            </div>\n            \n            <div>\n                ★★\n            </div>\n        </div>\n    \n        <div style=\"display:grid;grid-template-columns:auto 100px 140px; grid-template-rows:30px;align-items:center;margin:0 -40px;padding:0 20px 0 40px;line-height:1.2em;background:rgba(30,30,30,1);\">\n            <div>\n                Kennedy Cena\n            </div>\n            \n            <div>\n                ★★☆\n            </div>\n        </div>\n    \n                </ul>\n            </div>\n            <div style=\"margin-bottom:10px;\">\n                <div style=\"font-size:18px;margin-bottom:10px;color:#aaa;text-align:center;\">\n                    Rotation\n                </div>\n                <ul style=\"margin:0;padding:0;width:100%;\">\n                    \n        <div style=\"display:grid;grid-template-columns:auto 100px 140px; grid-template-rows:30px;align-items:center;margin:0 -40px;padding:0 20px 0 40px;line-height:1.2em;background:rgba(30,30,30,1);\">\n            <div>\n                Betsy Trombone\n            </div>\n            \n            <div>\n                ★★☆\n            </div>\n        </div>\n    \n        <div style=\"display:grid;grid-template-columns:auto 100px 140px; grid-template-rows:30px;align-items:center;margin:0 -40px;padding:0 20px 0 40px;line-height:1.2em;\">\n            <div>\n                Kevin Dudley\n            </div>\n            \n            <div>\n                ★★\n            </div>\n        </div>\n    \n        <div style=\"display:grid;grid-template-columns:auto 100px 140px; grid-template-rows:30px;align-items:center;margin:0 -40px;padding:0 20px 0 40px;line-height:1.2em;background:rgba(30,30,30,1);\">\n            <div>\n                Nicholas Mora\n            </div>\n            \n            <div>\n                ★★\n            </div>\n        </div>\n    \n        <div style=\"display:grid;grid-template-columns:auto 100px 140px; grid-template-rows:30px;align-items:center;margin:0 -40px;padding:0 20px 0 40px;line-height:1.2em;\">\n            <div>\n                Bright Zimmerman\n            </div>\n            \n            <div>\n                ★☆\n            </div>\n        </div>\n    \n        <div style=\"display:grid;grid-template-columns:auto 100px 140px; grid-template-rows:30px;align-items:center;margin:0 -40px;padding:0 20px 0 40px;line-height:1.2em;background:rgba(30,30,30,1);\">\n            <div>\n                Ruslan Greatness\n            </div>\n            \n            <div>\n                ★\n            </div>\n        </div>\n    \n                </ul>\n            </div>\n        </div>\n    </div>\n    "
     },
     "execution_count": 11,
     "metadata": {},
     "output_type": "execute_result"
    }
   ],
   "source": [
    "# Let's grab the Season 2 Pies, for nostalgia\n",
    "# Format is <YEAR>-<MONTH>-<DAY>T<HOUR>:<MINUTE>:<SECOND>Z\n",
    "# Note: Historical records only go back as far as mid-Season 2\n",
    "mid_season_2 = \"2020-07-29T18:00:00Z\"\n",
    "old_pies = Team.load_at_time(pies.id, time=mid_season_2)\n",
    "\n",
    "display_team(old_pies)"
   ]
  },
  {
   "cell_type": "code",
   "execution_count": 12,
   "metadata": {
    "pycharm": {
     "name": "#%%\n"
    }
   },
   "outputs": [
    {
     "data": {
      "text/plain": "                Unthwackability  Ruthlessness  Overpowerment  \\\nBetsy Trombone         0.418548      0.725370       0.473664   \nBetsy Trombone         0.088462      0.920057       0.591330   \n\n                Shakespearianism  Coldness  Suppression  \nBetsy Trombone          0.474900  0.872849     0.021753  \nBetsy Trombone          0.317521  0.629130     0.704190  ",
      "text/html": "<div>\n<style scoped>\n    .dataframe tbody tr th:only-of-type {\n        vertical-align: middle;\n    }\n\n    .dataframe tbody tr th {\n        vertical-align: top;\n    }\n\n    .dataframe thead th {\n        text-align: right;\n    }\n</style>\n<table border=\"1\" class=\"dataframe\">\n  <thead>\n    <tr style=\"text-align: right;\">\n      <th></th>\n      <th>Unthwackability</th>\n      <th>Ruthlessness</th>\n      <th>Overpowerment</th>\n      <th>Shakespearianism</th>\n      <th>Coldness</th>\n      <th>Suppression</th>\n    </tr>\n  </thead>\n  <tbody>\n    <tr>\n      <th>Betsy Trombone</th>\n      <td>0.418548</td>\n      <td>0.725370</td>\n      <td>0.473664</td>\n      <td>0.474900</td>\n      <td>0.872849</td>\n      <td>0.021753</td>\n    </tr>\n    <tr>\n      <th>Betsy Trombone</th>\n      <td>0.088462</td>\n      <td>0.920057</td>\n      <td>0.591330</td>\n      <td>0.317521</td>\n      <td>0.629130</td>\n      <td>0.704190</td>\n    </tr>\n  </tbody>\n</table>\n</div>"
     },
     "execution_count": 12,
     "metadata": {},
     "output_type": "execute_result"
    }
   ],
   "source": [
    "# Oh hey, that was pre-AR Betsy. I wonder what her stlats looked like back then?\n",
    "betsy_current = Player.find_by_name(\"Betsy Trombone\")\n",
    "betsy_old = Player.load_one_at_time(betsy_current.id, time=mid_season_2)\n",
    "\n",
    "get_pitching_stlats([betsy_old, betsy_current])\n"
   ]
  }
 ],
 "metadata": {
  "kernelspec": {
   "display_name": "Python 3",
   "language": "python",
   "name": "python3"
  },
  "language_info": {
   "codemirror_mode": {
    "name": "ipython",
    "version": 3
   },
   "file_extension": ".py",
   "mimetype": "text/x-python",
   "name": "python",
   "nbconvert_exporter": "python",
   "pygments_lexer": "ipython3",
   "version": "3.8.5"
  },
  "toc": {
   "base_numbering": 1,
   "nav_menu": {},
   "number_sections": false,
   "sideBar": true,
   "skip_h1_title": true,
   "title_cell": "Table of Contents",
   "title_sidebar": "Table of Contents",
   "toc_cell": false,
   "toc_section_display": true,
   "toc_window_display": false
  }
 },
 "nbformat": 4,
 "nbformat_minor": 1
}