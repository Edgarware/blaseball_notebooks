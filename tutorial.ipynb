{
 "cells": [
  {
   "cell_type": "markdown",
   "metadata": {
    "collapsed": true,
    "pycharm": {
     "name": "#%% md\n"
    }
   },
   "source": [
    "# Election Notes Tutorial\n",
    "\n",
    "Welcome to the Philly Pies Election Notes tutorial! Here we'll go into details about the\n",
    "scripts used and how you can modify them to perform your own data analysis. This tutorial\n",
    "is entirely optional, you can still read the Seasonal Election Notes without having to modify\n",
    "them yourself!"
   ]
  },
  {
   "cell_type": "markdown",
   "metadata": {
    "pycharm": {
     "name": "#%% md\n"
    }
   },
   "source": [
    "## Basic Operation\n",
    "\n",
    "These notes operate as snippets of Python code that run in order. All the scripts ran when\n",
    "this document was opened, but you can also run individual snippets one at a time with\n",
    "the ▶ button. Changing the snippets only modifies it on your copy, so feel free to\n",
    "experiment without fear of breaking things!\n",
    "\n",
    "Note that the snippets are meant to be run in order, so you may run into problems if you\n",
    "only run one at a time. All Election Notes will start with a setup snippet to get\n",
    "everything un and running, like below."
   ]
  },
  {
   "cell_type": "code",
   "execution_count": 1,
   "metadata": {
    "pycharm": {
     "name": "#%%\n"
    }
   },
   "outputs": [],
   "source": [
    "%matplotlib inline\n",
    "from display import *\n",
    "from blessings import *"
   ]
  },
  {
   "cell_type": "markdown",
   "metadata": {
    "pycharm": {
     "name": "#%% md\n"
    }
   },
   "source": [
    "## Blaseball APIs\n",
    "\n",
    "The foundation of most of the code is using data retrieved from the blaseball\n",
    "website itself. The APIs to access these have been well documented by SIBR, and are\n",
    "wrapped in a library named `blaseball-mike` for ease of access. We'll be going over\n",
    "examples for each type of data as we go.\n",
    "\n",
    "Note: Because we load directly from the website it does not work when the site\n",
    "is down. It also tends to take longer when games are running as there is more strain\n",
    "on the servers.\n",
    "\n",
    "For more information, documentation can be found below:\n",
    "\n",
    "https://github.com/jmaliksi/blaseball-mike\n",
    "\n",
    "https://jmaliksi.github.io/blaseball-mike/docs/blaseball_mike/index.html\n",
    "\n",
    "https://docs.sibr.dev/docs/apis/reference/Blaseball-API.v1.yaml"
   ]
  },
  {
   "cell_type": "markdown",
   "metadata": {
    "pycharm": {
     "name": "#%% md\n"
    }
   },
   "source": [
    "### Player Data\n",
    "Players can be retrieved with lookups based on their name or by using their Player ID,\n",
    "found in the URL of a player page on the blaseball website. Historical data for players can\n",
    "also be collected based on timestamp"
   ]
  },
  {
   "cell_type": "code",
   "execution_count": 2,
   "metadata": {
    "pycharm": {
     "name": "#%%\n"
    }
   },
   "outputs": [
    {
     "data": {
      "text/plain": "<display.general.HTMLWrapper at 0x27b800a8c70>",
      "text/html": "\n    <div style=\"width:500px;background:#000;border:1px solid #fff;color:#fff;display:flex;flex-direction:column;box-sizing:border-box;font-size:14px;\">\n        <div style=\"border-bottom:1px solid #fff;display:flex;flex-direction:column;align-items:flex-start;justify-content:space-between;padding:40px 40px 20px;\">\n            <div style=\"font-size:24px;\">\n                Beasley Day\n            </div>\n            \n            <div style=\"display:flex;flex-direction:row;justify-content:space-between;align-items:center;margin-bottom:10px;\">\n                <div style=\"font-size:18px;display:flex;align-items:center;border-radius:50%;height:30px;width:30px;justify-content:center;flex-shrink:0;background-color:#399d8f;\">\n                    🥧\n                </div>\n                <div style=\"padding:0 10px;\">\n                    Philly Pies\n                </div>\n            </div>\n        </div>\n        \n        <div style=\"padding:5px 40px;display:flex;flex-direction:row;background:#111;border-bottom:1px solid #fff;\">\n        <div style=\"display:flex;flex-direction:row;padding:5px;border-radius:5px;background:#222;\">\n            <div style=\"font-weight:700;display:flex;margin-right:10px;padding-left:5px;padding-right:5px;height:32px;border-radius:5px;align-items:center;justify-content:center;color:#2e1406;background:#44c97c none repeat scroll 0% 0%;border:2px solid #dbbc0b\">\n                Free Refill\n            </div>\n        </div></div>\n        <div style=\"padding:20px 0;\">\n            <div style=\"display:flex;flex-direction:row;align-items:center;padding:2px 40px;background:rgba(30,30,30,1)\">\n                <div style=\"width:180px;font-weight:700;\">\n                    Current Vibe\n                </div>\n                <span style=\"color:#d1d1d1;\">\n                    ⬌ Neutral\n                </span>\n            </div>\n            <div style=\"display:flex;flex-direction:row;align-items:center;padding:2px 40px;\">\n                <div style=\"width:180px;font-weight:700;\">\n                    Batting\n                </div>\n                <span>\n                    ★★☆\n                </span>\n            </div>\n            <div style=\"display:flex;flex-direction:row;align-items:center;padding:2px 40px;background:rgba(30,30,30,1)\">\n                <div style=\"width:180px;font-weight:700;\">\n                    Pitching\n                </div>\n                <span>\n                    ★☆\n                </span>\n            </div>\n            <div style=\"display:flex;flex-direction:row;align-items:center;padding:2px 40px;\">\n                <div style=\"width:180px;font-weight:700;\">\n                    Baserunning\n                </div>\n                <span>\n                    ★★☆\n                </span>\n            </div>\n            <div style=\"display:flex;flex-direction:row;align-items:center;padding:2px 40px;background:rgba(30,30,30,1)\">\n                <div style=\"width:180px;font-weight:700;\">\n                    Defense\n                </div>\n                <span>\n                    ★☆\n                </span>\n            </div>\n            <div style=\"padding:10px;40px;display:flex;flex-direction:row;justify-content:space-around;\">\n                <div style=\"display:flex;flex-direction:column;justify-content:space-between;align-items:center;width:auto;min-width:150px;height:80px;margin:5px;padding:10px 0;background:#111;border-radius:5px;\">\n                    <div style=\"font-weight:700;\">\n                        ITEM\n                    </div>\n                    <div>\n                        None\n                    </div>\n                </div>\n                <div style=\"display:flex;flex-direction:column;justify-content:space-between;align-items:center;width:auto;min-width:150px;height:80px;margin:5px;padding:10px 0;background:#111;border-radius:5px;\">\n                    <div style=\"font-weight:700;\">\n                        ARMOR\n                    </div>\n                    <div>\n                        None\n                    </div>\n                </div>\n            </div>\n            <div style=\"display:flex;flex-direction:row;align-items:center;padding:2px 40px;background:rgba(30,30,30,1)\">\n                <div style=\"width:180px;font-weight:700;\">\n                    Evolution\n                </div>\n                <span>\n                    Base\n                </span>\n            </div>\n            <div style=\"display:flex;flex-direction:row;align-items:center;padding:2px 40px;\">\n                <div style=\"width:180px;font-weight:700;\">\n                    Pregame Ritual\n                </div>\n                <span>\n                    Air guitar\n                </span>\n            </div>\n            <div style=\"display:flex;flex-direction:row;align-items:center;padding:2px 40px;background:rgba(30,30,30,1)\">\n                <div style=\"width:180px;font-weight:700;\">\n                    Coffee Style\n                </div>\n                <span>\n                    Decaf\n                </span>\n            </div>\n            <div style=\"display:flex;flex-direction:row;align-items:center;padding:2px 40px;\">\n                <div style=\"width:180px;font-weight:700;\">\n                    Blood Type\n                </div>\n                <span>\n                    O No\n                </span>\n            </div>\n            <div style=\"display:flex;flex-direction:row;align-items:center;padding:2px 40px;background:rgba(30,30,30,1)\">\n                <div style=\"width:180px;font-weight:700;\">\n                    Fate\n                </div>\n                <span>\n                    59\n                </span>\n            </div>\n            <div style=\"display:flex;flex-direction:row;align-items:center;padding:2px 40px;\">\n                <div style=\"width:180px;font-weight:700;\">\n                    Soulscream\n                </div>\n                <span style=\"max-width:240px;height:auto;border-radius:5px;font-size:16px;font-weight:700;font-style:italic;word-wrap:break-word;color:#F00\">\n                    IHEEIIHEEIIEEAAEEEAAEEXEAHEXEAHEXUEAXAUEAXAUXAAUAXAAUAXOAIAEOAIAEOIEAAIIEAAII\n                </span>\n            </div>\n        </div>\n    </div>\n    "
     },
     "execution_count": 2,
     "metadata": {},
     "output_type": "execute_result"
    }
   ],
   "source": [
    "# Let's check out good boy Beasley\n",
    "beasley = Player.find_by_name(\"Beasley Day\")\n",
    "\n",
    "display_player(beasley)"
   ]
  },
  {
   "cell_type": "code",
   "execution_count": 3,
   "metadata": {
    "pycharm": {
     "name": "#%%\n"
    }
   },
   "outputs": [
    {
     "data": {
      "text/plain": "             Thwackability  Divinity  Musclitude     Moxie  Patheticism  \\\nBeasley Day          0.685  0.688801    0.077669  0.208479     0.468964   \n\n             Martyrdom  Tragicness  Buoyancy  \nBeasley Day   0.523706         0.1  0.753672  ",
      "text/html": "<div>\n<style scoped>\n    .dataframe tbody tr th:only-of-type {\n        vertical-align: middle;\n    }\n\n    .dataframe tbody tr th {\n        vertical-align: top;\n    }\n\n    .dataframe thead th {\n        text-align: right;\n    }\n</style>\n<table border=\"1\" class=\"dataframe\">\n  <thead>\n    <tr style=\"text-align: right;\">\n      <th></th>\n      <th>Thwackability</th>\n      <th>Divinity</th>\n      <th>Musclitude</th>\n      <th>Moxie</th>\n      <th>Patheticism</th>\n      <th>Martyrdom</th>\n      <th>Tragicness</th>\n      <th>Buoyancy</th>\n    </tr>\n  </thead>\n  <tbody>\n    <tr>\n      <th>Beasley Day</th>\n      <td>0.685</td>\n      <td>0.688801</td>\n      <td>0.077669</td>\n      <td>0.208479</td>\n      <td>0.468964</td>\n      <td>0.523706</td>\n      <td>0.1</td>\n      <td>0.753672</td>\n    </tr>\n  </tbody>\n</table>\n</div>"
     },
     "execution_count": 3,
     "metadata": {},
     "output_type": "execute_result"
    }
   ],
   "source": [
    "# But what about Beasley's stlats?\n",
    "get_batting_stlats(beasley)"
   ]
  },
  {
   "cell_type": "code",
   "execution_count": 4,
   "metadata": {
    "pycharm": {
     "name": "#%%\n"
    }
   },
   "outputs": [
    {
     "data": {
      "text/plain": "             Laserlikeness  Continuation  Base Thirst  Indulgence  \\\nBeasley Day       0.396098      0.416221     0.961669    0.330239   \n\n             Ground Friction  \nBeasley Day         0.673205  ",
      "text/html": "<div>\n<style scoped>\n    .dataframe tbody tr th:only-of-type {\n        vertical-align: middle;\n    }\n\n    .dataframe tbody tr th {\n        vertical-align: top;\n    }\n\n    .dataframe thead th {\n        text-align: right;\n    }\n</style>\n<table border=\"1\" class=\"dataframe\">\n  <thead>\n    <tr style=\"text-align: right;\">\n      <th></th>\n      <th>Laserlikeness</th>\n      <th>Continuation</th>\n      <th>Base Thirst</th>\n      <th>Indulgence</th>\n      <th>Ground Friction</th>\n    </tr>\n  </thead>\n  <tbody>\n    <tr>\n      <th>Beasley Day</th>\n      <td>0.396098</td>\n      <td>0.416221</td>\n      <td>0.961669</td>\n      <td>0.330239</td>\n      <td>0.673205</td>\n    </tr>\n  </tbody>\n</table>\n</div>"
     },
     "execution_count": 4,
     "metadata": {},
     "output_type": "execute_result"
    }
   ],
   "source": [
    "# And his baserunning?\n",
    "get_baserunning_stlats(beasley)"
   ]
  },
  {
   "cell_type": "code",
   "execution_count": 5,
   "outputs": [
    {
     "data": {
      "text/plain": "             Omniscience  Tenaciousness  Watchfulness  Anticapitalism  \\\nBeasley Day      0.11034        0.14211      0.934442        0.198512   \n\n             Chasiness  \nBeasley Day   0.275182  ",
      "text/html": "<div>\n<style scoped>\n    .dataframe tbody tr th:only-of-type {\n        vertical-align: middle;\n    }\n\n    .dataframe tbody tr th {\n        vertical-align: top;\n    }\n\n    .dataframe thead th {\n        text-align: right;\n    }\n</style>\n<table border=\"1\" class=\"dataframe\">\n  <thead>\n    <tr style=\"text-align: right;\">\n      <th></th>\n      <th>Omniscience</th>\n      <th>Tenaciousness</th>\n      <th>Watchfulness</th>\n      <th>Anticapitalism</th>\n      <th>Chasiness</th>\n    </tr>\n  </thead>\n  <tbody>\n    <tr>\n      <th>Beasley Day</th>\n      <td>0.11034</td>\n      <td>0.14211</td>\n      <td>0.934442</td>\n      <td>0.198512</td>\n      <td>0.275182</td>\n    </tr>\n  </tbody>\n</table>\n</div>"
     },
     "execution_count": 5,
     "metadata": {},
     "output_type": "execute_result"
    }
   ],
   "source": [
    "# Why not defense?\n",
    "get_defense_stlats(beasley)"
   ],
   "metadata": {
    "collapsed": false,
    "pycharm": {
     "name": "#%%\n"
    }
   }
  },
  {
   "cell_type": "code",
   "execution_count": 6,
   "metadata": {
    "pycharm": {
     "name": "#%%\n"
    }
   },
   "outputs": [
    {
     "data": {
      "text/plain": "            appearances batting_average on_base_percentage slugging  \\\nBeasley Day          99           0.266              0.299    0.481   \n\n            plate_appearances at_bats hits walks singles doubles triples  \\\nBeasley Day               562     530  141    27     102       9      12   \n\n            quadruples home_runs runs_batted_in strikeouts sacrifices  \\\nBeasley Day          0        18             59         79          5   \n\n            at_bats_risp hits_risps batting_average_risp on_base_slugging  \\\nBeasley Day          235        127                0.540            0.780   \n\n            total_bases hbps ground_outs flyouts gidps  \nBeasley Day         255    0         151     129     6  ",
      "text/html": "<div>\n<style scoped>\n    .dataframe tbody tr th:only-of-type {\n        vertical-align: middle;\n    }\n\n    .dataframe tbody tr th {\n        vertical-align: top;\n    }\n\n    .dataframe thead th {\n        text-align: right;\n    }\n</style>\n<table border=\"1\" class=\"dataframe\">\n  <thead>\n    <tr style=\"text-align: right;\">\n      <th></th>\n      <th>appearances</th>\n      <th>batting_average</th>\n      <th>on_base_percentage</th>\n      <th>slugging</th>\n      <th>plate_appearances</th>\n      <th>at_bats</th>\n      <th>hits</th>\n      <th>walks</th>\n      <th>singles</th>\n      <th>doubles</th>\n      <th>triples</th>\n      <th>quadruples</th>\n      <th>home_runs</th>\n      <th>runs_batted_in</th>\n      <th>strikeouts</th>\n      <th>sacrifices</th>\n      <th>at_bats_risp</th>\n      <th>hits_risps</th>\n      <th>batting_average_risp</th>\n      <th>on_base_slugging</th>\n      <th>total_bases</th>\n      <th>hbps</th>\n      <th>ground_outs</th>\n      <th>flyouts</th>\n      <th>gidps</th>\n    </tr>\n  </thead>\n  <tbody>\n    <tr>\n      <th>Beasley Day</th>\n      <td>99</td>\n      <td>0.266</td>\n      <td>0.299</td>\n      <td>0.481</td>\n      <td>562</td>\n      <td>530</td>\n      <td>141</td>\n      <td>27</td>\n      <td>102</td>\n      <td>9</td>\n      <td>12</td>\n      <td>0</td>\n      <td>18</td>\n      <td>59</td>\n      <td>79</td>\n      <td>5</td>\n      <td>235</td>\n      <td>127</td>\n      <td>0.540</td>\n      <td>0.780</td>\n      <td>255</td>\n      <td>0</td>\n      <td>151</td>\n      <td>129</td>\n      <td>6</td>\n    </tr>\n  </tbody>\n</table>\n</div>"
     },
     "execution_count": 6,
     "metadata": {},
     "output_type": "execute_result"
    }
   ],
   "source": [
    "# We can also get performance stats from Blaseball Reference!\n",
    "# Note: you have to use separate code blocks for each stlat/stat lookup\n",
    "get_batting_stats(beasley, season=11)"
   ]
  },
  {
   "cell_type": "markdown",
   "metadata": {
    "pycharm": {
     "name": "#%% md\n"
    }
   },
   "source": [
    "### Team Data\n",
    "Teams can be retrieved by with lookups based on the team name or by using\n",
    "the Team ID, found in the URL of a team page on the blaseball website.\n",
    "\n",
    "Teams contain lists of players in particular positions, most notably `lineup` for batters\n",
    "and `rotation` for pitchers."
   ]
  },
  {
   "cell_type": "code",
   "execution_count": 7,
   "metadata": {
    "pycharm": {
     "name": "#%%\n"
    }
   },
   "outputs": [
    {
     "data": {
      "text/plain": "<display.general.HTMLWrapper at 0x27b8007a250>",
      "text/html": "\n    <div style=\"width:500px;background:#000;border:1px solid #fff;color:#fff;display:flex;flex-direction:column;box-sizing:border-box;font-size:14px;\">\n        <div style=\"padding: 40px 40px 20px;border-bottom:1px solid #fff;\">\n            <div style=\"width:100%;display:flex;flex-direction:row;justify-content:flex-start;align-items:center;\">\n                <div style=\"background-color:#399d8f;border-radius:50%;height:60px;width:60px;font-size:36px;display:flex;align-items:center;justify-content:center;flex-shrink:0;\">\n                    🥧\n                </div>\n                <div style=\"display:flex;flex-direction:column;margin-left:10px;\">\n                    <div style=\"font-size:24px;\">\n                        Philly Pies\n                    </div>\n                    <div>\n                        <i>\"Pie or Die.\"</i>\n                    </div>\n                    <div style=\"margin-top:5px;margin-left:auto;border:1px solid #fff;padding:4px 10px;border-radius:5px;width:-webkit-fit-content;width:-moz-fit-content;width:fit-content;color:#fff\">\n                        VIIII The Hermit\n                    </div>\n                </div>\n            </div>\n        </div>\n        <div style=\"padding:5px 40px;display:flex;flex-direction:row;background:#111;border-bottom:1px solid #fff;\">\n            <div style=\"display:flex;flex-direction:row;padding:5px;border-radius:5px;background:#222;\">\n            <div style=\"font-weight:700;display:flex;margin-right:10px;padding-left:5px;padding-right:5px;height:32px;border-radius:5px;align-items:center;justify-content:center;color:#cb80d9;background:#240c36 none repeat scroll 0% 0%;border:2px solid #dbbc0b\">\n                Affinity for Crows\n            </div>\n        </div></div>\n        <div style=\"padding:20px 40px 20px;\">\n            <div style=\"margin-bottom:10px;\">\n                <div style=\"font-size:18px;margin-bottom:10px;color:#aaa;text-align:center;\">\n                    Lineup\n                </div>\n                <ul style=\"margin:0;padding:0;width:100%;\">\n                    \n        <div style=\"display:grid;grid-template-columns:auto 100px 140px; grid-template-rows:30px;align-items:center;margin:0 -40px;padding:0 20px 0 40px;line-height:1.2em;background:rgba(30,30,30,1);\">\n            <div>\n                Eduardo Woodman\n            </div>\n            <div style=\"display:flex;flex-direction:row;justify-content:center;\">\n                <span style=\"color:#8fdb88;\">▲</span>\n            </div>\n            <div>\n                ★★★★\n            </div>\n        </div>\n    \n        <div style=\"display:grid;grid-template-columns:auto 100px 140px; grid-template-rows:30px;align-items:center;margin:0 -40px;padding:0 20px 0 40px;line-height:1.2em;\">\n            <div>\n                Beasley Day\n            </div>\n            <div style=\"display:flex;flex-direction:row;justify-content:center;\">\n                <span style=\"color:#d1d1d1;\">⬌</span>\n            </div>\n            <div>\n                ★★☆\n            </div>\n        </div>\n    \n        <div style=\"display:grid;grid-template-columns:auto 100px 140px; grid-template-rows:30px;align-items:center;margin:0 -40px;padding:0 20px 0 40px;line-height:1.2em;background:rgba(30,30,30,1);\">\n            <div>\n                Farrell Seagull\n            </div>\n            <div style=\"display:flex;flex-direction:row;justify-content:center;\">\n                <span style=\"color:#d97373;\">▼</span>\n            </div>\n            <div>\n                ★★\n            </div>\n        </div>\n    \n        <div style=\"display:grid;grid-template-columns:auto 100px 140px; grid-template-rows:30px;align-items:center;margin:0 -40px;padding:0 20px 0 40px;line-height:1.2em;\">\n            <div>\n                Jaxon Buckley\n            </div>\n            <div style=\"display:flex;flex-direction:row;justify-content:center;\">\n                <span style=\"color:#8fdb88;\">▲</span>\n            </div>\n            <div>\n                ★★★★★☆\n            </div>\n        </div>\n    \n        <div style=\"display:grid;grid-template-columns:auto 100px 140px; grid-template-rows:30px;align-items:center;margin:0 -40px;padding:0 20px 0 40px;line-height:1.2em;background:rgba(30,30,30,1);\">\n            <div>\n                Lang Richardson\n            </div>\n            <div style=\"display:flex;flex-direction:row;justify-content:center;\">\n                <span style=\"color:#de3c3c;\">▼▼</span>\n            </div>\n            <div>\n                ★★★\n            </div>\n        </div>\n    \n        <div style=\"display:grid;grid-template-columns:auto 100px 140px; grid-template-rows:30px;align-items:center;margin:0 -40px;padding:0 20px 0 40px;line-height:1.2em;\">\n            <div>\n                Yusef Puddles\n            </div>\n            <div style=\"display:flex;flex-direction:row;justify-content:center;\">\n                <span style=\"color:#8fdb88;\">▲</span>\n            </div>\n            <div>\n                ★★\n            </div>\n        </div>\n    \n        <div style=\"display:grid;grid-template-columns:auto 100px 140px; grid-template-rows:30px;align-items:center;margin:0 -40px;padding:0 20px 0 40px;line-height:1.2em;background:rgba(30,30,30,1);\">\n            <div>\n                Jode Preston\n            </div>\n            <div style=\"display:flex;flex-direction:row;justify-content:center;\">\n                <span style=\"color:#5de04f;\">▲▲</span>\n            </div>\n            <div>\n                ★★★★\n            </div>\n        </div>\n    \n                </ul>\n            </div>\n            <div style=\"margin-bottom:10px;\">\n                <div style=\"font-size:18px;margin-bottom:10px;color:#aaa;text-align:center;\">\n                    Rotation\n                </div>\n                <ul style=\"margin:0;padding:0;width:100%;\">\n                    \n        <div style=\"display:grid;grid-template-columns:auto 100px 140px; grid-template-rows:30px;align-items:center;margin:0 -40px;padding:0 20px 0 40px;line-height:1.2em;background:rgba(30,30,30,1);\">\n            <div>\n                Henry Marshallow\n            </div>\n            <div style=\"display:flex;flex-direction:row;justify-content:center;\">\n                <span style=\"color:#15d400;\">▲▲▲</span>\n            </div>\n            <div>\n                ★★\n            </div>\n        </div>\n    \n        <div style=\"display:grid;grid-template-columns:auto 100px 140px; grid-template-rows:30px;align-items:center;margin:0 -40px;padding:0 20px 0 40px;line-height:1.2em;\">\n            <div>\n                Nicholas Mora\n            </div>\n            <div style=\"display:flex;flex-direction:row;justify-content:center;\">\n                <span style=\"color:#de3c3c;\">▼▼</span>\n            </div>\n            <div>\n                ★★★\n            </div>\n        </div>\n    \n        <div style=\"display:grid;grid-template-columns:auto 100px 140px; grid-template-rows:30px;align-items:center;margin:0 -40px;padding:0 20px 0 40px;line-height:1.2em;background:rgba(30,30,30,1);\">\n            <div>\n                Bright Zimmerman\n            </div>\n            <div style=\"display:flex;flex-direction:row;justify-content:center;\">\n                <span style=\"color:#d97373;\">▼</span>\n            </div>\n            <div>\n                ★☆\n            </div>\n        </div>\n    \n        <div style=\"display:grid;grid-template-columns:auto 100px 140px; grid-template-rows:30px;align-items:center;margin:0 -40px;padding:0 20px 0 40px;line-height:1.2em;\">\n            <div>\n                Ruslan Greatness\n            </div>\n            <div style=\"display:flex;flex-direction:row;justify-content:center;\">\n                <span style=\"color:#e00000;\">▼▼▼</span>\n            </div>\n            <div>\n                ★★☆\n            </div>\n        </div>\n    \n        <div style=\"display:grid;grid-template-columns:auto 100px 140px; grid-template-rows:30px;align-items:center;margin:0 -40px;padding:0 20px 0 40px;line-height:1.2em;background:rgba(30,30,30,1);\">\n            <div>\n                Elvis Figueroa\n            </div>\n            <div style=\"display:flex;flex-direction:row;justify-content:center;\">\n                <span style=\"color:#5de04f;\">▲▲</span>\n            </div>\n            <div>\n                ★★★★☆\n            </div>\n        </div>\n    \n                </ul>\n            </div>\n        </div>\n    </div>\n    "
     },
     "execution_count": 7,
     "metadata": {},
     "output_type": "execute_result"
    }
   ],
   "source": [
    "# Let's see that Team page!\n",
    "pies = Team.load_by_name(\"Philly Pies\")\n",
    "\n",
    "display_team(pies)"
   ]
  },
  {
   "cell_type": "code",
   "execution_count": 8,
   "metadata": {
    "pycharm": {
     "name": "#%%\n"
    }
   },
   "outputs": [
    {
     "data": {
      "text/plain": "                  Unthwackability  Ruthlessness  Overpowerment  \\\nHenry Marshallow         0.233266      0.882016       1.123135   \nNicholas Mora            1.140948      0.343723       0.553609   \nBright Zimmerman         0.207882      0.511157       0.852666   \nRuslan Greatness         0.484582      0.481892       0.944604   \nElvis Figueroa           1.036387      1.015972       0.930460   \n\n                  Shakespearianism  Coldness  Suppression  \nHenry Marshallow          0.484581  0.571587     0.656728  \nNicholas Mora             0.367345  0.482330     0.431032  \nBright Zimmerman          0.679224  0.303950     0.870961  \nRuslan Greatness          0.726276  0.320791     1.085039  \nElvis Figueroa            0.689138  0.328725     0.592661  ",
      "text/html": "<div>\n<style scoped>\n    .dataframe tbody tr th:only-of-type {\n        vertical-align: middle;\n    }\n\n    .dataframe tbody tr th {\n        vertical-align: top;\n    }\n\n    .dataframe thead th {\n        text-align: right;\n    }\n</style>\n<table border=\"1\" class=\"dataframe\">\n  <thead>\n    <tr style=\"text-align: right;\">\n      <th></th>\n      <th>Unthwackability</th>\n      <th>Ruthlessness</th>\n      <th>Overpowerment</th>\n      <th>Shakespearianism</th>\n      <th>Coldness</th>\n      <th>Suppression</th>\n    </tr>\n  </thead>\n  <tbody>\n    <tr>\n      <th>Henry Marshallow</th>\n      <td>0.233266</td>\n      <td>0.882016</td>\n      <td>1.123135</td>\n      <td>0.484581</td>\n      <td>0.571587</td>\n      <td>0.656728</td>\n    </tr>\n    <tr>\n      <th>Nicholas Mora</th>\n      <td>1.140948</td>\n      <td>0.343723</td>\n      <td>0.553609</td>\n      <td>0.367345</td>\n      <td>0.482330</td>\n      <td>0.431032</td>\n    </tr>\n    <tr>\n      <th>Bright Zimmerman</th>\n      <td>0.207882</td>\n      <td>0.511157</td>\n      <td>0.852666</td>\n      <td>0.679224</td>\n      <td>0.303950</td>\n      <td>0.870961</td>\n    </tr>\n    <tr>\n      <th>Ruslan Greatness</th>\n      <td>0.484582</td>\n      <td>0.481892</td>\n      <td>0.944604</td>\n      <td>0.726276</td>\n      <td>0.320791</td>\n      <td>1.085039</td>\n    </tr>\n    <tr>\n      <th>Elvis Figueroa</th>\n      <td>1.036387</td>\n      <td>1.015972</td>\n      <td>0.930460</td>\n      <td>0.689138</td>\n      <td>0.328725</td>\n      <td>0.592661</td>\n    </tr>\n  </tbody>\n</table>\n</div>"
     },
     "execution_count": 8,
     "metadata": {},
     "output_type": "execute_result"
    }
   ],
   "source": [
    "# Just like with players, we can look up the stlats for the whole team\n",
    "get_pitching_stlats(pies.rotation)"
   ]
  },
  {
   "cell_type": "code",
   "execution_count": null,
   "metadata": {
    "pycharm": {
     "name": "#%%\n",
     "is_executing": true
    }
   },
   "outputs": [],
   "source": [
    "# And the same with stats\n",
    "get_pitching_stats(pies.rotation, season=11)"
   ]
  },
  {
   "cell_type": "markdown",
   "metadata": {
    "pycharm": {
     "name": "#%% md\n"
    }
   },
   "source": [
    "### Games\n",
    "The results of individual games can be found based on the gameday and season, including\n",
    "future games in a currently running season."
   ]
  },
  {
   "cell_type": "code",
   "execution_count": null,
   "metadata": {
    "pycharm": {
     "name": "#%%\n",
     "is_executing": true
    }
   },
   "outputs": [],
   "source": [
    "# Let's relive some fun history\n",
    "test_game = Game.load_by_season(season=4, day=43, team_id=pies.id)\n",
    "display_game_results(test_game)"
   ]
  },
  {
   "cell_type": "markdown",
   "metadata": {
    "pycharm": {
     "name": "#%% md\n"
    }
   },
   "source": [
    "### Player & Team History\n",
    "In addition to loading what the players & team are like right now, we can also load\n",
    "their historical records by date."
   ]
  },
  {
   "cell_type": "code",
   "execution_count": null,
   "metadata": {
    "pycharm": {
     "name": "#%%\n",
     "is_executing": true
    }
   },
   "outputs": [],
   "source": [
    "# Let's grab the Season 2 Pies, for nostalgia\n",
    "# Format is <YEAR>-<MONTH>-<DAY>T<HOUR>:<MINUTE>:<SECOND>Z\n",
    "# Note: Historical records only go back as far as mid-Season 2\n",
    "mid_season_2 = \"2020-07-29T18:00:00Z\"\n",
    "old_pies = Team.load_at_time(pies.id, time=mid_season_2)\n",
    "\n",
    "display_team(old_pies)"
   ]
  },
  {
   "cell_type": "code",
   "execution_count": null,
   "metadata": {
    "pycharm": {
     "name": "#%%\n",
     "is_executing": true
    }
   },
   "outputs": [],
   "source": [
    "# Oh hey, that was pre-AR Betsy. I wonder what her stlats looked like back then?\n",
    "betsy_current = Player.find_by_name(\"Betsy Trombone\")\n",
    "betsy_old = Player.load_one_at_time(betsy_current.id, time=mid_season_2)\n",
    "\n",
    "get_pitching_stlats([betsy_old, betsy_current])\n"
   ]
  }
 ],
 "metadata": {
  "kernelspec": {
   "display_name": "Python 3",
   "language": "python",
   "name": "python3"
  },
  "language_info": {
   "codemirror_mode": {
    "name": "ipython",
    "version": 3
   },
   "file_extension": ".py",
   "mimetype": "text/x-python",
   "name": "python",
   "nbconvert_exporter": "python",
   "pygments_lexer": "ipython3",
   "version": "3.8.5"
  },
  "toc": {
   "base_numbering": 1,
   "nav_menu": {},
   "number_sections": false,
   "sideBar": true,
   "skip_h1_title": true,
   "title_cell": "Table of Contents",
   "title_sidebar": "Table of Contents",
   "toc_cell": false,
   "toc_section_display": true,
   "toc_window_display": false
  }
 },
 "nbformat": 4,
 "nbformat_minor": 1
}