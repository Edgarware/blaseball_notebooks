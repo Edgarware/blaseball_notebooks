{
 "cells": [
  {
   "cell_type": "markdown",
   "metadata": {
    "collapsed": true,
    "pycharm": {
     "name": "#%% md\n"
    }
   },
   "source": [
    "# Season 9 Election Notes\n",
    "Up to date as of [Insert Current Date Here]\n",
    "\n",
    ">**FORBIDDEN KNOWLEDGE WARNING**\n",
    ">\n",
    ">This document contains information that is not currently present on the main site and may be considered spoilers. Continue at your own discretion. Some information in this document cannot be shared on the Discord without spoiler tags.\n",
    "\n",
    "To check real-time stats, run each code snippet in order."
   ]
  },
  {
   "cell_type": "code",
   "execution_count": null,
   "metadata": {
    "pycharm": {
     "name": "#%%\n"
    }
   },
   "outputs": [],
   "source": [
    "%matplotlib inline\n",
    "from beakerx import *\n",
    "from display import *\n",
    "from blessings import *\n",
    "from ipywidgets import *\n",
    "\n",
    "pies = Team.load_by_name(\"Philly Pies\")"
   ]
  },
  {
   "cell_type": "markdown",
   "metadata": {
    "pycharm": {
     "name": "#%% md\n"
    }
   },
   "source": [
    "# Decrees\n",
    "All Decrees are “Forecast: X” where X is a pre-existing weather. Each weather has a small chance for specific effects on the game, for reference:\n",
    "* Solar Eclipses cause Incinerations.\n",
    "* Peanuts cause yummy/allergic peanut reactions (±20% to all stats) as well as giant falling peanuts that can shell players mid-game.\n",
    "* Birds cause batters to occasionally ~~get out in the middle of their at-bat~~ (removed due to bugs), and is the only known way to break Shelled players free.\n",
    "* Feedback causes players to swap teams.\n",
    "* Reverb can either shuffle the lineup, rotation, or whole team order. It can also cause a player to become Reverberating, which permanently gives them a chance to bat twice in a row.\n",
    "* Blooddrain causes players to drain a specific stat (10%) from a player on the other team.\n",
    "\n",
    "3 Decrees will pass at the end of the election. It is unknown how these decrees will affect the weather but it is believed that the 3 chosen weathers will be the only weathers available for the next season.\n",
    "\n",
    "Birds is an obvious benefit for us due to our Affinity for Crows (50% better batting/pitching for the Pies) and is generally supported by teams that need to break players out of shells. Teams tend to dislike Feedback and Solar Eclipses as it can kill or trade players they like. Strategically, Peanuts is the worst as it causes a player to lose on average 1 star in each category OR completely remove them from games until they are unshelled."
   ]
  },
  {
   "cell_type": "markdown",
   "metadata": {},
   "source": [
    "___\n",
    "# Blessings"
   ]
  },
  {
   "cell_type": "markdown",
   "metadata": {},
   "source": [
    "## Eat me, Drink me\n",
    "**A random player on your team becomes BIG. Increased Power, Max Vibe. Decreased Baserunning.**\n",
    "\n",
    "~Random~. This is identical to the Mushroom without being an item. Power is a combination of `musclitude` and `divinity`\n",
    "which would increase triples & home runs. Pies generally have low baserunning and high power already."
   ]
  },
  {
   "cell_type": "markdown",
   "metadata": {},
   "source": [
    "## Credit to the Team\n",
    "**A random player on your team becomes BIG. Increased Power, Max Vibe. Decreased Baserunning.**\n",
    "\n",
    "The worst player on the team is below. Having a player be the target of idol board shenanigans has gone poorly in the\n",
    "past (see York Silk in a peanut)."
   ]
  },
  {
   "cell_type": "code",
   "execution_count": null,
   "metadata": {
    "pycharm": {
     "name": "#%%\n"
    }
   },
   "outputs": [],
   "source": [
    "display_name(sort_overall(pies, 1, order=\"worst\"), pre=\"Worst Player:\")"
   ]
  },
  {
   "cell_type": "markdown",
   "metadata": {},
   "source": [
    "## Secret Weapon\n",
    "**Maximize a random Pitcher in your Shadows.**\n",
    "\n",
    "~Random~. The pitcher Shadows is the bullpen, a list of which can be found below. Just maximizing a player is somewhat\n",
    "useless unless we also get a blessing to add them to our rotation."
   ]
  },
  {
   "cell_type": "code",
   "execution_count": null,
   "metadata": {
    "pycharm": {
     "name": "#%%\n"
    }
   },
   "outputs": [],
   "source": [
    "get_stars(pies.bullpen)"
   ]
  },
  {
   "cell_type": "markdown",
   "metadata": {},
   "source": [
    "## Grab and Smash\n",
    "**Steal a Hitter from another Team's Shadows.**\n",
    "The hitter Shadows is the bench. This would likely replace our worst batter, found below. Below is a graph of all the\n",
    "possible batters in division opponent benches sorted by number of stars. Previous seasons have taken the best player\n",
    "from the Shadows, but that’s a sample size of 1 so it’s hard to tell if it was just luck."
   ]
  },
  {
   "cell_type": "code",
   "execution_count": null,
   "metadata": {
    "pycharm": {
     "name": "#%%\n"
    }
   },
   "outputs": [],
   "source": [
    "display_name(sort_lineup(pies, 1, order=\"worst\"), pre=\"Worst Batter:\")\n",
    "print(grab_and_smash(pies))"
   ]
  },
  {
   "cell_type": "markdown",
   "metadata": {},
   "source": [
    "## Out of Sight\n",
    "**Send your 2 Worst Pitchers to the Shadows and call up your First 2 Relievers.**\n",
    "\n",
    "See below for analysis."
   ]
  },
  {
   "cell_type": "code",
   "execution_count": null,
   "metadata": {
    "pycharm": {
     "name": "#%%\n"
    }
   },
   "outputs": [],
   "source": [
    "print(\"Worst Pitchers\")\n",
    "get_stars(sort_rotation(pies, 2))"
   ]
  },
  {
   "cell_type": "code",
   "execution_count": null,
   "metadata": {
    "pycharm": {
     "name": "#%%\n"
    }
   },
   "outputs": [],
   "source": [
    "print(\"Bullpen Replacements\")\n",
    "get_stars(pies.bullpen[0:2])"
   ]
  },
  {
   "cell_type": "markdown",
   "metadata": {},
   "source": [
    "## Disappearing Acts\n",
    "**Send your Worst 3 Hitters to the Shadows and call up the first 3 Shadows Hitters.**\n",
    "\n",
    "See below for anaylsis.\n"
   ]
  },
  {
   "cell_type": "code",
   "metadata": {
    "pycharm": {
     "name": "#%%\n"
    }
   },
   "source": [
    "get_stars(pies.bench[0:3])\n",
    "print(\"Replaces:\")\n",
    "get_stars(sort_lineup(pies, 3))"
   ],
   "execution_count": null,
   "outputs": []
  },
  {
   "cell_type": "code",
   "metadata": {
    "pycharm": {
     "name": "#%%\n"
    }
   },
   "source": [
    "get_stars(pies.bench[0:3])\n",
    "print(\"Replaces:\")\n",
    "get_stars(sort_lineup(pies, 3))"
   ],
   "execution_count": null,
   "outputs": []
  },
  {
   "cell_type": "markdown",
   "metadata": {
    "pycharm": {
     "name": "#%% md\n"
    }
   },
   "source": [
    "## Feel the Love\n",
    "**Give your Team Love Blood Type.**\n",
    "\n",
    "Currently Love Blood does not have an in-game impact. It will probably gain a gameplay mechanic once the blessing is\n",
    "passed, but this is currently unknown."
   ]
  },
  {
   "cell_type": "markdown",
   "metadata": {
    "pycharm": {
     "name": "#%% md\n"
    }
   },
   "source": [
    "## Hot Sauce Bar\n",
    "**Help yourselves. A player on each team in your Division gets Spicy.**\n",
    "\n",
    "Spicy gives a player improved batting if they get 3 hits in a row, which lasts until they get out at-bat again\n",
    "(strikeout, fly or ground out). Pies batting is strong but not generally known for consistency."
   ]
  },
  {
   "cell_type": "markdown",
   "metadata": {},
   "source": [
    "## Fifth Base Bubble\n",
    "**Give all of the teams not in your Division the Fifth Base.**\n",
    "\n",
    "Exact impact unknown. A Fifth base is generally bad for teams that have weak baserunning and hitting."
   ]
  },
  {
   "cell_type": "markdown",
   "metadata": {},
   "source": [
    "## The Shame Bubble\n",
    "**Give all of the teams not in your Division Targeted Shame.**\n",
    "\n",
    "We had this in Season 8, not sure how much of an impact it made for us specifically."
   ]
  },
  {
   "cell_type": "markdown",
   "metadata": {},
   "source": [
    "## Tag Team Pitching\n",
    "**Improve your team's pitching by 10%. The last place team in the opposite subleague also gets +10% team pitching.**\n",
    "\n",
    "See below for analysis."
   ]
  },
  {
   "cell_type": "code",
   "metadata": {
    "pycharm": {
     "name": "#%%\n"
    }
   },
   "source": [
    "tacos = Team.load_by_name(\"Tacos\")\n",
    "pies_changed, tacos_changed = tag_team_pitching(pies, tacos)\n",
    "\n",
    "print(\"Pies Improvement:\")\n",
    "print(\"Total:\", star_compare(total_stars(pies_changed), total_stars(pies.rotation)))\n",
    "print(\"Average:\", star_compare(avg_stars(pies_changed), avg_stars(pies.rotation)))\n",
    "\n",
    "print(\"Tacos Improvement:\")\n",
    "print(\"Total:\", star_compare(total_stars(tacos_changed), total_stars(tacos.rotation)))\n",
    "print(\"Average:\", star_compare(avg_stars(tacos_changed), avg_stars(tacos.rotation)))"
   ],
   "execution_count": null,
   "outputs": []
  },
  {
   "cell_type": "markdown",
   "metadata": {},
   "source": [
    "## Tag Team Hitting\n",
    "**Improve your team's hitting by 10%. The last place team in the opposite subleague also gets +10% team hitting.**\n",
    "\n",
    "See below for analysis."
   ]
  },
  {
   "cell_type": "code",
   "execution_count": null,
   "metadata": {
    "pycharm": {
     "name": "#%%\n"
    }
   },
   "outputs": [],
   "source": [
    "pies_changed, tacos_changed = tag_team_hitting(pies, tacos)\n",
    "\n",
    "print(\"Pies Improvement:\")\n",
    "print(\"Total:\", star_compare(total_stars(pies_changed), total_stars(pies.lineup)))\n",
    "print(\"Average:\", star_compare(avg_stars(pies_changed), avg_stars(pies.lineup)))\n",
    "\n",
    "print(\"Tacos Improvement:\")\n",
    "print(\"Total:\", star_compare(total_stars(tacos_changed), total_stars(tacos.lineup)))\n",
    "print(\"Average:\", star_compare(avg_stars(tacos_changed), avg_stars(tacos.lineup)))"
   ]
  },
  {
   "cell_type": "markdown",
   "metadata": {},
   "source": [
    "## Kill Your Darling\n",
    "**Incinerate the Most Idolized Player on your Team.**\n",
    "\n",
    "Hey.\n",
    "\n",
    "Don’t."
   ]
  },
  {
   "cell_type": "markdown",
   "metadata": {
    "pycharm": {
     "name": "#%% md\n"
    }
   },
   "source": [
    "## Dead Weight\n",
    "**Incinerate the Worst Player on Your Team.**\n",
    "\n",
    "See below for analysis."
   ]
  },
  {
   "cell_type": "code",
   "metadata": {
    "pycharm": {
     "name": "#%%\n"
    }
   },
   "source": [
    "#TODO"
   ],
   "execution_count": null,
   "outputs": []
  },
  {
   "cell_type": "markdown",
   "metadata": {},
   "source": [
    "## New Kid\n",
    "**Incinerate the Least Idolized Player on your Team.**\n",
    "\n",
    "Cannot currently know who the least-idolized player on the team is. With correct organization could be used as a\n",
    "controlled incineration for one of our bad players."
   ]
  },
  {
   "cell_type": "markdown",
   "metadata": {
    "pycharm": {
     "name": "#%% md\n"
    }
   },
   "source": [
    "## Boatload of Tiny Eggs\n",
    "**Fans of your team receive a big barrel of peanuts.**\n",
    "\n",
    "Peanuts would be used for the Hall of Flame ratings. Amount of peanuts in a “boatload” is unknown; last season’s\n",
    "blessing was 10K."
   ]
  },
  {
   "cell_type": "markdown",
   "metadata": {
    "pycharm": {
     "name": "#%% md\n"
    }
   },
   "source": [
    "## New Recruit\n",
    "**Recruit a rookie to be an extra player in your lineup.**\n",
    "\n",
    "This would cause the existing players to bat less, which means we would need to get a reroll of over our team average\n",
    "to not lose total team stars. See below for analysis."
   ]
  },
  {
   "cell_type": "code",
   "execution_count": null,
   "metadata": {
    "pycharm": {
     "name": "#%%\n"
    }
   },
   "outputs": [],
   "source": [
    "batting = FloatSlider(value=NEW_PLAYER[\"batting\"], min=0.0, max=5.0)\n",
    "baserunning = FloatSlider(value=NEW_PLAYER[\"baserunning\"],min=0.0, max=5.0)\n",
    "defense = FloatSlider(value=NEW_PLAYER[\"defense\"],min=0.0, max=5.0)\n",
    "\n",
    "new_recruit_form = EasyForm(\"New Recruit Stars\")\n",
    "new_recruit_form.addWidget(\"batting\", batting)\n",
    "new_recruit_form.addWidget(\"baserunning\", baserunning)\n",
    "new_recruit_form.addWidget(\"defense\", defense)\n",
    "new_recruit_form.addButton(\"Update\", tag=\"new_recruit\")\n",
    "new_recruit_form\n",
    "\n",
    "#print(\"Team Lineup Average Stars:\", avg_stars(pies.lineup))\n",
    "\n"
   ]
  },
  {
   "cell_type": "code",
   "execution_count": null,
   "metadata": {
    "pycharm": {
     "name": "#%%\n"
    },
    "tags": [
     "new_recruit"
    ]
   },
   "outputs": [],
   "source": [
    "new_recruit(pies, new_recruit_form[\"batting\"], new_recruit_form[\"baserunning\"], new_recruit_form[\"defense\"])\n"
   ]
  },
  {
   "cell_type": "code",
   "execution_count": null,
   "outputs": [],
   "source": [],
   "metadata": {
    "collapsed": false,
    "pycharm": {
     "name": "#%%\n"
    }
   }
  },
  {
   "cell_type": "code",
   "execution_count": null,
   "metadata": {},
   "outputs": [],
   "source": []
  }
 ],
 "metadata": {
  "kernelspec": {
   "display_name": "Python 3",
   "language": "python",
   "name": "python3"
  },
  "language_info": {
   "codemirror_mode": {
    "name": "ipython",
    "version": 3
   },
   "file_extension": ".py",
   "mimetype": "text/x-python",
   "name": "python",
   "nbconvert_exporter": "python",
   "pygments_lexer": "ipython3",
   "version": "3.8.5"
  },
  "toc": {
   "base_numbering": 1,
   "nav_menu": {},
   "number_sections": false,
   "sideBar": false,
   "skip_h1_title": false,
   "title_cell": "Table of Contents",
   "title_sidebar": "Contents",
   "toc_cell": false,
   "toc_position": {},
   "toc_section_display": false,
   "toc_window_display": false
  }
 },
 "nbformat": 4,
 "nbformat_minor": 1
}