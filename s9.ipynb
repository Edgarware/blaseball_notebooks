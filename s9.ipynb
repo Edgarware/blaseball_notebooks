{
 "cells": [
  {
   "cell_type": "markdown",
   "metadata": {
    "collapsed": true,
    "pycharm": {
     "name": "#%% md\n"
    }
   },
   "source": [
    "# Season 9 Election Notes\n",
    "\n",
    ">**FORBIDDEN KNOWLEDGE WARNING**\n",
    ">\n",
    ">This document contains information that is not currently present on the main site and may be considered spoilers. Continue at your own discretion. Some information in this document cannot be shared on the Discord without spoiler tags.\n",
    "\n",
    "To run, press the ⏩ button above and select \"Run all cells\".\n",
    "\n",
    "Cells can be modified and rerun at any time. Changes will not be saved when the session ends."
   ]
  },
  {
   "cell_type": "code",
   "execution_count": null,
   "metadata": {
    "pycharm": {
     "name": "#%%\n"
    }
   },
   "outputs": [],
   "source": [
    "%matplotlib inline\n",
    "from beakerx import *\n",
    "from display import *\n",
    "from blessings import *\n",
    "from blaseball_mike.models import *\n",
    "\n",
    "pies = Team.load_by_name(\"Philly Pies\")"
   ]
  },
  {
   "cell_type": "markdown",
   "metadata": {
    "pycharm": {
     "name": "#%% md\n"
    }
   },
   "source": [
    "# Decrees\n",
    "All Decrees are “Forecast: X” where X is a pre-existing weather. Each weather has a small chance for specific effects on\n",
    "the game, for reference:\n",
    "* Solar Eclipses cause Incinerations.\n",
    "* Peanuts cause yummy/allergic peanut reactions (±20% to all stats) as well as giant falling peanuts that can shell\n",
    "  players mid-game.\n",
    "* Birds cause batters to occasionally ~~get out in the middle of their at-bat~~ (removed due to bugs), and is the only\n",
    "  known way to break Shelled players free.\n",
    "* Feedback causes players to swap teams.\n",
    "* Reverb can either shuffle the lineup, rotation, or whole team order. It can also cause a player to become\n",
    "  Reverberating, which permanently gives them a chance to bat twice in a row.\n",
    "* Blooddrain causes players to drain a specific stat (10%) from a player on the other team.\n",
    "\n",
    "3 Decrees will pass at the end of the election. It is unknown how these decrees will affect the weather but it is\n",
    "believed that the 3 chosen weathers will be the only weathers available for the next season.\n",
    "\n",
    "Birds is an obvious benefit for us due to our Affinity for Crows (50% better batting/pitching for the Pies) and is\n",
    "generally supported by teams that need to break players out of shells. Teams tend to dislike Feedback and Solar Eclipses\n",
    "as it can kill or trade players they like. Strategically, Peanuts is the worst as it causes a player to lose on average\n",
    "1 star in each category OR completely remove them from games until they are unshelled."
   ]
  },
  {
   "cell_type": "markdown",
   "metadata": {},
   "source": [
    "___\n",
    "# Blessings"
   ]
  },
  {
   "cell_type": "markdown",
   "metadata": {},
   "source": [
    "## Eat me, Drink me\n",
    "**A random player on your team becomes BIG. Increased Power, Max Vibe. Decreased Baserunning.**\n",
    "\n",
    "~Random~. This is identical to the Mushroom without being an item. Power is a combination of `musclitude` and `divinity`\n",
    "which would increase triples & home runs. Pies generally have low baserunning and high power already."
   ]
  },
  {
   "cell_type": "markdown",
   "metadata": {},
   "source": [
    "## Credit to the Team\n",
    "**The worst player on your team will earn 5x payouts for Idol Pendants.**\n",
    "\n",
    "The current worst player on the team is below. Having a player be the target of idol board shenanigans has gone poorly in the\n",
    "past (see York Silk in a peanut)."
   ]
  },
  {
   "cell_type": "code",
   "execution_count": null,
   "metadata": {
    "pycharm": {
     "name": "#%%\n"
    }
   },
   "outputs": [],
   "source": [
    "get_stars(sort_overall(pies, 1, order=\"worst\"))"
   ]
  },
  {
   "cell_type": "markdown",
   "metadata": {},
   "source": [
    "## Secret Weapon\n",
    "**Maximize a random Pitcher in your Shadows.**\n",
    "\n",
    "Random. The pitcher Shadows is the bullpen, a list of which can be found below. Just maximizing a player is somewhat\n",
    "useless unless we also get a blessing to add them to our rotation."
   ]
  },
  {
   "cell_type": "code",
   "execution_count": null,
   "metadata": {
    "pycharm": {
     "name": "#%%\n"
    }
   },
   "outputs": [],
   "source": [
    "# Stars\n",
    "get_stars(pies.bullpen)"
   ]
  },
  {
   "cell_type": "code",
   "execution_count": null,
   "metadata": {
    "pycharm": {
     "name": "#%%\n"
    }
   },
   "outputs": [],
   "source": [
    "# Pitching stlats\n",
    "get_pitching_stlats(pies.bullpen)"
   ]
  },
  {
   "cell_type": "markdown",
   "metadata": {},
   "source": [
    "## Grab and Smash\n",
    "**Steal a Hitter from another Team's Shadows.**\n",
    "\n",
    "The hitter Shadows is the bench. This would likely replace our worst batter, found below. Below is a graph of all the\n",
    "possible batters in division opponent benches sorted by number of stars. Previous seasons have taken the best player\n",
    "from the Shadows, but that’s a sample size of 1 so it’s hard to tell if it was just luck."
   ]
  },
  {
   "cell_type": "code",
   "execution_count": null,
   "metadata": {
    "pycharm": {
     "name": "#%%\n"
    }
   },
   "outputs": [],
   "source": [
    "# Will replace this Pies player:\n",
    "get_stars(sort_lineup(pies, 1, order=\"worst\"))"
   ]
  },
  {
   "cell_type": "code",
   "execution_count": null,
   "metadata": {
    "pycharm": {
     "name": "#%%\n"
    }
   },
   "outputs": [],
   "source": [
    "gs_bat, gs_base, gs_def = grab_and_smash(pies)\n",
    "\n",
    "# Batting Stars\n",
    "plot = Plot(title=\"Grab and Smash - Batting\", xLabel=\"Batting Stars\", yLabel=\"Number of Shadows Players\")\n",
    "plot.add(Bars(y=gs_bat[\"Total\"], x=gs_bat.index, width=0.4))"
   ]
  },
  {
   "cell_type": "code",
   "execution_count": null,
   "metadata": {
    "pycharm": {
     "name": "#%%\n"
    }
   },
   "outputs": [],
   "source": [
    "# Baserunning Stars\n",
    "plot = Plot(title=\"Grab and Smash - Baserunning\", xLabel=\"Baserunning Stars\", yLabel=\"Number of Shadows Players\")\n",
    "plot.add(Bars(y=gs_base[\"Total\"], x=gs_base.index, width=0.4))"
   ]
  },
  {
   "cell_type": "code",
   "execution_count": null,
   "metadata": {
    "pycharm": {
     "name": "#%%\n"
    }
   },
   "outputs": [],
   "source": [
    "# Defense Stars\n",
    "plot = Plot(title=\"Grab and Smash - Defense\", xLabel=\"Defense Stars\", yLabel=\"Number of Shadows Players\")\n",
    "plot.add(Bars(y=gs_def[\"Total\"], x=gs_def.index, width=0.4))"
   ]
  },
  {
   "cell_type": "markdown",
   "metadata": {},
   "source": [
    "## Out of Sight\n",
    "**Send your 2 Worst Pitchers to the Shadows and call up your First 2 Relievers.**\n",
    "\n",
    "See below for comparison between existing pitchers and their replacements."
   ]
  },
  {
   "cell_type": "code",
   "execution_count": null,
   "metadata": {
    "pycharm": {
     "name": "#%%\n"
    }
   },
   "outputs": [],
   "source": [
    "OOS_old = sort_rotation(pies, 2)\n",
    "OOS_new = pies.bullpen[0:2]"
   ]
  },
  {
   "cell_type": "code",
   "execution_count": null,
   "metadata": {
    "pycharm": {
     "name": "#%%\n"
    }
   },
   "outputs": [],
   "source": [
    "# Star Comparison\n",
    "table = TableDisplay(get_stars(OOS_old + OOS_new))\n",
    "table = set_heatmap(table, maxVal=5)\n",
    "table"
   ]
  },
  {
   "cell_type": "code",
   "execution_count": null,
   "metadata": {
    "pycharm": {
     "name": "#%%\n"
    }
   },
   "outputs": [],
   "source": [
    "# Pitching Stlat Comparison\n",
    "table = TableDisplay(get_pitching_stlats(OOS_old + OOS_new))\n",
    "table = set_heatmap(table, maxVal=1)\n",
    "table"
   ]
  },
  {
   "cell_type": "markdown",
   "metadata": {},
   "source": [
    "## Disappearing Acts\n",
    "**Send your Worst 3 Hitters to the Shadows and call up the first 3 Shadows Hitters.**\n",
    "\n",
    "See below for comparison between existing batters and their replacements.\n"
   ]
  },
  {
   "cell_type": "code",
   "execution_count": null,
   "metadata": {
    "pycharm": {
     "name": "#%%\n"
    }
   },
   "outputs": [],
   "source": [
    "DA_old = sort_lineup(pies, 3)\n",
    "DA_new = pies.bench[0:3]"
   ]
  },
  {
   "cell_type": "code",
   "execution_count": null,
   "metadata": {
    "pycharm": {
     "name": "#%%\n"
    }
   },
   "outputs": [],
   "source": [
    "# Star Comparison\n",
    "table = TableDisplay(get_stars(DA_old + DA_new))\n",
    "table = set_heatmap(table, maxVal=5)\n",
    "table"
   ]
  },
  {
   "cell_type": "code",
   "execution_count": null,
   "metadata": {
    "pycharm": {
     "name": "#%%\n"
    }
   },
   "outputs": [],
   "source": [
    "# Batting Stlat Comparison\n",
    "table = TableDisplay(get_batting_stlats(DA_old + DA_new))\n",
    "table = set_heatmap(table, maxVal=1)\n",
    "table"
   ]
  },
  {
   "cell_type": "markdown",
   "metadata": {
    "pycharm": {
     "name": "#%% md\n"
    }
   },
   "source": [
    "## Feel the Love\n",
    "**Give your Team Love Blood Type.**\n",
    "\n",
    "Currently Love Blood does not have an in-game impact. It will probably gain a gameplay mechanic once the blessing is\n",
    "passed, but this is currently unknown."
   ]
  },
  {
   "cell_type": "markdown",
   "metadata": {
    "pycharm": {
     "name": "#%% md\n"
    }
   },
   "source": [
    "## Hot Sauce Bar\n",
    "**Help yourselves. A player on each team in your Division gets Spicy.**\n",
    "\n",
    "Spicy gives a player improved batting if they get 3 hits in a row, which lasts until they get out at-bat again\n",
    "(strikeout, fly or ground out). Pies batting is strong but not generally known for consistency."
   ]
  },
  {
   "cell_type": "markdown",
   "metadata": {},
   "source": [
    "## Fifth Base Bubble\n",
    "**Give all of the teams not in your Division the Fifth Base.**\n",
    "\n",
    "Exact impact unknown. A Fifth base is generally bad for teams that have weak baserunning and hitting."
   ]
  },
  {
   "cell_type": "markdown",
   "metadata": {},
   "source": [
    "## The Shame Bubble\n",
    "**Give all of the teams not in your Division Targeted Shame.**\n",
    "\n",
    "We had this in Season 8, not sure how much of an impact it made for us specifically."
   ]
  },
  {
   "cell_type": "markdown",
   "metadata": {},
   "source": [
    "## Tag Team Pitching\n",
    "**Improve your team's pitching by 10%. The last place team in the opposite subleague also gets +10% team pitching.**\n",
    "\n",
    "See below for analysis."
   ]
  },
  {
   "cell_type": "code",
   "execution_count": null,
   "metadata": {
    "pycharm": {
     "name": "#%%\n"
    }
   },
   "outputs": [],
   "source": [
    "# Pies Improvement\n",
    "table, total, avg = improve_team_pitching_pandas(pies, 0.10)\n",
    "print(\"Change in Total stars: \" + str(total[\"change_in_pitching_stars\"]))\n",
    "print(\"Change in Average stars: \" + str(avg[\"change_in_pitching_stars\"]))\n",
    "table"
   ]
  },
  {
   "cell_type": "code",
   "execution_count": null,
   "metadata": {},
   "outputs": [],
   "source": [
    "# Opponent Improvement\n",
    "tacos = Team.load_by_name(\"Tacos\")\n",
    "table, total, avg = improve_team_pitching_pandas(tacos, 0.10)\n",
    "print(\"Change in Total stars: \" + str(total[\"change_in_pitching_stars\"]))\n",
    "print(\"Change in Average stars: \" + str(avg[\"change_in_pitching_stars\"]))\n",
    "table"
   ]
  },
  {
   "cell_type": "markdown",
   "metadata": {},
   "source": [
    "## Tag Team Hitting\n",
    "**Improve your team's hitting by 10%. The last place team in the opposite subleague also gets +10% team hitting.**\n",
    "\n",
    "See below for analysis."
   ]
  },
  {
   "cell_type": "code",
   "execution_count": null,
   "metadata": {
    "pycharm": {
     "name": "#%%\n"
    }
   },
   "outputs": [],
   "source": [
    "# Pies Improvement\n",
    "table, total, avg = improve_team_batting_pandas(pies, 0.10)\n",
    "print(\"Change in Total stars: \" + str(total[\"change_in_batting_stars\"]))\n",
    "print(\"Change in Average stars: \" + str(avg[\"change_in_batting_stars\"]))\n",
    "table"
   ]
  },
  {
   "cell_type": "code",
   "execution_count": null,
   "metadata": {},
   "outputs": [],
   "source": [
    "# Opponent Improvement\n",
    "tacos = Team.load_by_name(\"Tacos\")\n",
    "table, total, avg = improve_team_batting_pandas(tacos, 0.10)\n",
    "print(\"Change in Total stars: \" + str(total[\"change_in_batting_stars\"]))\n",
    "print(\"Change in Average stars: \" + str(avg[\"change_in_batting_stars\"]))\n",
    "table"
   ]
  },
  {
   "cell_type": "markdown",
   "metadata": {},
   "source": [
    "## Kill Your Darling\n",
    "**Incinerate the Most Idolized Player on your Team.**\n",
    "\n",
    "Hey.\n",
    "\n",
    "Don’t."
   ]
  },
  {
   "cell_type": "markdown",
   "metadata": {
    "pycharm": {
     "name": "#%% md\n"
    }
   },
   "source": [
    "## Dead Weight\n",
    "**Incinerate the Worst Player on Your Team.**\n",
    "\n",
    "See below for analysis. The sliders will adjust the Batting, Pitching, Baserunning, and Defense stars of the randomly generated player. They start at the statistically average generated player."
   ]
  },
  {
   "cell_type": "code",
   "execution_count": null,
   "metadata": {
    "pycharm": {
     "name": "#%%\n"
    }
   },
   "outputs": [],
   "source": [
    "dead_weight_form = player_gen_UI(\"Dead Weight Replacement Player\", tag_name=\"dead_weight\")\n",
    "dead_weight_form"
   ]
  },
  {
   "cell_type": "code",
   "execution_count": null,
   "metadata": {},
   "outputs": [],
   "source": [
    "# Would replace the following Pie\n",
    "worst_player = sort_overall(pies, num=1)[0]\n",
    "get_stars(worst_player)"
   ]
  },
  {
   "cell_type": "code",
   "execution_count": null,
   "metadata": {
    "tags": [
     "dead_weight"
    ]
   },
   "outputs": [],
   "source": [
    "# Change in team average stars\n",
    "pandas.DataFrame(replace_player(pies, worst_player, dead_weight_form[\"batting\"], dead_weight_form[\"pitching\"], dead_weight_form[\"baserunning\"], dead_weight_form[\"defense\"])).transpose()"
   ]
  },
  {
   "cell_type": "markdown",
   "metadata": {},
   "source": [
    "## New Kid\n",
    "**Incinerate the Least Idolized Player on your Team.**\n",
    "\n",
    "Cannot currently know who the least-idolized player on the team is. With correct organization could be used as a\n",
    "controlled incineration for one of our bad players."
   ]
  },
  {
   "cell_type": "markdown",
   "metadata": {
    "pycharm": {
     "name": "#%% md\n"
    }
   },
   "source": [
    "## Boatload of Tiny Eggs\n",
    "**Fans of your team receive a big barrel of peanuts.**\n",
    "\n",
    "Peanuts would be used for the Hall of Flame ratings. Amount of peanuts in a “boatload” is unknown; last season’s\n",
    "blessing was 10K."
   ]
  },
  {
   "cell_type": "markdown",
   "metadata": {
    "pycharm": {
     "name": "#%% md\n"
    }
   },
   "source": [
    "## New Recruit\n",
    "**Recruit a rookie to be an extra player in your lineup.**\n",
    "\n",
    "This would cause the existing players to bat less, which means we would need to get a reroll of over our team average\n",
    "to not lose total team stars. See below for analysis. The sliders will adjust the Batting, Pitching, Baserunning, and Defense stars of the randomly generated player. They start at the statistically average generated player."
   ]
  },
  {
   "cell_type": "code",
   "execution_count": null,
   "metadata": {
    "pycharm": {
     "name": "#%%\n"
    }
   },
   "outputs": [],
   "source": [
    "new_recruit_form = player_gen_UI(\"New Recruit Player\", tag_name=\"new_recruit\")\n",
    "new_recruit_form"
   ]
  },
  {
   "cell_type": "code",
   "execution_count": null,
   "metadata": {
    "pycharm": {
     "name": "#%%\n"
    },
    "tags": [
     "new_recruit"
    ]
   },
   "outputs": [],
   "source": [
    "# Change in team average stars\n",
    "pandas.DataFrame(add_player(pies, new_recruit_form[\"batting\"], new_recruit_form[\"baserunning\"], new_recruit_form[\"defense\"])).transpose()"
   ]
  },
  {
   "cell_type": "markdown",
   "metadata": {
    "pycharm": {
     "name": "#%% md\n"
    }
   },
   "source": [
    "## Downsizing\n",
    "**Remove the worst player from your lineup. Your lineup is now shorter.**\n",
    "\n",
    "See below for analysis"
   ]
  },
  {
   "cell_type": "code",
   "execution_count": null,
   "metadata": {
    "pycharm": {
     "name": "#%%\n"
    }
   },
   "outputs": [],
   "source": [
    "# Would replace the following Pie\n",
    "worst_lineup = sort_lineup(pies, num=1)[0]\n",
    "get_stars(worst_lineup)"
   ]
  },
  {
   "cell_type": "code",
   "execution_count": null,
   "metadata": {
    "pycharm": {
     "name": "#%%\n"
    }
   },
   "outputs": [],
   "source": [
    "# Change in team average stars\n",
    "pandas.DataFrame(remove_player(pies, worst_lineup)).transpose()"
   ]
  },
  {
   "cell_type": "markdown",
   "metadata": {},
   "source": [
    "## Fishing Net\n",
    "**Item. Max Out Defense for a random player on your team.**\n",
    "\n",
    "Random. Overall Pies defense is decent and improving it for one player will likely not be a large change."
   ]
  },
  {
   "cell_type": "markdown",
   "metadata": {},
   "source": [
    "## Mutually Arising\n",
    "**Improve your entire division by 2%**\n",
    "\n",
    "See below for analysis"
   ]
  },
  {
   "cell_type": "code",
   "execution_count": null,
   "metadata": {
    "pycharm": {
     "name": "#%%\n"
    }
   },
   "outputs": [],
   "source": [
    "# Compute team average stars\n",
    "mild_low = Division.load_by_name(\"Mild Low\")\n",
    "mutual_arise = DataFrame()\n",
    "for team in mild_low.teams.values():\n",
    "    _, _, average = improve_team_overall_pandas(team, 0.02)\n",
    "    average = average.rename(team.nickname)\n",
    "    mutual_arise = mutual_arise.append(average)\n",
    "mutual_arise.transpose()"
   ]
  },
  {
   "cell_type": "markdown",
   "metadata": {
    "pycharm": {
     "name": "#%% md\n"
    }
   },
   "source": [
    "# Appendix\n",
    "* [Description of Attributes](https://www.blaseball.wiki/w/FK:Player_Attributes)\n",
    "\n"
   ]
  }
 ],
 "metadata": {
  "kernelspec": {
   "display_name": "Python 3",
   "language": "python",
   "name": "python3"
  },
  "language_info": {
   "codemirror_mode": {
    "name": "ipython",
    "version": 3
   },
   "file_extension": ".py",
   "mimetype": "text/x-python",
   "name": "python",
   "nbconvert_exporter": "python",
   "pygments_lexer": "ipython3",
   "version": "3.8.5"
  },
  "toc": {
   "base_numbering": 1,
   "nav_menu": {},
   "number_sections": false,
   "sideBar": true,
   "skip_h1_title": false,
   "title_cell": "Table of Contents",
   "title_sidebar": "Table of Contents",
   "toc_cell": false,
   "toc_position": {},
   "toc_section_display": true,
   "toc_window_display": false
  }
 },
 "nbformat": 4,
 "nbformat_minor": 1
}