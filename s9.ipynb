{
 "cells": [
  {
   "cell_type": "markdown",
   "metadata": {
    "collapsed": true,
    "pycharm": {
     "name": "#%% md\n"
    }
   },
   "source": [
    "# Season 9 Election Notes\n",
    "\n",
    ">**FORBIDDEN KNOWLEDGE WARNING**\n",
    ">\n",
    ">This document contains some information that is not currently present on the main site and may be considered spoilers.\n",
    ">Continue at your own discretion. Some information in this document cannot be shared on the Discord without spoiler tags.\n",
    "\n",
    "Last updated Season ??, Day ??"
   ]
  },
  {
   "cell_type": "code",
   "execution_count": 76,
   "metadata": {
    "pycharm": {
     "name": "#%%\n"
    }
   },
   "outputs": [],
   "source": [
    "%matplotlib inline\n",
    "import matplotlib.pyplot as plot\n",
    "from display import *\n",
    "from blessings import *\n",
    "\n",
    "pies = Team.load_by_name(\"Philly Pies\")"
   ]
  },
  {
   "cell_type": "markdown",
   "source": [
    "---\n",
    "# Decrees\n"
   ],
   "metadata": {
    "collapsed": false,
    "pycharm": {
     "name": "#%% md\n"
    }
   }
  },
  {
   "cell_type": "markdown",
   "metadata": {
    "pycharm": {
     "name": "#%% md\n"
    }
   },
   "source": [
    "All Decrees are “Forecast: X” where X is a pre-existing weather. Each weather has a small chance for specific effects on\n",
    "the game, for reference:\n",
    "* Solar Eclipses cause Incinerations.\n",
    "* Peanuts cause yummy/allergic peanut reactions (±20% to all stats) as well as giant falling peanuts that can shell\n",
    "  players mid-game.\n",
    "* Birds cause batters to occasionally ~~get out in the middle of their at-bat~~ (removed due to bugs), and is the only\n",
    "  known way to break Shelled players free.\n",
    "* Feedback causes players to swap teams.\n",
    "* Reverb can either shuffle the lineup, rotation, or whole team order. It can also cause a player to become\n",
    "  Reverberating, which permanently gives them a chance to bat twice in a row.\n",
    "* Blooddrain causes players to drain a specific stat (10%) from a player on the other team.\n",
    "\n",
    "3 Decrees will pass at the end of the election. It is unknown how these decrees will affect the weather, but it is\n",
    "believed that the 3 chosen weathers will be the only weathers available for the next season.\n",
    "\n",
    "Birds is an obvious benefit for us due to our Affinity for Crows (50% better batting/pitching for the Pies) and is\n",
    "generally supported by teams that need to break players out of shells. Teams tend to dislike Feedback and Solar Eclipses\n",
    "as it can kill or trade players they like. Strategically, Peanuts is the worst as it causes a player to lose on average\n",
    "1 star in each category OR completely remove them from games until they are unshelled."
   ]
  },
  {
   "cell_type": "code",
   "execution_count": 77,
   "outputs": [
    {
     "data": {
      "text/plain": "               weather_count  weather_percent\nFeedback                 408        40.157480\nBlooddrain               199        19.586614\nBirds                    188        18.503937\nPeanuts                  112        11.023622\nReverb                    56         5.511811\nSolar Eclipse             53         5.216535",
      "text/html": "<div>\n<style scoped>\n    .dataframe tbody tr th:only-of-type {\n        vertical-align: middle;\n    }\n\n    .dataframe tbody tr th {\n        vertical-align: top;\n    }\n\n    .dataframe thead th {\n        text-align: right;\n    }\n</style>\n<table border=\"1\" class=\"dataframe\">\n  <thead>\n    <tr style=\"text-align: right;\">\n      <th></th>\n      <th>weather_count</th>\n      <th>weather_percent</th>\n    </tr>\n  </thead>\n  <tbody>\n    <tr>\n      <th>Feedback</th>\n      <td>408</td>\n      <td>40.157480</td>\n    </tr>\n    <tr>\n      <th>Blooddrain</th>\n      <td>199</td>\n      <td>19.586614</td>\n    </tr>\n    <tr>\n      <th>Birds</th>\n      <td>188</td>\n      <td>18.503937</td>\n    </tr>\n    <tr>\n      <th>Peanuts</th>\n      <td>112</td>\n      <td>11.023622</td>\n    </tr>\n    <tr>\n      <th>Reverb</th>\n      <td>56</td>\n      <td>5.511811</td>\n    </tr>\n    <tr>\n      <th>Solar Eclipse</th>\n      <td>53</td>\n      <td>5.216535</td>\n    </tr>\n  </tbody>\n</table>\n</div>"
     },
     "execution_count": 77,
     "metadata": {},
     "output_type": "execute_result"
    }
   ],
   "source": [
    "# Number of times certain weather occurred last season\n",
    "games = Game.load_by_season(season=8)\n",
    "weathers = pandas.Series([x.weather.text for x in games.values()])\n",
    "table = pandas.DataFrame(weathers.value_counts(), columns=[\"weather_count\"])\n",
    "table[\"weather_percent\"] = (table[\"weather_count\"]/len(games))*100\n",
    "table"
   ],
   "metadata": {
    "collapsed": false,
    "pycharm": {
     "name": "#%%\n"
    }
   }
  },
  {
   "cell_type": "markdown",
   "metadata": {},
   "source": [
    "___\n",
    "# Blessings"
   ]
  },
  {
   "cell_type": "markdown",
   "metadata": {},
   "source": [
    "## Eat me, Drink me\n",
    "**A random player on your team becomes BIG. Increased Power, Max Vibe. Decreased Baserunning.**\n",
    "\n",
    "Random. This is identical to the Mushroom without being an item. Power is a combination of `musclitude` and `divinity`\n",
    "which would increase triples & home runs."
   ]
  },
  {
   "cell_type": "code",
   "execution_count": 78,
   "outputs": [
    {
     "data": {
      "text/plain": "                 old_batting_stars  old_baserunning_stars  new_batting_stars  \\\nEduardo Woodman           4.165300               3.519368           5.276781   \nBeasley Day               2.695709               2.470609           3.948781   \nFarrell Seagull           2.030782               2.708760           3.748635   \nJaxon Buckley             5.579461               3.263785           6.903130   \nLang Richardson           2.914378               3.241335           4.356126   \nYusef Puddles             2.147811               2.817447           3.738244   \nJode Preston              4.238300               3.687356           5.266336   \n\n                 new_baserunning_stars  change_in_batting_stars  \\\nEduardo Woodman               1.490168                 1.111481   \nBeasley Day                   0.173211                 1.253072   \nFarrell Seagull               0.592069                 1.717854   \nJaxon Buckley                 1.092542                 1.323668   \nLang Richardson               0.876060                 1.441748   \nYusef Puddles                 0.645564                 1.590433   \nJode Preston                  1.397140                 1.028036   \n\n                 change_in_baserunning_stars  \nEduardo Woodman                    -2.029199  \nBeasley Day                        -2.297399  \nFarrell Seagull                    -2.116691  \nJaxon Buckley                      -2.171244  \nLang Richardson                    -2.365274  \nYusef Puddles                      -2.171884  \nJode Preston                       -2.290216  ",
      "text/html": "<div>\n<style scoped>\n    .dataframe tbody tr th:only-of-type {\n        vertical-align: middle;\n    }\n\n    .dataframe tbody tr th {\n        vertical-align: top;\n    }\n\n    .dataframe thead th {\n        text-align: right;\n    }\n</style>\n<table border=\"1\" class=\"dataframe\">\n  <thead>\n    <tr style=\"text-align: right;\">\n      <th></th>\n      <th>old_batting_stars</th>\n      <th>old_baserunning_stars</th>\n      <th>new_batting_stars</th>\n      <th>new_baserunning_stars</th>\n      <th>change_in_batting_stars</th>\n      <th>change_in_baserunning_stars</th>\n    </tr>\n  </thead>\n  <tbody>\n    <tr>\n      <th>Eduardo Woodman</th>\n      <td>4.165300</td>\n      <td>3.519368</td>\n      <td>5.276781</td>\n      <td>1.490168</td>\n      <td>1.111481</td>\n      <td>-2.029199</td>\n    </tr>\n    <tr>\n      <th>Beasley Day</th>\n      <td>2.695709</td>\n      <td>2.470609</td>\n      <td>3.948781</td>\n      <td>0.173211</td>\n      <td>1.253072</td>\n      <td>-2.297399</td>\n    </tr>\n    <tr>\n      <th>Farrell Seagull</th>\n      <td>2.030782</td>\n      <td>2.708760</td>\n      <td>3.748635</td>\n      <td>0.592069</td>\n      <td>1.717854</td>\n      <td>-2.116691</td>\n    </tr>\n    <tr>\n      <th>Jaxon Buckley</th>\n      <td>5.579461</td>\n      <td>3.263785</td>\n      <td>6.903130</td>\n      <td>1.092542</td>\n      <td>1.323668</td>\n      <td>-2.171244</td>\n    </tr>\n    <tr>\n      <th>Lang Richardson</th>\n      <td>2.914378</td>\n      <td>3.241335</td>\n      <td>4.356126</td>\n      <td>0.876060</td>\n      <td>1.441748</td>\n      <td>-2.365274</td>\n    </tr>\n    <tr>\n      <th>Yusef Puddles</th>\n      <td>2.147811</td>\n      <td>2.817447</td>\n      <td>3.738244</td>\n      <td>0.645564</td>\n      <td>1.590433</td>\n      <td>-2.171884</td>\n    </tr>\n    <tr>\n      <th>Jode Preston</th>\n      <td>4.238300</td>\n      <td>3.687356</td>\n      <td>5.266336</td>\n      <td>1.397140</td>\n      <td>1.028036</td>\n      <td>-2.290216</td>\n    </tr>\n  </tbody>\n</table>\n</div>"
     },
     "execution_count": 78,
     "metadata": {},
     "output_type": "execute_result"
    }
   ],
   "source": [
    "# Possible change in Pies players\n",
    "eat_and_drink, _, _= make_team_big_pandas(pies)\n",
    "eat_and_drink"
   ],
   "metadata": {
    "collapsed": false,
    "pycharm": {
     "name": "#%%\n"
    }
   }
  },
  {
   "cell_type": "markdown",
   "metadata": {},
   "source": [
    "## Credit to the Team\n",
    "**The worst player on your team will earn 5x payouts for Idol Pendants.**\n",
    "\n",
    "The current worst player on the team is below. Having a player be the target of idol board shenanigans has gone poorly\n",
    "in the past (see York Silk in a peanut)."
   ]
  },
  {
   "cell_type": "code",
   "execution_count": 79,
   "metadata": {
    "pycharm": {
     "name": "#%%\n"
    }
   },
   "outputs": [
    {
     "data": {
      "text/plain": "                  Batting  Pitching  Baserunning  Defense\nBright Zimmerman      3.5       1.5          1.0      3.0",
      "text/html": "<div>\n<style scoped>\n    .dataframe tbody tr th:only-of-type {\n        vertical-align: middle;\n    }\n\n    .dataframe tbody tr th {\n        vertical-align: top;\n    }\n\n    .dataframe thead th {\n        text-align: right;\n    }\n</style>\n<table border=\"1\" class=\"dataframe\">\n  <thead>\n    <tr style=\"text-align: right;\">\n      <th></th>\n      <th>Batting</th>\n      <th>Pitching</th>\n      <th>Baserunning</th>\n      <th>Defense</th>\n    </tr>\n  </thead>\n  <tbody>\n    <tr>\n      <th>Bright Zimmerman</th>\n      <td>3.5</td>\n      <td>1.5</td>\n      <td>1.0</td>\n      <td>3.0</td>\n    </tr>\n  </tbody>\n</table>\n</div>"
     },
     "execution_count": 79,
     "metadata": {},
     "output_type": "execute_result"
    }
   ],
   "source": [
    "get_stars(sort_overall(pies, 1, order=\"worst\"))"
   ]
  },
  {
   "cell_type": "markdown",
   "metadata": {},
   "source": [
    "## Secret Weapon\n",
    "**Maximize a random Pitcher in your Shadows.**\n",
    "\n",
    "Random. The pitcher Shadows is the bullpen, a list of which can be found below. Just maximizing a player is somewhat\n",
    "useless unless we also get a blessing to add them to our rotation."
   ]
  },
  {
   "cell_type": "code",
   "execution_count": 80,
   "metadata": {
    "pycharm": {
     "name": "#%%\n"
    }
   },
   "outputs": [
    {
     "data": {
      "text/plain": "                    Batting  Pitching  Baserunning  Defense\nCastillo Logan          2.0       3.0          2.5      3.0\nBambi Perez             1.5       0.5          2.5      3.0\nJesús Rodriguez         1.5       1.5          2.5      1.5\nJefferson Delacruz      3.0       0.5          3.5      4.0\nCase Lancaster          0.0       3.5          2.0      3.0\nHaruta Byrd             3.5       2.5          2.5      1.5\nJavier Lotus            3.5       1.0          3.5      4.0\nTiana Takahashi         1.0       3.0          2.5      3.0",
      "text/html": "<div>\n<style scoped>\n    .dataframe tbody tr th:only-of-type {\n        vertical-align: middle;\n    }\n\n    .dataframe tbody tr th {\n        vertical-align: top;\n    }\n\n    .dataframe thead th {\n        text-align: right;\n    }\n</style>\n<table border=\"1\" class=\"dataframe\">\n  <thead>\n    <tr style=\"text-align: right;\">\n      <th></th>\n      <th>Batting</th>\n      <th>Pitching</th>\n      <th>Baserunning</th>\n      <th>Defense</th>\n    </tr>\n  </thead>\n  <tbody>\n    <tr>\n      <th>Castillo Logan</th>\n      <td>2.0</td>\n      <td>3.0</td>\n      <td>2.5</td>\n      <td>3.0</td>\n    </tr>\n    <tr>\n      <th>Bambi Perez</th>\n      <td>1.5</td>\n      <td>0.5</td>\n      <td>2.5</td>\n      <td>3.0</td>\n    </tr>\n    <tr>\n      <th>Jesús Rodriguez</th>\n      <td>1.5</td>\n      <td>1.5</td>\n      <td>2.5</td>\n      <td>1.5</td>\n    </tr>\n    <tr>\n      <th>Jefferson Delacruz</th>\n      <td>3.0</td>\n      <td>0.5</td>\n      <td>3.5</td>\n      <td>4.0</td>\n    </tr>\n    <tr>\n      <th>Case Lancaster</th>\n      <td>0.0</td>\n      <td>3.5</td>\n      <td>2.0</td>\n      <td>3.0</td>\n    </tr>\n    <tr>\n      <th>Haruta Byrd</th>\n      <td>3.5</td>\n      <td>2.5</td>\n      <td>2.5</td>\n      <td>1.5</td>\n    </tr>\n    <tr>\n      <th>Javier Lotus</th>\n      <td>3.5</td>\n      <td>1.0</td>\n      <td>3.5</td>\n      <td>4.0</td>\n    </tr>\n    <tr>\n      <th>Tiana Takahashi</th>\n      <td>1.0</td>\n      <td>3.0</td>\n      <td>2.5</td>\n      <td>3.0</td>\n    </tr>\n  </tbody>\n</table>\n</div>"
     },
     "execution_count": 80,
     "metadata": {},
     "output_type": "execute_result"
    }
   ],
   "source": [
    "# Bullpen Stars\n",
    "get_stars(pies.bullpen)"
   ]
  },
  {
   "cell_type": "code",
   "execution_count": 81,
   "metadata": {
    "pycharm": {
     "name": "#%%\n"
    }
   },
   "outputs": [
    {
     "data": {
      "text/plain": "<pandas.io.formats.style.Styler at 0x1fcfc16b3a0>",
      "text/html": "<style  type=\"text/css\" >\n#T_f51bf_row0_col0,#T_f51bf_row7_col1{\n            background-color:  #097940;\n            color:  #f1f1f1;\n        }#T_f51bf_row0_col1,#T_f51bf_row2_col1{\n            background-color:  #b1de71;\n            color:  #000000;\n        }#T_f51bf_row0_col2{\n            background-color:  #ea5739;\n            color:  #000000;\n        }#T_f51bf_row0_col3{\n            background-color:  #016a38;\n            color:  #f1f1f1;\n        }#T_f51bf_row0_col4{\n            background-color:  #d22b27;\n            color:  #f1f1f1;\n        }#T_f51bf_row0_col5{\n            background-color:  #f7814c;\n            color:  #000000;\n        }#T_f51bf_row1_col0{\n            background-color:  #ad0826;\n            color:  #f1f1f1;\n        }#T_f51bf_row1_col1{\n            background-color:  #fff8b4;\n            color:  #000000;\n        }#T_f51bf_row1_col2{\n            background-color:  #fb9d59;\n            color:  #000000;\n        }#T_f51bf_row1_col3{\n            background-color:  #e54e35;\n            color:  #000000;\n        }#T_f51bf_row1_col4{\n            background-color:  #dff293;\n            color:  #000000;\n        }#T_f51bf_row1_col5{\n            background-color:  #da362a;\n            color:  #f1f1f1;\n        }#T_f51bf_row2_col0,#T_f51bf_row4_col2,#T_f51bf_row5_col2{\n            background-color:  #f16640;\n            color:  #000000;\n        }#T_f51bf_row2_col2{\n            background-color:  #fba35c;\n            color:  #000000;\n        }#T_f51bf_row2_col3,#T_f51bf_row3_col1{\n            background-color:  #ef633f;\n            color:  #000000;\n        }#T_f51bf_row2_col4{\n            background-color:  #fedc88;\n            color:  #000000;\n        }#T_f51bf_row2_col5{\n            background-color:  #5db961;\n            color:  #000000;\n        }#T_f51bf_row3_col0{\n            background-color:  #f47044;\n            color:  #000000;\n        }#T_f51bf_row3_col2{\n            background-color:  #feda86;\n            color:  #000000;\n        }#T_f51bf_row3_col3{\n            background-color:  #a70226;\n            color:  #f1f1f1;\n        }#T_f51bf_row3_col4,#T_f51bf_row5_col1{\n            background-color:  #addc6f;\n            color:  #000000;\n        }#T_f51bf_row3_col5{\n            background-color:  #d42d27;\n            color:  #f1f1f1;\n        }#T_f51bf_row4_col0{\n            background-color:  #33a456;\n            color:  #000000;\n        }#T_f51bf_row4_col1{\n            background-color:  #4eb15d;\n            color:  #000000;\n        }#T_f51bf_row4_col3{\n            background-color:  #51b35e;\n            color:  #000000;\n        }#T_f51bf_row4_col4{\n            background-color:  #30a356;\n            color:  #000000;\n        }#T_f51bf_row4_col5{\n            background-color:  #ce2827;\n            color:  #f1f1f1;\n        }#T_f51bf_row5_col0{\n            background-color:  #89cc67;\n            color:  #000000;\n        }#T_f51bf_row5_col3{\n            background-color:  #d7ee8a;\n            color:  #000000;\n        }#T_f51bf_row5_col4{\n            background-color:  #82c966;\n            color:  #000000;\n        }#T_f51bf_row5_col5{\n            background-color:  #fecc7b;\n            color:  #000000;\n        }#T_f51bf_row6_col0{\n            background-color:  #d93429;\n            color:  #f1f1f1;\n        }#T_f51bf_row6_col1,#T_f51bf_row6_col2{\n            background-color:  #fa9b58;\n            color:  #000000;\n        }#T_f51bf_row6_col3{\n            background-color:  #66bd63;\n            color:  #000000;\n        }#T_f51bf_row6_col4{\n            background-color:  #fffcba;\n            color:  #000000;\n        }#T_f51bf_row6_col5{\n            background-color:  #cdea83;\n            color:  #000000;\n        }#T_f51bf_row7_col0{\n            background-color:  #17934e;\n            color:  #000000;\n        }#T_f51bf_row7_col2{\n            background-color:  #9bd469;\n            color:  #000000;\n        }#T_f51bf_row7_col3{\n            background-color:  #b30d26;\n            color:  #f1f1f1;\n        }#T_f51bf_row7_col4{\n            background-color:  #daf08d;\n            color:  #000000;\n        }#T_f51bf_row7_col5{\n            background-color:  #0d8044;\n            color:  #f1f1f1;\n        }</style><table id=\"T_f51bf_\" ><thead>    <tr>        <th class=\"blank level0\" ></th>        <th class=\"col_heading level0 col0\" >Unthwackability</th>        <th class=\"col_heading level0 col1\" >Ruthlessness</th>        <th class=\"col_heading level0 col2\" >Overpowerment</th>        <th class=\"col_heading level0 col3\" >Shakespearianism</th>        <th class=\"col_heading level0 col4\" >Coldness</th>        <th class=\"col_heading level0 col5\" >Suppression</th>    </tr></thead><tbody>\n                <tr>\n                        <th id=\"T_f51bf_level0_row0\" class=\"row_heading level0 row0\" >Castillo Logan</th>\n                        <td id=\"T_f51bf_row0_col0\" class=\"data row0 col0\" >0.962056</td>\n                        <td id=\"T_f51bf_row0_col1\" class=\"data row0 col1\" >0.679044</td>\n                        <td id=\"T_f51bf_row0_col2\" class=\"data row0 col2\" >0.166984</td>\n                        <td id=\"T_f51bf_row0_col3\" class=\"data row0 col3\" >0.994242</td>\n                        <td id=\"T_f51bf_row0_col4\" class=\"data row0 col4\" >0.090067</td>\n                        <td id=\"T_f51bf_row0_col5\" class=\"data row0 col5\" >0.230832</td>\n            </tr>\n            <tr>\n                        <th id=\"T_f51bf_level0_row1\" class=\"row_heading level0 row1\" >Bambi Perez</th>\n                        <td id=\"T_f51bf_row1_col0\" class=\"data row1 col0\" >0.018422</td>\n                        <td id=\"T_f51bf_row1_col1\" class=\"data row1 col1\" >0.478632</td>\n                        <td id=\"T_f51bf_row1_col2\" class=\"data row1 col2\" >0.274202</td>\n                        <td id=\"T_f51bf_row1_col3\" class=\"data row1 col3\" >0.151506</td>\n                        <td id=\"T_f51bf_row1_col4\" class=\"data row1 col4\" >0.582147</td>\n                        <td id=\"T_f51bf_row1_col5\" class=\"data row1 col5\" >0.110881</td>\n            </tr>\n            <tr>\n                        <th id=\"T_f51bf_level0_row2\" class=\"row_heading level0 row2\" >Jesús Rodriguez</th>\n                        <td id=\"T_f51bf_row2_col0\" class=\"data row2 col0\" >0.191237</td>\n                        <td id=\"T_f51bf_row2_col1\" class=\"data row2 col1\" >0.679646</td>\n                        <td id=\"T_f51bf_row2_col2\" class=\"data row2 col2\" >0.284989</td>\n                        <td id=\"T_f51bf_row2_col3\" class=\"data row2 col3\" >0.186662</td>\n                        <td id=\"T_f51bf_row2_col4\" class=\"data row2 col4\" >0.391038</td>\n                        <td id=\"T_f51bf_row2_col5\" class=\"data row2 col5\" >0.808921</td>\n            </tr>\n            <tr>\n                        <th id=\"T_f51bf_level0_row3\" class=\"row_heading level0 row3\" >Jefferson Delacruz</th>\n                        <td id=\"T_f51bf_row3_col0\" class=\"data row3 col0\" >0.205741</td>\n                        <td id=\"T_f51bf_row3_col1\" class=\"data row3 col1\" >0.185705</td>\n                        <td id=\"T_f51bf_row3_col2\" class=\"data row3 col2\" >0.386775</td>\n                        <td id=\"T_f51bf_row3_col3\" class=\"data row3 col3\" >0.004881</td>\n                        <td id=\"T_f51bf_row3_col4\" class=\"data row3 col4\" >0.683663</td>\n                        <td id=\"T_f51bf_row3_col5\" class=\"data row3 col5\" >0.097056</td>\n            </tr>\n            <tr>\n                        <th id=\"T_f51bf_level0_row4\" class=\"row_heading level0 row4\" >Case Lancaster</th>\n                        <td id=\"T_f51bf_row4_col0\" class=\"data row4 col0\" >0.867044</td>\n                        <td id=\"T_f51bf_row4_col1\" class=\"data row4 col1\" >0.829197</td>\n                        <td id=\"T_f51bf_row4_col2\" class=\"data row4 col2\" >0.190119</td>\n                        <td id=\"T_f51bf_row4_col3\" class=\"data row4 col3\" >0.825333</td>\n                        <td id=\"T_f51bf_row4_col4\" class=\"data row4 col4\" >0.868251</td>\n                        <td id=\"T_f51bf_row4_col5\" class=\"data row4 col5\" >0.082117</td>\n            </tr>\n            <tr>\n                        <th id=\"T_f51bf_level0_row5\" class=\"row_heading level0 row5\" >Haruta Byrd</th>\n                        <td id=\"T_f51bf_row5_col0\" class=\"data row5 col0\" >0.746009</td>\n                        <td id=\"T_f51bf_row5_col1\" class=\"data row5 col1\" >0.684712</td>\n                        <td id=\"T_f51bf_row5_col2\" class=\"data row5 col2\" >0.189109</td>\n                        <td id=\"T_f51bf_row5_col3\" class=\"data row5 col3\" >0.602043</td>\n                        <td id=\"T_f51bf_row5_col4\" class=\"data row5 col4\" >0.755252</td>\n                        <td id=\"T_f51bf_row5_col5\" class=\"data row5 col5\" >0.360515</td>\n            </tr>\n            <tr>\n                        <th id=\"T_f51bf_level0_row6\" class=\"row_heading level0 row6\" >Javier Lotus</th>\n                        <td id=\"T_f51bf_row6_col0\" class=\"data row6 col0\" >0.107195</td>\n                        <td id=\"T_f51bf_row6_col1\" class=\"data row6 col1\" >0.270303</td>\n                        <td id=\"T_f51bf_row6_col2\" class=\"data row6 col2\" >0.270723</td>\n                        <td id=\"T_f51bf_row6_col3\" class=\"data row6 col3\" >0.798413</td>\n                        <td id=\"T_f51bf_row6_col4\" class=\"data row6 col4\" >0.489265</td>\n                        <td id=\"T_f51bf_row6_col5\" class=\"data row6 col5\" >0.621886</td>\n            </tr>\n            <tr>\n                        <th id=\"T_f51bf_level0_row7\" class=\"row_heading level0 row7\" >Tiana Takahashi</th>\n                        <td id=\"T_f51bf_row7_col0\" class=\"data row7 col0\" >0.910065</td>\n                        <td id=\"T_f51bf_row7_col1\" class=\"data row7 col1\" >0.961592</td>\n                        <td id=\"T_f51bf_row7_col2\" class=\"data row7 col2\" >0.716677</td>\n                        <td id=\"T_f51bf_row7_col3\" class=\"data row7 col3\" >0.028954</td>\n                        <td id=\"T_f51bf_row7_col4\" class=\"data row7 col4\" >0.596122</td>\n                        <td id=\"T_f51bf_row7_col5\" class=\"data row7 col5\" >0.945940</td>\n            </tr>\n    </tbody></table>"
     },
     "execution_count": 81,
     "metadata": {},
     "output_type": "execute_result"
    }
   ],
   "source": [
    "# Bullpen pitching stlats\n",
    "table = get_pitching_stlats(pies.bullpen)\n",
    "set_heatmap(table, maxVal=1)"
   ]
  },
  {
   "cell_type": "markdown",
   "metadata": {},
   "source": [
    "## Grab and Smash\n",
    "**Steal a Hitter from another Team's Shadows.**\n",
    "\n",
    "The hitter Shadows is the bench. This would likely replace our worst batter, found below. Below is a graph of all the\n",
    "possible batters in division opponent benches, sorted by number of stars. Previous seasons have selected a random team,\n",
    "then taken the best player from those Shadows, but that’s a sample size of 1 so it’s hard to tell if it was just luck."
   ]
  },
  {
   "cell_type": "code",
   "execution_count": 82,
   "metadata": {
    "pycharm": {
     "name": "#%%\n"
    }
   },
   "outputs": [
    {
     "data": {
      "text/plain": "                 Batting  Pitching  Baserunning  Defense\nFarrell Seagull      2.0       2.0          2.5      1.5",
      "text/html": "<div>\n<style scoped>\n    .dataframe tbody tr th:only-of-type {\n        vertical-align: middle;\n    }\n\n    .dataframe tbody tr th {\n        vertical-align: top;\n    }\n\n    .dataframe thead th {\n        text-align: right;\n    }\n</style>\n<table border=\"1\" class=\"dataframe\">\n  <thead>\n    <tr style=\"text-align: right;\">\n      <th></th>\n      <th>Batting</th>\n      <th>Pitching</th>\n      <th>Baserunning</th>\n      <th>Defense</th>\n    </tr>\n  </thead>\n  <tbody>\n    <tr>\n      <th>Farrell Seagull</th>\n      <td>2.0</td>\n      <td>2.0</td>\n      <td>2.5</td>\n      <td>1.5</td>\n    </tr>\n  </tbody>\n</table>\n</div>"
     },
     "execution_count": 82,
     "metadata": {},
     "output_type": "execute_result"
    }
   ],
   "source": [
    "# Will replace this Pies player:\n",
    "get_stars(sort_lineup(pies, 1, order=\"worst\"))"
   ]
  },
  {
   "cell_type": "code",
   "execution_count": 83,
   "metadata": {
    "pycharm": {
     "name": "#%%\n"
    }
   },
   "outputs": [
    {
     "data": {
      "text/plain": "<Figure size 864x216 with 3 Axes>",
      "image/png": "[encoded data removed]"
     },
     "metadata": {
      "needs_background": "light"
     },
     "output_type": "display_data"
    }
   ],
   "source": [
    "gs_bat, gs_base, gs_def = grab_and_smash(pies)\n",
    "\n",
    "# Plot star changes\n",
    "fig, axs = plot.subplots(1, 3, figsize=(12,3))\n",
    "axs[0].bar(gs_bat.index, gs_bat[\"Total\"], width=0.4)\n",
    "axs[0].set_xlabel(\"Batting Stars\")\n",
    "axs[0].set_ylabel(\"Number of Shadows Players\")\n",
    "axs[1].bar(gs_base.index, gs_base[\"Total\"], width=0.4)\n",
    "axs[1].set_xlabel(\"Baserunning Stars\")\n",
    "axs[2].bar(gs_def.index, gs_def[\"Total\"], width=0.4)\n",
    "axs[2].set_xlabel(\"Defense Stars\")\n",
    "fig.suptitle(\"Grab and Smash\")\n",
    "plot.show()"
   ]
  },
  {
   "cell_type": "markdown",
   "metadata": {},
   "source": [
    "## Out of Sight\n",
    "**Send your 2 Worst Pitchers to the Shadows and call up your First 2 Relievers.**\n",
    "\n",
    "See below for comparison between existing pitchers and their replacements."
   ]
  },
  {
   "cell_type": "code",
   "execution_count": 84,
   "metadata": {
    "pycharm": {
     "name": "#%%\n"
    }
   },
   "outputs": [],
   "source": [
    "OOS_old = sort_rotation(pies, 2)\n",
    "OOS_new = pies.bullpen[0:2]"
   ]
  },
  {
   "cell_type": "code",
   "execution_count": 85,
   "metadata": {
    "pycharm": {
     "name": "#%%\n"
    }
   },
   "outputs": [
    {
     "data": {
      "text/plain": "<pandas.io.formats.style.Styler at 0x1fcfc9028b0>",
      "text/html": "<style  type=\"text/css\" >\n#T_6160a_row0_col0,#T_6160a_row1_col3{\n            background-color:  #a5d86a;\n            color:  #000000;\n        }#T_6160a_row0_col1,#T_6160a_row1_col2,#T_6160a_row3_col0{\n            background-color:  #fdad60;\n            color:  #000000;\n        }#T_6160a_row0_col2{\n            background-color:  #f46d43;\n            color:  #000000;\n        }#T_6160a_row0_col3,#T_6160a_row2_col1,#T_6160a_row2_col3,#T_6160a_row3_col3{\n            background-color:  #d9ef8b;\n            color:  #000000;\n        }#T_6160a_row1_col0,#T_6160a_row1_col1,#T_6160a_row2_col0{\n            background-color:  #fee08b;\n            color:  #000000;\n        }#T_6160a_row2_col2,#T_6160a_row3_col2{\n            background-color:  #feffbe;\n            color:  #000000;\n        }#T_6160a_row3_col1{\n            background-color:  #d62f27;\n            color:  #f1f1f1;\n        }</style><table id=\"T_6160a_\" ><thead>    <tr>        <th class=\"blank level0\" ></th>        <th class=\"col_heading level0 col0\" >Batting</th>        <th class=\"col_heading level0 col1\" >Pitching</th>        <th class=\"col_heading level0 col2\" >Baserunning</th>        <th class=\"col_heading level0 col3\" >Defense</th>    </tr></thead><tbody>\n                <tr>\n                        <th id=\"T_6160a_level0_row0\" class=\"row_heading level0 row0\" >Bright Zimmerman</th>\n                        <td id=\"T_6160a_row0_col0\" class=\"data row0 col0\" >3.500000</td>\n                        <td id=\"T_6160a_row0_col1\" class=\"data row0 col1\" >1.500000</td>\n                        <td id=\"T_6160a_row0_col2\" class=\"data row0 col2\" >1.000000</td>\n                        <td id=\"T_6160a_row0_col3\" class=\"data row0 col3\" >3.000000</td>\n            </tr>\n            <tr>\n                        <th id=\"T_6160a_level0_row1\" class=\"row_heading level0 row1\" >Henry Marshallow</th>\n                        <td id=\"T_6160a_row1_col0\" class=\"data row1 col0\" >2.000000</td>\n                        <td id=\"T_6160a_row1_col1\" class=\"data row1 col1\" >2.000000</td>\n                        <td id=\"T_6160a_row1_col2\" class=\"data row1 col2\" >1.500000</td>\n                        <td id=\"T_6160a_row1_col3\" class=\"data row1 col3\" >3.500000</td>\n            </tr>\n            <tr>\n                        <th id=\"T_6160a_level0_row2\" class=\"row_heading level0 row2\" >Castillo Logan</th>\n                        <td id=\"T_6160a_row2_col0\" class=\"data row2 col0\" >2.000000</td>\n                        <td id=\"T_6160a_row2_col1\" class=\"data row2 col1\" >3.000000</td>\n                        <td id=\"T_6160a_row2_col2\" class=\"data row2 col2\" >2.500000</td>\n                        <td id=\"T_6160a_row2_col3\" class=\"data row2 col3\" >3.000000</td>\n            </tr>\n            <tr>\n                        <th id=\"T_6160a_level0_row3\" class=\"row_heading level0 row3\" >Bambi Perez</th>\n                        <td id=\"T_6160a_row3_col0\" class=\"data row3 col0\" >1.500000</td>\n                        <td id=\"T_6160a_row3_col1\" class=\"data row3 col1\" >0.500000</td>\n                        <td id=\"T_6160a_row3_col2\" class=\"data row3 col2\" >2.500000</td>\n                        <td id=\"T_6160a_row3_col3\" class=\"data row3 col3\" >3.000000</td>\n            </tr>\n    </tbody></table>"
     },
     "execution_count": 85,
     "metadata": {},
     "output_type": "execute_result"
    }
   ],
   "source": [
    "# Star Comparison\n",
    "table = get_stars(OOS_old + OOS_new)\n",
    "set_heatmap(table, maxVal=5)"
   ]
  },
  {
   "cell_type": "code",
   "execution_count": 86,
   "metadata": {
    "pycharm": {
     "name": "#%%\n"
    }
   },
   "outputs": [
    {
     "data": {
      "text/plain": "<pandas.io.formats.style.Styler at 0x1fcfe1624c0>",
      "text/html": "<style  type=\"text/css\" >\n#T_6b5c2_row0_col0{\n            background-color:  #f57245;\n            color:  #000000;\n        }#T_6b5c2_row0_col1{\n            background-color:  #fbfdba;\n            color:  #000000;\n        }#T_6b5c2_row0_col2{\n            background-color:  #3ca959;\n            color:  #000000;\n        }#T_6b5c2_row0_col3,#T_6b5c2_row2_col1{\n            background-color:  #b1de71;\n            color:  #000000;\n        }#T_6b5c2_row0_col4{\n            background-color:  #fdaf62;\n            color:  #000000;\n        }#T_6b5c2_row0_col5{\n            background-color:  #30a356;\n            color:  #000000;\n        }#T_6b5c2_row1_col0,#T_6b5c2_row2_col5{\n            background-color:  #f7814c;\n            color:  #000000;\n        }#T_6b5c2_row1_col1{\n            background-color:  #279f53;\n            color:  #000000;\n        }#T_6b5c2_row1_col2{\n            background-color:  #006837;\n            color:  #f1f1f1;\n        }#T_6b5c2_row1_col3{\n            background-color:  #fffbb8;\n            color:  #000000;\n        }#T_6b5c2_row1_col4{\n            background-color:  #e3f399;\n            color:  #000000;\n        }#T_6b5c2_row1_col5{\n            background-color:  #bbe278;\n            color:  #000000;\n        }#T_6b5c2_row2_col0{\n            background-color:  #097940;\n            color:  #f1f1f1;\n        }#T_6b5c2_row2_col2{\n            background-color:  #ea5739;\n            color:  #000000;\n        }#T_6b5c2_row2_col3{\n            background-color:  #016a38;\n            color:  #f1f1f1;\n        }#T_6b5c2_row2_col4{\n            background-color:  #d22b27;\n            color:  #f1f1f1;\n        }#T_6b5c2_row3_col0{\n            background-color:  #ad0826;\n            color:  #f1f1f1;\n        }#T_6b5c2_row3_col1{\n            background-color:  #fff8b4;\n            color:  #000000;\n        }#T_6b5c2_row3_col2{\n            background-color:  #fb9d59;\n            color:  #000000;\n        }#T_6b5c2_row3_col3{\n            background-color:  #e54e35;\n            color:  #000000;\n        }#T_6b5c2_row3_col4{\n            background-color:  #dff293;\n            color:  #000000;\n        }#T_6b5c2_row3_col5{\n            background-color:  #da362a;\n            color:  #f1f1f1;\n        }</style><table id=\"T_6b5c2_\" ><thead>    <tr>        <th class=\"blank level0\" ></th>        <th class=\"col_heading level0 col0\" >Unthwackability</th>        <th class=\"col_heading level0 col1\" >Ruthlessness</th>        <th class=\"col_heading level0 col2\" >Overpowerment</th>        <th class=\"col_heading level0 col3\" >Shakespearianism</th>        <th class=\"col_heading level0 col4\" >Coldness</th>        <th class=\"col_heading level0 col5\" >Suppression</th>    </tr></thead><tbody>\n                <tr>\n                        <th id=\"T_6b5c2_level0_row0\" class=\"row_heading level0 row0\" >Bright Zimmerman</th>\n                        <td id=\"T_6b5c2_row0_col0\" class=\"data row0 col0\" >0.207882</td>\n                        <td id=\"T_6b5c2_row0_col1\" class=\"data row0 col1\" >0.511157</td>\n                        <td id=\"T_6b5c2_row0_col2\" class=\"data row0 col2\" >0.852666</td>\n                        <td id=\"T_6b5c2_row0_col3\" class=\"data row0 col3\" >0.679224</td>\n                        <td id=\"T_6b5c2_row0_col4\" class=\"data row0 col4\" >0.303950</td>\n                        <td id=\"T_6b5c2_row0_col5\" class=\"data row0 col5\" >0.870961</td>\n            </tr>\n            <tr>\n                        <th id=\"T_6b5c2_level0_row1\" class=\"row_heading level0 row1\" >Henry Marshallow</th>\n                        <td id=\"T_6b5c2_row1_col0\" class=\"data row1 col0\" >0.233266</td>\n                        <td id=\"T_6b5c2_row1_col1\" class=\"data row1 col1\" >0.882016</td>\n                        <td id=\"T_6b5c2_row1_col2\" class=\"data row1 col2\" >1.123135</td>\n                        <td id=\"T_6b5c2_row1_col3\" class=\"data row1 col3\" >0.484581</td>\n                        <td id=\"T_6b5c2_row1_col4\" class=\"data row1 col4\" >0.571587</td>\n                        <td id=\"T_6b5c2_row1_col5\" class=\"data row1 col5\" >0.656728</td>\n            </tr>\n            <tr>\n                        <th id=\"T_6b5c2_level0_row2\" class=\"row_heading level0 row2\" >Castillo Logan</th>\n                        <td id=\"T_6b5c2_row2_col0\" class=\"data row2 col0\" >0.962056</td>\n                        <td id=\"T_6b5c2_row2_col1\" class=\"data row2 col1\" >0.679044</td>\n                        <td id=\"T_6b5c2_row2_col2\" class=\"data row2 col2\" >0.166984</td>\n                        <td id=\"T_6b5c2_row2_col3\" class=\"data row2 col3\" >0.994242</td>\n                        <td id=\"T_6b5c2_row2_col4\" class=\"data row2 col4\" >0.090067</td>\n                        <td id=\"T_6b5c2_row2_col5\" class=\"data row2 col5\" >0.230832</td>\n            </tr>\n            <tr>\n                        <th id=\"T_6b5c2_level0_row3\" class=\"row_heading level0 row3\" >Bambi Perez</th>\n                        <td id=\"T_6b5c2_row3_col0\" class=\"data row3 col0\" >0.018422</td>\n                        <td id=\"T_6b5c2_row3_col1\" class=\"data row3 col1\" >0.478632</td>\n                        <td id=\"T_6b5c2_row3_col2\" class=\"data row3 col2\" >0.274202</td>\n                        <td id=\"T_6b5c2_row3_col3\" class=\"data row3 col3\" >0.151506</td>\n                        <td id=\"T_6b5c2_row3_col4\" class=\"data row3 col4\" >0.582147</td>\n                        <td id=\"T_6b5c2_row3_col5\" class=\"data row3 col5\" >0.110881</td>\n            </tr>\n    </tbody></table>"
     },
     "execution_count": 86,
     "metadata": {},
     "output_type": "execute_result"
    }
   ],
   "source": [
    "# Pitching Stlat Comparison\n",
    "table = get_pitching_stlats(OOS_old + OOS_new)\n",
    "set_heatmap(table, maxVal=1)"
   ]
  },
  {
   "cell_type": "markdown",
   "metadata": {},
   "source": [
    "## Disappearing Acts\n",
    "**Send your Worst 3 Hitters to the Shadows and call up the first 3 Shadows Hitters.**\n",
    "\n",
    "See below for comparison between existing batters and their replacements."
   ]
  },
  {
   "cell_type": "code",
   "execution_count": 87,
   "metadata": {
    "pycharm": {
     "name": "#%%\n"
    }
   },
   "outputs": [],
   "source": [
    "DA_old = sort_lineup(pies, 3)\n",
    "DA_new = pies.bench[0:3]"
   ]
  },
  {
   "cell_type": "code",
   "execution_count": 88,
   "metadata": {
    "pycharm": {
     "name": "#%%\n"
    }
   },
   "outputs": [
    {
     "data": {
      "text/plain": "<pandas.io.formats.style.Styler at 0x1fcfc4255e0>",
      "text/html": "<style  type=\"text/css\" >\n#T_37135_row0_col0,#T_37135_row0_col1,#T_37135_row1_col0,#T_37135_row4_col3,#T_37135_row5_col3{\n            background-color:  #fee08b;\n            color:  #000000;\n        }#T_37135_row0_col2,#T_37135_row1_col1,#T_37135_row2_col0,#T_37135_row2_col2,#T_37135_row3_col0,#T_37135_row3_col3{\n            background-color:  #feffbe;\n            color:  #000000;\n        }#T_37135_row0_col3,#T_37135_row2_col1,#T_37135_row2_col3,#T_37135_row5_col0,#T_37135_row5_col1{\n            background-color:  #fdad60;\n            color:  #000000;\n        }#T_37135_row1_col2,#T_37135_row3_col2{\n            background-color:  #d9ef8b;\n            color:  #000000;\n        }#T_37135_row1_col3,#T_37135_row4_col0,#T_37135_row4_col2{\n            background-color:  #a5d86a;\n            color:  #000000;\n        }#T_37135_row3_col1,#T_37135_row4_col1{\n            background-color:  #f46d43;\n            color:  #000000;\n        }#T_37135_row5_col2{\n            background-color:  #66bd63;\n            color:  #000000;\n        }</style><table id=\"T_37135_\" ><thead>    <tr>        <th class=\"blank level0\" ></th>        <th class=\"col_heading level0 col0\" >Batting</th>        <th class=\"col_heading level0 col1\" >Pitching</th>        <th class=\"col_heading level0 col2\" >Baserunning</th>        <th class=\"col_heading level0 col3\" >Defense</th>    </tr></thead><tbody>\n                <tr>\n                        <th id=\"T_37135_level0_row0\" class=\"row_heading level0 row0\" >Farrell Seagull</th>\n                        <td id=\"T_37135_row0_col0\" class=\"data row0 col0\" >2.000000</td>\n                        <td id=\"T_37135_row0_col1\" class=\"data row0 col1\" >2.000000</td>\n                        <td id=\"T_37135_row0_col2\" class=\"data row0 col2\" >2.500000</td>\n                        <td id=\"T_37135_row0_col3\" class=\"data row0 col3\" >1.500000</td>\n            </tr>\n            <tr>\n                        <th id=\"T_37135_level0_row1\" class=\"row_heading level0 row1\" >Yusef Puddles</th>\n                        <td id=\"T_37135_row1_col0\" class=\"data row1 col0\" >2.000000</td>\n                        <td id=\"T_37135_row1_col1\" class=\"data row1 col1\" >2.500000</td>\n                        <td id=\"T_37135_row1_col2\" class=\"data row1 col2\" >3.000000</td>\n                        <td id=\"T_37135_row1_col3\" class=\"data row1 col3\" >3.500000</td>\n            </tr>\n            <tr>\n                        <th id=\"T_37135_level0_row2\" class=\"row_heading level0 row2\" >Beasley Day</th>\n                        <td id=\"T_37135_row2_col0\" class=\"data row2 col0\" >2.500000</td>\n                        <td id=\"T_37135_row2_col1\" class=\"data row2 col1\" >1.500000</td>\n                        <td id=\"T_37135_row2_col2\" class=\"data row2 col2\" >2.500000</td>\n                        <td id=\"T_37135_row2_col3\" class=\"data row2 col3\" >1.500000</td>\n            </tr>\n            <tr>\n                        <th id=\"T_37135_level0_row3\" class=\"row_heading level0 row3\" >Adrian Melon</th>\n                        <td id=\"T_37135_row3_col0\" class=\"data row3 col0\" >2.500000</td>\n                        <td id=\"T_37135_row3_col1\" class=\"data row3 col1\" >1.000000</td>\n                        <td id=\"T_37135_row3_col2\" class=\"data row3 col2\" >3.000000</td>\n                        <td id=\"T_37135_row3_col3\" class=\"data row3 col3\" >2.500000</td>\n            </tr>\n            <tr>\n                        <th id=\"T_37135_level0_row4\" class=\"row_heading level0 row4\" >August Obrien</th>\n                        <td id=\"T_37135_row4_col0\" class=\"data row4 col0\" >3.500000</td>\n                        <td id=\"T_37135_row4_col1\" class=\"data row4 col1\" >1.000000</td>\n                        <td id=\"T_37135_row4_col2\" class=\"data row4 col2\" >3.500000</td>\n                        <td id=\"T_37135_row4_col3\" class=\"data row4 col3\" >2.000000</td>\n            </tr>\n            <tr>\n                        <th id=\"T_37135_level0_row5\" class=\"row_heading level0 row5\" >Mcfarland Vargas</th>\n                        <td id=\"T_37135_row5_col0\" class=\"data row5 col0\" >1.500000</td>\n                        <td id=\"T_37135_row5_col1\" class=\"data row5 col1\" >1.500000</td>\n                        <td id=\"T_37135_row5_col2\" class=\"data row5 col2\" >4.000000</td>\n                        <td id=\"T_37135_row5_col3\" class=\"data row5 col3\" >2.000000</td>\n            </tr>\n    </tbody></table>"
     },
     "execution_count": 88,
     "metadata": {},
     "output_type": "execute_result"
    }
   ],
   "source": [
    "# Star Comparison\n",
    "table = get_stars(DA_old + DA_new)\n",
    "set_heatmap(table, maxVal=5)"
   ]
  },
  {
   "cell_type": "code",
   "execution_count": 89,
   "metadata": {
    "pycharm": {
     "name": "#%%\n"
    }
   },
   "outputs": [
    {
     "data": {
      "text/plain": "<pandas.io.formats.style.Styler at 0x1fcfc151b50>",
      "text/html": "<style  type=\"text/css\" >\n#T_5072c_row0_col0{\n            background-color:  #cdea83;\n            color:  #000000;\n        }#T_5072c_row0_col1{\n            background-color:  #f7844e;\n            color:  #000000;\n        }#T_5072c_row0_col2{\n            background-color:  #c62027;\n            color:  #f1f1f1;\n        }#T_5072c_row0_col3{\n            background-color:  #7ac665;\n            color:  #000000;\n        }#T_5072c_row0_col4{\n            background-color:  #de402e;\n            color:  #f1f1f1;\n            background-color:  #2da155;\n            color:  #000000;\n        }#T_5072c_row0_col5{\n            background-color:  #36a657;\n            color:  #000000;\n        }#T_5072c_row0_col6{\n            background-color:  #b71126;\n            color:  #f1f1f1;\n            background-color:  #097940;\n            color:  #f1f1f1;\n        }#T_5072c_row0_col7{\n            background-color:  #eff8aa;\n            color:  #000000;\n        }#T_5072c_row1_col0,#T_5072c_row1_col7{\n            background-color:  #006837;\n            color:  #f1f1f1;\n        }#T_5072c_row1_col1{\n            background-color:  #ef633f;\n            color:  #000000;\n        }#T_5072c_row1_col2{\n            background-color:  #b3df72;\n            color:  #000000;\n        }#T_5072c_row1_col3{\n            background-color:  #e54e35;\n            color:  #000000;\n        }#T_5072c_row1_col4{\n            background-color:  #c9e881;\n            color:  #000000;\n            background-color:  #fed07e;\n            color:  #000000;\n        }#T_5072c_row1_col5{\n            background-color:  #da362a;\n            color:  #f1f1f1;\n        }#T_5072c_row1_col6{\n            background-color:  #c01a27;\n            color:  #f1f1f1;\n            background-color:  #0e8245;\n            color:  #f1f1f1;\n        }#T_5072c_row2_col0{\n            background-color:  #addc6f;\n            color:  #000000;\n        }#T_5072c_row2_col1{\n            background-color:  #abdb6d;\n            color:  #000000;\n        }#T_5072c_row2_col2{\n            background-color:  #ca2427;\n            color:  #f1f1f1;\n        }#T_5072c_row2_col3{\n            background-color:  #f57245;\n            color:  #000000;\n        }#T_5072c_row2_col4{\n            background-color:  #fff6b0;\n            color:  #000000;\n            background-color:  #f4fab0;\n            color:  #000000;\n        }#T_5072c_row2_col5{\n            background-color:  #f5fbb2;\n            color:  #000000;\n        }#T_5072c_row2_col6,#T_5072c_row3_col6,#T_5072c_row4_col6,#T_5072c_row5_col6{\n            background-color:  #d62f27;\n            color:  #f1f1f1;\n            background-color:  #199750;\n            color:  #000000;\n        }#T_5072c_row2_col7{\n            background-color:  #84ca66;\n            color:  #000000;\n        }#T_5072c_row3_col0{\n            background-color:  #fdaf62;\n            color:  #000000;\n        }#T_5072c_row3_col1{\n            background-color:  #a0d669;\n            color:  #000000;\n        }#T_5072c_row3_col2{\n            background-color:  #0c7f43;\n            color:  #f1f1f1;\n        }#T_5072c_row3_col3{\n            background-color:  #d83128;\n            color:  #f1f1f1;\n        }#T_5072c_row3_col4{\n            background-color:  #fb9d59;\n            color:  #000000;\n            background-color:  #96d268;\n            color:  #000000;\n        }#T_5072c_row3_col5{\n            background-color:  #fdbf6f;\n            color:  #000000;\n        }#T_5072c_row3_col7{\n            background-color:  #eef8a8;\n            color:  #000000;\n        }#T_5072c_row4_col0{\n            background-color:  #c3e67d;\n            color:  #000000;\n        }#T_5072c_row4_col1{\n            background-color:  #128a49;\n            color:  #000000;\n        }#T_5072c_row4_col2{\n            background-color:  #16914d;\n            color:  #000000;\n        }#T_5072c_row4_col3{\n            background-color:  #fffdbc;\n            color:  #000000;\n        }#T_5072c_row4_col4{\n            background-color:  #138c4a;\n            color:  #000000;\n            background-color:  #ca2427;\n            color:  #f1f1f1;\n        }#T_5072c_row4_col5{\n            background-color:  #e9f6a1;\n            color:  #000000;\n        }#T_5072c_row4_col7{\n            background-color:  #fff3ac;\n            color:  #000000;\n        }#T_5072c_row5_col0{\n            background-color:  #db382b;\n            color:  #f1f1f1;\n        }#T_5072c_row5_col1{\n            background-color:  #75c465;\n            color:  #000000;\n        }#T_5072c_row5_col2{\n            background-color:  #fdb163;\n            color:  #000000;\n        }#T_5072c_row5_col3{\n            background-color:  #ec5c3b;\n            color:  #000000;\n        }#T_5072c_row5_col4{\n            background-color:  #04703b;\n            color:  #f1f1f1;\n            background-color:  #ad0826;\n            color:  #f1f1f1;\n        }#T_5072c_row5_col5{\n            background-color:  #fee593;\n            color:  #000000;\n        }#T_5072c_row5_col7{\n            background-color:  #ebf7a3;\n            color:  #000000;\n        }</style><table id=\"T_5072c_\" ><thead>    <tr>        <th class=\"blank level0\" ></th>        <th class=\"col_heading level0 col0\" >Thwackability</th>        <th class=\"col_heading level0 col1\" >Divinity</th>        <th class=\"col_heading level0 col2\" >Musclitude</th>        <th class=\"col_heading level0 col3\" >Moxie</th>        <th class=\"col_heading level0 col4\" >Patheticism</th>        <th class=\"col_heading level0 col5\" >Martyrdom</th>        <th class=\"col_heading level0 col6\" >Tragicness</th>        <th class=\"col_heading level0 col7\" >Buoyancy</th>    </tr></thead><tbody>\n                <tr>\n                        <th id=\"T_5072c_level0_row0\" class=\"row_heading level0 row0\" >Farrell Seagull</th>\n                        <td id=\"T_5072c_row0_col0\" class=\"data row0 col0\" >0.623806</td>\n                        <td id=\"T_5072c_row0_col1\" class=\"data row0 col1\" >0.235514</td>\n                        <td id=\"T_5072c_row0_col2\" class=\"data row0 col2\" >0.069620</td>\n                        <td id=\"T_5072c_row0_col3\" class=\"data row0 col3\" >0.768254</td>\n                        <td id=\"T_5072c_row0_col4\" class=\"data row0 col4\" >0.126134</td>\n                        <td id=\"T_5072c_row0_col5\" class=\"data row0 col5\" >0.860282</td>\n                        <td id=\"T_5072c_row0_col6\" class=\"data row0 col6\" >0.036873</td>\n                        <td id=\"T_5072c_row0_col7\" class=\"data row0 col7\" >0.542776</td>\n            </tr>\n            <tr>\n                        <th id=\"T_5072c_level0_row1\" class=\"row_heading level0 row1\" >Yusef Puddles</th>\n                        <td id=\"T_5072c_row1_col0\" class=\"data row1 col0\" >1.033698</td>\n                        <td id=\"T_5072c_row1_col1\" class=\"data row1 col1\" >0.184577</td>\n                        <td id=\"T_5072c_row1_col2\" class=\"data row1 col2\" >0.675196</td>\n                        <td id=\"T_5072c_row1_col3\" class=\"data row1 col3\" >0.151908</td>\n                        <td id=\"T_5072c_row1_col4\" class=\"data row1 col4\" >0.630778</td>\n                        <td id=\"T_5072c_row1_col5\" class=\"data row1 col5\" >0.110821</td>\n                        <td id=\"T_5072c_row1_col6\" class=\"data row1 col6\" >0.057271</td>\n                        <td id=\"T_5072c_row1_col7\" class=\"data row1 col7\" >1.010015</td>\n            </tr>\n            <tr>\n                        <th id=\"T_5072c_level0_row2\" class=\"row_heading level0 row2\" >Beasley Day</th>\n                        <td id=\"T_5072c_row2_col0\" class=\"data row2 col0\" >0.685000</td>\n                        <td id=\"T_5072c_row2_col1\" class=\"data row2 col1\" >0.688801</td>\n                        <td id=\"T_5072c_row2_col2\" class=\"data row2 col2\" >0.077669</td>\n                        <td id=\"T_5072c_row2_col3\" class=\"data row2 col3\" >0.208479</td>\n                        <td id=\"T_5072c_row2_col4\" class=\"data row2 col4\" >0.468964</td>\n                        <td id=\"T_5072c_row2_col5\" class=\"data row2 col5\" >0.523706</td>\n                        <td id=\"T_5072c_row2_col6\" class=\"data row2 col6\" >0.100000</td>\n                        <td id=\"T_5072c_row2_col7\" class=\"data row2 col7\" >0.753672</td>\n            </tr>\n            <tr>\n                        <th id=\"T_5072c_level0_row3\" class=\"row_heading level0 row3\" >Adrian Melon</th>\n                        <td id=\"T_5072c_row3_col0\" class=\"data row3 col0\" >0.302171</td>\n                        <td id=\"T_5072c_row3_col1\" class=\"data row3 col1\" >0.708122</td>\n                        <td id=\"T_5072c_row3_col2\" class=\"data row3 col2\" >0.951649</td>\n                        <td id=\"T_5072c_row3_col3\" class=\"data row3 col3\" >0.102259</td>\n                        <td id=\"T_5072c_row3_col4\" class=\"data row3 col4\" >0.275678</td>\n                        <td id=\"T_5072c_row3_col5\" class=\"data row3 col5\" >0.332170</td>\n                        <td id=\"T_5072c_row3_col6\" class=\"data row3 col6\" >0.100000</td>\n                        <td id=\"T_5072c_row3_col7\" class=\"data row3 col7\" >0.543764</td>\n            </tr>\n            <tr>\n                        <th id=\"T_5072c_level0_row4\" class=\"row_heading level0 row4\" >August Obrien</th>\n                        <td id=\"T_5072c_row4_col0\" class=\"data row4 col0\" >0.641217</td>\n                        <td id=\"T_5072c_row4_col1\" class=\"data row4 col1\" >0.927569</td>\n                        <td id=\"T_5072c_row4_col2\" class=\"data row4 col2\" >0.913891</td>\n                        <td id=\"T_5072c_row4_col3\" class=\"data row4 col3\" >0.492708</td>\n                        <td id=\"T_5072c_row4_col4\" class=\"data row4 col4\" >0.923854</td>\n                        <td id=\"T_5072c_row4_col5\" class=\"data row4 col5\" >0.556849</td>\n                        <td id=\"T_5072c_row4_col6\" class=\"data row4 col6\" >0.100000</td>\n                        <td id=\"T_5072c_row4_col7\" class=\"data row4 col7\" >0.463958</td>\n            </tr>\n            <tr>\n                        <th id=\"T_5072c_level0_row5\" class=\"row_heading level0 row5\" >Mcfarland Vargas</th>\n                        <td id=\"T_5072c_row5_col0\" class=\"data row5 col0\" >0.117084</td>\n                        <td id=\"T_5072c_row5_col1\" class=\"data row5 col1\" >0.776150</td>\n                        <td id=\"T_5072c_row5_col2\" class=\"data row5 col2\" >0.307714</td>\n                        <td id=\"T_5072c_row5_col3\" class=\"data row5 col3\" >0.175366</td>\n                        <td id=\"T_5072c_row5_col4\" class=\"data row5 col4\" >0.984279</td>\n                        <td id=\"T_5072c_row5_col5\" class=\"data row5 col5\" >0.417832</td>\n                        <td id=\"T_5072c_row5_col6\" class=\"data row5 col6\" >0.100000</td>\n                        <td id=\"T_5072c_row5_col7\" class=\"data row5 col7\" >0.551343</td>\n            </tr>\n    </tbody></table>"
     },
     "execution_count": 89,
     "metadata": {},
     "output_type": "execute_result"
    }
   ],
   "source": [
    "# Batting Stlat Comparison\n",
    "table = get_batting_stlats(DA_old + DA_new)\n",
    "set_heatmap(table, maxVal=1)"
   ]
  },
  {
   "cell_type": "markdown",
   "metadata": {
    "pycharm": {
     "name": "#%% md\n"
    }
   },
   "source": [
    "## Feel the Love\n",
    "**Give your Team Love Blood Type.**\n",
    "\n",
    "Currently Love Blood does not have an in-game impact. It will probably gain a gameplay mechanic once the blessing is\n",
    "passed, but this is currently unknown."
   ]
  },
  {
   "cell_type": "markdown",
   "metadata": {
    "pycharm": {
     "name": "#%% md\n"
    }
   },
   "source": [
    "## Hot Sauce Bar\n",
    "**Help yourselves. A player on each team in your Division gets Spicy.**\n",
    "\n",
    "Spicy gives a player improved batting if they get 3 hits in a row, which lasts until they get out at-bat again\n",
    "(strikeout, fly or ground out). Pies batting is strong but not generally known for consistency."
   ]
  },
  {
   "cell_type": "markdown",
   "metadata": {},
   "source": [
    "## Fifth Base Bubble\n",
    "**Give all of the teams not in your Division the Fifth Base.**\n",
    "\n",
    "Exact impact unknown. A Fifth base is generally bad for teams that have weak baserunning and hitting."
   ]
  },
  {
   "cell_type": "markdown",
   "metadata": {},
   "source": [
    "## The Shame Bubble\n",
    "**Give all of the teams not in your Division Targeted Shame.**\n",
    "\n",
    "We had this in Season 8, not sure how much of an impact it made for us specifically."
   ]
  },
  {
   "cell_type": "markdown",
   "metadata": {},
   "source": [
    "## Tag Team Pitching\n",
    "**Improve your team's pitching by 10%. The last place team in the opposite subleague also gets +10% team pitching.**\n",
    "\n",
    "See below for analysis."
   ]
  },
  {
   "cell_type": "code",
   "execution_count": 90,
   "metadata": {
    "pycharm": {
     "name": "#%%\n"
    }
   },
   "outputs": [
    {
     "name": "stdout",
     "output_type": "stream",
     "text": [
      "Change in Total stars: 2.9647092884055164\n",
      "Change in Average stars: 0.5929418576811033\n"
     ]
    },
    {
     "data": {
      "text/plain": "                  old_pitching_stars  new_pitching_stars  \\\nBright Zimmerman            1.589235            2.156695   \nHenry Marshallow            2.143457            2.771380   \nRuslan Greatness            2.425975            2.974996   \nNicholas Mora               2.832423            3.452093   \nElvis Figueroa              4.748317            5.348954   \n\n                  change_in_pitching_stars  \nBright Zimmerman                  0.567459  \nHenry Marshallow                  0.627923  \nRuslan Greatness                  0.549020  \nNicholas Mora                     0.619670  \nElvis Figueroa                    0.600637  ",
      "text/html": "<div>\n<style scoped>\n    .dataframe tbody tr th:only-of-type {\n        vertical-align: middle;\n    }\n\n    .dataframe tbody tr th {\n        vertical-align: top;\n    }\n\n    .dataframe thead th {\n        text-align: right;\n    }\n</style>\n<table border=\"1\" class=\"dataframe\">\n  <thead>\n    <tr style=\"text-align: right;\">\n      <th></th>\n      <th>old_pitching_stars</th>\n      <th>new_pitching_stars</th>\n      <th>change_in_pitching_stars</th>\n    </tr>\n  </thead>\n  <tbody>\n    <tr>\n      <th>Bright Zimmerman</th>\n      <td>1.589235</td>\n      <td>2.156695</td>\n      <td>0.567459</td>\n    </tr>\n    <tr>\n      <th>Henry Marshallow</th>\n      <td>2.143457</td>\n      <td>2.771380</td>\n      <td>0.627923</td>\n    </tr>\n    <tr>\n      <th>Ruslan Greatness</th>\n      <td>2.425975</td>\n      <td>2.974996</td>\n      <td>0.549020</td>\n    </tr>\n    <tr>\n      <th>Nicholas Mora</th>\n      <td>2.832423</td>\n      <td>3.452093</td>\n      <td>0.619670</td>\n    </tr>\n    <tr>\n      <th>Elvis Figueroa</th>\n      <td>4.748317</td>\n      <td>5.348954</td>\n      <td>0.600637</td>\n    </tr>\n  </tbody>\n</table>\n</div>"
     },
     "execution_count": 90,
     "metadata": {},
     "output_type": "execute_result"
    }
   ],
   "source": [
    "# Pies Improvement\n",
    "table, total, avg = improve_team_pitching_pandas(pies, 0.10)\n",
    "print(\"Change in Total stars: \" + str(total[\"change_in_pitching_stars\"]))\n",
    "print(\"Change in Average stars: \" + str(avg[\"change_in_pitching_stars\"]))\n",
    "table"
   ]
  },
  {
   "cell_type": "code",
   "execution_count": 91,
   "metadata": {},
   "outputs": [
    {
     "name": "stdout",
     "output_type": "stream",
     "text": [
      "Change in Total stars: 1.0774164428102577\n",
      "Change in Average stars: 0.5387082214051289\n"
     ]
    },
    {
     "data": {
      "text/plain": "                old_pitching_stars  new_pitching_stars  \\\nSexton Wheerer            2.482981            3.022747   \nPeanut Bong               0.949309            1.486960   \n\n                change_in_pitching_stars  \nSexton Wheerer                  0.539766  \nPeanut Bong                     0.537650  ",
      "text/html": "<div>\n<style scoped>\n    .dataframe tbody tr th:only-of-type {\n        vertical-align: middle;\n    }\n\n    .dataframe tbody tr th {\n        vertical-align: top;\n    }\n\n    .dataframe thead th {\n        text-align: right;\n    }\n</style>\n<table border=\"1\" class=\"dataframe\">\n  <thead>\n    <tr style=\"text-align: right;\">\n      <th></th>\n      <th>old_pitching_stars</th>\n      <th>new_pitching_stars</th>\n      <th>change_in_pitching_stars</th>\n    </tr>\n  </thead>\n  <tbody>\n    <tr>\n      <th>Sexton Wheerer</th>\n      <td>2.482981</td>\n      <td>3.022747</td>\n      <td>0.539766</td>\n    </tr>\n    <tr>\n      <th>Peanut Bong</th>\n      <td>0.949309</td>\n      <td>1.486960</td>\n      <td>0.537650</td>\n    </tr>\n  </tbody>\n</table>\n</div>"
     },
     "execution_count": 91,
     "metadata": {},
     "output_type": "execute_result"
    }
   ],
   "source": [
    "# Opponent Improvement+\n",
    "tacos = Team.load_by_name(\"Tacos\")\n",
    "table, total, avg = improve_team_pitching_pandas(tacos, 0.10)\n",
    "print(\"Change in Total stars: \" + str(total[\"change_in_pitching_stars\"]))\n",
    "print(\"Change in Average stars: \" + str(avg[\"change_in_pitching_stars\"]))\n",
    "table"
   ]
  },
  {
   "cell_type": "markdown",
   "metadata": {},
   "source": [
    "## Tag Team Hitting\n",
    "**Improve your team's hitting by 10%. The last place team in the opposite subleague also gets +10% team hitting.**\n",
    "\n",
    "See below for analysis."
   ]
  },
  {
   "cell_type": "code",
   "execution_count": 92,
   "metadata": {
    "pycharm": {
     "name": "#%%\n"
    }
   },
   "outputs": [
    {
     "name": "stdout",
     "output_type": "stream",
     "text": [
      "Change in Total stars: 3.7414256749426693\n",
      "Change in Average stars: 0.534489382134667\n"
     ]
    },
    {
     "data": {
      "text/plain": "                 old_batting_stars  new_batting_stars  change_in_batting_stars\nFarrell Seagull           2.030782           2.633148                 0.602366\nYusef Puddles             2.147811           2.778538                 0.630727\nBeasley Day               2.695709           3.291428                 0.595719\nLang Richardson           2.914378           3.423157                 0.508779\nEduardo Woodman           4.165300           4.648604                 0.483305\nJode Preston              4.238300           4.721003                 0.482703\nJaxon Buckley             5.579461           6.017289                 0.437827",
      "text/html": "<div>\n<style scoped>\n    .dataframe tbody tr th:only-of-type {\n        vertical-align: middle;\n    }\n\n    .dataframe tbody tr th {\n        vertical-align: top;\n    }\n\n    .dataframe thead th {\n        text-align: right;\n    }\n</style>\n<table border=\"1\" class=\"dataframe\">\n  <thead>\n    <tr style=\"text-align: right;\">\n      <th></th>\n      <th>old_batting_stars</th>\n      <th>new_batting_stars</th>\n      <th>change_in_batting_stars</th>\n    </tr>\n  </thead>\n  <tbody>\n    <tr>\n      <th>Farrell Seagull</th>\n      <td>2.030782</td>\n      <td>2.633148</td>\n      <td>0.602366</td>\n    </tr>\n    <tr>\n      <th>Yusef Puddles</th>\n      <td>2.147811</td>\n      <td>2.778538</td>\n      <td>0.630727</td>\n    </tr>\n    <tr>\n      <th>Beasley Day</th>\n      <td>2.695709</td>\n      <td>3.291428</td>\n      <td>0.595719</td>\n    </tr>\n    <tr>\n      <th>Lang Richardson</th>\n      <td>2.914378</td>\n      <td>3.423157</td>\n      <td>0.508779</td>\n    </tr>\n    <tr>\n      <th>Eduardo Woodman</th>\n      <td>4.165300</td>\n      <td>4.648604</td>\n      <td>0.483305</td>\n    </tr>\n    <tr>\n      <th>Jode Preston</th>\n      <td>4.238300</td>\n      <td>4.721003</td>\n      <td>0.482703</td>\n    </tr>\n    <tr>\n      <th>Jaxon Buckley</th>\n      <td>5.579461</td>\n      <td>6.017289</td>\n      <td>0.437827</td>\n    </tr>\n  </tbody>\n</table>\n</div>"
     },
     "execution_count": 92,
     "metadata": {},
     "output_type": "execute_result"
    }
   ],
   "source": [
    "# Pies Improvement\n",
    "table, total, avg = improve_team_batting_pandas(pies, 0.10)\n",
    "print(\"Change in Total stars: \" + str(total[\"change_in_batting_stars\"]))\n",
    "print(\"Change in Average stars: \" + str(avg[\"change_in_batting_stars\"]))\n",
    "table"
   ]
  },
  {
   "cell_type": "code",
   "execution_count": 93,
   "metadata": {},
   "outputs": [
    {
     "name": "stdout",
     "output_type": "stream",
     "text": [
      "Change in Total stars: 3.396467525833686\n",
      "Change in Average stars: 0.4852096465476694\n"
     ]
    },
    {
     "data": {
      "text/plain": "                    old_batting_stars  new_batting_stars  \\\nHalexandrey Walton           4.405156           4.856318   \nMcdowell Mason               4.197657           4.681830   \nValentine Games              5.477524           5.928246   \nRat Mason                    3.712751           4.200101   \nBasilio Mason                4.002000           4.482095   \nBasilio Fig                  3.139306           3.650658   \nVito Kravitz                 3.566136           4.097752   \n\n                    change_in_batting_stars  \nHalexandrey Walton                 0.451161  \nMcdowell Mason                     0.484173  \nValentine Games                    0.450722  \nRat Mason                          0.487349  \nBasilio Mason                      0.480095  \nBasilio Fig                        0.511352  \nVito Kravitz                       0.531616  ",
      "text/html": "<div>\n<style scoped>\n    .dataframe tbody tr th:only-of-type {\n        vertical-align: middle;\n    }\n\n    .dataframe tbody tr th {\n        vertical-align: top;\n    }\n\n    .dataframe thead th {\n        text-align: right;\n    }\n</style>\n<table border=\"1\" class=\"dataframe\">\n  <thead>\n    <tr style=\"text-align: right;\">\n      <th></th>\n      <th>old_batting_stars</th>\n      <th>new_batting_stars</th>\n      <th>change_in_batting_stars</th>\n    </tr>\n  </thead>\n  <tbody>\n    <tr>\n      <th>Halexandrey Walton</th>\n      <td>4.405156</td>\n      <td>4.856318</td>\n      <td>0.451161</td>\n    </tr>\n    <tr>\n      <th>Mcdowell Mason</th>\n      <td>4.197657</td>\n      <td>4.681830</td>\n      <td>0.484173</td>\n    </tr>\n    <tr>\n      <th>Valentine Games</th>\n      <td>5.477524</td>\n      <td>5.928246</td>\n      <td>0.450722</td>\n    </tr>\n    <tr>\n      <th>Rat Mason</th>\n      <td>3.712751</td>\n      <td>4.200101</td>\n      <td>0.487349</td>\n    </tr>\n    <tr>\n      <th>Basilio Mason</th>\n      <td>4.002000</td>\n      <td>4.482095</td>\n      <td>0.480095</td>\n    </tr>\n    <tr>\n      <th>Basilio Fig</th>\n      <td>3.139306</td>\n      <td>3.650658</td>\n      <td>0.511352</td>\n    </tr>\n    <tr>\n      <th>Vito Kravitz</th>\n      <td>3.566136</td>\n      <td>4.097752</td>\n      <td>0.531616</td>\n    </tr>\n  </tbody>\n</table>\n</div>"
     },
     "execution_count": 93,
     "metadata": {},
     "output_type": "execute_result"
    }
   ],
   "source": [
    "# Opponent Improvement\n",
    "tacos = Team.load_by_name(\"Tacos\")\n",
    "table, total, avg = improve_team_batting_pandas(tacos, 0.10)\n",
    "print(\"Change in Total stars: \" + str(total[\"change_in_batting_stars\"]))\n",
    "print(\"Change in Average stars: \" + str(avg[\"change_in_batting_stars\"]))\n",
    "table"
   ]
  },
  {
   "cell_type": "markdown",
   "metadata": {},
   "source": [
    "## Kill Your Darling\n",
    "**Incinerate the Most Idolized Player on your Team.**\n",
    "\n",
    "Hey.\n",
    "\n",
    "Don’t."
   ]
  },
  {
   "cell_type": "markdown",
   "metadata": {
    "pycharm": {
     "name": "#%% md\n"
    }
   },
   "source": [
    "## Dead Weight\n",
    "**Incinerate the Worst Player on Your Team.**\n",
    "\n",
    "See below for analysis."
   ]
  },
  {
   "cell_type": "code",
   "execution_count": 94,
   "metadata": {},
   "outputs": [
    {
     "data": {
      "text/plain": "                  Batting  Pitching  Baserunning  Defense\nBright Zimmerman      3.5       1.5          1.0      3.0",
      "text/html": "<div>\n<style scoped>\n    .dataframe tbody tr th:only-of-type {\n        vertical-align: middle;\n    }\n\n    .dataframe tbody tr th {\n        vertical-align: top;\n    }\n\n    .dataframe thead th {\n        text-align: right;\n    }\n</style>\n<table border=\"1\" class=\"dataframe\">\n  <thead>\n    <tr style=\"text-align: right;\">\n      <th></th>\n      <th>Batting</th>\n      <th>Pitching</th>\n      <th>Baserunning</th>\n      <th>Defense</th>\n    </tr>\n  </thead>\n  <tbody>\n    <tr>\n      <th>Bright Zimmerman</th>\n      <td>3.5</td>\n      <td>1.5</td>\n      <td>1.0</td>\n      <td>3.0</td>\n    </tr>\n  </tbody>\n</table>\n</div>"
     },
     "execution_count": 94,
     "metadata": {},
     "output_type": "execute_result"
    }
   ],
   "source": [
    "# Would replace the following Pie\n",
    "worst_player = sort_overall(pies, num=1)[0]\n",
    "get_stars(worst_player)"
   ]
  },
  {
   "cell_type": "code",
   "execution_count": 95,
   "metadata": {
    "tags": [
     "dead_weight"
    ]
   },
   "outputs": [
    {
     "data": {
      "text/plain": "      batting_change  pitching_change  baserunning_change  defense_change\nPies       -0.160714              0.0           -0.071429       -0.041667",
      "text/html": "<div>\n<style scoped>\n    .dataframe tbody tr th:only-of-type {\n        vertical-align: middle;\n    }\n\n    .dataframe tbody tr th {\n        vertical-align: top;\n    }\n\n    .dataframe thead th {\n        text-align: right;\n    }\n</style>\n<table border=\"1\" class=\"dataframe\">\n  <thead>\n    <tr style=\"text-align: right;\">\n      <th></th>\n      <th>batting_change</th>\n      <th>pitching_change</th>\n      <th>baserunning_change</th>\n      <th>defense_change</th>\n    </tr>\n  </thead>\n  <tbody>\n    <tr>\n      <th>Pies</th>\n      <td>-0.160714</td>\n      <td>0.0</td>\n      <td>-0.071429</td>\n      <td>-0.041667</td>\n    </tr>\n  </tbody>\n</table>\n</div>"
     },
     "execution_count": 95,
     "metadata": {},
     "output_type": "execute_result"
    }
   ],
   "source": [
    "# Calculate change in average stars if replaced by the Statistical Median new player\n",
    "batting_stars = NEW_PLAYER[\"batting\"]\n",
    "pitching_stars = NEW_PLAYER[\"pitching\"]\n",
    "baserunning_stars = NEW_PLAYER[\"baserunning\"]\n",
    "defense_stars = NEW_PLAYER[\"defense\"]\n",
    "pandas.DataFrame(replace_player(pies, worst_player, batting_stars, pitching_stars, baserunning_stars, defense_stars)).transpose()"
   ]
  },
  {
   "cell_type": "markdown",
   "metadata": {},
   "source": [
    "## New Kid\n",
    "**Incinerate the Least Idolized Player on your Team.**\n",
    "\n",
    "Cannot currently know who the least-idolized player on the team is. With correct organization could be used as a\n",
    "controlled incineration for one of our bad players."
   ]
  },
  {
   "cell_type": "markdown",
   "metadata": {
    "pycharm": {
     "name": "#%% md\n"
    }
   },
   "source": [
    "## Boatload of Tiny Eggs\n",
    "**Fans of your team receive a big barrel of peanuts.**\n",
    "\n",
    "Peanuts would be used for the Hall of Flame ratings. Amount of peanuts in a “boatload” is unknown; last season’s\n",
    "blessing was 10K."
   ]
  },
  {
   "cell_type": "markdown",
   "metadata": {
    "pycharm": {
     "name": "#%% md\n"
    }
   },
   "source": [
    "## New Recruit\n",
    "**Recruit a rookie to be an extra player in your lineup.**\n",
    "\n",
    "This would cause the existing players to bat less, which means we would need to get a reroll of over our team average\n",
    "to not lose total team stars. See below for analysis."
   ]
  },
  {
   "cell_type": "code",
   "execution_count": 96,
   "metadata": {
    "pycharm": {
     "name": "#%%\n"
    },
    "tags": [
     "new_recruit"
    ]
   },
   "outputs": [
    {
     "data": {
      "text/plain": "      batting_change  baserunning_change  defense_change\nPies       -0.160714           -0.071429       -0.038462",
      "text/html": "<div>\n<style scoped>\n    .dataframe tbody tr th:only-of-type {\n        vertical-align: middle;\n    }\n\n    .dataframe tbody tr th {\n        vertical-align: top;\n    }\n\n    .dataframe thead th {\n        text-align: right;\n    }\n</style>\n<table border=\"1\" class=\"dataframe\">\n  <thead>\n    <tr style=\"text-align: right;\">\n      <th></th>\n      <th>batting_change</th>\n      <th>baserunning_change</th>\n      <th>defense_change</th>\n    </tr>\n  </thead>\n  <tbody>\n    <tr>\n      <th>Pies</th>\n      <td>-0.160714</td>\n      <td>-0.071429</td>\n      <td>-0.038462</td>\n    </tr>\n  </tbody>\n</table>\n</div>"
     },
     "execution_count": 96,
     "metadata": {},
     "output_type": "execute_result"
    }
   ],
   "source": [
    "# Calculate change in average stars if replaced by the Statistical Median new player\n",
    "batting_stars = NEW_PLAYER[\"batting\"]\n",
    "baserunning_stars = NEW_PLAYER[\"baserunning\"]\n",
    "defense_stars = NEW_PLAYER[\"defense\"]\n",
    "pandas.DataFrame(add_player(pies, batting_stars, baserunning_stars, defense_stars)).transpose()"
   ]
  },
  {
   "cell_type": "markdown",
   "metadata": {
    "pycharm": {
     "name": "#%% md\n"
    }
   },
   "source": [
    "## Downsizing\n",
    "**Remove the worst player from your lineup. Your lineup is now shorter.**\n",
    "\n",
    "See below for analysis."
   ]
  },
  {
   "cell_type": "code",
   "execution_count": 97,
   "metadata": {
    "pycharm": {
     "name": "#%%\n"
    }
   },
   "outputs": [
    {
     "data": {
      "text/plain": "                 Batting  Pitching  Baserunning  Defense\nFarrell Seagull      2.0       2.0          2.5      1.5",
      "text/html": "<div>\n<style scoped>\n    .dataframe tbody tr th:only-of-type {\n        vertical-align: middle;\n    }\n\n    .dataframe tbody tr th {\n        vertical-align: top;\n    }\n\n    .dataframe thead th {\n        text-align: right;\n    }\n</style>\n<table border=\"1\" class=\"dataframe\">\n  <thead>\n    <tr style=\"text-align: right;\">\n      <th></th>\n      <th>Batting</th>\n      <th>Pitching</th>\n      <th>Baserunning</th>\n      <th>Defense</th>\n    </tr>\n  </thead>\n  <tbody>\n    <tr>\n      <th>Farrell Seagull</th>\n      <td>2.0</td>\n      <td>2.0</td>\n      <td>2.5</td>\n      <td>1.5</td>\n    </tr>\n  </tbody>\n</table>\n</div>"
     },
     "execution_count": 97,
     "metadata": {},
     "output_type": "execute_result"
    }
   ],
   "source": [
    "# Would replace the following Pie\n",
    "worst_lineup = sort_lineup(pies, num=1)[0]\n",
    "get_stars(worst_lineup)"
   ]
  },
  {
   "cell_type": "code",
   "execution_count": 98,
   "metadata": {
    "pycharm": {
     "name": "#%%\n"
    }
   },
   "outputs": [
    {
     "data": {
      "text/plain": "      batting_change  baserunning_change  defense_change\nPies        0.214286            0.095238        0.136364",
      "text/html": "<div>\n<style scoped>\n    .dataframe tbody tr th:only-of-type {\n        vertical-align: middle;\n    }\n\n    .dataframe tbody tr th {\n        vertical-align: top;\n    }\n\n    .dataframe thead th {\n        text-align: right;\n    }\n</style>\n<table border=\"1\" class=\"dataframe\">\n  <thead>\n    <tr style=\"text-align: right;\">\n      <th></th>\n      <th>batting_change</th>\n      <th>baserunning_change</th>\n      <th>defense_change</th>\n    </tr>\n  </thead>\n  <tbody>\n    <tr>\n      <th>Pies</th>\n      <td>0.214286</td>\n      <td>0.095238</td>\n      <td>0.136364</td>\n    </tr>\n  </tbody>\n</table>\n</div>"
     },
     "execution_count": 98,
     "metadata": {},
     "output_type": "execute_result"
    }
   ],
   "source": [
    "# Change in team average stars\n",
    "pandas.DataFrame(remove_player(pies, worst_lineup)).transpose()"
   ]
  },
  {
   "cell_type": "markdown",
   "metadata": {},
   "source": [
    "## Fishing Net\n",
    "**Item. Max Out Defense for a random player on your team.**\n",
    "\n",
    "Random. Overall Pies defense is decent and improving it for one player will likely not be a large change."
   ]
  },
  {
   "cell_type": "markdown",
   "metadata": {},
   "source": [
    "## Mutually Arising\n",
    "**Improve your entire division by 2%**\n",
    "\n",
    "See below for comparison of average stars per team."
   ]
  },
  {
   "cell_type": "code",
   "execution_count": 99,
   "metadata": {
    "pycharm": {
     "name": "#%%\n"
    }
   },
   "outputs": [
    {
     "data": {
      "text/plain": "                              Fridays  Moist Talkers  Shoe Thieves     Magic  \\\nchange_in_baserunning_stars  0.103051       0.098871      0.110711  0.123203   \nchange_in_batting_stars      0.103051       0.098871      0.110711  0.123203   \nchange_in_defense_stars      0.131723       0.102474      0.182104  0.126009   \nchange_in_pitching_stars     0.119798       0.123980      0.128335  0.123330   \nnew_baserunning_stars        3.136521       2.939038      2.612638  3.310630   \nnew_batting_stars            3.202425       3.815682      3.216632  2.771662   \nnew_defense_stars            3.851479       3.127065      2.960478  3.122423   \nnew_pitching_stars           3.799613       3.320568      2.869091  2.904666   \nold_baserunning_stars        3.029080       2.817704      2.499368  3.193127   \nold_batting_stars            3.099375       3.716810      3.105921  2.648459   \nold_defense_stars            3.739477       2.996904      2.808274  3.011605   \nold_pitching_stars           3.679815       3.196587      2.740756  2.781336   \n\n                             Breath Mints  \nchange_in_baserunning_stars      0.125298  \nchange_in_batting_stars          0.125298  \nchange_in_defense_stars          0.131336  \nchange_in_pitching_stars         0.118703  \nnew_baserunning_stars            3.222779  \nnew_batting_stars                3.277532  \nnew_defense_stars                3.286014  \nnew_pitching_stars               3.243161  \nold_baserunning_stars            3.108839  \nold_batting_stars                3.152234  \nold_defense_stars                3.167136  \nold_pitching_stars               3.124458  ",
      "text/html": "<div>\n<style scoped>\n    .dataframe tbody tr th:only-of-type {\n        vertical-align: middle;\n    }\n\n    .dataframe tbody tr th {\n        vertical-align: top;\n    }\n\n    .dataframe thead th {\n        text-align: right;\n    }\n</style>\n<table border=\"1\" class=\"dataframe\">\n  <thead>\n    <tr style=\"text-align: right;\">\n      <th></th>\n      <th>Fridays</th>\n      <th>Moist Talkers</th>\n      <th>Shoe Thieves</th>\n      <th>Magic</th>\n      <th>Breath Mints</th>\n    </tr>\n  </thead>\n  <tbody>\n    <tr>\n      <th>change_in_baserunning_stars</th>\n      <td>0.103051</td>\n      <td>0.098871</td>\n      <td>0.110711</td>\n      <td>0.123203</td>\n      <td>0.125298</td>\n    </tr>\n    <tr>\n      <th>change_in_batting_stars</th>\n      <td>0.103051</td>\n      <td>0.098871</td>\n      <td>0.110711</td>\n      <td>0.123203</td>\n      <td>0.125298</td>\n    </tr>\n    <tr>\n      <th>change_in_defense_stars</th>\n      <td>0.131723</td>\n      <td>0.102474</td>\n      <td>0.182104</td>\n      <td>0.126009</td>\n      <td>0.131336</td>\n    </tr>\n    <tr>\n      <th>change_in_pitching_stars</th>\n      <td>0.119798</td>\n      <td>0.123980</td>\n      <td>0.128335</td>\n      <td>0.123330</td>\n      <td>0.118703</td>\n    </tr>\n    <tr>\n      <th>new_baserunning_stars</th>\n      <td>3.136521</td>\n      <td>2.939038</td>\n      <td>2.612638</td>\n      <td>3.310630</td>\n      <td>3.222779</td>\n    </tr>\n    <tr>\n      <th>new_batting_stars</th>\n      <td>3.202425</td>\n      <td>3.815682</td>\n      <td>3.216632</td>\n      <td>2.771662</td>\n      <td>3.277532</td>\n    </tr>\n    <tr>\n      <th>new_defense_stars</th>\n      <td>3.851479</td>\n      <td>3.127065</td>\n      <td>2.960478</td>\n      <td>3.122423</td>\n      <td>3.286014</td>\n    </tr>\n    <tr>\n      <th>new_pitching_stars</th>\n      <td>3.799613</td>\n      <td>3.320568</td>\n      <td>2.869091</td>\n      <td>2.904666</td>\n      <td>3.243161</td>\n    </tr>\n    <tr>\n      <th>old_baserunning_stars</th>\n      <td>3.029080</td>\n      <td>2.817704</td>\n      <td>2.499368</td>\n      <td>3.193127</td>\n      <td>3.108839</td>\n    </tr>\n    <tr>\n      <th>old_batting_stars</th>\n      <td>3.099375</td>\n      <td>3.716810</td>\n      <td>3.105921</td>\n      <td>2.648459</td>\n      <td>3.152234</td>\n    </tr>\n    <tr>\n      <th>old_defense_stars</th>\n      <td>3.739477</td>\n      <td>2.996904</td>\n      <td>2.808274</td>\n      <td>3.011605</td>\n      <td>3.167136</td>\n    </tr>\n    <tr>\n      <th>old_pitching_stars</th>\n      <td>3.679815</td>\n      <td>3.196587</td>\n      <td>2.740756</td>\n      <td>2.781336</td>\n      <td>3.124458</td>\n    </tr>\n  </tbody>\n</table>\n</div>"
     },
     "execution_count": 99,
     "metadata": {},
     "output_type": "execute_result"
    }
   ],
   "source": [
    "# Compute team average stars\n",
    "mild_low = Division.load_by_name(\"Mild Low\")\n",
    "mutual_arise = pandas.DataFrame()\n",
    "for team in mild_low.teams.values():\n",
    "    _, _, average = improve_team_overall_pandas(team, 0.02)\n",
    "    average = average.rename(team.nickname)\n",
    "    mutual_arise = mutual_arise.append(average)\n",
    "mutual_arise.transpose()"
   ]
  },
  {
   "cell_type": "code",
   "execution_count": 100,
   "outputs": [
    {
     "data": {
      "text/plain": "<Figure size 720x720 with 4 Axes>",
      "image/png": "[encoded data removed]"
     },
     "metadata": {
      "needs_background": "light"
     },
     "output_type": "display_data"
    }
   ],
   "source": [
    "fig, axs = plot.subplots(2, 2, figsize=(10,10))\n",
    "axs[0][0].bar(mutual_arise.index, mutual_arise[\"change_in_batting_stars\"])\n",
    "axs[0][0].set_ylabel(\"Change in Average Batting Stars\")\n",
    "axs[0][1].bar(mutual_arise.index, mutual_arise[\"change_in_pitching_stars\"])\n",
    "axs[0][1].set_ylabel(\"Change in Average Pitching Stars\")\n",
    "axs[1][0].bar(mutual_arise.index, mutual_arise[\"change_in_baserunning_stars\"])\n",
    "axs[1][0].set_ylabel(\"Change in Average Baserunning Stars\")\n",
    "axs[1][1].bar(mutual_arise.index, mutual_arise[\"change_in_defense_stars\"])\n",
    "axs[1][1].set_ylabel(\"Change in Average Defense Stars\")\n",
    "plot.show()"
   ],
   "metadata": {
    "collapsed": false,
    "pycharm": {
     "name": "#%%\n"
    }
   }
  },
  {
   "cell_type": "markdown",
   "metadata": {
    "pycharm": {
     "name": "#%% md\n"
    }
   },
   "source": [
    "---\n",
    "# Appendix\n",
    "* [Description of Attributes](https://www.blaseball.wiki/w/FK:Player_Attributes)\n",
    "* [Source code for this document](https://github.com/Edgarware/blaseball_notebooks)\n",
    "* [Stlat Viewer](https://slavfox.space/abslve/?foreboding-kaleidoscope#PHIL)\n",
    "* [Historical Player Graphs](yoori.space/hloroscopes/)"
   ]
  }
 ],
 "metadata": {
  "kernelspec": {
   "display_name": "Python 3",
   "language": "python",
   "name": "python3"
  },
  "language_info": {
   "codemirror_mode": {
    "name": "ipython",
    "version": 3
   },
   "file_extension": ".py",
   "mimetype": "text/x-python",
   "name": "python",
   "nbconvert_exporter": "python",
   "pygments_lexer": "ipython3",
   "version": "3.8.5"
  },
  "toc": {
   "base_numbering": 1,
   "nav_menu": {},
   "number_sections": false,
   "sideBar": true,
   "skip_h1_title": false,
   "title_cell": "Table of Contents",
   "title_sidebar": "Table of Contents",
   "toc_cell": false,
   "toc_position": {},
   "toc_section_display": true,
   "toc_window_display": false
  }
 },
 "nbformat": 4,
 "nbformat_minor": 1
}